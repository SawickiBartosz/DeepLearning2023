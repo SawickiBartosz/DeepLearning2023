{
 "cells": [
  {
   "cell_type": "markdown",
   "id": "18f1cbf7-33ad-4847-9ee4-eff602ade5d0",
   "metadata": {
    "tags": []
   },
   "source": [
    "# Load packages"
   ]
  },
  {
   "cell_type": "code",
   "execution_count": 1,
   "id": "ab9013b7-c229-48cc-bece-ed3e8816cf16",
   "metadata": {
    "tags": []
   },
   "outputs": [],
   "source": [
    "import tensorflow as tf\n",
    "import pandas as pd\n",
    "import numpy as np\n",
    "import os\n",
    "\n",
    "from os import path\n",
    "from tensorflow.keras.utils import image_dataset_from_directory\n",
    "from matplotlib import pyplot as plt\n",
    "from tensorflow.keras import layers, losses, optimizers, metrics, callbacks, Model\n",
    "from tensorflow.keras.applications.vgg16 import VGG16, preprocess_input"
   ]
  },
  {
   "cell_type": "code",
   "execution_count": 2,
   "id": "ded1efbb-248c-40d2-9586-beb2c1136ccc",
   "metadata": {
    "collapsed": false,
    "jupyter": {
     "outputs_hidden": false
    }
   },
   "outputs": [
    {
     "data": {
      "text/plain": [
       "[LogicalDevice(name='/device:CPU:0', device_type='CPU'),\n",
       " LogicalDevice(name='/device:GPU:0', device_type='GPU')]"
      ]
     },
     "execution_count": 2,
     "metadata": {},
     "output_type": "execute_result"
    }
   ],
   "source": [
    "tf.config.list_logical_devices()"
   ]
  },
  {
   "cell_type": "code",
   "execution_count": 3,
   "id": "8de61e6b-b2df-4e5e-a76d-ef7c92df26c0",
   "metadata": {},
   "outputs": [
    {
     "data": {
      "text/plain": [
       "'2.10.1'"
      ]
     },
     "execution_count": 3,
     "metadata": {},
     "output_type": "execute_result"
    }
   ],
   "source": [
    "tf.__version__"
   ]
  },
  {
   "cell_type": "code",
   "execution_count": 4,
   "id": "2711c582-d2c6-4cca-b1fc-fad01768ee89",
   "metadata": {
    "collapsed": false,
    "jupyter": {
     "outputs_hidden": false
    }
   },
   "outputs": [],
   "source": [
    "SEED = 123\n",
    "N_CLASS = 10\n",
    "IMG_SIZE = 224"
   ]
  },
  {
   "cell_type": "markdown",
   "id": "286d4670-e649-4247-88d9-02ac3ffd4306",
   "metadata": {},
   "source": [
    "# Load data"
   ]
  },
  {
   "cell_type": "code",
   "execution_count": 5,
   "id": "dd88e69f-2423-452d-b91c-429b0355cbee",
   "metadata": {
    "collapsed": false,
    "jupyter": {
     "outputs_hidden": false
    }
   },
   "outputs": [
    {
     "name": "stdout",
     "output_type": "stream",
     "text": [
      "Found 50000 files belonging to 1 classes.\n"
     ]
    }
   ],
   "source": [
    "dir_path = path.join(os.getcwd(), '..', 'cifar-10', 'train')\n",
    "dataset = image_dataset_from_directory(\n",
    "    directory=dir_path,\n",
    "    label_mode=None,\n",
    "    shuffle=False,\n",
    "    image_size=(IMG_SIZE, IMG_SIZE),\n",
    "    batch_size=128\n",
    ")\n",
    "dataset = dataset.map(lambda x: preprocess_input(x))"
   ]
  },
  {
   "cell_type": "markdown",
   "id": "c026658f-1b5a-41fd-84ea-805036315f09",
   "metadata": {},
   "source": [
    "# VGG Model - initialization"
   ]
  },
  {
   "cell_type": "code",
   "execution_count": 6,
   "id": "abb1850d-9021-4223-b2b0-51814a742f06",
   "metadata": {},
   "outputs": [],
   "source": [
    "os.makedirs(\"weights\", exist_ok=True)"
   ]
  },
  {
   "cell_type": "code",
   "execution_count": 7,
   "id": "570a57a9-6ffe-452d-9e7e-dace48cc1513",
   "metadata": {
    "collapsed": false,
    "jupyter": {
     "outputs_hidden": false
    }
   },
   "outputs": [
    {
     "name": "stdout",
     "output_type": "stream",
     "text": [
      "Model: \"vgg16\"\n",
      "_________________________________________________________________\n",
      " Layer (type)                Output Shape              Param #   \n",
      "=================================================================\n",
      " input_1 (InputLayer)        [(None, 224, 224, 3)]     0         \n",
      "                                                                 \n",
      " block1_conv1 (Conv2D)       (None, 224, 224, 64)      1792      \n",
      "                                                                 \n",
      " block1_conv2 (Conv2D)       (None, 224, 224, 64)      36928     \n",
      "                                                                 \n",
      " block1_pool (MaxPooling2D)  (None, 112, 112, 64)      0         \n",
      "                                                                 \n",
      " block2_conv1 (Conv2D)       (None, 112, 112, 128)     73856     \n",
      "                                                                 \n",
      " block2_conv2 (Conv2D)       (None, 112, 112, 128)     147584    \n",
      "                                                                 \n",
      " block2_pool (MaxPooling2D)  (None, 56, 56, 128)       0         \n",
      "                                                                 \n",
      " block3_conv1 (Conv2D)       (None, 56, 56, 256)       295168    \n",
      "                                                                 \n",
      " block3_conv2 (Conv2D)       (None, 56, 56, 256)       590080    \n",
      "                                                                 \n",
      " block3_conv3 (Conv2D)       (None, 56, 56, 256)       590080    \n",
      "                                                                 \n",
      " block3_pool (MaxPooling2D)  (None, 28, 28, 256)       0         \n",
      "                                                                 \n",
      " block4_conv1 (Conv2D)       (None, 28, 28, 512)       1180160   \n",
      "                                                                 \n",
      " block4_conv2 (Conv2D)       (None, 28, 28, 512)       2359808   \n",
      "                                                                 \n",
      " block4_conv3 (Conv2D)       (None, 28, 28, 512)       2359808   \n",
      "                                                                 \n",
      " block4_pool (MaxPooling2D)  (None, 14, 14, 512)       0         \n",
      "                                                                 \n",
      " block5_conv1 (Conv2D)       (None, 14, 14, 512)       2359808   \n",
      "                                                                 \n",
      " block5_conv2 (Conv2D)       (None, 14, 14, 512)       2359808   \n",
      "                                                                 \n",
      " block5_conv3 (Conv2D)       (None, 14, 14, 512)       2359808   \n",
      "                                                                 \n",
      " block5_pool (MaxPooling2D)  (None, 7, 7, 512)         0         \n",
      "                                                                 \n",
      "=================================================================\n",
      "Total params: 14,714,688\n",
      "Trainable params: 14,714,688\n",
      "Non-trainable params: 0\n",
      "_________________________________________________________________\n"
     ]
    }
   ],
   "source": [
    "vgg = VGG16(include_top=False, input_shape=(224, 224, 3), weights='imagenet')\n",
    "vgg.summary()"
   ]
  },
  {
   "cell_type": "markdown",
   "id": "57ec9deb-c58f-4a27-9df2-35daa275fe65",
   "metadata": {
    "tags": []
   },
   "source": [
    "# VGG - output"
   ]
  },
  {
   "cell_type": "code",
   "execution_count": 8,
   "id": "7004b907-e3d0-4137-a626-beb327a44ab8",
   "metadata": {
    "collapsed": false,
    "jupyter": {
     "outputs_hidden": false
    }
   },
   "outputs": [
    {
     "data": {
      "text/plain": [
       "391"
      ]
     },
     "execution_count": 8,
     "metadata": {},
     "output_type": "execute_result"
    }
   ],
   "source": [
    "outputs = [vgg.predict_on_batch(batch) for batch in dataset]\n",
    "len(outputs)"
   ]
  },
  {
   "cell_type": "code",
   "execution_count": 9,
   "id": "64a9f0d6-733d-433c-a50f-55e9000bc920",
   "metadata": {},
   "outputs": [
    {
     "data": {
      "text/plain": [
       "(50000, 7, 7, 512)"
      ]
     },
     "execution_count": 9,
     "metadata": {},
     "output_type": "execute_result"
    }
   ],
   "source": [
    "outputs = np.concatenate(outputs)\n",
    "outputs.shape"
   ]
  },
  {
   "cell_type": "code",
   "execution_count": 10,
   "id": "28efb5c4-106c-4b88-80e2-ec4649272d54",
   "metadata": {},
   "outputs": [],
   "source": [
    "np.save(\"vgg_output\", outputs)"
   ]
  }
 ],
 "metadata": {
  "kernelspec": {
   "display_name": "Python [conda env:tf]",
   "language": "python",
   "name": "conda-env-tf-py"
  },
  "language_info": {
   "codemirror_mode": {
    "name": "ipython",
    "version": 3
   },
   "file_extension": ".py",
   "mimetype": "text/x-python",
   "name": "python",
   "nbconvert_exporter": "python",
   "pygments_lexer": "ipython3",
   "version": "3.9.16"
  }
 },
 "nbformat": 4,
 "nbformat_minor": 5
}
