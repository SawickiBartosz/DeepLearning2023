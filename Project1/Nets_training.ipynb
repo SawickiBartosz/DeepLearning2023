{
 "cells": [
  {
   "cell_type": "code",
   "execution_count": 1,
   "metadata": {
    "collapsed": true
   },
   "outputs": [],
   "source": [
    "import keras\n",
    "import tensorflow as tf\n",
    "import pandas as pd\n",
    "import os\n",
    "\n",
    "from os import path\n",
    "from keras.utils import image_dataset_from_directory\n",
    "from matplotlib import pyplot as plt\n",
    "from keras import layers, losses, optimizers, metrics"
   ]
  },
  {
   "cell_type": "code",
   "execution_count": 2,
   "outputs": [
    {
     "data": {
      "text/plain": "[LogicalDevice(name='/device:CPU:0', device_type='CPU')]"
     },
     "execution_count": 2,
     "metadata": {},
     "output_type": "execute_result"
    }
   ],
   "source": [
    "tf.config.list_logical_devices()"
   ],
   "metadata": {
    "collapsed": false
   }
  },
  {
   "cell_type": "code",
   "execution_count": 3,
   "outputs": [],
   "source": [
    "SEED = 123\n",
    "N_CLASS = 10"
   ],
   "metadata": {
    "collapsed": false
   }
  },
  {
   "cell_type": "code",
   "execution_count": 4,
   "outputs": [
    {
     "name": "stdout",
     "output_type": "stream",
     "text": [
      "Found 50000 files belonging to 1 classes.\n",
      "Using 35000 files for training.\n",
      "Using 15000 files for validation.\n"
     ]
    }
   ],
   "source": [
    "labels_df = pd.read_csv(path.join(os.getcwd(), 'cifar-10', 'trainLabels.csv'))\n",
    "labels_df.label = pd.Categorical(labels_df.label)\n",
    "labels_df['codes'] = labels_df.label.cat.codes\n",
    "\n",
    "dataset_train, dataset_val = image_dataset_from_directory(\n",
    "    directory=path.join(os.getcwd(), 'cifar-10', 'train'),\n",
    "    labels=list(labels_df['codes']),\n",
    "    label_mode='int',\n",
    "    validation_split=0.3,\n",
    "    shuffle=False,\n",
    "    subset='both',\n",
    "    image_size=(32,32),\n",
    "    batch_size=64,\n",
    "    seed=SEED\n",
    ")\n",
    "dataset_train = dataset_train.map(lambda x, y : (x / 255.0, tf.one_hot(y, N_CLASS)))\n",
    "dataset_val = dataset_val.map(lambda x, y : (x / 255.0, tf.one_hot(y, N_CLASS)))"
   ],
   "metadata": {
    "collapsed": false
   }
  },
  {
   "cell_type": "code",
   "execution_count": 5,
   "outputs": [],
   "source": [
    "X, y = next(iter(dataset_train))"
   ],
   "metadata": {
    "collapsed": false
   }
  },
  {
   "cell_type": "code",
   "execution_count": 6,
   "outputs": [
    {
     "data": {
      "text/plain": "<matplotlib.image.AxesImage at 0x210b400e710>"
     },
     "execution_count": 6,
     "metadata": {},
     "output_type": "execute_result"
    },
    {
     "data": {
      "text/plain": "<Figure size 640x480 with 1 Axes>",
      "image/png": "[encoded data removed]"
     },
     "metadata": {},
     "output_type": "display_data"
    }
   ],
   "source": [
    "plt.imshow(X[3].numpy())"
   ],
   "metadata": {
    "collapsed": false
   }
  },
  {
   "cell_type": "code",
   "execution_count": 7,
   "outputs": [
    {
     "data": {
      "text/plain": "<tf.Tensor: shape=(10,), dtype=float32, numpy=array([0., 0., 0., 0., 1., 0., 0., 0., 0., 0.], dtype=float32)>"
     },
     "execution_count": 7,
     "metadata": {},
     "output_type": "execute_result"
    }
   ],
   "source": [
    "y[3]"
   ],
   "metadata": {
    "collapsed": false
   }
  },
  {
   "cell_type": "markdown",
   "source": [
    "## Simple keras sequential model"
   ],
   "metadata": {
    "collapsed": false
   }
  },
  {
   "cell_type": "code",
   "execution_count": 20,
   "outputs": [
    {
     "name": "stdout",
     "output_type": "stream",
     "text": [
      "Model: \"sequential_3\"\n",
      "_________________________________________________________________\n",
      " Layer (type)                Output Shape              Param #   \n",
      "=================================================================\n",
      " conv2d_12 (Conv2D)          (None, 30, 30, 32)        896       \n",
      "                                                                 \n",
      " conv2d_13 (Conv2D)          (None, 28, 28, 32)        9248      \n",
      "                                                                 \n",
      " max_pooling2d_6 (MaxPooling  (None, 14, 14, 32)       0         \n",
      " 2D)                                                             \n",
      "                                                                 \n",
      " conv2d_14 (Conv2D)          (None, 12, 12, 64)        18496     \n",
      "                                                                 \n",
      " conv2d_15 (Conv2D)          (None, 10, 10, 64)        36928     \n",
      "                                                                 \n",
      " max_pooling2d_7 (MaxPooling  (None, 5, 5, 64)         0         \n",
      " 2D)                                                             \n",
      "                                                                 \n",
      " flatten_3 (Flatten)         (None, 1600)              0         \n",
      "                                                                 \n",
      " dense_6 (Dense)             (None, 512)               819712    \n",
      "                                                                 \n",
      " dense_7 (Dense)             (None, 10)                5130      \n",
      "                                                                 \n",
      "=================================================================\n",
      "Total params: 890,410\n",
      "Trainable params: 890,410\n",
      "Non-trainable params: 0\n",
      "_________________________________________________________________\n"
     ]
    }
   ],
   "source": [
    "model = keras.Sequential()\n",
    "\n",
    "model.add(keras.Input(shape=(32, 32, 3)))\n",
    "\n",
    "model.add(layers.Conv2D(32, 3, activation=\"relu\", kernel_initializer='random_normal', bias_initializer='zeros'))\n",
    "model.add(layers.Conv2D(32, 3, activation=\"relu\", kernel_initializer='random_normal', bias_initializer='zeros'))\n",
    "model.add(layers.MaxPooling2D(2))\n",
    "model.add(layers.Conv2D(64, 3, activation=\"relu\", kernel_initializer='random_normal', bias_initializer='zeros'))\n",
    "model.add(layers.Conv2D(64, 3, activation=\"relu\", kernel_initializer='random_normal', bias_initializer='zeros'))\n",
    "model.add(layers.MaxPooling2D(2))\n",
    "\n",
    "# Fully connected classifier\n",
    "model.add(layers.Flatten())\n",
    "model.add(layers.Dense(512, activation=\"relu\"))\n",
    "model.add(layers.Dense(N_CLASS, activation=\"softmax\"))\n",
    "\n",
    "model.summary()"
   ],
   "metadata": {
    "collapsed": false
   }
  },
  {
   "cell_type": "code",
   "execution_count": 21,
   "outputs": [],
   "source": [
    "model.compile(\n",
    "    optimizer=optimizers.Adam(learning_rate=0.001),\n",
    "    loss=losses.CategoricalCrossentropy(),\n",
    "    metrics=[metrics.CategoricalAccuracy()]\n",
    ")"
   ],
   "metadata": {
    "collapsed": false
   }
  },
  {
   "cell_type": "code",
   "execution_count": 23,
   "outputs": [
    {
     "data": {
      "text/plain": "array([[[[0.23137255, 0.24313726, 0.24705882],\n         [0.16862746, 0.18039216, 0.1764706 ],\n         [0.19607843, 0.1882353 , 0.16862746],\n         ...,\n         [0.61960787, 0.5176471 , 0.42352942],\n         [0.59607846, 0.49019608, 0.4       ],\n         [0.5803922 , 0.4862745 , 0.40392157]],\n\n        [[0.0627451 , 0.07843138, 0.07843138],\n         [0.        , 0.        , 0.        ],\n         [0.07058824, 0.03137255, 0.        ],\n         ...,\n         [0.48235294, 0.34509805, 0.21568628],\n         [0.46666667, 0.3254902 , 0.19607843],\n         [0.47843137, 0.34117648, 0.22352941]],\n\n        [[0.09803922, 0.09411765, 0.08235294],\n         [0.0627451 , 0.02745098, 0.        ],\n         [0.19215687, 0.10588235, 0.03137255],\n         ...,\n         [0.4627451 , 0.32941177, 0.19607843],\n         [0.47058824, 0.32941177, 0.19607843],\n         [0.42745098, 0.28627452, 0.16470589]],\n\n        ...,\n\n        [[0.8156863 , 0.6666667 , 0.3764706 ],\n         [0.7882353 , 0.6       , 0.13333334],\n         [0.7764706 , 0.6313726 , 0.10196079],\n         ...,\n         [0.627451  , 0.52156866, 0.27450982],\n         [0.21960784, 0.12156863, 0.02745098],\n         [0.20784314, 0.13333334, 0.07843138]],\n\n        [[0.7058824 , 0.54509807, 0.3764706 ],\n         [0.6784314 , 0.48235294, 0.16470589],\n         [0.7294118 , 0.5647059 , 0.11764706],\n         ...,\n         [0.72156864, 0.5803922 , 0.36862746],\n         [0.38039216, 0.24313726, 0.13333334],\n         [0.3254902 , 0.20784314, 0.13333334]],\n\n        [[0.69411767, 0.5647059 , 0.45490196],\n         [0.65882355, 0.5058824 , 0.36862746],\n         [0.7019608 , 0.5568628 , 0.34117648],\n         ...,\n         [0.84705883, 0.72156864, 0.54901963],\n         [0.5921569 , 0.4627451 , 0.32941177],\n         [0.48235294, 0.36078432, 0.28235295]]],\n\n\n       [[[0.49019608, 0.49019608, 0.45490196],\n         [0.43137255, 0.39607844, 0.35686275],\n         [0.4       , 0.3529412 , 0.3254902 ],\n         ...,\n         [0.7921569 , 0.8117647 , 0.8392157 ],\n         [0.78431374, 0.8039216 , 0.83137256],\n         [0.7921569 , 0.8156863 , 0.8392157 ]],\n\n        [[0.5568628 , 0.57254905, 0.5568628 ],\n         [0.57254905, 0.5647059 , 0.54509807],\n         [0.6901961 , 0.6745098 , 0.6666667 ],\n         ...,\n         [0.7647059 , 0.7882353 , 0.8039216 ],\n         [0.7764706 , 0.8039216 , 0.81960785],\n         [0.8       , 0.827451  , 0.84313726]],\n\n        [[0.7058824 , 0.7254902 , 0.7176471 ],\n         [0.56078434, 0.57254905, 0.57254905],\n         [0.6117647 , 0.6156863 , 0.6156863 ],\n         ...,\n         [0.47843137, 0.43529412, 0.44313726],\n         [0.54509807, 0.5019608 , 0.5137255 ],\n         [0.61960787, 0.5764706 , 0.5882353 ]],\n\n        ...,\n\n        [[0.40784314, 0.32156864, 0.16078432],\n         [0.39607844, 0.3137255 , 0.15294118],\n         [0.39607844, 0.31764707, 0.14901961],\n         ...,\n         [0.49411765, 0.40392157, 0.2627451 ],\n         [0.49411765, 0.40392157, 0.27058825],\n         [0.49019608, 0.39607844, 0.26666668]],\n\n        [[0.40784314, 0.31764707, 0.15686275],\n         [0.4117647 , 0.32941177, 0.16078432],\n         [0.42745098, 0.34509805, 0.16862746],\n         ...,\n         [0.5411765 , 0.44313726, 0.30588236],\n         [0.5372549 , 0.44313726, 0.3137255 ],\n         [0.5372549 , 0.4392157 , 0.31764707]],\n\n        [[0.4117647 , 0.3254902 , 0.16470589],\n         [0.42352942, 0.34117648, 0.1764706 ],\n         [0.4509804 , 0.36862746, 0.19607843],\n         ...,\n         [0.56078434, 0.45882353, 0.32156864],\n         [0.56078434, 0.45490196, 0.32941177],\n         [0.5647059 , 0.45490196, 0.3372549 ]]],\n\n\n       [[[0.24313726, 0.2509804 , 0.17254902],\n         [0.19607843, 0.19607843, 0.10196079],\n         [0.18039216, 0.17254902, 0.07450981],\n         ...,\n         [0.654902  , 0.6745098 , 0.27058825],\n         [0.7176471 , 0.72156864, 0.29803923],\n         [0.5372549 , 0.53333336, 0.28235295]],\n\n        [[0.24705882, 0.25490198, 0.14509805],\n         [0.21568628, 0.20784314, 0.10196079],\n         [0.20392157, 0.19607843, 0.10588235],\n         ...,\n         [0.6392157 , 0.6627451 , 0.23921569],\n         [0.67058825, 0.68235296, 0.29411766],\n         [0.5686275 , 0.57254905, 0.3019608 ]],\n\n        [[0.22745098, 0.24313726, 0.14117648],\n         [0.2509804 , 0.25882354, 0.14509805],\n         [0.21960784, 0.23529412, 0.14509805],\n         ...,\n         [0.6       , 0.60784316, 0.24313726],\n         [0.5882353 , 0.6039216 , 0.2509804 ],\n         [0.48235294, 0.5019608 , 0.22352941]],\n\n        ...,\n\n        [[0.6745098 , 0.5294118 , 0.3882353 ],\n         [0.56078434, 0.43137255, 0.32941177],\n         [0.50980395, 0.21960784, 0.16470589],\n         ...,\n         [0.36862746, 0.29411766, 0.21960784],\n         [0.5529412 , 0.42352942, 0.3372549 ],\n         [0.54509807, 0.4117647 , 0.31764707]],\n\n        [[0.7176471 , 0.57254905, 0.45882353],\n         [0.5882353 , 0.4627451 , 0.37254903],\n         [0.3137255 , 0.2509804 , 0.17254902],\n         ...,\n         [0.31764707, 0.28235295, 0.23529412],\n         [0.5294118 , 0.4627451 , 0.38431373],\n         [0.56078434, 0.49019608, 0.43137255]],\n\n        [[0.81960785, 0.68235296, 0.5647059 ],\n         [0.7137255 , 0.5921569 , 0.48235294],\n         [0.54509807, 0.42745098, 0.3254902 ],\n         ...,\n         [0.23137255, 0.21176471, 0.18431373],\n         [0.50980395, 0.46666667, 0.43529412],\n         [0.6627451 , 0.6117647 , 0.627451  ]]],\n\n\n       ...,\n\n\n       [[[0.54901963, 0.5764706 , 0.54901963],\n         [0.5686275 , 0.59607846, 0.5686275 ],\n         [0.52156866, 0.54901963, 0.52156866],\n         ...,\n         [0.52156866, 0.56078434, 0.5647059 ],\n         [0.5294118 , 0.5686275 , 0.57254905],\n         [0.49019608, 0.5294118 , 0.53333336]],\n\n        [[0.52156866, 0.54901963, 0.52156866],\n         [0.49803922, 0.5254902 , 0.49803922],\n         [0.43529412, 0.4627451 , 0.43529412],\n         ...,\n         [0.5411765 , 0.5803922 , 0.58431375],\n         [0.5411765 , 0.5803922 , 0.58431375],\n         [0.49803922, 0.5372549 , 0.5411765 ]],\n\n        [[0.52156866, 0.54901963, 0.52156866],\n         [0.45882353, 0.4862745 , 0.45882353],\n         [0.44313726, 0.47058824, 0.44313726],\n         ...,\n         [0.5803922 , 0.61960787, 0.61960787],\n         [0.5372549 , 0.5764706 , 0.5803922 ],\n         [0.5137255 , 0.5529412 , 0.5568628 ]],\n\n        ...,\n\n        [[0.67058825, 0.73333335, 0.7137255 ],\n         [0.67058825, 0.7294118 , 0.70980394],\n         [0.6666667 , 0.7254902 , 0.7058824 ],\n         ...,\n         [0.62352943, 0.6627451 , 0.6666667 ],\n         [0.6313726 , 0.67058825, 0.6745098 ],\n         [0.6431373 , 0.68235296, 0.6862745 ]],\n\n        [[0.6784314 , 0.7058824 , 0.6901961 ],\n         [0.7176471 , 0.74509805, 0.7294118 ],\n         [0.7490196 , 0.7764706 , 0.7607843 ],\n         ...,\n         [0.6509804 , 0.6901961 , 0.69411767],\n         [0.64705884, 0.6862745 , 0.6901961 ],\n         [0.65882355, 0.69803923, 0.7019608 ]],\n\n        [[0.33333334, 0.32156864, 0.30980393],\n         [0.37254903, 0.36078432, 0.34901962],\n         [0.4509804 , 0.4392157 , 0.42745098],\n         ...,\n         [0.73333335, 0.77254903, 0.7764706 ],\n         [0.7019608 , 0.7411765 , 0.74509805],\n         [0.68235296, 0.72156864, 0.7254902 ]]],\n\n\n       [[[0.21568628, 0.25490198, 0.23137255],\n         [0.30588236, 0.35686275, 0.34509805],\n         [0.3529412 , 0.42745098, 0.42352942],\n         ...,\n         [0.7372549 , 0.49019608, 0.21176471],\n         [0.7294118 , 0.49411765, 0.22745098],\n         [0.7490196 , 0.50980395, 0.24705882]],\n\n        [[0.44313726, 0.49803922, 0.4745098 ],\n         [0.46666667, 0.5137255 , 0.49411765],\n         [0.4627451 , 0.5019608 , 0.49803922],\n         ...,\n         [0.78039217, 0.5058824 , 0.2509804 ],\n         [0.75686276, 0.5058824 , 0.25490198],\n         [0.7490196 , 0.5019608 , 0.23137255]],\n\n        [[0.49019608, 0.50980395, 0.5058824 ],\n         [0.5137255 , 0.52156866, 0.45882353],\n         [0.49803922, 0.5019608 , 0.3882353 ],\n         ...,\n         [0.8       , 0.5176471 , 0.27058825],\n         [0.80784315, 0.5411765 , 0.29411766],\n         [0.7882353 , 0.5294118 , 0.25490198]],\n\n        ...,\n\n        [[0.5294118 , 0.47843137, 0.39215687],\n         [0.6156863 , 0.5529412 , 0.44705883],\n         [0.77254903, 0.69411767, 0.6       ],\n         ...,\n         [0.81960785, 0.5921569 , 0.32941177],\n         [0.81960785, 0.5921569 , 0.28627452],\n         [0.7921569 , 0.5647059 , 0.23529412]],\n\n        [[0.59607846, 0.5882353 , 0.57254905],\n         [0.6666667 , 0.65882355, 0.63529414],\n         [0.6627451 , 0.64705884, 0.627451  ],\n         ...,\n         [0.8235294 , 0.7607843 , 0.6745098 ],\n         [0.84705883, 0.7764706 , 0.6666667 ],\n         [0.8352941 , 0.7607843 , 0.6431373 ]],\n\n        [[0.5254902 , 0.5254902 , 0.5254902 ],\n         [0.5568628 , 0.5568628 , 0.5568628 ],\n         [0.5137255 , 0.5176471 , 0.5176471 ],\n         ...,\n         [0.7294118 , 0.73333335, 0.72156864],\n         [0.69803923, 0.69411767, 0.68235296],\n         [0.69803923, 0.6901961 , 0.6745098 ]]],\n\n\n       [[[0.4392157 , 0.40392157, 0.33333334],\n         [0.44705883, 0.4117647 , 0.34901962],\n         [0.43137255, 0.39607844, 0.3372549 ],\n         ...,\n         [0.43529412, 0.40784314, 0.3372549 ],\n         [0.42352942, 0.39607844, 0.3254902 ],\n         [0.4392157 , 0.4117647 , 0.3372549 ]],\n\n        [[0.45490196, 0.4117647 , 0.34901962],\n         [0.4509804 , 0.40392157, 0.3372549 ],\n         [0.42352942, 0.38431373, 0.3254902 ],\n         ...,\n         [0.43137255, 0.4       , 0.33333334],\n         [0.44313726, 0.41568628, 0.34901962],\n         [0.4117647 , 0.38431373, 0.3137255 ]],\n\n        [[0.44705883, 0.40392157, 0.3372549 ],\n         [0.45490196, 0.4       , 0.33333334],\n         [0.4627451 , 0.41568628, 0.35686275],\n         ...,\n         [0.43137255, 0.40392157, 0.34117648],\n         [0.4509804 , 0.42352942, 0.36078432],\n         [0.44313726, 0.41568628, 0.3529412 ]],\n\n        ...,\n\n        [[0.6745098 , 0.6392157 , 0.57254905],\n         [0.6117647 , 0.58431375, 0.5137255 ],\n         [0.6431373 , 0.6156863 , 0.54901963],\n         ...,\n         [0.58431375, 0.5568628 , 0.4627451 ],\n         [0.5764706 , 0.54901963, 0.44705883],\n         [0.64705884, 0.6156863 , 0.52156866]],\n\n        [[0.6784314 , 0.6431373 , 0.5803922 ],\n         [0.6392157 , 0.59607846, 0.5254902 ],\n         [0.6156863 , 0.5803922 , 0.5019608 ],\n         ...,\n         [0.5882353 , 0.56078434, 0.47058824],\n         [0.6       , 0.5686275 , 0.4745098 ],\n         [0.6313726 , 0.6039216 , 0.5137255 ]],\n\n        [[0.6745098 , 0.63529414, 0.5764706 ],\n         [0.59607846, 0.54901963, 0.4862745 ],\n         [0.5803922 , 0.54509807, 0.47058824],\n         ...,\n         [0.6392157 , 0.6156863 , 0.5254902 ],\n         [0.61960787, 0.58431375, 0.5019608 ],\n         [0.63529414, 0.6156863 , 0.5411765 ]]]], dtype=float32)"
     },
     "execution_count": 23,
     "metadata": {},
     "output_type": "execute_result"
    }
   ],
   "source": [
    "X.numpy()"
   ],
   "metadata": {
    "collapsed": false
   }
  },
  {
   "cell_type": "code",
   "execution_count": 22,
   "outputs": [
    {
     "name": "stdout",
     "output_type": "stream",
     "text": [
      "Epoch 1/10\n",
      "547/547 [==============================] - 90s 162ms/step - loss: 2.3122 - categorical_accuracy: 0.0971 - val_loss: 2.3034 - val_categorical_accuracy: 0.0984\n",
      "Epoch 2/10\n",
      "547/547 [==============================] - 86s 157ms/step - loss: 2.3037 - categorical_accuracy: 0.0970 - val_loss: 2.3034 - val_categorical_accuracy: 0.0984\n",
      "Epoch 3/10\n",
      "547/547 [==============================] - 89s 163ms/step - loss: 2.3037 - categorical_accuracy: 0.0968 - val_loss: 2.3034 - val_categorical_accuracy: 0.0984\n",
      "Epoch 4/10\n",
      "547/547 [==============================] - 92s 168ms/step - loss: 2.3037 - categorical_accuracy: 0.0968 - val_loss: 2.3034 - val_categorical_accuracy: 0.0984\n",
      "Epoch 5/10\n",
      "163/547 [=======>......................] - ETA: 54s - loss: 2.3032 - categorical_accuracy: 0.0978"
     ]
    },
    {
     "ename": "KeyboardInterrupt",
     "evalue": "",
     "output_type": "error",
     "traceback": [
      "\u001B[1;31m---------------------------------------------------------------------------\u001B[0m",
      "\u001B[1;31mKeyboardInterrupt\u001B[0m                         Traceback (most recent call last)",
      "Cell \u001B[1;32mIn[22], line 1\u001B[0m\n\u001B[1;32m----> 1\u001B[0m history \u001B[38;5;241m=\u001B[39m \u001B[43mmodel\u001B[49m\u001B[38;5;241;43m.\u001B[39;49m\u001B[43mfit\u001B[49m\u001B[43m(\u001B[49m\n\u001B[0;32m      2\u001B[0m \u001B[43m    \u001B[49m\u001B[43mdataset_train\u001B[49m\u001B[43m,\u001B[49m\n\u001B[0;32m      3\u001B[0m \u001B[43m    \u001B[49m\u001B[43mepochs\u001B[49m\u001B[38;5;241;43m=\u001B[39;49m\u001B[38;5;241;43m10\u001B[39;49m\u001B[43m,\u001B[49m\n\u001B[0;32m      4\u001B[0m \u001B[43m    \u001B[49m\u001B[43mworkers\u001B[49m\u001B[38;5;241;43m=\u001B[39;49m\u001B[38;5;241;43m2\u001B[39;49m\u001B[43m,\u001B[49m\n\u001B[0;32m      5\u001B[0m \u001B[43m    \u001B[49m\u001B[43muse_multiprocessing\u001B[49m\u001B[38;5;241;43m=\u001B[39;49m\u001B[38;5;28;43;01mTrue\u001B[39;49;00m\u001B[43m,\u001B[49m\n\u001B[0;32m      6\u001B[0m \u001B[43m    \u001B[49m\u001B[43mvalidation_data\u001B[49m\u001B[38;5;241;43m=\u001B[39;49m\u001B[43mdataset_val\u001B[49m\u001B[43m,\u001B[49m\n\u001B[0;32m      7\u001B[0m \u001B[43m    \u001B[49m\u001B[43mshuffle\u001B[49m\u001B[38;5;241;43m=\u001B[39;49m\u001B[38;5;28;43;01mTrue\u001B[39;49;00m\n\u001B[0;32m      8\u001B[0m \u001B[43m)\u001B[49m\n",
      "File \u001B[1;32mE:\\Studies\\DataScience-1sem\\DeepLearning\\venv\\lib\\site-packages\\keras\\utils\\traceback_utils.py:65\u001B[0m, in \u001B[0;36mfilter_traceback.<locals>.error_handler\u001B[1;34m(*args, **kwargs)\u001B[0m\n\u001B[0;32m     63\u001B[0m filtered_tb \u001B[38;5;241m=\u001B[39m \u001B[38;5;28;01mNone\u001B[39;00m\n\u001B[0;32m     64\u001B[0m \u001B[38;5;28;01mtry\u001B[39;00m:\n\u001B[1;32m---> 65\u001B[0m     \u001B[38;5;28;01mreturn\u001B[39;00m fn(\u001B[38;5;241m*\u001B[39margs, \u001B[38;5;241m*\u001B[39m\u001B[38;5;241m*\u001B[39mkwargs)\n\u001B[0;32m     66\u001B[0m \u001B[38;5;28;01mexcept\u001B[39;00m \u001B[38;5;167;01mException\u001B[39;00m \u001B[38;5;28;01mas\u001B[39;00m e:\n\u001B[0;32m     67\u001B[0m     filtered_tb \u001B[38;5;241m=\u001B[39m _process_traceback_frames(e\u001B[38;5;241m.\u001B[39m__traceback__)\n",
      "File \u001B[1;32mE:\\Studies\\DataScience-1sem\\DeepLearning\\venv\\lib\\site-packages\\keras\\engine\\training.py:1564\u001B[0m, in \u001B[0;36mModel.fit\u001B[1;34m(self, x, y, batch_size, epochs, verbose, callbacks, validation_split, validation_data, shuffle, class_weight, sample_weight, initial_epoch, steps_per_epoch, validation_steps, validation_batch_size, validation_freq, max_queue_size, workers, use_multiprocessing)\u001B[0m\n\u001B[0;32m   1556\u001B[0m \u001B[38;5;28;01mwith\u001B[39;00m tf\u001B[38;5;241m.\u001B[39mprofiler\u001B[38;5;241m.\u001B[39mexperimental\u001B[38;5;241m.\u001B[39mTrace(\n\u001B[0;32m   1557\u001B[0m     \u001B[38;5;124m\"\u001B[39m\u001B[38;5;124mtrain\u001B[39m\u001B[38;5;124m\"\u001B[39m,\n\u001B[0;32m   1558\u001B[0m     epoch_num\u001B[38;5;241m=\u001B[39mepoch,\n\u001B[1;32m   (...)\u001B[0m\n\u001B[0;32m   1561\u001B[0m     _r\u001B[38;5;241m=\u001B[39m\u001B[38;5;241m1\u001B[39m,\n\u001B[0;32m   1562\u001B[0m ):\n\u001B[0;32m   1563\u001B[0m     callbacks\u001B[38;5;241m.\u001B[39mon_train_batch_begin(step)\n\u001B[1;32m-> 1564\u001B[0m     tmp_logs \u001B[38;5;241m=\u001B[39m \u001B[38;5;28;43mself\u001B[39;49m\u001B[38;5;241;43m.\u001B[39;49m\u001B[43mtrain_function\u001B[49m\u001B[43m(\u001B[49m\u001B[43miterator\u001B[49m\u001B[43m)\u001B[49m\n\u001B[0;32m   1565\u001B[0m     \u001B[38;5;28;01mif\u001B[39;00m data_handler\u001B[38;5;241m.\u001B[39mshould_sync:\n\u001B[0;32m   1566\u001B[0m         context\u001B[38;5;241m.\u001B[39masync_wait()\n",
      "File \u001B[1;32mE:\\Studies\\DataScience-1sem\\DeepLearning\\venv\\lib\\site-packages\\tensorflow\\python\\util\\traceback_utils.py:150\u001B[0m, in \u001B[0;36mfilter_traceback.<locals>.error_handler\u001B[1;34m(*args, **kwargs)\u001B[0m\n\u001B[0;32m    148\u001B[0m filtered_tb \u001B[38;5;241m=\u001B[39m \u001B[38;5;28;01mNone\u001B[39;00m\n\u001B[0;32m    149\u001B[0m \u001B[38;5;28;01mtry\u001B[39;00m:\n\u001B[1;32m--> 150\u001B[0m   \u001B[38;5;28;01mreturn\u001B[39;00m fn(\u001B[38;5;241m*\u001B[39margs, \u001B[38;5;241m*\u001B[39m\u001B[38;5;241m*\u001B[39mkwargs)\n\u001B[0;32m    151\u001B[0m \u001B[38;5;28;01mexcept\u001B[39;00m \u001B[38;5;167;01mException\u001B[39;00m \u001B[38;5;28;01mas\u001B[39;00m e:\n\u001B[0;32m    152\u001B[0m   filtered_tb \u001B[38;5;241m=\u001B[39m _process_traceback_frames(e\u001B[38;5;241m.\u001B[39m__traceback__)\n",
      "File \u001B[1;32mE:\\Studies\\DataScience-1sem\\DeepLearning\\venv\\lib\\site-packages\\tensorflow\\python\\eager\\def_function.py:915\u001B[0m, in \u001B[0;36mFunction.__call__\u001B[1;34m(self, *args, **kwds)\u001B[0m\n\u001B[0;32m    912\u001B[0m compiler \u001B[38;5;241m=\u001B[39m \u001B[38;5;124m\"\u001B[39m\u001B[38;5;124mxla\u001B[39m\u001B[38;5;124m\"\u001B[39m \u001B[38;5;28;01mif\u001B[39;00m \u001B[38;5;28mself\u001B[39m\u001B[38;5;241m.\u001B[39m_jit_compile \u001B[38;5;28;01melse\u001B[39;00m \u001B[38;5;124m\"\u001B[39m\u001B[38;5;124mnonXla\u001B[39m\u001B[38;5;124m\"\u001B[39m\n\u001B[0;32m    914\u001B[0m \u001B[38;5;28;01mwith\u001B[39;00m OptionalXlaContext(\u001B[38;5;28mself\u001B[39m\u001B[38;5;241m.\u001B[39m_jit_compile):\n\u001B[1;32m--> 915\u001B[0m   result \u001B[38;5;241m=\u001B[39m \u001B[38;5;28mself\u001B[39m\u001B[38;5;241m.\u001B[39m_call(\u001B[38;5;241m*\u001B[39margs, \u001B[38;5;241m*\u001B[39m\u001B[38;5;241m*\u001B[39mkwds)\n\u001B[0;32m    917\u001B[0m new_tracing_count \u001B[38;5;241m=\u001B[39m \u001B[38;5;28mself\u001B[39m\u001B[38;5;241m.\u001B[39mexperimental_get_tracing_count()\n\u001B[0;32m    918\u001B[0m without_tracing \u001B[38;5;241m=\u001B[39m (tracing_count \u001B[38;5;241m==\u001B[39m new_tracing_count)\n",
      "File \u001B[1;32mE:\\Studies\\DataScience-1sem\\DeepLearning\\venv\\lib\\site-packages\\tensorflow\\python\\eager\\def_function.py:947\u001B[0m, in \u001B[0;36mFunction._call\u001B[1;34m(self, *args, **kwds)\u001B[0m\n\u001B[0;32m    944\u001B[0m   \u001B[38;5;28mself\u001B[39m\u001B[38;5;241m.\u001B[39m_lock\u001B[38;5;241m.\u001B[39mrelease()\n\u001B[0;32m    945\u001B[0m   \u001B[38;5;66;03m# In this case we have created variables on the first call, so we run the\u001B[39;00m\n\u001B[0;32m    946\u001B[0m   \u001B[38;5;66;03m# defunned version which is guaranteed to never create variables.\u001B[39;00m\n\u001B[1;32m--> 947\u001B[0m   \u001B[38;5;28;01mreturn\u001B[39;00m \u001B[38;5;28mself\u001B[39m\u001B[38;5;241m.\u001B[39m_stateless_fn(\u001B[38;5;241m*\u001B[39margs, \u001B[38;5;241m*\u001B[39m\u001B[38;5;241m*\u001B[39mkwds)  \u001B[38;5;66;03m# pylint: disable=not-callable\u001B[39;00m\n\u001B[0;32m    948\u001B[0m \u001B[38;5;28;01melif\u001B[39;00m \u001B[38;5;28mself\u001B[39m\u001B[38;5;241m.\u001B[39m_stateful_fn \u001B[38;5;129;01mis\u001B[39;00m \u001B[38;5;129;01mnot\u001B[39;00m \u001B[38;5;28;01mNone\u001B[39;00m:\n\u001B[0;32m    949\u001B[0m   \u001B[38;5;66;03m# Release the lock early so that multiple threads can perform the call\u001B[39;00m\n\u001B[0;32m    950\u001B[0m   \u001B[38;5;66;03m# in parallel.\u001B[39;00m\n\u001B[0;32m    951\u001B[0m   \u001B[38;5;28mself\u001B[39m\u001B[38;5;241m.\u001B[39m_lock\u001B[38;5;241m.\u001B[39mrelease()\n",
      "File \u001B[1;32mE:\\Studies\\DataScience-1sem\\DeepLearning\\venv\\lib\\site-packages\\tensorflow\\python\\eager\\function.py:2496\u001B[0m, in \u001B[0;36mFunction.__call__\u001B[1;34m(self, *args, **kwargs)\u001B[0m\n\u001B[0;32m   2493\u001B[0m \u001B[38;5;28;01mwith\u001B[39;00m \u001B[38;5;28mself\u001B[39m\u001B[38;5;241m.\u001B[39m_lock:\n\u001B[0;32m   2494\u001B[0m   (graph_function,\n\u001B[0;32m   2495\u001B[0m    filtered_flat_args) \u001B[38;5;241m=\u001B[39m \u001B[38;5;28mself\u001B[39m\u001B[38;5;241m.\u001B[39m_maybe_define_function(args, kwargs)\n\u001B[1;32m-> 2496\u001B[0m \u001B[38;5;28;01mreturn\u001B[39;00m \u001B[43mgraph_function\u001B[49m\u001B[38;5;241;43m.\u001B[39;49m\u001B[43m_call_flat\u001B[49m\u001B[43m(\u001B[49m\n\u001B[0;32m   2497\u001B[0m \u001B[43m    \u001B[49m\u001B[43mfiltered_flat_args\u001B[49m\u001B[43m,\u001B[49m\u001B[43m \u001B[49m\u001B[43mcaptured_inputs\u001B[49m\u001B[38;5;241;43m=\u001B[39;49m\u001B[43mgraph_function\u001B[49m\u001B[38;5;241;43m.\u001B[39;49m\u001B[43mcaptured_inputs\u001B[49m\u001B[43m)\u001B[49m\n",
      "File \u001B[1;32mE:\\Studies\\DataScience-1sem\\DeepLearning\\venv\\lib\\site-packages\\tensorflow\\python\\eager\\function.py:1862\u001B[0m, in \u001B[0;36mConcreteFunction._call_flat\u001B[1;34m(self, args, captured_inputs, cancellation_manager)\u001B[0m\n\u001B[0;32m   1858\u001B[0m possible_gradient_type \u001B[38;5;241m=\u001B[39m gradients_util\u001B[38;5;241m.\u001B[39mPossibleTapeGradientTypes(args)\n\u001B[0;32m   1859\u001B[0m \u001B[38;5;28;01mif\u001B[39;00m (possible_gradient_type \u001B[38;5;241m==\u001B[39m gradients_util\u001B[38;5;241m.\u001B[39mPOSSIBLE_GRADIENT_TYPES_NONE\n\u001B[0;32m   1860\u001B[0m     \u001B[38;5;129;01mand\u001B[39;00m executing_eagerly):\n\u001B[0;32m   1861\u001B[0m   \u001B[38;5;66;03m# No tape is watching; skip to running the function.\u001B[39;00m\n\u001B[1;32m-> 1862\u001B[0m   \u001B[38;5;28;01mreturn\u001B[39;00m \u001B[38;5;28mself\u001B[39m\u001B[38;5;241m.\u001B[39m_build_call_outputs(\u001B[38;5;28;43mself\u001B[39;49m\u001B[38;5;241;43m.\u001B[39;49m\u001B[43m_inference_function\u001B[49m\u001B[38;5;241;43m.\u001B[39;49m\u001B[43mcall\u001B[49m\u001B[43m(\u001B[49m\n\u001B[0;32m   1863\u001B[0m \u001B[43m      \u001B[49m\u001B[43mctx\u001B[49m\u001B[43m,\u001B[49m\u001B[43m \u001B[49m\u001B[43margs\u001B[49m\u001B[43m,\u001B[49m\u001B[43m \u001B[49m\u001B[43mcancellation_manager\u001B[49m\u001B[38;5;241;43m=\u001B[39;49m\u001B[43mcancellation_manager\u001B[49m\u001B[43m)\u001B[49m)\n\u001B[0;32m   1864\u001B[0m forward_backward \u001B[38;5;241m=\u001B[39m \u001B[38;5;28mself\u001B[39m\u001B[38;5;241m.\u001B[39m_select_forward_and_backward_functions(\n\u001B[0;32m   1865\u001B[0m     args,\n\u001B[0;32m   1866\u001B[0m     possible_gradient_type,\n\u001B[0;32m   1867\u001B[0m     executing_eagerly)\n\u001B[0;32m   1868\u001B[0m forward_function, args_with_tangents \u001B[38;5;241m=\u001B[39m forward_backward\u001B[38;5;241m.\u001B[39mforward()\n",
      "File \u001B[1;32mE:\\Studies\\DataScience-1sem\\DeepLearning\\venv\\lib\\site-packages\\tensorflow\\python\\eager\\function.py:499\u001B[0m, in \u001B[0;36m_EagerDefinedFunction.call\u001B[1;34m(self, ctx, args, cancellation_manager)\u001B[0m\n\u001B[0;32m    497\u001B[0m \u001B[38;5;28;01mwith\u001B[39;00m _InterpolateFunctionError(\u001B[38;5;28mself\u001B[39m):\n\u001B[0;32m    498\u001B[0m   \u001B[38;5;28;01mif\u001B[39;00m cancellation_manager \u001B[38;5;129;01mis\u001B[39;00m \u001B[38;5;28;01mNone\u001B[39;00m:\n\u001B[1;32m--> 499\u001B[0m     outputs \u001B[38;5;241m=\u001B[39m \u001B[43mexecute\u001B[49m\u001B[38;5;241;43m.\u001B[39;49m\u001B[43mexecute\u001B[49m\u001B[43m(\u001B[49m\n\u001B[0;32m    500\u001B[0m \u001B[43m        \u001B[49m\u001B[38;5;28;43mstr\u001B[39;49m\u001B[43m(\u001B[49m\u001B[38;5;28;43mself\u001B[39;49m\u001B[38;5;241;43m.\u001B[39;49m\u001B[43msignature\u001B[49m\u001B[38;5;241;43m.\u001B[39;49m\u001B[43mname\u001B[49m\u001B[43m)\u001B[49m\u001B[43m,\u001B[49m\n\u001B[0;32m    501\u001B[0m \u001B[43m        \u001B[49m\u001B[43mnum_outputs\u001B[49m\u001B[38;5;241;43m=\u001B[39;49m\u001B[38;5;28;43mself\u001B[39;49m\u001B[38;5;241;43m.\u001B[39;49m\u001B[43m_num_outputs\u001B[49m\u001B[43m,\u001B[49m\n\u001B[0;32m    502\u001B[0m \u001B[43m        \u001B[49m\u001B[43minputs\u001B[49m\u001B[38;5;241;43m=\u001B[39;49m\u001B[43margs\u001B[49m\u001B[43m,\u001B[49m\n\u001B[0;32m    503\u001B[0m \u001B[43m        \u001B[49m\u001B[43mattrs\u001B[49m\u001B[38;5;241;43m=\u001B[39;49m\u001B[43mattrs\u001B[49m\u001B[43m,\u001B[49m\n\u001B[0;32m    504\u001B[0m \u001B[43m        \u001B[49m\u001B[43mctx\u001B[49m\u001B[38;5;241;43m=\u001B[39;49m\u001B[43mctx\u001B[49m\u001B[43m)\u001B[49m\n\u001B[0;32m    505\u001B[0m   \u001B[38;5;28;01melse\u001B[39;00m:\n\u001B[0;32m    506\u001B[0m     outputs \u001B[38;5;241m=\u001B[39m execute\u001B[38;5;241m.\u001B[39mexecute_with_cancellation(\n\u001B[0;32m    507\u001B[0m         \u001B[38;5;28mstr\u001B[39m(\u001B[38;5;28mself\u001B[39m\u001B[38;5;241m.\u001B[39msignature\u001B[38;5;241m.\u001B[39mname),\n\u001B[0;32m    508\u001B[0m         num_outputs\u001B[38;5;241m=\u001B[39m\u001B[38;5;28mself\u001B[39m\u001B[38;5;241m.\u001B[39m_num_outputs,\n\u001B[1;32m   (...)\u001B[0m\n\u001B[0;32m    511\u001B[0m         ctx\u001B[38;5;241m=\u001B[39mctx,\n\u001B[0;32m    512\u001B[0m         cancellation_manager\u001B[38;5;241m=\u001B[39mcancellation_manager)\n",
      "File \u001B[1;32mE:\\Studies\\DataScience-1sem\\DeepLearning\\venv\\lib\\site-packages\\tensorflow\\python\\eager\\execute.py:54\u001B[0m, in \u001B[0;36mquick_execute\u001B[1;34m(op_name, num_outputs, inputs, attrs, ctx, name)\u001B[0m\n\u001B[0;32m     52\u001B[0m \u001B[38;5;28;01mtry\u001B[39;00m:\n\u001B[0;32m     53\u001B[0m   ctx\u001B[38;5;241m.\u001B[39mensure_initialized()\n\u001B[1;32m---> 54\u001B[0m   tensors \u001B[38;5;241m=\u001B[39m \u001B[43mpywrap_tfe\u001B[49m\u001B[38;5;241;43m.\u001B[39;49m\u001B[43mTFE_Py_Execute\u001B[49m\u001B[43m(\u001B[49m\u001B[43mctx\u001B[49m\u001B[38;5;241;43m.\u001B[39;49m\u001B[43m_handle\u001B[49m\u001B[43m,\u001B[49m\u001B[43m \u001B[49m\u001B[43mdevice_name\u001B[49m\u001B[43m,\u001B[49m\u001B[43m \u001B[49m\u001B[43mop_name\u001B[49m\u001B[43m,\u001B[49m\n\u001B[0;32m     55\u001B[0m \u001B[43m                                      \u001B[49m\u001B[43minputs\u001B[49m\u001B[43m,\u001B[49m\u001B[43m \u001B[49m\u001B[43mattrs\u001B[49m\u001B[43m,\u001B[49m\u001B[43m \u001B[49m\u001B[43mnum_outputs\u001B[49m\u001B[43m)\u001B[49m\n\u001B[0;32m     56\u001B[0m \u001B[38;5;28;01mexcept\u001B[39;00m core\u001B[38;5;241m.\u001B[39m_NotOkStatusException \u001B[38;5;28;01mas\u001B[39;00m e:\n\u001B[0;32m     57\u001B[0m   \u001B[38;5;28;01mif\u001B[39;00m name \u001B[38;5;129;01mis\u001B[39;00m \u001B[38;5;129;01mnot\u001B[39;00m \u001B[38;5;28;01mNone\u001B[39;00m:\n",
      "\u001B[1;31mKeyboardInterrupt\u001B[0m: "
     ]
    }
   ],
   "source": [
    "history = model.fit(\n",
    "    dataset_train,\n",
    "    epochs=25,\n",
    "    workers=2,\n",
    "    use_multiprocessing=True,\n",
    "    validation_data=dataset_val,\n",
    "    shuffle=True\n",
    ")"
   ],
   "metadata": {
    "collapsed": false
   }
  },
  {
   "cell_type": "code",
   "execution_count": null,
   "outputs": [],
   "source": [
    "history"
   ],
   "metadata": {
    "collapsed": false
   }
  }
 ],
 "metadata": {
  "kernelspec": {
   "display_name": "Python 3",
   "language": "python",
   "name": "python3"
  },
  "language_info": {
   "codemirror_mode": {
    "name": "ipython",
    "version": 2
   },
   "file_extension": ".py",
   "mimetype": "text/x-python",
   "name": "python",
   "nbconvert_exporter": "python",
   "pygments_lexer": "ipython2",
   "version": "2.7.6"
  }
 },
 "nbformat": 4,
 "nbformat_minor": 0
}
