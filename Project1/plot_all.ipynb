{
 "cells": [
  {
   "cell_type": "code",
   "execution_count": 1,
   "id": "b726ca45-3f10-4b3b-a792-67f69c506163",
   "metadata": {
    "tags": []
   },
   "outputs": [],
   "source": [
    "import tensorflow as tf\n",
    "import pandas as pd\n",
    "import numpy as np\n",
    "import os\n",
    "\n",
    "from os import path\n",
    "from tensorflow.keras.utils import image_dataset_from_directory, plot_model\n",
    "from matplotlib import pyplot as plt\n",
    "from tensorflow.keras import layers, losses, optimizers, metrics, callbacks, Model, Input\n",
    "from tensorflow.keras.applications.resnet50 import ResNet50, preprocess_input"
   ]
  },
  {
   "cell_type": "code",
   "execution_count": 2,
   "id": "65e54b20-aa48-40fd-a4ec-719de4a2c2ea",
   "metadata": {},
   "outputs": [],
   "source": [
    "N_CLASS = 10"
   ]
  },
  {
   "cell_type": "code",
   "execution_count": 3,
   "id": "15efa71b-ec5f-41c3-8960-cd0978f8e507",
   "metadata": {},
   "outputs": [
    {
     "name": "stdout",
     "output_type": "stream",
     "text": [
      "Model: \"model\"\n",
      "_________________________________________________________________\n",
      " Layer (type)                Output Shape              Param #   \n",
      "=================================================================\n",
      " input_1 (InputLayer)        [(None, 2048)]            0         \n",
      "                                                                 \n",
      " dense (Dense)               (None, 2048)              4196352   \n",
      "                                                                 \n",
      " batch_normalization (BatchN  (None, 2048)             8192      \n",
      " ormalization)                                                   \n",
      "                                                                 \n",
      " dense_1 (Dense)             (None, 10)                20490     \n",
      "                                                                 \n",
      "=================================================================\n",
      "Total params: 4,225,034\n",
      "Trainable params: 4,220,938\n",
      "Non-trainable params: 4,096\n",
      "_________________________________________________________________\n"
     ]
    }
   ],
   "source": [
    "def create_model():\n",
    "    input_layer = Input(shape=(2048))\n",
    "    x = layers.Dense(2048, activation=\"relu\")(input_layer)\n",
    "    x = layers.BatchNormalization()(x)\n",
    "    output = layers.Dense(N_CLASS, activation=\"softmax\")(x)\n",
    "    model = Model(inputs=input_layer, outputs=output)\n",
    "    return model\n",
    "\n",
    "model = create_model()\n",
    "model.summary()"
   ]
  },
  {
   "cell_type": "code",
   "execution_count": 4,
   "id": "b9a8a371-c10c-448c-ab1b-308e229403d3",
   "metadata": {},
   "outputs": [
    {
     "name": "stdout",
     "output_type": "stream",
     "text": [
      "You must install pydot (`pip install pydot`) and install graphviz (see instructions at https://graphviz.gitlab.io/download/) for plot_model to work.\n"
     ]
    }
   ],
   "source": [
    "plot_model(model=model, to_file=\"resnet_begin\")"
   ]
  },
  {
   "cell_type": "code",
   "execution_count": 5,
   "id": "53206d04-60a4-4f7a-a754-d5b78dad4992",
   "metadata": {},
   "outputs": [
    {
     "ename": "NameError",
     "evalue": "name 'resnet' is not defined",
     "output_type": "error",
     "traceback": [
      "\u001b[1;31m---------------------------------------------------------------------------\u001b[0m",
      "\u001b[1;31mNameError\u001b[0m                                 Traceback (most recent call last)",
      "Cell \u001b[1;32mIn[5], line 11\u001b[0m\n\u001b[0;32m      8\u001b[0m     model \u001b[38;5;241m=\u001b[39m Model(resnet\u001b[38;5;241m.\u001b[39minput, output)\n\u001b[0;32m      9\u001b[0m     \u001b[38;5;28;01mreturn\u001b[39;00m model\n\u001b[1;32m---> 11\u001b[0m model \u001b[38;5;241m=\u001b[39m \u001b[43mget_model\u001b[49m\u001b[43m(\u001b[49m\u001b[43m)\u001b[49m\n\u001b[0;32m     12\u001b[0m model\u001b[38;5;241m.\u001b[39msummary()\n",
      "Cell \u001b[1;32mIn[5], line 8\u001b[0m, in \u001b[0;36mget_model\u001b[1;34m()\u001b[0m\n\u001b[0;32m      6\u001b[0m x \u001b[38;5;241m=\u001b[39m layers\u001b[38;5;241m.\u001b[39mDropout(\u001b[38;5;241m0.3\u001b[39m)(x)\n\u001b[0;32m      7\u001b[0m output \u001b[38;5;241m=\u001b[39m layers\u001b[38;5;241m.\u001b[39mDense(N_CLASS, activation\u001b[38;5;241m=\u001b[39m\u001b[38;5;124m\"\u001b[39m\u001b[38;5;124msoftmax\u001b[39m\u001b[38;5;124m\"\u001b[39m)(x)\n\u001b[1;32m----> 8\u001b[0m model \u001b[38;5;241m=\u001b[39m Model(\u001b[43mresnet\u001b[49m\u001b[38;5;241m.\u001b[39minput, output)\n\u001b[0;32m      9\u001b[0m \u001b[38;5;28;01mreturn\u001b[39;00m model\n",
      "\u001b[1;31mNameError\u001b[0m: name 'resnet' is not defined"
     ]
    }
   ],
   "source": [
    "def get_model():\n",
    "    input_layer = Input(shape=(2048))\n",
    "    x = layers.Dropout(0.3)(input_layer)\n",
    "    x = layers.Dense(2048, activation=\"relu\")(x)\n",
    "    x = layers.BatchNormalization()(x)\n",
    "    x = layers.Dropout(0.3)(x)\n",
    "    output = layers.Dense(N_CLASS, activation=\"softmax\")(x)\n",
    "    model = Model(input_layer, output)\n",
    "    return model\n",
    "\n",
    "model = get_model()\n",
    "model.summary()"
   ]
  },
  {
   "cell_type": "code",
   "execution_count": null,
   "id": "3c7e65bd-5308-4d89-a089-a487e2363863",
   "metadata": {},
   "outputs": [],
   "source": [
    "plot_model(model=model, to_file=\"resnet_final\")"
   ]
  },
  {
   "cell_type": "code",
   "execution_count": null,
   "id": "d8c2aa62-2c56-4cae-8f65-7c95741ec379",
   "metadata": {},
   "outputs": [],
   "source": [
    "def create_model():\n",
    "    input_layer = Input(shape=(7, 7, 512))\n",
    "    x = layers.Flatten()(input_layer)\n",
    "    x = layers.Dense(1024, activation=\"relu\")(x)\n",
    "    x = layers.BatchNormalization()(x)\n",
    "    x = layers.Dense(1024, activation=\"relu\")(x)\n",
    "    x = layers.BatchNormalization()(x)\n",
    "    output = layers.Dense(N_CLASS, activation=\"softmax\")(x)\n",
    "    model = Model(inputs=input_layer, outputs=output)\n",
    "    return model\n",
    "\n",
    "model = create_model()\n",
    "model.summary()"
   ]
  },
  {
   "cell_type": "code",
   "execution_count": null,
   "id": "b6071f37-ebb7-4d85-9001-940cdc37d87d",
   "metadata": {
    "tags": []
   },
   "outputs": [],
   "source": [
    "plot_model(model=model, to_file=\"vgg_model\")"
   ]
  }
 ],
 "metadata": {
  "kernelspec": {
   "display_name": "Python [conda env:tf]",
   "language": "python",
   "name": "conda-env-tf-py"
  },
  "language_info": {
   "codemirror_mode": {
    "name": "ipython",
    "version": 3
   },
   "file_extension": ".py",
   "mimetype": "text/x-python",
   "name": "python",
   "nbconvert_exporter": "python",
   "pygments_lexer": "ipython3",
   "version": "3.9.16"
  }
 },
 "nbformat": 4,
 "nbformat_minor": 5
}
