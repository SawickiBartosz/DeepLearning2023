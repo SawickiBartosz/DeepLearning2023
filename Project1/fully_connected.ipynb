{
 "cells": [
  {
   "cell_type": "markdown",
   "id": "18f1cbf7-33ad-4847-9ee4-eff602ade5d0",
   "metadata": {
    "tags": []
   },
   "source": [
    "# Load packages"
   ]
  },
  {
   "cell_type": "code",
   "execution_count": 1,
   "id": "ab9013b7-c229-48cc-bece-ed3e8816cf16",
   "metadata": {
    "tags": []
   },
   "outputs": [],
   "source": [
    "import tensorflow as tf\n",
    "import pandas as pd\n",
    "import numpy as np\n",
    "import os\n",
    "\n",
    "from os import path\n",
    "from tensorflow.keras.utils import image_dataset_from_directory\n",
    "from matplotlib import pyplot as plt\n",
    "from tensorflow.keras import layers, losses, optimizers, metrics, callbacks, Model, Input\n",
    "from tensorflow.keras.applications.vgg16 import VGG16, preprocess_input"
   ]
  },
  {
   "cell_type": "code",
   "execution_count": 2,
   "id": "ded1efbb-248c-40d2-9586-beb2c1136ccc",
   "metadata": {
    "collapsed": false,
    "jupyter": {
     "outputs_hidden": false
    }
   },
   "outputs": [
    {
     "data": {
      "text/plain": [
       "[LogicalDevice(name='/device:CPU:0', device_type='CPU'),\n",
       " LogicalDevice(name='/device:GPU:0', device_type='GPU')]"
      ]
     },
     "execution_count": 2,
     "metadata": {},
     "output_type": "execute_result"
    }
   ],
   "source": [
    "tf.config.list_logical_devices()"
   ]
  },
  {
   "cell_type": "code",
   "execution_count": 3,
   "id": "8de61e6b-b2df-4e5e-a76d-ef7c92df26c0",
   "metadata": {},
   "outputs": [
    {
     "data": {
      "text/plain": [
       "'2.10.1'"
      ]
     },
     "execution_count": 3,
     "metadata": {},
     "output_type": "execute_result"
    }
   ],
   "source": [
    "tf.__version__"
   ]
  },
  {
   "cell_type": "code",
   "execution_count": 4,
   "id": "2711c582-d2c6-4cca-b1fc-fad01768ee89",
   "metadata": {
    "collapsed": false,
    "jupyter": {
     "outputs_hidden": false
    }
   },
   "outputs": [],
   "source": [
    "SEED = 123\n",
    "N_CLASS = 10\n",
    "IMG_SIZE = 32"
   ]
  },
  {
   "cell_type": "markdown",
   "id": "286d4670-e649-4247-88d9-02ac3ffd4306",
   "metadata": {},
   "source": [
    "# Load data"
   ]
  },
  {
   "cell_type": "code",
   "execution_count": 5,
   "id": "16156cdc-174f-4d5c-893b-7680cb4c9e57",
   "metadata": {},
   "outputs": [
    {
     "data": {
      "text/html": [
       "<div>\n",
       "<style scoped>\n",
       "    .dataframe tbody tr th:only-of-type {\n",
       "        vertical-align: middle;\n",
       "    }\n",
       "\n",
       "    .dataframe tbody tr th {\n",
       "        vertical-align: top;\n",
       "    }\n",
       "\n",
       "    .dataframe thead th {\n",
       "        text-align: right;\n",
       "    }\n",
       "</style>\n",
       "<table border=\"1\" class=\"dataframe\">\n",
       "  <thead>\n",
       "    <tr style=\"text-align: right;\">\n",
       "      <th></th>\n",
       "      <th>id</th>\n",
       "      <th>label</th>\n",
       "      <th>codes</th>\n",
       "      <th>name</th>\n",
       "    </tr>\n",
       "  </thead>\n",
       "  <tbody>\n",
       "    <tr>\n",
       "      <th>0</th>\n",
       "      <td>1</td>\n",
       "      <td>frog</td>\n",
       "      <td>6</td>\n",
       "      <td>1.png</td>\n",
       "    </tr>\n",
       "    <tr>\n",
       "      <th>1</th>\n",
       "      <td>2</td>\n",
       "      <td>truck</td>\n",
       "      <td>9</td>\n",
       "      <td>2.png</td>\n",
       "    </tr>\n",
       "    <tr>\n",
       "      <th>2</th>\n",
       "      <td>3</td>\n",
       "      <td>truck</td>\n",
       "      <td>9</td>\n",
       "      <td>3.png</td>\n",
       "    </tr>\n",
       "    <tr>\n",
       "      <th>3</th>\n",
       "      <td>4</td>\n",
       "      <td>deer</td>\n",
       "      <td>4</td>\n",
       "      <td>4.png</td>\n",
       "    </tr>\n",
       "    <tr>\n",
       "      <th>4</th>\n",
       "      <td>5</td>\n",
       "      <td>automobile</td>\n",
       "      <td>1</td>\n",
       "      <td>5.png</td>\n",
       "    </tr>\n",
       "    <tr>\n",
       "      <th>...</th>\n",
       "      <td>...</td>\n",
       "      <td>...</td>\n",
       "      <td>...</td>\n",
       "      <td>...</td>\n",
       "    </tr>\n",
       "    <tr>\n",
       "      <th>49995</th>\n",
       "      <td>49996</td>\n",
       "      <td>bird</td>\n",
       "      <td>2</td>\n",
       "      <td>49996.png</td>\n",
       "    </tr>\n",
       "    <tr>\n",
       "      <th>49996</th>\n",
       "      <td>49997</td>\n",
       "      <td>frog</td>\n",
       "      <td>6</td>\n",
       "      <td>49997.png</td>\n",
       "    </tr>\n",
       "    <tr>\n",
       "      <th>49997</th>\n",
       "      <td>49998</td>\n",
       "      <td>truck</td>\n",
       "      <td>9</td>\n",
       "      <td>49998.png</td>\n",
       "    </tr>\n",
       "    <tr>\n",
       "      <th>49998</th>\n",
       "      <td>49999</td>\n",
       "      <td>automobile</td>\n",
       "      <td>1</td>\n",
       "      <td>49999.png</td>\n",
       "    </tr>\n",
       "    <tr>\n",
       "      <th>49999</th>\n",
       "      <td>50000</td>\n",
       "      <td>automobile</td>\n",
       "      <td>1</td>\n",
       "      <td>50000.png</td>\n",
       "    </tr>\n",
       "  </tbody>\n",
       "</table>\n",
       "<p>50000 rows × 4 columns</p>\n",
       "</div>"
      ],
      "text/plain": [
       "          id       label  codes       name\n",
       "0          1        frog      6      1.png\n",
       "1          2       truck      9      2.png\n",
       "2          3       truck      9      3.png\n",
       "3          4        deer      4      4.png\n",
       "4          5  automobile      1      5.png\n",
       "...      ...         ...    ...        ...\n",
       "49995  49996        bird      2  49996.png\n",
       "49996  49997        frog      6  49997.png\n",
       "49997  49998       truck      9  49998.png\n",
       "49998  49999  automobile      1  49999.png\n",
       "49999  50000  automobile      1  50000.png\n",
       "\n",
       "[50000 rows x 4 columns]"
      ]
     },
     "execution_count": 5,
     "metadata": {},
     "output_type": "execute_result"
    }
   ],
   "source": [
    "labels_df = pd.read_csv(path.join(os.getcwd(), 'cifar-10', 'trainLabels.csv'))\n",
    "labels_df.label = pd.Categorical(labels_df.label)\n",
    "labels_df['codes'] = labels_df.label.cat.codes\n",
    "labels_df['name'] = labels_df['id'].astype(str) + \".png\"\n",
    "labels_df.sort_values(by=\"name\")\n",
    "labels_df"
   ]
  },
  {
   "cell_type": "code",
   "execution_count": 6,
   "id": "cb3a56d8-2a37-43ba-ab73-df23f40f337b",
   "metadata": {
    "tags": []
   },
   "outputs": [
    {
     "data": {
      "text/html": [
       "<div>\n",
       "<style scoped>\n",
       "    .dataframe tbody tr th:only-of-type {\n",
       "        vertical-align: middle;\n",
       "    }\n",
       "\n",
       "    .dataframe tbody tr th {\n",
       "        vertical-align: top;\n",
       "    }\n",
       "\n",
       "    .dataframe thead th {\n",
       "        text-align: right;\n",
       "    }\n",
       "</style>\n",
       "<table border=\"1\" class=\"dataframe\">\n",
       "  <thead>\n",
       "    <tr style=\"text-align: right;\">\n",
       "      <th></th>\n",
       "      <th>name</th>\n",
       "      <th>id</th>\n",
       "      <th>label</th>\n",
       "      <th>codes</th>\n",
       "    </tr>\n",
       "  </thead>\n",
       "  <tbody>\n",
       "    <tr>\n",
       "      <th>0</th>\n",
       "      <td>1.png</td>\n",
       "      <td>1</td>\n",
       "      <td>frog</td>\n",
       "      <td>6</td>\n",
       "    </tr>\n",
       "    <tr>\n",
       "      <th>1</th>\n",
       "      <td>10.png</td>\n",
       "      <td>10</td>\n",
       "      <td>cat</td>\n",
       "      <td>3</td>\n",
       "    </tr>\n",
       "    <tr>\n",
       "      <th>2</th>\n",
       "      <td>100.png</td>\n",
       "      <td>100</td>\n",
       "      <td>automobile</td>\n",
       "      <td>1</td>\n",
       "    </tr>\n",
       "    <tr>\n",
       "      <th>3</th>\n",
       "      <td>1000.png</td>\n",
       "      <td>1000</td>\n",
       "      <td>dog</td>\n",
       "      <td>5</td>\n",
       "    </tr>\n",
       "    <tr>\n",
       "      <th>4</th>\n",
       "      <td>10000.png</td>\n",
       "      <td>10000</td>\n",
       "      <td>dog</td>\n",
       "      <td>5</td>\n",
       "    </tr>\n",
       "    <tr>\n",
       "      <th>...</th>\n",
       "      <td>...</td>\n",
       "      <td>...</td>\n",
       "      <td>...</td>\n",
       "      <td>...</td>\n",
       "    </tr>\n",
       "    <tr>\n",
       "      <th>49995</th>\n",
       "      <td>9995.png</td>\n",
       "      <td>9995</td>\n",
       "      <td>frog</td>\n",
       "      <td>6</td>\n",
       "    </tr>\n",
       "    <tr>\n",
       "      <th>49996</th>\n",
       "      <td>9996.png</td>\n",
       "      <td>9996</td>\n",
       "      <td>cat</td>\n",
       "      <td>3</td>\n",
       "    </tr>\n",
       "    <tr>\n",
       "      <th>49997</th>\n",
       "      <td>9997.png</td>\n",
       "      <td>9997</td>\n",
       "      <td>truck</td>\n",
       "      <td>9</td>\n",
       "    </tr>\n",
       "    <tr>\n",
       "      <th>49998</th>\n",
       "      <td>9998.png</td>\n",
       "      <td>9998</td>\n",
       "      <td>automobile</td>\n",
       "      <td>1</td>\n",
       "    </tr>\n",
       "    <tr>\n",
       "      <th>49999</th>\n",
       "      <td>9999.png</td>\n",
       "      <td>9999</td>\n",
       "      <td>automobile</td>\n",
       "      <td>1</td>\n",
       "    </tr>\n",
       "  </tbody>\n",
       "</table>\n",
       "<p>50000 rows × 4 columns</p>\n",
       "</div>"
      ],
      "text/plain": [
       "            name     id       label  codes\n",
       "0          1.png      1        frog      6\n",
       "1         10.png     10         cat      3\n",
       "2        100.png    100  automobile      1\n",
       "3       1000.png   1000         dog      5\n",
       "4      10000.png  10000         dog      5\n",
       "...          ...    ...         ...    ...\n",
       "49995   9995.png   9995        frog      6\n",
       "49996   9996.png   9996         cat      3\n",
       "49997   9997.png   9997       truck      9\n",
       "49998   9998.png   9998  automobile      1\n",
       "49999   9999.png   9999  automobile      1\n",
       "\n",
       "[50000 rows x 4 columns]"
      ]
     },
     "execution_count": 6,
     "metadata": {},
     "output_type": "execute_result"
    }
   ],
   "source": [
    "filenames = list(os.walk(path.join(os.getcwd(), 'cifar-10', 'train', 'train_images'), topdown=False))[0][2]\n",
    "filenames = pd.DataFrame(filenames, columns=[\"name\"])\n",
    "filenames = filenames.merge(labels_df, on=\"name\")\n",
    "filenames"
   ]
  },
  {
   "cell_type": "code",
   "execution_count": 7,
   "id": "dd88e69f-2423-452d-b91c-429b0355cbee",
   "metadata": {
    "collapsed": false,
    "jupyter": {
     "outputs_hidden": false
    }
   },
   "outputs": [
    {
     "name": "stdout",
     "output_type": "stream",
     "text": [
      "Found 50000 files belonging to 1 classes.\n",
      "Using 40000 files for training.\n",
      "Using 10000 files for validation.\n"
     ]
    }
   ],
   "source": [
    "dataset_train, dataset_val = image_dataset_from_directory(\n",
    "    directory=path.join(os.getcwd(), 'cifar-10', 'train'),\n",
    "    labels=list(filenames['codes']),\n",
    "    label_mode='int',\n",
    "    validation_split=0.2,\n",
    "    shuffle=True,\n",
    "    subset='both',\n",
    "    image_size=(IMG_SIZE, IMG_SIZE),\n",
    "    batch_size=128,\n",
    "    seed=SEED\n",
    ")\n",
    "dataset_train = dataset_train.map(lambda x, y : (x, tf.one_hot(y, N_CLASS)))\n",
    "dataset_val = dataset_val.map(lambda x, y : (x, tf.one_hot(y, N_CLASS)))"
   ]
  },
  {
   "cell_type": "code",
   "execution_count": 8,
   "id": "bc5dc460-986d-490a-8d66-7949c5e4127d",
   "metadata": {
    "collapsed": false,
    "jupyter": {
     "outputs_hidden": false
    }
   },
   "outputs": [
    {
     "data": {
      "text/plain": [
       "(TensorShape([128, 32, 32, 3]), TensorShape([128, 10]))"
      ]
     },
     "execution_count": 8,
     "metadata": {},
     "output_type": "execute_result"
    }
   ],
   "source": [
    "X, y = next(iter(dataset_train))\n",
    "X.shape, y.shape"
   ]
  },
  {
   "cell_type": "code",
   "execution_count": 9,
   "id": "04a661e8-c9a8-43fb-a862-fbc457154eab",
   "metadata": {
    "collapsed": false,
    "jupyter": {
     "outputs_hidden": false
    }
   },
   "outputs": [
    {
     "data": {
      "image/png": "[encoded data removed]",
      "text/plain": [
       "<Figure size 640x480 with 1 Axes>"
      ]
     },
     "metadata": {},
     "output_type": "display_data"
    },
    {
     "data": {
      "image/png": "[encoded data removed]",
      "text/plain": [
       "<Figure size 640x480 with 1 Axes>"
      ]
     },
     "metadata": {},
     "output_type": "display_data"
    },
    {
     "data": {
      "image/png": "[encoded data removed]",
      "text/plain": [
       "<Figure size 640x480 with 1 Axes>"
      ]
     },
     "metadata": {},
     "output_type": "display_data"
    }
   ],
   "source": [
    "for i in range(3):\n",
    "    plt.imshow(X[i].numpy().astype(int))\n",
    "    plt.xlabel(filenames.label.cat.categories[np.argwhere(y[i].numpy()).flatten()])\n",
    "    plt.show()"
   ]
  },
  {
   "cell_type": "markdown",
   "id": "c026658f-1b5a-41fd-84ea-805036315f09",
   "metadata": {},
   "source": [
    "# VGG Model - initialization"
   ]
  },
  {
   "cell_type": "code",
   "execution_count": 10,
   "id": "abb1850d-9021-4223-b2b0-51814a742f06",
   "metadata": {},
   "outputs": [],
   "source": [
    "os.makedirs(\"weights\", exist_ok=True)"
   ]
  },
  {
   "cell_type": "code",
   "execution_count": 11,
   "id": "570a57a9-6ffe-452d-9e7e-dace48cc1513",
   "metadata": {
    "collapsed": false,
    "jupyter": {
     "outputs_hidden": false
    }
   },
   "outputs": [
    {
     "name": "stdout",
     "output_type": "stream",
     "text": [
      "Model: \"model\"\n",
      "_________________________________________________________________\n",
      " Layer (type)                Output Shape              Param #   \n",
      "=================================================================\n",
      " input_1 (InputLayer)        [(None, 32, 32, 3)]       0         \n",
      "                                                                 \n",
      " flatten (Flatten)           (None, 3072)              0         \n",
      "                                                                 \n",
      " dense (Dense)               (None, 4096)              12587008  \n",
      "                                                                 \n",
      " batch_normalization (BatchN  (None, 4096)             16384     \n",
      " ormalization)                                                   \n",
      "                                                                 \n",
      " dense_1 (Dense)             (None, 2048)              8390656   \n",
      "                                                                 \n",
      " batch_normalization_1 (Batc  (None, 2048)             8192      \n",
      " hNormalization)                                                 \n",
      "                                                                 \n",
      " dense_2 (Dense)             (None, 10)                20490     \n",
      "                                                                 \n",
      "=================================================================\n",
      "Total params: 21,022,730\n",
      "Trainable params: 21,010,442\n",
      "Non-trainable params: 12,288\n",
      "_________________________________________________________________\n"
     ]
    }
   ],
   "source": [
    "input_layer = Input(shape=(IMG_SIZE, IMG_SIZE, 3))\n",
    "x = layers.Flatten()(input_layer)\n",
    "x = layers.Dense(4096, activation=\"relu\")(x)\n",
    "x = layers.BatchNormalization()(x)\n",
    "x = layers.Dense(4096, activation=\"relu\")(x)\n",
    "x = layers.BatchNormalization()(x)\n",
    "x = layers.Dense(2048, activation=\"relu\")(x)\n",
    "x = layers.BatchNormalization()(x)\n",
    "output = layers.Dense(10, activation=\"softmax\")(x)\n",
    "\n",
    "model = Model(inputs=input_layer, outputs=output)\n",
    "model.summary()"
   ]
  },
  {
   "cell_type": "code",
   "execution_count": 12,
   "id": "fbd335c1-98c6-4bda-b930-d4fcd0bbc6ef",
   "metadata": {},
   "outputs": [],
   "source": [
    "dataset_train = dataset_train.map(lambda x, y : (preprocess_input(x), y))\n",
    "dataset_val = dataset_val.map(lambda x, y : (preprocess_input(x), y))"
   ]
  },
  {
   "cell_type": "code",
   "execution_count": 13,
   "id": "72f7260e-bf4f-4b22-a8f2-684c45700677",
   "metadata": {
    "collapsed": false,
    "jupyter": {
     "outputs_hidden": false
    }
   },
   "outputs": [],
   "source": [
    "model.compile(\n",
    "    optimizer=optimizers.Adam(learning_rate=0.1),\n",
    "    loss=losses.CategoricalCrossentropy(),\n",
    "    metrics=[metrics.CategoricalAccuracy()]\n",
    ")\n",
    "\n",
    "checkpoint = callbacks.ModelCheckpoint(\n",
    "    filepath=\"weigths/fc.h5\",\n",
    "    monitor=\"val_loss\",\n",
    "    verbose=0,\n",
    "    save_best_only=True,\n",
    "    save_weights_only=True\n",
    ")\n",
    "\n",
    "early_stopping = callbacks.EarlyStopping(\n",
    "    monitor='val_loss',\n",
    "    min_delta=0,\n",
    "    patience=10,\n",
    "    verbose=0,\n",
    "    mode='auto',\n",
    "    baseline=None,\n",
    "    restore_best_weights=True\n",
    ")\n",
    "\n",
    "reduce_lr = callbacks.ReduceLROnPlateau(monitor='val_loss', factor=0.5, patience=3, min_lr=0.0001, verbose=1)"
   ]
  },
  {
   "cell_type": "code",
   "execution_count": 14,
   "id": "526f0940-60be-409c-8dd0-4455a307685e",
   "metadata": {
    "collapsed": false,
    "jupyter": {
     "outputs_hidden": false
    }
   },
   "outputs": [
    {
     "name": "stdout",
     "output_type": "stream",
     "text": [
      "Epoch 1/100\n",
      "313/313 [==============================] - 13s 30ms/step - loss: 4.1496 - categorical_accuracy: 0.2858 - val_loss: 1.8787 - val_categorical_accuracy: 0.3433 - lr: 0.1000\n",
      "Epoch 2/100\n",
      "313/313 [==============================] - 10s 31ms/step - loss: 1.7378 - categorical_accuracy: 0.3792 - val_loss: 2.3021 - val_categorical_accuracy: 0.3435 - lr: 0.1000\n",
      "Epoch 3/100\n",
      "313/313 [==============================] - 10s 31ms/step - loss: 1.6992 - categorical_accuracy: 0.4062 - val_loss: 2.0487 - val_categorical_accuracy: 0.3689 - lr: 0.1000\n",
      "Epoch 4/100\n",
      "313/313 [==============================] - ETA: 0s - loss: 1.6987 - categorical_accuracy: 0.4170\n",
      "Epoch 4: ReduceLROnPlateau reducing learning rate to 0.05000000074505806.\n",
      "313/313 [==============================] - 11s 34ms/step - loss: 1.6987 - categorical_accuracy: 0.4170 - val_loss: 1.9689 - val_categorical_accuracy: 0.3873 - lr: 0.1000\n",
      "Epoch 5/100\n",
      "313/313 [==============================] - 11s 34ms/step - loss: 1.3997 - categorical_accuracy: 0.5028 - val_loss: 1.4654 - val_categorical_accuracy: 0.4894 - lr: 0.0500\n",
      "Epoch 6/100\n",
      "313/313 [==============================] - 11s 35ms/step - loss: 1.3577 - categorical_accuracy: 0.5167 - val_loss: 1.6103 - val_categorical_accuracy: 0.4431 - lr: 0.0500\n",
      "Epoch 7/100\n",
      "313/313 [==============================] - 11s 33ms/step - loss: 1.3526 - categorical_accuracy: 0.5190 - val_loss: 1.7351 - val_categorical_accuracy: 0.4183 - lr: 0.0500\n",
      "Epoch 8/100\n",
      "310/313 [============================>.] - ETA: 0s - loss: 1.3563 - categorical_accuracy: 0.5219\n",
      "Epoch 8: ReduceLROnPlateau reducing learning rate to 0.02500000037252903.\n",
      "313/313 [==============================] - 11s 33ms/step - loss: 1.3561 - categorical_accuracy: 0.5217 - val_loss: 1.7587 - val_categorical_accuracy: 0.4483 - lr: 0.0500\n",
      "Epoch 9/100\n",
      "313/313 [==============================] - 10s 32ms/step - loss: 1.1564 - categorical_accuracy: 0.5901 - val_loss: 1.4797 - val_categorical_accuracy: 0.5067 - lr: 0.0250\n",
      "Epoch 10/100\n",
      "313/313 [==============================] - 11s 33ms/step - loss: 1.1140 - categorical_accuracy: 0.6021 - val_loss: 1.6233 - val_categorical_accuracy: 0.4801 - lr: 0.0250\n",
      "Epoch 11/100\n",
      "312/313 [============================>.] - ETA: 0s - loss: 1.0808 - categorical_accuracy: 0.6161\n",
      "Epoch 11: ReduceLROnPlateau reducing learning rate to 0.012500000186264515.\n",
      "313/313 [==============================] - 11s 33ms/step - loss: 1.0810 - categorical_accuracy: 0.6161 - val_loss: 1.5297 - val_categorical_accuracy: 0.4992 - lr: 0.0250\n",
      "Epoch 12/100\n",
      "313/313 [==============================] - 11s 34ms/step - loss: 0.9649 - categorical_accuracy: 0.6575 - val_loss: 1.4537 - val_categorical_accuracy: 0.5356 - lr: 0.0125\n",
      "Epoch 13/100\n",
      "313/313 [==============================] - 11s 34ms/step - loss: 0.9217 - categorical_accuracy: 0.6726 - val_loss: 1.5084 - val_categorical_accuracy: 0.5183 - lr: 0.0125\n",
      "Epoch 14/100\n",
      "313/313 [==============================] - 10s 32ms/step - loss: 0.8890 - categorical_accuracy: 0.6862 - val_loss: 1.5284 - val_categorical_accuracy: 0.5204 - lr: 0.0125\n",
      "Epoch 15/100\n",
      "310/313 [============================>.] - ETA: 0s - loss: 0.8516 - categorical_accuracy: 0.6985\n",
      "Epoch 15: ReduceLROnPlateau reducing learning rate to 0.0062500000931322575.\n",
      "313/313 [==============================] - 10s 32ms/step - loss: 0.8517 - categorical_accuracy: 0.6986 - val_loss: 1.5955 - val_categorical_accuracy: 0.5216 - lr: 0.0125\n",
      "Epoch 16/100\n",
      "313/313 [==============================] - 10s 33ms/step - loss: 0.7530 - categorical_accuracy: 0.7325 - val_loss: 1.6107 - val_categorical_accuracy: 0.5267 - lr: 0.0063\n",
      "Epoch 17/100\n",
      "313/313 [==============================] - 10s 30ms/step - loss: 0.7146 - categorical_accuracy: 0.7469 - val_loss: 1.6605 - val_categorical_accuracy: 0.5328 - lr: 0.0063\n",
      "Epoch 18/100\n",
      "311/313 [============================>.] - ETA: 0s - loss: 0.6844 - categorical_accuracy: 0.7589\n",
      "Epoch 18: ReduceLROnPlateau reducing learning rate to 0.0031250000465661287.\n",
      "313/313 [==============================] - 11s 33ms/step - loss: 0.6839 - categorical_accuracy: 0.7590 - val_loss: 1.7379 - val_categorical_accuracy: 0.5240 - lr: 0.0063\n",
      "Epoch 19/100\n",
      "313/313 [==============================] - 10s 30ms/step - loss: 0.6117 - categorical_accuracy: 0.7854 - val_loss: 1.7624 - val_categorical_accuracy: 0.5319 - lr: 0.0031\n",
      "Epoch 20/100\n",
      "313/313 [==============================] - 9s 29ms/step - loss: 0.5857 - categorical_accuracy: 0.7943 - val_loss: 1.8264 - val_categorical_accuracy: 0.5296 - lr: 0.0031\n",
      "Epoch 21/100\n",
      "312/313 [============================>.] - ETA: 0s - loss: 0.5628 - categorical_accuracy: 0.8035\n",
      "Epoch 21: ReduceLROnPlateau reducing learning rate to 0.0015625000232830644.\n",
      "313/313 [==============================] - 9s 30ms/step - loss: 0.5628 - categorical_accuracy: 0.8035 - val_loss: 1.8869 - val_categorical_accuracy: 0.5254 - lr: 0.0031\n",
      "Epoch 22/100\n",
      "313/313 [==============================] - 9s 30ms/step - loss: 0.5190 - categorical_accuracy: 0.8178 - val_loss: 1.8931 - val_categorical_accuracy: 0.5280 - lr: 0.0016\n"
     ]
    }
   ],
   "source": [
    "history = model.fit(\n",
    "    dataset_train,\n",
    "    epochs=100,\n",
    "    validation_data=dataset_val,\n",
    "    shuffle=True,\n",
    "    callbacks=[checkpoint, early_stopping, reduce_lr]\n",
    ")"
   ]
  },
  {
   "cell_type": "code",
   "execution_count": 15,
   "id": "50a6eefb-beb6-4b2a-ab1e-f9312e9e50b0",
   "metadata": {
    "collapsed": false,
    "jupyter": {
     "outputs_hidden": false
    }
   },
   "outputs": [
    {
     "data": {
      "text/plain": [
       "<keras.callbacks.History at 0x1ad41210ac0>"
      ]
     },
     "execution_count": 15,
     "metadata": {},
     "output_type": "execute_result"
    }
   ],
   "source": [
    "history"
   ]
  },
  {
   "cell_type": "code",
   "execution_count": 16,
   "id": "5e02127a-f029-4653-8ea2-c0e08acd9a51",
   "metadata": {},
   "outputs": [
    {
     "data": {
      "image/png": "[encoded data removed]",
      "text/plain": [
       "<Figure size 640x480 with 1 Axes>"
      ]
     },
     "metadata": {},
     "output_type": "display_data"
    }
   ],
   "source": [
    "loss = history.history['loss']\n",
    "val_loss = history.history['val_loss']\n",
    "acc = history.history['categorical_accuracy']\n",
    "val_acc = history.history['val_categorical_accuracy']\n",
    "plt.figure()\n",
    "plt.plot(history.epoch, loss, label=\"loss\")\n",
    "plt.plot(history.epoch, loss, label=\"val_loss\")\n",
    "plt.legend()\n",
    "plt.title(\"Categorical crossentropy\")\n",
    "plt.show()"
   ]
  },
  {
   "cell_type": "code",
   "execution_count": 17,
   "id": "aff4a3b0-49e2-44ea-9749-52f326b6bd61",
   "metadata": {},
   "outputs": [
    {
     "data": {
      "image/png": "[encoded data removed]",
      "text/plain": [
       "<Figure size 640x480 with 1 Axes>"
      ]
     },
     "metadata": {},
     "output_type": "display_data"
    }
   ],
   "source": [
    "plt.figure()\n",
    "plt.plot(history.epoch, acc, label=\"acc\")\n",
    "plt.plot(history.epoch, val_acc, label=\"val_acc\")\n",
    "plt.legend()\n",
    "plt.title(\"Categorical crossentropy\")\n",
    "plt.show()"
   ]
  }
 ],
 "metadata": {
  "kernelspec": {
   "display_name": "Python [conda env:tf]",
   "language": "python",
   "name": "conda-env-tf-py"
  },
  "language_info": {
   "codemirror_mode": {
    "name": "ipython",
    "version": 3
   },
   "file_extension": ".py",
   "mimetype": "text/x-python",
   "name": "python",
   "nbconvert_exporter": "python",
   "pygments_lexer": "ipython3",
   "version": "3.9.16"
  }
 },
 "nbformat": 4,
 "nbformat_minor": 5
}
