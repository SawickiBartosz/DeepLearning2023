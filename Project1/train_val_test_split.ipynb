{
 "cells": [
  {
   "cell_type": "code",
   "execution_count": 22,
   "outputs": [],
   "source": [
    "import pandas as pd\n",
    "import os\n",
    "import shutil\n",
    "\n",
    "from os import path\n",
    "from sklearn.model_selection import train_test_split"
   ],
   "metadata": {
    "collapsed": false
   }
  },
  {
   "cell_type": "code",
   "execution_count": 3,
   "outputs": [],
   "source": [
    "SEED = 123"
   ],
   "metadata": {
    "collapsed": false
   }
  },
  {
   "cell_type": "code",
   "execution_count": 4,
   "metadata": {
    "collapsed": true
   },
   "outputs": [],
   "source": [
    "labels_df = pd.read_csv(path.join(os.getcwd(), 'cifar-10', 'trainLabels.csv'))\n",
    "labels_df.label = pd.Categorical(labels_df.label)\n",
    "labels_df['codes'] = labels_df.label.cat.codes\n",
    "labels_df['name'] = labels_df['id'].astype(str) + \".png\"\n",
    "labels_df.sort_values(by=\"name\")\n",
    "filenames = list(os.walk(path.join(os.getcwd(), 'cifar-10', 'train', 'train_images'), topdown=False))[0][2]\n",
    "filenames = pd.DataFrame(filenames, columns=[\"name\"])\n",
    "filenames = filenames.merge(labels_df, on=\"name\")"
   ]
  },
  {
   "cell_type": "code",
   "execution_count": 7,
   "outputs": [
    {
     "data": {
      "text/plain": "            name     id       label  codes\n0          1.png      1        frog      6\n1         10.png     10         cat      3\n2        100.png    100  automobile      1\n3       1000.png   1000         dog      5\n4      10000.png  10000         dog      5\n...          ...    ...         ...    ...\n49995   9995.png   9995        frog      6\n49996   9996.png   9996         cat      3\n49997   9997.png   9997       truck      9\n49998   9998.png   9998  automobile      1\n49999   9999.png   9999  automobile      1\n\n[50000 rows x 4 columns]",
      "text/html": "<div>\n<style scoped>\n    .dataframe tbody tr th:only-of-type {\n        vertical-align: middle;\n    }\n\n    .dataframe tbody tr th {\n        vertical-align: top;\n    }\n\n    .dataframe thead th {\n        text-align: right;\n    }\n</style>\n<table border=\"1\" class=\"dataframe\">\n  <thead>\n    <tr style=\"text-align: right;\">\n      <th></th>\n      <th>name</th>\n      <th>id</th>\n      <th>label</th>\n      <th>codes</th>\n    </tr>\n  </thead>\n  <tbody>\n    <tr>\n      <th>0</th>\n      <td>1.png</td>\n      <td>1</td>\n      <td>frog</td>\n      <td>6</td>\n    </tr>\n    <tr>\n      <th>1</th>\n      <td>10.png</td>\n      <td>10</td>\n      <td>cat</td>\n      <td>3</td>\n    </tr>\n    <tr>\n      <th>2</th>\n      <td>100.png</td>\n      <td>100</td>\n      <td>automobile</td>\n      <td>1</td>\n    </tr>\n    <tr>\n      <th>3</th>\n      <td>1000.png</td>\n      <td>1000</td>\n      <td>dog</td>\n      <td>5</td>\n    </tr>\n    <tr>\n      <th>4</th>\n      <td>10000.png</td>\n      <td>10000</td>\n      <td>dog</td>\n      <td>5</td>\n    </tr>\n    <tr>\n      <th>...</th>\n      <td>...</td>\n      <td>...</td>\n      <td>...</td>\n      <td>...</td>\n    </tr>\n    <tr>\n      <th>49995</th>\n      <td>9995.png</td>\n      <td>9995</td>\n      <td>frog</td>\n      <td>6</td>\n    </tr>\n    <tr>\n      <th>49996</th>\n      <td>9996.png</td>\n      <td>9996</td>\n      <td>cat</td>\n      <td>3</td>\n    </tr>\n    <tr>\n      <th>49997</th>\n      <td>9997.png</td>\n      <td>9997</td>\n      <td>truck</td>\n      <td>9</td>\n    </tr>\n    <tr>\n      <th>49998</th>\n      <td>9998.png</td>\n      <td>9998</td>\n      <td>automobile</td>\n      <td>1</td>\n    </tr>\n    <tr>\n      <th>49999</th>\n      <td>9999.png</td>\n      <td>9999</td>\n      <td>automobile</td>\n      <td>1</td>\n    </tr>\n  </tbody>\n</table>\n<p>50000 rows × 4 columns</p>\n</div>"
     },
     "execution_count": 7,
     "metadata": {},
     "output_type": "execute_result"
    }
   ],
   "source": [
    "filenames"
   ],
   "metadata": {
    "collapsed": false
   }
  },
  {
   "cell_type": "code",
   "execution_count": 19,
   "outputs": [],
   "source": [
    "X_train, X_test_val, y_train, y_test_val = train_test_split(filenames[\"name\"], filenames[\"codes\"], test_size=0.3, stratify=filenames[\"codes\"], random_state=SEED)\n",
    "X_test, X_val, y_test, y_val = train_test_split(X_test_val, y_test_val, test_size=5000, stratify=y_test_val, random_state=SEED)"
   ],
   "metadata": {
    "collapsed": false
   }
  },
  {
   "cell_type": "code",
   "execution_count": 20,
   "outputs": [
    {
     "data": {
      "text/plain": "(35000, 5000, 10000)"
     },
     "execution_count": 20,
     "metadata": {},
     "output_type": "execute_result"
    }
   ],
   "source": [
    "len(X_train), len(X_val), len(X_test)"
   ],
   "metadata": {
    "collapsed": false
   }
  },
  {
   "cell_type": "code",
   "execution_count": 23,
   "outputs": [],
   "source": [
    "os.mkdir(path.join(os.getcwd(), \"train_val_test\"))\n",
    "os.mkdir(path.join(os.getcwd(), \"train_val_test\", \"train\"))\n",
    "os.mkdir(path.join(os.getcwd(), \"train_val_test\", \"val\"))\n",
    "os.mkdir(path.join(os.getcwd(), \"train_val_test\", \"test\"))\n",
    "\n",
    "CIFAR_ORIG_PATH = path.join(os.getcwd(), \"cifar-10\", \"train\", \"train_images\")\n",
    "for img_name in X_train:\n",
    "    shutil.copy(path.join(CIFAR_ORIG_PATH, img_name), path.join(os.getcwd(), \"train_val_test\", \"train\", img_name))\n",
    "for img_name in X_test:\n",
    "    shutil.copy(path.join(CIFAR_ORIG_PATH, img_name), path.join(os.getcwd(), \"train_val_test\", \"test\", img_name))\n",
    "for img_name in X_val:\n",
    "    shutil.copy(path.join(CIFAR_ORIG_PATH, img_name), path.join(os.getcwd(), \"train_val_test\", \"val\", img_name))"
   ],
   "metadata": {
    "collapsed": false
   }
  },
  {
   "cell_type": "code",
   "execution_count": 44,
   "outputs": [
    {
     "data": {
      "text/plain": "         name  codes\n12  10008.png      6\n14   1001.png      9\n17  10012.png      3\n20  10015.png      5\n27  10021.png      0",
      "text/html": "<div>\n<style scoped>\n    .dataframe tbody tr th:only-of-type {\n        vertical-align: middle;\n    }\n\n    .dataframe tbody tr th {\n        vertical-align: top;\n    }\n\n    .dataframe thead th {\n        text-align: right;\n    }\n</style>\n<table border=\"1\" class=\"dataframe\">\n  <thead>\n    <tr style=\"text-align: right;\">\n      <th></th>\n      <th>name</th>\n      <th>codes</th>\n    </tr>\n  </thead>\n  <tbody>\n    <tr>\n      <th>12</th>\n      <td>10008.png</td>\n      <td>6</td>\n    </tr>\n    <tr>\n      <th>14</th>\n      <td>1001.png</td>\n      <td>9</td>\n    </tr>\n    <tr>\n      <th>17</th>\n      <td>10012.png</td>\n      <td>3</td>\n    </tr>\n    <tr>\n      <th>20</th>\n      <td>10015.png</td>\n      <td>5</td>\n    </tr>\n    <tr>\n      <th>27</th>\n      <td>10021.png</td>\n      <td>0</td>\n    </tr>\n  </tbody>\n</table>\n</div>"
     },
     "execution_count": 44,
     "metadata": {},
     "output_type": "execute_result"
    }
   ],
   "source": [
    "test_df = pd.concat([X_test, y_test], axis=1)\n",
    "test_df = test_df.sort_values(by='name')\n",
    "val_df = pd.concat([X_val, y_val], axis=1)\n",
    "val_df = val_df.sort_values(by='name')\n",
    "train_df = pd.concat([X_train, y_train], axis=1)\n",
    "train_df = train_df.sort_values(by='name')\n",
    "test_df.head()"
   ],
   "metadata": {
    "collapsed": false
   }
  },
  {
   "cell_type": "code",
   "execution_count": 46,
   "outputs": [
    {
     "data": {
      "text/plain": "['10008.png', '1001.png', '10012.png', '10015.png', '10021.png']"
     },
     "execution_count": 46,
     "metadata": {},
     "output_type": "execute_result"
    }
   ],
   "source": [
    "list(os.walk(path.join(os.getcwd(), \"train_val_test\", \"test\")))[0][2][0:5]"
   ],
   "metadata": {
    "collapsed": false
   }
  },
  {
   "cell_type": "code",
   "execution_count": 47,
   "outputs": [],
   "source": [
    "train_df.to_csv(path.join(os.getcwd(), \"train_val_test\", \"train.csv\"))\n",
    "val_df.to_csv(path.join(os.getcwd(), \"train_val_test\", \"val.csv\"))\n",
    "test_df.to_csv(path.join(os.getcwd(), \"train_val_test\", \"test.csv\"))"
   ],
   "metadata": {
    "collapsed": false
   }
  }
 ],
 "metadata": {
  "kernelspec": {
   "display_name": "Python 3",
   "language": "python",
   "name": "python3"
  },
  "language_info": {
   "codemirror_mode": {
    "name": "ipython",
    "version": 2
   },
   "file_extension": ".py",
   "mimetype": "text/x-python",
   "name": "python",
   "nbconvert_exporter": "python",
   "pygments_lexer": "ipython2",
   "version": "2.7.6"
  }
 },
 "nbformat": 4,
 "nbformat_minor": 0
}
