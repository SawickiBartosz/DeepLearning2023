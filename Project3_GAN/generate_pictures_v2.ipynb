{
 "cells": [
  {
   "cell_type": "markdown",
   "metadata": {},
   "source": [
    "# Load modules"
   ]
  },
  {
   "cell_type": "code",
   "execution_count": 1,
   "metadata": {
    "ExecuteTime": {
     "end_time": "2023-06-13T05:44:01.354200200Z",
     "start_time": "2023-06-13T05:43:59.282130200Z"
    }
   },
   "outputs": [],
   "source": [
    "import os\n",
    "\n",
    "from tqdm.auto import tqdm\n",
    "from wgan_gp.models import Generator as WGAN_GENERATOR\n",
    "from torch import nn\n",
    "os.environ['CUBLAS_WORKSPACE_CONFIG'] = ':4096:8'\n",
    "import numpy as np\n",
    "import torch\n",
    "import random\n",
    "import torch.nn.functional as F\n",
    "import torchvision\n",
    "import pickle\n",
    "import gc\n",
    "from matplotlib import pyplot as plt\n",
    "from PIL import Image\n",
    "from torchvision import transforms\n",
    "from diffusers import DDPMPipeline"
   ]
  },
  {
   "cell_type": "code",
   "execution_count": 2,
   "metadata": {
    "ExecuteTime": {
     "end_time": "2023-06-13T05:44:01.370200600Z",
     "start_time": "2023-06-13T05:44:01.356200100Z"
    }
   },
   "outputs": [],
   "source": [
    "device = torch.device(\"cuda:0\")"
   ]
  },
  {
   "cell_type": "markdown",
   "metadata": {},
   "source": [
    "# GANs"
   ]
  },
  {
   "cell_type": "markdown",
   "metadata": {},
   "source": [
    "## WGAN-GP"
   ]
  },
  {
   "cell_type": "code",
   "execution_count": 3,
   "metadata": {
    "ExecuteTime": {
     "end_time": "2023-06-13T05:44:01.388201600Z",
     "start_time": "2023-06-13T05:44:01.372201400Z"
    }
   },
   "outputs": [],
   "source": [
    "wgan_model = \"WGAN-GP-v2_512\"\n",
    "wgan_path = os.path.join(\"GANs\", wgan_model, \"generator.pt\")"
   ]
  },
  {
   "cell_type": "code",
   "execution_count": 4,
   "metadata": {
    "ExecuteTime": {
     "end_time": "2023-06-13T05:44:02.863145900Z",
     "start_time": "2023-06-13T05:44:01.388201600Z"
    }
   },
   "outputs": [
    {
     "data": {
      "text/plain": "<All keys matched successfully>"
     },
     "execution_count": 4,
     "metadata": {},
     "output_type": "execute_result"
    }
   ],
   "source": [
    "generator = WGAN_GENERATOR(img_size=(64, 64, 3), latent_dim=512, dim=64).cuda()\n",
    "generator.load_state_dict(torch.load(wgan_path))"
   ]
  },
  {
   "cell_type": "code",
   "execution_count": 5,
   "metadata": {
    "ExecuteTime": {
     "end_time": "2023-06-13T05:44:16.344950Z",
     "start_time": "2023-06-13T05:44:02.862145600Z"
    }
   },
   "outputs": [],
   "source": [
    "batch_size = 100\n",
    "images_path = os.path.join(\"generated_images\", wgan_model)\n",
    "os.makedirs(images_path, exist_ok=True)\n",
    "for i in range(10000 // batch_size):\n",
    "    rand = generator.sample_latent(batch_size).to(device)\n",
    "    output = generator(rand)\n",
    "    for j in range(batch_size):\n",
    "        image = transforms.ToPILImage()(output[j, ...])\n",
    "        image.save(os.path.join(images_path, f\"{i * batch_size + j}.png\"))"
   ]
  }
 ],
 "metadata": {
  "kernelspec": {
   "display_name": "Python 3 (ipykernel)",
   "language": "python",
   "name": "python3"
  },
  "language_info": {
   "codemirror_mode": {
    "name": "ipython",
    "version": 3
   },
   "file_extension": ".py",
   "mimetype": "text/x-python",
   "name": "python",
   "nbconvert_exporter": "python",
   "pygments_lexer": "ipython3",
   "version": "3.9.16"
  }
 },
 "nbformat": 4,
 "nbformat_minor": 1
}
