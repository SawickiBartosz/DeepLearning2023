{
 "cells": [
  {
   "cell_type": "code",
   "execution_count": 1,
   "metadata": {
    "collapsed": true,
    "ExecuteTime": {
     "end_time": "2023-06-13T06:32:09.257460900Z",
     "start_time": "2023-06-13T06:32:05.723451100Z"
    }
   },
   "outputs": [],
   "source": [
    "from torchmetrics.image.fid import FrechetInceptionDistance\n",
    "import os\n",
    "\n",
    "from torchvision import transforms\n",
    "from torchvision.datasets import ImageFolder\n",
    "from torch.utils.data import DataLoader\n",
    "from tqdm.auto import tqdm"
   ]
  },
  {
   "cell_type": "code",
   "execution_count": 2,
   "outputs": [],
   "source": [
    "BATCH_SIZE = 64\n",
    "transforms = transforms.Compose([\n",
    "    transforms.Resize((299, 299)),\n",
    "    transforms.ToTensor()\n",
    "])"
   ],
   "metadata": {
    "collapsed": false,
    "ExecuteTime": {
     "end_time": "2023-06-13T06:32:09.271460900Z",
     "start_time": "2023-06-13T06:32:09.259460700Z"
    }
   }
  },
  {
   "cell_type": "code",
   "execution_count": 3,
   "outputs": [],
   "source": [
    "fid = FrechetInceptionDistance(feature=192, reset_real_features=False, normalize=True).cuda()\n",
    "dataset = ImageFolder(\"lsun_bedroom\", transform=transforms)\n",
    "real_data = DataLoader(\n",
    "    dataset, batch_size=BATCH_SIZE, shuffle=True, num_workers=6\n",
    ")"
   ],
   "metadata": {
    "collapsed": false,
    "ExecuteTime": {
     "end_time": "2023-06-13T06:32:12.985816700Z",
     "start_time": "2023-06-13T06:32:09.275460500Z"
    }
   }
  },
  {
   "cell_type": "code",
   "execution_count": 4,
   "outputs": [
    {
     "data": {
      "text/plain": "Batch:   0%|          | 0/4737 [00:16<?, ?it/s]",
      "application/vnd.jupyter.widget-view+json": {
       "version_major": 2,
       "version_minor": 0,
       "model_id": "d2ab51fdd7484649b5946d01b1f0b209"
      }
     },
     "metadata": {},
     "output_type": "display_data"
    }
   ],
   "source": [
    "for batch in tqdm(real_data, desc=\"Batch\"):\n",
    "    fid.update(batch[0].cuda(), real=True)"
   ],
   "metadata": {
    "collapsed": false,
    "ExecuteTime": {
     "end_time": "2023-06-13T06:36:25.247610500Z",
     "start_time": "2023-06-13T06:32:12.986816700Z"
    }
   }
  },
  {
   "cell_type": "code",
   "execution_count": 5,
   "outputs": [
    {
     "data": {
      "text/plain": "Batch:   0%|          | 0/157 [00:07<?, ?it/s]",
      "application/vnd.jupyter.widget-view+json": {
       "version_major": 2,
       "version_minor": 0,
       "model_id": "0aa272e920d742b49e8bf661c0d8ce3a"
      }
     },
     "metadata": {},
     "output_type": "display_data"
    },
    {
     "name": "stdout",
     "output_type": "stream",
     "text": [
      "cosine: 118.3950424194336\n"
     ]
    },
    {
     "data": {
      "text/plain": "Batch:   0%|          | 0/157 [00:07<?, ?it/s]",
      "application/vnd.jupyter.widget-view+json": {
       "version_major": 2,
       "version_minor": 0,
       "model_id": "0bbe1c01b740442bb79e33dc5719e0e1"
      }
     },
     "metadata": {},
     "output_type": "display_data"
    },
    {
     "name": "stdout",
     "output_type": "stream",
     "text": [
      "DC-GAN_1024: 39.22344207763672\n"
     ]
    },
    {
     "data": {
      "text/plain": "Batch:   0%|          | 0/157 [00:07<?, ?it/s]",
      "application/vnd.jupyter.widget-view+json": {
       "version_major": 2,
       "version_minor": 0,
       "model_id": "362671da5bb44ed5bbd345f80a3416f3"
      }
     },
     "metadata": {},
     "output_type": "display_data"
    },
    {
     "name": "stdout",
     "output_type": "stream",
     "text": [
      "DC-GAN_128: 42.666500091552734\n"
     ]
    },
    {
     "data": {
      "text/plain": "Batch:   0%|          | 0/157 [00:07<?, ?it/s]",
      "application/vnd.jupyter.widget-view+json": {
       "version_major": 2,
       "version_minor": 0,
       "model_id": "8ecaaa272ae8499583f0b0ba5f8a9c4b"
      }
     },
     "metadata": {},
     "output_type": "display_data"
    },
    {
     "name": "stdout",
     "output_type": "stream",
     "text": [
      "DC-GAN_32: 43.75426483154297\n"
     ]
    },
    {
     "data": {
      "text/plain": "Batch:   0%|          | 0/157 [00:07<?, ?it/s]",
      "application/vnd.jupyter.widget-view+json": {
       "version_major": 2,
       "version_minor": 0,
       "model_id": "3d03d1ee1aa74189afe2e3821eb98046"
      }
     },
     "metadata": {},
     "output_type": "display_data"
    },
    {
     "name": "stdout",
     "output_type": "stream",
     "text": [
      "linear: 82.76261901855469\n"
     ]
    },
    {
     "data": {
      "text/plain": "Batch:   0%|          | 0/157 [00:07<?, ?it/s]",
      "application/vnd.jupyter.widget-view+json": {
       "version_major": 2,
       "version_minor": 0,
       "model_id": "166909f5895c4eb58b0904a0a386c86b"
      }
     },
     "metadata": {},
     "output_type": "display_data"
    },
    {
     "name": "stdout",
     "output_type": "stream",
     "text": [
      "sigmoid: 84.11488342285156\n"
     ]
    },
    {
     "data": {
      "text/plain": "Batch:   0%|          | 0/157 [00:07<?, ?it/s]",
      "application/vnd.jupyter.widget-view+json": {
       "version_major": 2,
       "version_minor": 0,
       "model_id": "8a6bfbe7422244c1bf38eb87263e3e5d"
      }
     },
     "metadata": {},
     "output_type": "display_data"
    },
    {
     "name": "stdout",
     "output_type": "stream",
     "text": [
      "WGAN-GP_512: 271.4200744628906\n"
     ]
    }
   ],
   "source": [
    "for file in os.listdir(\"generated_images\"):\n",
    "    dataset = ImageFolder(os.path.join(\"generated_images\", file), transform=transforms)\n",
    "    generated_data = DataLoader(\n",
    "        dataset, batch_size=BATCH_SIZE, shuffle=True, num_workers=6\n",
    "    )\n",
    "    for batch in tqdm(generated_data, desc=\"Batch\"):\n",
    "        fid.update(batch[0].cuda(), real=False)\n",
    "    print(f\"{file}: {fid.compute()}\")\n",
    "    fid.reset()"
   ],
   "metadata": {
    "collapsed": false,
    "ExecuteTime": {
     "end_time": "2023-06-13T06:42:04.229712600Z",
     "start_time": "2023-06-13T06:36:25.248609500Z"
    }
   }
  }
 ],
 "metadata": {
  "kernelspec": {
   "display_name": "Python 3",
   "language": "python",
   "name": "python3"
  },
  "language_info": {
   "codemirror_mode": {
    "name": "ipython",
    "version": 2
   },
   "file_extension": ".py",
   "mimetype": "text/x-python",
   "name": "python",
   "nbconvert_exporter": "python",
   "pygments_lexer": "ipython2",
   "version": "2.7.6"
  }
 },
 "nbformat": 4,
 "nbformat_minor": 0
}
