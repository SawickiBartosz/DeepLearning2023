{
 "cells": [
  {
   "cell_type": "code",
   "execution_count": 1,
   "metadata": {
    "collapsed": true,
    "ExecuteTime": {
     "end_time": "2023-06-12T16:34:07.783520200Z",
     "start_time": "2023-06-12T16:34:05.315846900Z"
    }
   },
   "outputs": [],
   "source": [
    "from torchmetrics.image.fid import FrechetInceptionDistance\n",
    "import os\n",
    "\n",
    "from torchvision import transforms\n",
    "from torchvision.datasets import ImageFolder\n",
    "from torch.utils.data import DataLoader\n",
    "from tqdm.auto import tqdm"
   ]
  },
  {
   "cell_type": "code",
   "execution_count": 2,
   "outputs": [],
   "source": [
    "BATCH_SIZE = 64\n",
    "transforms = transforms.Compose([\n",
    "    transforms.Resize((299, 299)),\n",
    "    transforms.ToTensor()\n",
    "])"
   ],
   "metadata": {
    "collapsed": false,
    "ExecuteTime": {
     "end_time": "2023-06-12T16:34:07.797520200Z",
     "start_time": "2023-06-12T16:34:07.783520200Z"
    }
   }
  },
  {
   "cell_type": "code",
   "execution_count": 3,
   "outputs": [],
   "source": [
    "fid = FrechetInceptionDistance(feature=192, reset_real_features=False, normalize=True).cuda()\n",
    "dataset = ImageFolder(\"lsun_bedroom\", transform=transforms)\n",
    "real_data = DataLoader(\n",
    "    dataset, batch_size=BATCH_SIZE, shuffle=True, num_workers=6\n",
    ")"
   ],
   "metadata": {
    "collapsed": false,
    "ExecuteTime": {
     "end_time": "2023-06-12T16:34:09.374519400Z",
     "start_time": "2023-06-12T16:34:07.798519900Z"
    }
   }
  },
  {
   "cell_type": "code",
   "execution_count": 4,
   "outputs": [
    {
     "data": {
      "text/plain": "Batch:   0%|          | 0/4737 [00:08<?, ?it/s]",
      "application/vnd.jupyter.widget-view+json": {
       "version_major": 2,
       "version_minor": 0,
       "model_id": "ae745100afd14647aac33f0a5609ba72"
      }
     },
     "metadata": {},
     "output_type": "display_data"
    }
   ],
   "source": [
    "for batch in tqdm(real_data, desc=\"Batch\"):\n",
    "    fid.update(batch[0].cuda(), real=True)"
   ],
   "metadata": {
    "collapsed": false,
    "ExecuteTime": {
     "end_time": "2023-06-12T16:38:14.194861700Z",
     "start_time": "2023-06-12T16:34:09.377519300Z"
    }
   }
  },
  {
   "cell_type": "code",
   "execution_count": 6,
   "outputs": [
    {
     "data": {
      "text/plain": "Batch:   0%|          | 0/157 [00:07<?, ?it/s]",
      "application/vnd.jupyter.widget-view+json": {
       "version_major": 2,
       "version_minor": 0,
       "model_id": "17a9deb4846f450ca2ab1264aa823cbc"
      }
     },
     "metadata": {},
     "output_type": "display_data"
    },
    {
     "name": "stdout",
     "output_type": "stream",
     "text": [
      "cosine: 118.3950424194336\n"
     ]
    },
    {
     "data": {
      "text/plain": "Batch:   0%|          | 0/157 [00:07<?, ?it/s]",
      "application/vnd.jupyter.widget-view+json": {
       "version_major": 2,
       "version_minor": 0,
       "model_id": "8dfdfd7f667a4319951b89bec0ffd80b"
      }
     },
     "metadata": {},
     "output_type": "display_data"
    },
    {
     "name": "stdout",
     "output_type": "stream",
     "text": [
      "DC-GAN_1024: 39.22344207763672\n"
     ]
    },
    {
     "data": {
      "text/plain": "Batch:   0%|          | 0/157 [00:07<?, ?it/s]",
      "application/vnd.jupyter.widget-view+json": {
       "version_major": 2,
       "version_minor": 0,
       "model_id": "92aab3b414ec4028adc0b56bec965324"
      }
     },
     "metadata": {},
     "output_type": "display_data"
    },
    {
     "name": "stdout",
     "output_type": "stream",
     "text": [
      "DC-GAN_128: 42.666500091552734\n"
     ]
    },
    {
     "data": {
      "text/plain": "Batch:   0%|          | 0/157 [00:07<?, ?it/s]",
      "application/vnd.jupyter.widget-view+json": {
       "version_major": 2,
       "version_minor": 0,
       "model_id": "530db523917d4674967532c45494d151"
      }
     },
     "metadata": {},
     "output_type": "display_data"
    },
    {
     "name": "stdout",
     "output_type": "stream",
     "text": [
      "DC-GAN_32: 43.75426483154297\n"
     ]
    },
    {
     "data": {
      "text/plain": "Batch:   0%|          | 0/157 [00:07<?, ?it/s]",
      "application/vnd.jupyter.widget-view+json": {
       "version_major": 2,
       "version_minor": 0,
       "model_id": "89b3d3f8a0a942dd9bf3ecb68590e6de"
      }
     },
     "metadata": {},
     "output_type": "display_data"
    },
    {
     "name": "stdout",
     "output_type": "stream",
     "text": [
      "linear: 82.76261901855469\n"
     ]
    },
    {
     "data": {
      "text/plain": "Batch:   0%|          | 0/157 [00:07<?, ?it/s]",
      "application/vnd.jupyter.widget-view+json": {
       "version_major": 2,
       "version_minor": 0,
       "model_id": "8f105179c3be49c29befb443f1eafd20"
      }
     },
     "metadata": {},
     "output_type": "display_data"
    },
    {
     "name": "stdout",
     "output_type": "stream",
     "text": [
      "sigmoid: 84.11488342285156\n"
     ]
    },
    {
     "data": {
      "text/plain": "Batch:   0%|          | 0/157 [00:07<?, ?it/s]",
      "application/vnd.jupyter.widget-view+json": {
       "version_major": 2,
       "version_minor": 0,
       "model_id": "90acb21e120445b3ac3be965649f525c"
      }
     },
     "metadata": {},
     "output_type": "display_data"
    },
    {
     "name": "stdout",
     "output_type": "stream",
     "text": [
      "WGAN-GP_512: 272.9845275878906\n"
     ]
    }
   ],
   "source": [
    "for file in os.listdir(\"generated_images\"):\n",
    "    dataset = ImageFolder(os.path.join(\"generated_images\", file), transform=transforms)\n",
    "    generated_data = DataLoader(\n",
    "        dataset, batch_size=BATCH_SIZE, shuffle=True, num_workers=6\n",
    "    )\n",
    "    for batch in tqdm(generated_data, desc=\"Batch\"):\n",
    "        fid.update(batch[0].cuda(), real=False)\n",
    "    print(f\"{file}: {fid.compute()}\")\n",
    "    fid.reset()"
   ],
   "metadata": {
    "collapsed": false,
    "ExecuteTime": {
     "end_time": "2023-06-12T16:46:40.904872100Z",
     "start_time": "2023-06-12T16:41:57.631285500Z"
    }
   }
  }
 ],
 "metadata": {
  "kernelspec": {
   "display_name": "Python 3",
   "language": "python",
   "name": "python3"
  },
  "language_info": {
   "codemirror_mode": {
    "name": "ipython",
    "version": 2
   },
   "file_extension": ".py",
   "mimetype": "text/x-python",
   "name": "python",
   "nbconvert_exporter": "python",
   "pygments_lexer": "ipython2",
   "version": "2.7.6"
  }
 },
 "nbformat": 4,
 "nbformat_minor": 0
}
