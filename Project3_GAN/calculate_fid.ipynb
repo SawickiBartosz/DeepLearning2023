{
 "cells": [
  {
   "cell_type": "code",
   "execution_count": 1,
   "metadata": {
    "collapsed": true,
    "ExecuteTime": {
     "end_time": "2023-06-13T07:52:36.558040500Z",
     "start_time": "2023-06-13T07:52:35.051599400Z"
    }
   },
   "outputs": [],
   "source": [
    "from torchmetrics.image.fid import FrechetInceptionDistance\n",
    "import os\n",
    "\n",
    "from torchvision import transforms\n",
    "from torchvision.datasets import ImageFolder\n",
    "from torch.utils.data import DataLoader\n",
    "from tqdm.auto import tqdm"
   ]
  },
  {
   "cell_type": "code",
   "execution_count": 2,
   "outputs": [],
   "source": [
    "BATCH_SIZE = 64\n",
    "transforms = transforms.Compose([\n",
    "    transforms.Resize((299, 299)),\n",
    "    transforms.ToTensor()\n",
    "])"
   ],
   "metadata": {
    "collapsed": false,
    "ExecuteTime": {
     "end_time": "2023-06-13T07:52:36.572040400Z",
     "start_time": "2023-06-13T07:52:36.559042800Z"
    }
   }
  },
  {
   "cell_type": "code",
   "execution_count": 3,
   "outputs": [],
   "source": [
    "fid = FrechetInceptionDistance(feature=192, reset_real_features=False, normalize=True).cuda()\n",
    "dataset = ImageFolder(\"lsun_bedroom\", transform=transforms)\n",
    "real_data = DataLoader(\n",
    "    dataset, batch_size=BATCH_SIZE, shuffle=True, num_workers=6\n",
    ")"
   ],
   "metadata": {
    "collapsed": false,
    "ExecuteTime": {
     "end_time": "2023-06-13T07:52:38.159041200Z",
     "start_time": "2023-06-13T07:52:36.574040700Z"
    }
   }
  },
  {
   "cell_type": "code",
   "execution_count": 4,
   "outputs": [
    {
     "data": {
      "text/plain": "Batch:   0%|          | 0/4737 [00:07<?, ?it/s]",
      "application/vnd.jupyter.widget-view+json": {
       "version_major": 2,
       "version_minor": 0,
       "model_id": "e4405bb174834d78951f55c40dd4d49e"
      }
     },
     "metadata": {},
     "output_type": "display_data"
    }
   ],
   "source": [
    "for batch in tqdm(real_data, desc=\"Batch\"):\n",
    "    fid.update(batch[0].cuda(), real=True)"
   ],
   "metadata": {
    "collapsed": false,
    "ExecuteTime": {
     "end_time": "2023-06-13T07:56:46.392402200Z",
     "start_time": "2023-06-13T07:52:38.161042200Z"
    }
   }
  },
  {
   "cell_type": "code",
   "execution_count": 6,
   "outputs": [
    {
     "data": {
      "text/plain": "Batch:   0%|          | 0/157 [00:07<?, ?it/s]",
      "application/vnd.jupyter.widget-view+json": {
       "version_major": 2,
       "version_minor": 0,
       "model_id": "37b1f8e31a2c4ee0ae888099538240af"
      }
     },
     "metadata": {},
     "output_type": "display_data"
    },
    {
     "name": "stdout",
     "output_type": "stream",
     "text": [
      "cosine: 118.3950424194336\n"
     ]
    },
    {
     "data": {
      "text/plain": "Batch:   0%|          | 0/157 [00:07<?, ?it/s]",
      "application/vnd.jupyter.widget-view+json": {
       "version_major": 2,
       "version_minor": 0,
       "model_id": "39ba897fcf0f4bbdaff1bb9253642c1c"
      }
     },
     "metadata": {},
     "output_type": "display_data"
    },
    {
     "name": "stdout",
     "output_type": "stream",
     "text": [
      "DC-GAN_1024: 39.22344207763672\n"
     ]
    },
    {
     "data": {
      "text/plain": "Batch:   0%|          | 0/157 [00:07<?, ?it/s]",
      "application/vnd.jupyter.widget-view+json": {
       "version_major": 2,
       "version_minor": 0,
       "model_id": "f24fd99a13d94cf3bac808ad88e859aa"
      }
     },
     "metadata": {},
     "output_type": "display_data"
    },
    {
     "name": "stdout",
     "output_type": "stream",
     "text": [
      "DC-GAN_128: 42.666500091552734\n"
     ]
    },
    {
     "data": {
      "text/plain": "Batch:   0%|          | 0/157 [00:07<?, ?it/s]",
      "application/vnd.jupyter.widget-view+json": {
       "version_major": 2,
       "version_minor": 0,
       "model_id": "d615a7079eef4a869c9ef558d4274ff9"
      }
     },
     "metadata": {},
     "output_type": "display_data"
    },
    {
     "name": "stdout",
     "output_type": "stream",
     "text": [
      "DC-GAN_32: 43.75426483154297\n"
     ]
    },
    {
     "data": {
      "text/plain": "Batch:   0%|          | 0/157 [00:07<?, ?it/s]",
      "application/vnd.jupyter.widget-view+json": {
       "version_major": 2,
       "version_minor": 0,
       "model_id": "75426ec3be2a40bbb37a4e2fe9ccff16"
      }
     },
     "metadata": {},
     "output_type": "display_data"
    },
    {
     "name": "stdout",
     "output_type": "stream",
     "text": [
      "linear: 82.76261901855469\n"
     ]
    },
    {
     "data": {
      "text/plain": "Batch:   0%|          | 0/157 [00:07<?, ?it/s]",
      "application/vnd.jupyter.widget-view+json": {
       "version_major": 2,
       "version_minor": 0,
       "model_id": "62215e1319914e84a6f738c4ac410a66"
      }
     },
     "metadata": {},
     "output_type": "display_data"
    },
    {
     "name": "stdout",
     "output_type": "stream",
     "text": [
      "sigmoid: 84.11488342285156\n"
     ]
    },
    {
     "data": {
      "text/plain": "Batch:   0%|          | 0/157 [00:07<?, ?it/s]",
      "application/vnd.jupyter.widget-view+json": {
       "version_major": 2,
       "version_minor": 0,
       "model_id": "3cf7e9e1d174467a953dd4d132c79c71"
      }
     },
     "metadata": {},
     "output_type": "display_data"
    },
    {
     "name": "stdout",
     "output_type": "stream",
     "text": [
      "WGAN-GP-v2_512: 167.9501953125\n"
     ]
    },
    {
     "data": {
      "text/plain": "Batch:   0%|          | 0/157 [00:07<?, ?it/s]",
      "application/vnd.jupyter.widget-view+json": {
       "version_major": 2,
       "version_minor": 0,
       "model_id": "588b54bcf7804c10922c1400029df010"
      }
     },
     "metadata": {},
     "output_type": "display_data"
    },
    {
     "name": "stdout",
     "output_type": "stream",
     "text": [
      "WGAN-GP_512: 271.4200744628906\n"
     ]
    }
   ],
   "source": [
    "for file in os.listdir(\"generated_images\"):\n",
    "    dataset = ImageFolder(os.path.join(\"generated_images\", file), transform=transforms)\n",
    "    generated_data = DataLoader(\n",
    "        dataset, batch_size=BATCH_SIZE, shuffle=True, num_workers=6\n",
    "    )\n",
    "    for batch in tqdm(generated_data, desc=\"Batch\"):\n",
    "        fid.update(batch[0].cuda(), real=False)\n",
    "    print(f\"{file}: {fid.compute()}\")\n",
    "    fid.reset()"
   ],
   "metadata": {
    "collapsed": false,
    "ExecuteTime": {
     "end_time": "2023-06-13T08:34:22.970395300Z",
     "start_time": "2023-06-13T08:28:47.040791500Z"
    }
   }
  }
 ],
 "metadata": {
  "kernelspec": {
   "display_name": "Python 3",
   "language": "python",
   "name": "python3"
  },
  "language_info": {
   "codemirror_mode": {
    "name": "ipython",
    "version": 2
   },
   "file_extension": ".py",
   "mimetype": "text/x-python",
   "name": "python",
   "nbconvert_exporter": "python",
   "pygments_lexer": "ipython2",
   "version": "2.7.6"
  }
 },
 "nbformat": 4,
 "nbformat_minor": 0
}
