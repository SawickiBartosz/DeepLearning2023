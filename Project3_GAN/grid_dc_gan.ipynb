{
 "cells": [
  {
   "cell_type": "code",
   "execution_count": 1,
   "metadata": {
    "collapsed": true,
    "ExecuteTime": {
     "end_time": "2023-06-12T19:18:14.070634400Z",
     "start_time": "2023-06-12T19:18:12.928788100Z"
    }
   },
   "outputs": [],
   "source": [
    "import os\n",
    "\n",
    "from torch import nn\n",
    "from torchvision.utils import make_grid, save_image\n",
    "\n",
    "os.environ['CUBLAS_WORKSPACE_CONFIG'] = ':4096:8'\n",
    "import torch\n",
    "from torchvision import transforms"
   ]
  },
  {
   "cell_type": "markdown",
   "source": [
    "## DC GANs"
   ],
   "metadata": {
    "collapsed": false
   }
  },
  {
   "cell_type": "code",
   "execution_count": 2,
   "outputs": [],
   "source": [
    "device = torch.device(\"cuda:0\")"
   ],
   "metadata": {
    "collapsed": false,
    "ExecuteTime": {
     "end_time": "2023-06-12T19:18:14.085635200Z",
     "start_time": "2023-06-12T19:18:14.070634400Z"
    }
   }
  },
  {
   "cell_type": "code",
   "execution_count": 3,
   "outputs": [],
   "source": [
    "GENERATOR_FEATURES_SIZE = 64\n",
    "IMG_CHANNELS = 3\n",
    "\n",
    "class Generator(nn.Module):\n",
    "    def __init__(self, latent_space_dim):\n",
    "        super(Generator, self).__init__()\n",
    "        self.main = nn.Sequential(\n",
    "            # input is Z, going into a convolution\n",
    "            nn.ConvTranspose2d(latent_space_dim, GENERATOR_FEATURES_SIZE * 8, 4, 1, 0, bias=False),\n",
    "            nn.BatchNorm2d(GENERATOR_FEATURES_SIZE * 8),\n",
    "            nn.ReLU(True),\n",
    "            # state size. ``(ngf*8) x 4 x 4``\n",
    "            nn.ConvTranspose2d(GENERATOR_FEATURES_SIZE * 8, GENERATOR_FEATURES_SIZE * 4, 4, 2, 1, bias=False),\n",
    "            nn.BatchNorm2d(GENERATOR_FEATURES_SIZE * 4),\n",
    "            nn.ReLU(True),\n",
    "            # state size. ``(ngf*4) x 8 x 8``\n",
    "            nn.ConvTranspose2d( GENERATOR_FEATURES_SIZE * 4, GENERATOR_FEATURES_SIZE * 2, 4, 2, 1, bias=False),\n",
    "            nn.BatchNorm2d(GENERATOR_FEATURES_SIZE * 2),\n",
    "            nn.ReLU(True),\n",
    "            # state size. ``(ngf*2) x 16 x 16``\n",
    "            nn.ConvTranspose2d( GENERATOR_FEATURES_SIZE * 2, GENERATOR_FEATURES_SIZE, 4, 2, 1, bias=False),\n",
    "            nn.BatchNorm2d(GENERATOR_FEATURES_SIZE),\n",
    "            nn.ReLU(True),\n",
    "            # state size. ``(ngf) x 32 x 32``\n",
    "            nn.ConvTranspose2d( GENERATOR_FEATURES_SIZE, IMG_CHANNELS, 4, 2, 1, bias=False),\n",
    "            nn.Tanh()\n",
    "            # state size. ``(nc) x 64 x 64``\n",
    "        )\n",
    "\n",
    "    def forward(self, input):\n",
    "        return self.main(input)"
   ],
   "metadata": {
    "collapsed": false,
    "ExecuteTime": {
     "end_time": "2023-06-12T19:18:14.105634900Z",
     "start_time": "2023-06-12T19:18:14.088634500Z"
    }
   }
  },
  {
   "cell_type": "code",
   "execution_count": 4,
   "outputs": [],
   "source": [
    "batch_size = 64\n",
    "dc_gans = [file for file in os.listdir(\"GANs\") if file.startswith(\"DC-GAN\")]\n",
    "for dc_gan in dc_gans:\n",
    "    latent_dim = int(dc_gan.split(\"_\")[-1])\n",
    "    netG = Generator(latent_dim).to(device)\n",
    "    netG.load_state_dict(torch.load(os.path.join(\"GANs\", dc_gan, \"generator\")))\n",
    "    fixed_noise = torch.randn(batch_size, latent_dim, 1, 1, device=device)\n",
    "    output = (netG(fixed_noise) + 1) / 2\n",
    "    grid = make_grid(output, nrow=8)\n",
    "    save_image(grid, os.path.join(\"generated_images\", f\"{dc_gan}_grid.png\"))"
   ],
   "metadata": {
    "collapsed": false,
    "ExecuteTime": {
     "end_time": "2023-06-12T19:18:14.612646400Z",
     "start_time": "2023-06-12T19:18:14.102636500Z"
    }
   }
  }
 ],
 "metadata": {
  "kernelspec": {
   "display_name": "Python 3",
   "language": "python",
   "name": "python3"
  },
  "language_info": {
   "codemirror_mode": {
    "name": "ipython",
    "version": 2
   },
   "file_extension": ".py",
   "mimetype": "text/x-python",
   "name": "python",
   "nbconvert_exporter": "python",
   "pygments_lexer": "ipython2",
   "version": "2.7.6"
  }
 },
 "nbformat": 4,
 "nbformat_minor": 0
}
