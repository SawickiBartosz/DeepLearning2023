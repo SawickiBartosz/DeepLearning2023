{
 "cells": [
  {
   "cell_type": "markdown",
   "source": [
    "# Loading packages"
   ],
   "metadata": {
    "collapsed": false
   }
  },
  {
   "cell_type": "code",
   "execution_count": 1,
   "metadata": {
    "collapsed": true,
    "ExecuteTime": {
     "end_time": "2023-06-10T23:55:16.112997100Z",
     "start_time": "2023-06-10T23:55:13.803975300Z"
    }
   },
   "outputs": [],
   "source": [
    "import os\n",
    "\n",
    "os.environ['CUBLAS_WORKSPACE_CONFIG'] = ':4096:8'\n",
    "import numpy as np\n",
    "import torch\n",
    "import random\n",
    "import torch.nn.functional as F\n",
    "import torchvision\n",
    "import pickle\n",
    "import gc\n",
    "from matplotlib import pyplot as plt\n",
    "from PIL import Image\n",
    "from torchvision import transforms\n",
    "from diffusers import DDPMScheduler, UNet2DModel, DDPMPipeline\n",
    "from tqdm.auto import tqdm\n",
    "\n",
    "\n",
    "def image_grid(imgs, rows, cols):\n",
    "    assert len(imgs) == rows*cols\n",
    "\n",
    "    w, h = imgs[0].size\n",
    "    grid = Image.new('RGB', size=(cols*w, rows*h))\n",
    "    grid_w, grid_h = grid.size\n",
    "\n",
    "    for i, img in enumerate(imgs):\n",
    "        grid.paste(img, box=(i%cols*w, i//cols*h))\n",
    "    return grid\n"
   ]
  },
  {
   "cell_type": "code",
   "execution_count": 2,
   "outputs": [
    {
     "name": "stdout",
     "output_type": "stream",
     "text": [
      "Random Seed:  1\n"
     ]
    }
   ],
   "source": [
    "IMAGE_SIZE = 64\n",
    "BATCH_SIZE = 32\n",
    "N_EPOCH = 10\n",
    "MANUAL_SEED = 1\n",
    "print(\"Random Seed: \", MANUAL_SEED)\n",
    "random.seed(MANUAL_SEED)\n",
    "torch.manual_seed(MANUAL_SEED)\n",
    "torch.cuda.manual_seed(MANUAL_SEED)\n",
    "torch.use_deterministic_algorithms(True)\n",
    "device = torch.device(\"cuda:0\" if torch.cuda.is_available() else \"cpu\")"
   ],
   "metadata": {
    "collapsed": false,
    "ExecuteTime": {
     "end_time": "2023-06-10T23:55:16.127997200Z",
     "start_time": "2023-06-10T23:55:16.114996100Z"
    }
   }
  },
  {
   "cell_type": "markdown",
   "source": [
    "# Loading data"
   ],
   "metadata": {
    "collapsed": false
   }
  },
  {
   "cell_type": "code",
   "execution_count": 3,
   "outputs": [],
   "source": [
    "# Define data augmentations\n",
    "preprocess = transforms.Compose(\n",
    "    [\n",
    "        transforms.Resize((IMAGE_SIZE, IMAGE_SIZE)),  # Resize\n",
    "        transforms.RandomHorizontalFlip(),  # Randomly flip (data augmentation)\n",
    "        transforms.ToTensor(),  # Convert to tensor (0, 1)\n",
    "        transforms.Normalize((0.5, 0.5, 0.5), (0.5, 0.5, 0.5)),  # Map to (-1, 1)\n",
    "    ]\n",
    ")"
   ],
   "metadata": {
    "collapsed": false,
    "ExecuteTime": {
     "end_time": "2023-06-10T23:55:16.173996500Z",
     "start_time": "2023-06-10T23:55:16.128996900Z"
    }
   }
  },
  {
   "cell_type": "code",
   "execution_count": 4,
   "outputs": [],
   "source": [
    "dataset = torchvision.datasets.ImageFolder(\"lsun_bedroom\", transform=preprocess)\n",
    "train_dataloader = torch.utils.data.DataLoader(\n",
    "    dataset, batch_size=BATCH_SIZE, shuffle=True, num_workers=6\n",
    ")\n"
   ],
   "metadata": {
    "collapsed": false,
    "ExecuteTime": {
     "end_time": "2023-06-10T23:55:17.345007100Z",
     "start_time": "2023-06-10T23:55:16.145997100Z"
    }
   }
  },
  {
   "cell_type": "markdown",
   "source": [
    "# Models"
   ],
   "metadata": {
    "collapsed": false
   }
  },
  {
   "cell_type": "code",
   "execution_count": 5,
   "outputs": [],
   "source": [
    "def train_model_and_save(scheduler, name):\n",
    "    # Create a model\n",
    "    model = UNet2DModel(\n",
    "        sample_size=IMAGE_SIZE,  # the target image resolution\n",
    "        in_channels=3,  # the number of input channels, 3 for RGB images\n",
    "        out_channels=3,  # the number of output channels\n",
    "        layers_per_block=2,  # how many ResNet layers to use per UNet block\n",
    "        block_out_channels=(64, 128, 128, 256),  # More channels -> more parameters\n",
    "        down_block_types=(\n",
    "            \"DownBlock2D\",  # a regular ResNet downsampling block\n",
    "            \"DownBlock2D\",\n",
    "            \"AttnDownBlock2D\",  # a ResNet downsampling block with spatial self-attention\n",
    "            \"AttnDownBlock2D\",\n",
    "        ),\n",
    "        up_block_types=(\n",
    "            \"AttnUpBlock2D\",\n",
    "            \"AttnUpBlock2D\",  # a ResNet upsampling block with spatial self-attention\n",
    "            \"UpBlock2D\",\n",
    "            \"UpBlock2D\",  # a regular ResNet upsampling block\n",
    "        ),\n",
    "    )\n",
    "    model.to(device)\n",
    "    noise_scheduler = scheduler\n",
    "    optimizer = torch.optim.AdamW(model.parameters(), lr=1e-4)\n",
    "\n",
    "    losses = []\n",
    "\n",
    "    for epoch in tqdm(range(N_EPOCH), desc=\"Epoch\"):\n",
    "        for step, batch in enumerate(train_dataloader):\n",
    "            clean_images = batch[0].to(device)\n",
    "            # Sample noise to add to the images\n",
    "            noise = torch.randn(clean_images.shape).to(clean_images.device)\n",
    "            bs = clean_images.shape[0]\n",
    "\n",
    "            # Sample a random timestep for each image\n",
    "            timesteps = torch.randint(\n",
    "                0, noise_scheduler.config.num_train_timesteps, (bs,), device=clean_images.device\n",
    "            ).long()\n",
    "\n",
    "            # Add noise to the clean images according to the noise magnitude at each timestep\n",
    "            noisy_images = noise_scheduler.add_noise(clean_images, noise, timesteps)\n",
    "\n",
    "            # Get the model prediction\n",
    "            noise_pred = model(noisy_images, timesteps, return_dict=False)[0]\n",
    "\n",
    "            # Calculate the loss\n",
    "            loss = F.mse_loss(noise_pred, noise)\n",
    "            loss.backward(loss)\n",
    "            losses.append(loss.item())\n",
    "            # Update the model parameters with the optimizer\n",
    "            optimizer.step()\n",
    "            optimizer.zero_grad()\n",
    "\n",
    "        loss_last_epoch = sum(losses[-len(train_dataloader):]) / len(train_dataloader)\n",
    "        print(f\"Epoch:{epoch + 1}, loss: {loss_last_epoch}\")\n",
    "\n",
    "    image_pipe = DDPMPipeline(unet=model, scheduler=noise_scheduler)\n",
    "    image_pipe.save_pretrained(os.path.join(\"diffusion_models\", name))\n",
    "    images_one = image_pipe(batch_size=32).images\n",
    "    images_two = image_pipe(batch_size=32).images\n",
    "    connected_images = images_one + images_two\n",
    "    grid = image_grid(connected_images, 8, 8)\n",
    "    return grid, losses, connected_images"
   ],
   "metadata": {
    "collapsed": false,
    "ExecuteTime": {
     "end_time": "2023-06-10T23:55:17.347007600Z",
     "start_time": "2023-06-10T23:55:17.345007100Z"
    }
   }
  },
  {
   "cell_type": "code",
   "execution_count": null,
   "outputs": [
    {
     "data": {
      "text/plain": "Epoch:   0%|          | 0/10 [00:00<?, ?it/s]",
      "application/vnd.jupyter.widget-view+json": {
       "version_major": 2,
       "version_minor": 0,
       "model_id": "4ff87f81e50541f5bc3ca92b173a336b"
      }
     },
     "metadata": {},
     "output_type": "display_data"
    },
    {
     "name": "stdout",
     "output_type": "stream",
     "text": [
      "Epoch:1, loss: 0.03683153765476044\n",
      "Epoch:2, loss: 0.023834296523506947\n",
      "Epoch:3, loss: 0.02252845054085927\n",
      "Epoch:4, loss: 0.021919981870164366\n",
      "Epoch:5, loss: 0.021502662758533356\n",
      "Epoch:6, loss: 0.021462973835015376\n",
      "Epoch:7, loss: 0.021134296758439572\n",
      "Epoch:8, loss: 0.02081497642110845\n",
      "Epoch:9, loss: 0.020788468970667155\n",
      "Epoch:10, loss: 0.020743960157983736\n"
     ]
    },
    {
     "data": {
      "text/plain": "  0%|          | 0/1000 [00:00<?, ?it/s]",
      "application/vnd.jupyter.widget-view+json": {
       "version_major": 2,
       "version_minor": 0,
       "model_id": "af7181a854f941baa9294c1caa7398ff"
      }
     },
     "metadata": {},
     "output_type": "display_data"
    },
    {
     "data": {
      "text/plain": "  0%|          | 0/1000 [00:00<?, ?it/s]",
      "application/vnd.jupyter.widget-view+json": {
       "version_major": 2,
       "version_minor": 0,
       "model_id": "29a8c54cf96f45d69f69e4d103c7a6d3"
      }
     },
     "metadata": {},
     "output_type": "display_data"
    },
    {
     "data": {
      "text/plain": "<Figure size 1000x500 with 1 Axes>",
      "image/png": "[encoded data removed]"
     },
     "metadata": {},
     "output_type": "display_data"
    },
    {
     "data": {
      "text/plain": "Epoch:   0%|          | 0/10 [00:00<?, ?it/s]",
      "application/vnd.jupyter.widget-view+json": {
       "version_major": 2,
       "version_minor": 0,
       "model_id": "b1c72375dfdc4d839be468a4b1b2cbdf"
      }
     },
     "metadata": {},
     "output_type": "display_data"
    },
    {
     "name": "stdout",
     "output_type": "stream",
     "text": [
      "Epoch:1, loss: 0.056779925013526335\n",
      "Epoch:2, loss: 0.04251726208712639\n",
      "Epoch:3, loss: 0.04080918317966051\n",
      "Epoch:4, loss: 0.040160516925627235\n",
      "Epoch:5, loss: 0.03947191867367051\n",
      "Epoch:6, loss: 0.039134587160161514\n",
      "Epoch:7, loss: 0.0389959477581289\n",
      "Epoch:8, loss: 0.038854707054857544\n",
      "Epoch:9, loss: 0.03838099354411473\n",
      "Epoch:10, loss: 0.038495988652104594\n"
     ]
    },
    {
     "data": {
      "text/plain": "  0%|          | 0/1000 [00:00<?, ?it/s]",
      "application/vnd.jupyter.widget-view+json": {
       "version_major": 2,
       "version_minor": 0,
       "model_id": "6c1768cd96d74d5d83baef1021619e4b"
      }
     },
     "metadata": {},
     "output_type": "display_data"
    },
    {
     "data": {
      "text/plain": "  0%|          | 0/1000 [00:00<?, ?it/s]",
      "application/vnd.jupyter.widget-view+json": {
       "version_major": 2,
       "version_minor": 0,
       "model_id": "53f7420a569b4cdd8cfaf961bbe4b30a"
      }
     },
     "metadata": {},
     "output_type": "display_data"
    },
    {
     "data": {
      "text/plain": "<Figure size 1000x500 with 1 Axes>",
      "image/png": "[encoded data removed]"
     },
     "metadata": {},
     "output_type": "display_data"
    },
    {
     "data": {
      "text/plain": "Epoch:   0%|          | 0/10 [00:00<?, ?it/s]",
      "application/vnd.jupyter.widget-view+json": {
       "version_major": 2,
       "version_minor": 0,
       "model_id": "d18bb358f52949149b6feaf9356c8109"
      }
     },
     "metadata": {},
     "output_type": "display_data"
    },
    {
     "name": "stdout",
     "output_type": "stream",
     "text": [
      "Epoch:1, loss: 0.05491831681623176\n",
      "Epoch:2, loss: 0.04005468831952375\n",
      "Epoch:3, loss: 0.03838056412428243\n",
      "Epoch:4, loss: 0.03756028427949371\n",
      "Epoch:5, loss: 0.036998990305070104\n",
      "Epoch:6, loss: 0.03665530167667123\n",
      "Epoch:7, loss: 0.036389290412364314\n",
      "Epoch:8, loss: 0.0362190481136305\n",
      "Epoch:9, loss: 0.03594286040729644\n",
      "Epoch:10, loss: 0.03603266019871205\n"
     ]
    },
    {
     "data": {
      "text/plain": "  0%|          | 0/1000 [00:00<?, ?it/s]",
      "application/vnd.jupyter.widget-view+json": {
       "version_major": 2,
       "version_minor": 0,
       "model_id": "dd771da3cf9b428daabc7a3fd9b6ebcc"
      }
     },
     "metadata": {},
     "output_type": "display_data"
    },
    {
     "data": {
      "text/plain": "  0%|          | 0/1000 [00:00<?, ?it/s]",
      "application/vnd.jupyter.widget-view+json": {
       "version_major": 2,
       "version_minor": 0,
       "model_id": "e4a823eba077456baa41a93369b75df1"
      }
     },
     "metadata": {},
     "output_type": "display_data"
    }
   ],
   "source": [
    "for scheduler, name in [(DDPMScheduler(num_train_timesteps=1000, beta_schedule=\"linear\"), \"linear\"),\n",
    "                        (DDPMScheduler(num_train_timesteps=1000, beta_schedule=\"squaredcos_cap_v2\"), \"cosine\"),\n",
    "                        (DDPMScheduler(num_train_timesteps=1000, beta_schedule=\"sigmoid\"), \"sigmoid\")]:\n",
    "    os.makedirs(\"diffusion_models\", exist_ok=True)\n",
    "    grid, losses, connected_images = train_model_and_save(scheduler, name)\n",
    "\n",
    "    path = os.path.join(\"diffusion_models\", \"outputs\", name)\n",
    "    os.makedirs(path, exist_ok=True)\n",
    "    with open(os.path.join(path, \"images.pkl\"), \"wb\") as handle:\n",
    "        pickle.dump(connected_images, handle)\n",
    "\n",
    "    grid.save(os.path.join(path, f\"grid.png\"), format=\"png\")\n",
    "    grid.show()\n",
    "\n",
    "    np.savetxt(os.path.join(path, f\"loss.txt\"), np.array(losses))\n",
    "\n",
    "    plt.figure(figsize=(10, 5))\n",
    "    plt.title(\"Loss During Training\")\n",
    "    plt.plot(losses, label=\"loss\")\n",
    "    plt.xlabel(\"Iteration\")\n",
    "    plt.ylabel(\"Loss\")\n",
    "    plt.legend()\n",
    "    plt.tight_layout()\n",
    "    plt.savefig(os.path.join(path, f\"loss_plot.png\"), dpi=300)\n",
    "    plt.show()\n",
    "\n",
    "    gc.collect()\n"
   ],
   "metadata": {
    "collapsed": false,
    "is_executing": true,
    "ExecuteTime": {
     "start_time": "2023-06-10T23:55:17.347007600Z"
    }
   }
  }
 ],
 "metadata": {
  "kernelspec": {
   "name": "python3",
   "language": "python",
   "display_name": "Python 3 (ipykernel)"
  },
  "language_info": {
   "codemirror_mode": {
    "name": "ipython",
    "version": 2
   },
   "file_extension": ".py",
   "mimetype": "text/x-python",
   "name": "python",
   "nbconvert_exporter": "python",
   "pygments_lexer": "ipython2",
   "version": "2.7.6"
  }
 },
 "nbformat": 4,
 "nbformat_minor": 0
}
