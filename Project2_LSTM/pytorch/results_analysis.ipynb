{
 "cells": [
  {
   "cell_type": "code",
   "execution_count": 18,
   "metadata": {
    "collapsed": true
   },
   "outputs": [],
   "source": [
    "import os\n",
    "import torch as t\n",
    "import pandas as pd\n",
    "import numpy as np\n",
    "import seaborn as sns\n",
    "\n",
    "from sklearn.metrics import confusion_matrix, accuracy_score\n",
    "from torch.utils.data import DataLoader\n",
    "from Project2_LSTM.load_data import AudioTrainDataset, PaddingZeros, CustomSpectogram, TargetEncoder\n",
    "from torchvision.transforms import Compose\n"
   ]
  },
  {
   "cell_type": "code",
   "execution_count": 9,
   "outputs": [
    {
     "name": "stderr",
     "output_type": "stream",
     "text": [
      "E:\\Studies\\DataScience-1sem\\DeepLearning\\venv\\lib\\site-packages\\torch\\utils\\data\\dataloader.py:554: UserWarning: This DataLoader will create 6 worker processes in total. Our suggested max number of worker in current system is 4 (`cpuset` is not taken into account), which is smaller than what this DataLoader is going to create. Please be aware that excessive worker creation might get DataLoader running slow or even freeze, lower the worker number to avoid potential slowness/freeze if necessary.\n",
      "  warnings.warn(_create_warning_msg(\n"
     ]
    }
   ],
   "source": [
    "DATA_PATH = os.path.join(\"tensorflow-speech-recognition-challenge\", \"train\", \"audio\")\n",
    "dataset = AudioTrainDataset(DATA_PATH)\n",
    "\n",
    "labels_list, labels_dict = dataset.find_classes(DATA_PATH)\n",
    "labels_dict = {idx: name for name, idx in labels_dict.items()}\n",
    "NUM_WORKERS = 6\n",
    "BATCH_SIZE = 512\n",
    "\n",
    "transforms = Compose([\n",
    "    PaddingZeros(16000),\n",
    "    CustomSpectogram(n_fft=1024, power=2),\n",
    "])\n",
    "\n",
    "features_dataset = AudioTrainDataset(DATA_PATH, transform=transforms,\n",
    "                                     target_transform=TargetEncoder(class_dict=labels_dict))\n",
    "gen = t.Generator().manual_seed(42)\n",
    "train_dataset, valid_dataset, test_dataset = t.utils.data.random_split(features_dataset, [0.7, 0.1, 0.2],\n",
    "                                                                           generator=gen)\n",
    "len(train_dataset), len(valid_dataset), len(test_dataset)\n",
    "train_dataset_loader = DataLoader(train_dataset, batch_size=BATCH_SIZE, num_workers=NUM_WORKERS, shuffle=True,\n",
    "                                  generator=t.random.manual_seed(123))\n",
    "valid_dataset_loader = DataLoader(valid_dataset, batch_size=BATCH_SIZE, num_workers=NUM_WORKERS, shuffle=False)\n",
    "test_dataset_loader = DataLoader(test_dataset, batch_size=BATCH_SIZE, num_workers=NUM_WORKERS, shuffle=False)\n",
    "y = []\n",
    "for x, y_batch in test_dataset_loader:\n",
    "    y += [y_batch]\n",
    "y = t.cat(y)\n",
    "y.shape"
   ],
   "metadata": {
    "collapsed": false
   }
  },
  {
   "cell_type": "code",
   "execution_count": 48,
   "outputs": [],
   "source": [
    "t.save(y, \"y_test_one_hot_labels.ts\")"
   ],
   "metadata": {
    "collapsed": false
   }
  },
  {
   "cell_type": "code",
   "execution_count": 35,
   "outputs": [],
   "source": [
    "y_hat = t.load(\"spectogram_cnn_lstm_predictions.ts\")"
   ],
   "metadata": {
    "collapsed": false
   }
  },
  {
   "cell_type": "code",
   "execution_count": 36,
   "outputs": [
    {
     "data": {
      "text/plain": "tensor([[[4.0640e-07, 3.6488e-07, 5.6595e-07,  ..., 9.8567e-07,\n          9.9999e-01, 6.1464e-07],\n         [4.0534e-07, 3.6391e-07, 5.6482e-07,  ..., 9.8367e-07,\n          9.9999e-01, 6.1353e-07],\n         [4.0560e-07, 3.6428e-07, 5.6559e-07,  ..., 9.8482e-07,\n          9.9999e-01, 6.1398e-07],\n         ...,\n         [3.9615e-07, 3.5632e-07, 5.5099e-07,  ..., 9.6626e-07,\n          9.9999e-01, 5.9804e-07],\n         [4.0641e-07, 3.6489e-07, 5.6597e-07,  ..., 9.8569e-07,\n          9.9999e-01, 6.1466e-07],\n         [4.0770e-07, 3.6603e-07, 5.6799e-07,  ..., 9.8888e-07,\n          9.9999e-01, 6.1658e-07]],\n\n        [[1.0520e-06, 2.5233e-06, 1.3914e-06,  ..., 1.3159e-06,\n          9.9998e-01, 1.8942e-06],\n         [1.0602e-06, 2.5203e-06, 1.4041e-06,  ..., 1.3237e-06,\n          9.9998e-01, 1.9030e-06],\n         [1.2223e-06, 2.8752e-06, 1.6320e-06,  ..., 1.5407e-06,\n          9.9998e-01, 2.1786e-06],\n         ...,\n         [1.0735e-06, 2.5713e-06, 1.4124e-06,  ..., 1.3350e-06,\n          9.9998e-01, 1.9408e-06],\n         [1.0504e-06, 2.5196e-06, 1.3891e-06,  ..., 1.3132e-06,\n          9.9998e-01, 1.8910e-06],\n         [1.0787e-06, 2.5733e-06, 1.4290e-06,  ..., 1.3476e-06,\n          9.9998e-01, 1.9366e-06]],\n\n        [[3.1894e-06, 3.2971e-06, 1.6389e-06,  ..., 2.0964e-06,\n          9.9997e-01, 2.4373e-06],\n         [3.1233e-06, 3.2364e-06, 1.6077e-06,  ..., 2.0592e-06,\n          9.9997e-01, 2.3867e-06],\n         [3.1307e-06, 3.2367e-06, 1.6083e-06,  ..., 2.0547e-06,\n          9.9997e-01, 2.3922e-06],\n         ...,\n         [2.9070e-06, 2.9949e-06, 1.4999e-06,  ..., 1.9108e-06,\n          9.9997e-01, 2.2193e-06],\n         [3.1892e-06, 3.2969e-06, 1.6388e-06,  ..., 2.0962e-06,\n          9.9997e-01, 2.4371e-06],\n         [3.1879e-06, 3.2956e-06, 1.6381e-06,  ..., 2.0953e-06,\n          9.9997e-01, 2.4361e-06]],\n\n        [[1.2013e-06, 1.2413e-06, 2.0923e-06,  ..., 8.6022e-07,\n          9.9999e-01, 1.3119e-06],\n         [1.2045e-06, 1.2496e-06, 2.1014e-06,  ..., 8.6598e-07,\n          9.9999e-01, 1.3162e-06],\n         [1.1564e-06, 1.2096e-06, 2.0327e-06,  ..., 8.3521e-07,\n          9.9999e-01, 1.2673e-06],\n         ...,\n         [1.1095e-06, 1.1540e-06, 1.9152e-06,  ..., 7.8816e-07,\n          9.9999e-01, 1.2081e-06],\n         [1.1933e-06, 1.2336e-06, 2.0797e-06,  ..., 8.5473e-07,\n          9.9999e-01, 1.3036e-06],\n         [1.1856e-06, 1.2286e-06, 2.0694e-06,  ..., 8.5097e-07,\n          9.9999e-01, 1.2961e-06]],\n\n        [[1.7232e-06, 1.7725e-06, 1.2602e-06,  ..., 1.0883e-06,\n          9.9998e-01, 1.8146e-06],\n         [1.6811e-06, 1.7283e-06, 1.2290e-06,  ..., 1.0604e-06,\n          9.9998e-01, 1.7707e-06],\n         [1.7066e-06, 1.7547e-06, 1.2482e-06,  ..., 1.0771e-06,\n          9.9998e-01, 1.7962e-06],\n         ...,\n         [1.5736e-06, 1.6125e-06, 1.1489e-06,  ..., 9.9096e-07,\n          9.9999e-01, 1.6594e-06],\n         [1.7229e-06, 1.7722e-06, 1.2600e-06,  ..., 1.0881e-06,\n          9.9998e-01, 1.8142e-06],\n         [1.7218e-06, 1.7710e-06, 1.2592e-06,  ..., 1.0875e-06,\n          9.9998e-01, 1.8131e-06]]])"
     },
     "execution_count": 36,
     "metadata": {},
     "output_type": "execute_result"
    }
   ],
   "source": [
    "y_hat"
   ],
   "metadata": {
    "collapsed": false
   }
  },
  {
   "cell_type": "code",
   "execution_count": 37,
   "outputs": [],
   "source": [
    "y_numpy, y_hat_numpy = y.numpy(force=True), y_hat.numpy(force=True)"
   ],
   "metadata": {
    "collapsed": false
   }
  },
  {
   "cell_type": "code",
   "execution_count": 45,
   "outputs": [
    {
     "name": "stdout",
     "output_type": "stream",
     "text": [
      "0.6284551597051597\n",
      "0.6284551597051597\n",
      "0.6284551597051597\n",
      "0.6284551597051597\n",
      "0.6284551597051597\n"
     ]
    }
   ],
   "source": [
    "real = np.argmax(y_numpy, axis=1)\n",
    "for i in range(5):\n",
    "    predictions = np.argmax(y_hat_numpy[i, :,:], axis=1)\n",
    "\n",
    "    print(accuracy_score(real, predictions))"
   ],
   "metadata": {
    "collapsed": false
   }
  },
  {
   "cell_type": "code",
   "execution_count": 47,
   "outputs": [
    {
     "data": {
      "text/plain": "<Axes: >"
     },
     "execution_count": 47,
     "metadata": {},
     "output_type": "execute_result"
    },
    {
     "data": {
      "text/plain": "<Figure size 640x480 with 2 Axes>",
      "image/png": "[encoded data removed]"
     },
     "metadata": {},
     "output_type": "display_data"
    }
   ],
   "source": [
    "sns.heatmap(confusion_matrix(real, predictions))"
   ],
   "metadata": {
    "collapsed": false
   }
  },
  {
   "cell_type": "code",
   "execution_count": 31,
   "outputs": [],
   "source": [],
   "metadata": {
    "collapsed": false
   }
  }
 ],
 "metadata": {
  "kernelspec": {
   "display_name": "Python 3",
   "language": "python",
   "name": "python3"
  },
  "language_info": {
   "codemirror_mode": {
    "name": "ipython",
    "version": 2
   },
   "file_extension": ".py",
   "mimetype": "text/x-python",
   "name": "python",
   "nbconvert_exporter": "python",
   "pygments_lexer": "ipython2",
   "version": "2.7.6"
  }
 },
 "nbformat": 4,
 "nbformat_minor": 0
}
