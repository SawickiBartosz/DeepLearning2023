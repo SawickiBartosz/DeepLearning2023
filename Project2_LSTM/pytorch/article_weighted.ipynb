{
 "cells": [
  {
   "cell_type": "markdown",
   "source": [
    "# Packages"
   ],
   "metadata": {
    "collapsed": false
   }
  },
  {
   "cell_type": "code",
   "execution_count": 1,
   "outputs": [],
   "source": [
    "import os\n",
    "\n",
    "import lightning\n",
    "import pandas as pd\n",
    "import torch\n",
    "import torchmetrics\n",
    "from torch.utils.data import DataLoader\n",
    "from collections import OrderedDict\n",
    "from torchvision.transforms import Compose\n",
    "from load_data import AudioTrainDataset, TargetEncoder, PaddingZeros, NormalizedMelSpectogram"
   ],
   "metadata": {
    "collapsed": false,
    "ExecuteTime": {
     "start_time": "2023-04-22T16:08:04.183544Z",
     "end_time": "2023-04-22T16:08:08.102626Z"
    }
   }
  },
  {
   "cell_type": "markdown",
   "source": [
    "# Simple loading"
   ],
   "metadata": {
    "collapsed": false
   }
  },
  {
   "cell_type": "code",
   "execution_count": 2,
   "outputs": [
    {
     "data": {
      "text/plain": "{1: 'bed',\n 2: 'bird',\n 3: 'cat',\n 4: 'dog',\n 5: 'down',\n 6: 'eight',\n 7: 'five',\n 8: 'four',\n 9: 'go',\n 10: 'happy',\n 11: 'house',\n 12: 'left',\n 13: 'marvin',\n 14: 'nine',\n 15: 'no',\n 16: 'off',\n 17: 'on',\n 18: 'one',\n 19: 'right',\n 20: 'seven',\n 21: 'sheila',\n 22: 'silence',\n 23: 'six',\n 24: 'stop',\n 25: 'three',\n 26: 'tree',\n 27: 'two',\n 28: 'up',\n 29: 'wow',\n 30: 'yes',\n 31: 'zero'}"
     },
     "execution_count": 2,
     "metadata": {},
     "output_type": "execute_result"
    }
   ],
   "source": [
    "DATA_PATH = os.path.join(\"tensorflow-speech-recognition-challenge\", \"train\", \"audio\")\n",
    "dataset = AudioTrainDataset(DATA_PATH)\n",
    "\n",
    "labels_list, labels_dict = dataset.find_classes(DATA_PATH)\n",
    "labels_dict = {idx: name for name, idx in labels_dict.items()}\n",
    "labels_dict"
   ],
   "metadata": {
    "collapsed": false,
    "ExecuteTime": {
     "start_time": "2023-04-22T16:08:08.105626Z",
     "end_time": "2023-04-22T16:08:08.420097Z"
    }
   }
  },
  {
   "cell_type": "code",
   "execution_count": 3,
   "outputs": [],
   "source": [
    "NUM_WORKERS = 6\n",
    "BATCH_SIZE = 512"
   ],
   "metadata": {
    "collapsed": false,
    "ExecuteTime": {
     "start_time": "2023-04-22T16:08:08.421099Z",
     "end_time": "2023-04-22T16:08:08.433098Z"
    }
   }
  },
  {
   "cell_type": "markdown",
   "source": [
    "# Article model"
   ],
   "metadata": {
    "collapsed": false
   }
  },
  {
   "cell_type": "code",
   "execution_count": 4,
   "outputs": [],
   "source": [
    "transforms = Compose([\n",
    "    PaddingZeros(16000),\n",
    "    NormalizedMelSpectogram()\n",
    "])\n",
    "features_dataset = AudioTrainDataset(DATA_PATH, transform=transforms,\n",
    "                                     target_transform=TargetEncoder(class_dict=labels_dict))"
   ],
   "metadata": {
    "collapsed": false,
    "ExecuteTime": {
     "start_time": "2023-04-22T16:08:08.436097Z",
     "end_time": "2023-04-22T16:08:08.757096Z"
    }
   }
  },
  {
   "cell_type": "code",
   "execution_count": 5,
   "outputs": [],
   "source": [
    "weights = torch.tensor([27.397139, 27.420211, 27.420211, 27.606189, 27.676583, 27.512886,\n",
    "                        27.512886, 27.629614, 27.362605, 27.454890, 1.997512, 161.997512\n",
    "                        ], device=torch.device('cuda'))"
   ],
   "metadata": {
    "collapsed": false,
    "ExecuteTime": {
     "start_time": "2023-04-22T16:08:08.758097Z",
     "end_time": "2023-04-22T16:08:08.912255Z"
    }
   }
  },
  {
   "cell_type": "code",
   "execution_count": 6,
   "outputs": [
    {
     "data": {
      "text/plain": "(45587, 6512, 13024)"
     },
     "execution_count": 6,
     "metadata": {},
     "output_type": "execute_result"
    }
   ],
   "source": [
    "gen = torch.Generator().manual_seed(42)\n",
    "train_dataset, valid_dataset, test_dataset = torch.utils.data.random_split(features_dataset, [0.7, 0.1, 0.2],\n",
    "                                                                           generator=gen)\n",
    "len(train_dataset), len(valid_dataset), len(test_dataset)"
   ],
   "metadata": {
    "collapsed": false,
    "ExecuteTime": {
     "start_time": "2023-04-22T16:08:08.914256Z",
     "end_time": "2023-04-22T16:08:08.927272Z"
    }
   }
  },
  {
   "cell_type": "code",
   "execution_count": 7,
   "outputs": [
    {
     "data": {
      "text/plain": "(90, 13, 26)"
     },
     "execution_count": 7,
     "metadata": {},
     "output_type": "execute_result"
    }
   ],
   "source": [
    "train_dataset_loader = DataLoader(train_dataset, batch_size=BATCH_SIZE, num_workers=NUM_WORKERS, shuffle=True,\n",
    "                                  generator=torch.random.manual_seed(123))\n",
    "valid_dataset_loader = DataLoader(valid_dataset, batch_size=BATCH_SIZE, num_workers=NUM_WORKERS, shuffle=False)\n",
    "test_dataset_loader = DataLoader(test_dataset, batch_size=BATCH_SIZE, num_workers=NUM_WORKERS, shuffle=False)\n",
    "len(train_dataset_loader), len(valid_dataset_loader), len(test_dataset_loader)"
   ],
   "metadata": {
    "collapsed": false,
    "ExecuteTime": {
     "start_time": "2023-04-22T16:08:08.929272Z",
     "end_time": "2023-04-22T16:08:08.980272Z"
    }
   }
  },
  {
   "cell_type": "code",
   "execution_count": 8,
   "outputs": [],
   "source": [
    "class ArticleNet(lightning.LightningModule):\n",
    "    def __init__(self, target_size, weights):\n",
    "        super().__init__()\n",
    "        self.weights = weights\n",
    "        self.conv_part = torch.nn.Sequential(OrderedDict([\n",
    "            ('conv1', torch.nn.Conv2d(in_channels=1, out_channels=10, kernel_size=(5, 1), padding='same', groups=1)),\n",
    "            ('relu1', torch.nn.ReLU()),\n",
    "            ('bn1', torch.nn.BatchNorm2d(num_features=10)),\n",
    "            ('conv2', torch.nn.Conv2d(in_channels=10, out_channels=1, kernel_size=(5, 1), padding='same', groups=1)),\n",
    "            ('relu2', torch.nn.ReLU()),\n",
    "            ('bn2', torch.nn.BatchNorm2d(num_features=1))\n",
    "        ]))\n",
    "        self.lstm_1 = torch.nn.LSTM(input_size=126, hidden_size=64, bidirectional=True, batch_first=True, num_layers=2)\n",
    "        self.query_1 = torch.nn.Linear(in_features=128, out_features=128)\n",
    "        self.att_scores = torch.nn.Softmax(dim=-1)\n",
    "        self.dense_part = torch.nn.Sequential(OrderedDict([\n",
    "            ('dense1', torch.nn.Linear(in_features=128, out_features=64)),\n",
    "            ('relu3', torch.nn.ReLU()),\n",
    "            ('dense2', torch.nn.Linear(in_features=64, out_features=32)),\n",
    "            ('relu4', torch.nn.ReLU()),\n",
    "            ('dense3', torch.nn.Linear(in_features=32, out_features=target_size)),\n",
    "            ('softmax', torch.nn.Softmax(dim=-1))\n",
    "        ]))\n",
    "        self.train_acc = torchmetrics.Accuracy(task=\"multiclass\", num_classes=target_size)\n",
    "        self.valid_acc = torchmetrics.Accuracy(task=\"multiclass\", num_classes=target_size)\n",
    "        self.test_acc = torchmetrics.Accuracy(task=\"multiclass\", num_classes=target_size)\n",
    "        self.test_conf_mat = torchmetrics.ConfusionMatrix(task=\"multiclass\", num_classes=target_size)\n",
    "\n",
    "    def forward(self, x):\n",
    "        convoluted = self.conv_part(x)\n",
    "        x_squeezed = convoluted.squeeze()\n",
    "        x_squeezed = x_squeezed.permute(0, 2, 1)\n",
    "        lstm_out, _ = self.lstm_1(x_squeezed)\n",
    "        last = lstm_out[:, -1, :]\n",
    "        query = self.query_1(last)\n",
    "        att_scores = torch.bmm(query.unsqueeze(1), lstm_out.transpose(1, 2)).squeeze(1)\n",
    "        att_scores = self.att_scores(att_scores)\n",
    "        att_vector = torch.bmm(att_scores.unsqueeze(1), lstm_out).squeeze(1)\n",
    "        output = self.dense_part(att_vector)\n",
    "        return output\n",
    "\n",
    "    def training_step(self, batch, batch_idx):\n",
    "        x, y = batch\n",
    "        y_hat = self(x)\n",
    "        loss = torch.nn.functional.cross_entropy(y_hat, y, weight=self.weights)\n",
    "        self.train_acc(y_hat, torch.argmax(y, dim=-1))\n",
    "        self.log(\"train_loss\", loss, on_step=True, on_epoch=True, prog_bar=True, logger=True)\n",
    "        self.log(\"train_acc_step\", self.train_acc)\n",
    "        return loss\n",
    "\n",
    "    def on_train_epoch_end(self):\n",
    "        self.log('train_acc', self.train_acc)\n",
    "\n",
    "    def predict_step(self, batch, batch_idx, dataloader_idx=0):\n",
    "        x, y = batch\n",
    "        return self(x)\n",
    "\n",
    "    def validation_step(self, batch, batch_idx):\n",
    "        x, y = batch\n",
    "        y_hat = self(x)\n",
    "        loss = torch.nn.functional.cross_entropy(y_hat, y, weight=weights)\n",
    "        self.valid_acc(y_hat, torch.argmax(y, dim=-1))\n",
    "        self.log('val_loss', loss, on_epoch=True)\n",
    "        self.log('val_acc', self.valid_acc, on_epoch=True)\n",
    "\n",
    "    def test_step(self, batch, batch_idx):\n",
    "        x, y = batch\n",
    "        y_hat = self(x)\n",
    "        loss = torch.nn.functional.cross_entropy(y_hat, y, weight=weights)\n",
    "        y_class = torch.argmax(y, dim=-1)\n",
    "        self.test_acc(y_hat, y_class)\n",
    "        self.test_conf_mat(y_hat, y_class)\n",
    "        self.log('test_loss', loss, on_epoch=True)\n",
    "        self.log('test_acc', self.test_acc, on_epoch=True)\n",
    "\n",
    "    def configure_optimizers(self):\n",
    "        optimizer = torch.optim.Adam(self.parameters(), lr=0.1)\n",
    "        return {\n",
    "            \"optimizer\": optimizer,\n",
    "            \"lr_scheduler\": {\n",
    "                \"scheduler\": torch.optim.lr_scheduler.ReduceLROnPlateau(optimizer, mode=\"min\", factor=0.3, patience=3),\n",
    "                \"monitor\": \"val_loss\",\n",
    "            }\n",
    "        }"
   ],
   "metadata": {
    "collapsed": false,
    "ExecuteTime": {
     "start_time": "2023-04-22T16:08:08.960272Z",
     "end_time": "2023-04-22T16:08:08.991799Z"
    }
   }
  },
  {
   "cell_type": "code",
   "execution_count": 9,
   "outputs": [
    {
     "name": "stdout",
     "output_type": "stream",
     "text": [
      "torch.Size([512, 1, 126, 128])\n",
      "torch.Size([512, 126, 128, 1])\n"
     ]
    }
   ],
   "source": [
    "for batch_x, batch_y in train_dataset_loader:\n",
    "    print(batch_x.shape)\n",
    "    print(batch_x.permute(0, 2, 3, 1).shape)\n",
    "    break"
   ],
   "metadata": {
    "collapsed": false,
    "ExecuteTime": {
     "start_time": "2023-04-22T16:08:08.993799Z",
     "end_time": "2023-04-22T16:08:24.643144Z"
    }
   }
  },
  {
   "cell_type": "code",
   "execution_count": 10,
   "outputs": [],
   "source": [
    "model = ArticleNet(12, weights)\n",
    "for batch_x, batch_y in train_dataset_loader:\n",
    "    y_hat = model(batch_x)\n",
    "    break"
   ],
   "metadata": {
    "collapsed": false,
    "ExecuteTime": {
     "start_time": "2023-04-22T16:08:24.646143Z",
     "end_time": "2023-04-22T16:08:40.672689Z"
    }
   }
  },
  {
   "cell_type": "code",
   "execution_count": 11,
   "outputs": [
    {
     "name": "stderr",
     "output_type": "stream",
     "text": [
      "GPU available: True (cuda), used: True\n",
      "TPU available: False, using: 0 TPU cores\n",
      "IPU available: False, using: 0 IPUs\n",
      "HPU available: False, using: 0 HPUs\n",
      "LOCAL_RANK: 0 - CUDA_VISIBLE_DEVICES: [0]\n",
      "\n",
      "  | Name          | Type                      | Params\n",
      "------------------------------------------------------------\n",
      "0 | conv_part     | Sequential                | 133   \n",
      "1 | lstm_1        | LSTM                      | 197 K \n",
      "2 | query_1       | Linear                    | 16.5 K\n",
      "3 | att_scores    | Softmax                   | 0     \n",
      "4 | dense_part    | Sequential                | 10.7 K\n",
      "5 | train_acc     | MulticlassAccuracy        | 0     \n",
      "6 | valid_acc     | MulticlassAccuracy        | 0     \n",
      "7 | test_acc      | MulticlassAccuracy        | 0     \n",
      "8 | test_conf_mat | MulticlassConfusionMatrix | 0     \n",
      "------------------------------------------------------------\n",
      "225 K     Trainable params\n",
      "0         Non-trainable params\n",
      "225 K     Total params\n",
      "0.900     Total estimated model params size (MB)\n"
     ]
    },
    {
     "name": "stdout",
     "output_type": "stream",
     "text": [
      "Epoch 0: 100%|██████████| 90/90 [00:28<00:00,  3.21it/s, v_num=22, train_loss_step=35.00]\n",
      "Validation: 0it [00:00, ?it/s]\u001B[A\n",
      "Validation:   0%|          | 0/13 [00:00<?, ?it/s]\u001B[A\n",
      "Validation DataLoader 0:   0%|          | 0/13 [00:00<?, ?it/s]\u001B[A\n",
      "Validation DataLoader 0:   8%|▊         | 1/13 [00:00<00:03,  3.07it/s]\u001B[A\n",
      "Validation DataLoader 0:  15%|█▌        | 2/13 [00:00<00:01,  5.56it/s]\u001B[A\n",
      "Validation DataLoader 0:  23%|██▎       | 3/13 [00:00<00:01,  7.63it/s]\u001B[A\n",
      "Validation DataLoader 0:  31%|███       | 4/13 [00:00<00:00,  9.35it/s]\u001B[A\n",
      "Validation DataLoader 0:  38%|███▊      | 5/13 [00:00<00:00, 10.85it/s]\u001B[A\n",
      "Validation DataLoader 0:  46%|████▌     | 6/13 [00:00<00:00, 12.15it/s]\u001B[A\n",
      "Validation DataLoader 0:  54%|█████▍    | 7/13 [00:00<00:00,  7.71it/s]\u001B[A\n",
      "Validation DataLoader 0:  62%|██████▏   | 8/13 [00:00<00:00,  8.48it/s]\u001B[A\n",
      "Validation DataLoader 0:  69%|██████▉   | 9/13 [00:00<00:00,  9.20it/s]\u001B[A\n",
      "Validation DataLoader 0:  77%|███████▋  | 10/13 [00:01<00:00,  9.86it/s]\u001B[A\n",
      "Validation DataLoader 0:  85%|████████▍ | 11/13 [00:01<00:00, 10.50it/s]\u001B[A\n",
      "Validation DataLoader 0:  92%|█████████▏| 12/13 [00:01<00:00,  8.58it/s]\u001B[A\n",
      "Epoch 0: 100%|██████████| 90/90 [00:43<00:00,  2.05it/s, v_num=22, train_loss_step=35.00]\n",
      "Epoch 1: 100%|██████████| 90/90 [00:28<00:00,  3.20it/s, v_num=22, train_loss_step=25.00, train_loss_epoch=30.50]\n",
      "Validation: 0it [00:00, ?it/s]\u001B[A\n",
      "Validation:   0%|          | 0/13 [00:00<?, ?it/s]\u001B[A\n",
      "Validation DataLoader 0:   0%|          | 0/13 [00:00<?, ?it/s]\u001B[A\n",
      "Validation DataLoader 0:   8%|▊         | 1/13 [00:00<00:04,  2.76it/s]\u001B[A\n",
      "Validation DataLoader 0:  15%|█▌        | 2/13 [00:00<00:02,  5.07it/s]\u001B[A\n",
      "Validation DataLoader 0:  23%|██▎       | 3/13 [00:00<00:01,  7.01it/s]\u001B[A\n",
      "Validation DataLoader 0:  31%|███       | 4/13 [00:00<00:01,  8.66it/s]\u001B[A\n",
      "Validation DataLoader 0:  38%|███▊      | 5/13 [00:00<00:00, 10.09it/s]\u001B[A\n",
      "Validation DataLoader 0:  46%|████▌     | 6/13 [00:00<00:00, 11.33it/s]\u001B[A\n",
      "Validation DataLoader 0:  54%|█████▍    | 7/13 [00:00<00:00,  7.71it/s]\u001B[A\n",
      "Validation DataLoader 0:  62%|██████▏   | 8/13 [00:00<00:00,  8.01it/s]\u001B[A\n",
      "Validation DataLoader 0:  69%|██████▉   | 9/13 [00:01<00:00,  8.71it/s]\u001B[A\n",
      "Validation DataLoader 0:  77%|███████▋  | 10/13 [00:01<00:00,  9.37it/s]\u001B[A\n",
      "Validation DataLoader 0:  85%|████████▍ | 11/13 [00:01<00:00,  9.97it/s]\u001B[A\n",
      "Validation DataLoader 0:  92%|█████████▏| 12/13 [00:01<00:00, 10.53it/s]\u001B[A\n",
      "Epoch 1: 100%|██████████| 90/90 [00:44<00:00,  2.04it/s, v_num=22, train_loss_step=25.00, train_loss_epoch=30.50]\n",
      "Epoch 1: 100%|██████████| 90/90 [00:44<00:00,  2.04it/s, v_num=22, train_loss_step=25.00, train_loss_epoch=30.70]"
     ]
    },
    {
     "name": "stderr",
     "output_type": "stream",
     "text": [
      "`Trainer.fit` stopped: `max_epochs=2` reached.\n"
     ]
    },
    {
     "name": "stdout",
     "output_type": "stream",
     "text": [
      "Epoch 1: 100%|██████████| 90/90 [00:44<00:00,  2.04it/s, v_num=22, train_loss_step=25.00, train_loss_epoch=30.70]\n"
     ]
    }
   ],
   "source": [
    "model = ArticleNet(12, weights=weights)\n",
    "trainer = lightning.Trainer(max_epochs=2, logger=True)\n",
    "torch.set_float32_matmul_precision('high')\n",
    "trainer.fit(model, train_dataloaders=train_dataset_loader, val_dataloaders=valid_dataset_loader)"
   ],
   "metadata": {
    "collapsed": false,
    "ExecuteTime": {
     "start_time": "2023-04-22T16:08:40.675689Z",
     "end_time": "2023-04-22T16:10:54.126879Z"
    }
   }
  },
  {
   "cell_type": "code",
   "execution_count": 12,
   "outputs": [
    {
     "name": "stderr",
     "output_type": "stream",
     "text": [
      "Global seed set to 0\n",
      "GPU available: True (cuda), used: True\n",
      "TPU available: False, using: 0 TPU cores\n",
      "IPU available: False, using: 0 IPUs\n",
      "HPU available: False, using: 0 HPUs\n",
      "LOCAL_RANK: 0 - CUDA_VISIBLE_DEVICES: [0]\n",
      "\n",
      "  | Name          | Type                      | Params\n",
      "------------------------------------------------------------\n",
      "0 | conv_part     | Sequential                | 133   \n",
      "1 | lstm_1        | LSTM                      | 197 K \n",
      "2 | query_1       | Linear                    | 16.5 K\n",
      "3 | att_scores    | Softmax                   | 0     \n",
      "4 | dense_part    | Sequential                | 10.7 K\n",
      "5 | train_acc     | MulticlassAccuracy        | 0     \n",
      "6 | valid_acc     | MulticlassAccuracy        | 0     \n",
      "7 | test_acc      | MulticlassAccuracy        | 0     \n",
      "8 | test_conf_mat | MulticlassConfusionMatrix | 0     \n",
      "------------------------------------------------------------\n",
      "225 K     Trainable params\n",
      "0         Non-trainable params\n",
      "225 K     Total params\n",
      "0.900     Total estimated model params size (MB)\n"
     ]
    },
    {
     "name": "stdout",
     "output_type": "stream",
     "text": [
      "Epoch 0: 100%|██████████| 90/90 [00:28<00:00,  3.16it/s, v_num=0, train_loss_step=21.40]\n",
      "Validation: 0it [00:00, ?it/s]\u001B[A\n",
      "Validation:   0%|          | 0/13 [00:00<?, ?it/s]\u001B[A\n",
      "Validation DataLoader 0:   0%|          | 0/13 [00:00<?, ?it/s]\u001B[A\n",
      "Validation DataLoader 0:   8%|▊         | 1/13 [00:00<00:04,  2.97it/s]\u001B[A\n",
      "Validation DataLoader 0:  15%|█▌        | 2/13 [00:00<00:02,  5.39it/s]\u001B[A\n",
      "Validation DataLoader 0:  23%|██▎       | 3/13 [00:00<00:01,  7.42it/s]\u001B[A\n",
      "Validation DataLoader 0:  31%|███       | 4/13 [00:00<00:00,  9.13it/s]\u001B[A\n",
      "Validation DataLoader 0:  38%|███▊      | 5/13 [00:00<00:00, 10.57it/s]\u001B[A\n",
      "Validation DataLoader 0:  46%|████▌     | 6/13 [00:00<00:00, 11.81it/s]\u001B[A\n",
      "Validation DataLoader 0:  54%|█████▍    | 7/13 [00:00<00:00,  7.64it/s]\u001B[A\n",
      "Validation DataLoader 0:  62%|██████▏   | 8/13 [00:01<00:00,  7.71it/s]\u001B[A\n",
      "Validation DataLoader 0:  69%|██████▉   | 9/13 [00:01<00:00,  8.41it/s]\u001B[A\n",
      "Validation DataLoader 0:  77%|███████▋  | 10/13 [00:01<00:00,  9.07it/s]\u001B[A\n",
      "Validation DataLoader 0:  85%|████████▍ | 11/13 [00:01<00:00,  9.67it/s]\u001B[A\n",
      "Validation DataLoader 0:  92%|█████████▏| 12/13 [00:01<00:00, 10.26it/s]\u001B[A\n",
      "Epoch 0: 100%|██████████| 90/90 [00:44<00:00,  2.01it/s, v_num=0, train_loss_step=21.40]\n",
      "Epoch 0: 100%|██████████| 90/90 [00:44<00:00,  2.01it/s, v_num=0, train_loss_step=21.40, train_loss_epoch=30.50]"
     ]
    },
    {
     "name": "stderr",
     "output_type": "stream",
     "text": [
      "Metric val_loss improved. New best score: 29.939\n"
     ]
    },
    {
     "name": "stdout",
     "output_type": "stream",
     "text": [
      "Epoch 1: 100%|██████████| 90/90 [00:27<00:00,  3.25it/s, v_num=0, train_loss_step=31.60, train_loss_epoch=30.50]\n",
      "Validation: 0it [00:00, ?it/s]\u001B[A\n",
      "Validation:   0%|          | 0/13 [00:00<?, ?it/s]\u001B[A\n",
      "Validation DataLoader 0:   0%|          | 0/13 [00:00<?, ?it/s]\u001B[A\n",
      "Validation DataLoader 0:   8%|▊         | 1/13 [00:00<00:03,  3.18it/s]\u001B[A\n",
      "Validation DataLoader 0:  15%|█▌        | 2/13 [00:00<00:01,  5.73it/s]\u001B[A\n",
      "Validation DataLoader 0:  23%|██▎       | 3/13 [00:00<00:01,  7.81it/s]\u001B[A\n",
      "Validation DataLoader 0:  31%|███       | 4/13 [00:00<00:00,  9.57it/s]\u001B[A\n",
      "Validation DataLoader 0:  38%|███▊      | 5/13 [00:00<00:00, 11.01it/s]\u001B[A\n",
      "Validation DataLoader 0:  46%|████▌     | 6/13 [00:00<00:00, 12.32it/s]\u001B[A\n",
      "Validation DataLoader 0:  54%|█████▍    | 7/13 [00:00<00:00,  7.70it/s]\u001B[A\n",
      "Validation DataLoader 0:  62%|██████▏   | 8/13 [00:00<00:00,  8.49it/s]\u001B[A\n",
      "Validation DataLoader 0:  69%|██████▉   | 9/13 [00:00<00:00,  9.17it/s]\u001B[A\n",
      "Validation DataLoader 0:  77%|███████▋  | 10/13 [00:01<00:00,  9.86it/s]\u001B[A\n",
      "Validation DataLoader 0:  85%|████████▍ | 11/13 [00:01<00:00, 10.51it/s]\u001B[A\n",
      "Validation DataLoader 0:  92%|█████████▏| 12/13 [00:01<00:00, 11.07it/s]\u001B[A\n",
      "Epoch 1: 100%|██████████| 90/90 [00:43<00:00,  2.06it/s, v_num=0, train_loss_step=31.60, train_loss_epoch=30.50]\n",
      "Epoch 2: 100%|██████████| 90/90 [00:27<00:00,  3.23it/s, v_num=0, train_loss_step=21.50, train_loss_epoch=30.50]\n",
      "Validation: 0it [00:00, ?it/s]\u001B[A\n",
      "Validation:   0%|          | 0/13 [00:00<?, ?it/s]\u001B[A\n",
      "Validation DataLoader 0:   0%|          | 0/13 [00:00<?, ?it/s]\u001B[A\n",
      "Validation DataLoader 0:   8%|▊         | 1/13 [00:00<00:03,  3.54it/s]\u001B[A\n",
      "Validation DataLoader 0:  15%|█▌        | 2/13 [00:00<00:01,  6.34it/s]\u001B[A\n",
      "Validation DataLoader 0:  23%|██▎       | 3/13 [00:00<00:01,  8.59it/s]\u001B[A\n",
      "Validation DataLoader 0:  31%|███       | 4/13 [00:00<00:00, 10.43it/s]\u001B[A\n",
      "Validation DataLoader 0:  38%|███▊      | 5/13 [00:00<00:00, 12.01it/s]\u001B[A\n",
      "Validation DataLoader 0:  46%|████▌     | 6/13 [00:00<00:00, 13.29it/s]\u001B[A\n",
      "Validation DataLoader 0:  54%|█████▍    | 7/13 [00:00<00:00,  7.45it/s]\u001B[A\n",
      "Validation DataLoader 0:  62%|██████▏   | 8/13 [00:00<00:00,  8.24it/s]\u001B[A\n",
      "Validation DataLoader 0:  69%|██████▉   | 9/13 [00:01<00:00,  8.96it/s]\u001B[A\n",
      "Validation DataLoader 0:  77%|███████▋  | 10/13 [00:01<00:00,  9.62it/s]\u001B[A\n",
      "Validation DataLoader 0:  85%|████████▍ | 11/13 [00:01<00:00, 10.27it/s]\u001B[A\n",
      "Validation DataLoader 0:  92%|█████████▏| 12/13 [00:01<00:00, 10.86it/s]\u001B[A\n",
      "Epoch 2: 100%|██████████| 90/90 [00:43<00:00,  2.06it/s, v_num=0, train_loss_step=21.50, train_loss_epoch=30.50]\n",
      "Epoch 2: 100%|██████████| 90/90 [00:43<00:00,  2.06it/s, v_num=0, train_loss_step=21.50, train_loss_epoch=30.50]"
     ]
    },
    {
     "name": "stderr",
     "output_type": "stream",
     "text": [
      "Metric val_loss improved by 0.007 >= min_delta = 0.0. New best score: 29.931\n"
     ]
    },
    {
     "name": "stdout",
     "output_type": "stream",
     "text": [
      "Epoch 3: 100%|██████████| 90/90 [00:27<00:00,  3.31it/s, v_num=0, train_loss_step=35.10, train_loss_epoch=30.50]\n",
      "Validation: 0it [00:00, ?it/s]\u001B[A\n",
      "Validation:   0%|          | 0/13 [00:00<?, ?it/s]\u001B[A\n",
      "Validation DataLoader 0:   0%|          | 0/13 [00:00<?, ?it/s]\u001B[A\n",
      "Validation DataLoader 0:   8%|▊         | 1/13 [00:00<00:03,  3.67it/s]\u001B[A\n",
      "Validation DataLoader 0:  15%|█▌        | 2/13 [00:00<00:01,  6.51it/s]\u001B[A\n",
      "Validation DataLoader 0:  23%|██▎       | 3/13 [00:00<00:01,  8.79it/s]\u001B[A\n",
      "Validation DataLoader 0:  31%|███       | 4/13 [00:00<00:00, 10.63it/s]\u001B[A\n",
      "Validation DataLoader 0:  38%|███▊      | 5/13 [00:00<00:00, 12.22it/s]\u001B[A\n",
      "Validation DataLoader 0:  46%|████▌     | 6/13 [00:00<00:00, 13.51it/s]\u001B[A\n",
      "Validation DataLoader 0:  54%|█████▍    | 7/13 [00:00<00:00,  7.45it/s]\u001B[A\n",
      "Validation DataLoader 0:  62%|██████▏   | 8/13 [00:01<00:00,  7.65it/s]\u001B[A\n",
      "Validation DataLoader 0:  69%|██████▉   | 9/13 [00:01<00:00,  8.35it/s]\u001B[A\n",
      "Validation DataLoader 0:  77%|███████▋  | 10/13 [00:01<00:00,  8.99it/s]\u001B[A\n",
      "Validation DataLoader 0:  85%|████████▍ | 11/13 [00:01<00:00,  9.60it/s]\u001B[A\n",
      "Validation DataLoader 0:  92%|█████████▏| 12/13 [00:01<00:00, 10.18it/s]\u001B[A\n",
      "Epoch 3: 100%|██████████| 90/90 [00:43<00:00,  2.08it/s, v_num=0, train_loss_step=35.10, train_loss_epoch=30.50]\n",
      "Epoch 4: 100%|██████████| 90/90 [00:28<00:00,  3.21it/s, v_num=0, train_loss_step=39.50, train_loss_epoch=30.50]\n",
      "Validation: 0it [00:00, ?it/s]\u001B[A\n",
      "Validation:   0%|          | 0/13 [00:00<?, ?it/s]\u001B[A\n",
      "Validation DataLoader 0:   0%|          | 0/13 [00:00<?, ?it/s]\u001B[A\n",
      "Validation DataLoader 0:   8%|▊         | 1/13 [00:00<00:03,  3.27it/s]\u001B[A\n",
      "Validation DataLoader 0:  15%|█▌        | 2/13 [00:00<00:02,  5.41it/s]\u001B[A\n",
      "Validation DataLoader 0:  23%|██▎       | 3/13 [00:00<00:01,  7.36it/s]\u001B[A\n",
      "Validation DataLoader 0:  31%|███       | 4/13 [00:00<00:00,  9.06it/s]\u001B[A\n",
      "Validation DataLoader 0:  38%|███▊      | 5/13 [00:00<00:00, 10.54it/s]\u001B[A\n",
      "Validation DataLoader 0:  46%|████▌     | 6/13 [00:00<00:00, 11.80it/s]\u001B[A\n",
      "Validation DataLoader 0:  54%|█████▍    | 7/13 [00:00<00:00,  7.60it/s]\u001B[A\n",
      "Validation DataLoader 0:  62%|██████▏   | 8/13 [00:00<00:00,  8.39it/s]\u001B[A\n",
      "Validation DataLoader 0:  69%|██████▉   | 9/13 [00:00<00:00,  9.12it/s]\u001B[A\n",
      "Validation DataLoader 0:  77%|███████▋  | 10/13 [00:01<00:00,  9.81it/s]\u001B[A\n",
      "Validation DataLoader 0:  85%|████████▍ | 11/13 [00:01<00:00, 10.45it/s]\u001B[A\n",
      "Validation DataLoader 0:  92%|█████████▏| 12/13 [00:01<00:00, 11.05it/s]\u001B[A\n",
      "Epoch 4: 100%|██████████| 90/90 [00:44<00:00,  2.04it/s, v_num=0, train_loss_step=39.50, train_loss_epoch=30.50]\n",
      "Epoch 5: 100%|██████████| 90/90 [00:27<00:00,  3.23it/s, v_num=0, train_loss_step=18.00, train_loss_epoch=30.50]\n",
      "Validation: 0it [00:00, ?it/s]\u001B[A\n",
      "Validation:   0%|          | 0/13 [00:00<?, ?it/s]\u001B[A\n",
      "Validation DataLoader 0:   0%|          | 0/13 [00:00<?, ?it/s]\u001B[A\n",
      "Validation DataLoader 0:   8%|▊         | 1/13 [00:00<00:02,  4.16it/s]\u001B[A\n",
      "Validation DataLoader 0:  15%|█▌        | 2/13 [00:00<00:01,  7.32it/s]\u001B[A\n",
      "Validation DataLoader 0:  23%|██▎       | 3/13 [00:00<00:01,  9.76it/s]\u001B[A\n",
      "Validation DataLoader 0:  31%|███       | 4/13 [00:00<00:00, 11.76it/s]\u001B[A\n",
      "Validation DataLoader 0:  38%|███▊      | 5/13 [00:00<00:00, 13.36it/s]\u001B[A\n",
      "Validation DataLoader 0:  46%|████▌     | 6/13 [00:00<00:00, 14.73it/s]\u001B[A\n",
      "Validation DataLoader 0:  54%|█████▍    | 7/13 [00:00<00:00,  7.51it/s]\u001B[A\n",
      "Validation DataLoader 0:  62%|██████▏   | 8/13 [00:00<00:00,  8.29it/s]\u001B[A\n",
      "Validation DataLoader 0:  69%|██████▉   | 9/13 [00:00<00:00,  9.01it/s]\u001B[A\n",
      "Validation DataLoader 0:  77%|███████▋  | 10/13 [00:01<00:00,  9.68it/s]\u001B[A\n",
      "Validation DataLoader 0:  85%|████████▍ | 11/13 [00:01<00:00, 10.31it/s]\u001B[A\n",
      "Validation DataLoader 0:  92%|█████████▏| 12/13 [00:01<00:00, 10.90it/s]\u001B[A\n",
      "Epoch 5: 100%|██████████| 90/90 [00:44<00:00,  2.02it/s, v_num=0, train_loss_step=18.00, train_loss_epoch=30.50]\n",
      "Epoch 5: 100%|██████████| 90/90 [00:44<00:00,  2.02it/s, v_num=0, train_loss_step=18.00, train_loss_epoch=30.50]"
     ]
    },
    {
     "name": "stderr",
     "output_type": "stream",
     "text": [
      "Monitored metric val_loss did not improve in the last 3 records. Best score: 29.931. Signaling Trainer to stop.\n"
     ]
    },
    {
     "name": "stdout",
     "output_type": "stream",
     "text": [
      "Epoch 5: 100%|██████████| 90/90 [00:44<00:00,  2.02it/s, v_num=0, train_loss_step=18.00, train_loss_epoch=30.50]\n"
     ]
    },
    {
     "name": "stderr",
     "output_type": "stream",
     "text": [
      "Restoring states from the checkpoint path at weighted_article_net\\lightning_logs\\version_0\\checkpoints\\epoch=5-step=540.ckpt\n",
      "LOCAL_RANK: 0 - CUDA_VISIBLE_DEVICES: [0]\n",
      "Loaded model weights from the checkpoint at weighted_article_net\\lightning_logs\\version_0\\checkpoints\\epoch=5-step=540.ckpt\n"
     ]
    },
    {
     "name": "stdout",
     "output_type": "stream",
     "text": [
      "Testing DataLoader 0: 100%|██████████| 26/26 [00:03<00:00,  6.88it/s]\n"
     ]
    },
    {
     "data": {
      "text/plain": "┏━━━━━━━━━━━━━━━━━━━━━━━━━━━┳━━━━━━━━━━━━━━━━━━━━━━━━━━━┓\n┃\u001B[1m \u001B[0m\u001B[1m       Test metric       \u001B[0m\u001B[1m \u001B[0m┃\u001B[1m \u001B[0m\u001B[1m      DataLoader 0       \u001B[0m\u001B[1m \u001B[0m┃\n┡━━━━━━━━━━━━━━━━━━━━━━━━━━━╇━━━━━━━━━━━━━━━━━━━━━━━━━━━┩\n│\u001B[36m \u001B[0m\u001B[36m        test_acc         \u001B[0m\u001B[36m \u001B[0m│\u001B[35m \u001B[0m\u001B[35m   0.6284551620483398    \u001B[0m\u001B[35m \u001B[0m│\n│\u001B[36m \u001B[0m\u001B[36m        test_loss        \u001B[0m\u001B[36m \u001B[0m│\u001B[35m \u001B[0m\u001B[35m    2.348024606704712    \u001B[0m\u001B[35m \u001B[0m│\n└───────────────────────────┴───────────────────────────┘\n",
      "text/html": "<pre style=\"white-space:pre;overflow-x:auto;line-height:normal;font-family:Menlo,'DejaVu Sans Mono',consolas,'Courier New',monospace\">┏━━━━━━━━━━━━━━━━━━━━━━━━━━━┳━━━━━━━━━━━━━━━━━━━━━━━━━━━┓\n┃<span style=\"font-weight: bold\">        Test metric        </span>┃<span style=\"font-weight: bold\">       DataLoader 0        </span>┃\n┡━━━━━━━━━━━━━━━━━━━━━━━━━━━╇━━━━━━━━━━━━━━━━━━━━━━━━━━━┩\n│<span style=\"color: #008080; text-decoration-color: #008080\">         test_acc          </span>│<span style=\"color: #800080; text-decoration-color: #800080\">    0.6284551620483398     </span>│\n│<span style=\"color: #008080; text-decoration-color: #008080\">         test_loss         </span>│<span style=\"color: #800080; text-decoration-color: #800080\">     2.348024606704712     </span>│\n└───────────────────────────┴───────────────────────────┘\n</pre>\n"
     },
     "metadata": {},
     "output_type": "display_data"
    },
    {
     "name": "stderr",
     "output_type": "stream",
     "text": [
      "Restoring states from the checkpoint path at weighted_article_net\\lightning_logs\\version_0\\checkpoints\\epoch=5-step=540.ckpt\n",
      "LOCAL_RANK: 0 - CUDA_VISIBLE_DEVICES: [0]\n",
      "Loaded model weights from the checkpoint at weighted_article_net\\lightning_logs\\version_0\\checkpoints\\epoch=5-step=540.ckpt\n"
     ]
    },
    {
     "name": "stdout",
     "output_type": "stream",
     "text": [
      "Predicting DataLoader 0: 100%|██████████| 26/26 [00:03<00:00,  7.15it/s]\n"
     ]
    },
    {
     "name": "stderr",
     "output_type": "stream",
     "text": [
      "Global seed set to 1\n",
      "GPU available: True (cuda), used: True\n",
      "TPU available: False, using: 0 TPU cores\n",
      "IPU available: False, using: 0 IPUs\n",
      "HPU available: False, using: 0 HPUs\n",
      "LOCAL_RANK: 0 - CUDA_VISIBLE_DEVICES: [0]\n",
      "\n",
      "  | Name          | Type                      | Params\n",
      "------------------------------------------------------------\n",
      "0 | conv_part     | Sequential                | 133   \n",
      "1 | lstm_1        | LSTM                      | 197 K \n",
      "2 | query_1       | Linear                    | 16.5 K\n",
      "3 | att_scores    | Softmax                   | 0     \n",
      "4 | dense_part    | Sequential                | 10.7 K\n",
      "5 | train_acc     | MulticlassAccuracy        | 0     \n",
      "6 | valid_acc     | MulticlassAccuracy        | 0     \n",
      "7 | test_acc      | MulticlassAccuracy        | 0     \n",
      "8 | test_conf_mat | MulticlassConfusionMatrix | 0     \n",
      "------------------------------------------------------------\n",
      "225 K     Trainable params\n",
      "0         Non-trainable params\n",
      "225 K     Total params\n",
      "0.900     Total estimated model params size (MB)\n"
     ]
    },
    {
     "name": "stdout",
     "output_type": "stream",
     "text": [
      "Epoch 0: 100%|██████████| 90/90 [00:26<00:00,  3.34it/s, v_num=1, train_loss_step=28.30]\n",
      "Validation: 0it [00:00, ?it/s]\u001B[A\n",
      "Validation:   0%|          | 0/13 [00:00<?, ?it/s]\u001B[A\n",
      "Validation DataLoader 0:   0%|          | 0/13 [00:00<?, ?it/s]\u001B[A\n",
      "Validation DataLoader 0:   8%|▊         | 1/13 [00:00<00:03,  3.19it/s]\u001B[A\n",
      "Validation DataLoader 0:  15%|█▌        | 2/13 [00:00<00:01,  5.78it/s]\u001B[A\n",
      "Validation DataLoader 0:  23%|██▎       | 3/13 [00:00<00:01,  7.90it/s]\u001B[A\n",
      "Validation DataLoader 0:  31%|███       | 4/13 [00:00<00:00,  9.69it/s]\u001B[A\n",
      "Validation DataLoader 0:  38%|███▊      | 5/13 [00:00<00:00, 11.17it/s]\u001B[A\n",
      "Validation DataLoader 0:  46%|████▌     | 6/13 [00:00<00:00, 12.43it/s]\u001B[A\n",
      "Validation DataLoader 0:  54%|█████▍    | 7/13 [00:00<00:00,  7.32it/s]\u001B[A\n",
      "Validation DataLoader 0:  62%|██████▏   | 8/13 [00:00<00:00,  8.07it/s]\u001B[A\n",
      "Validation DataLoader 0:  69%|██████▉   | 9/13 [00:01<00:00,  8.77it/s]\u001B[A\n",
      "Validation DataLoader 0:  77%|███████▋  | 10/13 [00:01<00:00,  9.41it/s]\u001B[A\n",
      "Validation DataLoader 0:  85%|████████▍ | 11/13 [00:01<00:00, 10.03it/s]\u001B[A\n",
      "Validation DataLoader 0:  92%|█████████▏| 12/13 [00:01<00:00, 10.62it/s]\u001B[A\n",
      "Epoch 0: 100%|██████████| 90/90 [00:42<00:00,  2.11it/s, v_num=1, train_loss_step=28.30]\n",
      "Epoch 0: 100%|██████████| 90/90 [00:42<00:00,  2.11it/s, v_num=1, train_loss_step=28.30, train_loss_epoch=30.50]"
     ]
    },
    {
     "name": "stderr",
     "output_type": "stream",
     "text": [
      "Metric val_loss improved. New best score: 29.929\n"
     ]
    },
    {
     "name": "stdout",
     "output_type": "stream",
     "text": [
      "Epoch 1: 100%|██████████| 90/90 [00:27<00:00,  3.31it/s, v_num=1, train_loss_step=31.70, train_loss_epoch=30.50]\n",
      "Validation: 0it [00:00, ?it/s]\u001B[A\n",
      "Validation:   0%|          | 0/13 [00:00<?, ?it/s]\u001B[A\n",
      "Validation DataLoader 0:   0%|          | 0/13 [00:00<?, ?it/s]\u001B[A\n",
      "Validation DataLoader 0:   8%|▊         | 1/13 [00:00<00:03,  3.36it/s]\u001B[A\n",
      "Validation DataLoader 0:  15%|█▌        | 2/13 [00:00<00:01,  6.04it/s]\u001B[A\n",
      "Validation DataLoader 0:  23%|██▎       | 3/13 [00:00<00:01,  8.24it/s]\u001B[A\n",
      "Validation DataLoader 0:  31%|███       | 4/13 [00:00<00:00, 10.07it/s]\u001B[A\n",
      "Validation DataLoader 0:  38%|███▊      | 5/13 [00:00<00:00, 11.60it/s]\u001B[A\n",
      "Validation DataLoader 0:  46%|████▌     | 6/13 [00:00<00:00, 12.90it/s]\u001B[A\n",
      "Validation DataLoader 0:  54%|█████▍    | 7/13 [00:00<00:00,  7.52it/s]\u001B[A\n",
      "Validation DataLoader 0:  62%|██████▏   | 8/13 [00:01<00:00,  7.79it/s]\u001B[A\n",
      "Validation DataLoader 0:  69%|██████▉   | 9/13 [00:01<00:00,  8.46it/s]\u001B[A\n",
      "Validation DataLoader 0:  77%|███████▋  | 10/13 [00:01<00:00,  9.09it/s]\u001B[A\n",
      "Validation DataLoader 0:  85%|████████▍ | 11/13 [00:01<00:00,  9.68it/s]\u001B[A\n",
      "Validation DataLoader 0:  92%|█████████▏| 12/13 [00:01<00:00, 10.19it/s]\u001B[A\n",
      "Epoch 1: 100%|██████████| 90/90 [00:42<00:00,  2.09it/s, v_num=1, train_loss_step=31.70, train_loss_epoch=30.50]\n",
      "Epoch 2: 100%|██████████| 90/90 [00:27<00:00,  3.30it/s, v_num=1, train_loss_step=21.60, train_loss_epoch=30.50]\n",
      "Validation: 0it [00:00, ?it/s]\u001B[A\n",
      "Validation:   0%|          | 0/13 [00:00<?, ?it/s]\u001B[A\n",
      "Validation DataLoader 0:   0%|          | 0/13 [00:00<?, ?it/s]\u001B[A\n",
      "Validation DataLoader 0:   8%|▊         | 1/13 [00:00<00:03,  3.53it/s]\u001B[A\n",
      "Validation DataLoader 0:  15%|█▌        | 2/13 [00:00<00:01,  6.32it/s]\u001B[A\n",
      "Validation DataLoader 0:  23%|██▎       | 3/13 [00:00<00:01,  8.59it/s]\u001B[A\n",
      "Validation DataLoader 0:  31%|███       | 4/13 [00:00<00:00, 10.46it/s]\u001B[A\n",
      "Validation DataLoader 0:  38%|███▊      | 5/13 [00:00<00:00, 12.07it/s]\u001B[A\n",
      "Validation DataLoader 0:  46%|████▌     | 6/13 [00:00<00:00, 13.41it/s]\u001B[A\n",
      "Validation DataLoader 0:  54%|█████▍    | 7/13 [00:00<00:00,  7.71it/s]\u001B[A\n",
      "Validation DataLoader 0:  62%|██████▏   | 8/13 [00:00<00:00,  8.48it/s]\u001B[A\n",
      "Validation DataLoader 0:  69%|██████▉   | 9/13 [00:00<00:00,  9.23it/s]\u001B[A\n",
      "Validation DataLoader 0:  77%|███████▋  | 10/13 [00:01<00:00,  9.91it/s]\u001B[A\n",
      "Validation DataLoader 0:  85%|████████▍ | 11/13 [00:01<00:00, 10.54it/s]\u001B[A\n",
      "Validation DataLoader 0:  92%|█████████▏| 12/13 [00:01<00:00, 11.15it/s]\u001B[A\n",
      "Epoch 2: 100%|██████████| 90/90 [00:42<00:00,  2.10it/s, v_num=1, train_loss_step=21.60, train_loss_epoch=30.50]\n",
      "Epoch 3: 100%|██████████| 90/90 [00:27<00:00,  3.29it/s, v_num=1, train_loss_step=31.60, train_loss_epoch=30.50]\n",
      "Validation: 0it [00:00, ?it/s]\u001B[A\n",
      "Validation:   0%|          | 0/13 [00:00<?, ?it/s]\u001B[A\n",
      "Validation DataLoader 0:   0%|          | 0/13 [00:00<?, ?it/s]\u001B[A\n",
      "Validation DataLoader 0:   8%|▊         | 1/13 [00:00<00:03,  3.84it/s]\u001B[A\n",
      "Validation DataLoader 0:  15%|█▌        | 2/13 [00:00<00:02,  4.95it/s]\u001B[A\n",
      "Validation DataLoader 0:  23%|██▎       | 3/13 [00:00<00:01,  6.85it/s]\u001B[A\n",
      "Validation DataLoader 0:  31%|███       | 4/13 [00:00<00:01,  8.41it/s]\u001B[A\n",
      "Validation DataLoader 0:  38%|███▊      | 5/13 [00:00<00:00,  9.79it/s]\u001B[A\n",
      "Validation DataLoader 0:  46%|████▌     | 6/13 [00:00<00:00, 11.04it/s]\u001B[A\n",
      "Validation DataLoader 0:  54%|█████▍    | 7/13 [00:00<00:00,  7.16it/s]\u001B[A\n",
      "Validation DataLoader 0:  62%|██████▏   | 8/13 [00:01<00:00,  5.88it/s]\u001B[A\n",
      "Validation DataLoader 0:  69%|██████▉   | 9/13 [00:01<00:00,  6.46it/s]\u001B[A\n",
      "Validation DataLoader 0:  77%|███████▋  | 10/13 [00:01<00:00,  7.01it/s]\u001B[A\n",
      "Validation DataLoader 0:  85%|████████▍ | 11/13 [00:01<00:00,  7.54it/s]\u001B[A\n",
      "Validation DataLoader 0:  92%|█████████▏| 12/13 [00:01<00:00,  8.04it/s]\u001B[A\n",
      "Epoch 3: 100%|██████████| 90/90 [00:43<00:00,  2.06it/s, v_num=1, train_loss_step=31.60, train_loss_epoch=30.50]\n",
      "Epoch 3: 100%|██████████| 90/90 [00:43<00:00,  2.06it/s, v_num=1, train_loss_step=31.60, train_loss_epoch=30.50]"
     ]
    },
    {
     "name": "stderr",
     "output_type": "stream",
     "text": [
      "Monitored metric val_loss did not improve in the last 3 records. Best score: 29.929. Signaling Trainer to stop.\n"
     ]
    },
    {
     "name": "stdout",
     "output_type": "stream",
     "text": [
      "Epoch 3: 100%|██████████| 90/90 [00:43<00:00,  2.06it/s, v_num=1, train_loss_step=31.60, train_loss_epoch=30.50]\n"
     ]
    },
    {
     "name": "stderr",
     "output_type": "stream",
     "text": [
      "Restoring states from the checkpoint path at weighted_article_net\\lightning_logs\\version_1\\checkpoints\\epoch=3-step=360.ckpt\n",
      "LOCAL_RANK: 0 - CUDA_VISIBLE_DEVICES: [0]\n",
      "Loaded model weights from the checkpoint at weighted_article_net\\lightning_logs\\version_1\\checkpoints\\epoch=3-step=360.ckpt\n"
     ]
    },
    {
     "name": "stdout",
     "output_type": "stream",
     "text": [
      "Testing DataLoader 0: 100%|██████████| 26/26 [00:04<00:00,  6.49it/s]\n"
     ]
    },
    {
     "data": {
      "text/plain": "┏━━━━━━━━━━━━━━━━━━━━━━━━━━━┳━━━━━━━━━━━━━━━━━━━━━━━━━━━┓\n┃\u001B[1m \u001B[0m\u001B[1m       Test metric       \u001B[0m\u001B[1m \u001B[0m┃\u001B[1m \u001B[0m\u001B[1m      DataLoader 0       \u001B[0m\u001B[1m \u001B[0m┃\n┡━━━━━━━━━━━━━━━━━━━━━━━━━━━╇━━━━━━━━━━━━━━━━━━━━━━━━━━━┩\n│\u001B[36m \u001B[0m\u001B[36m        test_acc         \u001B[0m\u001B[36m \u001B[0m│\u001B[35m \u001B[0m\u001B[35m   0.6284551620483398    \u001B[0m\u001B[35m \u001B[0m│\n│\u001B[36m \u001B[0m\u001B[36m        test_loss        \u001B[0m\u001B[36m \u001B[0m│\u001B[35m \u001B[0m\u001B[35m   2.3392906188964844    \u001B[0m\u001B[35m \u001B[0m│\n└───────────────────────────┴───────────────────────────┘\n",
      "text/html": "<pre style=\"white-space:pre;overflow-x:auto;line-height:normal;font-family:Menlo,'DejaVu Sans Mono',consolas,'Courier New',monospace\">┏━━━━━━━━━━━━━━━━━━━━━━━━━━━┳━━━━━━━━━━━━━━━━━━━━━━━━━━━┓\n┃<span style=\"font-weight: bold\">        Test metric        </span>┃<span style=\"font-weight: bold\">       DataLoader 0        </span>┃\n┡━━━━━━━━━━━━━━━━━━━━━━━━━━━╇━━━━━━━━━━━━━━━━━━━━━━━━━━━┩\n│<span style=\"color: #008080; text-decoration-color: #008080\">         test_acc          </span>│<span style=\"color: #800080; text-decoration-color: #800080\">    0.6284551620483398     </span>│\n│<span style=\"color: #008080; text-decoration-color: #008080\">         test_loss         </span>│<span style=\"color: #800080; text-decoration-color: #800080\">    2.3392906188964844     </span>│\n└───────────────────────────┴───────────────────────────┘\n</pre>\n"
     },
     "metadata": {},
     "output_type": "display_data"
    },
    {
     "name": "stderr",
     "output_type": "stream",
     "text": [
      "Restoring states from the checkpoint path at weighted_article_net\\lightning_logs\\version_1\\checkpoints\\epoch=3-step=360.ckpt\n",
      "LOCAL_RANK: 0 - CUDA_VISIBLE_DEVICES: [0]\n",
      "Loaded model weights from the checkpoint at weighted_article_net\\lightning_logs\\version_1\\checkpoints\\epoch=3-step=360.ckpt\n"
     ]
    },
    {
     "name": "stdout",
     "output_type": "stream",
     "text": [
      "Predicting DataLoader 0: 100%|██████████| 26/26 [00:03<00:00,  7.15it/s]\n"
     ]
    },
    {
     "name": "stderr",
     "output_type": "stream",
     "text": [
      "Global seed set to 2\n",
      "GPU available: True (cuda), used: True\n",
      "TPU available: False, using: 0 TPU cores\n",
      "IPU available: False, using: 0 IPUs\n",
      "HPU available: False, using: 0 HPUs\n",
      "LOCAL_RANK: 0 - CUDA_VISIBLE_DEVICES: [0]\n",
      "\n",
      "  | Name          | Type                      | Params\n",
      "------------------------------------------------------------\n",
      "0 | conv_part     | Sequential                | 133   \n",
      "1 | lstm_1        | LSTM                      | 197 K \n",
      "2 | query_1       | Linear                    | 16.5 K\n",
      "3 | att_scores    | Softmax                   | 0     \n",
      "4 | dense_part    | Sequential                | 10.7 K\n",
      "5 | train_acc     | MulticlassAccuracy        | 0     \n",
      "6 | valid_acc     | MulticlassAccuracy        | 0     \n",
      "7 | test_acc      | MulticlassAccuracy        | 0     \n",
      "8 | test_conf_mat | MulticlassConfusionMatrix | 0     \n",
      "------------------------------------------------------------\n",
      "225 K     Trainable params\n",
      "0         Non-trainable params\n",
      "225 K     Total params\n",
      "0.900     Total estimated model params size (MB)\n"
     ]
    },
    {
     "name": "stdout",
     "output_type": "stream",
     "text": [
      "Epoch 0: 100%|██████████| 90/90 [00:27<00:00,  3.28it/s, v_num=2, train_loss_step=29.80]\n",
      "Validation: 0it [00:00, ?it/s]\u001B[A\n",
      "Validation:   0%|          | 0/13 [00:00<?, ?it/s]\u001B[A\n",
      "Validation DataLoader 0:   0%|          | 0/13 [00:00<?, ?it/s]\u001B[A\n",
      "Validation DataLoader 0:   8%|▊         | 1/13 [00:00<00:03,  3.11it/s]\u001B[A\n",
      "Validation DataLoader 0:  15%|█▌        | 2/13 [00:00<00:01,  5.58it/s]\u001B[A\n",
      "Validation DataLoader 0:  23%|██▎       | 3/13 [00:00<00:01,  7.63it/s]\u001B[A\n",
      "Validation DataLoader 0:  31%|███       | 4/13 [00:00<00:00,  9.34it/s]\u001B[A\n",
      "Validation DataLoader 0:  38%|███▊      | 5/13 [00:00<00:00, 10.84it/s]\u001B[A\n",
      "Validation DataLoader 0:  46%|████▌     | 6/13 [00:00<00:00, 12.09it/s]\u001B[A\n",
      "Validation DataLoader 0:  54%|█████▍    | 7/13 [00:00<00:00,  7.63it/s]\u001B[A\n",
      "Validation DataLoader 0:  62%|██████▏   | 8/13 [00:00<00:00,  8.34it/s]\u001B[A\n",
      "Validation DataLoader 0:  69%|██████▉   | 9/13 [00:00<00:00,  9.06it/s]\u001B[A\n",
      "Validation DataLoader 0:  77%|███████▋  | 10/13 [00:01<00:00,  9.74it/s]\u001B[A\n",
      "Validation DataLoader 0:  85%|████████▍ | 11/13 [00:01<00:00, 10.38it/s]\u001B[A\n",
      "Validation DataLoader 0:  92%|█████████▏| 12/13 [00:01<00:00, 10.98it/s]\u001B[A\n",
      "Epoch 0: 100%|██████████| 90/90 [00:43<00:00,  2.09it/s, v_num=2, train_loss_step=29.80]\n",
      "Epoch 0: 100%|██████████| 90/90 [00:43<00:00,  2.09it/s, v_num=2, train_loss_step=29.80, train_loss_epoch=31.10]"
     ]
    },
    {
     "name": "stderr",
     "output_type": "stream",
     "text": [
      "Metric val_loss improved. New best score: 30.549\n"
     ]
    },
    {
     "name": "stdout",
     "output_type": "stream",
     "text": [
      "Epoch 1: 100%|██████████| 90/90 [00:27<00:00,  3.27it/s, v_num=2, train_loss_step=38.90, train_loss_epoch=31.10]\n",
      "Validation: 0it [00:00, ?it/s]\u001B[A\n",
      "Validation:   0%|          | 0/13 [00:00<?, ?it/s]\u001B[A\n",
      "Validation DataLoader 0:   0%|          | 0/13 [00:00<?, ?it/s]\u001B[A\n",
      "Validation DataLoader 0:   8%|▊         | 1/13 [00:00<00:03,  3.45it/s]\u001B[A\n",
      "Validation DataLoader 0:  15%|█▌        | 2/13 [00:00<00:01,  6.18it/s]\u001B[A\n",
      "Validation DataLoader 0:  23%|██▎       | 3/13 [00:00<00:01,  8.38it/s]\u001B[A\n",
      "Validation DataLoader 0:  31%|███       | 4/13 [00:00<00:00, 10.18it/s]\u001B[A\n",
      "Validation DataLoader 0:  38%|███▊      | 5/13 [00:00<00:00, 11.66it/s]\u001B[A\n",
      "Validation DataLoader 0:  46%|████▌     | 6/13 [00:00<00:00, 12.66it/s]\u001B[A\n",
      "Validation DataLoader 0:  54%|█████▍    | 7/13 [00:00<00:00,  7.66it/s]\u001B[A\n",
      "Validation DataLoader 0:  62%|██████▏   | 8/13 [00:00<00:00,  8.32it/s]\u001B[A\n",
      "Validation DataLoader 0:  69%|██████▉   | 9/13 [00:00<00:00,  9.06it/s]\u001B[A\n",
      "Validation DataLoader 0:  77%|███████▋  | 10/13 [00:01<00:00,  9.74it/s]\u001B[A\n",
      "Validation DataLoader 0:  85%|████████▍ | 11/13 [00:01<00:00, 10.36it/s]\u001B[A\n",
      "Validation DataLoader 0:  92%|█████████▏| 12/13 [00:01<00:00, 10.95it/s]\u001B[A\n",
      "Epoch 1: 100%|██████████| 90/90 [00:43<00:00,  2.08it/s, v_num=2, train_loss_step=38.90, train_loss_epoch=31.10]\n",
      "Epoch 2: 100%|██████████| 90/90 [00:27<00:00,  3.32it/s, v_num=2, train_loss_step=26.30, train_loss_epoch=31.20]\n",
      "Validation: 0it [00:00, ?it/s]\u001B[A\n",
      "Validation:   0%|          | 0/13 [00:00<?, ?it/s]\u001B[A\n",
      "Validation DataLoader 0:   0%|          | 0/13 [00:00<?, ?it/s]\u001B[A\n",
      "Validation DataLoader 0:   8%|▊         | 1/13 [00:00<00:03,  3.71it/s]\u001B[A\n",
      "Validation DataLoader 0:  15%|█▌        | 2/13 [00:00<00:01,  6.56it/s]\u001B[A\n",
      "Validation DataLoader 0:  23%|██▎       | 3/13 [00:00<00:01,  8.88it/s]\u001B[A\n",
      "Validation DataLoader 0:  31%|███       | 4/13 [00:00<00:00, 10.82it/s]\u001B[A\n",
      "Validation DataLoader 0:  38%|███▊      | 5/13 [00:00<00:00, 12.42it/s]\u001B[A\n",
      "Validation DataLoader 0:  46%|████▌     | 6/13 [00:00<00:00, 13.77it/s]\u001B[A\n",
      "Validation DataLoader 0:  54%|█████▍    | 7/13 [00:00<00:00,  7.51it/s]\u001B[A\n",
      "Validation DataLoader 0:  62%|██████▏   | 8/13 [00:00<00:00,  8.29it/s]\u001B[A\n",
      "Validation DataLoader 0:  69%|██████▉   | 9/13 [00:00<00:00,  9.02it/s]\u001B[A\n",
      "Validation DataLoader 0:  77%|███████▋  | 10/13 [00:01<00:00,  9.69it/s]\u001B[A\n",
      "Validation DataLoader 0:  85%|████████▍ | 11/13 [00:01<00:00, 10.33it/s]\u001B[A\n",
      "Validation DataLoader 0:  92%|█████████▏| 12/13 [00:01<00:00, 10.93it/s]\u001B[A\n",
      "Epoch 2: 100%|██████████| 90/90 [00:43<00:00,  2.08it/s, v_num=2, train_loss_step=26.30, train_loss_epoch=31.20]\n",
      "Epoch 3: 100%|██████████| 90/90 [00:27<00:00,  3.22it/s, v_num=2, train_loss_step=26.30, train_loss_epoch=31.20]\n",
      "Validation: 0it [00:00, ?it/s]\u001B[A\n",
      "Validation:   0%|          | 0/13 [00:00<?, ?it/s]\u001B[A\n",
      "Validation DataLoader 0:   0%|          | 0/13 [00:00<?, ?it/s]\u001B[A\n",
      "Validation DataLoader 0:   8%|▊         | 1/13 [00:00<00:03,  3.82it/s]\u001B[A\n",
      "Validation DataLoader 0:  15%|█▌        | 2/13 [00:00<00:01,  6.62it/s]\u001B[A\n",
      "Validation DataLoader 0:  23%|██▎       | 3/13 [00:00<00:01,  8.93it/s]\u001B[A\n",
      "Validation DataLoader 0:  31%|███       | 4/13 [00:00<00:00, 10.87it/s]\u001B[A\n",
      "Validation DataLoader 0:  38%|███▊      | 5/13 [00:00<00:00, 12.40it/s]\u001B[A\n",
      "Validation DataLoader 0:  46%|████▌     | 6/13 [00:00<00:00, 13.73it/s]\u001B[A\n",
      "Validation DataLoader 0:  54%|█████▍    | 7/13 [00:00<00:00,  7.04it/s]\u001B[A\n",
      "Validation DataLoader 0:  62%|██████▏   | 8/13 [00:01<00:00,  7.77it/s]\u001B[A\n",
      "Validation DataLoader 0:  69%|██████▉   | 9/13 [00:01<00:00,  8.48it/s]\u001B[A\n",
      "Validation DataLoader 0:  77%|███████▋  | 10/13 [00:01<00:00,  9.14it/s]\u001B[A\n",
      "Validation DataLoader 0:  85%|████████▍ | 11/13 [00:01<00:00,  9.76it/s]\u001B[A\n",
      "Validation DataLoader 0:  92%|█████████▏| 12/13 [00:01<00:00, 10.35it/s]\u001B[A\n",
      "Epoch 3: 100%|██████████| 90/90 [00:44<00:00,  2.03it/s, v_num=2, train_loss_step=26.30, train_loss_epoch=31.20]\n",
      "Epoch 3: 100%|██████████| 90/90 [00:44<00:00,  2.03it/s, v_num=2, train_loss_step=26.30, train_loss_epoch=31.20]"
     ]
    },
    {
     "name": "stderr",
     "output_type": "stream",
     "text": [
      "Monitored metric val_loss did not improve in the last 3 records. Best score: 30.549. Signaling Trainer to stop.\n"
     ]
    },
    {
     "name": "stdout",
     "output_type": "stream",
     "text": [
      "Epoch 3: 100%|██████████| 90/90 [00:44<00:00,  2.03it/s, v_num=2, train_loss_step=26.30, train_loss_epoch=31.20]\n"
     ]
    },
    {
     "name": "stderr",
     "output_type": "stream",
     "text": [
      "Restoring states from the checkpoint path at weighted_article_net\\lightning_logs\\version_2\\checkpoints\\epoch=3-step=360.ckpt\n",
      "LOCAL_RANK: 0 - CUDA_VISIBLE_DEVICES: [0]\n",
      "Loaded model weights from the checkpoint at weighted_article_net\\lightning_logs\\version_2\\checkpoints\\epoch=3-step=360.ckpt\n"
     ]
    },
    {
     "name": "stdout",
     "output_type": "stream",
     "text": [
      "Testing DataLoader 0: 100%|██████████| 26/26 [00:03<00:00,  6.56it/s]\n"
     ]
    },
    {
     "data": {
      "text/plain": "┏━━━━━━━━━━━━━━━━━━━━━━━━━━━┳━━━━━━━━━━━━━━━━━━━━━━━━━━━┓\n┃\u001B[1m \u001B[0m\u001B[1m       Test metric       \u001B[0m\u001B[1m \u001B[0m┃\u001B[1m \u001B[0m\u001B[1m      DataLoader 0       \u001B[0m\u001B[1m \u001B[0m┃\n┡━━━━━━━━━━━━━━━━━━━━━━━━━━━╇━━━━━━━━━━━━━━━━━━━━━━━━━━━┩\n│\u001B[36m \u001B[0m\u001B[36m        test_acc         \u001B[0m\u001B[36m \u001B[0m│\u001B[35m \u001B[0m\u001B[35m   0.03547297418117523   \u001B[0m\u001B[35m \u001B[0m│\n│\u001B[36m \u001B[0m\u001B[36m        test_loss        \u001B[0m\u001B[36m \u001B[0m│\u001B[35m \u001B[0m\u001B[35m   2.5832557678222656    \u001B[0m\u001B[35m \u001B[0m│\n└───────────────────────────┴───────────────────────────┘\n",
      "text/html": "<pre style=\"white-space:pre;overflow-x:auto;line-height:normal;font-family:Menlo,'DejaVu Sans Mono',consolas,'Courier New',monospace\">┏━━━━━━━━━━━━━━━━━━━━━━━━━━━┳━━━━━━━━━━━━━━━━━━━━━━━━━━━┓\n┃<span style=\"font-weight: bold\">        Test metric        </span>┃<span style=\"font-weight: bold\">       DataLoader 0        </span>┃\n┡━━━━━━━━━━━━━━━━━━━━━━━━━━━╇━━━━━━━━━━━━━━━━━━━━━━━━━━━┩\n│<span style=\"color: #008080; text-decoration-color: #008080\">         test_acc          </span>│<span style=\"color: #800080; text-decoration-color: #800080\">    0.03547297418117523    </span>│\n│<span style=\"color: #008080; text-decoration-color: #008080\">         test_loss         </span>│<span style=\"color: #800080; text-decoration-color: #800080\">    2.5832557678222656     </span>│\n└───────────────────────────┴───────────────────────────┘\n</pre>\n"
     },
     "metadata": {},
     "output_type": "display_data"
    },
    {
     "name": "stderr",
     "output_type": "stream",
     "text": [
      "Restoring states from the checkpoint path at weighted_article_net\\lightning_logs\\version_2\\checkpoints\\epoch=3-step=360.ckpt\n",
      "LOCAL_RANK: 0 - CUDA_VISIBLE_DEVICES: [0]\n",
      "Loaded model weights from the checkpoint at weighted_article_net\\lightning_logs\\version_2\\checkpoints\\epoch=3-step=360.ckpt\n"
     ]
    },
    {
     "name": "stdout",
     "output_type": "stream",
     "text": [
      "Predicting DataLoader 0: 100%|██████████| 26/26 [00:03<00:00,  7.11it/s]\n"
     ]
    },
    {
     "name": "stderr",
     "output_type": "stream",
     "text": [
      "Global seed set to 3\n",
      "GPU available: True (cuda), used: True\n",
      "TPU available: False, using: 0 TPU cores\n",
      "IPU available: False, using: 0 IPUs\n",
      "HPU available: False, using: 0 HPUs\n",
      "LOCAL_RANK: 0 - CUDA_VISIBLE_DEVICES: [0]\n",
      "\n",
      "  | Name          | Type                      | Params\n",
      "------------------------------------------------------------\n",
      "0 | conv_part     | Sequential                | 133   \n",
      "1 | lstm_1        | LSTM                      | 197 K \n",
      "2 | query_1       | Linear                    | 16.5 K\n",
      "3 | att_scores    | Softmax                   | 0     \n",
      "4 | dense_part    | Sequential                | 10.7 K\n",
      "5 | train_acc     | MulticlassAccuracy        | 0     \n",
      "6 | valid_acc     | MulticlassAccuracy        | 0     \n",
      "7 | test_acc      | MulticlassAccuracy        | 0     \n",
      "8 | test_conf_mat | MulticlassConfusionMatrix | 0     \n",
      "------------------------------------------------------------\n",
      "225 K     Trainable params\n",
      "0         Non-trainable params\n",
      "225 K     Total params\n",
      "0.900     Total estimated model params size (MB)\n"
     ]
    },
    {
     "name": "stdout",
     "output_type": "stream",
     "text": [
      "Epoch 0: 100%|██████████| 90/90 [00:27<00:00,  3.22it/s, v_num=3, train_loss_step=56.00]\n",
      "Validation: 0it [00:00, ?it/s]\u001B[A\n",
      "Validation:   0%|          | 0/13 [00:00<?, ?it/s]\u001B[A\n",
      "Validation DataLoader 0:   0%|          | 0/13 [00:00<?, ?it/s]\u001B[A\n",
      "Validation DataLoader 0:   8%|▊         | 1/13 [00:00<00:03,  3.64it/s]\u001B[A\n",
      "Validation DataLoader 0:  15%|█▌        | 2/13 [00:00<00:01,  6.47it/s]\u001B[A\n",
      "Validation DataLoader 0:  23%|██▎       | 3/13 [00:00<00:01,  8.80it/s]\u001B[A\n",
      "Validation DataLoader 0:  31%|███       | 4/13 [00:00<00:00, 10.64it/s]\u001B[A\n"
     ]
    }
   ],
   "source": [
    "results = []\n",
    "predictions = []\n",
    "for i in range(5):\n",
    "    lightning.pytorch.seed_everything(i)\n",
    "    model = ArticleNet(12, weights=weights)\n",
    "    early_stopping = lightning.pytorch.callbacks.EarlyStopping('val_loss', verbose=True)\n",
    "    logger = lightning.pytorch.loggers.tensorboard.TensorBoardLogger(save_dir=\"weighted_article_net\", version=i)\n",
    "    trainer = lightning.Trainer(max_epochs=200, callbacks=[early_stopping], logger=logger)\n",
    "    trainer.fit(model, train_dataloaders=train_dataset_loader, val_dataloaders=valid_dataset_loader)\n",
    "    res = trainer.test(dataloaders=test_dataset_loader, ckpt_path='best')\n",
    "    test_pred_tensor = torch.cat(trainer.predict(dataloaders=test_dataset_loader, ckpt_path='best'))\n",
    "    results.append(res[0])\n",
    "    predictions.append(test_pred_tensor)\n",
    "torch.save(torch.stack(predictions), \"weighted_article_net_predictions.ts\")\n",
    "pd.DataFrame(results).to_csv(\"weighted_article_net_lstm_metrics.csv\")"
   ],
   "metadata": {
    "collapsed": false,
    "ExecuteTime": {
     "start_time": "2023-04-22T16:10:54.130877Z",
     "end_time": "2023-04-22T16:37:09.110136Z"
    }
   }
  }
 ],
 "metadata": {
  "kernelspec": {
   "display_name": "Python 3",
   "language": "python",
   "name": "python3"
  },
  "language_info": {
   "codemirror_mode": {
    "name": "ipython",
    "version": 2
   },
   "file_extension": ".py",
   "mimetype": "text/x-python",
   "name": "python",
   "nbconvert_exporter": "python",
   "pygments_lexer": "ipython2",
   "version": "2.7.6"
  }
 },
 "nbformat": 4,
 "nbformat_minor": 0
}
