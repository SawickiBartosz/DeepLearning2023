{
 "cells": [
  {
   "cell_type": "markdown",
   "source": [
    "# Packages"
   ],
   "metadata": {
    "collapsed": false
   }
  },
  {
   "cell_type": "code",
   "execution_count": 11,
   "outputs": [],
   "source": [
    "import os\n",
    "\n",
    "import lightning\n",
    "import pandas as pd\n",
    "import torch\n",
    "import torchmetrics\n",
    "from torch.utils.data import DataLoader\n",
    "from collections import OrderedDict\n",
    "from torchvision.transforms import Compose\n",
    "from load_data import AudioTrainDataset, TargetEncoder, PaddingZeros, NormalizedMelSpectogram"
   ],
   "metadata": {
    "collapsed": false,
    "ExecuteTime": {
     "start_time": "2023-04-22T14:52:41.064968Z",
     "end_time": "2023-04-22T14:52:41.112967Z"
    }
   }
  },
  {
   "cell_type": "markdown",
   "source": [
    "# Simple loading"
   ],
   "metadata": {
    "collapsed": false
   }
  },
  {
   "cell_type": "code",
   "execution_count": 12,
   "outputs": [
    {
     "data": {
      "text/plain": "{1: 'bed',\n 2: 'bird',\n 3: 'cat',\n 4: 'dog',\n 5: 'down',\n 6: 'eight',\n 7: 'five',\n 8: 'four',\n 9: 'go',\n 10: 'happy',\n 11: 'house',\n 12: 'left',\n 13: 'marvin',\n 14: 'nine',\n 15: 'no',\n 16: 'off',\n 17: 'on',\n 18: 'one',\n 19: 'right',\n 20: 'seven',\n 21: 'sheila',\n 22: 'silence',\n 23: 'six',\n 24: 'stop',\n 25: 'three',\n 26: 'tree',\n 27: 'two',\n 28: 'up',\n 29: 'wow',\n 30: 'yes',\n 31: 'zero'}"
     },
     "execution_count": 12,
     "metadata": {},
     "output_type": "execute_result"
    }
   ],
   "source": [
    "DATA_PATH = os.path.join(\"tensorflow-speech-recognition-challenge\", \"train\", \"audio\")\n",
    "dataset = AudioTrainDataset(DATA_PATH)\n",
    "\n",
    "labels_list, labels_dict = dataset.find_classes(DATA_PATH)\n",
    "labels_dict = {idx: name for name, idx in labels_dict.items()}\n",
    "labels_dict"
   ],
   "metadata": {
    "collapsed": false,
    "ExecuteTime": {
     "start_time": "2023-04-22T14:52:41.087968Z",
     "end_time": "2023-04-22T14:52:41.395967Z"
    }
   }
  },
  {
   "cell_type": "code",
   "execution_count": 13,
   "outputs": [],
   "source": [
    "NUM_WORKERS = 6\n",
    "BATCH_SIZE = 512"
   ],
   "metadata": {
    "collapsed": false,
    "ExecuteTime": {
     "start_time": "2023-04-22T14:52:41.395967Z",
     "end_time": "2023-04-22T14:52:41.412917Z"
    }
   }
  },
  {
   "cell_type": "markdown",
   "source": [
    "# Article model"
   ],
   "metadata": {
    "collapsed": false
   }
  },
  {
   "cell_type": "code",
   "execution_count": 14,
   "outputs": [],
   "source": [
    "transforms = Compose([\n",
    "    PaddingZeros(16000),\n",
    "    NormalizedMelSpectogram()\n",
    "])\n",
    "features_dataset = AudioTrainDataset(DATA_PATH, transform=transforms,\n",
    "                                     target_transform=TargetEncoder(class_dict=labels_dict))"
   ],
   "metadata": {
    "collapsed": false,
    "ExecuteTime": {
     "start_time": "2023-04-22T14:52:41.412917Z",
     "end_time": "2023-04-22T14:52:41.712917Z"
    }
   }
  },
  {
   "cell_type": "code",
   "execution_count": 15,
   "outputs": [
    {
     "data": {
      "text/plain": "(45587, 6512, 13024)"
     },
     "execution_count": 15,
     "metadata": {},
     "output_type": "execute_result"
    }
   ],
   "source": [
    "gen = torch.Generator().manual_seed(42)\n",
    "train_dataset, valid_dataset, test_dataset = torch.utils.data.random_split(features_dataset, [0.7, 0.1, 0.2],\n",
    "                                                                           generator=gen)\n",
    "len(train_dataset), len(valid_dataset), len(test_dataset)"
   ],
   "metadata": {
    "collapsed": false,
    "ExecuteTime": {
     "start_time": "2023-04-22T14:52:41.710917Z",
     "end_time": "2023-04-22T14:52:41.729917Z"
    }
   }
  },
  {
   "cell_type": "code",
   "execution_count": 16,
   "outputs": [
    {
     "data": {
      "text/plain": "(90, 13, 26)"
     },
     "execution_count": 16,
     "metadata": {},
     "output_type": "execute_result"
    }
   ],
   "source": [
    "train_dataset_loader = DataLoader(train_dataset, batch_size=BATCH_SIZE, num_workers=NUM_WORKERS, shuffle=True,\n",
    "                                  generator=torch.random.manual_seed(123))\n",
    "valid_dataset_loader = DataLoader(valid_dataset, batch_size=BATCH_SIZE, num_workers=NUM_WORKERS, shuffle=False)\n",
    "test_dataset_loader = DataLoader(test_dataset, batch_size=BATCH_SIZE, num_workers=NUM_WORKERS, shuffle=False)\n",
    "len(train_dataset_loader), len(valid_dataset_loader), len(test_dataset_loader)"
   ],
   "metadata": {
    "collapsed": false,
    "ExecuteTime": {
     "start_time": "2023-04-22T14:52:41.723918Z",
     "end_time": "2023-04-22T14:52:41.766917Z"
    }
   }
  },
  {
   "cell_type": "code",
   "execution_count": 17,
   "outputs": [],
   "source": [
    "class ArticleNet(lightning.LightningModule):\n",
    "    def __init__(self, target_size):\n",
    "        super().__init__()\n",
    "        self.conv_part = torch.nn.Sequential(OrderedDict([\n",
    "            ('conv1', torch.nn.Conv2d(in_channels=1, out_channels=10, kernel_size=(5, 1), padding='same', groups=1)),\n",
    "            ('relu1', torch.nn.ReLU()),\n",
    "            ('bn1', torch.nn.BatchNorm2d(num_features=10)),\n",
    "            ('conv2', torch.nn.Conv2d(in_channels=10, out_channels=1, kernel_size=(5, 1), padding='same', groups=1)),\n",
    "            ('relu2', torch.nn.ReLU()),\n",
    "            ('bn2', torch.nn.BatchNorm2d(num_features=1))\n",
    "        ]))\n",
    "        self.lstm_1 = torch.nn.LSTM(input_size=126, hidden_size=64, bidirectional=True, batch_first=True, num_layers=2)\n",
    "        self.query_1 = torch.nn.Linear(in_features=128, out_features=128)\n",
    "        self.att_scores = torch.nn.Softmax(dim=-1)\n",
    "        self.dense_part = torch.nn.Sequential(OrderedDict([\n",
    "            ('dense1', torch.nn.Linear(in_features=128, out_features=64)),\n",
    "            ('relu3', torch.nn.ReLU()),\n",
    "            ('dense2', torch.nn.Linear(in_features=64, out_features=32)),\n",
    "            ('relu4', torch.nn.ReLU()),\n",
    "            ('dense3', torch.nn.Linear(in_features=32, out_features=target_size)),\n",
    "            ('softmax', torch.nn.Softmax(dim=-1))\n",
    "        ]))\n",
    "        self.train_acc = torchmetrics.Accuracy(task=\"multiclass\", num_classes=target_size)\n",
    "        self.valid_acc = torchmetrics.Accuracy(task=\"multiclass\", num_classes=target_size)\n",
    "        self.test_acc = torchmetrics.Accuracy(task=\"multiclass\", num_classes=target_size)\n",
    "        self.test_conf_mat = torchmetrics.ConfusionMatrix(task=\"multiclass\", num_classes=target_size)\n",
    "\n",
    "    def forward(self, x):\n",
    "        convoluted = self.conv_part(x)\n",
    "        x_squeezed = convoluted.squeeze()\n",
    "        x_squeezed = x_squeezed.permute(0, 2, 1)\n",
    "        lstm_out, _ = self.lstm_1(x_squeezed)\n",
    "        last = lstm_out[:, -1, :]\n",
    "        query = self.query_1(last)\n",
    "        att_scores = torch.bmm(query.unsqueeze(1), lstm_out.transpose(1, 2)).squeeze(1)\n",
    "        att_scores = self.att_scores(att_scores)\n",
    "        att_vector = torch.bmm(att_scores.unsqueeze(1), lstm_out).squeeze(1)\n",
    "        output = self.dense_part(att_vector)\n",
    "        return output\n",
    "\n",
    "    def training_step(self, batch, batch_idx):\n",
    "        x, y = batch\n",
    "        y_hat = self(x)\n",
    "        loss = torch.nn.functional.cross_entropy(y_hat, y)\n",
    "        self.train_acc(y_hat, torch.argmax(y, dim=-1))\n",
    "        self.log(\"train_loss\", loss, on_step=True, on_epoch=True, prog_bar=True, logger=True)\n",
    "        self.log(\"train_acc_step\", self.train_acc)\n",
    "        return loss\n",
    "\n",
    "    def on_train_epoch_end(self):\n",
    "        self.log('train_acc', self.train_acc)\n",
    "\n",
    "    def predict_step(self, batch, batch_idx, dataloader_idx=0):\n",
    "        x, y = batch\n",
    "        return self(x)\n",
    "\n",
    "    def validation_step(self, batch, batch_idx):\n",
    "        x, y = batch\n",
    "        y_hat = self(x)\n",
    "        loss = torch.nn.functional.cross_entropy(y_hat, y)\n",
    "        self.valid_acc(y_hat, torch.argmax(y, dim=-1))\n",
    "        self.log('val_loss', loss, on_epoch=True)\n",
    "        self.log('val_acc', self.valid_acc, on_epoch=True)\n",
    "\n",
    "    def test_step(self, batch, batch_idx):\n",
    "        x, y = batch\n",
    "        y_hat = self(x)\n",
    "        loss = torch.nn.functional.cross_entropy(y_hat, y)\n",
    "        y_class = torch.argmax(y, dim=-1)\n",
    "        self.test_acc(y_hat, y_class)\n",
    "        self.test_conf_mat(y_hat, y_class)\n",
    "        self.log('test_loss', loss, on_epoch=True)\n",
    "        self.log('test_acc', self.test_acc, on_epoch=True)\n",
    "\n",
    "    def configure_optimizers(self):\n",
    "        optimizer = torch.optim.Adam(self.parameters(), lr=0.001)\n",
    "        return {\n",
    "            \"optimizer\": optimizer,\n",
    "            \"lr_scheduler\": {\n",
    "                \"scheduler\": torch.optim.lr_scheduler.ReduceLROnPlateau(optimizer, mode=\"min\", factor=0.3, patience=3),\n",
    "                \"monitor\": \"val_loss\",\n",
    "            }\n",
    "        }"
   ],
   "metadata": {
    "collapsed": false,
    "ExecuteTime": {
     "start_time": "2023-04-22T14:52:41.753917Z",
     "end_time": "2023-04-22T14:52:41.778917Z"
    }
   }
  },
  {
   "cell_type": "code",
   "execution_count": 18,
   "outputs": [
    {
     "name": "stdout",
     "output_type": "stream",
     "text": [
      "torch.Size([512, 1, 126, 128])\n",
      "torch.Size([512, 126, 128, 1])\n"
     ]
    }
   ],
   "source": [
    "for batch_x, batch_y in train_dataset_loader:\n",
    "    print(batch_x.shape)\n",
    "    print(batch_x.permute(0, 2, 3, 1).shape)\n",
    "    break"
   ],
   "metadata": {
    "collapsed": false,
    "ExecuteTime": {
     "start_time": "2023-04-22T14:52:41.769917Z",
     "end_time": "2023-04-22T14:52:57.519972Z"
    }
   }
  },
  {
   "cell_type": "code",
   "execution_count": 19,
   "outputs": [],
   "source": [
    "model = ArticleNet(12)\n",
    "for batch_x, batch_y in train_dataset_loader:\n",
    "    y_hat = model(batch_x)\n",
    "    break"
   ],
   "metadata": {
    "collapsed": false,
    "ExecuteTime": {
     "start_time": "2023-04-22T14:52:57.522972Z",
     "end_time": "2023-04-22T14:53:13.656928Z"
    }
   }
  },
  {
   "cell_type": "code",
   "execution_count": 20,
   "outputs": [
    {
     "name": "stderr",
     "output_type": "stream",
     "text": [
      "GPU available: True (cuda), used: True\n",
      "TPU available: False, using: 0 TPU cores\n",
      "IPU available: False, using: 0 IPUs\n",
      "HPU available: False, using: 0 HPUs\n",
      "LOCAL_RANK: 0 - CUDA_VISIBLE_DEVICES: [0]\n",
      "\n",
      "  | Name          | Type                      | Params\n",
      "------------------------------------------------------------\n",
      "0 | conv_part     | Sequential                | 133   \n",
      "1 | lstm_1        | LSTM                      | 197 K \n",
      "2 | query_1       | Linear                    | 16.5 K\n",
      "3 | att_scores    | Softmax                   | 0     \n",
      "4 | dense_part    | Sequential                | 10.7 K\n",
      "5 | train_acc     | MulticlassAccuracy        | 0     \n",
      "6 | valid_acc     | MulticlassAccuracy        | 0     \n",
      "7 | test_acc      | MulticlassAccuracy        | 0     \n",
      "8 | test_conf_mat | MulticlassConfusionMatrix | 0     \n",
      "------------------------------------------------------------\n",
      "225 K     Trainable params\n",
      "0         Non-trainable params\n",
      "225 K     Total params\n",
      "0.900     Total estimated model params size (MB)\n"
     ]
    },
    {
     "name": "stdout",
     "output_type": "stream",
     "text": [
      "Epoch 0: 100%|██████████| 90/90 [00:29<00:00,  3.09it/s, v_num=17, train_loss_step=2.090]\n",
      "Validation: 0it [00:00, ?it/s]\u001B[A\n",
      "Validation:   0%|          | 0/13 [00:00<?, ?it/s]\u001B[A\n",
      "Validation DataLoader 0:   0%|          | 0/13 [00:00<?, ?it/s]\u001B[A\n",
      "Validation DataLoader 0:   8%|▊         | 1/13 [00:00<00:03,  3.08it/s]\u001B[A\n",
      "Validation DataLoader 0:  15%|█▌        | 2/13 [00:00<00:01,  5.58it/s]\u001B[A\n",
      "Validation DataLoader 0:  23%|██▎       | 3/13 [00:00<00:01,  7.64it/s]\u001B[A\n",
      "Validation DataLoader 0:  31%|███       | 4/13 [00:00<00:00,  9.38it/s]\u001B[A\n",
      "Validation DataLoader 0:  38%|███▊      | 5/13 [00:00<00:00, 10.88it/s]\u001B[A\n",
      "Validation DataLoader 0:  46%|████▌     | 6/13 [00:00<00:00, 12.13it/s]\u001B[A\n",
      "Validation DataLoader 0:  54%|█████▍    | 7/13 [00:00<00:00,  7.65it/s]\u001B[A\n",
      "Validation DataLoader 0:  62%|██████▏   | 8/13 [00:00<00:00,  8.43it/s]\u001B[A\n",
      "Validation DataLoader 0:  69%|██████▉   | 9/13 [00:01<00:00,  9.00it/s]\u001B[A\n",
      "Validation DataLoader 0:  77%|███████▋  | 10/13 [00:01<00:00,  9.68it/s]\u001B[A\n",
      "Validation DataLoader 0:  85%|████████▍ | 11/13 [00:01<00:00, 10.30it/s]\u001B[A\n",
      "Validation DataLoader 0:  92%|█████████▏| 12/13 [00:01<00:00, 10.90it/s]\u001B[A\n",
      "Epoch 0: 100%|██████████| 90/90 [00:45<00:00,  1.98it/s, v_num=17, train_loss_step=2.090]\n",
      "Epoch 1: 100%|██████████| 90/90 [00:27<00:00,  3.27it/s, v_num=17, train_loss_step=1.930, train_loss_epoch=2.100]\n",
      "Validation: 0it [00:00, ?it/s]\u001B[A\n",
      "Validation:   0%|          | 0/13 [00:00<?, ?it/s]\u001B[A\n",
      "Validation DataLoader 0:   0%|          | 0/13 [00:00<?, ?it/s]\u001B[A\n",
      "Validation DataLoader 0:   8%|▊         | 1/13 [00:00<00:02,  4.71it/s]\u001B[A\n",
      "Validation DataLoader 0:  15%|█▌        | 2/13 [00:00<00:01,  8.12it/s]\u001B[A\n",
      "Validation DataLoader 0:  23%|██▎       | 3/13 [00:00<00:00, 10.67it/s]\u001B[A\n",
      "Validation DataLoader 0:  31%|███       | 4/13 [00:00<00:00, 12.69it/s]\u001B[A\n",
      "Validation DataLoader 0:  38%|███▊      | 5/13 [00:00<00:00, 14.32it/s]\u001B[A\n",
      "Validation DataLoader 0:  46%|████▌     | 6/13 [00:00<00:00, 15.66it/s]\u001B[A\n",
      "Validation DataLoader 0:  54%|█████▍    | 7/13 [00:00<00:00,  7.27it/s]\u001B[A\n",
      "Validation DataLoader 0:  62%|██████▏   | 8/13 [00:01<00:00,  6.32it/s]\u001B[A\n",
      "Validation DataLoader 0:  69%|██████▉   | 9/13 [00:01<00:00,  6.93it/s]\u001B[A\n",
      "Validation DataLoader 0:  77%|███████▋  | 10/13 [00:01<00:00,  7.51it/s]\u001B[A\n",
      "Validation DataLoader 0:  85%|████████▍ | 11/13 [00:01<00:00,  8.07it/s]\u001B[A\n",
      "Validation DataLoader 0:  92%|█████████▏| 12/13 [00:01<00:00,  8.59it/s]\u001B[A\n",
      "Epoch 1: 100%|██████████| 90/90 [00:43<00:00,  2.06it/s, v_num=17, train_loss_step=1.930, train_loss_epoch=2.100]\n",
      "Epoch 1: 100%|██████████| 90/90 [00:43<00:00,  2.06it/s, v_num=17, train_loss_step=1.930, train_loss_epoch=1.990]"
     ]
    },
    {
     "name": "stderr",
     "output_type": "stream",
     "text": [
      "`Trainer.fit` stopped: `max_epochs=2` reached.\n"
     ]
    },
    {
     "name": "stdout",
     "output_type": "stream",
     "text": [
      "Epoch 1: 100%|██████████| 90/90 [00:43<00:00,  2.06it/s, v_num=17, train_loss_step=1.930, train_loss_epoch=1.990]\n"
     ]
    }
   ],
   "source": [
    "model = ArticleNet(12)\n",
    "trainer = lightning.Trainer(max_epochs=2, logger=True)\n",
    "torch.set_float32_matmul_precision('high')\n",
    "trainer.fit(model, train_dataloaders=train_dataset_loader, val_dataloaders=valid_dataset_loader)"
   ],
   "metadata": {
    "collapsed": false,
    "ExecuteTime": {
     "start_time": "2023-04-22T14:53:13.659929Z",
     "end_time": "2023-04-22T14:55:28.350675Z"
    }
   }
  },
  {
   "cell_type": "code",
   "execution_count": 21,
   "outputs": [
    {
     "name": "stderr",
     "output_type": "stream",
     "text": [
      "Global seed set to 0\n",
      "GPU available: True (cuda), used: True\n",
      "TPU available: False, using: 0 TPU cores\n",
      "IPU available: False, using: 0 IPUs\n",
      "HPU available: False, using: 0 HPUs\n",
      "LOCAL_RANK: 0 - CUDA_VISIBLE_DEVICES: [0]\n",
      "\n",
      "  | Name          | Type                      | Params\n",
      "------------------------------------------------------------\n",
      "0 | conv_part     | Sequential                | 133   \n",
      "1 | lstm_1        | LSTM                      | 197 K \n",
      "2 | query_1       | Linear                    | 16.5 K\n",
      "3 | att_scores    | Softmax                   | 0     \n",
      "4 | dense_part    | Sequential                | 10.7 K\n",
      "5 | train_acc     | MulticlassAccuracy        | 0     \n",
      "6 | valid_acc     | MulticlassAccuracy        | 0     \n",
      "7 | test_acc      | MulticlassAccuracy        | 0     \n",
      "8 | test_conf_mat | MulticlassConfusionMatrix | 0     \n",
      "------------------------------------------------------------\n",
      "225 K     Trainable params\n",
      "0         Non-trainable params\n",
      "225 K     Total params\n",
      "0.900     Total estimated model params size (MB)\n"
     ]
    },
    {
     "name": "stdout",
     "output_type": "stream",
     "text": [
      "Epoch 0: 100%|██████████| 90/90 [00:27<00:00,  3.23it/s, v_num=0, train_loss_step=1.880]\n",
      "Validation: 0it [00:00, ?it/s]\u001B[A\n",
      "Validation:   0%|          | 0/13 [00:00<?, ?it/s]\u001B[A\n",
      "Validation DataLoader 0:   0%|          | 0/13 [00:00<?, ?it/s]\u001B[A\n",
      "Validation DataLoader 0:   8%|▊         | 1/13 [00:00<00:03,  3.77it/s]\u001B[A\n",
      "Validation DataLoader 0:  15%|█▌        | 2/13 [00:00<00:01,  6.66it/s]\u001B[A\n",
      "Validation DataLoader 0:  23%|██▎       | 3/13 [00:00<00:01,  9.00it/s]\u001B[A\n",
      "Validation DataLoader 0:  31%|███       | 4/13 [00:00<00:00, 10.83it/s]\u001B[A\n",
      "Validation DataLoader 0:  38%|███▊      | 5/13 [00:00<00:00, 12.43it/s]\u001B[A\n",
      "Validation DataLoader 0:  46%|████▌     | 6/13 [00:00<00:00, 13.72it/s]\u001B[A\n",
      "Validation DataLoader 0:  54%|█████▍    | 7/13 [00:00<00:00,  7.60it/s]\u001B[A\n",
      "Validation DataLoader 0:  62%|██████▏   | 8/13 [00:00<00:00,  8.38it/s]\u001B[A\n",
      "Validation DataLoader 0:  69%|██████▉   | 9/13 [00:00<00:00,  9.10it/s]\u001B[A\n",
      "Validation DataLoader 0:  77%|███████▋  | 10/13 [00:01<00:00,  9.76it/s]\u001B[A\n",
      "Validation DataLoader 0:  85%|████████▍ | 11/13 [00:01<00:00, 10.41it/s]\u001B[A\n",
      "Validation DataLoader 0:  92%|█████████▏| 12/13 [00:01<00:00, 10.75it/s]\u001B[A\n",
      "Epoch 0: 100%|██████████| 90/90 [00:44<00:00,  2.02it/s, v_num=0, train_loss_step=1.880]\n",
      "Epoch 0: 100%|██████████| 90/90 [00:44<00:00,  2.02it/s, v_num=0, train_loss_step=1.880, train_loss_epoch=2.090]"
     ]
    },
    {
     "name": "stderr",
     "output_type": "stream",
     "text": [
      "Metric val_loss improved. New best score: 1.976\n"
     ]
    },
    {
     "name": "stdout",
     "output_type": "stream",
     "text": [
      "Epoch 1: 100%|██████████| 90/90 [00:28<00:00,  3.16it/s, v_num=0, train_loss_step=2.040, train_loss_epoch=2.090]\n",
      "Validation: 0it [00:00, ?it/s]\u001B[A\n",
      "Validation:   0%|          | 0/13 [00:00<?, ?it/s]\u001B[A\n",
      "Validation DataLoader 0:   0%|          | 0/13 [00:00<?, ?it/s]\u001B[A\n",
      "Validation DataLoader 0:   8%|▊         | 1/13 [00:00<00:01,  7.46it/s]\u001B[A\n",
      "Validation DataLoader 0:  15%|█▌        | 2/13 [00:00<00:01,  9.30it/s]\u001B[A\n",
      "Validation DataLoader 0:  23%|██▎       | 3/13 [00:00<00:00, 12.10it/s]\u001B[A\n",
      "Validation DataLoader 0:  31%|███       | 4/13 [00:00<00:00, 14.18it/s]\u001B[A\n",
      "Validation DataLoader 0:  38%|███▊      | 5/13 [00:00<00:00, 15.77it/s]\u001B[A\n",
      "Validation DataLoader 0:  46%|████▌     | 6/13 [00:00<00:00, 17.14it/s]\u001B[A\n",
      "Validation DataLoader 0:  54%|█████▍    | 7/13 [00:00<00:00,  7.44it/s]\u001B[A\n",
      "Validation DataLoader 0:  62%|██████▏   | 8/13 [00:01<00:00,  6.09it/s]\u001B[A\n",
      "Validation DataLoader 0:  69%|██████▉   | 9/13 [00:01<00:00,  6.68it/s]\u001B[A\n",
      "Validation DataLoader 0:  77%|███████▋  | 10/13 [00:01<00:00,  7.23it/s]\u001B[A\n",
      "Validation DataLoader 0:  85%|████████▍ | 11/13 [00:01<00:00,  7.75it/s]\u001B[A\n",
      "Validation DataLoader 0:  92%|█████████▏| 12/13 [00:01<00:00,  8.26it/s]\u001B[A\n",
      "Epoch 1: 100%|██████████| 90/90 [00:44<00:00,  2.01it/s, v_num=0, train_loss_step=2.040, train_loss_epoch=2.090]\n",
      "Epoch 1: 100%|██████████| 90/90 [00:44<00:00,  2.01it/s, v_num=0, train_loss_step=2.040, train_loss_epoch=1.990]"
     ]
    },
    {
     "name": "stderr",
     "output_type": "stream",
     "text": [
      "Metric val_loss improved by 0.002 >= min_delta = 0.0. New best score: 1.974\n"
     ]
    },
    {
     "name": "stdout",
     "output_type": "stream",
     "text": [
      "Epoch 2: 100%|██████████| 90/90 [00:28<00:00,  3.15it/s, v_num=0, train_loss_step=1.880, train_loss_epoch=1.990]\n",
      "Validation: 0it [00:00, ?it/s]\u001B[A\n",
      "Validation:   0%|          | 0/13 [00:00<?, ?it/s]\u001B[A\n",
      "Validation DataLoader 0:   0%|          | 0/13 [00:00<?, ?it/s]\u001B[A\n",
      "Validation DataLoader 0:   8%|▊         | 1/13 [00:00<00:01,  6.13it/s]\u001B[A\n",
      "Validation DataLoader 0:  15%|█▌        | 2/13 [00:00<00:01, 10.04it/s]\u001B[A\n",
      "Validation DataLoader 0:  23%|██▎       | 3/13 [00:00<00:00, 12.65it/s]\u001B[A\n",
      "Validation DataLoader 0:  31%|███       | 4/13 [00:00<00:00, 14.70it/s]\u001B[A\n",
      "Validation DataLoader 0:  38%|███▊      | 5/13 [00:00<00:00, 16.22it/s]\u001B[A\n",
      "Validation DataLoader 0:  46%|████▌     | 6/13 [00:00<00:00, 17.59it/s]\u001B[A\n",
      "Validation DataLoader 0:  54%|█████▍    | 7/13 [00:00<00:00,  7.29it/s]\u001B[A\n",
      "Validation DataLoader 0:  62%|██████▏   | 8/13 [00:00<00:00,  8.06it/s]\u001B[A\n",
      "Validation DataLoader 0:  69%|██████▉   | 9/13 [00:01<00:00,  8.77it/s]\u001B[A\n",
      "Validation DataLoader 0:  77%|███████▋  | 10/13 [00:01<00:00,  9.45it/s]\u001B[A\n",
      "Validation DataLoader 0:  85%|████████▍ | 11/13 [00:01<00:00, 10.09it/s]\u001B[A\n",
      "Validation DataLoader 0:  92%|█████████▏| 12/13 [00:01<00:00, 10.67it/s]\u001B[A\n",
      "Epoch 2: 100%|██████████| 90/90 [00:45<00:00,  1.96it/s, v_num=0, train_loss_step=1.880, train_loss_epoch=1.990]\n",
      "Epoch 3: 100%|██████████| 90/90 [00:29<00:00,  3.03it/s, v_num=0, train_loss_step=2.090, train_loss_epoch=1.990]\n",
      "Validation: 0it [00:00, ?it/s]\u001B[A\n",
      "Validation:   0%|          | 0/13 [00:00<?, ?it/s]\u001B[A\n",
      "Validation DataLoader 0:   0%|          | 0/13 [00:00<?, ?it/s]\u001B[A\n",
      "Validation DataLoader 0:   8%|▊         | 1/13 [00:00<00:01,  6.20it/s]\u001B[A\n",
      "Validation DataLoader 0:  15%|█▌        | 2/13 [00:00<00:01, 10.03it/s]\u001B[A\n",
      "Validation DataLoader 0:  23%|██▎       | 3/13 [00:00<00:00, 12.51it/s]\u001B[A\n",
      "Validation DataLoader 0:  31%|███       | 4/13 [00:00<00:00, 14.37it/s]\u001B[A\n",
      "Validation DataLoader 0:  38%|███▊      | 5/13 [00:00<00:00, 15.56it/s]\u001B[A\n",
      "Validation DataLoader 0:  46%|████▌     | 6/13 [00:00<00:00, 16.56it/s]\u001B[A\n",
      "Validation DataLoader 0:  54%|█████▍    | 7/13 [00:01<00:00,  6.75it/s]\u001B[A\n",
      "Validation DataLoader 0:  62%|██████▏   | 8/13 [00:01<00:00,  7.45it/s]\u001B[A\n",
      "Validation DataLoader 0:  69%|██████▉   | 9/13 [00:01<00:00,  8.11it/s]\u001B[A\n",
      "Validation DataLoader 0:  77%|███████▋  | 10/13 [00:01<00:00,  8.73it/s]\u001B[A\n",
      "Validation DataLoader 0:  85%|████████▍ | 11/13 [00:01<00:00,  9.33it/s]\u001B[A\n",
      "Validation DataLoader 0:  92%|█████████▏| 12/13 [00:01<00:00,  9.88it/s]\u001B[A\n",
      "Epoch 3: 100%|██████████| 90/90 [00:47<00:00,  1.91it/s, v_num=0, train_loss_step=2.090, train_loss_epoch=1.990]\n",
      "Epoch 4: 100%|██████████| 90/90 [00:29<00:00,  3.03it/s, v_num=0, train_loss_step=1.880, train_loss_epoch=1.990]\n",
      "Validation: 0it [00:00, ?it/s]\u001B[A\n",
      "Validation:   0%|          | 0/13 [00:00<?, ?it/s]\u001B[A\n",
      "Validation DataLoader 0:   0%|          | 0/13 [00:00<?, ?it/s]\u001B[A\n",
      "Validation DataLoader 0:   8%|▊         | 1/13 [00:00<00:03,  3.62it/s]\u001B[A\n",
      "Validation DataLoader 0:  15%|█▌        | 2/13 [00:00<00:01,  6.34it/s]\u001B[A\n",
      "Validation DataLoader 0:  23%|██▎       | 3/13 [00:00<00:01,  8.51it/s]\u001B[A\n",
      "Validation DataLoader 0:  31%|███       | 4/13 [00:00<00:00, 10.27it/s]\u001B[A\n",
      "Validation DataLoader 0:  38%|███▊      | 5/13 [00:00<00:00, 11.72it/s]\u001B[A\n",
      "Validation DataLoader 0:  46%|████▌     | 6/13 [00:00<00:00, 12.97it/s]\u001B[A\n",
      "Validation DataLoader 0:  54%|█████▍    | 7/13 [00:01<00:00,  6.91it/s]\u001B[A\n",
      "Validation DataLoader 0:  62%|██████▏   | 8/13 [00:01<00:00,  7.63it/s]\u001B[A\n",
      "Validation DataLoader 0:  69%|██████▉   | 9/13 [00:01<00:00,  8.30it/s]\u001B[A\n",
      "Validation DataLoader 0:  77%|███████▋  | 10/13 [00:01<00:00,  8.94it/s]\u001B[A\n",
      "Validation DataLoader 0:  85%|████████▍ | 11/13 [00:01<00:00,  9.53it/s]\u001B[A\n",
      "Validation DataLoader 0:  92%|█████████▏| 12/13 [00:01<00:00, 10.10it/s]\u001B[A\n",
      "Epoch 4: 100%|██████████| 90/90 [00:46<00:00,  1.92it/s, v_num=0, train_loss_step=1.880, train_loss_epoch=1.990]\n",
      "Epoch 4: 100%|██████████| 90/90 [00:46<00:00,  1.92it/s, v_num=0, train_loss_step=1.880, train_loss_epoch=1.990]"
     ]
    },
    {
     "name": "stderr",
     "output_type": "stream",
     "text": [
      "Monitored metric val_loss did not improve in the last 3 records. Best score: 1.974. Signaling Trainer to stop.\n"
     ]
    },
    {
     "name": "stdout",
     "output_type": "stream",
     "text": [
      "Epoch 4: 100%|██████████| 90/90 [00:46<00:00,  1.92it/s, v_num=0, train_loss_step=1.880, train_loss_epoch=1.990]\n"
     ]
    },
    {
     "name": "stderr",
     "output_type": "stream",
     "text": [
      "Restoring states from the checkpoint path at article_net\\lightning_logs\\version_0\\checkpoints\\epoch=4-step=450.ckpt\n",
      "LOCAL_RANK: 0 - CUDA_VISIBLE_DEVICES: [0]\n",
      "Loaded model weights from the checkpoint at article_net\\lightning_logs\\version_0\\checkpoints\\epoch=4-step=450.ckpt\n"
     ]
    },
    {
     "name": "stdout",
     "output_type": "stream",
     "text": [
      "Testing DataLoader 0: 100%|██████████| 26/26 [00:04<00:00,  5.42it/s]\n"
     ]
    },
    {
     "data": {
      "text/plain": "┏━━━━━━━━━━━━━━━━━━━━━━━━━━━┳━━━━━━━━━━━━━━━━━━━━━━━━━━━┓\n┃\u001B[1m \u001B[0m\u001B[1m       Test metric       \u001B[0m\u001B[1m \u001B[0m┃\u001B[1m \u001B[0m\u001B[1m      DataLoader 0       \u001B[0m\u001B[1m \u001B[0m┃\n┡━━━━━━━━━━━━━━━━━━━━━━━━━━━╇━━━━━━━━━━━━━━━━━━━━━━━━━━━┩\n│\u001B[36m \u001B[0m\u001B[36m        test_acc         \u001B[0m\u001B[36m \u001B[0m│\u001B[35m \u001B[0m\u001B[35m   0.6284551620483398    \u001B[0m\u001B[35m \u001B[0m│\n│\u001B[36m \u001B[0m\u001B[36m        test_loss        \u001B[0m\u001B[36m \u001B[0m│\u001B[35m \u001B[0m\u001B[35m   1.9902738332748413    \u001B[0m\u001B[35m \u001B[0m│\n└───────────────────────────┴───────────────────────────┘\n",
      "text/html": "<pre style=\"white-space:pre;overflow-x:auto;line-height:normal;font-family:Menlo,'DejaVu Sans Mono',consolas,'Courier New',monospace\">┏━━━━━━━━━━━━━━━━━━━━━━━━━━━┳━━━━━━━━━━━━━━━━━━━━━━━━━━━┓\n┃<span style=\"font-weight: bold\">        Test metric        </span>┃<span style=\"font-weight: bold\">       DataLoader 0        </span>┃\n┡━━━━━━━━━━━━━━━━━━━━━━━━━━━╇━━━━━━━━━━━━━━━━━━━━━━━━━━━┩\n│<span style=\"color: #008080; text-decoration-color: #008080\">         test_acc          </span>│<span style=\"color: #800080; text-decoration-color: #800080\">    0.6284551620483398     </span>│\n│<span style=\"color: #008080; text-decoration-color: #008080\">         test_loss         </span>│<span style=\"color: #800080; text-decoration-color: #800080\">    1.9902738332748413     </span>│\n└───────────────────────────┴───────────────────────────┘\n</pre>\n"
     },
     "metadata": {},
     "output_type": "display_data"
    },
    {
     "name": "stderr",
     "output_type": "stream",
     "text": [
      "Restoring states from the checkpoint path at article_net\\lightning_logs\\version_0\\checkpoints\\epoch=4-step=450.ckpt\n",
      "LOCAL_RANK: 0 - CUDA_VISIBLE_DEVICES: [0]\n",
      "Loaded model weights from the checkpoint at article_net\\lightning_logs\\version_0\\checkpoints\\epoch=4-step=450.ckpt\n"
     ]
    },
    {
     "name": "stdout",
     "output_type": "stream",
     "text": [
      "Predicting DataLoader 0: 100%|██████████| 26/26 [00:03<00:00,  7.02it/s]\n"
     ]
    },
    {
     "name": "stderr",
     "output_type": "stream",
     "text": [
      "Global seed set to 1\n",
      "GPU available: True (cuda), used: True\n",
      "TPU available: False, using: 0 TPU cores\n",
      "IPU available: False, using: 0 IPUs\n",
      "HPU available: False, using: 0 HPUs\n",
      "LOCAL_RANK: 0 - CUDA_VISIBLE_DEVICES: [0]\n",
      "\n",
      "  | Name          | Type                      | Params\n",
      "------------------------------------------------------------\n",
      "0 | conv_part     | Sequential                | 133   \n",
      "1 | lstm_1        | LSTM                      | 197 K \n",
      "2 | query_1       | Linear                    | 16.5 K\n",
      "3 | att_scores    | Softmax                   | 0     \n",
      "4 | dense_part    | Sequential                | 10.7 K\n",
      "5 | train_acc     | MulticlassAccuracy        | 0     \n",
      "6 | valid_acc     | MulticlassAccuracy        | 0     \n",
      "7 | test_acc      | MulticlassAccuracy        | 0     \n",
      "8 | test_conf_mat | MulticlassConfusionMatrix | 0     \n",
      "------------------------------------------------------------\n",
      "225 K     Trainable params\n",
      "0         Non-trainable params\n",
      "225 K     Total params\n",
      "0.900     Total estimated model params size (MB)\n"
     ]
    },
    {
     "name": "stdout",
     "output_type": "stream",
     "text": [
      "Epoch 0: 100%|██████████| 90/90 [00:28<00:00,  3.19it/s, v_num=1, train_loss_step=1.990]\n",
      "Validation: 0it [00:00, ?it/s]\u001B[A\n",
      "Validation:   0%|          | 0/13 [00:00<?, ?it/s]\u001B[A\n",
      "Validation DataLoader 0:   0%|          | 0/13 [00:00<?, ?it/s]\u001B[A\n",
      "Validation DataLoader 0:   8%|▊         | 1/13 [00:00<00:03,  3.44it/s]\u001B[A\n",
      "Validation DataLoader 0:  15%|█▌        | 2/13 [00:00<00:01,  6.17it/s]\u001B[A\n",
      "Validation DataLoader 0:  23%|██▎       | 3/13 [00:00<00:01,  8.38it/s]\u001B[A\n",
      "Validation DataLoader 0:  31%|███       | 4/13 [00:00<00:00, 10.23it/s]\u001B[A\n",
      "Validation DataLoader 0:  38%|███▊      | 5/13 [00:00<00:00, 11.74it/s]\u001B[A\n",
      "Validation DataLoader 0:  46%|████▌     | 6/13 [00:00<00:00, 13.04it/s]\u001B[A\n",
      "Validation DataLoader 0:  54%|█████▍    | 7/13 [00:00<00:00,  7.42it/s]\u001B[A\n",
      "Validation DataLoader 0:  62%|██████▏   | 8/13 [00:00<00:00,  8.17it/s]\u001B[A\n",
      "Validation DataLoader 0:  69%|██████▉   | 9/13 [00:01<00:00,  8.88it/s]\u001B[A\n",
      "Validation DataLoader 0:  77%|███████▋  | 10/13 [00:01<00:00,  9.54it/s]\u001B[A\n",
      "Validation DataLoader 0:  85%|████████▍ | 11/13 [00:01<00:00, 10.15it/s]\u001B[A\n",
      "Validation DataLoader 0:  92%|█████████▏| 12/13 [00:01<00:00, 10.72it/s]\u001B[A\n",
      "Epoch 0: 100%|██████████| 90/90 [00:44<00:00,  2.03it/s, v_num=1, train_loss_step=1.990]\n",
      "Epoch 0: 100%|██████████| 90/90 [00:44<00:00,  2.03it/s, v_num=1, train_loss_step=1.990, train_loss_epoch=2.130]"
     ]
    },
    {
     "name": "stderr",
     "output_type": "stream",
     "text": [
      "Metric val_loss improved. New best score: 1.977\n"
     ]
    },
    {
     "name": "stdout",
     "output_type": "stream",
     "text": [
      "Epoch 1: 100%|██████████| 90/90 [00:28<00:00,  3.21it/s, v_num=1, train_loss_step=2.040, train_loss_epoch=2.130]\n",
      "Validation: 0it [00:00, ?it/s]\u001B[A\n",
      "Validation:   0%|          | 0/13 [00:00<?, ?it/s]\u001B[A\n",
      "Validation DataLoader 0:   0%|          | 0/13 [00:00<?, ?it/s]\u001B[A\n",
      "Validation DataLoader 0:   8%|▊         | 1/13 [00:00<00:01,  8.00it/s]\u001B[A\n",
      "Validation DataLoader 0:  15%|█▌        | 2/13 [00:00<00:01,  7.83it/s]\u001B[A\n",
      "Validation DataLoader 0:  23%|██▎       | 3/13 [00:00<00:00, 10.30it/s]\u001B[A\n",
      "Validation DataLoader 0:  31%|███       | 4/13 [00:00<00:00, 12.18it/s]\u001B[A\n",
      "Validation DataLoader 0:  38%|███▊      | 5/13 [00:00<00:00, 13.69it/s]\u001B[A\n",
      "Validation DataLoader 0:  46%|████▌     | 6/13 [00:00<00:00, 14.88it/s]\u001B[A\n",
      "Validation DataLoader 0:  54%|█████▍    | 7/13 [00:00<00:00,  7.39it/s]\u001B[A\n",
      "Validation DataLoader 0:  62%|██████▏   | 8/13 [00:00<00:00,  8.14it/s]\u001B[A\n",
      "Validation DataLoader 0:  69%|██████▉   | 9/13 [00:01<00:00,  8.87it/s]\u001B[A\n",
      "Validation DataLoader 0:  77%|███████▋  | 10/13 [00:01<00:00,  9.54it/s]\u001B[A\n",
      "Validation DataLoader 0:  85%|████████▍ | 11/13 [00:01<00:00, 10.14it/s]\u001B[A\n",
      "Validation DataLoader 0:  92%|█████████▏| 12/13 [00:01<00:00, 10.71it/s]\u001B[A\n",
      "Epoch 1: 100%|██████████| 90/90 [00:44<00:00,  2.03it/s, v_num=1, train_loss_step=2.040, train_loss_epoch=2.130]\n",
      "Epoch 2: 100%|██████████| 90/90 [00:28<00:00,  3.11it/s, v_num=1, train_loss_step=1.880, train_loss_epoch=1.990]\n",
      "Validation: 0it [00:00, ?it/s]\u001B[A\n",
      "Validation:   0%|          | 0/13 [00:00<?, ?it/s]\u001B[A\n",
      "Validation DataLoader 0:   0%|          | 0/13 [00:00<?, ?it/s]\u001B[A\n",
      "Validation DataLoader 0:   8%|▊         | 1/13 [00:00<00:02,  4.24it/s]\u001B[A\n",
      "Validation DataLoader 0:  15%|█▌        | 2/13 [00:00<00:01,  7.46it/s]\u001B[A\n",
      "Validation DataLoader 0:  23%|██▎       | 3/13 [00:00<00:01,  9.93it/s]\u001B[A\n",
      "Validation DataLoader 0:  31%|███       | 4/13 [00:00<00:00, 11.90it/s]\u001B[A\n",
      "Validation DataLoader 0:  38%|███▊      | 5/13 [00:00<00:00, 13.48it/s]\u001B[A\n",
      "Validation DataLoader 0:  46%|████▌     | 6/13 [00:00<00:00, 14.69it/s]\u001B[A\n",
      "Validation DataLoader 0:  54%|█████▍    | 7/13 [00:00<00:00,  7.45it/s]\u001B[A\n",
      "Validation DataLoader 0:  62%|██████▏   | 8/13 [00:00<00:00,  8.18it/s]\u001B[A\n",
      "Validation DataLoader 0:  69%|██████▉   | 9/13 [00:01<00:00,  8.88it/s]\u001B[A\n",
      "Validation DataLoader 0:  77%|███████▋  | 10/13 [00:01<00:00,  9.54it/s]\u001B[A\n",
      "Validation DataLoader 0:  85%|████████▍ | 11/13 [00:01<00:00, 10.18it/s]\u001B[A\n",
      "Validation DataLoader 0:  92%|█████████▏| 12/13 [00:01<00:00, 10.77it/s]\u001B[A\n",
      "Epoch 2: 100%|██████████| 90/90 [00:45<00:00,  1.98it/s, v_num=1, train_loss_step=1.880, train_loss_epoch=1.990]\n",
      "Epoch 2: 100%|██████████| 90/90 [00:45<00:00,  1.98it/s, v_num=1, train_loss_step=1.880, train_loss_epoch=1.990]"
     ]
    },
    {
     "name": "stderr",
     "output_type": "stream",
     "text": [
      "Metric val_loss improved by 0.002 >= min_delta = 0.0. New best score: 1.975\n"
     ]
    },
    {
     "name": "stdout",
     "output_type": "stream",
     "text": [
      "Epoch 3: 100%|██████████| 90/90 [00:27<00:00,  3.25it/s, v_num=1, train_loss_step=2.040, train_loss_epoch=1.990]\n",
      "Validation: 0it [00:00, ?it/s]\u001B[A\n",
      "Validation:   0%|          | 0/13 [00:00<?, ?it/s]\u001B[A\n",
      "Validation DataLoader 0:   0%|          | 0/13 [00:00<?, ?it/s]\u001B[A\n",
      "Validation DataLoader 0:   8%|▊         | 1/13 [00:00<00:03,  3.48it/s]\u001B[A\n",
      "Validation DataLoader 0:  15%|█▌        | 2/13 [00:00<00:01,  6.21it/s]\u001B[A\n",
      "Validation DataLoader 0:  23%|██▎       | 3/13 [00:00<00:01,  8.40it/s]\u001B[A\n",
      "Validation DataLoader 0:  31%|███       | 4/13 [00:00<00:00, 10.25it/s]\u001B[A\n",
      "Validation DataLoader 0:  38%|███▊      | 5/13 [00:00<00:00, 11.82it/s]\u001B[A\n",
      "Validation DataLoader 0:  46%|████▌     | 6/13 [00:00<00:00, 13.10it/s]\u001B[A\n",
      "Validation DataLoader 0:  54%|█████▍    | 7/13 [00:00<00:00,  7.54it/s]\u001B[A\n",
      "Validation DataLoader 0:  62%|██████▏   | 8/13 [00:00<00:00,  8.05it/s]\u001B[A\n",
      "Validation DataLoader 0:  69%|██████▉   | 9/13 [00:01<00:00,  8.75it/s]\u001B[A\n",
      "Validation DataLoader 0:  77%|███████▋  | 10/13 [00:01<00:00,  9.41it/s]\u001B[A\n",
      "Validation DataLoader 0:  85%|████████▍ | 11/13 [00:01<00:00, 10.04it/s]\u001B[A\n",
      "Validation DataLoader 0:  92%|█████████▏| 12/13 [00:01<00:00, 10.22it/s]\u001B[A\n",
      "Epoch 3: 100%|██████████| 90/90 [00:44<00:00,  2.04it/s, v_num=1, train_loss_step=2.040, train_loss_epoch=1.990]\n",
      "Epoch 3: 100%|██████████| 90/90 [00:44<00:00,  2.04it/s, v_num=1, train_loss_step=2.040, train_loss_epoch=1.990]"
     ]
    },
    {
     "name": "stderr",
     "output_type": "stream",
     "text": [
      "Metric val_loss improved by 0.000 >= min_delta = 0.0. New best score: 1.975\n"
     ]
    },
    {
     "name": "stdout",
     "output_type": "stream",
     "text": [
      "Epoch 4: 100%|██████████| 90/90 [00:28<00:00,  3.15it/s, v_num=1, train_loss_step=2.250, train_loss_epoch=1.990]\n",
      "Validation: 0it [00:00, ?it/s]\u001B[A\n",
      "Validation:   0%|          | 0/13 [00:00<?, ?it/s]\u001B[A\n",
      "Validation DataLoader 0:   0%|          | 0/13 [00:00<?, ?it/s]\u001B[A\n",
      "Validation DataLoader 0:   8%|▊         | 1/13 [00:00<00:03,  3.59it/s]\u001B[A\n",
      "Validation DataLoader 0:  15%|█▌        | 2/13 [00:00<00:01,  6.45it/s]\u001B[A\n",
      "Validation DataLoader 0:  23%|██▎       | 3/13 [00:00<00:01,  8.69it/s]\u001B[A\n",
      "Validation DataLoader 0:  31%|███       | 4/13 [00:00<00:00, 10.55it/s]\u001B[A\n",
      "Validation DataLoader 0:  38%|███▊      | 5/13 [00:00<00:00, 12.13it/s]\u001B[A\n",
      "Validation DataLoader 0:  46%|████▌     | 6/13 [00:00<00:00, 13.38it/s]\u001B[A\n",
      "Validation DataLoader 0:  54%|█████▍    | 7/13 [00:00<00:00,  7.55it/s]\u001B[A\n",
      "Validation DataLoader 0:  62%|██████▏   | 8/13 [00:00<00:00,  8.30it/s]\u001B[A\n",
      "Validation DataLoader 0:  69%|██████▉   | 9/13 [00:00<00:00,  9.02it/s]\u001B[A\n",
      "Validation DataLoader 0:  77%|███████▋  | 10/13 [00:01<00:00,  9.64it/s]\u001B[A\n",
      "Validation DataLoader 0:  85%|████████▍ | 11/13 [00:01<00:00, 10.27it/s]\u001B[A\n",
      "Validation DataLoader 0:  92%|█████████▏| 12/13 [00:01<00:00, 10.24it/s]\u001B[A\n",
      "Epoch 4: 100%|██████████| 90/90 [00:45<00:00,  1.96it/s, v_num=1, train_loss_step=2.250, train_loss_epoch=1.990]\n",
      "Epoch 4: 100%|██████████| 90/90 [00:45<00:00,  1.96it/s, v_num=1, train_loss_step=2.250, train_loss_epoch=1.990]"
     ]
    },
    {
     "name": "stderr",
     "output_type": "stream",
     "text": [
      "Metric val_loss improved by 0.000 >= min_delta = 0.0. New best score: 1.975\n"
     ]
    },
    {
     "name": "stdout",
     "output_type": "stream",
     "text": [
      "Epoch 5: 100%|██████████| 90/90 [00:28<00:00,  3.14it/s, v_num=1, train_loss_step=2.040, train_loss_epoch=1.990]\n",
      "Validation: 0it [00:00, ?it/s]\u001B[A\n",
      "Validation:   0%|          | 0/13 [00:00<?, ?it/s]\u001B[A\n",
      "Validation DataLoader 0:   0%|          | 0/13 [00:00<?, ?it/s]\u001B[A\n",
      "Validation DataLoader 0:   8%|▊         | 1/13 [00:00<00:03,  3.85it/s]\u001B[A\n",
      "Validation DataLoader 0:  15%|█▌        | 2/13 [00:00<00:01,  6.82it/s]\u001B[A\n",
      "Validation DataLoader 0:  23%|██▎       | 3/13 [00:00<00:01,  9.14it/s]\u001B[A\n",
      "Validation DataLoader 0:  31%|███       | 4/13 [00:00<00:00, 11.11it/s]\u001B[A\n",
      "Validation DataLoader 0:  38%|███▊      | 5/13 [00:00<00:00, 12.72it/s]\u001B[A\n",
      "Validation DataLoader 0:  46%|████▌     | 6/13 [00:00<00:00, 13.98it/s]\u001B[A\n",
      "Validation DataLoader 0:  54%|█████▍    | 7/13 [00:00<00:00,  7.67it/s]\u001B[A\n",
      "Validation DataLoader 0:  62%|██████▏   | 8/13 [00:00<00:00,  8.46it/s]\u001B[A\n",
      "Validation DataLoader 0:  69%|██████▉   | 9/13 [00:00<00:00,  9.20it/s]\u001B[A\n",
      "Validation DataLoader 0:  77%|███████▋  | 10/13 [00:01<00:00,  9.88it/s]\u001B[A\n",
      "Validation DataLoader 0:  85%|████████▍ | 11/13 [00:01<00:00, 10.52it/s]\u001B[A\n",
      "Validation DataLoader 0:  92%|█████████▏| 12/13 [00:01<00:00, 10.85it/s]\u001B[A\n",
      "Epoch 5: 100%|██████████| 90/90 [00:45<00:00,  1.99it/s, v_num=1, train_loss_step=2.040, train_loss_epoch=1.990]\n",
      "Epoch 5: 100%|██████████| 90/90 [00:45<00:00,  1.99it/s, v_num=1, train_loss_step=2.040, train_loss_epoch=1.990]"
     ]
    },
    {
     "name": "stderr",
     "output_type": "stream",
     "text": [
      "Metric val_loss improved by 0.000 >= min_delta = 0.0. New best score: 1.975\n"
     ]
    },
    {
     "name": "stdout",
     "output_type": "stream",
     "text": [
      "Epoch 6: 100%|██████████| 90/90 [00:28<00:00,  3.12it/s, v_num=1, train_loss_step=2.090, train_loss_epoch=1.990]\n",
      "Validation: 0it [00:00, ?it/s]\u001B[A\n",
      "Validation:   0%|          | 0/13 [00:00<?, ?it/s]\u001B[A\n",
      "Validation DataLoader 0:   0%|          | 0/13 [00:00<?, ?it/s]\u001B[A\n",
      "Validation DataLoader 0:   8%|▊         | 1/13 [00:00<00:03,  3.40it/s]\u001B[A\n",
      "Validation DataLoader 0:  15%|█▌        | 2/13 [00:00<00:01,  6.11it/s]\u001B[A\n",
      "Validation DataLoader 0:  23%|██▎       | 3/13 [00:00<00:01,  8.32it/s]\u001B[A\n",
      "Validation DataLoader 0:  31%|███       | 4/13 [00:00<00:00, 10.17it/s]\u001B[A\n",
      "Validation DataLoader 0:  38%|███▊      | 5/13 [00:00<00:00, 11.67it/s]\u001B[A\n",
      "Validation DataLoader 0:  46%|████▌     | 6/13 [00:00<00:00, 13.00it/s]\u001B[A\n",
      "Validation DataLoader 0:  54%|█████▍    | 7/13 [00:00<00:00,  7.46it/s]\u001B[A\n",
      "Validation DataLoader 0:  62%|██████▏   | 8/13 [00:00<00:00,  8.23it/s]\u001B[A\n",
      "Validation DataLoader 0:  69%|██████▉   | 9/13 [00:01<00:00,  8.94it/s]\u001B[A\n",
      "Validation DataLoader 0:  77%|███████▋  | 10/13 [00:01<00:00,  9.61it/s]\u001B[A\n",
      "Validation DataLoader 0:  85%|████████▍ | 11/13 [00:01<00:00, 10.23it/s]\u001B[A\n",
      "Validation DataLoader 0:  92%|█████████▏| 12/13 [00:01<00:00,  7.57it/s]\u001B[A\n",
      "Epoch 6: 100%|██████████| 90/90 [00:45<00:00,  1.98it/s, v_num=1, train_loss_step=2.090, train_loss_epoch=1.990]\n",
      "Epoch 7: 100%|██████████| 90/90 [00:28<00:00,  3.17it/s, v_num=1, train_loss_step=1.880, train_loss_epoch=1.990]\n",
      "Validation: 0it [00:00, ?it/s]\u001B[A\n",
      "Validation:   0%|          | 0/13 [00:00<?, ?it/s]\u001B[A\n",
      "Validation DataLoader 0:   0%|          | 0/13 [00:00<?, ?it/s]\u001B[A\n",
      "Validation DataLoader 0:   8%|▊         | 1/13 [00:00<00:03,  3.06it/s]\u001B[A\n",
      "Validation DataLoader 0:  15%|█▌        | 2/13 [00:00<00:01,  5.51it/s]\u001B[A\n",
      "Validation DataLoader 0:  23%|██▎       | 3/13 [00:00<00:01,  7.53it/s]\u001B[A\n",
      "Validation DataLoader 0:  31%|███       | 4/13 [00:00<00:00,  9.23it/s]\u001B[A\n",
      "Validation DataLoader 0:  38%|███▊      | 5/13 [00:00<00:00, 10.70it/s]\u001B[A\n",
      "Validation DataLoader 0:  46%|████▌     | 6/13 [00:00<00:00, 11.97it/s]\u001B[A\n",
      "Validation DataLoader 0:  54%|█████▍    | 7/13 [00:00<00:00,  7.39it/s]\u001B[A\n",
      "Validation DataLoader 0:  62%|██████▏   | 8/13 [00:00<00:00,  8.16it/s]\u001B[A\n",
      "Validation DataLoader 0:  69%|██████▉   | 9/13 [00:01<00:00,  8.88it/s]\u001B[A\n",
      "Validation DataLoader 0:  77%|███████▋  | 10/13 [00:01<00:00,  9.55it/s]\u001B[A\n",
      "Validation DataLoader 0:  85%|████████▍ | 11/13 [00:01<00:00, 10.18it/s]\u001B[A\n",
      "Validation DataLoader 0:  92%|█████████▏| 12/13 [00:01<00:00, 10.78it/s]\u001B[A\n",
      "Epoch 7: 100%|██████████| 90/90 [00:44<00:00,  2.01it/s, v_num=1, train_loss_step=1.880, train_loss_epoch=1.990]\n",
      "Epoch 8: 100%|██████████| 90/90 [00:28<00:00,  3.20it/s, v_num=1, train_loss_step=2.040, train_loss_epoch=1.990]\n",
      "Validation: 0it [00:00, ?it/s]\u001B[A\n",
      "Validation:   0%|          | 0/13 [00:00<?, ?it/s]\u001B[A\n",
      "Validation DataLoader 0:   0%|          | 0/13 [00:00<?, ?it/s]\u001B[A\n",
      "Validation DataLoader 0:   8%|▊         | 1/13 [00:00<00:02,  4.85it/s]\u001B[A\n",
      "Validation DataLoader 0:  15%|█▌        | 2/13 [00:00<00:01,  8.40it/s]\u001B[A\n",
      "Validation DataLoader 0:  23%|██▎       | 3/13 [00:00<00:00, 11.07it/s]\u001B[A\n",
      "Validation DataLoader 0:  31%|███       | 4/13 [00:00<00:00, 13.11it/s]\u001B[A\n",
      "Validation DataLoader 0:  38%|███▊      | 5/13 [00:00<00:00, 14.79it/s]\u001B[A\n",
      "Validation DataLoader 0:  46%|████▌     | 6/13 [00:00<00:00, 16.09it/s]\u001B[A\n",
      "Validation DataLoader 0:  54%|█████▍    | 7/13 [00:00<00:00,  7.63it/s]\u001B[A\n",
      "Validation DataLoader 0:  62%|██████▏   | 8/13 [00:00<00:00,  8.39it/s]\u001B[A\n",
      "Validation DataLoader 0:  69%|██████▉   | 9/13 [00:00<00:00,  9.10it/s]\u001B[A\n",
      "Validation DataLoader 0:  77%|███████▋  | 10/13 [00:01<00:00,  9.79it/s]\u001B[A\n",
      "Validation DataLoader 0:  85%|████████▍ | 11/13 [00:01<00:00, 10.44it/s]\u001B[A\n",
      "Validation DataLoader 0:  92%|█████████▏| 12/13 [00:01<00:00, 11.04it/s]\u001B[A\n",
      "Epoch 8: 100%|██████████| 90/90 [00:44<00:00,  2.02it/s, v_num=1, train_loss_step=2.040, train_loss_epoch=1.990]\n",
      "Epoch 8: 100%|██████████| 90/90 [00:44<00:00,  2.02it/s, v_num=1, train_loss_step=2.040, train_loss_epoch=1.990]"
     ]
    },
    {
     "name": "stderr",
     "output_type": "stream",
     "text": [
      "Metric val_loss improved by 0.000 >= min_delta = 0.0. New best score: 1.975\n"
     ]
    },
    {
     "name": "stdout",
     "output_type": "stream",
     "text": [
      "Epoch 9: 100%|██████████| 90/90 [00:30<00:00,  2.96it/s, v_num=1, train_loss_step=1.830, train_loss_epoch=1.990]\n",
      "Validation: 0it [00:00, ?it/s]\u001B[A\n",
      "Validation:   0%|          | 0/13 [00:00<?, ?it/s]\u001B[A\n",
      "Validation DataLoader 0:   0%|          | 0/13 [00:00<?, ?it/s]\u001B[A\n",
      "Validation DataLoader 0:   8%|▊         | 1/13 [00:00<00:03,  3.45it/s]\u001B[A\n",
      "Validation DataLoader 0:  15%|█▌        | 2/13 [00:00<00:01,  6.11it/s]\u001B[A\n",
      "Validation DataLoader 0:  23%|██▎       | 3/13 [00:00<00:01,  8.32it/s]\u001B[A\n",
      "Validation DataLoader 0:  31%|███       | 4/13 [00:00<00:00, 10.11it/s]\u001B[A\n",
      "Validation DataLoader 0:  38%|███▊      | 5/13 [00:00<00:00, 11.64it/s]\u001B[A\n",
      "Validation DataLoader 0:  46%|████▌     | 6/13 [00:00<00:00, 12.94it/s]\u001B[A\n",
      "Validation DataLoader 0:  54%|█████▍    | 7/13 [00:00<00:00,  7.10it/s]\u001B[A\n",
      "Validation DataLoader 0:  62%|██████▏   | 8/13 [00:01<00:00,  7.84it/s]\u001B[A\n",
      "Validation DataLoader 0:  69%|██████▉   | 9/13 [00:01<00:00,  8.53it/s]\u001B[A\n",
      "Validation DataLoader 0:  77%|███████▋  | 10/13 [00:01<00:00,  9.17it/s]\u001B[A\n",
      "Validation DataLoader 0:  85%|████████▍ | 11/13 [00:01<00:00,  9.78it/s]\u001B[A\n",
      "Validation DataLoader 0:  92%|█████████▏| 12/13 [00:01<00:00, 10.16it/s]\u001B[A\n",
      "Epoch 9: 100%|██████████| 90/90 [00:47<00:00,  1.91it/s, v_num=1, train_loss_step=1.830, train_loss_epoch=1.990]\n",
      "Epoch 10: 100%|██████████| 90/90 [00:28<00:00,  3.14it/s, v_num=1, train_loss_step=2.090, train_loss_epoch=1.990]\n",
      "Validation: 0it [00:00, ?it/s]\u001B[A\n",
      "Validation:   0%|          | 0/13 [00:00<?, ?it/s]\u001B[A\n",
      "Validation DataLoader 0:   0%|          | 0/13 [00:00<?, ?it/s]\u001B[A\n",
      "Validation DataLoader 0:   8%|▊         | 1/13 [00:00<00:02,  4.76it/s]\u001B[A\n",
      "Validation DataLoader 0:  15%|█▌        | 2/13 [00:00<00:01,  8.19it/s]\u001B[A\n",
      "Validation DataLoader 0:  23%|██▎       | 3/13 [00:00<00:00, 10.83it/s]\u001B[A\n",
      "Validation DataLoader 0:  31%|███       | 4/13 [00:00<00:00, 12.90it/s]\u001B[A\n",
      "Validation DataLoader 0:  38%|███▊      | 5/13 [00:00<00:00, 14.49it/s]\u001B[A\n",
      "Validation DataLoader 0:  46%|████▌     | 6/13 [00:00<00:00, 15.74it/s]\u001B[A\n",
      "Validation DataLoader 0:  54%|█████▍    | 7/13 [00:00<00:00,  7.32it/s]\u001B[A\n",
      "Validation DataLoader 0:  62%|██████▏   | 8/13 [00:00<00:00,  8.10it/s]\u001B[A\n",
      "Validation DataLoader 0:  69%|██████▉   | 9/13 [00:01<00:00,  8.81it/s]\u001B[A\n",
      "Validation DataLoader 0:  77%|███████▋  | 10/13 [00:01<00:00,  9.47it/s]\u001B[A\n",
      "Validation DataLoader 0:  85%|████████▍ | 11/13 [00:01<00:00, 10.07it/s]\u001B[A\n",
      "Validation DataLoader 0:  92%|█████████▏| 12/13 [00:01<00:00, 10.65it/s]\u001B[A\n",
      "Epoch 10: 100%|██████████| 90/90 [00:45<00:00,  2.00it/s, v_num=1, train_loss_step=2.090, train_loss_epoch=1.990]\n",
      "Epoch 11: 100%|██████████| 90/90 [00:27<00:00,  3.23it/s, v_num=1, train_loss_step=1.990, train_loss_epoch=1.990]\n",
      "Validation: 0it [00:00, ?it/s]\u001B[A\n",
      "Validation:   0%|          | 0/13 [00:00<?, ?it/s]\u001B[A\n",
      "Validation DataLoader 0:   0%|          | 0/13 [00:00<?, ?it/s]\u001B[A\n",
      "Validation DataLoader 0:   8%|▊         | 1/13 [00:00<00:03,  3.40it/s]\u001B[A\n",
      "Validation DataLoader 0:  15%|█▌        | 2/13 [00:00<00:01,  6.08it/s]\u001B[A\n",
      "Validation DataLoader 0:  23%|██▎       | 3/13 [00:00<00:01,  8.27it/s]\u001B[A\n",
      "Validation DataLoader 0:  31%|███       | 4/13 [00:00<00:00, 10.10it/s]\u001B[A\n",
      "Validation DataLoader 0:  38%|███▊      | 5/13 [00:00<00:00, 11.66it/s]\u001B[A\n",
      "Validation DataLoader 0:  46%|████▌     | 6/13 [00:00<00:00, 12.96it/s]\u001B[A\n",
      "Validation DataLoader 0:  54%|█████▍    | 7/13 [00:00<00:00,  7.34it/s]\u001B[A\n",
      "Validation DataLoader 0:  62%|██████▏   | 8/13 [00:00<00:00,  8.09it/s]\u001B[A\n",
      "Validation DataLoader 0:  69%|██████▉   | 9/13 [00:01<00:00,  8.79it/s]\u001B[A\n",
      "Validation DataLoader 0:  77%|███████▋  | 10/13 [00:01<00:00,  9.45it/s]\u001B[A\n",
      "Validation DataLoader 0:  85%|████████▍ | 11/13 [00:01<00:00, 10.07it/s]\u001B[A\n",
      "Validation DataLoader 0:  92%|█████████▏| 12/13 [00:01<00:00, 10.45it/s]\u001B[A\n",
      "Epoch 11: 100%|██████████| 90/90 [00:44<00:00,  2.03it/s, v_num=1, train_loss_step=1.990, train_loss_epoch=1.990]\n",
      "Epoch 11: 100%|██████████| 90/90 [00:44<00:00,  2.03it/s, v_num=1, train_loss_step=1.990, train_loss_epoch=1.990]"
     ]
    },
    {
     "name": "stderr",
     "output_type": "stream",
     "text": [
      "Monitored metric val_loss did not improve in the last 3 records. Best score: 1.975. Signaling Trainer to stop.\n"
     ]
    },
    {
     "name": "stdout",
     "output_type": "stream",
     "text": [
      "Epoch 11: 100%|██████████| 90/90 [00:44<00:00,  2.03it/s, v_num=1, train_loss_step=1.990, train_loss_epoch=1.990]\n"
     ]
    },
    {
     "name": "stderr",
     "output_type": "stream",
     "text": [
      "Restoring states from the checkpoint path at article_net\\lightning_logs\\version_1\\checkpoints\\epoch=11-step=1080.ckpt\n",
      "LOCAL_RANK: 0 - CUDA_VISIBLE_DEVICES: [0]\n",
      "Loaded model weights from the checkpoint at article_net\\lightning_logs\\version_1\\checkpoints\\epoch=11-step=1080.ckpt\n"
     ]
    },
    {
     "name": "stdout",
     "output_type": "stream",
     "text": [
      "Testing DataLoader 0: 100%|██████████| 26/26 [00:03<00:00,  7.15it/s]\n"
     ]
    },
    {
     "data": {
      "text/plain": "┏━━━━━━━━━━━━━━━━━━━━━━━━━━━┳━━━━━━━━━━━━━━━━━━━━━━━━━━━┓\n┃\u001B[1m \u001B[0m\u001B[1m       Test metric       \u001B[0m\u001B[1m \u001B[0m┃\u001B[1m \u001B[0m\u001B[1m      DataLoader 0       \u001B[0m\u001B[1m \u001B[0m┃\n┡━━━━━━━━━━━━━━━━━━━━━━━━━━━╇━━━━━━━━━━━━━━━━━━━━━━━━━━━┩\n│\u001B[36m \u001B[0m\u001B[36m        test_acc         \u001B[0m\u001B[36m \u001B[0m│\u001B[35m \u001B[0m\u001B[35m   0.6303746700286865    \u001B[0m\u001B[35m \u001B[0m│\n│\u001B[36m \u001B[0m\u001B[36m        test_loss        \u001B[0m\u001B[36m \u001B[0m│\u001B[35m \u001B[0m\u001B[35m   1.9883549213409424    \u001B[0m\u001B[35m \u001B[0m│\n└───────────────────────────┴───────────────────────────┘\n",
      "text/html": "<pre style=\"white-space:pre;overflow-x:auto;line-height:normal;font-family:Menlo,'DejaVu Sans Mono',consolas,'Courier New',monospace\">┏━━━━━━━━━━━━━━━━━━━━━━━━━━━┳━━━━━━━━━━━━━━━━━━━━━━━━━━━┓\n┃<span style=\"font-weight: bold\">        Test metric        </span>┃<span style=\"font-weight: bold\">       DataLoader 0        </span>┃\n┡━━━━━━━━━━━━━━━━━━━━━━━━━━━╇━━━━━━━━━━━━━━━━━━━━━━━━━━━┩\n│<span style=\"color: #008080; text-decoration-color: #008080\">         test_acc          </span>│<span style=\"color: #800080; text-decoration-color: #800080\">    0.6303746700286865     </span>│\n│<span style=\"color: #008080; text-decoration-color: #008080\">         test_loss         </span>│<span style=\"color: #800080; text-decoration-color: #800080\">    1.9883549213409424     </span>│\n└───────────────────────────┴───────────────────────────┘\n</pre>\n"
     },
     "metadata": {},
     "output_type": "display_data"
    },
    {
     "name": "stderr",
     "output_type": "stream",
     "text": [
      "Restoring states from the checkpoint path at article_net\\lightning_logs\\version_1\\checkpoints\\epoch=11-step=1080.ckpt\n",
      "LOCAL_RANK: 0 - CUDA_VISIBLE_DEVICES: [0]\n",
      "Loaded model weights from the checkpoint at article_net\\lightning_logs\\version_1\\checkpoints\\epoch=11-step=1080.ckpt\n"
     ]
    },
    {
     "name": "stdout",
     "output_type": "stream",
     "text": [
      "Predicting DataLoader 0: 100%|██████████| 26/26 [00:03<00:00,  7.07it/s]\n"
     ]
    },
    {
     "name": "stderr",
     "output_type": "stream",
     "text": [
      "Global seed set to 2\n",
      "GPU available: True (cuda), used: True\n",
      "TPU available: False, using: 0 TPU cores\n",
      "IPU available: False, using: 0 IPUs\n",
      "HPU available: False, using: 0 HPUs\n",
      "LOCAL_RANK: 0 - CUDA_VISIBLE_DEVICES: [0]\n",
      "\n",
      "  | Name          | Type                      | Params\n",
      "------------------------------------------------------------\n",
      "0 | conv_part     | Sequential                | 133   \n",
      "1 | lstm_1        | LSTM                      | 197 K \n",
      "2 | query_1       | Linear                    | 16.5 K\n",
      "3 | att_scores    | Softmax                   | 0     \n",
      "4 | dense_part    | Sequential                | 10.7 K\n",
      "5 | train_acc     | MulticlassAccuracy        | 0     \n",
      "6 | valid_acc     | MulticlassAccuracy        | 0     \n",
      "7 | test_acc      | MulticlassAccuracy        | 0     \n",
      "8 | test_conf_mat | MulticlassConfusionMatrix | 0     \n",
      "------------------------------------------------------------\n",
      "225 K     Trainable params\n",
      "0         Non-trainable params\n",
      "225 K     Total params\n",
      "0.900     Total estimated model params size (MB)\n"
     ]
    },
    {
     "name": "stdout",
     "output_type": "stream",
     "text": [
      "Epoch 0: 100%|██████████| 90/90 [00:28<00:00,  3.16it/s, v_num=2, train_loss_step=1.990]\n",
      "Validation: 0it [00:00, ?it/s]\u001B[A\n",
      "Validation:   0%|          | 0/13 [00:00<?, ?it/s]\u001B[A\n",
      "Validation DataLoader 0:   0%|          | 0/13 [00:00<?, ?it/s]\u001B[A\n",
      "Validation DataLoader 0:   8%|▊         | 1/13 [00:00<00:03,  3.01it/s]\u001B[A\n",
      "Validation DataLoader 0:  15%|█▌        | 2/13 [00:00<00:02,  5.36it/s]\u001B[A\n",
      "Validation DataLoader 0:  23%|██▎       | 3/13 [00:00<00:01,  7.33it/s]\u001B[A\n",
      "Validation DataLoader 0:  31%|███       | 4/13 [00:00<00:00,  9.01it/s]\u001B[A\n",
      "Validation DataLoader 0:  38%|███▊      | 5/13 [00:00<00:00, 10.46it/s]\u001B[A\n",
      "Validation DataLoader 0:  46%|████▌     | 6/13 [00:00<00:00, 11.69it/s]\u001B[A\n",
      "Validation DataLoader 0:  54%|█████▍    | 7/13 [00:01<00:00,  6.71it/s]\u001B[A\n",
      "Validation DataLoader 0:  62%|██████▏   | 8/13 [00:01<00:00,  7.42it/s]\u001B[A\n",
      "Validation DataLoader 0:  69%|██████▉   | 9/13 [00:01<00:00,  8.09it/s]\u001B[A\n",
      "Validation DataLoader 0:  77%|███████▋  | 10/13 [00:01<00:00,  8.72it/s]\u001B[A\n",
      "Validation DataLoader 0:  85%|████████▍ | 11/13 [00:01<00:00,  9.34it/s]\u001B[A\n",
      "Validation DataLoader 0:  92%|█████████▏| 12/13 [00:01<00:00,  9.48it/s]\u001B[A\n",
      "Epoch 0: 100%|██████████| 90/90 [00:45<00:00,  1.97it/s, v_num=2, train_loss_step=1.990]\n",
      "Epoch 0: 100%|██████████| 90/90 [00:45<00:00,  1.97it/s, v_num=2, train_loss_step=1.990, train_loss_epoch=2.110]"
     ]
    },
    {
     "name": "stderr",
     "output_type": "stream",
     "text": [
      "Metric val_loss improved. New best score: 1.977\n"
     ]
    },
    {
     "name": "stdout",
     "output_type": "stream",
     "text": [
      "Epoch 1: 100%|██████████| 90/90 [00:29<00:00,  3.10it/s, v_num=2, train_loss_step=2.150, train_loss_epoch=2.110]\n",
      "Validation: 0it [00:00, ?it/s]\u001B[A\n",
      "Validation:   0%|          | 0/13 [00:00<?, ?it/s]\u001B[A\n",
      "Validation DataLoader 0:   0%|          | 0/13 [00:00<?, ?it/s]\u001B[A\n",
      "Validation DataLoader 0:   8%|▊         | 1/13 [00:00<00:02,  4.90it/s]\u001B[A\n",
      "Validation DataLoader 0:  15%|█▌        | 2/13 [00:00<00:01,  8.44it/s]\u001B[A\n",
      "Validation DataLoader 0:  23%|██▎       | 3/13 [00:00<00:00, 11.07it/s]\u001B[A\n",
      "Validation DataLoader 0:  31%|███       | 4/13 [00:00<00:00, 13.16it/s]\u001B[A\n",
      "Validation DataLoader 0:  38%|███▊      | 5/13 [00:00<00:00, 14.79it/s]\u001B[A\n",
      "Validation DataLoader 0:  46%|████▌     | 6/13 [00:00<00:00, 16.17it/s]\u001B[A\n",
      "Validation DataLoader 0:  54%|█████▍    | 7/13 [00:00<00:00,  7.53it/s]\u001B[A\n",
      "Validation DataLoader 0:  62%|██████▏   | 8/13 [00:00<00:00,  8.29it/s]\u001B[A\n",
      "Validation DataLoader 0:  69%|██████▉   | 9/13 [00:00<00:00,  9.01it/s]\u001B[A\n",
      "Validation DataLoader 0:  77%|███████▋  | 10/13 [00:01<00:00,  9.67it/s]\u001B[A\n",
      "Validation DataLoader 0:  85%|████████▍ | 11/13 [00:01<00:00, 10.26it/s]\u001B[A\n",
      "Validation DataLoader 0:  92%|█████████▏| 12/13 [00:01<00:00, 10.83it/s]\u001B[A\n",
      "Epoch 1: 100%|██████████| 90/90 [00:45<00:00,  1.98it/s, v_num=2, train_loss_step=2.150, train_loss_epoch=2.110]\n",
      "Epoch 1: 100%|██████████| 90/90 [00:45<00:00,  1.98it/s, v_num=2, train_loss_step=2.150, train_loss_epoch=1.990]"
     ]
    },
    {
     "name": "stderr",
     "output_type": "stream",
     "text": [
      "Metric val_loss improved by 0.003 >= min_delta = 0.0. New best score: 1.974\n"
     ]
    },
    {
     "name": "stdout",
     "output_type": "stream",
     "text": [
      "Epoch 2: 100%|██████████| 90/90 [00:31<00:00,  2.84it/s, v_num=2, train_loss_step=1.930, train_loss_epoch=1.990]\n",
      "Validation: 0it [00:00, ?it/s]\u001B[A\n",
      "Validation:   0%|          | 0/13 [00:00<?, ?it/s]\u001B[A\n",
      "Validation DataLoader 0:   0%|          | 0/13 [00:00<?, ?it/s]\u001B[A\n",
      "Validation DataLoader 0:   8%|▊         | 1/13 [00:00<00:02,  4.16it/s]\u001B[A\n",
      "Validation DataLoader 0:  15%|█▌        | 2/13 [00:00<00:01,  7.29it/s]\u001B[A\n",
      "Validation DataLoader 0:  23%|██▎       | 3/13 [00:00<00:01,  9.76it/s]\u001B[A\n",
      "Validation DataLoader 0:  31%|███       | 4/13 [00:00<00:00, 11.72it/s]\u001B[A\n",
      "Validation DataLoader 0:  38%|███▊      | 5/13 [00:00<00:00, 13.32it/s]\u001B[A\n",
      "Validation DataLoader 0:  46%|████▌     | 6/13 [00:00<00:00, 14.69it/s]\u001B[A\n",
      "Validation DataLoader 0:  54%|█████▍    | 7/13 [00:00<00:00,  7.71it/s]\u001B[A\n",
      "Validation DataLoader 0:  62%|██████▏   | 8/13 [00:01<00:00,  7.74it/s]\u001B[A\n",
      "Validation DataLoader 0:  69%|██████▉   | 9/13 [00:01<00:00,  8.43it/s]\u001B[A\n",
      "Validation DataLoader 0:  77%|███████▋  | 10/13 [00:01<00:00,  9.10it/s]\u001B[A\n",
      "Validation DataLoader 0:  85%|████████▍ | 11/13 [00:01<00:00,  9.71it/s]\u001B[A\n",
      "Validation DataLoader 0:  92%|█████████▏| 12/13 [00:01<00:00, 10.30it/s]\u001B[A\n",
      "Epoch 2: 100%|██████████| 90/90 [00:48<00:00,  1.87it/s, v_num=2, train_loss_step=1.930, train_loss_epoch=1.990]\n",
      "Epoch 3: 100%|██████████| 90/90 [00:30<00:00,  2.97it/s, v_num=2, train_loss_step=1.930, train_loss_epoch=1.990]\n",
      "Validation: 0it [00:00, ?it/s]\u001B[A\n",
      "Validation:   0%|          | 0/13 [00:00<?, ?it/s]\u001B[A\n",
      "Validation DataLoader 0:   0%|          | 0/13 [00:00<?, ?it/s]\u001B[A\n",
      "Validation DataLoader 0:   8%|▊         | 1/13 [00:00<00:03,  3.18it/s]\u001B[A\n",
      "Validation DataLoader 0:  15%|█▌        | 2/13 [00:00<00:01,  5.73it/s]\u001B[A\n",
      "Validation DataLoader 0:  23%|██▎       | 3/13 [00:00<00:01,  7.83it/s]\u001B[A\n",
      "Validation DataLoader 0:  31%|███       | 4/13 [00:00<00:00,  9.59it/s]\u001B[A\n",
      "Validation DataLoader 0:  38%|███▊      | 5/13 [00:00<00:00, 11.06it/s]\u001B[A\n",
      "Validation DataLoader 0:  46%|████▌     | 6/13 [00:00<00:00, 12.31it/s]\u001B[A\n",
      "Validation DataLoader 0:  54%|█████▍    | 7/13 [00:00<00:00,  7.35it/s]\u001B[A\n",
      "Validation DataLoader 0:  62%|██████▏   | 8/13 [00:00<00:00,  8.12it/s]\u001B[A\n",
      "Validation DataLoader 0:  69%|██████▉   | 9/13 [00:01<00:00,  8.83it/s]\u001B[A\n",
      "Validation DataLoader 0:  77%|███████▋  | 10/13 [00:01<00:00,  9.47it/s]\u001B[A\n",
      "Validation DataLoader 0:  85%|████████▍ | 11/13 [00:01<00:00, 10.09it/s]\u001B[A\n",
      "Validation DataLoader 0:  92%|█████████▏| 12/13 [00:01<00:00, 10.69it/s]\u001B[A\n",
      "Epoch 3: 100%|██████████| 90/90 [00:46<00:00,  1.92it/s, v_num=2, train_loss_step=1.930, train_loss_epoch=1.990]\n",
      "Epoch 4: 100%|██████████| 90/90 [00:31<00:00,  2.87it/s, v_num=2, train_loss_step=1.930, train_loss_epoch=1.990]\n",
      "Validation: 0it [00:00, ?it/s]\u001B[A\n",
      "Validation:   0%|          | 0/13 [00:00<?, ?it/s]\u001B[A\n",
      "Validation DataLoader 0:   0%|          | 0/13 [00:00<?, ?it/s]\u001B[A\n",
      "Validation DataLoader 0:   8%|▊         | 1/13 [00:00<00:02,  4.66it/s]\u001B[A\n",
      "Validation DataLoader 0:  15%|█▌        | 2/13 [00:00<00:01,  8.01it/s]\u001B[A\n",
      "Validation DataLoader 0:  23%|██▎       | 3/13 [00:00<00:00, 10.58it/s]\u001B[A\n",
      "Validation DataLoader 0:  31%|███       | 4/13 [00:00<00:00, 12.59it/s]\u001B[A\n",
      "Validation DataLoader 0:  38%|███▊      | 5/13 [00:00<00:00, 14.22it/s]\u001B[A\n",
      "Validation DataLoader 0:  46%|████▌     | 6/13 [00:00<00:00, 15.60it/s]\u001B[A\n",
      "Validation DataLoader 0:  54%|█████▍    | 7/13 [00:00<00:00,  7.58it/s]\u001B[A\n",
      "Validation DataLoader 0:  62%|██████▏   | 8/13 [00:00<00:00,  8.35it/s]\u001B[A\n",
      "Validation DataLoader 0:  69%|██████▉   | 9/13 [00:00<00:00,  9.09it/s]\u001B[A\n",
      "Validation DataLoader 0:  77%|███████▋  | 10/13 [00:01<00:00,  9.77it/s]\u001B[A\n",
      "Validation DataLoader 0:  85%|████████▍ | 11/13 [00:01<00:00, 10.40it/s]\u001B[A\n",
      "Validation DataLoader 0:  92%|█████████▏| 12/13 [00:01<00:00, 10.73it/s]\u001B[A\n",
      "Epoch 4: 100%|██████████| 90/90 [00:47<00:00,  1.88it/s, v_num=2, train_loss_step=1.930, train_loss_epoch=1.990]\n",
      "Epoch 4: 100%|██████████| 90/90 [00:47<00:00,  1.88it/s, v_num=2, train_loss_step=1.930, train_loss_epoch=1.990]"
     ]
    },
    {
     "name": "stderr",
     "output_type": "stream",
     "text": [
      "Monitored metric val_loss did not improve in the last 3 records. Best score: 1.974. Signaling Trainer to stop.\n"
     ]
    },
    {
     "name": "stdout",
     "output_type": "stream",
     "text": [
      "Epoch 4: 100%|██████████| 90/90 [00:47<00:00,  1.88it/s, v_num=2, train_loss_step=1.930, train_loss_epoch=1.990]\n"
     ]
    },
    {
     "name": "stderr",
     "output_type": "stream",
     "text": [
      "Restoring states from the checkpoint path at article_net\\lightning_logs\\version_2\\checkpoints\\epoch=4-step=450.ckpt\n",
      "LOCAL_RANK: 0 - CUDA_VISIBLE_DEVICES: [0]\n",
      "Loaded model weights from the checkpoint at article_net\\lightning_logs\\version_2\\checkpoints\\epoch=4-step=450.ckpt\n"
     ]
    },
    {
     "name": "stdout",
     "output_type": "stream",
     "text": [
      "Testing DataLoader 0: 100%|██████████| 26/26 [00:04<00:00,  6.43it/s]\n"
     ]
    },
    {
     "data": {
      "text/plain": "┏━━━━━━━━━━━━━━━━━━━━━━━━━━━┳━━━━━━━━━━━━━━━━━━━━━━━━━━━┓\n┃\u001B[1m \u001B[0m\u001B[1m       Test metric       \u001B[0m\u001B[1m \u001B[0m┃\u001B[1m \u001B[0m\u001B[1m      DataLoader 0       \u001B[0m\u001B[1m \u001B[0m┃\n┡━━━━━━━━━━━━━━━━━━━━━━━━━━━╇━━━━━━━━━━━━━━━━━━━━━━━━━━━┩\n│\u001B[36m \u001B[0m\u001B[36m        test_acc         \u001B[0m\u001B[36m \u001B[0m│\u001B[35m \u001B[0m\u001B[35m   0.6303746700286865    \u001B[0m\u001B[35m \u001B[0m│\n│\u001B[36m \u001B[0m\u001B[36m        test_loss        \u001B[0m\u001B[36m \u001B[0m│\u001B[35m \u001B[0m\u001B[35m    1.988357424736023    \u001B[0m\u001B[35m \u001B[0m│\n└───────────────────────────┴───────────────────────────┘\n",
      "text/html": "<pre style=\"white-space:pre;overflow-x:auto;line-height:normal;font-family:Menlo,'DejaVu Sans Mono',consolas,'Courier New',monospace\">┏━━━━━━━━━━━━━━━━━━━━━━━━━━━┳━━━━━━━━━━━━━━━━━━━━━━━━━━━┓\n┃<span style=\"font-weight: bold\">        Test metric        </span>┃<span style=\"font-weight: bold\">       DataLoader 0        </span>┃\n┡━━━━━━━━━━━━━━━━━━━━━━━━━━━╇━━━━━━━━━━━━━━━━━━━━━━━━━━━┩\n│<span style=\"color: #008080; text-decoration-color: #008080\">         test_acc          </span>│<span style=\"color: #800080; text-decoration-color: #800080\">    0.6303746700286865     </span>│\n│<span style=\"color: #008080; text-decoration-color: #008080\">         test_loss         </span>│<span style=\"color: #800080; text-decoration-color: #800080\">     1.988357424736023     </span>│\n└───────────────────────────┴───────────────────────────┘\n</pre>\n"
     },
     "metadata": {},
     "output_type": "display_data"
    },
    {
     "name": "stderr",
     "output_type": "stream",
     "text": [
      "Restoring states from the checkpoint path at article_net\\lightning_logs\\version_2\\checkpoints\\epoch=4-step=450.ckpt\n",
      "LOCAL_RANK: 0 - CUDA_VISIBLE_DEVICES: [0]\n",
      "Loaded model weights from the checkpoint at article_net\\lightning_logs\\version_2\\checkpoints\\epoch=4-step=450.ckpt\n"
     ]
    },
    {
     "name": "stdout",
     "output_type": "stream",
     "text": [
      "Predicting DataLoader 0: 100%|██████████| 26/26 [00:03<00:00,  6.83it/s]\n"
     ]
    },
    {
     "name": "stderr",
     "output_type": "stream",
     "text": [
      "Global seed set to 3\n",
      "GPU available: True (cuda), used: True\n",
      "TPU available: False, using: 0 TPU cores\n",
      "IPU available: False, using: 0 IPUs\n",
      "HPU available: False, using: 0 HPUs\n",
      "LOCAL_RANK: 0 - CUDA_VISIBLE_DEVICES: [0]\n",
      "\n",
      "  | Name          | Type                      | Params\n",
      "------------------------------------------------------------\n",
      "0 | conv_part     | Sequential                | 133   \n",
      "1 | lstm_1        | LSTM                      | 197 K \n",
      "2 | query_1       | Linear                    | 16.5 K\n",
      "3 | att_scores    | Softmax                   | 0     \n",
      "4 | dense_part    | Sequential                | 10.7 K\n",
      "5 | train_acc     | MulticlassAccuracy        | 0     \n",
      "6 | valid_acc     | MulticlassAccuracy        | 0     \n",
      "7 | test_acc      | MulticlassAccuracy        | 0     \n",
      "8 | test_conf_mat | MulticlassConfusionMatrix | 0     \n",
      "------------------------------------------------------------\n",
      "225 K     Trainable params\n",
      "0         Non-trainable params\n",
      "225 K     Total params\n",
      "0.900     Total estimated model params size (MB)\n"
     ]
    },
    {
     "name": "stdout",
     "output_type": "stream",
     "text": [
      "Epoch 0: 100%|██████████| 90/90 [00:28<00:00,  3.12it/s, v_num=3, train_loss_step=2.150]\n",
      "Validation: 0it [00:00, ?it/s]\u001B[A\n",
      "Validation:   0%|          | 0/13 [00:00<?, ?it/s]\u001B[A\n",
      "Validation DataLoader 0:   0%|          | 0/13 [00:00<?, ?it/s]\u001B[A\n",
      "Validation DataLoader 0:   8%|▊         | 1/13 [00:00<00:03,  3.07it/s]\u001B[A\n",
      "Validation DataLoader 0:  15%|█▌        | 2/13 [00:00<00:01,  5.51it/s]\u001B[A\n",
      "Validation DataLoader 0:  23%|██▎       | 3/13 [00:00<00:01,  7.43it/s]\u001B[A\n",
      "Validation DataLoader 0:  31%|███       | 4/13 [00:00<00:00,  9.07it/s]\u001B[A\n",
      "Validation DataLoader 0:  38%|███▊      | 5/13 [00:00<00:00, 10.51it/s]\u001B[A\n",
      "Validation DataLoader 0:  46%|████▌     | 6/13 [00:00<00:00, 11.62it/s]\u001B[A\n",
      "Validation DataLoader 0:  54%|█████▍    | 7/13 [00:01<00:00,  6.53it/s]\u001B[A\n",
      "Validation DataLoader 0:  62%|██████▏   | 8/13 [00:01<00:00,  7.21it/s]\u001B[A\n",
      "Validation DataLoader 0:  69%|██████▉   | 9/13 [00:01<00:00,  7.85it/s]\u001B[A\n",
      "Validation DataLoader 0:  77%|███████▋  | 10/13 [00:01<00:00,  8.46it/s]\u001B[A\n",
      "Validation DataLoader 0:  85%|████████▍ | 11/13 [00:01<00:00,  9.02it/s]\u001B[A\n",
      "Validation DataLoader 0:  92%|█████████▏| 12/13 [00:01<00:00,  7.86it/s]\u001B[A\n",
      "Epoch 0: 100%|██████████| 90/90 [00:46<00:00,  1.94it/s, v_num=3, train_loss_step=2.150]\n",
      "Epoch 0: 100%|██████████| 90/90 [00:46<00:00,  1.94it/s, v_num=3, train_loss_step=2.150, train_loss_epoch=2.110]"
     ]
    },
    {
     "name": "stderr",
     "output_type": "stream",
     "text": [
      "Metric val_loss improved. New best score: 1.978\n"
     ]
    },
    {
     "name": "stdout",
     "output_type": "stream",
     "text": [
      "Epoch 1: 100%|██████████| 90/90 [00:29<00:00,  3.08it/s, v_num=3, train_loss_step=2.150, train_loss_epoch=2.110]\n",
      "Validation: 0it [00:00, ?it/s]\u001B[A\n",
      "Validation:   0%|          | 0/13 [00:00<?, ?it/s]\u001B[A\n",
      "Validation DataLoader 0:   0%|          | 0/13 [00:00<?, ?it/s]\u001B[A\n",
      "Validation DataLoader 0:   8%|▊         | 1/13 [00:00<00:02,  5.07it/s]\u001B[A\n",
      "Validation DataLoader 0:  15%|█▌        | 2/13 [00:00<00:01,  8.63it/s]\u001B[A\n",
      "Validation DataLoader 0:  23%|██▎       | 3/13 [00:00<00:00, 11.25it/s]\u001B[A\n",
      "Validation DataLoader 0:  31%|███       | 4/13 [00:00<00:00, 13.21it/s]\u001B[A\n",
      "Validation DataLoader 0:  38%|███▊      | 5/13 [00:00<00:00, 14.59it/s]\u001B[A\n",
      "Validation DataLoader 0:  46%|████▌     | 6/13 [00:00<00:00, 15.84it/s]\u001B[A\n",
      "Validation DataLoader 0:  54%|█████▍    | 7/13 [00:00<00:00,  7.28it/s]\u001B[A\n",
      "Validation DataLoader 0:  62%|██████▏   | 8/13 [00:00<00:00,  8.02it/s]\u001B[A\n",
      "Validation DataLoader 0:  69%|██████▉   | 9/13 [00:01<00:00,  8.72it/s]\u001B[A\n",
      "Validation DataLoader 0:  77%|███████▋  | 10/13 [00:01<00:00,  9.39it/s]\u001B[A\n",
      "Validation DataLoader 0:  85%|████████▍ | 11/13 [00:01<00:00, 10.00it/s]\u001B[A\n",
      "Validation DataLoader 0:  92%|█████████▏| 12/13 [00:01<00:00, 10.59it/s]\u001B[A\n",
      "Epoch 1: 100%|██████████| 90/90 [00:45<00:00,  1.96it/s, v_num=3, train_loss_step=2.150, train_loss_epoch=2.110]\n",
      "Epoch 1: 100%|██████████| 90/90 [00:45<00:00,  1.96it/s, v_num=3, train_loss_step=2.150, train_loss_epoch=1.990]"
     ]
    },
    {
     "name": "stderr",
     "output_type": "stream",
     "text": [
      "Metric val_loss improved by 0.000 >= min_delta = 0.0. New best score: 1.978\n"
     ]
    },
    {
     "name": "stdout",
     "output_type": "stream",
     "text": [
      "Epoch 2: 100%|██████████| 90/90 [00:29<00:00,  3.06it/s, v_num=3, train_loss_step=1.880, train_loss_epoch=1.990]\n",
      "Validation: 0it [00:00, ?it/s]\u001B[A\n",
      "Validation:   0%|          | 0/13 [00:00<?, ?it/s]\u001B[A\n",
      "Validation DataLoader 0:   0%|          | 0/13 [00:00<?, ?it/s]\u001B[A\n",
      "Validation DataLoader 0:   8%|▊         | 1/13 [00:00<00:02,  4.04it/s]\u001B[A\n",
      "Validation DataLoader 0:  15%|█▌        | 2/13 [00:00<00:01,  7.08it/s]\u001B[A\n",
      "Validation DataLoader 0:  23%|██▎       | 3/13 [00:00<00:01,  9.33it/s]\u001B[A\n",
      "Validation DataLoader 0:  31%|███       | 4/13 [00:00<00:00, 11.18it/s]\u001B[A\n",
      "Validation DataLoader 0:  38%|███▊      | 5/13 [00:00<00:00, 12.60it/s]\u001B[A\n",
      "Validation DataLoader 0:  46%|████▌     | 6/13 [00:00<00:00, 13.83it/s]\u001B[A\n",
      "Validation DataLoader 0:  54%|█████▍    | 7/13 [00:00<00:00,  7.12it/s]\u001B[A\n",
      "Validation DataLoader 0:  62%|██████▏   | 8/13 [00:01<00:00,  7.85it/s]\u001B[A\n",
      "Validation DataLoader 0:  69%|██████▉   | 9/13 [00:01<00:00,  8.54it/s]\u001B[A\n",
      "Validation DataLoader 0:  77%|███████▋  | 10/13 [00:01<00:00,  9.18it/s]\u001B[A\n",
      "Validation DataLoader 0:  85%|████████▍ | 11/13 [00:01<00:00,  9.80it/s]\u001B[A\n",
      "Validation DataLoader 0:  92%|█████████▏| 12/13 [00:01<00:00, 10.37it/s]\u001B[A\n",
      "Epoch 2: 100%|██████████| 90/90 [00:46<00:00,  1.92it/s, v_num=3, train_loss_step=1.880, train_loss_epoch=1.990]\n",
      "Epoch 2: 100%|██████████| 90/90 [00:46<00:00,  1.92it/s, v_num=3, train_loss_step=1.880, train_loss_epoch=1.990]"
     ]
    },
    {
     "name": "stderr",
     "output_type": "stream",
     "text": [
      "Metric val_loss improved by 0.000 >= min_delta = 0.0. New best score: 1.978\n"
     ]
    },
    {
     "name": "stdout",
     "output_type": "stream",
     "text": [
      "Epoch 3: 100%|██████████| 90/90 [00:30<00:00,  2.97it/s, v_num=3, train_loss_step=1.930, train_loss_epoch=1.990]\n",
      "Validation: 0it [00:00, ?it/s]\u001B[A\n",
      "Validation:   0%|          | 0/13 [00:00<?, ?it/s]\u001B[A\n",
      "Validation DataLoader 0:   0%|          | 0/13 [00:00<?, ?it/s]\u001B[A\n",
      "Validation DataLoader 0:   8%|▊         | 1/13 [00:00<00:02,  4.57it/s]\u001B[A\n",
      "Validation DataLoader 0:  15%|█▌        | 2/13 [00:00<00:01,  7.94it/s]\u001B[A\n",
      "Validation DataLoader 0:  23%|██▎       | 3/13 [00:00<00:00, 10.50it/s]\u001B[A\n",
      "Validation DataLoader 0:  31%|███       | 4/13 [00:00<00:00, 12.43it/s]\u001B[A\n",
      "Validation DataLoader 0:  38%|███▊      | 5/13 [00:00<00:00, 14.13it/s]\u001B[A\n",
      "Validation DataLoader 0:  46%|████▌     | 6/13 [00:00<00:00, 15.47it/s]\u001B[A\n",
      "Validation DataLoader 0:  54%|█████▍    | 7/13 [00:00<00:00,  7.50it/s]\u001B[A\n",
      "Validation DataLoader 0:  62%|██████▏   | 8/13 [00:00<00:00,  8.27it/s]\u001B[A\n",
      "Validation DataLoader 0:  69%|██████▉   | 9/13 [00:01<00:00,  8.96it/s]\u001B[A\n",
      "Validation DataLoader 0:  77%|███████▋  | 10/13 [00:01<00:00,  9.65it/s]\u001B[A\n",
      "Validation DataLoader 0:  85%|████████▍ | 11/13 [00:01<00:00, 10.25it/s]\u001B[A\n",
      "Validation DataLoader 0:  92%|█████████▏| 12/13 [00:01<00:00, 10.57it/s]\u001B[A\n",
      "Epoch 3: 100%|██████████| 90/90 [00:46<00:00,  1.92it/s, v_num=3, train_loss_step=1.930, train_loss_epoch=1.990]\n",
      "Epoch 3: 100%|██████████| 90/90 [00:46<00:00,  1.92it/s, v_num=3, train_loss_step=1.930, train_loss_epoch=1.990]"
     ]
    },
    {
     "name": "stderr",
     "output_type": "stream",
     "text": [
      "Metric val_loss improved by 0.000 >= min_delta = 0.0. New best score: 1.978\n"
     ]
    },
    {
     "name": "stdout",
     "output_type": "stream",
     "text": [
      "Epoch 4: 100%|██████████| 90/90 [00:28<00:00,  3.16it/s, v_num=3, train_loss_step=1.880, train_loss_epoch=1.990]\n",
      "Validation: 0it [00:00, ?it/s]\u001B[A\n",
      "Validation:   0%|          | 0/13 [00:00<?, ?it/s]\u001B[A\n",
      "Validation DataLoader 0:   0%|          | 0/13 [00:00<?, ?it/s]\u001B[A\n",
      "Validation DataLoader 0:   8%|▊         | 1/13 [00:00<00:02,  4.26it/s]\u001B[A\n",
      "Validation DataLoader 0:  15%|█▌        | 2/13 [00:00<00:01,  7.45it/s]\u001B[A\n",
      "Validation DataLoader 0:  23%|██▎       | 3/13 [00:00<00:01,  9.89it/s]\u001B[A\n",
      "Validation DataLoader 0:  31%|███       | 4/13 [00:00<00:00, 11.89it/s]\u001B[A\n",
      "Validation DataLoader 0:  38%|███▊      | 5/13 [00:00<00:00, 13.54it/s]\u001B[A\n",
      "Validation DataLoader 0:  46%|████▌     | 6/13 [00:00<00:00, 14.77it/s]\u001B[A\n",
      "Validation DataLoader 0:  54%|█████▍    | 7/13 [00:00<00:00,  7.37it/s]\u001B[A\n",
      "Validation DataLoader 0:  62%|██████▏   | 8/13 [00:00<00:00,  8.14it/s]\u001B[A\n",
      "Validation DataLoader 0:  69%|██████▉   | 9/13 [00:01<00:00,  8.86it/s]\u001B[A\n",
      "Validation DataLoader 0:  77%|███████▋  | 10/13 [00:01<00:00,  9.54it/s]\u001B[A\n",
      "Validation DataLoader 0:  85%|████████▍ | 11/13 [00:01<00:00, 10.16it/s]\u001B[A\n",
      "Validation DataLoader 0:  92%|█████████▏| 12/13 [00:01<00:00, 10.77it/s]\u001B[A\n",
      "Epoch 4: 100%|██████████| 90/90 [00:45<00:00,  1.98it/s, v_num=3, train_loss_step=1.880, train_loss_epoch=1.990]\n",
      "Epoch 4: 100%|██████████| 90/90 [00:45<00:00,  1.98it/s, v_num=3, train_loss_step=1.880, train_loss_epoch=1.990]"
     ]
    },
    {
     "name": "stderr",
     "output_type": "stream",
     "text": [
      "Metric val_loss improved by 0.000 >= min_delta = 0.0. New best score: 1.978\n"
     ]
    },
    {
     "name": "stdout",
     "output_type": "stream",
     "text": [
      "Epoch 5: 100%|██████████| 90/90 [00:28<00:00,  3.16it/s, v_num=3, train_loss_step=2.150, train_loss_epoch=1.990]\n",
      "Validation: 0it [00:00, ?it/s]\u001B[A\n",
      "Validation:   0%|          | 0/13 [00:00<?, ?it/s]\u001B[A\n",
      "Validation DataLoader 0:   0%|          | 0/13 [00:00<?, ?it/s]\u001B[A\n",
      "Validation DataLoader 0:   8%|▊         | 1/13 [00:00<00:02,  4.96it/s]\u001B[A\n",
      "Validation DataLoader 0:  15%|█▌        | 2/13 [00:00<00:01,  8.49it/s]\u001B[A\n",
      "Validation DataLoader 0:  23%|██▎       | 3/13 [00:00<00:00, 11.05it/s]\u001B[A\n",
      "Validation DataLoader 0:  31%|███       | 4/13 [00:00<00:00, 13.07it/s]\u001B[A\n",
      "Validation DataLoader 0:  38%|███▊      | 5/13 [00:00<00:00, 14.70it/s]\u001B[A\n",
      "Validation DataLoader 0:  46%|████▌     | 6/13 [00:00<00:00, 15.95it/s]\u001B[A\n",
      "Validation DataLoader 0:  54%|█████▍    | 7/13 [00:01<00:00,  6.36it/s]\u001B[A\n",
      "Validation DataLoader 0:  62%|██████▏   | 8/13 [00:01<00:00,  7.04it/s]\u001B[A\n",
      "Validation DataLoader 0:  69%|██████▉   | 9/13 [00:01<00:00,  7.68it/s]\u001B[A\n",
      "Validation DataLoader 0:  77%|███████▋  | 10/13 [00:01<00:00,  8.30it/s]\u001B[A\n",
      "Validation DataLoader 0:  85%|████████▍ | 11/13 [00:01<00:00,  8.88it/s]\u001B[A\n",
      "Validation DataLoader 0:  92%|█████████▏| 12/13 [00:01<00:00,  9.42it/s]\u001B[A\n",
      "Epoch 5: 100%|██████████| 90/90 [00:45<00:00,  1.99it/s, v_num=3, train_loss_step=2.150, train_loss_epoch=1.990]\n",
      "Epoch 5: 100%|██████████| 90/90 [00:45<00:00,  1.99it/s, v_num=3, train_loss_step=2.150, train_loss_epoch=1.990]"
     ]
    },
    {
     "name": "stderr",
     "output_type": "stream",
     "text": [
      "Metric val_loss improved by 0.000 >= min_delta = 0.0. New best score: 1.978\n"
     ]
    },
    {
     "name": "stdout",
     "output_type": "stream",
     "text": [
      "Epoch 6: 100%|██████████| 90/90 [00:28<00:00,  3.16it/s, v_num=3, train_loss_step=1.930, train_loss_epoch=1.990]\n",
      "Validation: 0it [00:00, ?it/s]\u001B[A\n",
      "Validation:   0%|          | 0/13 [00:00<?, ?it/s]\u001B[A\n",
      "Validation DataLoader 0:   0%|          | 0/13 [00:00<?, ?it/s]\u001B[A\n",
      "Validation DataLoader 0:   8%|▊         | 1/13 [00:00<00:03,  3.92it/s]\u001B[A\n",
      "Validation DataLoader 0:  15%|█▌        | 2/13 [00:00<00:01,  6.94it/s]\u001B[A\n",
      "Validation DataLoader 0:  23%|██▎       | 3/13 [00:00<00:01,  9.31it/s]\u001B[A\n",
      "Validation DataLoader 0:  31%|███       | 4/13 [00:00<00:00, 11.26it/s]\u001B[A\n",
      "Validation DataLoader 0:  38%|███▊      | 5/13 [00:00<00:00, 12.85it/s]\u001B[A\n",
      "Validation DataLoader 0:  46%|████▌     | 6/13 [00:00<00:00, 14.18it/s]\u001B[A\n",
      "Validation DataLoader 0:  54%|█████▍    | 7/13 [00:00<00:00,  7.17it/s]\u001B[A\n",
      "Validation DataLoader 0:  62%|██████▏   | 8/13 [00:01<00:00,  7.90it/s]\u001B[A\n",
      "Validation DataLoader 0:  69%|██████▉   | 9/13 [00:01<00:00,  8.59it/s]\u001B[A\n",
      "Validation DataLoader 0:  77%|███████▋  | 10/13 [00:01<00:00,  9.26it/s]\u001B[A\n",
      "Validation DataLoader 0:  85%|████████▍ | 11/13 [00:01<00:00,  9.89it/s]\u001B[A\n",
      "Validation DataLoader 0:  92%|█████████▏| 12/13 [00:01<00:00, 10.48it/s]\u001B[A\n",
      "Epoch 6: 100%|██████████| 90/90 [00:44<00:00,  2.01it/s, v_num=3, train_loss_step=1.930, train_loss_epoch=1.990]\n",
      "Epoch 7: 100%|██████████| 90/90 [00:27<00:00,  3.22it/s, v_num=3, train_loss_step=1.930, train_loss_epoch=1.990]\n",
      "Validation: 0it [00:00, ?it/s]\u001B[A\n",
      "Validation:   0%|          | 0/13 [00:00<?, ?it/s]\u001B[A\n",
      "Validation DataLoader 0:   0%|          | 0/13 [00:00<?, ?it/s]\u001B[A\n",
      "Validation DataLoader 0:   8%|▊         | 1/13 [00:00<00:01,  8.55it/s]\u001B[A\n",
      "Validation DataLoader 0:  15%|█▌        | 2/13 [00:00<00:01,  9.39it/s]\u001B[A\n",
      "Validation DataLoader 0:  23%|██▎       | 3/13 [00:00<00:00, 12.20it/s]\u001B[A\n",
      "Validation DataLoader 0:  31%|███       | 4/13 [00:00<00:00, 14.34it/s]\u001B[A\n",
      "Validation DataLoader 0:  38%|███▊      | 5/13 [00:00<00:00, 15.92it/s]\u001B[A\n",
      "Validation DataLoader 0:  46%|████▌     | 6/13 [00:00<00:00, 17.24it/s]\u001B[A\n",
      "Validation DataLoader 0:  54%|█████▍    | 7/13 [00:00<00:00,  7.49it/s]\u001B[A\n",
      "Validation DataLoader 0:  62%|██████▏   | 8/13 [00:00<00:00,  8.26it/s]\u001B[A\n",
      "Validation DataLoader 0:  69%|██████▉   | 9/13 [00:01<00:00,  8.94it/s]\u001B[A\n",
      "Validation DataLoader 0:  77%|███████▋  | 10/13 [00:01<00:00,  9.60it/s]\u001B[A\n",
      "Validation DataLoader 0:  85%|████████▍ | 11/13 [00:01<00:00, 10.21it/s]\u001B[A\n",
      "Validation DataLoader 0:  92%|█████████▏| 12/13 [00:01<00:00, 10.67it/s]\u001B[A\n",
      "Epoch 7: 100%|██████████| 90/90 [00:44<00:00,  2.03it/s, v_num=3, train_loss_step=1.930, train_loss_epoch=1.990]\n",
      "Epoch 8: 100%|██████████| 90/90 [00:28<00:00,  3.18it/s, v_num=3, train_loss_step=2.040, train_loss_epoch=1.990]\n",
      "Validation: 0it [00:00, ?it/s]\u001B[A\n",
      "Validation:   0%|          | 0/13 [00:00<?, ?it/s]\u001B[A\n",
      "Validation DataLoader 0:   0%|          | 0/13 [00:00<?, ?it/s]\u001B[A\n",
      "Validation DataLoader 0:   8%|▊         | 1/13 [00:00<00:03,  3.34it/s]\u001B[A\n",
      "Validation DataLoader 0:  15%|█▌        | 2/13 [00:00<00:01,  5.99it/s]\u001B[A\n",
      "Validation DataLoader 0:  23%|██▎       | 3/13 [00:00<00:01,  8.18it/s]\u001B[A\n",
      "Validation DataLoader 0:  31%|███       | 4/13 [00:00<00:00, 10.01it/s]\u001B[A\n",
      "Validation DataLoader 0:  38%|███▊      | 5/13 [00:00<00:00, 11.58it/s]\u001B[A\n",
      "Validation DataLoader 0:  46%|████▌     | 6/13 [00:00<00:00, 12.85it/s]\u001B[A\n",
      "Validation DataLoader 0:  54%|█████▍    | 7/13 [00:00<00:00,  7.59it/s]\u001B[A\n",
      "Validation DataLoader 0:  62%|██████▏   | 8/13 [00:00<00:00,  8.35it/s]\u001B[A\n",
      "Validation DataLoader 0:  69%|██████▉   | 9/13 [00:00<00:00,  9.08it/s]\u001B[A\n",
      "Validation DataLoader 0:  77%|███████▋  | 10/13 [00:01<00:00,  9.77it/s]\u001B[A\n",
      "Validation DataLoader 0:  85%|████████▍ | 11/13 [00:01<00:00, 10.41it/s]\u001B[A\n",
      "Validation DataLoader 0:  92%|█████████▏| 12/13 [00:01<00:00, 10.99it/s]\u001B[A\n",
      "Epoch 8: 100%|██████████| 90/90 [00:45<00:00,  1.99it/s, v_num=3, train_loss_step=2.040, train_loss_epoch=1.990]\n",
      "Epoch 8: 100%|██████████| 90/90 [00:45<00:00,  1.99it/s, v_num=3, train_loss_step=2.040, train_loss_epoch=1.990]"
     ]
    },
    {
     "name": "stderr",
     "output_type": "stream",
     "text": [
      "Metric val_loss improved by 0.000 >= min_delta = 0.0. New best score: 1.978\n"
     ]
    },
    {
     "name": "stdout",
     "output_type": "stream",
     "text": [
      "Epoch 9: 100%|██████████| 90/90 [00:28<00:00,  3.13it/s, v_num=3, train_loss_step=1.720, train_loss_epoch=1.990]\n",
      "Validation: 0it [00:00, ?it/s]\u001B[A\n",
      "Validation:   0%|          | 0/13 [00:00<?, ?it/s]\u001B[A\n",
      "Validation DataLoader 0:   0%|          | 0/13 [00:00<?, ?it/s]\u001B[A\n",
      "Validation DataLoader 0:   8%|▊         | 1/13 [00:00<00:02,  4.46it/s]\u001B[A\n",
      "Validation DataLoader 0:  15%|█▌        | 2/13 [00:00<00:01,  7.78it/s]\u001B[A\n",
      "Validation DataLoader 0:  23%|██▎       | 3/13 [00:00<00:00, 10.27it/s]\u001B[A\n",
      "Validation DataLoader 0:  31%|███       | 4/13 [00:00<00:00, 12.19it/s]\u001B[A\n",
      "Validation DataLoader 0:  38%|███▊      | 5/13 [00:00<00:00, 13.85it/s]\u001B[A\n",
      "Validation DataLoader 0:  46%|████▌     | 6/13 [00:00<00:00, 15.23it/s]\u001B[A\n",
      "Validation DataLoader 0:  54%|█████▍    | 7/13 [00:00<00:00,  7.47it/s]\u001B[A\n",
      "Validation DataLoader 0:  62%|██████▏   | 8/13 [00:00<00:00,  8.23it/s]\u001B[A\n",
      "Validation DataLoader 0:  69%|██████▉   | 9/13 [00:01<00:00,  8.94it/s]\u001B[A\n",
      "Validation DataLoader 0:  77%|███████▋  | 10/13 [00:01<00:00,  9.58it/s]\u001B[A\n",
      "Validation DataLoader 0:  85%|████████▍ | 11/13 [00:01<00:00, 10.20it/s]\u001B[A\n",
      "Validation DataLoader 0:  92%|█████████▏| 12/13 [00:01<00:00, 10.78it/s]\u001B[A\n",
      "Epoch 9: 100%|██████████| 90/90 [00:44<00:00,  2.01it/s, v_num=3, train_loss_step=1.720, train_loss_epoch=1.990]\n",
      "Epoch 10: 100%|██████████| 90/90 [00:29<00:00,  3.10it/s, v_num=3, train_loss_step=1.880, train_loss_epoch=1.990]\n",
      "Validation: 0it [00:00, ?it/s]\u001B[A\n",
      "Validation:   0%|          | 0/13 [00:00<?, ?it/s]\u001B[A\n",
      "Validation DataLoader 0:   0%|          | 0/13 [00:00<?, ?it/s]\u001B[A\n",
      "Validation DataLoader 0:   8%|▊         | 1/13 [00:00<00:03,  3.82it/s]\u001B[A\n",
      "Validation DataLoader 0:  15%|█▌        | 2/13 [00:00<00:01,  6.78it/s]\u001B[A\n",
      "Validation DataLoader 0:  23%|██▎       | 3/13 [00:00<00:01,  9.09it/s]\u001B[A\n",
      "Validation DataLoader 0:  31%|███       | 4/13 [00:00<00:00, 11.02it/s]\u001B[A\n",
      "Validation DataLoader 0:  38%|███▊      | 5/13 [00:00<00:00, 12.63it/s]\u001B[A\n",
      "Validation DataLoader 0:  46%|████▌     | 6/13 [00:00<00:00, 13.96it/s]\u001B[A\n",
      "Validation DataLoader 0:  54%|█████▍    | 7/13 [00:00<00:00,  7.46it/s]\u001B[A\n",
      "Validation DataLoader 0:  62%|██████▏   | 8/13 [00:01<00:00,  7.99it/s]\u001B[A\n",
      "Validation DataLoader 0:  69%|██████▉   | 9/13 [00:01<00:00,  8.60it/s]\u001B[A\n",
      "Validation DataLoader 0:  77%|███████▋  | 10/13 [00:01<00:00,  9.24it/s]\u001B[A\n",
      "Validation DataLoader 0:  85%|████████▍ | 11/13 [00:01<00:00,  9.86it/s]\u001B[A\n",
      "Validation DataLoader 0:  92%|█████████▏| 12/13 [00:01<00:00, 10.45it/s]\u001B[A\n",
      "Epoch 10: 100%|██████████| 90/90 [00:45<00:00,  1.97it/s, v_num=3, train_loss_step=1.880, train_loss_epoch=1.990]\n",
      "Epoch 11: 100%|██████████| 90/90 [00:28<00:00,  3.16it/s, v_num=3, train_loss_step=1.830, train_loss_epoch=1.990]\n",
      "Validation: 0it [00:00, ?it/s]\u001B[A\n",
      "Validation:   0%|          | 0/13 [00:00<?, ?it/s]\u001B[A\n",
      "Validation DataLoader 0:   0%|          | 0/13 [00:00<?, ?it/s]\u001B[A\n",
      "Validation DataLoader 0:   8%|▊         | 1/13 [00:00<00:02,  4.93it/s]\u001B[A\n",
      "Validation DataLoader 0:  15%|█▌        | 2/13 [00:00<00:01,  8.52it/s]\u001B[A\n",
      "Validation DataLoader 0:  23%|██▎       | 3/13 [00:00<00:00, 11.12it/s]\u001B[A\n",
      "Validation DataLoader 0:  31%|███       | 4/13 [00:00<00:00, 13.21it/s]\u001B[A\n",
      "Validation DataLoader 0:  38%|███▊      | 5/13 [00:00<00:00, 14.89it/s]\u001B[A\n",
      "Validation DataLoader 0:  46%|████▌     | 6/13 [00:00<00:00, 16.23it/s]\u001B[A\n",
      "Validation DataLoader 0:  54%|█████▍    | 7/13 [00:00<00:00,  7.84it/s]\u001B[A\n",
      "Validation DataLoader 0:  62%|██████▏   | 8/13 [00:00<00:00,  8.59it/s]\u001B[A\n",
      "Validation DataLoader 0:  69%|██████▉   | 9/13 [00:00<00:00,  9.32it/s]\u001B[A\n",
      "Validation DataLoader 0:  77%|███████▋  | 10/13 [00:00<00:00, 10.00it/s]\u001B[A\n",
      "Validation DataLoader 0:  85%|████████▍ | 11/13 [00:01<00:00, 10.65it/s]\u001B[A\n",
      "Validation DataLoader 0:  92%|█████████▏| 12/13 [00:01<00:00, 11.27it/s]\u001B[A\n",
      "Epoch 11: 100%|██████████| 90/90 [00:44<00:00,  2.02it/s, v_num=3, train_loss_step=1.830, train_loss_epoch=1.990]\n",
      "Epoch 11: 100%|██████████| 90/90 [00:44<00:00,  2.02it/s, v_num=3, train_loss_step=1.830, train_loss_epoch=1.990]"
     ]
    },
    {
     "name": "stderr",
     "output_type": "stream",
     "text": [
      "Monitored metric val_loss did not improve in the last 3 records. Best score: 1.978. Signaling Trainer to stop.\n"
     ]
    },
    {
     "name": "stdout",
     "output_type": "stream",
     "text": [
      "Epoch 11: 100%|██████████| 90/90 [00:44<00:00,  2.02it/s, v_num=3, train_loss_step=1.830, train_loss_epoch=1.990]\n"
     ]
    },
    {
     "name": "stderr",
     "output_type": "stream",
     "text": [
      "Restoring states from the checkpoint path at article_net\\lightning_logs\\version_3\\checkpoints\\epoch=11-step=1080.ckpt\n",
      "LOCAL_RANK: 0 - CUDA_VISIBLE_DEVICES: [0]\n",
      "Loaded model weights from the checkpoint at article_net\\lightning_logs\\version_3\\checkpoints\\epoch=11-step=1080.ckpt\n"
     ]
    },
    {
     "name": "stdout",
     "output_type": "stream",
     "text": [
      "Testing DataLoader 0: 100%|██████████| 26/26 [00:03<00:00,  6.69it/s]\n"
     ]
    },
    {
     "data": {
      "text/plain": "┏━━━━━━━━━━━━━━━━━━━━━━━━━━━┳━━━━━━━━━━━━━━━━━━━━━━━━━━━┓\n┃\u001B[1m \u001B[0m\u001B[1m       Test metric       \u001B[0m\u001B[1m \u001B[0m┃\u001B[1m \u001B[0m\u001B[1m      DataLoader 0       \u001B[0m\u001B[1m \u001B[0m┃\n┡━━━━━━━━━━━━━━━━━━━━━━━━━━━╇━━━━━━━━━━━━━━━━━━━━━━━━━━━┩\n│\u001B[36m \u001B[0m\u001B[36m        test_acc         \u001B[0m\u001B[36m \u001B[0m│\u001B[35m \u001B[0m\u001B[35m   0.6284551620483398    \u001B[0m\u001B[35m \u001B[0m│\n│\u001B[36m \u001B[0m\u001B[36m        test_loss        \u001B[0m\u001B[36m \u001B[0m│\u001B[35m \u001B[0m\u001B[35m   1.9902750253677368    \u001B[0m\u001B[35m \u001B[0m│\n└───────────────────────────┴───────────────────────────┘\n",
      "text/html": "<pre style=\"white-space:pre;overflow-x:auto;line-height:normal;font-family:Menlo,'DejaVu Sans Mono',consolas,'Courier New',monospace\">┏━━━━━━━━━━━━━━━━━━━━━━━━━━━┳━━━━━━━━━━━━━━━━━━━━━━━━━━━┓\n┃<span style=\"font-weight: bold\">        Test metric        </span>┃<span style=\"font-weight: bold\">       DataLoader 0        </span>┃\n┡━━━━━━━━━━━━━━━━━━━━━━━━━━━╇━━━━━━━━━━━━━━━━━━━━━━━━━━━┩\n│<span style=\"color: #008080; text-decoration-color: #008080\">         test_acc          </span>│<span style=\"color: #800080; text-decoration-color: #800080\">    0.6284551620483398     </span>│\n│<span style=\"color: #008080; text-decoration-color: #008080\">         test_loss         </span>│<span style=\"color: #800080; text-decoration-color: #800080\">    1.9902750253677368     </span>│\n└───────────────────────────┴───────────────────────────┘\n</pre>\n"
     },
     "metadata": {},
     "output_type": "display_data"
    },
    {
     "name": "stderr",
     "output_type": "stream",
     "text": [
      "Restoring states from the checkpoint path at article_net\\lightning_logs\\version_3\\checkpoints\\epoch=11-step=1080.ckpt\n",
      "LOCAL_RANK: 0 - CUDA_VISIBLE_DEVICES: [0]\n",
      "Loaded model weights from the checkpoint at article_net\\lightning_logs\\version_3\\checkpoints\\epoch=11-step=1080.ckpt\n"
     ]
    },
    {
     "name": "stdout",
     "output_type": "stream",
     "text": [
      "Predicting DataLoader 0: 100%|██████████| 26/26 [00:03<00:00,  7.14it/s]\n"
     ]
    },
    {
     "name": "stderr",
     "output_type": "stream",
     "text": [
      "Global seed set to 4\n",
      "GPU available: True (cuda), used: True\n",
      "TPU available: False, using: 0 TPU cores\n",
      "IPU available: False, using: 0 IPUs\n",
      "HPU available: False, using: 0 HPUs\n",
      "LOCAL_RANK: 0 - CUDA_VISIBLE_DEVICES: [0]\n",
      "\n",
      "  | Name          | Type                      | Params\n",
      "------------------------------------------------------------\n",
      "0 | conv_part     | Sequential                | 133   \n",
      "1 | lstm_1        | LSTM                      | 197 K \n",
      "2 | query_1       | Linear                    | 16.5 K\n",
      "3 | att_scores    | Softmax                   | 0     \n",
      "4 | dense_part    | Sequential                | 10.7 K\n",
      "5 | train_acc     | MulticlassAccuracy        | 0     \n",
      "6 | valid_acc     | MulticlassAccuracy        | 0     \n",
      "7 | test_acc      | MulticlassAccuracy        | 0     \n",
      "8 | test_conf_mat | MulticlassConfusionMatrix | 0     \n",
      "------------------------------------------------------------\n",
      "225 K     Trainable params\n",
      "0         Non-trainable params\n",
      "225 K     Total params\n",
      "0.900     Total estimated model params size (MB)\n"
     ]
    },
    {
     "name": "stdout",
     "output_type": "stream",
     "text": [
      "Epoch 0: 100%|██████████| 90/90 [00:27<00:00,  3.28it/s, v_num=4, train_loss_step=1.990]\n",
      "Validation: 0it [00:00, ?it/s]\u001B[A\n",
      "Validation:   0%|          | 0/13 [00:00<?, ?it/s]\u001B[A\n",
      "Validation DataLoader 0:   0%|          | 0/13 [00:00<?, ?it/s]\u001B[A\n",
      "Validation DataLoader 0:   8%|▊         | 1/13 [00:00<00:02,  4.30it/s]\u001B[A\n",
      "Validation DataLoader 0:  15%|█▌        | 2/13 [00:00<00:01,  7.46it/s]\u001B[A\n",
      "Validation DataLoader 0:  23%|██▎       | 3/13 [00:00<00:01,  9.93it/s]\u001B[A\n",
      "Validation DataLoader 0:  31%|███       | 4/13 [00:00<00:00, 11.86it/s]\u001B[A\n",
      "Validation DataLoader 0:  38%|███▊      | 5/13 [00:00<00:00, 13.51it/s]\u001B[A\n",
      "Validation DataLoader 0:  46%|████▌     | 6/13 [00:00<00:00, 13.18it/s]\u001B[A\n",
      "Validation DataLoader 0:  54%|█████▍    | 7/13 [00:00<00:00,  7.23it/s]\u001B[A\n",
      "Validation DataLoader 0:  62%|██████▏   | 8/13 [00:01<00:00,  7.98it/s]\u001B[A\n",
      "Validation DataLoader 0:  69%|██████▉   | 9/13 [00:01<00:00,  8.64it/s]\u001B[A\n",
      "Validation DataLoader 0:  77%|███████▋  | 10/13 [00:01<00:00,  9.22it/s]\u001B[A\n",
      "Validation DataLoader 0:  85%|████████▍ | 11/13 [00:01<00:00,  9.79it/s]\u001B[A\n",
      "Validation DataLoader 0:  92%|█████████▏| 12/13 [00:01<00:00,  7.43it/s]\u001B[A\n",
      "Epoch 0: 100%|██████████| 90/90 [00:44<00:00,  2.03it/s, v_num=4, train_loss_step=1.990]\n",
      "Epoch 0: 100%|██████████| 90/90 [00:44<00:00,  2.03it/s, v_num=4, train_loss_step=1.990, train_loss_epoch=2.100]"
     ]
    },
    {
     "name": "stderr",
     "output_type": "stream",
     "text": [
      "Metric val_loss improved. New best score: 1.977\n"
     ]
    },
    {
     "name": "stdout",
     "output_type": "stream",
     "text": [
      "Epoch 1: 100%|██████████| 90/90 [00:28<00:00,  3.14it/s, v_num=4, train_loss_step=2.200, train_loss_epoch=2.100]\n",
      "Validation: 0it [00:00, ?it/s]\u001B[A\n",
      "Validation:   0%|          | 0/13 [00:00<?, ?it/s]\u001B[A\n",
      "Validation DataLoader 0:   0%|          | 0/13 [00:00<?, ?it/s]\u001B[A\n",
      "Validation DataLoader 0:   8%|▊         | 1/13 [00:00<00:03,  3.58it/s]\u001B[A\n",
      "Validation DataLoader 0:  15%|█▌        | 2/13 [00:00<00:01,  6.39it/s]\u001B[A\n",
      "Validation DataLoader 0:  23%|██▎       | 3/13 [00:00<00:01,  8.62it/s]\u001B[A\n",
      "Validation DataLoader 0:  31%|███       | 4/13 [00:00<00:00, 10.42it/s]\u001B[A\n",
      "Validation DataLoader 0:  38%|███▊      | 5/13 [00:00<00:00, 11.93it/s]\u001B[A\n",
      "Validation DataLoader 0:  46%|████▌     | 6/13 [00:00<00:00, 13.25it/s]\u001B[A\n",
      "Validation DataLoader 0:  54%|█████▍    | 7/13 [00:00<00:00,  7.48it/s]\u001B[A\n",
      "Validation DataLoader 0:  62%|██████▏   | 8/13 [00:00<00:00,  8.24it/s]\u001B[A\n",
      "Validation DataLoader 0:  69%|██████▉   | 9/13 [00:01<00:00,  8.96it/s]\u001B[A\n",
      "Validation DataLoader 0:  77%|███████▋  | 10/13 [00:01<00:00,  9.64it/s]\u001B[A\n",
      "Validation DataLoader 0:  85%|████████▍ | 11/13 [00:01<00:00, 10.28it/s]\u001B[A\n",
      "Validation DataLoader 0:  92%|█████████▏| 12/13 [00:01<00:00, 10.87it/s]\u001B[A\n",
      "Epoch 1: 100%|██████████| 90/90 [00:45<00:00,  1.97it/s, v_num=4, train_loss_step=2.200, train_loss_epoch=2.100]\n",
      "Epoch 1: 100%|██████████| 90/90 [00:45<00:00,  1.97it/s, v_num=4, train_loss_step=2.200, train_loss_epoch=1.990]"
     ]
    },
    {
     "name": "stderr",
     "output_type": "stream",
     "text": [
      "Metric val_loss improved by 0.002 >= min_delta = 0.0. New best score: 1.975\n"
     ]
    },
    {
     "name": "stdout",
     "output_type": "stream",
     "text": [
      "Epoch 2: 100%|██████████| 90/90 [00:28<00:00,  3.16it/s, v_num=4, train_loss_step=1.880, train_loss_epoch=1.990]\n",
      "Validation: 0it [00:00, ?it/s]\u001B[A\n",
      "Validation:   0%|          | 0/13 [00:00<?, ?it/s]\u001B[A\n",
      "Validation DataLoader 0:   0%|          | 0/13 [00:00<?, ?it/s]\u001B[A\n",
      "Validation DataLoader 0:   8%|▊         | 1/13 [00:00<00:02,  4.81it/s]\u001B[A\n",
      "Validation DataLoader 0:  15%|█▌        | 2/13 [00:00<00:01,  8.06it/s]\u001B[A\n",
      "Validation DataLoader 0:  23%|██▎       | 3/13 [00:00<00:00, 10.38it/s]\u001B[A\n",
      "Validation DataLoader 0:  31%|███       | 4/13 [00:00<00:00, 12.16it/s]\u001B[A\n",
      "Validation DataLoader 0:  38%|███▊      | 5/13 [00:00<00:00, 13.73it/s]\u001B[A\n",
      "Validation DataLoader 0:  46%|████▌     | 6/13 [00:00<00:00, 15.00it/s]\u001B[A\n",
      "Validation DataLoader 0:  54%|█████▍    | 7/13 [00:01<00:00,  6.59it/s]\u001B[A\n",
      "Validation DataLoader 0:  62%|██████▏   | 8/13 [00:01<00:00,  7.31it/s]\u001B[A\n",
      "Validation DataLoader 0:  69%|██████▉   | 9/13 [00:01<00:00,  7.95it/s]\u001B[A\n",
      "Validation DataLoader 0:  77%|███████▋  | 10/13 [00:01<00:00,  8.56it/s]\u001B[A\n",
      "Validation DataLoader 0:  85%|████████▍ | 11/13 [00:01<00:00,  9.14it/s]\u001B[A\n",
      "Validation DataLoader 0:  92%|█████████▏| 12/13 [00:01<00:00,  9.69it/s]\u001B[A\n",
      "Epoch 2: 100%|██████████| 90/90 [00:45<00:00,  1.98it/s, v_num=4, train_loss_step=1.880, train_loss_epoch=1.990]\n",
      "Epoch 2: 100%|██████████| 90/90 [00:45<00:00,  1.98it/s, v_num=4, train_loss_step=1.880, train_loss_epoch=1.990]"
     ]
    },
    {
     "name": "stderr",
     "output_type": "stream",
     "text": [
      "Metric val_loss improved by 0.000 >= min_delta = 0.0. New best score: 1.975\n"
     ]
    },
    {
     "name": "stdout",
     "output_type": "stream",
     "text": [
      "Epoch 3: 100%|██████████| 90/90 [00:28<00:00,  3.11it/s, v_num=4, train_loss_step=1.930, train_loss_epoch=1.990]\n",
      "Validation: 0it [00:00, ?it/s]\u001B[A\n",
      "Validation:   0%|          | 0/13 [00:00<?, ?it/s]\u001B[A\n",
      "Validation DataLoader 0:   0%|          | 0/13 [00:00<?, ?it/s]\u001B[A\n",
      "Validation DataLoader 0:   8%|▊         | 1/13 [00:00<00:02,  4.05it/s]\u001B[A\n",
      "Validation DataLoader 0:  15%|█▌        | 2/13 [00:00<00:01,  7.12it/s]\u001B[A\n",
      "Validation DataLoader 0:  23%|██▎       | 3/13 [00:00<00:01,  9.55it/s]\u001B[A\n",
      "Validation DataLoader 0:  31%|███       | 4/13 [00:00<00:00, 11.49it/s]\u001B[A\n",
      "Validation DataLoader 0:  38%|███▊      | 5/13 [00:00<00:00, 13.12it/s]\u001B[A\n",
      "Validation DataLoader 0:  46%|████▌     | 6/13 [00:00<00:00, 14.18it/s]\u001B[A\n",
      "Validation DataLoader 0:  54%|█████▍    | 7/13 [00:00<00:00,  7.79it/s]\u001B[A\n",
      "Validation DataLoader 0:  62%|██████▏   | 8/13 [00:00<00:00,  8.58it/s]\u001B[A\n",
      "Validation DataLoader 0:  69%|██████▉   | 9/13 [00:00<00:00,  9.32it/s]\u001B[A\n",
      "Validation DataLoader 0:  77%|███████▋  | 10/13 [00:00<00:00, 10.00it/s]\u001B[A\n",
      "Validation DataLoader 0:  85%|████████▍ | 11/13 [00:01<00:00, 10.65it/s]\u001B[A\n",
      "Validation DataLoader 0:  92%|█████████▏| 12/13 [00:01<00:00, 11.26it/s]\u001B[A\n",
      "Epoch 3: 100%|██████████| 90/90 [00:45<00:00,  1.97it/s, v_num=4, train_loss_step=1.930, train_loss_epoch=1.990]\n",
      "Epoch 3: 100%|██████████| 90/90 [00:45<00:00,  1.97it/s, v_num=4, train_loss_step=1.930, train_loss_epoch=1.990]"
     ]
    },
    {
     "name": "stderr",
     "output_type": "stream",
     "text": [
      "Metric val_loss improved by 0.000 >= min_delta = 0.0. New best score: 1.975\n"
     ]
    },
    {
     "name": "stdout",
     "output_type": "stream",
     "text": [
      "Epoch 4: 100%|██████████| 90/90 [00:27<00:00,  3.24it/s, v_num=4, train_loss_step=1.990, train_loss_epoch=1.990]\n",
      "Validation: 0it [00:00, ?it/s]\u001B[A\n",
      "Validation:   0%|          | 0/13 [00:00<?, ?it/s]\u001B[A\n",
      "Validation DataLoader 0:   0%|          | 0/13 [00:00<?, ?it/s]\u001B[A\n",
      "Validation DataLoader 0:   8%|▊         | 1/13 [00:00<00:03,  3.67it/s]\u001B[A\n",
      "Validation DataLoader 0:  15%|█▌        | 2/13 [00:00<00:01,  6.48it/s]\u001B[A\n",
      "Validation DataLoader 0:  23%|██▎       | 3/13 [00:00<00:01,  8.68it/s]\u001B[A\n",
      "Validation DataLoader 0:  31%|███       | 4/13 [00:00<00:00, 10.49it/s]\u001B[A\n",
      "Validation DataLoader 0:  38%|███▊      | 5/13 [00:00<00:00, 11.92it/s]\u001B[A\n",
      "Validation DataLoader 0:  46%|████▌     | 6/13 [00:00<00:00, 13.14it/s]\u001B[A\n",
      "Validation DataLoader 0:  54%|█████▍    | 7/13 [00:00<00:00,  7.02it/s]\u001B[A\n",
      "Validation DataLoader 0:  62%|██████▏   | 8/13 [00:01<00:00,  7.76it/s]\u001B[A\n",
      "Validation DataLoader 0:  69%|██████▉   | 9/13 [00:01<00:00,  8.43it/s]\u001B[A\n",
      "Validation DataLoader 0:  77%|███████▋  | 10/13 [00:01<00:00,  9.08it/s]\u001B[A\n",
      "Validation DataLoader 0:  85%|████████▍ | 11/13 [00:01<00:00,  9.69it/s]\u001B[A\n",
      "Validation DataLoader 0:  92%|█████████▏| 12/13 [00:01<00:00, 10.25it/s]\u001B[A\n",
      "Epoch 4: 100%|██████████| 90/90 [00:44<00:00,  2.03it/s, v_num=4, train_loss_step=1.990, train_loss_epoch=1.990]\n",
      "Epoch 5: 100%|██████████| 90/90 [00:28<00:00,  3.19it/s, v_num=4, train_loss_step=1.990, train_loss_epoch=1.990]\n",
      "Validation: 0it [00:00, ?it/s]\u001B[A\n",
      "Validation:   0%|          | 0/13 [00:00<?, ?it/s]\u001B[A\n",
      "Validation DataLoader 0:   0%|          | 0/13 [00:00<?, ?it/s]\u001B[A\n",
      "Validation DataLoader 0:   8%|▊         | 1/13 [00:00<00:03,  3.85it/s]\u001B[A\n",
      "Validation DataLoader 0:  15%|█▌        | 2/13 [00:00<00:01,  6.76it/s]\u001B[A\n",
      "Validation DataLoader 0:  23%|██▎       | 3/13 [00:00<00:01,  9.07it/s]\u001B[A\n",
      "Validation DataLoader 0:  31%|███       | 4/13 [00:00<00:00, 10.97it/s]\u001B[A\n",
      "Validation DataLoader 0:  38%|███▊      | 5/13 [00:00<00:00, 12.60it/s]\u001B[A\n",
      "Validation DataLoader 0:  46%|████▌     | 6/13 [00:00<00:00, 13.93it/s]\u001B[A\n",
      "Validation DataLoader 0:  54%|█████▍    | 7/13 [00:00<00:00,  7.68it/s]\u001B[A\n",
      "Validation DataLoader 0:  62%|██████▏   | 8/13 [00:00<00:00,  8.05it/s]\u001B[A\n",
      "Validation DataLoader 0:  69%|██████▉   | 9/13 [00:01<00:00,  8.77it/s]\u001B[A\n",
      "Validation DataLoader 0:  77%|███████▋  | 10/13 [00:01<00:00,  9.43it/s]\u001B[A\n",
      "Validation DataLoader 0:  85%|████████▍ | 11/13 [00:01<00:00, 10.04it/s]\u001B[A\n",
      "Validation DataLoader 0:  92%|█████████▏| 12/13 [00:01<00:00, 10.63it/s]\u001B[A\n",
      "Epoch 5: 100%|██████████| 90/90 [00:44<00:00,  2.03it/s, v_num=4, train_loss_step=1.990, train_loss_epoch=1.990]\n",
      "Epoch 6: 100%|██████████| 90/90 [00:28<00:00,  3.20it/s, v_num=4, train_loss_step=1.880, train_loss_epoch=1.990]\n",
      "Validation: 0it [00:00, ?it/s]\u001B[A\n",
      "Validation:   0%|          | 0/13 [00:00<?, ?it/s]\u001B[A\n",
      "Validation DataLoader 0:   0%|          | 0/13 [00:00<?, ?it/s]\u001B[A\n",
      "Validation DataLoader 0:   8%|▊         | 1/13 [00:00<00:02,  4.29it/s]\u001B[A\n",
      "Validation DataLoader 0:  15%|█▌        | 2/13 [00:00<00:01,  7.46it/s]\u001B[A\n",
      "Validation DataLoader 0:  23%|██▎       | 3/13 [00:00<00:01,  9.90it/s]\u001B[A\n",
      "Validation DataLoader 0:  31%|███       | 4/13 [00:00<00:00, 11.76it/s]\u001B[A\n",
      "Validation DataLoader 0:  38%|███▊      | 5/13 [00:00<00:00, 13.26it/s]\u001B[A\n",
      "Validation DataLoader 0:  46%|████▌     | 6/13 [00:00<00:00, 14.42it/s]\u001B[A\n",
      "Validation DataLoader 0:  54%|█████▍    | 7/13 [00:00<00:00,  7.52it/s]\u001B[A\n",
      "Validation DataLoader 0:  62%|██████▏   | 8/13 [00:00<00:00,  8.30it/s]\u001B[A\n",
      "Validation DataLoader 0:  69%|██████▉   | 9/13 [00:00<00:00,  9.04it/s]\u001B[A\n",
      "Validation DataLoader 0:  77%|███████▋  | 10/13 [00:01<00:00,  9.72it/s]\u001B[A\n",
      "Validation DataLoader 0:  85%|████████▍ | 11/13 [00:01<00:00, 10.37it/s]\u001B[A\n",
      "Validation DataLoader 0:  92%|█████████▏| 12/13 [00:01<00:00, 10.71it/s]\u001B[A\n",
      "Epoch 6: 100%|██████████| 90/90 [00:44<00:00,  2.01it/s, v_num=4, train_loss_step=1.880, train_loss_epoch=1.990]\n",
      "Epoch 6: 100%|██████████| 90/90 [00:44<00:00,  2.01it/s, v_num=4, train_loss_step=1.880, train_loss_epoch=1.990]"
     ]
    },
    {
     "name": "stderr",
     "output_type": "stream",
     "text": [
      "Monitored metric val_loss did not improve in the last 3 records. Best score: 1.975. Signaling Trainer to stop.\n"
     ]
    },
    {
     "name": "stdout",
     "output_type": "stream",
     "text": [
      "Epoch 6: 100%|██████████| 90/90 [00:44<00:00,  2.01it/s, v_num=4, train_loss_step=1.880, train_loss_epoch=1.990]\n"
     ]
    },
    {
     "name": "stderr",
     "output_type": "stream",
     "text": [
      "Restoring states from the checkpoint path at article_net\\lightning_logs\\version_4\\checkpoints\\epoch=6-step=630.ckpt\n",
      "LOCAL_RANK: 0 - CUDA_VISIBLE_DEVICES: [0]\n",
      "Loaded model weights from the checkpoint at article_net\\lightning_logs\\version_4\\checkpoints\\epoch=6-step=630.ckpt\n"
     ]
    },
    {
     "name": "stdout",
     "output_type": "stream",
     "text": [
      "Testing DataLoader 0: 100%|██████████| 26/26 [00:03<00:00,  7.07it/s]\n"
     ]
    },
    {
     "data": {
      "text/plain": "┏━━━━━━━━━━━━━━━━━━━━━━━━━━━┳━━━━━━━━━━━━━━━━━━━━━━━━━━━┓\n┃\u001B[1m \u001B[0m\u001B[1m       Test metric       \u001B[0m\u001B[1m \u001B[0m┃\u001B[1m \u001B[0m\u001B[1m      DataLoader 0       \u001B[0m\u001B[1m \u001B[0m┃\n┡━━━━━━━━━━━━━━━━━━━━━━━━━━━╇━━━━━━━━━━━━━━━━━━━━━━━━━━━┩\n│\u001B[36m \u001B[0m\u001B[36m        test_acc         \u001B[0m\u001B[36m \u001B[0m│\u001B[35m \u001B[0m\u001B[35m   0.6303746700286865    \u001B[0m\u001B[35m \u001B[0m│\n│\u001B[36m \u001B[0m\u001B[36m        test_loss        \u001B[0m\u001B[36m \u001B[0m│\u001B[35m \u001B[0m\u001B[35m   1.9883546829223633    \u001B[0m\u001B[35m \u001B[0m│\n└───────────────────────────┴───────────────────────────┘\n",
      "text/html": "<pre style=\"white-space:pre;overflow-x:auto;line-height:normal;font-family:Menlo,'DejaVu Sans Mono',consolas,'Courier New',monospace\">┏━━━━━━━━━━━━━━━━━━━━━━━━━━━┳━━━━━━━━━━━━━━━━━━━━━━━━━━━┓\n┃<span style=\"font-weight: bold\">        Test metric        </span>┃<span style=\"font-weight: bold\">       DataLoader 0        </span>┃\n┡━━━━━━━━━━━━━━━━━━━━━━━━━━━╇━━━━━━━━━━━━━━━━━━━━━━━━━━━┩\n│<span style=\"color: #008080; text-decoration-color: #008080\">         test_acc          </span>│<span style=\"color: #800080; text-decoration-color: #800080\">    0.6303746700286865     </span>│\n│<span style=\"color: #008080; text-decoration-color: #008080\">         test_loss         </span>│<span style=\"color: #800080; text-decoration-color: #800080\">    1.9883546829223633     </span>│\n└───────────────────────────┴───────────────────────────┘\n</pre>\n"
     },
     "metadata": {},
     "output_type": "display_data"
    },
    {
     "name": "stderr",
     "output_type": "stream",
     "text": [
      "Restoring states from the checkpoint path at article_net\\lightning_logs\\version_4\\checkpoints\\epoch=6-step=630.ckpt\n",
      "LOCAL_RANK: 0 - CUDA_VISIBLE_DEVICES: [0]\n",
      "Loaded model weights from the checkpoint at article_net\\lightning_logs\\version_4\\checkpoints\\epoch=6-step=630.ckpt\n"
     ]
    },
    {
     "name": "stdout",
     "output_type": "stream",
     "text": [
      "Predicting DataLoader 0: 100%|██████████| 26/26 [00:03<00:00,  7.04it/s]\n"
     ]
    }
   ],
   "source": [
    "results = []\n",
    "predictions = []\n",
    "for i in range(5):\n",
    "    lightning.pytorch.seed_everything(i)\n",
    "    model = ArticleNet(12)\n",
    "    early_stopping = lightning.pytorch.callbacks.EarlyStopping('val_loss', verbose=True)\n",
    "    logger = lightning.pytorch.loggers.tensorboard.TensorBoardLogger(save_dir=\"article_net\", version=i)\n",
    "    trainer = lightning.Trainer(max_epochs=200, callbacks=[early_stopping], logger=logger)\n",
    "    trainer.fit(model, train_dataloaders=train_dataset_loader, val_dataloaders=valid_dataset_loader)\n",
    "    res = trainer.test(dataloaders=test_dataset_loader, ckpt_path='best')\n",
    "    test_pred_tensor = torch.cat(trainer.predict(dataloaders=test_dataset_loader, ckpt_path='best'))\n",
    "    results.append(res[0])\n",
    "    predictions.append(test_pred_tensor)\n",
    "torch.save(torch.stack(predictions), \"article_net_predictions.ts\")\n",
    "pd.DataFrame(results).to_csv(\"article_net_lstm_metrics.csv\")"
   ],
   "metadata": {
    "collapsed": false,
    "ExecuteTime": {
     "start_time": "2023-04-22T14:55:28.352675Z",
     "end_time": "2023-04-22T15:36:07.757373Z"
    }
   }
  }
 ],
 "metadata": {
  "kernelspec": {
   "display_name": "Python 3",
   "language": "python",
   "name": "python3"
  },
  "language_info": {
   "codemirror_mode": {
    "name": "ipython",
    "version": 2
   },
   "file_extension": ".py",
   "mimetype": "text/x-python",
   "name": "python",
   "nbconvert_exporter": "python",
   "pygments_lexer": "ipython2",
   "version": "2.7.6"
  }
 },
 "nbformat": 4,
 "nbformat_minor": 0
}
