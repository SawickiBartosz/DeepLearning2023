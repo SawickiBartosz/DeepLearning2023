{
 "cells": [
  {
   "cell_type": "code",
   "execution_count": 1,
   "metadata": {
    "collapsed": true,
    "ExecuteTime": {
     "start_time": "2023-04-24T22:20:22.117205Z",
     "end_time": "2023-04-24T22:20:23.152671Z"
    }
   },
   "outputs": [],
   "source": [
    "import os\n",
    "import shutil\n",
    "import numpy as np\n",
    "import pandas as pd\n",
    "from sklearn.model_selection import GroupShuffleSplit\n",
    "from tqdm import tqdm"
   ]
  },
  {
   "cell_type": "code",
   "execution_count": 2,
   "outputs": [],
   "source": [
    "DATA_PATH = \"tensorflow-speech-recognition-challenge/train/audio\"\n",
    "labels_names = [file for file in os.listdir(DATA_PATH)]"
   ],
   "metadata": {
    "collapsed": false,
    "ExecuteTime": {
     "start_time": "2023-04-24T22:20:23.152671Z",
     "end_time": "2023-04-24T22:20:23.166624Z"
    }
   }
  },
  {
   "cell_type": "code",
   "execution_count": 3,
   "outputs": [
    {
     "data": {
      "text/plain": "{'bed': 'unknown',\n 'bird': 'unknown',\n 'cat': 'unknown',\n 'dog': 'unknown',\n 'down': 'down',\n 'eight': 'unknown',\n 'five': 'unknown',\n 'four': 'unknown',\n 'go': 'go',\n 'happy': 'unknown',\n 'house': 'unknown',\n 'left': 'left',\n 'marvin': 'unknown',\n 'nine': 'unknown',\n 'no': 'no',\n 'off': 'off',\n 'on': 'on',\n 'one': 'unknown',\n 'right': 'right',\n 'seven': 'unknown',\n 'sheila': 'unknown',\n 'silence': 'silence',\n 'six': 'unknown',\n 'stop': 'stop',\n 'three': 'unknown',\n 'tree': 'unknown',\n 'two': 'unknown',\n 'up': 'up',\n 'wow': 'unknown',\n 'yes': 'yes',\n 'zero': 'unknown'}"
     },
     "execution_count": 3,
     "metadata": {},
     "output_type": "execute_result"
    }
   ],
   "source": [
    "map_dict = {}\n",
    "commands = [\"yes\", \"no\", \"up\", \"down\", \"left\", \"right\", \"on\", \"off\", \"stop\", \"go\", \"silence\"]\n",
    "\n",
    "for i, key in enumerate(labels_names):\n",
    "    if key in commands:\n",
    "        map_dict[key] = key\n",
    "    else:\n",
    "        map_dict[key] = 'unknown'\n",
    "map_dict"
   ],
   "metadata": {
    "collapsed": false,
    "ExecuteTime": {
     "start_time": "2023-04-24T22:20:23.167622Z",
     "end_time": "2023-04-24T22:20:23.209480Z"
    }
   }
  },
  {
   "cell_type": "code",
   "execution_count": 4,
   "outputs": [],
   "source": [
    "frame = []\n",
    "for root, dirs, files in os.walk(DATA_PATH):\n",
    "    if root != \"tensorflow-speech-recognition-challenge/train/audio\":\n",
    "        current_dir = root.split(\"\\\\\")[-1]\n",
    "        frame += [{\n",
    "            'class': [map_dict[current_dir]] * len(files),\n",
    "            'original_label': [current_dir] * len(files),\n",
    "            'files': files\n",
    "        }]\n",
    "frame = pd.concat([pd.DataFrame(f) for f in frame], axis=0)"
   ],
   "metadata": {
    "collapsed": false,
    "ExecuteTime": {
     "start_time": "2023-04-24T22:20:23.183568Z",
     "end_time": "2023-04-24T22:20:23.321216Z"
    }
   }
  },
  {
   "cell_type": "code",
   "execution_count": 5,
   "outputs": [
    {
     "data": {
      "text/plain": "        class original_label                  files\n0     unknown            bed  00176480_nohash_0.wav\n1     unknown            bed  004ae714_nohash_0.wav\n2     unknown            bed  004ae714_nohash_1.wav\n3     unknown            bed  00f0204f_nohash_0.wav\n4     unknown            bed  00f0204f_nohash_1.wav\n...       ...            ...                    ...\n2371  unknown           zero  ffd2ba2f_nohash_1.wav\n2372  unknown           zero  ffd2ba2f_nohash_2.wav\n2373  unknown           zero  ffd2ba2f_nohash_3.wav\n2374  unknown           zero  ffd2ba2f_nohash_4.wav\n2375  unknown           zero  fffcabd1_nohash_0.wav\n\n[65123 rows x 3 columns]",
      "text/html": "<div>\n<style scoped>\n    .dataframe tbody tr th:only-of-type {\n        vertical-align: middle;\n    }\n\n    .dataframe tbody tr th {\n        vertical-align: top;\n    }\n\n    .dataframe thead th {\n        text-align: right;\n    }\n</style>\n<table border=\"1\" class=\"dataframe\">\n  <thead>\n    <tr style=\"text-align: right;\">\n      <th></th>\n      <th>class</th>\n      <th>original_label</th>\n      <th>files</th>\n    </tr>\n  </thead>\n  <tbody>\n    <tr>\n      <th>0</th>\n      <td>unknown</td>\n      <td>bed</td>\n      <td>00176480_nohash_0.wav</td>\n    </tr>\n    <tr>\n      <th>1</th>\n      <td>unknown</td>\n      <td>bed</td>\n      <td>004ae714_nohash_0.wav</td>\n    </tr>\n    <tr>\n      <th>2</th>\n      <td>unknown</td>\n      <td>bed</td>\n      <td>004ae714_nohash_1.wav</td>\n    </tr>\n    <tr>\n      <th>3</th>\n      <td>unknown</td>\n      <td>bed</td>\n      <td>00f0204f_nohash_0.wav</td>\n    </tr>\n    <tr>\n      <th>4</th>\n      <td>unknown</td>\n      <td>bed</td>\n      <td>00f0204f_nohash_1.wav</td>\n    </tr>\n    <tr>\n      <th>...</th>\n      <td>...</td>\n      <td>...</td>\n      <td>...</td>\n    </tr>\n    <tr>\n      <th>2371</th>\n      <td>unknown</td>\n      <td>zero</td>\n      <td>ffd2ba2f_nohash_1.wav</td>\n    </tr>\n    <tr>\n      <th>2372</th>\n      <td>unknown</td>\n      <td>zero</td>\n      <td>ffd2ba2f_nohash_2.wav</td>\n    </tr>\n    <tr>\n      <th>2373</th>\n      <td>unknown</td>\n      <td>zero</td>\n      <td>ffd2ba2f_nohash_3.wav</td>\n    </tr>\n    <tr>\n      <th>2374</th>\n      <td>unknown</td>\n      <td>zero</td>\n      <td>ffd2ba2f_nohash_4.wav</td>\n    </tr>\n    <tr>\n      <th>2375</th>\n      <td>unknown</td>\n      <td>zero</td>\n      <td>fffcabd1_nohash_0.wav</td>\n    </tr>\n  </tbody>\n</table>\n<p>65123 rows × 3 columns</p>\n</div>"
     },
     "execution_count": 5,
     "metadata": {},
     "output_type": "execute_result"
    }
   ],
   "source": [
    "frame"
   ],
   "metadata": {
    "collapsed": false,
    "ExecuteTime": {
     "start_time": "2023-04-24T22:20:23.321216Z",
     "end_time": "2023-04-24T22:20:23.336127Z"
    }
   }
  },
  {
   "cell_type": "code",
   "execution_count": 6,
   "outputs": [
    {
     "data": {
      "text/plain": "         original_label  files\nclass                         \ndown               2359   2359\ngo                 2372   2372\nleft               2353   2353\nno                 2375   2375\noff                2357   2357\non                 2367   2367\nright              2367   2367\nsilence             402    402\nstop               2380   2380\nunknown           41039  41039\nup                 2375   2375\nyes                2377   2377",
      "text/html": "<div>\n<style scoped>\n    .dataframe tbody tr th:only-of-type {\n        vertical-align: middle;\n    }\n\n    .dataframe tbody tr th {\n        vertical-align: top;\n    }\n\n    .dataframe thead th {\n        text-align: right;\n    }\n</style>\n<table border=\"1\" class=\"dataframe\">\n  <thead>\n    <tr style=\"text-align: right;\">\n      <th></th>\n      <th>original_label</th>\n      <th>files</th>\n    </tr>\n    <tr>\n      <th>class</th>\n      <th></th>\n      <th></th>\n    </tr>\n  </thead>\n  <tbody>\n    <tr>\n      <th>down</th>\n      <td>2359</td>\n      <td>2359</td>\n    </tr>\n    <tr>\n      <th>go</th>\n      <td>2372</td>\n      <td>2372</td>\n    </tr>\n    <tr>\n      <th>left</th>\n      <td>2353</td>\n      <td>2353</td>\n    </tr>\n    <tr>\n      <th>no</th>\n      <td>2375</td>\n      <td>2375</td>\n    </tr>\n    <tr>\n      <th>off</th>\n      <td>2357</td>\n      <td>2357</td>\n    </tr>\n    <tr>\n      <th>on</th>\n      <td>2367</td>\n      <td>2367</td>\n    </tr>\n    <tr>\n      <th>right</th>\n      <td>2367</td>\n      <td>2367</td>\n    </tr>\n    <tr>\n      <th>silence</th>\n      <td>402</td>\n      <td>402</td>\n    </tr>\n    <tr>\n      <th>stop</th>\n      <td>2380</td>\n      <td>2380</td>\n    </tr>\n    <tr>\n      <th>unknown</th>\n      <td>41039</td>\n      <td>41039</td>\n    </tr>\n    <tr>\n      <th>up</th>\n      <td>2375</td>\n      <td>2375</td>\n    </tr>\n    <tr>\n      <th>yes</th>\n      <td>2377</td>\n      <td>2377</td>\n    </tr>\n  </tbody>\n</table>\n</div>"
     },
     "execution_count": 6,
     "metadata": {},
     "output_type": "execute_result"
    }
   ],
   "source": [
    "frame.groupby(\"class\").count()"
   ],
   "metadata": {
    "collapsed": false,
    "ExecuteTime": {
     "start_time": "2023-04-24T22:20:23.337123Z",
     "end_time": "2023-04-24T22:20:23.382059Z"
    }
   }
  },
  {
   "cell_type": "code",
   "execution_count": 7,
   "outputs": [
    {
     "data": {
      "text/plain": "        class original_label                  files person_id\n0     unknown            bed  00176480_nohash_0.wav  00176480\n1     unknown            bed  004ae714_nohash_0.wav  004ae714\n2     unknown            bed  004ae714_nohash_1.wav  004ae714\n3     unknown            bed  00f0204f_nohash_0.wav  00f0204f\n4     unknown            bed  00f0204f_nohash_1.wav  00f0204f\n...       ...            ...                    ...       ...\n2371  unknown           zero  ffd2ba2f_nohash_1.wav  ffd2ba2f\n2372  unknown           zero  ffd2ba2f_nohash_2.wav  ffd2ba2f\n2373  unknown           zero  ffd2ba2f_nohash_3.wav  ffd2ba2f\n2374  unknown           zero  ffd2ba2f_nohash_4.wav  ffd2ba2f\n2375  unknown           zero  fffcabd1_nohash_0.wav  fffcabd1\n\n[65123 rows x 4 columns]",
      "text/html": "<div>\n<style scoped>\n    .dataframe tbody tr th:only-of-type {\n        vertical-align: middle;\n    }\n\n    .dataframe tbody tr th {\n        vertical-align: top;\n    }\n\n    .dataframe thead th {\n        text-align: right;\n    }\n</style>\n<table border=\"1\" class=\"dataframe\">\n  <thead>\n    <tr style=\"text-align: right;\">\n      <th></th>\n      <th>class</th>\n      <th>original_label</th>\n      <th>files</th>\n      <th>person_id</th>\n    </tr>\n  </thead>\n  <tbody>\n    <tr>\n      <th>0</th>\n      <td>unknown</td>\n      <td>bed</td>\n      <td>00176480_nohash_0.wav</td>\n      <td>00176480</td>\n    </tr>\n    <tr>\n      <th>1</th>\n      <td>unknown</td>\n      <td>bed</td>\n      <td>004ae714_nohash_0.wav</td>\n      <td>004ae714</td>\n    </tr>\n    <tr>\n      <th>2</th>\n      <td>unknown</td>\n      <td>bed</td>\n      <td>004ae714_nohash_1.wav</td>\n      <td>004ae714</td>\n    </tr>\n    <tr>\n      <th>3</th>\n      <td>unknown</td>\n      <td>bed</td>\n      <td>00f0204f_nohash_0.wav</td>\n      <td>00f0204f</td>\n    </tr>\n    <tr>\n      <th>4</th>\n      <td>unknown</td>\n      <td>bed</td>\n      <td>00f0204f_nohash_1.wav</td>\n      <td>00f0204f</td>\n    </tr>\n    <tr>\n      <th>...</th>\n      <td>...</td>\n      <td>...</td>\n      <td>...</td>\n      <td>...</td>\n    </tr>\n    <tr>\n      <th>2371</th>\n      <td>unknown</td>\n      <td>zero</td>\n      <td>ffd2ba2f_nohash_1.wav</td>\n      <td>ffd2ba2f</td>\n    </tr>\n    <tr>\n      <th>2372</th>\n      <td>unknown</td>\n      <td>zero</td>\n      <td>ffd2ba2f_nohash_2.wav</td>\n      <td>ffd2ba2f</td>\n    </tr>\n    <tr>\n      <th>2373</th>\n      <td>unknown</td>\n      <td>zero</td>\n      <td>ffd2ba2f_nohash_3.wav</td>\n      <td>ffd2ba2f</td>\n    </tr>\n    <tr>\n      <th>2374</th>\n      <td>unknown</td>\n      <td>zero</td>\n      <td>ffd2ba2f_nohash_4.wav</td>\n      <td>ffd2ba2f</td>\n    </tr>\n    <tr>\n      <th>2375</th>\n      <td>unknown</td>\n      <td>zero</td>\n      <td>fffcabd1_nohash_0.wav</td>\n      <td>fffcabd1</td>\n    </tr>\n  </tbody>\n</table>\n<p>65123 rows × 4 columns</p>\n</div>"
     },
     "execution_count": 7,
     "metadata": {},
     "output_type": "execute_result"
    }
   ],
   "source": [
    "frame[\"person_id\"] = frame.files.str.split(\"_\").str[0]\n",
    "frame"
   ],
   "metadata": {
    "collapsed": false,
    "ExecuteTime": {
     "start_time": "2023-04-24T22:20:23.368020Z",
     "end_time": "2023-04-24T22:20:23.489035Z"
    }
   }
  },
  {
   "cell_type": "code",
   "execution_count": 8,
   "outputs": [
    {
     "data": {
      "text/plain": "        class original_label                  files person_id\n0     unknown            bed  00176480_nohash_0.wav  00176480\n1     unknown            bed  004ae714_nohash_0.wav  004ae714\n2     unknown            bed  004ae714_nohash_1.wav  004ae714\n3     unknown            bed  00f0204f_nohash_0.wav  00f0204f\n4     unknown            bed  00f0204f_nohash_1.wav  00f0204f\n...       ...            ...                    ...       ...\n2371  unknown           zero  ffd2ba2f_nohash_1.wav  ffd2ba2f\n2372  unknown           zero  ffd2ba2f_nohash_2.wav  ffd2ba2f\n2373  unknown           zero  ffd2ba2f_nohash_3.wav  ffd2ba2f\n2374  unknown           zero  ffd2ba2f_nohash_4.wav  ffd2ba2f\n2375  unknown           zero  fffcabd1_nohash_0.wav  fffcabd1\n\n[65123 rows x 4 columns]",
      "text/html": "<div>\n<style scoped>\n    .dataframe tbody tr th:only-of-type {\n        vertical-align: middle;\n    }\n\n    .dataframe tbody tr th {\n        vertical-align: top;\n    }\n\n    .dataframe thead th {\n        text-align: right;\n    }\n</style>\n<table border=\"1\" class=\"dataframe\">\n  <thead>\n    <tr style=\"text-align: right;\">\n      <th></th>\n      <th>class</th>\n      <th>original_label</th>\n      <th>files</th>\n      <th>person_id</th>\n    </tr>\n  </thead>\n  <tbody>\n    <tr>\n      <th>0</th>\n      <td>unknown</td>\n      <td>bed</td>\n      <td>00176480_nohash_0.wav</td>\n      <td>00176480</td>\n    </tr>\n    <tr>\n      <th>1</th>\n      <td>unknown</td>\n      <td>bed</td>\n      <td>004ae714_nohash_0.wav</td>\n      <td>004ae714</td>\n    </tr>\n    <tr>\n      <th>2</th>\n      <td>unknown</td>\n      <td>bed</td>\n      <td>004ae714_nohash_1.wav</td>\n      <td>004ae714</td>\n    </tr>\n    <tr>\n      <th>3</th>\n      <td>unknown</td>\n      <td>bed</td>\n      <td>00f0204f_nohash_0.wav</td>\n      <td>00f0204f</td>\n    </tr>\n    <tr>\n      <th>4</th>\n      <td>unknown</td>\n      <td>bed</td>\n      <td>00f0204f_nohash_1.wav</td>\n      <td>00f0204f</td>\n    </tr>\n    <tr>\n      <th>...</th>\n      <td>...</td>\n      <td>...</td>\n      <td>...</td>\n      <td>...</td>\n    </tr>\n    <tr>\n      <th>2371</th>\n      <td>unknown</td>\n      <td>zero</td>\n      <td>ffd2ba2f_nohash_1.wav</td>\n      <td>ffd2ba2f</td>\n    </tr>\n    <tr>\n      <th>2372</th>\n      <td>unknown</td>\n      <td>zero</td>\n      <td>ffd2ba2f_nohash_2.wav</td>\n      <td>ffd2ba2f</td>\n    </tr>\n    <tr>\n      <th>2373</th>\n      <td>unknown</td>\n      <td>zero</td>\n      <td>ffd2ba2f_nohash_3.wav</td>\n      <td>ffd2ba2f</td>\n    </tr>\n    <tr>\n      <th>2374</th>\n      <td>unknown</td>\n      <td>zero</td>\n      <td>ffd2ba2f_nohash_4.wav</td>\n      <td>ffd2ba2f</td>\n    </tr>\n    <tr>\n      <th>2375</th>\n      <td>unknown</td>\n      <td>zero</td>\n      <td>fffcabd1_nohash_0.wav</td>\n      <td>fffcabd1</td>\n    </tr>\n  </tbody>\n</table>\n<p>65123 rows × 4 columns</p>\n</div>"
     },
     "execution_count": 8,
     "metadata": {},
     "output_type": "execute_result"
    }
   ],
   "source": [
    "frame.loc[frame[\"class\"] == \"silence\", 'person_id'] = np.array(range(0, 402)).astype(dtype=str)\n",
    "frame"
   ],
   "metadata": {
    "collapsed": false,
    "ExecuteTime": {
     "start_time": "2023-04-24T22:20:23.477075Z",
     "end_time": "2023-04-24T22:20:23.499002Z"
    }
   }
  },
  {
   "cell_type": "code",
   "execution_count": 9,
   "outputs": [
    {
     "data": {
      "text/plain": "       class original_label                    files person_id\n0    silence        silence   doing_the_dishes_0.wav         0\n1    silence        silence   doing_the_dishes_1.wav         1\n2    silence        silence  doing_the_dishes_10.wav         2\n3    silence        silence  doing_the_dishes_11.wav         3\n4    silence        silence  doing_the_dishes_12.wav         4\n..       ...            ...                      ...       ...\n397  silence        silence       white_noise_59.wav       397\n398  silence        silence        white_noise_6.wav       398\n399  silence        silence        white_noise_7.wav       399\n400  silence        silence        white_noise_8.wav       400\n401  silence        silence        white_noise_9.wav       401\n\n[402 rows x 4 columns]",
      "text/html": "<div>\n<style scoped>\n    .dataframe tbody tr th:only-of-type {\n        vertical-align: middle;\n    }\n\n    .dataframe tbody tr th {\n        vertical-align: top;\n    }\n\n    .dataframe thead th {\n        text-align: right;\n    }\n</style>\n<table border=\"1\" class=\"dataframe\">\n  <thead>\n    <tr style=\"text-align: right;\">\n      <th></th>\n      <th>class</th>\n      <th>original_label</th>\n      <th>files</th>\n      <th>person_id</th>\n    </tr>\n  </thead>\n  <tbody>\n    <tr>\n      <th>0</th>\n      <td>silence</td>\n      <td>silence</td>\n      <td>doing_the_dishes_0.wav</td>\n      <td>0</td>\n    </tr>\n    <tr>\n      <th>1</th>\n      <td>silence</td>\n      <td>silence</td>\n      <td>doing_the_dishes_1.wav</td>\n      <td>1</td>\n    </tr>\n    <tr>\n      <th>2</th>\n      <td>silence</td>\n      <td>silence</td>\n      <td>doing_the_dishes_10.wav</td>\n      <td>2</td>\n    </tr>\n    <tr>\n      <th>3</th>\n      <td>silence</td>\n      <td>silence</td>\n      <td>doing_the_dishes_11.wav</td>\n      <td>3</td>\n    </tr>\n    <tr>\n      <th>4</th>\n      <td>silence</td>\n      <td>silence</td>\n      <td>doing_the_dishes_12.wav</td>\n      <td>4</td>\n    </tr>\n    <tr>\n      <th>...</th>\n      <td>...</td>\n      <td>...</td>\n      <td>...</td>\n      <td>...</td>\n    </tr>\n    <tr>\n      <th>397</th>\n      <td>silence</td>\n      <td>silence</td>\n      <td>white_noise_59.wav</td>\n      <td>397</td>\n    </tr>\n    <tr>\n      <th>398</th>\n      <td>silence</td>\n      <td>silence</td>\n      <td>white_noise_6.wav</td>\n      <td>398</td>\n    </tr>\n    <tr>\n      <th>399</th>\n      <td>silence</td>\n      <td>silence</td>\n      <td>white_noise_7.wav</td>\n      <td>399</td>\n    </tr>\n    <tr>\n      <th>400</th>\n      <td>silence</td>\n      <td>silence</td>\n      <td>white_noise_8.wav</td>\n      <td>400</td>\n    </tr>\n    <tr>\n      <th>401</th>\n      <td>silence</td>\n      <td>silence</td>\n      <td>white_noise_9.wav</td>\n      <td>401</td>\n    </tr>\n  </tbody>\n</table>\n<p>402 rows × 4 columns</p>\n</div>"
     },
     "execution_count": 9,
     "metadata": {},
     "output_type": "execute_result"
    }
   ],
   "source": [
    "frame.loc[frame[\"class\"] == \"silence\"]"
   ],
   "metadata": {
    "collapsed": false,
    "ExecuteTime": {
     "start_time": "2023-04-24T22:20:23.491029Z",
     "end_time": "2023-04-24T22:20:23.521925Z"
    }
   }
  },
  {
   "cell_type": "code",
   "execution_count": 10,
   "outputs": [
    {
     "data": {
      "text/plain": "           class  original_label  files\nperson_id                              \n0              1               1      1\n00176480       7               7      7\n004ae714      30              30     30\n00b01445      30              30     30\n00f0204f      30              30     30\n...          ...             ...    ...\nffa76c4a      27              27     27\nffb86d3c      30              30     30\nffbb695d      30              30     30\nffd2ba2f     110             110    110\nfffcabd1      29              29     29\n\n[2283 rows x 3 columns]",
      "text/html": "<div>\n<style scoped>\n    .dataframe tbody tr th:only-of-type {\n        vertical-align: middle;\n    }\n\n    .dataframe tbody tr th {\n        vertical-align: top;\n    }\n\n    .dataframe thead th {\n        text-align: right;\n    }\n</style>\n<table border=\"1\" class=\"dataframe\">\n  <thead>\n    <tr style=\"text-align: right;\">\n      <th></th>\n      <th>class</th>\n      <th>original_label</th>\n      <th>files</th>\n    </tr>\n    <tr>\n      <th>person_id</th>\n      <th></th>\n      <th></th>\n      <th></th>\n    </tr>\n  </thead>\n  <tbody>\n    <tr>\n      <th>0</th>\n      <td>1</td>\n      <td>1</td>\n      <td>1</td>\n    </tr>\n    <tr>\n      <th>00176480</th>\n      <td>7</td>\n      <td>7</td>\n      <td>7</td>\n    </tr>\n    <tr>\n      <th>004ae714</th>\n      <td>30</td>\n      <td>30</td>\n      <td>30</td>\n    </tr>\n    <tr>\n      <th>00b01445</th>\n      <td>30</td>\n      <td>30</td>\n      <td>30</td>\n    </tr>\n    <tr>\n      <th>00f0204f</th>\n      <td>30</td>\n      <td>30</td>\n      <td>30</td>\n    </tr>\n    <tr>\n      <th>...</th>\n      <td>...</td>\n      <td>...</td>\n      <td>...</td>\n    </tr>\n    <tr>\n      <th>ffa76c4a</th>\n      <td>27</td>\n      <td>27</td>\n      <td>27</td>\n    </tr>\n    <tr>\n      <th>ffb86d3c</th>\n      <td>30</td>\n      <td>30</td>\n      <td>30</td>\n    </tr>\n    <tr>\n      <th>ffbb695d</th>\n      <td>30</td>\n      <td>30</td>\n      <td>30</td>\n    </tr>\n    <tr>\n      <th>ffd2ba2f</th>\n      <td>110</td>\n      <td>110</td>\n      <td>110</td>\n    </tr>\n    <tr>\n      <th>fffcabd1</th>\n      <td>29</td>\n      <td>29</td>\n      <td>29</td>\n    </tr>\n  </tbody>\n</table>\n<p>2283 rows × 3 columns</p>\n</div>"
     },
     "execution_count": 10,
     "metadata": {},
     "output_type": "execute_result"
    }
   ],
   "source": [
    "frame.groupby(\"person_id\").count()"
   ],
   "metadata": {
    "collapsed": false,
    "ExecuteTime": {
     "start_time": "2023-04-24T22:20:23.507972Z",
     "end_time": "2023-04-24T22:20:23.644514Z"
    }
   }
  },
  {
   "cell_type": "code",
   "execution_count": 11,
   "outputs": [
    {
     "data": {
      "text/plain": "((52483, 4), (12640, 4))"
     },
     "execution_count": 11,
     "metadata": {},
     "output_type": "execute_result"
    }
   ],
   "source": [
    "splitter = GroupShuffleSplit(test_size=.2, n_splits=2, random_state=7)\n",
    "split = splitter.split(frame, y=frame[\"class\"], groups=frame['person_id'])\n",
    "train_inds, test_inds = next(split)\n",
    "X_train, X_test = frame.iloc[train_inds].reset_index(drop=True), frame.iloc[test_inds].reset_index(drop=True)\n",
    "X_train.shape, X_test.shape"
   ],
   "metadata": {
    "collapsed": false,
    "ExecuteTime": {
     "start_time": "2023-04-24T22:20:23.554815Z",
     "end_time": "2023-04-24T22:20:23.659465Z"
    }
   }
  },
  {
   "cell_type": "code",
   "execution_count": 12,
   "outputs": [
    {
     "data": {
      "text/plain": "((46564, 4), (5919, 4), (12640, 4))"
     },
     "execution_count": 12,
     "metadata": {},
     "output_type": "execute_result"
    }
   ],
   "source": [
    "splitter = GroupShuffleSplit(test_size=.125, n_splits=2, random_state=7)\n",
    "split = splitter.split(X_train, y=X_train[\"class\"], groups=X_train['person_id'])\n",
    "train_inds, val_ids = next(split)\n",
    "X_train, X_valid = X_train.iloc[train_inds], X_train.iloc[val_ids]\n",
    "X_train.shape, X_valid.shape, X_test.shape"
   ],
   "metadata": {
    "collapsed": false,
    "ExecuteTime": {
     "start_time": "2023-04-24T22:20:23.617605Z",
     "end_time": "2023-04-24T22:20:23.703318Z"
    }
   }
  },
  {
   "cell_type": "code",
   "execution_count": 13,
   "outputs": [
    {
     "data": {
      "text/plain": "         original_label  files  person_id\nclass                                    \ndown               1707   1707       1707\ngo                 1704   1704       1704\nleft               1707   1707       1707\nno                 1752   1752       1752\noff                1680   1680       1680\non                 1691   1691       1691\nright              1716   1716       1716\nsilence             266    266        266\nstop               1719   1719       1719\nunknown           29188  29188      29188\nup                 1713   1713       1713\nyes                1721   1721       1721",
      "text/html": "<div>\n<style scoped>\n    .dataframe tbody tr th:only-of-type {\n        vertical-align: middle;\n    }\n\n    .dataframe tbody tr th {\n        vertical-align: top;\n    }\n\n    .dataframe thead th {\n        text-align: right;\n    }\n</style>\n<table border=\"1\" class=\"dataframe\">\n  <thead>\n    <tr style=\"text-align: right;\">\n      <th></th>\n      <th>original_label</th>\n      <th>files</th>\n      <th>person_id</th>\n    </tr>\n    <tr>\n      <th>class</th>\n      <th></th>\n      <th></th>\n      <th></th>\n    </tr>\n  </thead>\n  <tbody>\n    <tr>\n      <th>down</th>\n      <td>1707</td>\n      <td>1707</td>\n      <td>1707</td>\n    </tr>\n    <tr>\n      <th>go</th>\n      <td>1704</td>\n      <td>1704</td>\n      <td>1704</td>\n    </tr>\n    <tr>\n      <th>left</th>\n      <td>1707</td>\n      <td>1707</td>\n      <td>1707</td>\n    </tr>\n    <tr>\n      <th>no</th>\n      <td>1752</td>\n      <td>1752</td>\n      <td>1752</td>\n    </tr>\n    <tr>\n      <th>off</th>\n      <td>1680</td>\n      <td>1680</td>\n      <td>1680</td>\n    </tr>\n    <tr>\n      <th>on</th>\n      <td>1691</td>\n      <td>1691</td>\n      <td>1691</td>\n    </tr>\n    <tr>\n      <th>right</th>\n      <td>1716</td>\n      <td>1716</td>\n      <td>1716</td>\n    </tr>\n    <tr>\n      <th>silence</th>\n      <td>266</td>\n      <td>266</td>\n      <td>266</td>\n    </tr>\n    <tr>\n      <th>stop</th>\n      <td>1719</td>\n      <td>1719</td>\n      <td>1719</td>\n    </tr>\n    <tr>\n      <th>unknown</th>\n      <td>29188</td>\n      <td>29188</td>\n      <td>29188</td>\n    </tr>\n    <tr>\n      <th>up</th>\n      <td>1713</td>\n      <td>1713</td>\n      <td>1713</td>\n    </tr>\n    <tr>\n      <th>yes</th>\n      <td>1721</td>\n      <td>1721</td>\n      <td>1721</td>\n    </tr>\n  </tbody>\n</table>\n</div>"
     },
     "execution_count": 13,
     "metadata": {},
     "output_type": "execute_result"
    }
   ],
   "source": [
    "X_train.groupby(\"class\").count()"
   ],
   "metadata": {
    "collapsed": false,
    "ExecuteTime": {
     "start_time": "2023-04-24T22:20:23.666442Z",
     "end_time": "2023-04-24T22:20:23.725245Z"
    }
   }
  },
  {
   "cell_type": "code",
   "execution_count": 14,
   "outputs": [
    {
     "data": {
      "text/plain": "         original_label  files  person_id\nclass                                    \ndown                218    218        218\ngo                  217    217        217\nleft                206    206        206\nno                  198    198        198\noff                 218    218        218\non                  215    215        215\nright               203    203        203\nsilence              50     50         50\nstop                208    208        208\nunknown            3783   3783       3783\nup                  199    199        199\nyes                 204    204        204",
      "text/html": "<div>\n<style scoped>\n    .dataframe tbody tr th:only-of-type {\n        vertical-align: middle;\n    }\n\n    .dataframe tbody tr th {\n        vertical-align: top;\n    }\n\n    .dataframe thead th {\n        text-align: right;\n    }\n</style>\n<table border=\"1\" class=\"dataframe\">\n  <thead>\n    <tr style=\"text-align: right;\">\n      <th></th>\n      <th>original_label</th>\n      <th>files</th>\n      <th>person_id</th>\n    </tr>\n    <tr>\n      <th>class</th>\n      <th></th>\n      <th></th>\n      <th></th>\n    </tr>\n  </thead>\n  <tbody>\n    <tr>\n      <th>down</th>\n      <td>218</td>\n      <td>218</td>\n      <td>218</td>\n    </tr>\n    <tr>\n      <th>go</th>\n      <td>217</td>\n      <td>217</td>\n      <td>217</td>\n    </tr>\n    <tr>\n      <th>left</th>\n      <td>206</td>\n      <td>206</td>\n      <td>206</td>\n    </tr>\n    <tr>\n      <th>no</th>\n      <td>198</td>\n      <td>198</td>\n      <td>198</td>\n    </tr>\n    <tr>\n      <th>off</th>\n      <td>218</td>\n      <td>218</td>\n      <td>218</td>\n    </tr>\n    <tr>\n      <th>on</th>\n      <td>215</td>\n      <td>215</td>\n      <td>215</td>\n    </tr>\n    <tr>\n      <th>right</th>\n      <td>203</td>\n      <td>203</td>\n      <td>203</td>\n    </tr>\n    <tr>\n      <th>silence</th>\n      <td>50</td>\n      <td>50</td>\n      <td>50</td>\n    </tr>\n    <tr>\n      <th>stop</th>\n      <td>208</td>\n      <td>208</td>\n      <td>208</td>\n    </tr>\n    <tr>\n      <th>unknown</th>\n      <td>3783</td>\n      <td>3783</td>\n      <td>3783</td>\n    </tr>\n    <tr>\n      <th>up</th>\n      <td>199</td>\n      <td>199</td>\n      <td>199</td>\n    </tr>\n    <tr>\n      <th>yes</th>\n      <td>204</td>\n      <td>204</td>\n      <td>204</td>\n    </tr>\n  </tbody>\n</table>\n</div>"
     },
     "execution_count": 14,
     "metadata": {},
     "output_type": "execute_result"
    }
   ],
   "source": [
    "X_valid.groupby(\"class\").count()"
   ],
   "metadata": {
    "collapsed": false,
    "ExecuteTime": {
     "start_time": "2023-04-24T22:20:23.696342Z",
     "end_time": "2023-04-24T22:20:23.757161Z"
    }
   }
  },
  {
   "cell_type": "code",
   "execution_count": 15,
   "outputs": [
    {
     "data": {
      "text/plain": "         original_label  files  person_id\nclass                                    \ndown                434    434        434\ngo                  451    451        451\nleft                440    440        440\nno                  425    425        425\noff                 459    459        459\non                  461    461        461\nright               448    448        448\nsilence              86     86         86\nstop                453    453        453\nunknown            8068   8068       8068\nup                  463    463        463\nyes                 452    452        452",
      "text/html": "<div>\n<style scoped>\n    .dataframe tbody tr th:only-of-type {\n        vertical-align: middle;\n    }\n\n    .dataframe tbody tr th {\n        vertical-align: top;\n    }\n\n    .dataframe thead th {\n        text-align: right;\n    }\n</style>\n<table border=\"1\" class=\"dataframe\">\n  <thead>\n    <tr style=\"text-align: right;\">\n      <th></th>\n      <th>original_label</th>\n      <th>files</th>\n      <th>person_id</th>\n    </tr>\n    <tr>\n      <th>class</th>\n      <th></th>\n      <th></th>\n      <th></th>\n    </tr>\n  </thead>\n  <tbody>\n    <tr>\n      <th>down</th>\n      <td>434</td>\n      <td>434</td>\n      <td>434</td>\n    </tr>\n    <tr>\n      <th>go</th>\n      <td>451</td>\n      <td>451</td>\n      <td>451</td>\n    </tr>\n    <tr>\n      <th>left</th>\n      <td>440</td>\n      <td>440</td>\n      <td>440</td>\n    </tr>\n    <tr>\n      <th>no</th>\n      <td>425</td>\n      <td>425</td>\n      <td>425</td>\n    </tr>\n    <tr>\n      <th>off</th>\n      <td>459</td>\n      <td>459</td>\n      <td>459</td>\n    </tr>\n    <tr>\n      <th>on</th>\n      <td>461</td>\n      <td>461</td>\n      <td>461</td>\n    </tr>\n    <tr>\n      <th>right</th>\n      <td>448</td>\n      <td>448</td>\n      <td>448</td>\n    </tr>\n    <tr>\n      <th>silence</th>\n      <td>86</td>\n      <td>86</td>\n      <td>86</td>\n    </tr>\n    <tr>\n      <th>stop</th>\n      <td>453</td>\n      <td>453</td>\n      <td>453</td>\n    </tr>\n    <tr>\n      <th>unknown</th>\n      <td>8068</td>\n      <td>8068</td>\n      <td>8068</td>\n    </tr>\n    <tr>\n      <th>up</th>\n      <td>463</td>\n      <td>463</td>\n      <td>463</td>\n    </tr>\n    <tr>\n      <th>yes</th>\n      <td>452</td>\n      <td>452</td>\n      <td>452</td>\n    </tr>\n  </tbody>\n</table>\n</div>"
     },
     "execution_count": 15,
     "metadata": {},
     "output_type": "execute_result"
    }
   ],
   "source": [
    "X_test.groupby(\"class\").count()"
   ],
   "metadata": {
    "collapsed": false,
    "ExecuteTime": {
     "start_time": "2023-04-24T22:20:23.712289Z",
     "end_time": "2023-04-24T22:20:23.803008Z"
    }
   }
  },
  {
   "cell_type": "code",
   "execution_count": 16,
   "outputs": [
    {
     "name": "stderr",
     "output_type": "stream",
     "text": [
      "12640it [00:10, 1188.74it/s]\n"
     ]
    }
   ],
   "source": [
    "def copy_files(frame, path_to_save):\n",
    "    for label, orig, fname in tqdm(zip(frame['class'], frame['original_label'], frame['files'])):\n",
    "        os.makedirs(os.path.join(path_to_save, label), exist_ok=True)\n",
    "        src = os.path.join(DATA_PATH, orig, fname)\n",
    "        dst = os.path.join(path_to_save, label, orig + fname)\n",
    "        shutil.copy(src, dst)\n",
    "\n",
    "\n",
    "copy_files(X_test, os.path.join(\"group_data\", 'test'))"
   ],
   "metadata": {
    "collapsed": false,
    "ExecuteTime": {
     "start_time": "2023-04-24T22:20:51.920648Z",
     "end_time": "2023-04-24T22:21:02.569662Z"
    }
   }
  },
  {
   "cell_type": "code",
   "execution_count": 17,
   "outputs": [
    {
     "name": "stderr",
     "output_type": "stream",
     "text": [
      "46564it [00:39, 1184.96it/s]\n",
      "5919it [00:05, 1076.32it/s]\n"
     ]
    }
   ],
   "source": [
    "copy_files(X_train, os.path.join(\"group_data\", 'train'))\n",
    "copy_files(X_valid, os.path.join(\"group_data\", 'val'))"
   ],
   "metadata": {
    "collapsed": false,
    "ExecuteTime": {
     "start_time": "2023-04-24T22:21:02.570658Z",
     "end_time": "2023-04-24T22:21:47.382791Z"
    }
   }
  }
 ],
 "metadata": {
  "kernelspec": {
   "display_name": "Python 3",
   "language": "python",
   "name": "python3"
  },
  "language_info": {
   "codemirror_mode": {
    "name": "ipython",
    "version": 2
   },
   "file_extension": ".py",
   "mimetype": "text/x-python",
   "name": "python",
   "nbconvert_exporter": "python",
   "pygments_lexer": "ipython2",
   "version": "2.7.6"
  }
 },
 "nbformat": 4,
 "nbformat_minor": 0
}
