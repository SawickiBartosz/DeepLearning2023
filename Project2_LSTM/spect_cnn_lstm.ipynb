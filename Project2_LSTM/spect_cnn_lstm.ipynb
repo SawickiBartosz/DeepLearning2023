{
 "cells": [
  {
   "cell_type": "markdown",
   "source": [
    "# Packages"
   ],
   "metadata": {
    "collapsed": false
   }
  },
  {
   "cell_type": "code",
   "execution_count": 1,
   "outputs": [],
   "source": [
    "import os\n",
    "\n",
    "import lightning\n",
    "import pandas as pd\n",
    "import torch\n",
    "import torchmetrics\n",
    "from torch.utils.data import DataLoader\n",
    "from torchvision.transforms import Compose\n",
    "\n",
    "from load_data import AudioTrainDataset, PaddingZeros, CustomSpectogram, TargetEncoder"
   ],
   "metadata": {
    "collapsed": false,
    "ExecuteTime": {
     "start_time": "2023-04-21T23:23:10.653612Z",
     "end_time": "2023-04-21T23:23:14.390609Z"
    }
   }
  },
  {
   "cell_type": "markdown",
   "source": [
    "# Simple loading"
   ],
   "metadata": {
    "collapsed": false
   }
  },
  {
   "cell_type": "code",
   "execution_count": 2,
   "outputs": [
    {
     "data": {
      "text/plain": "{1: 'bed',\n 2: 'bird',\n 3: 'cat',\n 4: 'dog',\n 5: 'down',\n 6: 'eight',\n 7: 'five',\n 8: 'four',\n 9: 'go',\n 10: 'happy',\n 11: 'house',\n 12: 'left',\n 13: 'marvin',\n 14: 'nine',\n 15: 'no',\n 16: 'off',\n 17: 'on',\n 18: 'one',\n 19: 'right',\n 20: 'seven',\n 21: 'sheila',\n 22: 'silence',\n 23: 'six',\n 24: 'stop',\n 25: 'three',\n 26: 'tree',\n 27: 'two',\n 28: 'up',\n 29: 'wow',\n 30: 'yes',\n 31: 'zero'}"
     },
     "execution_count": 2,
     "metadata": {},
     "output_type": "execute_result"
    }
   ],
   "source": [
    "DATA_PATH = os.path.join(\"tensorflow-speech-recognition-challenge\", \"train\", \"audio\")\n",
    "dataset = AudioTrainDataset(DATA_PATH)\n",
    "\n",
    "labels_list, labels_dict = dataset.find_classes(DATA_PATH)\n",
    "labels_dict = {idx: name for name, idx in labels_dict.items()}\n",
    "labels_dict"
   ],
   "metadata": {
    "collapsed": false,
    "ExecuteTime": {
     "start_time": "2023-04-21T23:23:14.392609Z",
     "end_time": "2023-04-21T23:23:14.651609Z"
    }
   }
  },
  {
   "cell_type": "code",
   "execution_count": 3,
   "outputs": [],
   "source": [
    "NUM_WORKERS = 6\n",
    "BATCH_SIZE = 512"
   ],
   "metadata": {
    "collapsed": false,
    "ExecuteTime": {
     "start_time": "2023-04-21T23:23:14.652608Z",
     "end_time": "2023-04-21T23:23:14.696608Z"
    }
   }
  },
  {
   "cell_type": "markdown",
   "source": [
    "# Simple Model"
   ],
   "metadata": {
    "collapsed": false
   }
  },
  {
   "cell_type": "code",
   "execution_count": 4,
   "outputs": [],
   "source": [
    "transforms = Compose([\n",
    "    PaddingZeros(16000),\n",
    "    CustomSpectogram(n_fft=1024, power=2),\n",
    "])\n",
    "\n",
    "features_dataset = AudioTrainDataset(DATA_PATH, transform=transforms,\n",
    "                                     target_transform=TargetEncoder(class_dict=labels_dict))"
   ],
   "metadata": {
    "collapsed": false,
    "ExecuteTime": {
     "start_time": "2023-04-21T23:23:14.668608Z",
     "end_time": "2023-04-21T23:23:14.920608Z"
    }
   }
  },
  {
   "cell_type": "code",
   "execution_count": 5,
   "outputs": [
    {
     "data": {
      "text/plain": "(45587, 6512, 13024)"
     },
     "execution_count": 5,
     "metadata": {},
     "output_type": "execute_result"
    }
   ],
   "source": [
    "gen = torch.Generator().manual_seed(42)\n",
    "train_dataset, valid_dataset, test_dataset = torch.utils.data.random_split(features_dataset, [0.7, 0.1, 0.2],\n",
    "                                                                           generator=gen)\n",
    "len(train_dataset), len(valid_dataset), len(test_dataset)"
   ],
   "metadata": {
    "collapsed": false,
    "ExecuteTime": {
     "start_time": "2023-04-21T23:23:14.922609Z",
     "end_time": "2023-04-21T23:23:14.935608Z"
    }
   }
  },
  {
   "cell_type": "code",
   "execution_count": 6,
   "outputs": [
    {
     "data": {
      "text/plain": "(90, 13, 26)"
     },
     "execution_count": 6,
     "metadata": {},
     "output_type": "execute_result"
    }
   ],
   "source": [
    "train_dataset_loader = DataLoader(train_dataset, batch_size=BATCH_SIZE, num_workers=NUM_WORKERS, shuffle=True,\n",
    "                                  generator=torch.random.manual_seed(123))\n",
    "valid_dataset_loader = DataLoader(valid_dataset, batch_size=BATCH_SIZE, num_workers=NUM_WORKERS, shuffle=False)\n",
    "test_dataset_loader = DataLoader(test_dataset, batch_size=BATCH_SIZE, num_workers=NUM_WORKERS, shuffle=False)\n",
    "len(train_dataset_loader), len(valid_dataset_loader), len(test_dataset_loader)"
   ],
   "metadata": {
    "collapsed": false,
    "ExecuteTime": {
     "start_time": "2023-04-21T23:23:14.935608Z",
     "end_time": "2023-04-21T23:23:14.981608Z"
    }
   }
  },
  {
   "cell_type": "code",
   "execution_count": 7,
   "outputs": [],
   "source": [
    "class MyLSTM(lightning.LightningModule):\n",
    "    def __init__(self,\n",
    "                 input_features_size, # number of frequencies of spectogram\n",
    "                 input_sequence_size, # length of spectogram\n",
    "                 hidden_size,\n",
    "                 conv_channels_out,\n",
    "                 conv_kernel_size,\n",
    "                 target_size):\n",
    "        super().__init__()\n",
    "        self.conv = torch.nn.Conv1d(input_sequence_size, conv_channels_out, kernel_size=conv_kernel_size, groups=input_sequence_size)\n",
    "        lstm_input_size = input_features_size - (conv_kernel_size - 1)\n",
    "        self.lstm = torch.nn.LSTM(lstm_input_size, hidden_size, num_layers=1, batch_first=True)\n",
    "        self.hidden2label = torch.nn.Linear(hidden_size, target_size)\n",
    "        self.softmax = torch.nn.Softmax(dim=-1)\n",
    "        self.train_acc = torchmetrics.Accuracy(task=\"multiclass\", num_classes=target_size)\n",
    "        self.valid_acc = torchmetrics.Accuracy(task=\"multiclass\", num_classes=target_size)\n",
    "        self.test_acc = torchmetrics.Accuracy(task=\"multiclass\", num_classes=target_size)\n",
    "        self.test_conf_mat = torchmetrics.ConfusionMatrix(task=\"multiclass\", num_classes=target_size)\n",
    "\n",
    "    def forward(self, x):\n",
    "        x_squeeze = x.squeeze()\n",
    "        x = self.conv(x_squeeze)\n",
    "        lstm_out, _ = self.lstm(x)\n",
    "        label_space = self.hidden2label(lstm_out[:, -1])\n",
    "        return self.softmax(label_space)\n",
    "\n",
    "    def training_step(self, batch, batch_idx):\n",
    "        x, y = batch\n",
    "        y_hat = self(x)\n",
    "        loss = torch.nn.functional.cross_entropy(y_hat, y)\n",
    "        self.train_acc(y_hat, torch.argmax(y, dim=-1))\n",
    "        self.log(\"train_loss\", loss, on_step=True, on_epoch=True, prog_bar=True, logger=True)\n",
    "        self.log(\"train_acc_step\", self.train_acc)\n",
    "        return loss\n",
    "\n",
    "    def on_train_epoch_end(self):\n",
    "        self.log('train_acc', self.train_acc)\n",
    "\n",
    "    def predict_step(self, batch, batch_idx, dataloader_idx = 0):\n",
    "        x, y = batch\n",
    "        return self(x)\n",
    "\n",
    "    def validation_step(self, batch, batch_idx):\n",
    "        x, y = batch\n",
    "        y_hat = self(x)\n",
    "        loss = torch.nn.functional.cross_entropy(y_hat, y)\n",
    "        self.valid_acc(y_hat, torch.argmax(y, dim=-1))\n",
    "        self.log('val_loss', loss, on_epoch=True)\n",
    "        self.log('val_acc', self.valid_acc, on_epoch=True)\n",
    "\n",
    "    def test_step(self, batch, batch_idx):\n",
    "        x, y = batch\n",
    "        y_hat = self(x)\n",
    "        loss = torch.nn.functional.cross_entropy(y_hat, y)\n",
    "        y_class = torch.argmax(y, dim=-1)\n",
    "        self.test_acc(y_hat, y_class)\n",
    "        self.test_conf_mat(y_hat, y_class)\n",
    "        self.log('test_loss', loss, on_epoch=True)\n",
    "        self.log('test_acc', self.test_acc, on_epoch=True)\n",
    "\n",
    "    def configure_optimizers(self):\n",
    "        optimizer = torch.optim.Adam(self.parameters(), lr=0.001)\n",
    "        return {\n",
    "            \"optimizer\": optimizer,\n",
    "            \"lr_scheduler\": {\n",
    "                \"scheduler\": torch.optim.lr_scheduler.ReduceLROnPlateau(optimizer, mode=\"min\", factor=0.3, patience=3),\n",
    "                \"monitor\": \"val_loss\",\n",
    "            }\n",
    "        }"
   ],
   "metadata": {
    "collapsed": false,
    "ExecuteTime": {
     "start_time": "2023-04-21T23:23:14.952609Z",
     "end_time": "2023-04-21T23:23:14.984608Z"
    }
   }
  },
  {
   "cell_type": "code",
   "execution_count": 8,
   "outputs": [
    {
     "name": "stdout",
     "output_type": "stream",
     "text": [
      "torch.Size([512, 1, 32, 513])\n"
     ]
    }
   ],
   "source": [
    "for batch_x,  batch_y in train_dataset_loader:\n",
    "    print(batch_x.shape)\n",
    "    break"
   ],
   "metadata": {
    "collapsed": false,
    "ExecuteTime": {
     "start_time": "2023-04-21T23:23:14.968608Z",
     "end_time": "2023-04-21T23:23:29.966261Z"
    }
   }
  },
  {
   "cell_type": "code",
   "execution_count": 9,
   "outputs": [],
   "source": [
    "model = MyLSTM(513, 32, 128, 32, 8, 12)\n",
    "for batch_x,  batch_y in train_dataset_loader:\n",
    "    y_hat = model(batch_x)\n",
    "    break"
   ],
   "metadata": {
    "collapsed": false,
    "ExecuteTime": {
     "start_time": "2023-04-21T23:23:29.967261Z",
     "end_time": "2023-04-21T23:23:45.154516Z"
    }
   }
  },
  {
   "cell_type": "code",
   "execution_count": 10,
   "outputs": [
    {
     "name": "stderr",
     "output_type": "stream",
     "text": [
      "GPU available: True (cuda), used: True\n",
      "TPU available: False, using: 0 TPU cores\n",
      "IPU available: False, using: 0 IPUs\n",
      "HPU available: False, using: 0 HPUs\n",
      "LOCAL_RANK: 0 - CUDA_VISIBLE_DEVICES: [0]\n",
      "\n",
      "  | Name          | Type                      | Params\n",
      "------------------------------------------------------------\n",
      "0 | conv          | Conv1d                    | 1.2 K \n",
      "1 | lstm          | LSTM                      | 325 K \n",
      "2 | hidden2label  | Linear                    | 1.5 K \n",
      "3 | softmax       | Softmax                   | 0     \n",
      "4 | train_acc     | MulticlassAccuracy        | 0     \n",
      "5 | valid_acc     | MulticlassAccuracy        | 0     \n",
      "6 | test_acc      | MulticlassAccuracy        | 0     \n",
      "7 | test_conf_mat | MulticlassConfusionMatrix | 0     \n",
      "------------------------------------------------------------\n",
      "328 K     Trainable params\n",
      "0         Non-trainable params\n",
      "328 K     Total params\n",
      "1.313     Total estimated model params size (MB)\n"
     ]
    },
    {
     "name": "stdout",
     "output_type": "stream",
     "text": [
      "Epoch 0: 100%|██████████| 90/90 [00:19<00:00,  4.59it/s, v_num=13, train_loss_step=1.990]\n",
      "Validation: 0it [00:00, ?it/s]\u001B[A\n",
      "Validation:   0%|          | 0/13 [00:00<?, ?it/s]\u001B[A\n",
      "Validation DataLoader 0:   0%|          | 0/13 [00:00<?, ?it/s]\u001B[A\n",
      "Validation DataLoader 0:   8%|▊         | 1/13 [00:00<00:01,  9.90it/s]\u001B[A\n",
      "Validation DataLoader 0:  15%|█▌        | 2/13 [00:00<00:01,  9.30it/s]\u001B[A\n",
      "Validation DataLoader 0:  23%|██▎       | 3/13 [00:00<00:01,  9.52it/s]\u001B[A\n",
      "Validation DataLoader 0:  31%|███       | 4/13 [00:00<00:00, 11.56it/s]\u001B[A\n",
      "Validation DataLoader 0:  38%|███▊      | 5/13 [00:00<00:00, 13.30it/s]\u001B[A\n",
      "Validation DataLoader 0:  46%|████▌     | 6/13 [00:00<00:00, 14.89it/s]\u001B[A\n",
      "Validation DataLoader 0:  54%|█████▍    | 7/13 [00:00<00:00, 16.24it/s]\u001B[A\n",
      "Validation DataLoader 0:  62%|██████▏   | 8/13 [00:00<00:00, 17.51it/s]\u001B[A\n",
      "Validation DataLoader 0:  69%|██████▉   | 9/13 [00:00<00:00, 18.52it/s]\u001B[A\n",
      "Validation DataLoader 0:  77%|███████▋  | 10/13 [00:00<00:00, 19.46it/s]\u001B[A\n",
      "Validation DataLoader 0:  85%|████████▍ | 11/13 [00:00<00:00, 20.30it/s]\u001B[A\n",
      "Validation DataLoader 0:  92%|█████████▏| 12/13 [00:00<00:00, 20.51it/s]\u001B[A\n",
      "Epoch 0: 100%|██████████| 90/90 [00:34<00:00,  2.59it/s, v_num=13, train_loss_step=1.990]\n",
      "Epoch 1: 100%|██████████| 90/90 [00:19<00:00,  4.56it/s, v_num=13, train_loss_step=1.990, train_loss_epoch=2.030]\n",
      "Validation: 0it [00:00, ?it/s]\u001B[A\n",
      "Validation:   0%|          | 0/13 [00:00<?, ?it/s]\u001B[A\n",
      "Validation DataLoader 0:   0%|          | 0/13 [00:00<?, ?it/s]\u001B[A\n",
      "Validation DataLoader 0:   8%|▊         | 1/13 [00:00<00:01,  9.17it/s]\u001B[A\n",
      "Validation DataLoader 0:  15%|█▌        | 2/13 [00:00<00:01,  9.26it/s]\u001B[A\n",
      "Validation DataLoader 0:  23%|██▎       | 3/13 [00:00<00:00, 10.10it/s]\u001B[A\n",
      "Validation DataLoader 0:  31%|███       | 4/13 [00:00<00:00, 12.16it/s]\u001B[A\n",
      "Validation DataLoader 0:  38%|███▊      | 5/13 [00:00<00:00, 13.93it/s]\u001B[A\n",
      "Validation DataLoader 0:  46%|████▌     | 6/13 [00:00<00:00, 15.46it/s]\u001B[A\n",
      "Validation DataLoader 0:  54%|█████▍    | 7/13 [00:00<00:00, 16.83it/s]\u001B[A\n",
      "Validation DataLoader 0:  62%|██████▏   | 8/13 [00:00<00:00, 17.98it/s]\u001B[A\n",
      "Validation DataLoader 0:  69%|██████▉   | 9/13 [00:00<00:00, 19.03it/s]\u001B[A\n",
      "Validation DataLoader 0:  77%|███████▋  | 10/13 [00:00<00:00, 19.96it/s]\u001B[A\n",
      "Validation DataLoader 0:  85%|████████▍ | 11/13 [00:00<00:00, 20.87it/s]\u001B[A\n",
      "Validation DataLoader 0:  92%|█████████▏| 12/13 [00:00<00:00, 21.62it/s]\u001B[A\n",
      "Epoch 1: 100%|██████████| 90/90 [00:34<00:00,  2.59it/s, v_num=13, train_loss_step=1.990, train_loss_epoch=2.030]\n",
      "Epoch 1: 100%|██████████| 90/90 [00:34<00:00,  2.59it/s, v_num=13, train_loss_step=1.990, train_loss_epoch=1.990]"
     ]
    },
    {
     "name": "stderr",
     "output_type": "stream",
     "text": [
      "`Trainer.fit` stopped: `max_epochs=2` reached.\n"
     ]
    },
    {
     "name": "stdout",
     "output_type": "stream",
     "text": [
      "Epoch 1: 100%|██████████| 90/90 [00:34<00:00,  2.59it/s, v_num=13, train_loss_step=1.990, train_loss_epoch=1.990]\n"
     ]
    }
   ],
   "source": [
    "model = MyLSTM(513, 32,  128, 128, 8, 12)\n",
    "trainer = lightning.Trainer(max_epochs=2, logger=True)\n",
    "torch.set_float32_matmul_precision('medium')\n",
    "trainer.fit(model, train_dataloaders=train_dataset_loader, val_dataloaders=valid_dataset_loader)"
   ],
   "metadata": {
    "collapsed": false,
    "ExecuteTime": {
     "start_time": "2023-04-21T23:23:45.154516Z",
     "end_time": "2023-04-21T23:25:42.554530Z"
    }
   }
  },
  {
   "cell_type": "code",
   "execution_count": 11,
   "outputs": [
    {
     "name": "stderr",
     "output_type": "stream",
     "text": [
      "Global seed set to 0\n",
      "GPU available: True (cuda), used: True\n",
      "TPU available: False, using: 0 TPU cores\n",
      "IPU available: False, using: 0 IPUs\n",
      "HPU available: False, using: 0 HPUs\n",
      "LOCAL_RANK: 0 - CUDA_VISIBLE_DEVICES: [0]\n",
      "\n",
      "  | Name          | Type                      | Params\n",
      "------------------------------------------------------------\n",
      "0 | conv          | Conv1d                    | 288   \n",
      "1 | lstm          | LSTM                      | 325 K \n",
      "2 | hidden2label  | Linear                    | 1.5 K \n",
      "3 | softmax       | Softmax                   | 0     \n",
      "4 | train_acc     | MulticlassAccuracy        | 0     \n",
      "5 | valid_acc     | MulticlassAccuracy        | 0     \n",
      "6 | test_acc      | MulticlassAccuracy        | 0     \n",
      "7 | test_conf_mat | MulticlassConfusionMatrix | 0     \n",
      "------------------------------------------------------------\n",
      "327 K     Trainable params\n",
      "0         Non-trainable params\n",
      "327 K     Total params\n",
      "1.310     Total estimated model params size (MB)\n"
     ]
    },
    {
     "name": "stdout",
     "output_type": "stream",
     "text": [
      "Epoch 0: 100%|██████████| 90/90 [00:19<00:00,  4.56it/s, v_num=0, train_loss_step=2.040]\n",
      "Validation: 0it [00:00, ?it/s]\u001B[A\n",
      "Validation:   0%|          | 0/13 [00:00<?, ?it/s]\u001B[A\n",
      "Validation DataLoader 0:   0%|          | 0/13 [00:00<?, ?it/s]\u001B[A\n",
      "Validation DataLoader 0:   8%|▊         | 1/13 [00:00<00:00, 111.12it/s]\u001B[A\n",
      "Validation DataLoader 0:  15%|█▌        | 2/13 [00:00<00:00, 57.14it/s] \u001B[A\n",
      "Validation DataLoader 0:  23%|██▎       | 3/13 [00:00<00:00, 48.39it/s]\u001B[A\n",
      "Validation DataLoader 0:  31%|███       | 4/13 [00:00<00:00, 44.94it/s]\u001B[A\n",
      "Validation DataLoader 0:  38%|███▊      | 5/13 [00:00<00:00, 43.48it/s]\u001B[A\n",
      "Validation DataLoader 0:  46%|████▌     | 6/13 [00:00<00:00, 42.55it/s]\u001B[A\n",
      "Validation DataLoader 0:  54%|█████▍    | 7/13 [00:00<00:00, 21.81it/s]\u001B[A\n",
      "Validation DataLoader 0:  62%|██████▏   | 8/13 [00:00<00:00, 23.12it/s]\u001B[A\n",
      "Validation DataLoader 0:  69%|██████▉   | 9/13 [00:00<00:00, 24.32it/s]\u001B[A\n",
      "Validation DataLoader 0:  77%|███████▋  | 10/13 [00:00<00:00, 25.45it/s]\u001B[A\n",
      "Validation DataLoader 0:  85%|████████▍ | 11/13 [00:00<00:00, 26.32it/s]\u001B[A\n",
      "Validation DataLoader 0:  92%|█████████▏| 12/13 [00:00<00:00, 26.67it/s]\u001B[A\n",
      "Epoch 0: 100%|██████████| 90/90 [00:35<00:00,  2.57it/s, v_num=0, train_loss_step=2.040]\n",
      "Epoch 0: 100%|██████████| 90/90 [00:35<00:00,  2.57it/s, v_num=0, train_loss_step=2.040, train_loss_epoch=2.050]"
     ]
    },
    {
     "name": "stderr",
     "output_type": "stream",
     "text": [
      "Metric val_loss improved. New best score: 1.979\n"
     ]
    },
    {
     "name": "stdout",
     "output_type": "stream",
     "text": [
      "Epoch 1: 100%|██████████| 90/90 [00:20<00:00,  4.49it/s, v_num=0, train_loss_step=2.040, train_loss_epoch=2.050]\n",
      "Validation: 0it [00:00, ?it/s]\u001B[A\n",
      "Validation:   0%|          | 0/13 [00:00<?, ?it/s]\u001B[A\n",
      "Validation DataLoader 0:   0%|          | 0/13 [00:00<?, ?it/s]\u001B[A\n",
      "Validation DataLoader 0:   8%|▊         | 1/13 [00:00<00:00, 13.51it/s]\u001B[A\n",
      "Validation DataLoader 0:  15%|█▌        | 2/13 [00:00<00:00, 15.75it/s]\u001B[A\n",
      "Validation DataLoader 0:  23%|██▎       | 3/13 [00:00<00:00, 16.39it/s]\u001B[A\n",
      "Validation DataLoader 0:  31%|███       | 4/13 [00:00<00:00, 17.86it/s]\u001B[A\n",
      "Validation DataLoader 0:  38%|███▊      | 5/13 [00:00<00:00, 19.16it/s]\u001B[A\n",
      "Validation DataLoader 0:  46%|████▌     | 6/13 [00:00<00:00, 20.20it/s]\u001B[A\n",
      "Validation DataLoader 0:  54%|█████▍    | 7/13 [00:00<00:00, 20.29it/s]\u001B[A\n",
      "Validation DataLoader 0:  62%|██████▏   | 8/13 [00:00<00:00, 18.03it/s]\u001B[A\n",
      "Validation DataLoader 0:  69%|██████▉   | 9/13 [00:00<00:00, 17.45it/s]\u001B[A\n",
      "Validation DataLoader 0:  77%|███████▋  | 10/13 [00:00<00:00, 17.23it/s]\u001B[A\n",
      "Validation DataLoader 0:  85%|████████▍ | 11/13 [00:00<00:00, 18.14it/s]\u001B[A\n",
      "Validation DataLoader 0:  92%|█████████▏| 12/13 [00:00<00:00, 19.01it/s]\u001B[A\n",
      "Epoch 1: 100%|██████████| 90/90 [00:35<00:00,  2.55it/s, v_num=0, train_loss_step=2.040, train_loss_epoch=2.050]\n",
      "Epoch 1: 100%|██████████| 90/90 [00:35<00:00,  2.55it/s, v_num=0, train_loss_step=2.040, train_loss_epoch=1.990]"
     ]
    },
    {
     "name": "stderr",
     "output_type": "stream",
     "text": [
      "Metric val_loss improved by 0.001 >= min_delta = 0.0. New best score: 1.978\n"
     ]
    },
    {
     "name": "stdout",
     "output_type": "stream",
     "text": [
      "Epoch 2: 100%|██████████| 90/90 [00:19<00:00,  4.52it/s, v_num=0, train_loss_step=2.090, train_loss_epoch=1.990]\n",
      "Validation: 0it [00:00, ?it/s]\u001B[A\n",
      "Validation:   0%|          | 0/13 [00:00<?, ?it/s]\u001B[A\n",
      "Validation DataLoader 0:   0%|          | 0/13 [00:00<?, ?it/s]\u001B[A\n",
      "Validation DataLoader 0:   8%|▊         | 1/13 [00:00<00:00, 23.25it/s]\u001B[A\n",
      "Validation DataLoader 0:  15%|█▌        | 2/13 [00:00<00:00, 21.28it/s]\u001B[A\n",
      "Validation DataLoader 0:  23%|██▎       | 3/13 [00:00<00:00, 20.69it/s]\u001B[A\n",
      "Validation DataLoader 0:  31%|███       | 4/13 [00:00<00:00, 19.42it/s]\u001B[A\n",
      "Validation DataLoader 0:  38%|███▊      | 5/13 [00:00<00:00, 21.46it/s]\u001B[A\n",
      "Validation DataLoader 0:  46%|████▌     | 6/13 [00:00<00:00, 23.35it/s]\u001B[A\n",
      "Validation DataLoader 0:  54%|█████▍    | 7/13 [00:00<00:00, 22.51it/s]\u001B[A\n",
      "Validation DataLoader 0:  62%|██████▏   | 8/13 [00:00<00:00, 23.88it/s]\u001B[A\n",
      "Validation DataLoader 0:  69%|██████▉   | 9/13 [00:00<00:00, 25.07it/s]\u001B[A\n",
      "Validation DataLoader 0:  77%|███████▋  | 10/13 [00:00<00:00, 26.18it/s]\u001B[A\n",
      "Validation DataLoader 0:  85%|████████▍ | 11/13 [00:00<00:00, 27.09it/s]\u001B[A\n",
      "Validation DataLoader 0:  92%|█████████▏| 12/13 [00:00<00:00, 27.91it/s]\u001B[A\n",
      "Epoch 2: 100%|██████████| 90/90 [00:35<00:00,  2.55it/s, v_num=0, train_loss_step=2.090, train_loss_epoch=1.990]\n",
      "Epoch 2: 100%|██████████| 90/90 [00:35<00:00,  2.55it/s, v_num=0, train_loss_step=2.090, train_loss_epoch=1.990]"
     ]
    },
    {
     "name": "stderr",
     "output_type": "stream",
     "text": [
      "Metric val_loss improved by 0.000 >= min_delta = 0.0. New best score: 1.978\n"
     ]
    },
    {
     "name": "stdout",
     "output_type": "stream",
     "text": [
      "Epoch 3: 100%|██████████| 90/90 [00:19<00:00,  4.53it/s, v_num=0, train_loss_step=1.880, train_loss_epoch=1.990]\n",
      "Validation: 0it [00:00, ?it/s]\u001B[A\n",
      "Validation:   0%|          | 0/13 [00:00<?, ?it/s]\u001B[A\n",
      "Validation DataLoader 0:   0%|          | 0/13 [00:00<?, ?it/s]\u001B[A\n",
      "Validation DataLoader 0:   8%|▊         | 1/13 [00:00<00:00, 23.81it/s]\u001B[A\n",
      "Validation DataLoader 0:  15%|█▌        | 2/13 [00:00<00:00, 18.69it/s]\u001B[A\n",
      "Validation DataLoader 0:  23%|██▎       | 3/13 [00:00<00:00, 18.87it/s]\u001B[A\n",
      "Validation DataLoader 0:  31%|███       | 4/13 [00:00<00:00, 19.05it/s]\u001B[A\n",
      "Validation DataLoader 0:  38%|███▊      | 5/13 [00:00<00:00, 19.38it/s]\u001B[A\n",
      "Validation DataLoader 0:  46%|████▌     | 6/13 [00:00<00:00, 18.81it/s]\u001B[A\n",
      "Validation DataLoader 0:  54%|█████▍    | 7/13 [00:00<00:00, 19.61it/s]\u001B[A\n",
      "Validation DataLoader 0:  62%|██████▏   | 8/13 [00:00<00:00, 20.20it/s]\u001B[A\n",
      "Validation DataLoader 0:  69%|██████▉   | 9/13 [00:00<00:00, 20.69it/s]\u001B[A\n",
      "Validation DataLoader 0:  77%|███████▋  | 10/13 [00:00<00:00, 21.10it/s]\u001B[A\n",
      "Validation DataLoader 0:  85%|████████▍ | 11/13 [00:00<00:00, 21.57it/s]\u001B[A\n",
      "Validation DataLoader 0:  92%|█████████▏| 12/13 [00:00<00:00, 22.10it/s]\u001B[A\n",
      "Epoch 3: 100%|██████████| 90/90 [00:35<00:00,  2.56it/s, v_num=0, train_loss_step=1.880, train_loss_epoch=1.990]\n",
      "Epoch 3: 100%|██████████| 90/90 [00:35<00:00,  2.56it/s, v_num=0, train_loss_step=1.880, train_loss_epoch=1.990]"
     ]
    },
    {
     "name": "stderr",
     "output_type": "stream",
     "text": [
      "Metric val_loss improved by 0.000 >= min_delta = 0.0. New best score: 1.978\n"
     ]
    },
    {
     "name": "stdout",
     "output_type": "stream",
     "text": [
      "Epoch 4: 100%|██████████| 90/90 [00:19<00:00,  4.51it/s, v_num=0, train_loss_step=1.990, train_loss_epoch=1.990]\n",
      "Validation: 0it [00:00, ?it/s]\u001B[A\n",
      "Validation:   0%|          | 0/13 [00:00<?, ?it/s]\u001B[A\n",
      "Validation DataLoader 0:   0%|          | 0/13 [00:00<?, ?it/s]\u001B[A\n",
      "Validation DataLoader 0:   8%|▊         | 1/13 [00:00<00:00, 21.74it/s]\u001B[A\n",
      "Validation DataLoader 0:  15%|█▌        | 2/13 [00:00<00:00, 20.20it/s]\u001B[A\n",
      "Validation DataLoader 0:  23%|██▎       | 3/13 [00:00<00:00, 18.87it/s]\u001B[A\n",
      "Validation DataLoader 0:  31%|███       | 4/13 [00:00<00:00, 19.32it/s]\u001B[A\n",
      "Validation DataLoader 0:  38%|███▊      | 5/13 [00:00<00:00, 19.01it/s]\u001B[A\n",
      "Validation DataLoader 0:  46%|████▌     | 6/13 [00:00<00:00, 18.46it/s]\u001B[A\n",
      "Validation DataLoader 0:  54%|█████▍    | 7/13 [00:00<00:00, 19.34it/s]\u001B[A\n",
      "Validation DataLoader 0:  62%|██████▏   | 8/13 [00:00<00:00, 20.00it/s]\u001B[A\n",
      "Validation DataLoader 0:  69%|██████▉   | 9/13 [00:00<00:00, 20.64it/s]\u001B[A\n",
      "Validation DataLoader 0:  77%|███████▋  | 10/13 [00:00<00:00, 21.19it/s]\u001B[A\n",
      "Validation DataLoader 0:  85%|████████▍ | 11/13 [00:00<00:00, 21.83it/s]\u001B[A\n",
      "Validation DataLoader 0:  92%|█████████▏| 12/13 [00:00<00:00, 22.02it/s]\u001B[A\n",
      "Epoch 4: 100%|██████████| 90/90 [00:35<00:00,  2.56it/s, v_num=0, train_loss_step=1.990, train_loss_epoch=1.990]\n",
      "Epoch 4: 100%|██████████| 90/90 [00:35<00:00,  2.56it/s, v_num=0, train_loss_step=1.990, train_loss_epoch=1.990]"
     ]
    },
    {
     "name": "stderr",
     "output_type": "stream",
     "text": [
      "Metric val_loss improved by 0.000 >= min_delta = 0.0. New best score: 1.978\n"
     ]
    },
    {
     "name": "stdout",
     "output_type": "stream",
     "text": [
      "Epoch 5: 100%|██████████| 90/90 [00:19<00:00,  4.54it/s, v_num=0, train_loss_step=2.250, train_loss_epoch=1.990]\n",
      "Validation: 0it [00:00, ?it/s]\u001B[A\n",
      "Validation:   0%|          | 0/13 [00:00<?, ?it/s]\u001B[A\n",
      "Validation DataLoader 0:   0%|          | 0/13 [00:00<?, ?it/s]\u001B[A\n",
      "Validation DataLoader 0:   8%|▊         | 1/13 [00:00<00:00, 19.23it/s]\u001B[A\n",
      "Validation DataLoader 0:  15%|█▌        | 2/13 [00:00<00:00, 19.42it/s]\u001B[A\n",
      "Validation DataLoader 0:  23%|██▎       | 3/13 [00:00<00:00, 19.61it/s]\u001B[A\n",
      "Validation DataLoader 0:  31%|███       | 4/13 [00:00<00:00, 18.78it/s]\u001B[A\n",
      "Validation DataLoader 0:  38%|███▊      | 5/13 [00:00<00:00, 19.08it/s]\u001B[A\n",
      "Validation DataLoader 0:  46%|████▌     | 6/13 [00:00<00:00, 20.48it/s]\u001B[A\n",
      "Validation DataLoader 0:  54%|█████▍    | 7/13 [00:00<00:00, 21.47it/s]\u001B[A\n",
      "Validation DataLoader 0:  62%|██████▏   | 8/13 [00:00<00:00, 22.86it/s]\u001B[A\n",
      "Validation DataLoader 0:  69%|██████▉   | 9/13 [00:00<00:00, 24.13it/s]\u001B[A\n",
      "Validation DataLoader 0:  77%|███████▋  | 10/13 [00:00<00:00, 25.13it/s]\u001B[A\n",
      "Validation DataLoader 0:  85%|████████▍ | 11/13 [00:00<00:00, 26.13it/s]\u001B[A\n",
      "Validation DataLoader 0:  92%|█████████▏| 12/13 [00:00<00:00, 26.91it/s]\u001B[A\n",
      "Epoch 5: 100%|██████████| 90/90 [00:34<00:00,  2.57it/s, v_num=0, train_loss_step=2.250, train_loss_epoch=1.990]\n",
      "Epoch 5: 100%|██████████| 90/90 [00:35<00:00,  2.57it/s, v_num=0, train_loss_step=2.250, train_loss_epoch=1.990]"
     ]
    },
    {
     "name": "stderr",
     "output_type": "stream",
     "text": [
      "Metric val_loss improved by 0.000 >= min_delta = 0.0. New best score: 1.978\n"
     ]
    },
    {
     "name": "stdout",
     "output_type": "stream",
     "text": [
      "Epoch 6: 100%|██████████| 90/90 [00:19<00:00,  4.52it/s, v_num=0, train_loss_step=1.780, train_loss_epoch=1.990]\n",
      "Validation: 0it [00:00, ?it/s]\u001B[A\n",
      "Validation:   0%|          | 0/13 [00:00<?, ?it/s]\u001B[A\n",
      "Validation DataLoader 0:   0%|          | 0/13 [00:00<?, ?it/s]\u001B[A\n",
      "Validation DataLoader 0:   8%|▊         | 1/13 [00:00<00:01, 10.64it/s]\u001B[A\n",
      "Validation DataLoader 0:  15%|█▌        | 2/13 [00:00<00:01, 10.63it/s]\u001B[A\n",
      "Validation DataLoader 0:  23%|██▎       | 3/13 [00:00<00:00, 12.62it/s]\u001B[A\n",
      "Validation DataLoader 0:  31%|███       | 4/13 [00:00<00:00, 14.20it/s]\u001B[A\n",
      "Validation DataLoader 0:  38%|███▊      | 5/13 [00:00<00:00, 16.35it/s]\u001B[A\n",
      "Validation DataLoader 0:  46%|████▌     | 6/13 [00:00<00:00, 18.09it/s]\u001B[A\n",
      "Validation DataLoader 0:  54%|█████▍    | 7/13 [00:00<00:00, 19.46it/s]\u001B[A\n",
      "Validation DataLoader 0:  62%|██████▏   | 8/13 [00:00<00:00, 20.74it/s]\u001B[A\n",
      "Validation DataLoader 0:  69%|██████▉   | 9/13 [00:00<00:00, 21.91it/s]\u001B[A\n",
      "Validation DataLoader 0:  77%|███████▋  | 10/13 [00:00<00:00, 22.90it/s]\u001B[A\n",
      "Validation DataLoader 0:  85%|████████▍ | 11/13 [00:00<00:00, 23.81it/s]\u001B[A\n",
      "Validation DataLoader 0:  92%|█████████▏| 12/13 [00:00<00:00, 24.21it/s]\u001B[A\n",
      "Epoch 6: 100%|██████████| 90/90 [00:36<00:00,  2.50it/s, v_num=0, train_loss_step=1.780, train_loss_epoch=1.990]\n",
      "Epoch 6: 100%|██████████| 90/90 [00:36<00:00,  2.50it/s, v_num=0, train_loss_step=1.780, train_loss_epoch=1.990]"
     ]
    },
    {
     "name": "stderr",
     "output_type": "stream",
     "text": [
      "Metric val_loss improved by 0.000 >= min_delta = 0.0. New best score: 1.978\n"
     ]
    },
    {
     "name": "stdout",
     "output_type": "stream",
     "text": [
      "Epoch 7: 100%|██████████| 90/90 [00:19<00:00,  4.53it/s, v_num=0, train_loss_step=2.150, train_loss_epoch=1.990]\n",
      "Validation: 0it [00:00, ?it/s]\u001B[A\n",
      "Validation:   0%|          | 0/13 [00:00<?, ?it/s]\u001B[A\n",
      "Validation DataLoader 0:   0%|          | 0/13 [00:00<?, ?it/s]\u001B[A\n",
      "Validation DataLoader 0:   8%|▊         | 1/13 [00:00<00:00, 23.26it/s]\u001B[A\n",
      "Validation DataLoader 0:  15%|█▌        | 2/13 [00:00<00:00, 20.83it/s]\u001B[A\n",
      "Validation DataLoader 0:  23%|██▎       | 3/13 [00:00<00:00, 19.11it/s]\u001B[A\n",
      "Validation DataLoader 0:  31%|███       | 4/13 [00:00<00:00, 19.42it/s]\u001B[A\n",
      "Validation DataLoader 0:  38%|███▊      | 5/13 [00:00<00:00, 19.76it/s]\u001B[A\n",
      "Validation DataLoader 0:  46%|████▌     | 6/13 [00:00<00:00, 20.00it/s]\u001B[A\n",
      "Validation DataLoader 0:  54%|█████▍    | 7/13 [00:00<00:00, 19.66it/s]\u001B[A\n",
      "Validation DataLoader 0:  62%|██████▏   | 8/13 [00:00<00:00, 20.25it/s]\u001B[A\n",
      "Validation DataLoader 0:  69%|██████▉   | 9/13 [00:00<00:00, 20.79it/s]\u001B[A\n",
      "Validation DataLoader 0:  77%|███████▋  | 10/13 [00:00<00:00, 21.37it/s]\u001B[A\n",
      "Validation DataLoader 0:  85%|████████▍ | 11/13 [00:00<00:00, 21.91it/s]\u001B[A\n",
      "Validation DataLoader 0:  92%|█████████▏| 12/13 [00:00<00:00, 22.43it/s]\u001B[A\n",
      "Epoch 7: 100%|██████████| 90/90 [00:35<00:00,  2.54it/s, v_num=0, train_loss_step=2.150, train_loss_epoch=1.990]\n",
      "Epoch 7: 100%|██████████| 90/90 [00:35<00:00,  2.54it/s, v_num=0, train_loss_step=2.150, train_loss_epoch=1.990]"
     ]
    },
    {
     "name": "stderr",
     "output_type": "stream",
     "text": [
      "Metric val_loss improved by 0.000 >= min_delta = 0.0. New best score: 1.978\n"
     ]
    },
    {
     "name": "stdout",
     "output_type": "stream",
     "text": [
      "Epoch 8: 100%|██████████| 90/90 [00:19<00:00,  4.54it/s, v_num=0, train_loss_step=1.930, train_loss_epoch=1.990]\n",
      "Validation: 0it [00:00, ?it/s]\u001B[A\n",
      "Validation:   0%|          | 0/13 [00:00<?, ?it/s]\u001B[A\n",
      "Validation DataLoader 0:   0%|          | 0/13 [00:00<?, ?it/s]\u001B[A\n",
      "Validation DataLoader 0:   8%|▊         | 1/13 [00:00<00:00, 20.83it/s]\u001B[A\n",
      "Validation DataLoader 0:  15%|█▌        | 2/13 [00:00<00:00, 16.26it/s]\u001B[A\n",
      "Validation DataLoader 0:  23%|██▎       | 3/13 [00:00<00:00, 17.14it/s]\u001B[A\n",
      "Validation DataLoader 0:  31%|███       | 4/13 [00:00<00:00, 17.47it/s]\u001B[A\n",
      "Validation DataLoader 0:  38%|███▊      | 5/13 [00:00<00:00, 19.68it/s]\u001B[A\n",
      "Validation DataLoader 0:  46%|████▌     | 6/13 [00:00<00:00, 21.58it/s]\u001B[A\n",
      "Validation DataLoader 0:  54%|█████▍    | 7/13 [00:00<00:00, 22.88it/s]\u001B[A\n",
      "Validation DataLoader 0:  62%|██████▏   | 8/13 [00:00<00:00, 23.46it/s]\u001B[A\n",
      "Validation DataLoader 0:  69%|██████▉   | 9/13 [00:00<00:00, 24.66it/s]\u001B[A\n",
      "Validation DataLoader 0:  77%|███████▋  | 10/13 [00:00<00:00, 25.71it/s]\u001B[A\n",
      "Validation DataLoader 0:  85%|████████▍ | 11/13 [00:00<00:00, 26.70it/s]\u001B[A\n",
      "Validation DataLoader 0:  92%|█████████▏| 12/13 [00:00<00:00, 25.97it/s]\u001B[A\n",
      "Epoch 8: 100%|██████████| 90/90 [00:35<00:00,  2.57it/s, v_num=0, train_loss_step=1.930, train_loss_epoch=1.990]\n",
      "Epoch 8: 100%|██████████| 90/90 [00:35<00:00,  2.57it/s, v_num=0, train_loss_step=1.930, train_loss_epoch=1.990]"
     ]
    },
    {
     "name": "stderr",
     "output_type": "stream",
     "text": [
      "Metric val_loss improved by 0.000 >= min_delta = 0.0. New best score: 1.978\n"
     ]
    },
    {
     "name": "stdout",
     "output_type": "stream",
     "text": [
      "Epoch 9: 100%|██████████| 90/90 [00:20<00:00,  4.49it/s, v_num=0, train_loss_step=2.090, train_loss_epoch=1.990]\n",
      "Validation: 0it [00:00, ?it/s]\u001B[A\n",
      "Validation:   0%|          | 0/13 [00:00<?, ?it/s]\u001B[A\n",
      "Validation DataLoader 0:   0%|          | 0/13 [00:00<?, ?it/s]\u001B[A\n",
      "Validation DataLoader 0:   8%|▊         | 1/13 [00:00<00:00, 24.39it/s]\u001B[A\n",
      "Validation DataLoader 0:  15%|█▌        | 2/13 [00:00<00:00, 21.05it/s]\u001B[A\n",
      "Validation DataLoader 0:  23%|██▎       | 3/13 [00:00<00:00, 18.99it/s]\u001B[A\n",
      "Validation DataLoader 0:  31%|███       | 4/13 [00:00<00:00, 19.42it/s]\u001B[A\n",
      "Validation DataLoader 0:  38%|███▊      | 5/13 [00:00<00:00, 19.84it/s]\u001B[A\n",
      "Validation DataLoader 0:  46%|████▌     | 6/13 [00:00<00:00, 19.87it/s]\u001B[A\n",
      "Validation DataLoader 0:  54%|█████▍    | 7/13 [00:00<00:00, 20.71it/s]\u001B[A\n",
      "Validation DataLoader 0:  62%|██████▏   | 8/13 [00:00<00:00, 21.45it/s]\u001B[A\n",
      "Validation DataLoader 0:  69%|██████▉   | 9/13 [00:00<00:00, 22.11it/s]\u001B[A\n",
      "Validation DataLoader 0:  77%|███████▋  | 10/13 [00:00<00:00, 22.62it/s]\u001B[A\n",
      "Validation DataLoader 0:  85%|████████▍ | 11/13 [00:00<00:00, 23.01it/s]\u001B[A\n",
      "Validation DataLoader 0:  92%|█████████▏| 12/13 [00:00<00:00, 23.17it/s]\u001B[A\n",
      "Epoch 9: 100%|██████████| 90/90 [00:35<00:00,  2.55it/s, v_num=0, train_loss_step=2.090, train_loss_epoch=1.990]\n",
      "Epoch 9: 100%|██████████| 90/90 [00:35<00:00,  2.55it/s, v_num=0, train_loss_step=2.090, train_loss_epoch=1.990]"
     ]
    },
    {
     "name": "stderr",
     "output_type": "stream",
     "text": [
      "Metric val_loss improved by 0.000 >= min_delta = 0.0. New best score: 1.978\n"
     ]
    },
    {
     "name": "stdout",
     "output_type": "stream",
     "text": [
      "Epoch 10: 100%|██████████| 90/90 [00:20<00:00,  4.47it/s, v_num=0, train_loss_step=2.090, train_loss_epoch=1.990]\n",
      "Validation: 0it [00:00, ?it/s]\u001B[A\n",
      "Validation:   0%|          | 0/13 [00:00<?, ?it/s]\u001B[A\n",
      "Validation DataLoader 0:   0%|          | 0/13 [00:00<?, ?it/s]\u001B[A\n",
      "Validation DataLoader 0:   8%|▊         | 1/13 [00:00<00:00, 25.00it/s]\u001B[A\n",
      "Validation DataLoader 0:  15%|█▌        | 2/13 [00:00<00:00, 20.62it/s]\u001B[A\n",
      "Validation DataLoader 0:  23%|██▎       | 3/13 [00:00<00:00, 20.55it/s]\u001B[A\n",
      "Validation DataLoader 0:  31%|███       | 4/13 [00:00<00:00, 19.51it/s]\u001B[A\n",
      "Validation DataLoader 0:  38%|███▊      | 5/13 [00:00<00:00, 19.38it/s]\u001B[A\n",
      "Validation DataLoader 0:  46%|████▌     | 6/13 [00:00<00:00, 19.42it/s]\u001B[A\n",
      "Validation DataLoader 0:  54%|█████▍    | 7/13 [00:00<00:00, 20.29it/s]\u001B[A\n",
      "Validation DataLoader 0:  62%|██████▏   | 8/13 [00:00<00:00, 21.00it/s]\u001B[A\n",
      "Validation DataLoader 0:  69%|██████▉   | 9/13 [00:00<00:00, 21.69it/s]\u001B[A\n",
      "Validation DataLoader 0:  77%|███████▋  | 10/13 [00:00<00:00, 22.32it/s]\u001B[A\n",
      "Validation DataLoader 0:  85%|████████▍ | 11/13 [00:00<00:00, 22.45it/s]\u001B[A\n",
      "Validation DataLoader 0:  92%|█████████▏| 12/13 [00:00<00:00, 21.74it/s]\u001B[A\n",
      "Epoch 10: 100%|██████████| 90/90 [00:35<00:00,  2.54it/s, v_num=0, train_loss_step=2.090, train_loss_epoch=1.990]\n",
      "Epoch 10: 100%|██████████| 90/90 [00:35<00:00,  2.54it/s, v_num=0, train_loss_step=2.090, train_loss_epoch=1.990]"
     ]
    },
    {
     "name": "stderr",
     "output_type": "stream",
     "text": [
      "Metric val_loss improved by 0.000 >= min_delta = 0.0. New best score: 1.978\n"
     ]
    },
    {
     "name": "stdout",
     "output_type": "stream",
     "text": [
      "Epoch 11: 100%|██████████| 90/90 [00:19<00:00,  4.52it/s, v_num=0, train_loss_step=1.930, train_loss_epoch=1.990]\n",
      "Validation: 0it [00:00, ?it/s]\u001B[A\n",
      "Validation:   0%|          | 0/13 [00:00<?, ?it/s]\u001B[A\n",
      "Validation DataLoader 0:   0%|          | 0/13 [00:00<?, ?it/s]\u001B[A\n",
      "Validation DataLoader 0:   8%|▊         | 1/13 [00:00<00:00, 16.13it/s]\u001B[A\n",
      "Validation DataLoader 0:  15%|█▌        | 2/13 [00:00<00:00, 17.54it/s]\u001B[A\n",
      "Validation DataLoader 0:  23%|██▎       | 3/13 [00:00<00:00, 18.40it/s]\u001B[A\n",
      "Validation DataLoader 0:  31%|███       | 4/13 [00:00<00:00, 18.78it/s]\u001B[A\n",
      "Validation DataLoader 0:  38%|███▊      | 5/13 [00:00<00:00, 18.31it/s]\u001B[A\n",
      "Validation DataLoader 0:  46%|████▌     | 6/13 [00:00<00:00, 18.81it/s]\u001B[A\n",
      "Validation DataLoader 0:  54%|█████▍    | 7/13 [00:00<00:00, 18.92it/s]\u001B[A\n",
      "Validation DataLoader 0:  62%|██████▏   | 8/13 [00:00<00:00, 18.48it/s]\u001B[A\n",
      "Validation DataLoader 0:  69%|██████▉   | 9/13 [00:00<00:00, 19.15it/s]\u001B[A\n",
      "Validation DataLoader 0:  77%|███████▋  | 10/13 [00:00<00:00, 19.80it/s]\u001B[A\n",
      "Validation DataLoader 0:  85%|████████▍ | 11/13 [00:00<00:00, 20.52it/s]\u001B[A\n",
      "Validation DataLoader 0:  92%|█████████▏| 12/13 [00:00<00:00, 21.13it/s]\u001B[A\n",
      "Epoch 11: 100%|██████████| 90/90 [00:35<00:00,  2.57it/s, v_num=0, train_loss_step=1.930, train_loss_epoch=1.990]\n",
      "Epoch 11: 100%|██████████| 90/90 [00:35<00:00,  2.57it/s, v_num=0, train_loss_step=1.930, train_loss_epoch=1.990]"
     ]
    },
    {
     "name": "stderr",
     "output_type": "stream",
     "text": [
      "Metric val_loss improved by 0.000 >= min_delta = 0.0. New best score: 1.978\n"
     ]
    },
    {
     "name": "stdout",
     "output_type": "stream",
     "text": [
      "Epoch 12: 100%|██████████| 90/90 [00:19<00:00,  4.52it/s, v_num=0, train_loss_step=1.930, train_loss_epoch=1.990]\n",
      "Validation: 0it [00:00, ?it/s]\u001B[A\n",
      "Validation:   0%|          | 0/13 [00:00<?, ?it/s]\u001B[A\n",
      "Validation DataLoader 0:   0%|          | 0/13 [00:00<?, ?it/s]\u001B[A\n",
      "Validation DataLoader 0:   8%|▊         | 1/13 [00:00<00:00, 26.32it/s]\u001B[A\n",
      "Validation DataLoader 0:  15%|█▌        | 2/13 [00:00<00:00, 22.22it/s]\u001B[A\n",
      "Validation DataLoader 0:  23%|██▎       | 3/13 [00:00<00:00, 19.74it/s]\u001B[A\n",
      "Validation DataLoader 0:  31%|███       | 4/13 [00:00<00:00, 19.90it/s]\u001B[A\n",
      "Validation DataLoader 0:  38%|███▊      | 5/13 [00:00<00:00, 18.80it/s]\u001B[A\n",
      "Validation DataLoader 0:  46%|████▌     | 6/13 [00:00<00:00, 20.34it/s]\u001B[A\n",
      "Validation DataLoader 0:  54%|█████▍    | 7/13 [00:00<00:00, 21.74it/s]\u001B[A\n",
      "Validation DataLoader 0:  62%|██████▏   | 8/13 [00:00<00:00, 22.99it/s]\u001B[A\n",
      "Validation DataLoader 0:  69%|██████▉   | 9/13 [00:00<00:00, 24.13it/s]\u001B[A\n",
      "Validation DataLoader 0:  77%|███████▋  | 10/13 [00:00<00:00, 25.25it/s]\u001B[A\n",
      "Validation DataLoader 0:  85%|████████▍ | 11/13 [00:00<00:00, 26.25it/s]\u001B[A\n",
      "Validation DataLoader 0:  92%|█████████▏| 12/13 [00:00<00:00, 22.14it/s]\u001B[A\n",
      "Epoch 12: 100%|██████████| 90/90 [00:35<00:00,  2.56it/s, v_num=0, train_loss_step=1.930, train_loss_epoch=1.990]\n",
      "Epoch 12: 100%|██████████| 90/90 [00:35<00:00,  2.56it/s, v_num=0, train_loss_step=1.930, train_loss_epoch=1.990]"
     ]
    },
    {
     "name": "stderr",
     "output_type": "stream",
     "text": [
      "Metric val_loss improved by 0.000 >= min_delta = 0.0. New best score: 1.978\n"
     ]
    },
    {
     "name": "stdout",
     "output_type": "stream",
     "text": [
      "Epoch 13: 100%|██████████| 90/90 [00:19<00:00,  4.54it/s, v_num=0, train_loss_step=1.830, train_loss_epoch=1.990]\n",
      "Validation: 0it [00:00, ?it/s]\u001B[A\n",
      "Validation:   0%|          | 0/13 [00:00<?, ?it/s]\u001B[A\n",
      "Validation DataLoader 0:   0%|          | 0/13 [00:00<?, ?it/s]\u001B[A\n",
      "Validation DataLoader 0:   8%|▊         | 1/13 [00:00<00:00, 125.00it/s]\u001B[A\n",
      "Validation DataLoader 0:  15%|█▌        | 2/13 [00:00<00:00, 55.56it/s] \u001B[A\n",
      "Validation DataLoader 0:  23%|██▎       | 3/13 [00:00<00:00, 47.62it/s]\u001B[A\n",
      "Validation DataLoader 0:  31%|███       | 4/13 [00:00<00:00, 43.96it/s]\u001B[A\n",
      "Validation DataLoader 0:  38%|███▊      | 5/13 [00:00<00:00, 42.37it/s]\u001B[A\n",
      "Validation DataLoader 0:  46%|████▌     | 6/13 [00:00<00:00, 41.38it/s]\u001B[A\n",
      "Validation DataLoader 0:  54%|█████▍    | 7/13 [00:00<00:00, 20.53it/s]\u001B[A\n",
      "Validation DataLoader 0:  62%|██████▏   | 8/13 [00:00<00:00, 21.74it/s]\u001B[A\n",
      "Validation DataLoader 0:  69%|██████▉   | 9/13 [00:00<00:00, 22.90it/s]\u001B[A\n",
      "Validation DataLoader 0:  77%|███████▋  | 10/13 [00:00<00:00, 23.92it/s]\u001B[A\n",
      "Validation DataLoader 0:  85%|████████▍ | 11/13 [00:00<00:00, 24.89it/s]\u001B[A\n",
      "Validation DataLoader 0:  92%|█████████▏| 12/13 [00:00<00:00, 24.59it/s]\u001B[A\n",
      "Epoch 13: 100%|██████████| 90/90 [00:35<00:00,  2.56it/s, v_num=0, train_loss_step=1.830, train_loss_epoch=1.990]\n",
      "Epoch 13: 100%|██████████| 90/90 [00:35<00:00,  2.56it/s, v_num=0, train_loss_step=1.830, train_loss_epoch=1.990]"
     ]
    },
    {
     "name": "stderr",
     "output_type": "stream",
     "text": [
      "Metric val_loss improved by 0.000 >= min_delta = 0.0. New best score: 1.978\n"
     ]
    },
    {
     "name": "stdout",
     "output_type": "stream",
     "text": [
      "Epoch 14: 100%|██████████| 90/90 [00:19<00:00,  4.51it/s, v_num=0, train_loss_step=2.090, train_loss_epoch=1.990]\n",
      "Validation: 0it [00:00, ?it/s]\u001B[A\n",
      "Validation:   0%|          | 0/13 [00:00<?, ?it/s]\u001B[A\n",
      "Validation DataLoader 0:   0%|          | 0/13 [00:00<?, ?it/s]\u001B[A\n",
      "Validation DataLoader 0:   8%|▊         | 1/13 [00:00<00:00, 21.74it/s]\u001B[A\n",
      "Validation DataLoader 0:  15%|█▌        | 2/13 [00:00<00:00, 20.20it/s]\u001B[A\n",
      "Validation DataLoader 0:  23%|██▎       | 3/13 [00:00<00:00, 18.87it/s]\u001B[A\n",
      "Validation DataLoader 0:  31%|███       | 4/13 [00:00<00:00, 18.87it/s]\u001B[A\n",
      "Validation DataLoader 0:  38%|███▊      | 5/13 [00:00<00:00, 18.12it/s]\u001B[A\n",
      "Validation DataLoader 0:  46%|████▌     | 6/13 [00:00<00:00, 18.99it/s]\u001B[A\n",
      "Validation DataLoader 0:  54%|█████▍    | 7/13 [00:00<00:00, 19.34it/s]\u001B[A\n",
      "Validation DataLoader 0:  62%|██████▏   | 8/13 [00:00<00:00, 19.95it/s]\u001B[A\n",
      "Validation DataLoader 0:  69%|██████▉   | 9/13 [00:00<00:00, 20.41it/s]\u001B[A\n",
      "Validation DataLoader 0:  77%|███████▋  | 10/13 [00:00<00:00, 21.01it/s]\u001B[A\n",
      "Validation DataLoader 0:  85%|████████▍ | 11/13 [00:00<00:00, 21.65it/s]\u001B[A\n",
      "Validation DataLoader 0:  92%|█████████▏| 12/13 [00:00<00:00, 21.39it/s]\u001B[A\n",
      "Epoch 14: 100%|██████████| 90/90 [00:35<00:00,  2.56it/s, v_num=0, train_loss_step=2.090, train_loss_epoch=1.990]\n",
      "Epoch 14: 100%|██████████| 90/90 [00:35<00:00,  2.56it/s, v_num=0, train_loss_step=2.090, train_loss_epoch=1.990]"
     ]
    },
    {
     "name": "stderr",
     "output_type": "stream",
     "text": [
      "Metric val_loss improved by 0.000 >= min_delta = 0.0. New best score: 1.978\n"
     ]
    },
    {
     "name": "stdout",
     "output_type": "stream",
     "text": [
      "Epoch 15: 100%|██████████| 90/90 [00:19<00:00,  4.52it/s, v_num=0, train_loss_step=1.930, train_loss_epoch=1.990]\n",
      "Validation: 0it [00:00, ?it/s]\u001B[A\n",
      "Validation:   0%|          | 0/13 [00:00<?, ?it/s]\u001B[A\n",
      "Validation DataLoader 0:   0%|          | 0/13 [00:00<?, ?it/s]\u001B[A\n",
      "Validation DataLoader 0:   8%|▊         | 1/13 [00:00<00:02,  5.82it/s]\u001B[A\n",
      "Validation DataLoader 0:  15%|█▌        | 2/13 [00:00<00:01,  6.43it/s]\u001B[A\n",
      "Validation DataLoader 0:  23%|██▎       | 3/13 [00:00<00:01,  8.84it/s]\u001B[A\n",
      "Validation DataLoader 0:  31%|███       | 4/13 [00:00<00:00, 10.84it/s]\u001B[A\n",
      "Validation DataLoader 0:  38%|███▊      | 5/13 [00:00<00:00, 12.65it/s]\u001B[A\n",
      "Validation DataLoader 0:  46%|████▌     | 6/13 [00:00<00:00, 14.24it/s]\u001B[A\n",
      "Validation DataLoader 0:  54%|█████▍    | 7/13 [00:00<00:00, 15.69it/s]\u001B[A\n",
      "Validation DataLoader 0:  62%|██████▏   | 8/13 [00:00<00:00, 16.94it/s]\u001B[A\n",
      "Validation DataLoader 0:  69%|██████▉   | 9/13 [00:00<00:00, 18.10it/s]\u001B[A\n",
      "Validation DataLoader 0:  77%|███████▋  | 10/13 [00:00<00:00, 19.04it/s]\u001B[A\n",
      "Validation DataLoader 0:  85%|████████▍ | 11/13 [00:00<00:00, 19.81it/s]\u001B[A\n",
      "Validation DataLoader 0:  92%|█████████▏| 12/13 [00:00<00:00, 20.54it/s]\u001B[A\n",
      "Epoch 15: 100%|██████████| 90/90 [00:36<00:00,  2.49it/s, v_num=0, train_loss_step=1.930, train_loss_epoch=1.990]\n",
      "Epoch 15: 100%|██████████| 90/90 [00:36<00:00,  2.49it/s, v_num=0, train_loss_step=1.930, train_loss_epoch=1.990]"
     ]
    },
    {
     "name": "stderr",
     "output_type": "stream",
     "text": [
      "Metric val_loss improved by 0.000 >= min_delta = 0.0. New best score: 1.978\n"
     ]
    },
    {
     "name": "stdout",
     "output_type": "stream",
     "text": [
      "Epoch 16: 100%|██████████| 90/90 [00:20<00:00,  4.39it/s, v_num=0, train_loss_step=1.990, train_loss_epoch=1.990]\n",
      "Validation: 0it [00:00, ?it/s]\u001B[A\n",
      "Validation:   0%|          | 0/13 [00:00<?, ?it/s]\u001B[A\n",
      "Validation DataLoader 0:   0%|          | 0/13 [00:00<?, ?it/s]\u001B[A\n",
      "Validation DataLoader 0:   8%|▊         | 1/13 [00:00<00:00, 15.38it/s]\u001B[A\n",
      "Validation DataLoader 0:  15%|█▌        | 2/13 [00:00<00:01, 10.76it/s]\u001B[A\n",
      "Validation DataLoader 0:  23%|██▎       | 3/13 [00:00<00:00, 11.23it/s]\u001B[A\n",
      "Validation DataLoader 0:  31%|███       | 4/13 [00:00<00:00, 13.60it/s]\u001B[A\n",
      "Validation DataLoader 0:  38%|███▊      | 5/13 [00:00<00:00, 15.54it/s]\u001B[A\n",
      "Validation DataLoader 0:  46%|████▌     | 6/13 [00:00<00:00, 17.09it/s]\u001B[A\n",
      "Validation DataLoader 0:  54%|█████▍    | 7/13 [00:00<00:00, 18.47it/s]\u001B[A\n",
      "Validation DataLoader 0:  62%|██████▏   | 8/13 [00:00<00:00, 19.80it/s]\u001B[A\n",
      "Validation DataLoader 0:  69%|██████▉   | 9/13 [00:00<00:00, 20.98it/s]\u001B[A\n",
      "Validation DataLoader 0:  77%|███████▋  | 10/13 [00:00<00:00, 22.02it/s]\u001B[A\n",
      "Validation DataLoader 0:  85%|████████▍ | 11/13 [00:00<00:00, 22.86it/s]\u001B[A\n",
      "Validation DataLoader 0:  92%|█████████▏| 12/13 [00:00<00:00, 22.34it/s]\u001B[A\n",
      "Epoch 16: 100%|██████████| 90/90 [00:35<00:00,  2.51it/s, v_num=0, train_loss_step=1.990, train_loss_epoch=1.990]\n",
      "Epoch 16: 100%|██████████| 90/90 [00:35<00:00,  2.51it/s, v_num=0, train_loss_step=1.990, train_loss_epoch=1.990]"
     ]
    },
    {
     "name": "stderr",
     "output_type": "stream",
     "text": [
      "Metric val_loss improved by 0.000 >= min_delta = 0.0. New best score: 1.978\n"
     ]
    },
    {
     "name": "stdout",
     "output_type": "stream",
     "text": [
      "Epoch 17: 100%|██████████| 90/90 [00:20<00:00,  4.48it/s, v_num=0, train_loss_step=2.090, train_loss_epoch=1.990]\n",
      "Validation: 0it [00:00, ?it/s]\u001B[A\n",
      "Validation:   0%|          | 0/13 [00:00<?, ?it/s]\u001B[A\n",
      "Validation DataLoader 0:   0%|          | 0/13 [00:00<?, ?it/s]\u001B[A\n",
      "Validation DataLoader 0:   8%|▊         | 1/13 [00:00<00:01,  8.55it/s]\u001B[A\n",
      "Validation DataLoader 0:  15%|█▌        | 2/13 [00:00<00:00, 11.36it/s]\u001B[A\n",
      "Validation DataLoader 0:  23%|██▎       | 3/13 [00:00<00:00, 11.73it/s]\u001B[A\n",
      "Validation DataLoader 0:  31%|███       | 4/13 [00:00<00:00, 14.14it/s]\u001B[A\n",
      "Validation DataLoader 0:  38%|███▊      | 5/13 [00:00<00:00, 16.14it/s]\u001B[A\n",
      "Validation DataLoader 0:  46%|████▌     | 6/13 [00:00<00:00, 17.81it/s]\u001B[A\n",
      "Validation DataLoader 0:  54%|█████▍    | 7/13 [00:00<00:00, 18.73it/s]\u001B[A\n",
      "Validation DataLoader 0:  62%|██████▏   | 8/13 [00:00<00:00, 19.96it/s]\u001B[A\n",
      "Validation DataLoader 0:  69%|██████▉   | 9/13 [00:00<00:00, 21.14it/s]\u001B[A\n",
      "Validation DataLoader 0:  77%|███████▋  | 10/13 [00:00<00:00, 22.13it/s]\u001B[A\n",
      "Validation DataLoader 0:  85%|████████▍ | 11/13 [00:00<00:00, 23.02it/s]\u001B[A\n",
      "Validation DataLoader 0:  92%|█████████▏| 12/13 [00:00<00:00, 23.04it/s]\u001B[A\n",
      "Epoch 17: 100%|██████████| 90/90 [00:35<00:00,  2.54it/s, v_num=0, train_loss_step=2.090, train_loss_epoch=1.990]\n",
      "Epoch 17: 100%|██████████| 90/90 [00:35<00:00,  2.54it/s, v_num=0, train_loss_step=2.090, train_loss_epoch=1.990]"
     ]
    },
    {
     "name": "stderr",
     "output_type": "stream",
     "text": [
      "Metric val_loss improved by 0.000 >= min_delta = 0.0. New best score: 1.978\n"
     ]
    },
    {
     "name": "stdout",
     "output_type": "stream",
     "text": [
      "Epoch 18: 100%|██████████| 90/90 [00:19<00:00,  4.52it/s, v_num=0, train_loss_step=1.990, train_loss_epoch=1.990]\n",
      "Validation: 0it [00:00, ?it/s]\u001B[A\n",
      "Validation:   0%|          | 0/13 [00:00<?, ?it/s]\u001B[A\n",
      "Validation DataLoader 0:   0%|          | 0/13 [00:00<?, ?it/s]\u001B[A\n",
      "Validation DataLoader 0:   8%|▊         | 1/13 [00:00<00:01,  8.15it/s]\u001B[A\n",
      "Validation DataLoader 0:  15%|█▌        | 2/13 [00:00<00:01,  9.96it/s]\u001B[A\n",
      "Validation DataLoader 0:  23%|██▎       | 3/13 [00:00<00:00, 11.85it/s]\u001B[A\n",
      "Validation DataLoader 0:  31%|███       | 4/13 [00:00<00:00, 13.29it/s]\u001B[A\n",
      "Validation DataLoader 0:  38%|███▊      | 5/13 [00:00<00:00, 15.29it/s]\u001B[A\n",
      "Validation DataLoader 0:  46%|████▌     | 6/13 [00:00<00:00, 16.90it/s]\u001B[A\n",
      "Validation DataLoader 0:  54%|█████▍    | 7/13 [00:00<00:00, 18.32it/s]\u001B[A\n",
      "Validation DataLoader 0:  62%|██████▏   | 8/13 [00:00<00:00, 19.65it/s]\u001B[A\n",
      "Validation DataLoader 0:  69%|██████▉   | 9/13 [00:00<00:00, 20.78it/s]\u001B[A\n",
      "Validation DataLoader 0:  77%|███████▋  | 10/13 [00:00<00:00, 21.78it/s]\u001B[A\n",
      "Validation DataLoader 0:  85%|████████▍ | 11/13 [00:00<00:00, 22.77it/s]\u001B[A\n",
      "Validation DataLoader 0:  92%|█████████▏| 12/13 [00:00<00:00, 22.18it/s]\u001B[A\n",
      "Epoch 18: 100%|██████████| 90/90 [00:35<00:00,  2.56it/s, v_num=0, train_loss_step=1.990, train_loss_epoch=1.990]\n",
      "Epoch 19: 100%|██████████| 90/90 [00:19<00:00,  4.51it/s, v_num=0, train_loss_step=2.090, train_loss_epoch=1.990]\n",
      "Validation: 0it [00:00, ?it/s]\u001B[A\n",
      "Validation:   0%|          | 0/13 [00:00<?, ?it/s]\u001B[A\n",
      "Validation DataLoader 0:   0%|          | 0/13 [00:00<?, ?it/s]\u001B[A\n",
      "Validation DataLoader 0:   8%|▊         | 1/13 [00:00<00:00, 12.35it/s]\u001B[A\n",
      "Validation DataLoader 0:  15%|█▌        | 2/13 [00:00<00:00, 11.56it/s]\u001B[A\n",
      "Validation DataLoader 0:  23%|██▎       | 3/13 [00:00<00:00, 12.88it/s]\u001B[A\n",
      "Validation DataLoader 0:  31%|███       | 4/13 [00:00<00:00, 15.38it/s]\u001B[A\n",
      "Validation DataLoader 0:  38%|███▊      | 5/13 [00:00<00:00, 17.30it/s]\u001B[A\n",
      "Validation DataLoader 0:  46%|████▌     | 6/13 [00:00<00:00, 18.93it/s]\u001B[A\n",
      "Validation DataLoader 0:  54%|█████▍    | 7/13 [00:00<00:00, 20.41it/s]\u001B[A\n",
      "Validation DataLoader 0:  62%|██████▏   | 8/13 [00:00<00:00, 21.68it/s]\u001B[A\n",
      "Validation DataLoader 0:  69%|██████▉   | 9/13 [00:00<00:00, 22.78it/s]\u001B[A\n",
      "Validation DataLoader 0:  77%|███████▋  | 10/13 [00:00<00:00, 23.81it/s]\u001B[A\n",
      "Validation DataLoader 0:  85%|████████▍ | 11/13 [00:00<00:00, 24.66it/s]\u001B[A\n",
      "Validation DataLoader 0:  92%|█████████▏| 12/13 [00:00<00:00, 22.06it/s]\u001B[A\n",
      "Epoch 19: 100%|██████████| 90/90 [00:35<00:00,  2.56it/s, v_num=0, train_loss_step=2.090, train_loss_epoch=1.990]\n",
      "Epoch 19: 100%|██████████| 90/90 [00:35<00:00,  2.56it/s, v_num=0, train_loss_step=2.090, train_loss_epoch=1.990]"
     ]
    },
    {
     "name": "stderr",
     "output_type": "stream",
     "text": [
      "Metric val_loss improved by 0.000 >= min_delta = 0.0. New best score: 1.978\n"
     ]
    },
    {
     "name": "stdout",
     "output_type": "stream",
     "text": [
      "Epoch 20: 100%|██████████| 90/90 [00:19<00:00,  4.51it/s, v_num=0, train_loss_step=1.930, train_loss_epoch=1.990]\n",
      "Validation: 0it [00:00, ?it/s]\u001B[A\n",
      "Validation:   0%|          | 0/13 [00:00<?, ?it/s]\u001B[A\n",
      "Validation DataLoader 0:   0%|          | 0/13 [00:00<?, ?it/s]\u001B[A\n",
      "Validation DataLoader 0:   8%|▊         | 1/13 [00:00<00:01,  6.37it/s]\u001B[A\n",
      "Validation DataLoader 0:  15%|█▌        | 2/13 [00:00<00:01, 10.70it/s]\u001B[A\n",
      "Validation DataLoader 0:  23%|██▎       | 3/13 [00:00<00:00, 14.22it/s]\u001B[A\n",
      "Validation DataLoader 0:  31%|███       | 4/13 [00:00<00:00, 16.95it/s]\u001B[A\n",
      "Validation DataLoader 0:  38%|███▊      | 5/13 [00:00<00:00, 19.16it/s]\u001B[A\n",
      "Validation DataLoader 0:  46%|████▌     | 6/13 [00:00<00:00, 20.91it/s]\u001B[A\n",
      "Validation DataLoader 0:  54%|█████▍    | 7/13 [00:00<00:00, 20.92it/s]\u001B[A\n",
      "Validation DataLoader 0:  62%|██████▏   | 8/13 [00:00<00:00, 19.34it/s]\u001B[A\n",
      "Validation DataLoader 0:  69%|██████▉   | 9/13 [00:00<00:00, 20.52it/s]\u001B[A\n",
      "Validation DataLoader 0:  77%|███████▋  | 10/13 [00:00<00:00, 21.57it/s]\u001B[A\n",
      "Validation DataLoader 0:  85%|████████▍ | 11/13 [00:00<00:00, 22.47it/s]\u001B[A\n",
      "Validation DataLoader 0:  92%|█████████▏| 12/13 [00:00<00:00, 22.53it/s]\u001B[A\n",
      "Epoch 20: 100%|██████████| 90/90 [00:35<00:00,  2.55it/s, v_num=0, train_loss_step=1.930, train_loss_epoch=1.990]\n",
      "Epoch 21: 100%|██████████| 90/90 [00:20<00:00,  4.46it/s, v_num=0, train_loss_step=1.930, train_loss_epoch=1.990]\n",
      "Validation: 0it [00:00, ?it/s]\u001B[A\n",
      "Validation:   0%|          | 0/13 [00:00<?, ?it/s]\u001B[A\n",
      "Validation DataLoader 0:   0%|          | 0/13 [00:00<?, ?it/s]\u001B[A\n",
      "Validation DataLoader 0:   8%|▊         | 1/13 [00:00<00:01, 11.36it/s]\u001B[A\n",
      "Validation DataLoader 0:  15%|█▌        | 2/13 [00:00<00:00, 12.99it/s]\u001B[A\n",
      "Validation DataLoader 0:  23%|██▎       | 3/13 [00:00<00:00, 13.10it/s]\u001B[A\n",
      "Validation DataLoader 0:  31%|███       | 4/13 [00:00<00:00, 13.79it/s]\u001B[A\n",
      "Validation DataLoader 0:  38%|███▊      | 5/13 [00:00<00:00, 14.93it/s]\u001B[A\n",
      "Validation DataLoader 0:  46%|████▌     | 6/13 [00:00<00:00, 16.48it/s]\u001B[A\n",
      "Validation DataLoader 0:  54%|█████▍    | 7/13 [00:00<00:00, 17.99it/s]\u001B[A\n",
      "Validation DataLoader 0:  62%|██████▏   | 8/13 [00:00<00:00, 19.32it/s]\u001B[A\n",
      "Validation DataLoader 0:  69%|██████▉   | 9/13 [00:00<00:00, 20.45it/s]\u001B[A\n",
      "Validation DataLoader 0:  77%|███████▋  | 10/13 [00:00<00:00, 21.51it/s]\u001B[A\n",
      "Validation DataLoader 0:  85%|████████▍ | 11/13 [00:00<00:00, 22.40it/s]\u001B[A\n",
      "Validation DataLoader 0:  92%|█████████▏| 12/13 [00:00<00:00, 23.21it/s]\u001B[A\n",
      "Epoch 21: 100%|██████████| 90/90 [00:35<00:00,  2.54it/s, v_num=0, train_loss_step=1.930, train_loss_epoch=1.990]\n",
      "Epoch 21: 100%|██████████| 90/90 [00:35<00:00,  2.54it/s, v_num=0, train_loss_step=1.930, train_loss_epoch=1.990]"
     ]
    },
    {
     "name": "stderr",
     "output_type": "stream",
     "text": [
      "Metric val_loss improved by 0.000 >= min_delta = 0.0. New best score: 1.978\n"
     ]
    },
    {
     "name": "stdout",
     "output_type": "stream",
     "text": [
      "Epoch 22: 100%|██████████| 90/90 [00:20<00:00,  4.48it/s, v_num=0, train_loss_step=1.990, train_loss_epoch=1.990]\n",
      "Validation: 0it [00:00, ?it/s]\u001B[A\n",
      "Validation:   0%|          | 0/13 [00:00<?, ?it/s]\u001B[A\n",
      "Validation DataLoader 0:   0%|          | 0/13 [00:00<?, ?it/s]\u001B[A\n",
      "Validation DataLoader 0:   8%|▊         | 1/13 [00:00<00:01,  9.94it/s]\u001B[A\n",
      "Validation DataLoader 0:  15%|█▌        | 2/13 [00:00<00:01,  9.81it/s]\u001B[A\n",
      "Validation DataLoader 0:  23%|██▎       | 3/13 [00:00<00:00, 12.50it/s]\u001B[A\n",
      "Validation DataLoader 0:  31%|███       | 4/13 [00:00<00:00, 13.51it/s]\u001B[A\n",
      "Validation DataLoader 0:  38%|███▊      | 5/13 [00:00<00:00, 15.06it/s]\u001B[A\n",
      "Validation DataLoader 0:  46%|████▌     | 6/13 [00:00<00:00, 16.13it/s]\u001B[A\n",
      "Validation DataLoader 0:  54%|█████▍    | 7/13 [00:00<00:00, 17.16it/s]\u001B[A\n",
      "Validation DataLoader 0:  62%|██████▏   | 8/13 [00:00<00:00, 17.78it/s]\u001B[A\n",
      "Validation DataLoader 0:  69%|██████▉   | 9/13 [00:00<00:00, 18.48it/s]\u001B[A\n",
      "Validation DataLoader 0:  77%|███████▋  | 10/13 [00:00<00:00, 18.94it/s]\u001B[A\n",
      "Validation DataLoader 0:  85%|████████▍ | 11/13 [00:00<00:00, 19.37it/s]\u001B[A\n",
      "Validation DataLoader 0:  92%|█████████▏| 12/13 [00:00<00:00, 19.61it/s]\u001B[A\n",
      "Epoch 22: 100%|██████████| 90/90 [00:35<00:00,  2.53it/s, v_num=0, train_loss_step=1.990, train_loss_epoch=1.990]\n",
      "Epoch 22: 100%|██████████| 90/90 [00:35<00:00,  2.53it/s, v_num=0, train_loss_step=1.990, train_loss_epoch=1.990]"
     ]
    },
    {
     "name": "stderr",
     "output_type": "stream",
     "text": [
      "Metric val_loss improved by 0.000 >= min_delta = 0.0. New best score: 1.978\n"
     ]
    },
    {
     "name": "stdout",
     "output_type": "stream",
     "text": [
      "Epoch 23: 100%|██████████| 90/90 [00:20<00:00,  4.50it/s, v_num=0, train_loss_step=2.040, train_loss_epoch=1.990]\n",
      "Validation: 0it [00:00, ?it/s]\u001B[A\n",
      "Validation:   0%|          | 0/13 [00:00<?, ?it/s]\u001B[A\n",
      "Validation DataLoader 0:   0%|          | 0/13 [00:00<?, ?it/s]\u001B[A\n",
      "Validation DataLoader 0:   8%|▊         | 1/13 [00:00<00:01,  7.55it/s]\u001B[A\n",
      "Validation DataLoader 0:  15%|█▌        | 2/13 [00:00<00:01,  8.20it/s]\u001B[A\n",
      "Validation DataLoader 0:  23%|██▎       | 3/13 [00:00<00:01,  9.89it/s]\u001B[A\n",
      "Validation DataLoader 0:  31%|███       | 4/13 [00:00<00:00, 12.16it/s]\u001B[A\n",
      "Validation DataLoader 0:  38%|███▊      | 5/13 [00:00<00:00, 14.01it/s]\u001B[A\n",
      "Validation DataLoader 0:  46%|████▌     | 6/13 [00:00<00:00, 15.71it/s]\u001B[A\n",
      "Validation DataLoader 0:  54%|█████▍    | 7/13 [00:00<00:00, 17.08it/s]\u001B[A\n",
      "Validation DataLoader 0:  62%|██████▏   | 8/13 [00:00<00:00, 18.27it/s]\u001B[A\n",
      "Validation DataLoader 0:  69%|██████▉   | 9/13 [00:00<00:00, 19.40it/s]\u001B[A\n",
      "Validation DataLoader 0:  77%|███████▋  | 10/13 [00:00<00:00, 20.41it/s]\u001B[A\n",
      "Validation DataLoader 0:  85%|████████▍ | 11/13 [00:00<00:00, 21.37it/s]\u001B[A\n",
      "Validation DataLoader 0:  92%|█████████▏| 12/13 [00:00<00:00, 22.23it/s]\u001B[A\n",
      "Epoch 23: 100%|██████████| 90/90 [00:35<00:00,  2.56it/s, v_num=0, train_loss_step=2.040, train_loss_epoch=1.990]\n",
      "Epoch 24: 100%|██████████| 90/90 [00:19<00:00,  4.52it/s, v_num=0, train_loss_step=1.830, train_loss_epoch=1.990]\n",
      "Validation: 0it [00:00, ?it/s]\u001B[A\n",
      "Validation:   0%|          | 0/13 [00:00<?, ?it/s]\u001B[A\n",
      "Validation DataLoader 0:   0%|          | 0/13 [00:00<?, ?it/s]\u001B[A\n",
      "Validation DataLoader 0:   8%|▊         | 1/13 [00:00<00:01, 11.94it/s]\u001B[A\n",
      "Validation DataLoader 0:  15%|█▌        | 2/13 [00:00<00:00, 13.80it/s]\u001B[A\n",
      "Validation DataLoader 0:  23%|██▎       | 3/13 [00:00<00:00, 17.15it/s]\u001B[A\n",
      "Validation DataLoader 0:  31%|███       | 4/13 [00:00<00:00, 19.81it/s]\u001B[A\n",
      "Validation DataLoader 0:  38%|███▊      | 5/13 [00:00<00:00, 22.04it/s]\u001B[A\n",
      "Validation DataLoader 0:  46%|████▌     | 6/13 [00:00<00:00, 23.82it/s]\u001B[A\n",
      "Validation DataLoader 0:  54%|█████▍    | 7/13 [00:00<00:00, 18.91it/s]\u001B[A\n",
      "Validation DataLoader 0:  62%|██████▏   | 8/13 [00:00<00:00, 20.25it/s]\u001B[A\n",
      "Validation DataLoader 0:  69%|██████▉   | 9/13 [00:00<00:00, 21.42it/s]\u001B[A\n",
      "Validation DataLoader 0:  77%|███████▋  | 10/13 [00:00<00:00, 22.47it/s]\u001B[A\n",
      "Validation DataLoader 0:  85%|████████▍ | 11/13 [00:00<00:00, 23.45it/s]\u001B[A\n",
      "Validation DataLoader 0:  92%|█████████▏| 12/13 [00:00<00:00, 24.24it/s]\u001B[A\n",
      "Epoch 24: 100%|██████████| 90/90 [00:35<00:00,  2.55it/s, v_num=0, train_loss_step=1.830, train_loss_epoch=1.990]\n",
      "Epoch 25: 100%|██████████| 90/90 [00:19<00:00,  4.51it/s, v_num=0, train_loss_step=1.930, train_loss_epoch=1.990]\n",
      "Validation: 0it [00:00, ?it/s]\u001B[A\n",
      "Validation:   0%|          | 0/13 [00:00<?, ?it/s]\u001B[A\n",
      "Validation DataLoader 0:   0%|          | 0/13 [00:00<?, ?it/s]\u001B[A\n",
      "Validation DataLoader 0:   8%|▊         | 1/13 [00:00<00:01,  7.80it/s]\u001B[A\n",
      "Validation DataLoader 0:  15%|█▌        | 2/13 [00:00<00:01, 10.16it/s]\u001B[A\n",
      "Validation DataLoader 0:  23%|██▎       | 3/13 [00:00<00:00, 11.72it/s]\u001B[A\n",
      "Validation DataLoader 0:  31%|███       | 4/13 [00:00<00:00, 13.99it/s]\u001B[A\n",
      "Validation DataLoader 0:  38%|███▊      | 5/13 [00:00<00:00, 16.08it/s]\u001B[A\n",
      "Validation DataLoader 0:  46%|████▌     | 6/13 [00:00<00:00, 17.70it/s]\u001B[A\n",
      "Validation DataLoader 0:  54%|█████▍    | 7/13 [00:00<00:00, 18.64it/s]\u001B[A\n",
      "Validation DataLoader 0:  62%|██████▏   | 8/13 [00:00<00:00, 19.97it/s]\u001B[A\n",
      "Validation DataLoader 0:  69%|██████▉   | 9/13 [00:00<00:00, 21.15it/s]\u001B[A\n",
      "Validation DataLoader 0:  77%|███████▋  | 10/13 [00:00<00:00, 22.15it/s]\u001B[A\n",
      "Validation DataLoader 0:  85%|████████▍ | 11/13 [00:00<00:00, 23.08it/s]\u001B[A\n",
      "Validation DataLoader 0:  92%|█████████▏| 12/13 [00:00<00:00, 23.93it/s]\u001B[A\n",
      "Epoch 25: 100%|██████████| 90/90 [00:35<00:00,  2.55it/s, v_num=0, train_loss_step=1.930, train_loss_epoch=1.990]\n",
      "Epoch 25: 100%|██████████| 90/90 [00:35<00:00,  2.55it/s, v_num=0, train_loss_step=1.930, train_loss_epoch=1.990]"
     ]
    },
    {
     "name": "stderr",
     "output_type": "stream",
     "text": [
      "Monitored metric val_loss did not improve in the last 3 records. Best score: 1.978. Signaling Trainer to stop.\n"
     ]
    },
    {
     "name": "stdout",
     "output_type": "stream",
     "text": [
      "Epoch 25: 100%|██████████| 90/90 [00:35<00:00,  2.55it/s, v_num=0, train_loss_step=1.930, train_loss_epoch=1.990]\n"
     ]
    },
    {
     "name": "stderr",
     "output_type": "stream",
     "text": [
      "Restoring states from the checkpoint path at cnn_lstm\\lightning_logs\\version_0\\checkpoints\\epoch=25-step=2340.ckpt\n",
      "LOCAL_RANK: 0 - CUDA_VISIBLE_DEVICES: [0]\n",
      "Loaded model weights from the checkpoint at cnn_lstm\\lightning_logs\\version_0\\checkpoints\\epoch=25-step=2340.ckpt\n"
     ]
    },
    {
     "name": "stdout",
     "output_type": "stream",
     "text": [
      "Testing DataLoader 0: 100%|██████████| 26/26 [00:01<00:00, 16.61it/s]\n"
     ]
    },
    {
     "data": {
      "text/plain": "┏━━━━━━━━━━━━━━━━━━━━━━━━━━━┳━━━━━━━━━━━━━━━━━━━━━━━━━━━┓\n┃\u001B[1m \u001B[0m\u001B[1m       Test metric       \u001B[0m\u001B[1m \u001B[0m┃\u001B[1m \u001B[0m\u001B[1m      DataLoader 0       \u001B[0m\u001B[1m \u001B[0m┃\n┡━━━━━━━━━━━━━━━━━━━━━━━━━━━╇━━━━━━━━━━━━━━━━━━━━━━━━━━━┩\n│\u001B[36m \u001B[0m\u001B[36m        test_acc         \u001B[0m\u001B[36m \u001B[0m│\u001B[35m \u001B[0m\u001B[35m   0.6284551620483398    \u001B[0m\u001B[35m \u001B[0m│\n│\u001B[36m \u001B[0m\u001B[36m        test_loss        \u001B[0m\u001B[36m \u001B[0m│\u001B[35m \u001B[0m\u001B[35m   1.9903136491775513    \u001B[0m\u001B[35m \u001B[0m│\n└───────────────────────────┴───────────────────────────┘\n",
      "text/html": "<pre style=\"white-space:pre;overflow-x:auto;line-height:normal;font-family:Menlo,'DejaVu Sans Mono',consolas,'Courier New',monospace\">┏━━━━━━━━━━━━━━━━━━━━━━━━━━━┳━━━━━━━━━━━━━━━━━━━━━━━━━━━┓\n┃<span style=\"font-weight: bold\">        Test metric        </span>┃<span style=\"font-weight: bold\">       DataLoader 0        </span>┃\n┡━━━━━━━━━━━━━━━━━━━━━━━━━━━╇━━━━━━━━━━━━━━━━━━━━━━━━━━━┩\n│<span style=\"color: #008080; text-decoration-color: #008080\">         test_acc          </span>│<span style=\"color: #800080; text-decoration-color: #800080\">    0.6284551620483398     </span>│\n│<span style=\"color: #008080; text-decoration-color: #008080\">         test_loss         </span>│<span style=\"color: #800080; text-decoration-color: #800080\">    1.9903136491775513     </span>│\n└───────────────────────────┴───────────────────────────┘\n</pre>\n"
     },
     "metadata": {},
     "output_type": "display_data"
    },
    {
     "name": "stderr",
     "output_type": "stream",
     "text": [
      "Restoring states from the checkpoint path at cnn_lstm\\lightning_logs\\version_0\\checkpoints\\epoch=25-step=2340.ckpt\n",
      "LOCAL_RANK: 0 - CUDA_VISIBLE_DEVICES: [0]\n",
      "Loaded model weights from the checkpoint at cnn_lstm\\lightning_logs\\version_0\\checkpoints\\epoch=25-step=2340.ckpt\n"
     ]
    },
    {
     "name": "stdout",
     "output_type": "stream",
     "text": [
      "Predicting DataLoader 0: 100%|██████████| 26/26 [00:01<00:00, 17.99it/s]\n"
     ]
    },
    {
     "name": "stderr",
     "output_type": "stream",
     "text": [
      "Global seed set to 1\n",
      "GPU available: True (cuda), used: True\n",
      "TPU available: False, using: 0 TPU cores\n",
      "IPU available: False, using: 0 IPUs\n",
      "HPU available: False, using: 0 HPUs\n",
      "LOCAL_RANK: 0 - CUDA_VISIBLE_DEVICES: [0]\n",
      "\n",
      "  | Name          | Type                      | Params\n",
      "------------------------------------------------------------\n",
      "0 | conv          | Conv1d                    | 288   \n",
      "1 | lstm          | LSTM                      | 325 K \n",
      "2 | hidden2label  | Linear                    | 1.5 K \n",
      "3 | softmax       | Softmax                   | 0     \n",
      "4 | train_acc     | MulticlassAccuracy        | 0     \n",
      "5 | valid_acc     | MulticlassAccuracy        | 0     \n",
      "6 | test_acc      | MulticlassAccuracy        | 0     \n",
      "7 | test_conf_mat | MulticlassConfusionMatrix | 0     \n",
      "------------------------------------------------------------\n",
      "327 K     Trainable params\n",
      "0         Non-trainable params\n",
      "327 K     Total params\n",
      "1.310     Total estimated model params size (MB)\n"
     ]
    },
    {
     "name": "stdout",
     "output_type": "stream",
     "text": [
      "Epoch 0: 100%|██████████| 90/90 [00:19<00:00,  4.50it/s, v_num=1, train_loss_step=1.880]\n",
      "Validation: 0it [00:00, ?it/s]\u001B[A\n",
      "Validation:   0%|          | 0/13 [00:00<?, ?it/s]\u001B[A\n",
      "Validation DataLoader 0:   0%|          | 0/13 [00:00<?, ?it/s]\u001B[A\n",
      "Validation DataLoader 0:   8%|▊         | 1/13 [00:00<00:01,  7.93it/s]\u001B[A\n",
      "Validation DataLoader 0:  15%|█▌        | 2/13 [00:00<00:01,  8.07it/s]\u001B[A\n",
      "Validation DataLoader 0:  23%|██▎       | 3/13 [00:00<00:00, 10.72it/s]\u001B[A\n",
      "Validation DataLoader 0:  31%|███       | 4/13 [00:00<00:00, 13.04it/s]\u001B[A\n",
      "Validation DataLoader 0:  38%|███▊      | 5/13 [00:00<00:00, 14.89it/s]\u001B[A\n",
      "Validation DataLoader 0:  46%|████▌     | 6/13 [00:00<00:00, 16.59it/s]\u001B[A\n",
      "Validation DataLoader 0:  54%|█████▍    | 7/13 [00:00<00:00, 18.01it/s]\u001B[A\n",
      "Validation DataLoader 0:  62%|██████▏   | 8/13 [00:00<00:00, 19.33it/s]\u001B[A\n",
      "Validation DataLoader 0:  69%|██████▉   | 9/13 [00:00<00:00, 20.47it/s]\u001B[A\n",
      "Validation DataLoader 0:  77%|███████▋  | 10/13 [00:00<00:00, 21.20it/s]\u001B[A\n",
      "Validation DataLoader 0:  85%|████████▍ | 11/13 [00:00<00:00, 22.01it/s]\u001B[A\n",
      "Validation DataLoader 0:  92%|█████████▏| 12/13 [00:00<00:00, 22.74it/s]\u001B[A\n",
      "Epoch 0: 100%|██████████| 90/90 [00:35<00:00,  2.56it/s, v_num=1, train_loss_step=1.880]\n",
      "Epoch 0: 100%|██████████| 90/90 [00:35<00:00,  2.56it/s, v_num=1, train_loss_step=1.880, train_loss_epoch=2.040]"
     ]
    },
    {
     "name": "stderr",
     "output_type": "stream",
     "text": [
      "Metric val_loss improved. New best score: 1.979\n"
     ]
    },
    {
     "name": "stdout",
     "output_type": "stream",
     "text": [
      "Epoch 1: 100%|██████████| 90/90 [00:19<00:00,  4.52it/s, v_num=1, train_loss_step=1.880, train_loss_epoch=2.040]\n",
      "Validation: 0it [00:00, ?it/s]\u001B[A\n",
      "Validation:   0%|          | 0/13 [00:00<?, ?it/s]\u001B[A\n",
      "Validation DataLoader 0:   0%|          | 0/13 [00:00<?, ?it/s]\u001B[A\n",
      "Validation DataLoader 0:   8%|▊         | 1/13 [00:00<00:01,  8.13it/s]\u001B[A\n",
      "Validation DataLoader 0:  15%|█▌        | 2/13 [00:00<00:01,  8.58it/s]\u001B[A\n",
      "Validation DataLoader 0:  23%|██▎       | 3/13 [00:00<00:00, 10.98it/s]\u001B[A\n",
      "Validation DataLoader 0:  31%|███       | 4/13 [00:00<00:00, 13.19it/s]\u001B[A\n",
      "Validation DataLoader 0:  38%|███▊      | 5/13 [00:00<00:00, 15.05it/s]\u001B[A\n",
      "Validation DataLoader 0:  46%|████▌     | 6/13 [00:00<00:00, 16.75it/s]\u001B[A\n",
      "Validation DataLoader 0:  54%|█████▍    | 7/13 [00:00<00:00, 18.08it/s]\u001B[A\n",
      "Validation DataLoader 0:  62%|██████▏   | 8/13 [00:00<00:00, 19.31it/s]\u001B[A\n",
      "Validation DataLoader 0:  69%|██████▉   | 9/13 [00:00<00:00, 20.49it/s]\u001B[A\n",
      "Validation DataLoader 0:  77%|███████▋  | 10/13 [00:00<00:00, 21.49it/s]\u001B[A\n",
      "Validation DataLoader 0:  85%|████████▍ | 11/13 [00:00<00:00, 22.17it/s]\u001B[A\n",
      "Validation DataLoader 0:  92%|█████████▏| 12/13 [00:00<00:00, 23.02it/s]\u001B[A\n",
      "Epoch 1: 100%|██████████| 90/90 [00:35<00:00,  2.56it/s, v_num=1, train_loss_step=1.880, train_loss_epoch=2.040]\n",
      "Epoch 1: 100%|██████████| 90/90 [00:35<00:00,  2.56it/s, v_num=1, train_loss_step=1.880, train_loss_epoch=1.990]"
     ]
    },
    {
     "name": "stderr",
     "output_type": "stream",
     "text": [
      "Metric val_loss improved by 0.001 >= min_delta = 0.0. New best score: 1.978\n"
     ]
    },
    {
     "name": "stdout",
     "output_type": "stream",
     "text": [
      "Epoch 2: 100%|██████████| 90/90 [00:20<00:00,  4.49it/s, v_num=1, train_loss_step=2.200, train_loss_epoch=1.990]\n",
      "Validation: 0it [00:00, ?it/s]\u001B[A\n",
      "Validation:   0%|          | 0/13 [00:00<?, ?it/s]\u001B[A\n",
      "Validation DataLoader 0:   0%|          | 0/13 [00:00<?, ?it/s]\u001B[A\n",
      "Validation DataLoader 0:   8%|▊         | 1/13 [00:00<00:01, 10.28it/s]\u001B[A\n",
      "Validation DataLoader 0:  15%|█▌        | 2/13 [00:00<00:00, 12.11it/s]\u001B[A\n",
      "Validation DataLoader 0:  23%|██▎       | 3/13 [00:00<00:00, 11.81it/s]\u001B[A\n",
      "Validation DataLoader 0:  31%|███       | 4/13 [00:00<00:00, 14.03it/s]\u001B[A\n",
      "Validation DataLoader 0:  38%|███▊      | 5/13 [00:00<00:00, 16.02it/s]\u001B[A\n",
      "Validation DataLoader 0:  46%|████▌     | 6/13 [00:00<00:00, 17.69it/s]\u001B[A\n",
      "Validation DataLoader 0:  54%|█████▍    | 7/13 [00:00<00:00, 17.71it/s]\u001B[A\n",
      "Validation DataLoader 0:  62%|██████▏   | 8/13 [00:00<00:00, 19.04it/s]\u001B[A\n",
      "Validation DataLoader 0:  69%|██████▉   | 9/13 [00:00<00:00, 20.17it/s]\u001B[A\n",
      "Validation DataLoader 0:  77%|███████▋  | 10/13 [00:00<00:00, 21.22it/s]\u001B[A\n",
      "Validation DataLoader 0:  85%|████████▍ | 11/13 [00:00<00:00, 22.12it/s]\u001B[A\n",
      "Validation DataLoader 0:  92%|█████████▏| 12/13 [00:00<00:00, 22.89it/s]\u001B[A\n",
      "Epoch 2: 100%|██████████| 90/90 [00:35<00:00,  2.54it/s, v_num=1, train_loss_step=2.200, train_loss_epoch=1.990]\n",
      "Epoch 2: 100%|██████████| 90/90 [00:35<00:00,  2.54it/s, v_num=1, train_loss_step=2.200, train_loss_epoch=1.990]"
     ]
    },
    {
     "name": "stderr",
     "output_type": "stream",
     "text": [
      "Metric val_loss improved by 0.000 >= min_delta = 0.0. New best score: 1.978\n"
     ]
    },
    {
     "name": "stdout",
     "output_type": "stream",
     "text": [
      "Epoch 3: 100%|██████████| 90/90 [00:20<00:00,  4.47it/s, v_num=1, train_loss_step=1.880, train_loss_epoch=1.990]\n",
      "Validation: 0it [00:00, ?it/s]\u001B[A\n",
      "Validation:   0%|          | 0/13 [00:00<?, ?it/s]\u001B[A\n",
      "Validation DataLoader 0:   0%|          | 0/13 [00:00<?, ?it/s]\u001B[A\n",
      "Validation DataLoader 0:   8%|▊         | 1/13 [00:00<00:02,  5.65it/s]\u001B[A\n",
      "Validation DataLoader 0:  15%|█▌        | 2/13 [00:00<00:01,  9.85it/s]\u001B[A\n",
      "Validation DataLoader 0:  23%|██▎       | 3/13 [00:00<00:00, 13.10it/s]\u001B[A\n",
      "Validation DataLoader 0:  31%|███       | 4/13 [00:00<00:00, 15.50it/s]\u001B[A\n",
      "Validation DataLoader 0:  38%|███▊      | 5/13 [00:00<00:00, 17.42it/s]\u001B[A\n",
      "Validation DataLoader 0:  46%|████▌     | 6/13 [00:00<00:00, 18.86it/s]\u001B[A\n",
      "Validation DataLoader 0:  54%|█████▍    | 7/13 [00:00<00:00, 18.66it/s]\u001B[A\n",
      "Validation DataLoader 0:  62%|██████▏   | 8/13 [00:00<00:00, 19.95it/s]\u001B[A\n",
      "Validation DataLoader 0:  69%|██████▉   | 9/13 [00:00<00:00, 21.03it/s]\u001B[A\n",
      "Validation DataLoader 0:  77%|███████▋  | 10/13 [00:00<00:00, 22.07it/s]\u001B[A\n",
      "Validation DataLoader 0:  85%|████████▍ | 11/13 [00:00<00:00, 23.01it/s]\u001B[A\n",
      "Validation DataLoader 0:  92%|█████████▏| 12/13 [00:00<00:00, 23.90it/s]\u001B[A\n",
      "Epoch 3: 100%|██████████| 90/90 [00:35<00:00,  2.54it/s, v_num=1, train_loss_step=1.880, train_loss_epoch=1.990]\n",
      "Epoch 3: 100%|██████████| 90/90 [00:35<00:00,  2.54it/s, v_num=1, train_loss_step=1.880, train_loss_epoch=1.990]"
     ]
    },
    {
     "name": "stderr",
     "output_type": "stream",
     "text": [
      "Metric val_loss improved by 0.000 >= min_delta = 0.0. New best score: 1.978\n"
     ]
    },
    {
     "name": "stdout",
     "output_type": "stream",
     "text": [
      "Epoch 4: 100%|██████████| 90/90 [00:19<00:00,  4.52it/s, v_num=1, train_loss_step=1.670, train_loss_epoch=1.990]\n",
      "Validation: 0it [00:00, ?it/s]\u001B[A\n",
      "Validation:   0%|          | 0/13 [00:00<?, ?it/s]\u001B[A\n",
      "Validation DataLoader 0:   0%|          | 0/13 [00:00<?, ?it/s]\u001B[A\n",
      "Validation DataLoader 0:   8%|▊         | 1/13 [00:00<00:01,  8.81it/s]\u001B[A\n",
      "Validation DataLoader 0:  15%|█▌        | 2/13 [00:00<00:01, 10.92it/s]\u001B[A\n",
      "Validation DataLoader 0:  23%|██▎       | 3/13 [00:00<00:00, 14.32it/s]\u001B[A\n",
      "Validation DataLoader 0:  31%|███       | 4/13 [00:00<00:00, 16.98it/s]\u001B[A\n",
      "Validation DataLoader 0:  38%|███▊      | 5/13 [00:00<00:00, 19.12it/s]\u001B[A\n",
      "Validation DataLoader 0:  46%|████▌     | 6/13 [00:00<00:00, 20.87it/s]\u001B[A\n",
      "Validation DataLoader 0:  54%|█████▍    | 7/13 [00:00<00:00, 19.63it/s]\u001B[A\n",
      "Validation DataLoader 0:  62%|██████▏   | 8/13 [00:00<00:00, 20.94it/s]\u001B[A\n",
      "Validation DataLoader 0:  69%|██████▉   | 9/13 [00:00<00:00, 22.05it/s]\u001B[A\n",
      "Validation DataLoader 0:  77%|███████▋  | 10/13 [00:00<00:00, 23.14it/s]\u001B[A\n",
      "Validation DataLoader 0:  85%|████████▍ | 11/13 [00:00<00:00, 24.01it/s]\u001B[A\n",
      "Validation DataLoader 0:  92%|█████████▏| 12/13 [00:00<00:00, 24.78it/s]\u001B[A\n",
      "Epoch 4: 100%|██████████| 90/90 [00:35<00:00,  2.56it/s, v_num=1, train_loss_step=1.670, train_loss_epoch=1.990]\n",
      "Epoch 4: 100%|██████████| 90/90 [00:35<00:00,  2.56it/s, v_num=1, train_loss_step=1.670, train_loss_epoch=1.990]"
     ]
    },
    {
     "name": "stderr",
     "output_type": "stream",
     "text": [
      "Metric val_loss improved by 0.000 >= min_delta = 0.0. New best score: 1.978\n"
     ]
    },
    {
     "name": "stdout",
     "output_type": "stream",
     "text": [
      "Epoch 5: 100%|██████████| 90/90 [00:19<00:00,  4.51it/s, v_num=1, train_loss_step=1.830, train_loss_epoch=1.990]\n",
      "Validation: 0it [00:00, ?it/s]\u001B[A\n",
      "Validation:   0%|          | 0/13 [00:00<?, ?it/s]\u001B[A\n",
      "Validation DataLoader 0:   0%|          | 0/13 [00:00<?, ?it/s]\u001B[A\n",
      "Validation DataLoader 0:   8%|▊         | 1/13 [00:00<00:01,  7.63it/s]\u001B[A\n",
      "Validation DataLoader 0:  15%|█▌        | 2/13 [00:00<00:01,  9.26it/s]\u001B[A\n",
      "Validation DataLoader 0:  23%|██▎       | 3/13 [00:00<00:00, 12.24it/s]\u001B[A\n",
      "Validation DataLoader 0:  31%|███       | 4/13 [00:00<00:00, 14.76it/s]\u001B[A\n",
      "Validation DataLoader 0:  38%|███▊      | 5/13 [00:00<00:00, 16.78it/s]\u001B[A\n",
      "Validation DataLoader 0:  46%|████▌     | 6/13 [00:00<00:00, 18.52it/s]\u001B[A\n",
      "Validation DataLoader 0:  54%|█████▍    | 7/13 [00:00<00:00, 19.02it/s]\u001B[A\n",
      "Validation DataLoader 0:  62%|██████▏   | 8/13 [00:00<00:00, 20.35it/s]\u001B[A\n",
      "Validation DataLoader 0:  69%|██████▉   | 9/13 [00:00<00:00, 21.43it/s]\u001B[A\n",
      "Validation DataLoader 0:  77%|███████▋  | 10/13 [00:00<00:00, 22.42it/s]\u001B[A\n",
      "Validation DataLoader 0:  85%|████████▍ | 11/13 [00:00<00:00, 23.35it/s]\u001B[A\n",
      "Validation DataLoader 0:  92%|█████████▏| 12/13 [00:00<00:00, 24.19it/s]\u001B[A\n",
      "Epoch 5: 100%|██████████| 90/90 [00:35<00:00,  2.55it/s, v_num=1, train_loss_step=1.830, train_loss_epoch=1.990]\n",
      "Epoch 5: 100%|██████████| 90/90 [00:35<00:00,  2.55it/s, v_num=1, train_loss_step=1.830, train_loss_epoch=1.990]"
     ]
    },
    {
     "name": "stderr",
     "output_type": "stream",
     "text": [
      "Metric val_loss improved by 0.000 >= min_delta = 0.0. New best score: 1.978\n"
     ]
    },
    {
     "name": "stdout",
     "output_type": "stream",
     "text": [
      "Epoch 6: 100%|██████████| 90/90 [00:19<00:00,  4.52it/s, v_num=1, train_loss_step=2.090, train_loss_epoch=1.990]\n",
      "Validation: 0it [00:00, ?it/s]\u001B[A\n",
      "Validation:   0%|          | 0/13 [00:00<?, ?it/s]\u001B[A\n",
      "Validation DataLoader 0:   0%|          | 0/13 [00:00<?, ?it/s]\u001B[A\n",
      "Validation DataLoader 0:   8%|▊         | 1/13 [00:00<00:01,  9.80it/s]\u001B[A\n",
      "Validation DataLoader 0:  15%|█▌        | 2/13 [00:00<00:01, 10.86it/s]\u001B[A\n",
      "Validation DataLoader 0:  23%|██▎       | 3/13 [00:00<00:00, 10.67it/s]\u001B[A\n",
      "Validation DataLoader 0:  31%|███       | 4/13 [00:00<00:00, 12.89it/s]\u001B[A\n",
      "Validation DataLoader 0:  38%|███▊      | 5/13 [00:00<00:00, 14.74it/s]\u001B[A\n",
      "Validation DataLoader 0:  46%|████▌     | 6/13 [00:00<00:00, 16.43it/s]\u001B[A\n",
      "Validation DataLoader 0:  54%|█████▍    | 7/13 [00:00<00:00, 17.89it/s]\u001B[A\n",
      "Validation DataLoader 0:  62%|██████▏   | 8/13 [00:00<00:00, 19.17it/s]\u001B[A\n",
      "Validation DataLoader 0:  69%|██████▉   | 9/13 [00:00<00:00, 20.35it/s]\u001B[A\n",
      "Validation DataLoader 0:  77%|███████▋  | 10/13 [00:00<00:00, 21.31it/s]\u001B[A\n",
      "Validation DataLoader 0:  85%|████████▍ | 11/13 [00:00<00:00, 22.30it/s]\u001B[A\n",
      "Validation DataLoader 0:  92%|█████████▏| 12/13 [00:00<00:00, 23.16it/s]\u001B[A\n",
      "Epoch 6: 100%|██████████| 90/90 [00:35<00:00,  2.55it/s, v_num=1, train_loss_step=2.090, train_loss_epoch=1.990]\n",
      "Epoch 6: 100%|██████████| 90/90 [00:35<00:00,  2.55it/s, v_num=1, train_loss_step=2.090, train_loss_epoch=1.990]"
     ]
    },
    {
     "name": "stderr",
     "output_type": "stream",
     "text": [
      "Metric val_loss improved by 0.000 >= min_delta = 0.0. New best score: 1.978\n"
     ]
    },
    {
     "name": "stdout",
     "output_type": "stream",
     "text": [
      "Epoch 7: 100%|██████████| 90/90 [00:19<00:00,  4.52it/s, v_num=1, train_loss_step=1.930, train_loss_epoch=1.990]\n",
      "Validation: 0it [00:00, ?it/s]\u001B[A\n",
      "Validation:   0%|          | 0/13 [00:00<?, ?it/s]\u001B[A\n",
      "Validation DataLoader 0:   0%|          | 0/13 [00:00<?, ?it/s]\u001B[A\n",
      "Validation DataLoader 0:   8%|▊         | 1/13 [00:00<00:01,  8.94it/s]\u001B[A\n",
      "Validation DataLoader 0:  15%|█▌        | 2/13 [00:00<00:01,  9.27it/s]\u001B[A\n",
      "Validation DataLoader 0:  23%|██▎       | 3/13 [00:00<00:00, 12.20it/s]\u001B[A\n",
      "Validation DataLoader 0:  31%|███       | 4/13 [00:00<00:00, 14.76it/s]\u001B[A\n",
      "Validation DataLoader 0:  38%|███▊      | 5/13 [00:00<00:00, 16.73it/s]\u001B[A\n",
      "Validation DataLoader 0:  46%|████▌     | 6/13 [00:00<00:00, 18.46it/s]\u001B[A\n",
      "Validation DataLoader 0:  54%|█████▍    | 7/13 [00:00<00:00, 18.77it/s]\u001B[A\n",
      "Validation DataLoader 0:  62%|██████▏   | 8/13 [00:00<00:00, 20.05it/s]\u001B[A\n",
      "Validation DataLoader 0:  69%|██████▉   | 9/13 [00:00<00:00, 21.18it/s]\u001B[A\n",
      "Validation DataLoader 0:  77%|███████▋  | 10/13 [00:00<00:00, 22.27it/s]\u001B[A\n",
      "Validation DataLoader 0:  85%|████████▍ | 11/13 [00:00<00:00, 23.21it/s]\u001B[A\n",
      "Validation DataLoader 0:  92%|█████████▏| 12/13 [00:00<00:00, 21.78it/s]\u001B[A\n",
      "Epoch 7: 100%|██████████| 90/90 [00:35<00:00,  2.55it/s, v_num=1, train_loss_step=1.930, train_loss_epoch=1.990]\n",
      "Epoch 7: 100%|██████████| 90/90 [00:35<00:00,  2.55it/s, v_num=1, train_loss_step=1.930, train_loss_epoch=1.990]"
     ]
    },
    {
     "name": "stderr",
     "output_type": "stream",
     "text": [
      "Metric val_loss improved by 0.000 >= min_delta = 0.0. New best score: 1.978\n"
     ]
    },
    {
     "name": "stdout",
     "output_type": "stream",
     "text": [
      "Epoch 8: 100%|██████████| 90/90 [00:19<00:00,  4.51it/s, v_num=1, train_loss_step=1.780, train_loss_epoch=1.990]\n",
      "Validation: 0it [00:00, ?it/s]\u001B[A\n",
      "Validation:   0%|          | 0/13 [00:00<?, ?it/s]\u001B[A\n",
      "Validation DataLoader 0:   0%|          | 0/13 [00:00<?, ?it/s]\u001B[A\n",
      "Validation DataLoader 0:   8%|▊         | 1/13 [00:00<00:01, 10.14it/s]\u001B[A\n",
      "Validation DataLoader 0:  15%|█▌        | 2/13 [00:00<00:01,  8.68it/s]\u001B[A\n",
      "Validation DataLoader 0:  23%|██▎       | 3/13 [00:00<00:00, 11.52it/s]\u001B[A\n",
      "Validation DataLoader 0:  31%|███       | 4/13 [00:00<00:00, 13.81it/s]\u001B[A\n",
      "Validation DataLoader 0:  38%|███▊      | 5/13 [00:00<00:00, 15.89it/s]\u001B[A\n",
      "Validation DataLoader 0:  46%|████▌     | 6/13 [00:00<00:00, 17.35it/s]\u001B[A\n",
      "Validation DataLoader 0:  54%|█████▍    | 7/13 [00:00<00:00, 18.77it/s]\u001B[A\n",
      "Validation DataLoader 0:  62%|██████▏   | 8/13 [00:00<00:00, 20.06it/s]\u001B[A\n",
      "Validation DataLoader 0:  69%|██████▉   | 9/13 [00:00<00:00, 21.18it/s]\u001B[A\n",
      "Validation DataLoader 0:  77%|███████▋  | 10/13 [00:00<00:00, 22.27it/s]\u001B[A\n",
      "Validation DataLoader 0:  85%|████████▍ | 11/13 [00:00<00:00, 23.16it/s]\u001B[A\n",
      "Validation DataLoader 0:  92%|█████████▏| 12/13 [00:00<00:00, 23.95it/s]\u001B[A\n",
      "Epoch 8: 100%|██████████| 90/90 [00:35<00:00,  2.55it/s, v_num=1, train_loss_step=1.780, train_loss_epoch=1.990]\n",
      "Epoch 8: 100%|██████████| 90/90 [00:35<00:00,  2.55it/s, v_num=1, train_loss_step=1.780, train_loss_epoch=1.990]"
     ]
    },
    {
     "name": "stderr",
     "output_type": "stream",
     "text": [
      "Metric val_loss improved by 0.000 >= min_delta = 0.0. New best score: 1.978\n"
     ]
    },
    {
     "name": "stdout",
     "output_type": "stream",
     "text": [
      "Epoch 9: 100%|██████████| 90/90 [00:20<00:00,  4.39it/s, v_num=1, train_loss_step=2.090, train_loss_epoch=1.990]\n",
      "Validation: 0it [00:00, ?it/s]\u001B[A\n",
      "Validation:   0%|          | 0/13 [00:00<?, ?it/s]\u001B[A\n",
      "Validation DataLoader 0:   0%|          | 0/13 [00:00<?, ?it/s]\u001B[A\n",
      "Validation DataLoader 0:   8%|▊         | 1/13 [00:00<00:01,  8.23it/s]\u001B[A\n",
      "Validation DataLoader 0:  15%|█▌        | 2/13 [00:00<00:01,  8.01it/s]\u001B[A\n",
      "Validation DataLoader 0:  23%|██▎       | 3/13 [00:00<00:01,  8.99it/s]\u001B[A\n",
      "Validation DataLoader 0:  31%|███       | 4/13 [00:00<00:00, 11.09it/s]\u001B[A\n",
      "Validation DataLoader 0:  38%|███▊      | 5/13 [00:00<00:00, 12.89it/s]\u001B[A\n",
      "Validation DataLoader 0:  46%|████▌     | 6/13 [00:00<00:00, 14.43it/s]\u001B[A\n",
      "Validation DataLoader 0:  54%|█████▍    | 7/13 [00:00<00:00, 15.84it/s]\u001B[A\n",
      "Validation DataLoader 0:  62%|██████▏   | 8/13 [00:00<00:00, 17.10it/s]\u001B[A\n",
      "Validation DataLoader 0:  69%|██████▉   | 9/13 [00:00<00:00, 18.26it/s]\u001B[A\n",
      "Validation DataLoader 0:  77%|███████▋  | 10/13 [00:00<00:00, 19.27it/s]\u001B[A\n",
      "Validation DataLoader 0:  85%|████████▍ | 11/13 [00:00<00:00, 20.19it/s]\u001B[A\n",
      "Validation DataLoader 0:  92%|█████████▏| 12/13 [00:00<00:00, 21.06it/s]\u001B[A\n",
      "Epoch 9: 100%|██████████| 90/90 [00:36<00:00,  2.49it/s, v_num=1, train_loss_step=2.090, train_loss_epoch=1.990]\n",
      "Epoch 9: 100%|██████████| 90/90 [00:36<00:00,  2.49it/s, v_num=1, train_loss_step=2.090, train_loss_epoch=1.990]"
     ]
    },
    {
     "name": "stderr",
     "output_type": "stream",
     "text": [
      "Metric val_loss improved by 0.000 >= min_delta = 0.0. New best score: 1.978\n"
     ]
    },
    {
     "name": "stdout",
     "output_type": "stream",
     "text": [
      "Epoch 10: 100%|██████████| 90/90 [00:19<00:00,  4.56it/s, v_num=1, train_loss_step=2.150, train_loss_epoch=1.990]\n",
      "Validation: 0it [00:00, ?it/s]\u001B[A\n",
      "Validation:   0%|          | 0/13 [00:00<?, ?it/s]\u001B[A\n",
      "Validation DataLoader 0:   0%|          | 0/13 [00:00<?, ?it/s]\u001B[A\n",
      "Validation DataLoader 0:   8%|▊         | 1/13 [00:00<00:00, 21.27it/s]\u001B[A\n",
      "Validation DataLoader 0:  15%|█▌        | 2/13 [00:00<00:00, 19.99it/s]\u001B[A\n",
      "Validation DataLoader 0:  23%|██▎       | 3/13 [00:00<00:00, 15.22it/s]\u001B[A\n",
      "Validation DataLoader 0:  31%|███       | 4/13 [00:00<00:00, 15.44it/s]\u001B[A\n",
      "Validation DataLoader 0:  38%|███▊      | 5/13 [00:00<00:00, 16.33it/s]\u001B[A\n",
      "Validation DataLoader 0:  46%|████▌     | 6/13 [00:00<00:00, 18.01it/s]\u001B[A\n",
      "Validation DataLoader 0:  54%|█████▍    | 7/13 [00:00<00:00, 17.32it/s]\u001B[A\n",
      "Validation DataLoader 0:  62%|██████▏   | 8/13 [00:00<00:00, 18.55it/s]\u001B[A\n",
      "Validation DataLoader 0:  69%|██████▉   | 9/13 [00:00<00:00, 19.68it/s]\u001B[A\n",
      "Validation DataLoader 0:  77%|███████▋  | 10/13 [00:00<00:00, 20.74it/s]\u001B[A\n",
      "Validation DataLoader 0:  85%|████████▍ | 11/13 [00:00<00:00, 21.65it/s]\u001B[A\n",
      "Validation DataLoader 0:  92%|█████████▏| 12/13 [00:00<00:00, 21.73it/s]\u001B[A\n",
      "Epoch 10: 100%|██████████| 90/90 [00:34<00:00,  2.59it/s, v_num=1, train_loss_step=2.150, train_loss_epoch=1.990]\n",
      "Epoch 10: 100%|██████████| 90/90 [00:34<00:00,  2.59it/s, v_num=1, train_loss_step=2.150, train_loss_epoch=1.990]"
     ]
    },
    {
     "name": "stderr",
     "output_type": "stream",
     "text": [
      "Metric val_loss improved by 0.000 >= min_delta = 0.0. New best score: 1.978\n"
     ]
    },
    {
     "name": "stdout",
     "output_type": "stream",
     "text": [
      "Epoch 11: 100%|██████████| 90/90 [00:20<00:00,  4.41it/s, v_num=1, train_loss_step=2.200, train_loss_epoch=1.990]\n",
      "Validation: 0it [00:00, ?it/s]\u001B[A\n",
      "Validation:   0%|          | 0/13 [00:00<?, ?it/s]\u001B[A\n",
      "Validation DataLoader 0:   0%|          | 0/13 [00:00<?, ?it/s]\u001B[A\n",
      "Validation DataLoader 0:   8%|▊         | 1/13 [00:00<00:00, 26.31it/s]\u001B[A\n",
      "Validation DataLoader 0:  15%|█▌        | 2/13 [00:00<00:00, 22.47it/s]\u001B[A\n",
      "Validation DataLoader 0:  23%|██▎       | 3/13 [00:00<00:00, 20.00it/s]\u001B[A\n",
      "Validation DataLoader 0:  31%|███       | 4/13 [00:00<00:00, 20.10it/s]\u001B[A\n",
      "Validation DataLoader 0:  38%|███▊      | 5/13 [00:00<00:00, 20.32it/s]\u001B[A\n",
      "Validation DataLoader 0:  46%|████▌     | 6/13 [00:00<00:00, 19.29it/s]\u001B[A\n",
      "Validation DataLoader 0:  54%|█████▍    | 7/13 [00:00<00:00, 19.94it/s]\u001B[A\n",
      "Validation DataLoader 0:  62%|██████▏   | 8/13 [00:00<00:00, 20.78it/s]\u001B[A\n",
      "Validation DataLoader 0:  69%|██████▉   | 9/13 [00:00<00:00, 21.58it/s]\u001B[A\n",
      "Validation DataLoader 0:  77%|███████▋  | 10/13 [00:00<00:00, 22.27it/s]\u001B[A\n",
      "Validation DataLoader 0:  85%|████████▍ | 11/13 [00:00<00:00, 22.82it/s]\u001B[A\n",
      "Validation DataLoader 0:  92%|█████████▏| 12/13 [00:00<00:00, 23.26it/s]\u001B[A\n",
      "Epoch 11: 100%|██████████| 90/90 [00:35<00:00,  2.52it/s, v_num=1, train_loss_step=2.200, train_loss_epoch=1.990]\n",
      "Epoch 11: 100%|██████████| 90/90 [00:35<00:00,  2.52it/s, v_num=1, train_loss_step=2.200, train_loss_epoch=1.990]"
     ]
    },
    {
     "name": "stderr",
     "output_type": "stream",
     "text": [
      "Metric val_loss improved by 0.000 >= min_delta = 0.0. New best score: 1.978\n"
     ]
    },
    {
     "name": "stdout",
     "output_type": "stream",
     "text": [
      "Epoch 12: 100%|██████████| 90/90 [00:19<00:00,  4.52it/s, v_num=1, train_loss_step=1.990, train_loss_epoch=1.990]\n",
      "Validation: 0it [00:00, ?it/s]\u001B[A\n",
      "Validation:   0%|          | 0/13 [00:00<?, ?it/s]\u001B[A\n",
      "Validation DataLoader 0:   0%|          | 0/13 [00:00<?, ?it/s]\u001B[A\n",
      "Validation DataLoader 0:   8%|▊         | 1/13 [00:00<00:00, 38.46it/s]\u001B[A\n",
      "Validation DataLoader 0:  15%|█▌        | 2/13 [00:00<00:00, 25.00it/s]\u001B[A\n",
      "Validation DataLoader 0:  23%|██▎       | 3/13 [00:00<00:00, 21.13it/s]\u001B[A\n",
      "Validation DataLoader 0:  31%|███       | 4/13 [00:00<00:00, 21.28it/s]\u001B[A\n",
      "Validation DataLoader 0:  38%|███▊      | 5/13 [00:00<00:00, 21.28it/s]\u001B[A\n",
      "Validation DataLoader 0:  46%|████▌     | 6/13 [00:00<00:00, 21.28it/s]\u001B[A\n",
      "Validation DataLoader 0:  54%|█████▍    | 7/13 [00:00<00:00, 19.83it/s]\u001B[A\n",
      "Validation DataLoader 0:  62%|██████▏   | 8/13 [00:00<00:00, 20.78it/s]\u001B[A\n",
      "Validation DataLoader 0:  69%|██████▉   | 9/13 [00:00<00:00, 21.28it/s]\u001B[A\n",
      "Validation DataLoader 0:  77%|███████▋  | 10/13 [00:00<00:00, 21.88it/s]\u001B[A\n",
      "Validation DataLoader 0:  85%|████████▍ | 11/13 [00:00<00:00, 22.45it/s]\u001B[A\n",
      "Validation DataLoader 0:  92%|█████████▏| 12/13 [00:00<00:00, 22.86it/s]\u001B[A\n",
      "Epoch 12: 100%|██████████| 90/90 [00:35<00:00,  2.56it/s, v_num=1, train_loss_step=1.990, train_loss_epoch=1.990]\n",
      "Epoch 12: 100%|██████████| 90/90 [00:35<00:00,  2.56it/s, v_num=1, train_loss_step=1.990, train_loss_epoch=1.990]"
     ]
    },
    {
     "name": "stderr",
     "output_type": "stream",
     "text": [
      "Metric val_loss improved by 0.000 >= min_delta = 0.0. New best score: 1.978\n"
     ]
    },
    {
     "name": "stdout",
     "output_type": "stream",
     "text": [
      "Epoch 13: 100%|██████████| 90/90 [00:19<00:00,  4.54it/s, v_num=1, train_loss_step=1.990, train_loss_epoch=1.990]\n",
      "Validation: 0it [00:00, ?it/s]\u001B[A\n",
      "Validation:   0%|          | 0/13 [00:00<?, ?it/s]\u001B[A\n",
      "Validation DataLoader 0:   0%|          | 0/13 [00:00<?, ?it/s]\u001B[A\n",
      "Validation DataLoader 0:   8%|▊         | 1/13 [00:00<00:00, 26.32it/s]\u001B[A\n",
      "Validation DataLoader 0:  15%|█▌        | 2/13 [00:00<00:00, 21.74it/s]\u001B[A\n",
      "Validation DataLoader 0:  23%|██▎       | 3/13 [00:00<00:00, 19.23it/s]\u001B[A\n",
      "Validation DataLoader 0:  31%|███       | 4/13 [00:00<00:00, 19.23it/s]\u001B[A\n",
      "Validation DataLoader 0:  38%|███▊      | 5/13 [00:00<00:00, 19.23it/s]\u001B[A\n",
      "Validation DataLoader 0:  46%|████▌     | 6/13 [00:00<00:00, 19.42it/s]\u001B[A\n",
      "Validation DataLoader 0:  54%|█████▍    | 7/13 [00:00<00:00, 18.42it/s]\u001B[A\n",
      "Validation DataLoader 0:  62%|██████▏   | 8/13 [00:00<00:00, 18.78it/s]\u001B[A\n",
      "Validation DataLoader 0:  69%|██████▉   | 9/13 [00:00<00:00, 19.48it/s]\u001B[A\n",
      "Validation DataLoader 0:  77%|███████▋  | 10/13 [00:00<00:00, 20.24it/s]\u001B[A\n",
      "Validation DataLoader 0:  85%|████████▍ | 11/13 [00:00<00:00, 20.79it/s]\u001B[A\n",
      "Validation DataLoader 0:  92%|█████████▏| 12/13 [00:00<00:00, 21.16it/s]\u001B[A\n",
      "Epoch 13: 100%|██████████| 90/90 [00:34<00:00,  2.58it/s, v_num=1, train_loss_step=1.990, train_loss_epoch=1.990]\n",
      "Epoch 13: 100%|██████████| 90/90 [00:34<00:00,  2.58it/s, v_num=1, train_loss_step=1.990, train_loss_epoch=1.990]"
     ]
    },
    {
     "name": "stderr",
     "output_type": "stream",
     "text": [
      "Metric val_loss improved by 0.000 >= min_delta = 0.0. New best score: 1.978\n"
     ]
    },
    {
     "name": "stdout",
     "output_type": "stream",
     "text": [
      "Epoch 14: 100%|██████████| 90/90 [00:19<00:00,  4.58it/s, v_num=1, train_loss_step=1.930, train_loss_epoch=1.990]\n",
      "Validation: 0it [00:00, ?it/s]\u001B[A\n",
      "Validation:   0%|          | 0/13 [00:00<?, ?it/s]\u001B[A\n",
      "Validation DataLoader 0:   0%|          | 0/13 [00:00<?, ?it/s]\u001B[A\n",
      "Validation DataLoader 0:   8%|▊         | 1/13 [00:00<00:00, 22.73it/s]\u001B[A\n",
      "Validation DataLoader 0:  15%|█▌        | 2/13 [00:00<00:00, 20.62it/s]\u001B[A\n",
      "Validation DataLoader 0:  23%|██▎       | 3/13 [00:00<00:00, 20.27it/s]\u001B[A\n",
      "Validation DataLoader 0:  31%|███       | 4/13 [00:00<00:00, 18.60it/s]\u001B[A\n",
      "Validation DataLoader 0:  38%|███▊      | 5/13 [00:00<00:00, 18.87it/s]\u001B[A\n",
      "Validation DataLoader 0:  46%|████▌     | 6/13 [00:00<00:00, 20.76it/s]\u001B[A\n",
      "Validation DataLoader 0:  54%|█████▍    | 7/13 [00:00<00:00, 19.44it/s]\u001B[A\n",
      "Validation DataLoader 0:  62%|██████▏   | 8/13 [00:00<00:00, 20.89it/s]\u001B[A\n",
      "Validation DataLoader 0:  69%|██████▉   | 9/13 [00:00<00:00, 22.11it/s]\u001B[A\n",
      "Validation DataLoader 0:  77%|███████▋  | 10/13 [00:00<00:00, 23.20it/s]\u001B[A\n",
      "Validation DataLoader 0:  85%|████████▍ | 11/13 [00:00<00:00, 24.23it/s]\u001B[A\n",
      "Validation DataLoader 0:  92%|█████████▏| 12/13 [00:00<00:00, 24.74it/s]\u001B[A\n",
      "Epoch 14: 100%|██████████| 90/90 [00:34<00:00,  2.59it/s, v_num=1, train_loss_step=1.930, train_loss_epoch=1.990]\n",
      "Epoch 14: 100%|██████████| 90/90 [00:34<00:00,  2.59it/s, v_num=1, train_loss_step=1.930, train_loss_epoch=1.990]"
     ]
    },
    {
     "name": "stderr",
     "output_type": "stream",
     "text": [
      "Metric val_loss improved by 0.000 >= min_delta = 0.0. New best score: 1.978\n"
     ]
    },
    {
     "name": "stdout",
     "output_type": "stream",
     "text": [
      "Epoch 15: 100%|██████████| 90/90 [00:19<00:00,  4.52it/s, v_num=1, train_loss_step=2.040, train_loss_epoch=1.990]\n",
      "Validation: 0it [00:00, ?it/s]\u001B[A\n",
      "Validation:   0%|          | 0/13 [00:00<?, ?it/s]\u001B[A\n",
      "Validation DataLoader 0:   0%|          | 0/13 [00:00<?, ?it/s]\u001B[A\n",
      "Validation DataLoader 0:   8%|▊         | 1/13 [00:00<00:00, 21.74it/s]\u001B[A\n",
      "Validation DataLoader 0:  15%|█▌        | 2/13 [00:00<00:00, 20.19it/s]\u001B[A\n",
      "Validation DataLoader 0:  23%|██▎       | 3/13 [00:00<00:00, 18.63it/s]\u001B[A\n",
      "Validation DataLoader 0:  31%|███       | 4/13 [00:00<00:00, 18.96it/s]\u001B[A\n",
      "Validation DataLoader 0:  38%|███▊      | 5/13 [00:00<00:00, 19.16it/s]\u001B[A\n",
      "Validation DataLoader 0:  46%|████▌     | 6/13 [00:00<00:00, 18.99it/s]\u001B[A\n",
      "Validation DataLoader 0:  54%|█████▍    | 7/13 [00:00<00:00, 18.87it/s]\u001B[A\n",
      "Validation DataLoader 0:  62%|██████▏   | 8/13 [00:00<00:00, 18.56it/s]\u001B[A\n",
      "Validation DataLoader 0:  69%|██████▉   | 9/13 [00:00<00:00, 18.87it/s]\u001B[A\n",
      "Validation DataLoader 0:  77%|███████▋  | 10/13 [00:00<00:00, 19.49it/s]\u001B[A\n",
      "Validation DataLoader 0:  85%|████████▍ | 11/13 [00:00<00:00, 20.15it/s]\u001B[A\n",
      "Validation DataLoader 0:  92%|█████████▏| 12/13 [00:00<00:00, 20.73it/s]\u001B[A\n",
      "Epoch 15: 100%|██████████| 90/90 [00:35<00:00,  2.56it/s, v_num=1, train_loss_step=2.040, train_loss_epoch=1.990]\n",
      "Epoch 15: 100%|██████████| 90/90 [00:35<00:00,  2.56it/s, v_num=1, train_loss_step=2.040, train_loss_epoch=1.990]"
     ]
    },
    {
     "name": "stderr",
     "output_type": "stream",
     "text": [
      "Metric val_loss improved by 0.000 >= min_delta = 0.0. New best score: 1.978\n"
     ]
    },
    {
     "name": "stdout",
     "output_type": "stream",
     "text": [
      "Epoch 16: 100%|██████████| 90/90 [00:20<00:00,  4.50it/s, v_num=1, train_loss_step=2.090, train_loss_epoch=1.990]\n",
      "Validation: 0it [00:00, ?it/s]\u001B[A\n",
      "Validation:   0%|          | 0/13 [00:00<?, ?it/s]\u001B[A\n",
      "Validation DataLoader 0:   0%|          | 0/13 [00:00<?, ?it/s]\u001B[A\n",
      "Validation DataLoader 0:   8%|▊         | 1/13 [00:00<00:00, 22.22it/s]\u001B[A\n",
      "Validation DataLoader 0:  15%|█▌        | 2/13 [00:00<00:00, 18.87it/s]\u001B[A\n",
      "Validation DataLoader 0:  23%|██▎       | 3/13 [00:00<00:00, 19.11it/s]\u001B[A\n",
      "Validation DataLoader 0:  31%|███       | 4/13 [00:00<00:00, 19.14it/s]\u001B[A\n",
      "Validation DataLoader 0:  38%|███▊      | 5/13 [00:00<00:00, 21.19it/s]\u001B[A\n",
      "Validation DataLoader 0:  46%|████▌     | 6/13 [00:00<00:00, 22.90it/s]\u001B[A\n",
      "Validation DataLoader 0:  54%|█████▍    | 7/13 [00:00<00:00, 20.06it/s]\u001B[A\n",
      "Validation DataLoader 0:  62%|██████▏   | 8/13 [00:00<00:00, 21.45it/s]\u001B[A\n",
      "Validation DataLoader 0:  69%|██████▉   | 9/13 [00:00<00:00, 22.73it/s]\u001B[A\n",
      "Validation DataLoader 0:  77%|███████▋  | 10/13 [00:00<00:00, 23.70it/s]\u001B[A\n",
      "Validation DataLoader 0:  85%|████████▍ | 11/13 [00:00<00:00, 24.61it/s]\u001B[A\n",
      "Validation DataLoader 0:  92%|█████████▏| 12/13 [00:00<00:00, 25.37it/s]\u001B[A\n",
      "Epoch 16: 100%|██████████| 90/90 [00:35<00:00,  2.56it/s, v_num=1, train_loss_step=2.090, train_loss_epoch=1.990]\n",
      "Epoch 16: 100%|██████████| 90/90 [00:35<00:00,  2.56it/s, v_num=1, train_loss_step=2.090, train_loss_epoch=1.990]"
     ]
    },
    {
     "name": "stderr",
     "output_type": "stream",
     "text": [
      "Metric val_loss improved by 0.000 >= min_delta = 0.0. New best score: 1.978\n"
     ]
    },
    {
     "name": "stdout",
     "output_type": "stream",
     "text": [
      "Epoch 17: 100%|██████████| 90/90 [00:20<00:00,  4.46it/s, v_num=1, train_loss_step=2.090, train_loss_epoch=1.990]\n",
      "Validation: 0it [00:00, ?it/s]\u001B[A\n",
      "Validation:   0%|          | 0/13 [00:00<?, ?it/s]\u001B[A\n",
      "Validation DataLoader 0:   0%|          | 0/13 [00:00<?, ?it/s]\u001B[A\n",
      "Validation DataLoader 0:   8%|▊         | 1/13 [00:00<00:00, 58.76it/s]\u001B[A\n",
      "Validation DataLoader 0:  15%|█▌        | 2/13 [00:00<00:00, 28.43it/s]\u001B[A\n",
      "Validation DataLoader 0:  23%|██▎       | 3/13 [00:00<00:00, 25.67it/s]\u001B[A\n",
      "Validation DataLoader 0:  31%|███       | 4/13 [00:00<00:00, 26.17it/s]\u001B[A\n",
      "Validation DataLoader 0:  38%|███▊      | 5/13 [00:00<00:00, 26.76it/s]\u001B[A\n",
      "Validation DataLoader 0:  46%|████▌     | 6/13 [00:00<00:00, 26.68it/s]\u001B[A\n",
      "Validation DataLoader 0:  54%|█████▍    | 7/13 [00:00<00:00, 22.81it/s]\u001B[A\n",
      "Validation DataLoader 0:  62%|██████▏   | 8/13 [00:00<00:00, 23.13it/s]\u001B[A\n",
      "Validation DataLoader 0:  69%|██████▉   | 9/13 [00:00<00:00, 23.82it/s]\u001B[A\n",
      "Validation DataLoader 0:  77%|███████▋  | 10/13 [00:00<00:00, 24.16it/s]\u001B[A\n",
      "Validation DataLoader 0:  85%|████████▍ | 11/13 [00:00<00:00, 24.67it/s]\u001B[A\n",
      "Validation DataLoader 0:  92%|█████████▏| 12/13 [00:00<00:00, 24.95it/s]\u001B[A\n",
      "Epoch 17: 100%|██████████| 90/90 [00:35<00:00,  2.51it/s, v_num=1, train_loss_step=2.090, train_loss_epoch=1.990]\n",
      "Epoch 17: 100%|██████████| 90/90 [00:35<00:00,  2.51it/s, v_num=1, train_loss_step=2.090, train_loss_epoch=1.990]"
     ]
    },
    {
     "name": "stderr",
     "output_type": "stream",
     "text": [
      "Metric val_loss improved by 0.000 >= min_delta = 0.0. New best score: 1.978\n"
     ]
    },
    {
     "name": "stdout",
     "output_type": "stream",
     "text": [
      "Epoch 18: 100%|██████████| 90/90 [00:20<00:00,  4.47it/s, v_num=1, train_loss_step=2.090, train_loss_epoch=1.990]\n",
      "Validation: 0it [00:00, ?it/s]\u001B[A\n",
      "Validation:   0%|          | 0/13 [00:00<?, ?it/s]\u001B[A\n",
      "Validation DataLoader 0:   0%|          | 0/13 [00:00<?, ?it/s]\u001B[A\n",
      "Validation DataLoader 0:   8%|▊         | 1/13 [00:00<00:00, 66.68it/s]\u001B[A\n",
      "Validation DataLoader 0:  15%|█▌        | 2/13 [00:00<00:00, 37.74it/s]\u001B[A\n",
      "Validation DataLoader 0:  23%|██▎       | 3/13 [00:00<00:00, 32.97it/s]\u001B[A\n",
      "Validation DataLoader 0:  31%|███       | 4/13 [00:00<00:00, 30.77it/s]\u001B[A\n",
      "Validation DataLoader 0:  38%|███▊      | 5/13 [00:00<00:00, 29.94it/s]\u001B[A\n",
      "Validation DataLoader 0:  46%|████▌     | 6/13 [00:00<00:00, 28.30it/s]\u001B[A\n",
      "Validation DataLoader 0:  54%|█████▍    | 7/13 [00:00<00:00, 20.90it/s]\u001B[A\n",
      "Validation DataLoader 0:  62%|██████▏   | 8/13 [00:00<00:00, 21.56it/s]\u001B[A\n",
      "Validation DataLoader 0:  69%|██████▉   | 9/13 [00:00<00:00, 21.95it/s]\u001B[A\n",
      "Validation DataLoader 0:  77%|███████▋  | 10/13 [00:00<00:00, 22.32it/s]\u001B[A\n",
      "Validation DataLoader 0:  85%|████████▍ | 11/13 [00:00<00:00, 22.77it/s]\u001B[A\n",
      "Validation DataLoader 0:  92%|█████████▏| 12/13 [00:00<00:00, 22.81it/s]\u001B[A\n",
      "Epoch 18: 100%|██████████| 90/90 [00:35<00:00,  2.53it/s, v_num=1, train_loss_step=2.090, train_loss_epoch=1.990]\n",
      "Epoch 18: 100%|██████████| 90/90 [00:35<00:00,  2.53it/s, v_num=1, train_loss_step=2.090, train_loss_epoch=1.990]"
     ]
    },
    {
     "name": "stderr",
     "output_type": "stream",
     "text": [
      "Metric val_loss improved by 0.000 >= min_delta = 0.0. New best score: 1.978\n"
     ]
    },
    {
     "name": "stdout",
     "output_type": "stream",
     "text": [
      "Epoch 19: 100%|██████████| 90/90 [00:20<00:00,  4.41it/s, v_num=1, train_loss_step=2.040, train_loss_epoch=1.990]\n",
      "Validation: 0it [00:00, ?it/s]\u001B[A\n",
      "Validation:   0%|          | 0/13 [00:00<?, ?it/s]\u001B[A\n",
      "Validation DataLoader 0:   0%|          | 0/13 [00:00<?, ?it/s]\u001B[A\n",
      "Validation DataLoader 0:   8%|▊         | 1/13 [00:00<00:00, 24.39it/s]\u001B[A\n",
      "Validation DataLoader 0:  15%|█▌        | 2/13 [00:00<00:00, 21.05it/s]\u001B[A\n",
      "Validation DataLoader 0:  23%|██▎       | 3/13 [00:00<00:00, 19.61it/s]\u001B[A\n",
      "Validation DataLoader 0:  31%|███       | 4/13 [00:00<00:00, 19.70it/s]\u001B[A\n",
      "Validation DataLoader 0:  38%|███▊      | 5/13 [00:00<00:00, 18.94it/s]\u001B[A\n",
      "Validation DataLoader 0:  46%|████▌     | 6/13 [00:00<00:00, 18.40it/s]\u001B[A\n",
      "Validation DataLoader 0:  54%|█████▍    | 7/13 [00:00<00:00, 18.82it/s]\u001B[A\n",
      "Validation DataLoader 0:  62%|██████▏   | 8/13 [00:00<00:00, 19.05it/s]\u001B[A\n",
      "Validation DataLoader 0:  69%|██████▉   | 9/13 [00:00<00:00, 19.44it/s]\u001B[A\n",
      "Validation DataLoader 0:  77%|███████▋  | 10/13 [00:00<00:00, 20.12it/s]\u001B[A\n",
      "Validation DataLoader 0:  85%|████████▍ | 11/13 [00:00<00:00, 20.72it/s]\u001B[A\n",
      "Validation DataLoader 0:  92%|█████████▏| 12/13 [00:00<00:00, 21.02it/s]\u001B[A\n",
      "Epoch 19: 100%|██████████| 90/90 [00:35<00:00,  2.53it/s, v_num=1, train_loss_step=2.040, train_loss_epoch=1.990]\n",
      "Epoch 19: 100%|██████████| 90/90 [00:35<00:00,  2.53it/s, v_num=1, train_loss_step=2.040, train_loss_epoch=1.990]"
     ]
    },
    {
     "name": "stderr",
     "output_type": "stream",
     "text": [
      "Metric val_loss improved by 0.000 >= min_delta = 0.0. New best score: 1.978\n"
     ]
    },
    {
     "name": "stdout",
     "output_type": "stream",
     "text": [
      "Epoch 20: 100%|██████████| 90/90 [00:19<00:00,  4.53it/s, v_num=1, train_loss_step=2.040, train_loss_epoch=1.990]\n",
      "Validation: 0it [00:00, ?it/s]\u001B[A\n",
      "Validation:   0%|          | 0/13 [00:00<?, ?it/s]\u001B[A\n",
      "Validation DataLoader 0:   0%|          | 0/13 [00:00<?, ?it/s]\u001B[A\n",
      "Validation DataLoader 0:   8%|▊         | 1/13 [00:00<00:01,  6.77it/s]\u001B[A\n",
      "Validation DataLoader 0:  15%|█▌        | 2/13 [00:00<00:00, 11.07it/s]\u001B[A\n",
      "Validation DataLoader 0:  23%|██▎       | 3/13 [00:00<00:00, 14.31it/s]\u001B[A\n",
      "Validation DataLoader 0:  31%|███       | 4/13 [00:00<00:00, 16.22it/s]\u001B[A\n",
      "Validation DataLoader 0:  38%|███▊      | 5/13 [00:00<00:00, 18.01it/s]\u001B[A\n",
      "Validation DataLoader 0:  46%|████▌     | 6/13 [00:00<00:00, 19.19it/s]\u001B[A\n",
      "Validation DataLoader 0:  54%|█████▍    | 7/13 [00:00<00:00, 14.14it/s]\u001B[A\n",
      "Validation DataLoader 0:  62%|██████▏   | 8/13 [00:00<00:00, 15.24it/s]\u001B[A\n",
      "Validation DataLoader 0:  69%|██████▉   | 9/13 [00:00<00:00, 16.24it/s]\u001B[A\n",
      "Validation DataLoader 0:  77%|███████▋  | 10/13 [00:00<00:00, 17.21it/s]\u001B[A\n",
      "Validation DataLoader 0:  85%|████████▍ | 11/13 [00:00<00:00, 18.09it/s]\u001B[A\n",
      "Validation DataLoader 0:  92%|█████████▏| 12/13 [00:00<00:00, 18.87it/s]\u001B[A\n",
      "Epoch 20: 100%|██████████| 90/90 [00:35<00:00,  2.50it/s, v_num=1, train_loss_step=2.040, train_loss_epoch=1.990]\n",
      "Epoch 21: 100%|██████████| 90/90 [00:20<00:00,  4.29it/s, v_num=1, train_loss_step=2.040, train_loss_epoch=1.990]\n",
      "Validation: 0it [00:00, ?it/s]\u001B[A\n",
      "Validation:   0%|          | 0/13 [00:00<?, ?it/s]\u001B[A\n",
      "Validation DataLoader 0:   0%|          | 0/13 [00:00<?, ?it/s]\u001B[A\n",
      "Validation DataLoader 0:   8%|▊         | 1/13 [00:00<00:01, 11.66it/s]\u001B[A\n",
      "Validation DataLoader 0:  15%|█▌        | 2/13 [00:00<00:00, 11.06it/s]\u001B[A\n",
      "Validation DataLoader 0:  23%|██▎       | 3/13 [00:00<00:00, 14.57it/s]\u001B[A\n",
      "Validation DataLoader 0:  31%|███       | 4/13 [00:00<00:00, 17.33it/s]\u001B[A\n",
      "Validation DataLoader 0:  38%|███▊      | 5/13 [00:00<00:00, 19.24it/s]\u001B[A\n",
      "Validation DataLoader 0:  46%|████▌     | 6/13 [00:00<00:00, 20.99it/s]\u001B[A\n",
      "Validation DataLoader 0:  54%|█████▍    | 7/13 [00:00<00:00, 18.53it/s]\u001B[A\n",
      "Validation DataLoader 0:  62%|██████▏   | 8/13 [00:00<00:00, 19.86it/s]\u001B[A\n",
      "Validation DataLoader 0:  69%|██████▉   | 9/13 [00:00<00:00, 20.84it/s]\u001B[A\n",
      "Validation DataLoader 0:  77%|███████▋  | 10/13 [00:00<00:00, 21.70it/s]\u001B[A\n",
      "Validation DataLoader 0:  85%|████████▍ | 11/13 [00:00<00:00, 22.59it/s]\u001B[A\n",
      "Validation DataLoader 0:  92%|█████████▏| 12/13 [00:00<00:00, 23.44it/s]\u001B[A\n",
      "Epoch 21: 100%|██████████| 90/90 [00:36<00:00,  2.46it/s, v_num=1, train_loss_step=2.040, train_loss_epoch=1.990]\n",
      "Epoch 22: 100%|██████████| 90/90 [00:20<00:00,  4.38it/s, v_num=1, train_loss_step=1.930, train_loss_epoch=1.990]\n",
      "Validation: 0it [00:00, ?it/s]\u001B[A\n",
      "Validation:   0%|          | 0/13 [00:00<?, ?it/s]\u001B[A\n",
      "Validation DataLoader 0:   0%|          | 0/13 [00:00<?, ?it/s]\u001B[A\n",
      "Validation DataLoader 0:   8%|▊         | 1/13 [00:00<00:01, 11.28it/s]\u001B[A\n",
      "Validation DataLoader 0:  15%|█▌        | 2/13 [00:00<00:00, 12.81it/s]\u001B[A\n",
      "Validation DataLoader 0:  23%|██▎       | 3/13 [00:00<00:00, 13.82it/s]\u001B[A\n",
      "Validation DataLoader 0:  31%|███       | 4/13 [00:00<00:00, 14.43it/s]\u001B[A\n",
      "Validation DataLoader 0:  38%|███▊      | 5/13 [00:00<00:00, 14.97it/s]\u001B[A\n",
      "Validation DataLoader 0:  46%|████▌     | 6/13 [00:00<00:00, 16.66it/s]\u001B[A\n",
      "Validation DataLoader 0:  54%|█████▍    | 7/13 [00:00<00:00, 17.99it/s]\u001B[A\n",
      "Validation DataLoader 0:  62%|██████▏   | 8/13 [00:00<00:00, 19.32it/s]\u001B[A\n",
      "Validation DataLoader 0:  69%|██████▉   | 9/13 [00:00<00:00, 20.45it/s]\u001B[A\n",
      "Validation DataLoader 0:  77%|███████▋  | 10/13 [00:00<00:00, 21.45it/s]\u001B[A\n",
      "Validation DataLoader 0:  85%|████████▍ | 11/13 [00:00<00:00, 22.31it/s]\u001B[A\n",
      "Validation DataLoader 0:  92%|█████████▏| 12/13 [00:00<00:00, 23.16it/s]\u001B[A\n",
      "Epoch 22: 100%|██████████| 90/90 [00:35<00:00,  2.52it/s, v_num=1, train_loss_step=1.930, train_loss_epoch=1.990]\n",
      "Epoch 22: 100%|██████████| 90/90 [00:35<00:00,  2.52it/s, v_num=1, train_loss_step=1.930, train_loss_epoch=1.990]"
     ]
    },
    {
     "name": "stderr",
     "output_type": "stream",
     "text": [
      "Monitored metric val_loss did not improve in the last 3 records. Best score: 1.978. Signaling Trainer to stop.\n"
     ]
    },
    {
     "name": "stdout",
     "output_type": "stream",
     "text": [
      "Epoch 22: 100%|██████████| 90/90 [00:35<00:00,  2.52it/s, v_num=1, train_loss_step=1.930, train_loss_epoch=1.990]\n"
     ]
    },
    {
     "name": "stderr",
     "output_type": "stream",
     "text": [
      "Restoring states from the checkpoint path at cnn_lstm\\lightning_logs\\version_1\\checkpoints\\epoch=22-step=2070.ckpt\n",
      "LOCAL_RANK: 0 - CUDA_VISIBLE_DEVICES: [0]\n",
      "Loaded model weights from the checkpoint at cnn_lstm\\lightning_logs\\version_1\\checkpoints\\epoch=22-step=2070.ckpt\n"
     ]
    },
    {
     "name": "stdout",
     "output_type": "stream",
     "text": [
      "Testing DataLoader 0: 100%|██████████| 26/26 [00:01<00:00, 16.72it/s]\n"
     ]
    },
    {
     "data": {
      "text/plain": "┏━━━━━━━━━━━━━━━━━━━━━━━━━━━┳━━━━━━━━━━━━━━━━━━━━━━━━━━━┓\n┃\u001B[1m \u001B[0m\u001B[1m       Test metric       \u001B[0m\u001B[1m \u001B[0m┃\u001B[1m \u001B[0m\u001B[1m      DataLoader 0       \u001B[0m\u001B[1m \u001B[0m┃\n┡━━━━━━━━━━━━━━━━━━━━━━━━━━━╇━━━━━━━━━━━━━━━━━━━━━━━━━━━┩\n│\u001B[36m \u001B[0m\u001B[36m        test_acc         \u001B[0m\u001B[36m \u001B[0m│\u001B[35m \u001B[0m\u001B[35m   0.6284551620483398    \u001B[0m\u001B[35m \u001B[0m│\n│\u001B[36m \u001B[0m\u001B[36m        test_loss        \u001B[0m\u001B[36m \u001B[0m│\u001B[35m \u001B[0m\u001B[35m   1.9903231859207153    \u001B[0m\u001B[35m \u001B[0m│\n└───────────────────────────┴───────────────────────────┘\n",
      "text/html": "<pre style=\"white-space:pre;overflow-x:auto;line-height:normal;font-family:Menlo,'DejaVu Sans Mono',consolas,'Courier New',monospace\">┏━━━━━━━━━━━━━━━━━━━━━━━━━━━┳━━━━━━━━━━━━━━━━━━━━━━━━━━━┓\n┃<span style=\"font-weight: bold\">        Test metric        </span>┃<span style=\"font-weight: bold\">       DataLoader 0        </span>┃\n┡━━━━━━━━━━━━━━━━━━━━━━━━━━━╇━━━━━━━━━━━━━━━━━━━━━━━━━━━┩\n│<span style=\"color: #008080; text-decoration-color: #008080\">         test_acc          </span>│<span style=\"color: #800080; text-decoration-color: #800080\">    0.6284551620483398     </span>│\n│<span style=\"color: #008080; text-decoration-color: #008080\">         test_loss         </span>│<span style=\"color: #800080; text-decoration-color: #800080\">    1.9903231859207153     </span>│\n└───────────────────────────┴───────────────────────────┘\n</pre>\n"
     },
     "metadata": {},
     "output_type": "display_data"
    },
    {
     "name": "stderr",
     "output_type": "stream",
     "text": [
      "Restoring states from the checkpoint path at cnn_lstm\\lightning_logs\\version_1\\checkpoints\\epoch=22-step=2070.ckpt\n",
      "LOCAL_RANK: 0 - CUDA_VISIBLE_DEVICES: [0]\n",
      "Loaded model weights from the checkpoint at cnn_lstm\\lightning_logs\\version_1\\checkpoints\\epoch=22-step=2070.ckpt\n"
     ]
    },
    {
     "name": "stdout",
     "output_type": "stream",
     "text": [
      "Predicting DataLoader 0: 100%|██████████| 26/26 [00:01<00:00, 17.38it/s]\n"
     ]
    },
    {
     "name": "stderr",
     "output_type": "stream",
     "text": [
      "Global seed set to 2\n",
      "GPU available: True (cuda), used: True\n",
      "TPU available: False, using: 0 TPU cores\n",
      "IPU available: False, using: 0 IPUs\n",
      "HPU available: False, using: 0 HPUs\n",
      "LOCAL_RANK: 0 - CUDA_VISIBLE_DEVICES: [0]\n",
      "\n",
      "  | Name          | Type                      | Params\n",
      "------------------------------------------------------------\n",
      "0 | conv          | Conv1d                    | 288   \n",
      "1 | lstm          | LSTM                      | 325 K \n",
      "2 | hidden2label  | Linear                    | 1.5 K \n",
      "3 | softmax       | Softmax                   | 0     \n",
      "4 | train_acc     | MulticlassAccuracy        | 0     \n",
      "5 | valid_acc     | MulticlassAccuracy        | 0     \n",
      "6 | test_acc      | MulticlassAccuracy        | 0     \n",
      "7 | test_conf_mat | MulticlassConfusionMatrix | 0     \n",
      "------------------------------------------------------------\n",
      "327 K     Trainable params\n",
      "0         Non-trainable params\n",
      "327 K     Total params\n",
      "1.310     Total estimated model params size (MB)\n"
     ]
    },
    {
     "name": "stdout",
     "output_type": "stream",
     "text": [
      "Epoch 0: 100%|██████████| 90/90 [00:20<00:00,  4.38it/s, v_num=2, train_loss_step=1.990]\n",
      "Validation: 0it [00:00, ?it/s]\u001B[A\n",
      "Validation:   0%|          | 0/13 [00:00<?, ?it/s]\u001B[A\n",
      "Validation DataLoader 0:   0%|          | 0/13 [00:00<?, ?it/s]\u001B[A\n",
      "Validation DataLoader 0:   8%|▊         | 1/13 [00:00<00:01,  9.89it/s]\u001B[A\n",
      "Validation DataLoader 0:  15%|█▌        | 2/13 [00:00<00:00, 13.32it/s]\u001B[A\n",
      "Validation DataLoader 0:  23%|██▎       | 3/13 [00:00<00:01,  9.33it/s]\u001B[A\n",
      "Validation DataLoader 0:  31%|███       | 4/13 [00:00<00:00, 11.43it/s]\u001B[A\n",
      "Validation DataLoader 0:  38%|███▊      | 5/13 [00:00<00:00, 13.22it/s]\u001B[A\n",
      "Validation DataLoader 0:  46%|████▌     | 6/13 [00:00<00:00, 14.85it/s]\u001B[A\n",
      "Validation DataLoader 0:  54%|█████▍    | 7/13 [00:00<00:00, 16.28it/s]\u001B[A\n",
      "Validation DataLoader 0:  62%|██████▏   | 8/13 [00:00<00:00, 17.55it/s]\u001B[A\n",
      "Validation DataLoader 0:  69%|██████▉   | 9/13 [00:00<00:00, 18.60it/s]\u001B[A\n",
      "Validation DataLoader 0:  77%|███████▋  | 10/13 [00:00<00:00, 19.61it/s]\u001B[A\n",
      "Validation DataLoader 0:  85%|████████▍ | 11/13 [00:00<00:00, 20.52it/s]\u001B[A\n",
      "Validation DataLoader 0:  92%|█████████▏| 12/13 [00:00<00:00, 21.35it/s]\u001B[A\n",
      "Epoch 0: 100%|██████████| 90/90 [00:35<00:00,  2.51it/s, v_num=2, train_loss_step=1.990]\n",
      "Epoch 0: 100%|██████████| 90/90 [00:35<00:00,  2.51it/s, v_num=2, train_loss_step=1.990, train_loss_epoch=2.060]"
     ]
    },
    {
     "name": "stderr",
     "output_type": "stream",
     "text": [
      "Metric val_loss improved. New best score: 1.978\n"
     ]
    },
    {
     "name": "stdout",
     "output_type": "stream",
     "text": [
      "Epoch 1: 100%|██████████| 90/90 [00:20<00:00,  4.31it/s, v_num=2, train_loss_step=1.930, train_loss_epoch=2.060]\n",
      "Validation: 0it [00:00, ?it/s]\u001B[A\n",
      "Validation:   0%|          | 0/13 [00:00<?, ?it/s]\u001B[A\n",
      "Validation DataLoader 0:   0%|          | 0/13 [00:00<?, ?it/s]\u001B[A\n",
      "Validation DataLoader 0:   8%|▊         | 1/13 [00:00<00:00, 20.00it/s]\u001B[A\n",
      "Validation DataLoader 0:  15%|█▌        | 2/13 [00:00<00:00, 18.02it/s]\u001B[A\n",
      "Validation DataLoader 0:  23%|██▎       | 3/13 [00:00<00:00, 17.05it/s]\u001B[A\n",
      "Validation DataLoader 0:  31%|███       | 4/13 [00:00<00:00, 14.65it/s]\u001B[A\n",
      "Validation DataLoader 0:  38%|███▊      | 5/13 [00:00<00:00, 16.50it/s]\u001B[A\n",
      "Validation DataLoader 0:  46%|████▌     | 6/13 [00:00<00:00, 17.29it/s]\u001B[A\n",
      "Validation DataLoader 0:  54%|█████▍    | 7/13 [00:00<00:00, 16.83it/s]\u001B[A\n",
      "Validation DataLoader 0:  62%|██████▏   | 8/13 [00:00<00:00, 17.98it/s]\u001B[A\n",
      "Validation DataLoader 0:  69%|██████▉   | 9/13 [00:00<00:00, 19.07it/s]\u001B[A\n",
      "Validation DataLoader 0:  77%|███████▋  | 10/13 [00:00<00:00, 20.04it/s]\u001B[A\n",
      "Validation DataLoader 0:  85%|████████▍ | 11/13 [00:00<00:00, 20.91it/s]\u001B[A\n",
      "Validation DataLoader 0:  92%|█████████▏| 12/13 [00:00<00:00, 21.70it/s]\u001B[A\n",
      "Epoch 1: 100%|██████████| 90/90 [00:36<00:00,  2.46it/s, v_num=2, train_loss_step=1.930, train_loss_epoch=2.060]\n",
      "Epoch 1: 100%|██████████| 90/90 [00:36<00:00,  2.46it/s, v_num=2, train_loss_step=1.930, train_loss_epoch=1.990]"
     ]
    },
    {
     "name": "stderr",
     "output_type": "stream",
     "text": [
      "Metric val_loss improved by 0.000 >= min_delta = 0.0. New best score: 1.978\n"
     ]
    },
    {
     "name": "stdout",
     "output_type": "stream",
     "text": [
      "Epoch 2: 100%|██████████| 90/90 [00:20<00:00,  4.43it/s, v_num=2, train_loss_step=2.150, train_loss_epoch=1.990]\n",
      "Validation: 0it [00:00, ?it/s]\u001B[A\n",
      "Validation:   0%|          | 0/13 [00:00<?, ?it/s]\u001B[A\n",
      "Validation DataLoader 0:   0%|          | 0/13 [00:00<?, ?it/s]\u001B[A\n",
      "Validation DataLoader 0:   8%|▊         | 1/13 [00:00<00:01, 11.10it/s]\u001B[A\n",
      "Validation DataLoader 0:  15%|█▌        | 2/13 [00:00<00:00, 12.12it/s]\u001B[A\n",
      "Validation DataLoader 0:  23%|██▎       | 3/13 [00:00<00:00, 14.01it/s]\u001B[A\n",
      "Validation DataLoader 0:  31%|███       | 4/13 [00:00<00:00, 13.93it/s]\u001B[A\n",
      "Validation DataLoader 0:  38%|███▊      | 5/13 [00:00<00:00, 14.92it/s]\u001B[A\n",
      "Validation DataLoader 0:  46%|████▌     | 6/13 [00:00<00:00, 16.00it/s]\u001B[A\n",
      "Validation DataLoader 0:  54%|█████▍    | 7/13 [00:00<00:00, 17.37it/s]\u001B[A\n",
      "Validation DataLoader 0:  62%|██████▏   | 8/13 [00:00<00:00, 18.64it/s]\u001B[A\n",
      "Validation DataLoader 0:  69%|██████▉   | 9/13 [00:00<00:00, 19.82it/s]\u001B[A\n",
      "Validation DataLoader 0:  77%|███████▋  | 10/13 [00:00<00:00, 20.74it/s]\u001B[A\n",
      "Validation DataLoader 0:  85%|████████▍ | 11/13 [00:00<00:00, 21.65it/s]\u001B[A\n",
      "Validation DataLoader 0:  92%|█████████▏| 12/13 [00:00<00:00, 22.47it/s]\u001B[A\n",
      "Epoch 2: 100%|██████████| 90/90 [00:35<00:00,  2.54it/s, v_num=2, train_loss_step=2.150, train_loss_epoch=1.990]\n",
      "Epoch 2: 100%|██████████| 90/90 [00:35<00:00,  2.54it/s, v_num=2, train_loss_step=2.150, train_loss_epoch=1.990]"
     ]
    },
    {
     "name": "stderr",
     "output_type": "stream",
     "text": [
      "Metric val_loss improved by 0.000 >= min_delta = 0.0. New best score: 1.978\n"
     ]
    },
    {
     "name": "stdout",
     "output_type": "stream",
     "text": [
      "Epoch 3: 100%|██████████| 90/90 [00:20<00:00,  4.44it/s, v_num=2, train_loss_step=1.990, train_loss_epoch=1.990]\n",
      "Validation: 0it [00:00, ?it/s]\u001B[A\n",
      "Validation:   0%|          | 0/13 [00:00<?, ?it/s]\u001B[A\n",
      "Validation DataLoader 0:   0%|          | 0/13 [00:00<?, ?it/s]\u001B[A\n",
      "Validation DataLoader 0:   8%|▊         | 1/13 [00:00<00:00, 12.18it/s]\u001B[A\n",
      "Validation DataLoader 0:  15%|█▌        | 2/13 [00:00<00:01, 10.95it/s]\u001B[A\n",
      "Validation DataLoader 0:  23%|██▎       | 3/13 [00:00<00:01,  9.74it/s]\u001B[A\n",
      "Validation DataLoader 0:  31%|███       | 4/13 [00:00<00:00, 11.80it/s]\u001B[A\n",
      "Validation DataLoader 0:  38%|███▊      | 5/13 [00:00<00:00, 13.70it/s]\u001B[A\n",
      "Validation DataLoader 0:  46%|████▌     | 6/13 [00:00<00:00, 15.34it/s]\u001B[A\n",
      "Validation DataLoader 0:  54%|█████▍    | 7/13 [00:00<00:00, 16.74it/s]\u001B[A\n",
      "Validation DataLoader 0:  62%|██████▏   | 8/13 [00:00<00:00, 18.06it/s]\u001B[A\n",
      "Validation DataLoader 0:  69%|██████▉   | 9/13 [00:00<00:00, 19.11it/s]\u001B[A\n",
      "Validation DataLoader 0:  77%|███████▋  | 10/13 [00:00<00:00, 20.08it/s]\u001B[A\n",
      "Validation DataLoader 0:  85%|████████▍ | 11/13 [00:00<00:00, 20.95it/s]\u001B[A\n",
      "Validation DataLoader 0:  92%|█████████▏| 12/13 [00:00<00:00, 21.74it/s]\u001B[A\n",
      "Epoch 3: 100%|██████████| 90/90 [00:36<00:00,  2.47it/s, v_num=2, train_loss_step=1.990, train_loss_epoch=1.990]\n",
      "Epoch 3: 100%|██████████| 90/90 [00:36<00:00,  2.47it/s, v_num=2, train_loss_step=1.990, train_loss_epoch=1.990]"
     ]
    },
    {
     "name": "stderr",
     "output_type": "stream",
     "text": [
      "Metric val_loss improved by 0.000 >= min_delta = 0.0. New best score: 1.978\n"
     ]
    },
    {
     "name": "stdout",
     "output_type": "stream",
     "text": [
      "Epoch 4: 100%|██████████| 90/90 [00:20<00:00,  4.34it/s, v_num=2, train_loss_step=1.990, train_loss_epoch=1.990]\n",
      "Validation: 0it [00:00, ?it/s]\u001B[A\n",
      "Validation:   0%|          | 0/13 [00:00<?, ?it/s]\u001B[A\n",
      "Validation DataLoader 0:   0%|          | 0/13 [00:00<?, ?it/s]\u001B[A\n",
      "Validation DataLoader 0:   8%|▊         | 1/13 [00:00<00:01,  6.43it/s]\u001B[A\n",
      "Validation DataLoader 0:  15%|█▌        | 2/13 [00:00<00:01, 10.67it/s]\u001B[A\n",
      "Validation DataLoader 0:  23%|██▎       | 3/13 [00:00<00:00, 14.12it/s]\u001B[A\n",
      "Validation DataLoader 0:  31%|███       | 4/13 [00:00<00:00, 16.78it/s]\u001B[A\n",
      "Validation DataLoader 0:  38%|███▊      | 5/13 [00:00<00:00, 18.98it/s]\u001B[A\n",
      "Validation DataLoader 0:  46%|████▌     | 6/13 [00:00<00:00, 20.73it/s]\u001B[A\n",
      "Validation DataLoader 0:  54%|█████▍    | 7/13 [00:00<00:00, 17.98it/s]\u001B[A\n",
      "Validation DataLoader 0:  62%|██████▏   | 8/13 [00:00<00:00, 19.35it/s]\u001B[A\n",
      "Validation DataLoader 0:  69%|██████▉   | 9/13 [00:00<00:00, 20.48it/s]\u001B[A\n",
      "Validation DataLoader 0:  77%|███████▋  | 10/13 [00:00<00:00, 21.53it/s]\u001B[A\n",
      "Validation DataLoader 0:  85%|████████▍ | 11/13 [00:00<00:00, 22.43it/s]\u001B[A\n",
      "Validation DataLoader 0:  92%|█████████▏| 12/13 [00:00<00:00, 21.53it/s]\u001B[A\n",
      "Epoch 4: 100%|██████████| 90/90 [00:37<00:00,  2.41it/s, v_num=2, train_loss_step=1.990, train_loss_epoch=1.990]\n",
      "Epoch 4: 100%|██████████| 90/90 [00:37<00:00,  2.41it/s, v_num=2, train_loss_step=1.990, train_loss_epoch=1.990]"
     ]
    },
    {
     "name": "stderr",
     "output_type": "stream",
     "text": [
      "Metric val_loss improved by 0.000 >= min_delta = 0.0. New best score: 1.978\n"
     ]
    },
    {
     "name": "stdout",
     "output_type": "stream",
     "text": [
      "Epoch 5: 100%|██████████| 90/90 [00:20<00:00,  4.43it/s, v_num=2, train_loss_step=1.880, train_loss_epoch=1.990]\n",
      "Validation: 0it [00:00, ?it/s]\u001B[A\n",
      "Validation:   0%|          | 0/13 [00:00<?, ?it/s]\u001B[A\n",
      "Validation DataLoader 0:   0%|          | 0/13 [00:00<?, ?it/s]\u001B[A\n",
      "Validation DataLoader 0:   8%|▊         | 1/13 [00:00<00:00, 21.74it/s]\u001B[A\n",
      "Validation DataLoader 0:  15%|█▌        | 2/13 [00:00<00:00, 18.18it/s]\u001B[A\n",
      "Validation DataLoader 0:  23%|██▎       | 3/13 [00:00<00:00, 18.29it/s]\u001B[A\n",
      "Validation DataLoader 0:  31%|███       | 4/13 [00:00<00:00, 17.17it/s]\u001B[A\n",
      "Validation DataLoader 0:  38%|███▊      | 5/13 [00:00<00:00, 17.12it/s]\u001B[A\n",
      "Validation DataLoader 0:  46%|████▌     | 6/13 [00:00<00:00, 17.60it/s]\u001B[A\n",
      "Validation DataLoader 0:  54%|█████▍    | 7/13 [00:00<00:00, 16.87it/s]\u001B[A\n",
      "Validation DataLoader 0:  62%|██████▏   | 8/13 [00:00<00:00, 17.28it/s]\u001B[A\n",
      "Validation DataLoader 0:  69%|██████▉   | 9/13 [00:00<00:00, 18.07it/s]\u001B[A\n",
      "Validation DataLoader 0:  77%|███████▋  | 10/13 [00:00<00:00, 18.83it/s]\u001B[A\n",
      "Validation DataLoader 0:  85%|████████▍ | 11/13 [00:00<00:00, 19.47it/s]\u001B[A\n",
      "Validation DataLoader 0:  92%|█████████▏| 12/13 [00:00<00:00, 19.83it/s]\u001B[A\n",
      "Epoch 5: 100%|██████████| 90/90 [00:35<00:00,  2.53it/s, v_num=2, train_loss_step=1.880, train_loss_epoch=1.990]\n",
      "Epoch 5: 100%|██████████| 90/90 [00:35<00:00,  2.53it/s, v_num=2, train_loss_step=1.880, train_loss_epoch=1.990]"
     ]
    },
    {
     "name": "stderr",
     "output_type": "stream",
     "text": [
      "Metric val_loss improved by 0.000 >= min_delta = 0.0. New best score: 1.978\n"
     ]
    },
    {
     "name": "stdout",
     "output_type": "stream",
     "text": [
      "Epoch 6: 100%|██████████| 90/90 [00:20<00:00,  4.42it/s, v_num=2, train_loss_step=2.360, train_loss_epoch=1.990]\n",
      "Validation: 0it [00:00, ?it/s]\u001B[A\n",
      "Validation:   0%|          | 0/13 [00:00<?, ?it/s]\u001B[A\n",
      "Validation DataLoader 0:   0%|          | 0/13 [00:00<?, ?it/s]\u001B[A\n",
      "Validation DataLoader 0:   8%|▊         | 1/13 [00:00<00:01,  8.65it/s]\u001B[A\n",
      "Validation DataLoader 0:  15%|█▌        | 2/13 [00:00<00:00, 11.09it/s]\u001B[A\n",
      "Validation DataLoader 0:  23%|██▎       | 3/13 [00:00<00:00, 11.92it/s]\u001B[A\n",
      "Validation DataLoader 0:  31%|███       | 4/13 [00:00<00:00, 13.39it/s]\u001B[A\n",
      "Validation DataLoader 0:  38%|███▊      | 5/13 [00:00<00:00, 15.34it/s]\u001B[A\n",
      "Validation DataLoader 0:  46%|████▌     | 6/13 [00:00<00:00, 17.05it/s]\u001B[A\n",
      "Validation DataLoader 0:  54%|█████▍    | 7/13 [00:00<00:00, 18.52it/s]\u001B[A\n",
      "Validation DataLoader 0:  62%|██████▏   | 8/13 [00:00<00:00, 19.86it/s]\u001B[A\n",
      "Validation DataLoader 0:  69%|██████▉   | 9/13 [00:00<00:00, 21.08it/s]\u001B[A\n",
      "Validation DataLoader 0:  77%|███████▋  | 10/13 [00:00<00:00, 22.13it/s]\u001B[A\n",
      "Validation DataLoader 0:  85%|████████▍ | 11/13 [00:00<00:00, 23.16it/s]\u001B[A\n",
      "Validation DataLoader 0:  92%|█████████▏| 12/13 [00:00<00:00, 22.43it/s]\u001B[A\n",
      "Epoch 6: 100%|██████████| 90/90 [00:35<00:00,  2.51it/s, v_num=2, train_loss_step=2.360, train_loss_epoch=1.990]\n",
      "Epoch 6: 100%|██████████| 90/90 [00:35<00:00,  2.51it/s, v_num=2, train_loss_step=2.360, train_loss_epoch=1.990]"
     ]
    },
    {
     "name": "stderr",
     "output_type": "stream",
     "text": [
      "Metric val_loss improved by 0.000 >= min_delta = 0.0. New best score: 1.978\n"
     ]
    },
    {
     "name": "stdout",
     "output_type": "stream",
     "text": [
      "Epoch 7: 100%|██████████| 90/90 [00:20<00:00,  4.45it/s, v_num=2, train_loss_step=2.040, train_loss_epoch=1.990]\n",
      "Validation: 0it [00:00, ?it/s]\u001B[A\n",
      "Validation:   0%|          | 0/13 [00:00<?, ?it/s]\u001B[A\n",
      "Validation DataLoader 0:   0%|          | 0/13 [00:00<?, ?it/s]\u001B[A\n",
      "Validation DataLoader 0:   8%|▊         | 1/13 [00:00<00:00, 38.46it/s]\u001B[A\n",
      "Validation DataLoader 0:  15%|█▌        | 2/13 [00:00<00:00, 28.57it/s]\u001B[A\n",
      "Validation DataLoader 0:  23%|██▎       | 3/13 [00:00<00:00, 28.30it/s]\u001B[A\n",
      "Validation DataLoader 0:  31%|███       | 4/13 [00:00<00:00, 27.78it/s]\u001B[A\n",
      "Validation DataLoader 0:  38%|███▊      | 5/13 [00:00<00:00, 27.47it/s]\u001B[A\n",
      "Validation DataLoader 0:  46%|████▌     | 6/13 [00:00<00:00, 27.03it/s]\u001B[A\n",
      "Validation DataLoader 0:  54%|█████▍    | 7/13 [00:00<00:00, 18.57it/s]\u001B[A\n",
      "Validation DataLoader 0:  62%|██████▏   | 8/13 [00:00<00:00, 18.48it/s]\u001B[A\n",
      "Validation DataLoader 0:  69%|██████▉   | 9/13 [00:00<00:00, 18.74it/s]\u001B[A\n",
      "Validation DataLoader 0:  77%|███████▋  | 10/13 [00:00<00:00, 19.34it/s]\u001B[A\n",
      "Validation DataLoader 0:  85%|████████▍ | 11/13 [00:00<00:00, 19.85it/s]\u001B[A\n",
      "Validation DataLoader 0:  92%|█████████▏| 12/13 [00:00<00:00, 20.42it/s]\u001B[A\n",
      "Epoch 7: 100%|██████████| 90/90 [00:35<00:00,  2.52it/s, v_num=2, train_loss_step=2.040, train_loss_epoch=1.990]\n",
      "Epoch 7: 100%|██████████| 90/90 [00:35<00:00,  2.52it/s, v_num=2, train_loss_step=2.040, train_loss_epoch=1.990]"
     ]
    },
    {
     "name": "stderr",
     "output_type": "stream",
     "text": [
      "Metric val_loss improved by 0.000 >= min_delta = 0.0. New best score: 1.978\n"
     ]
    },
    {
     "name": "stdout",
     "output_type": "stream",
     "text": [
      "Epoch 8: 100%|██████████| 90/90 [00:19<00:00,  4.50it/s, v_num=2, train_loss_step=1.830, train_loss_epoch=1.990]\n",
      "Validation: 0it [00:00, ?it/s]\u001B[A\n",
      "Validation:   0%|          | 0/13 [00:00<?, ?it/s]\u001B[A\n",
      "Validation DataLoader 0:   0%|          | 0/13 [00:00<?, ?it/s]\u001B[A\n",
      "Validation DataLoader 0:   8%|▊         | 1/13 [00:00<00:00, 22.71it/s]\u001B[A\n",
      "Validation DataLoader 0:  15%|█▌        | 2/13 [00:00<00:00, 18.38it/s]\u001B[A\n",
      "Validation DataLoader 0:  23%|██▎       | 3/13 [00:00<00:00, 20.41it/s]\u001B[A\n",
      "Validation DataLoader 0:  31%|███       | 4/13 [00:00<00:00, 22.10it/s]\u001B[A\n",
      "Validation DataLoader 0:  38%|███▊      | 5/13 [00:00<00:00, 23.15it/s]\u001B[A\n",
      "Validation DataLoader 0:  46%|████▌     | 6/13 [00:00<00:00, 24.00it/s]\u001B[A\n",
      "Validation DataLoader 0:  54%|█████▍    | 7/13 [00:00<00:00, 22.44it/s]\u001B[A\n",
      "Validation DataLoader 0:  62%|██████▏   | 8/13 [00:00<00:00, 21.19it/s]\u001B[A\n",
      "Validation DataLoader 0:  69%|██████▉   | 9/13 [00:00<00:00, 22.13it/s]\u001B[A\n",
      "Validation DataLoader 0:  77%|███████▋  | 10/13 [00:00<00:00, 23.01it/s]\u001B[A\n",
      "Validation DataLoader 0:  85%|████████▍ | 11/13 [00:00<00:00, 23.88it/s]\u001B[A\n",
      "Validation DataLoader 0:  92%|█████████▏| 12/13 [00:00<00:00, 24.56it/s]\u001B[A\n",
      "Epoch 8: 100%|██████████| 90/90 [00:35<00:00,  2.55it/s, v_num=2, train_loss_step=1.830, train_loss_epoch=1.990]\n",
      "Epoch 8: 100%|██████████| 90/90 [00:35<00:00,  2.55it/s, v_num=2, train_loss_step=1.830, train_loss_epoch=1.990]"
     ]
    },
    {
     "name": "stderr",
     "output_type": "stream",
     "text": [
      "Metric val_loss improved by 0.000 >= min_delta = 0.0. New best score: 1.978\n"
     ]
    },
    {
     "name": "stdout",
     "output_type": "stream",
     "text": [
      "Epoch 9: 100%|██████████| 90/90 [00:20<00:00,  4.45it/s, v_num=2, train_loss_step=2.040, train_loss_epoch=1.990]\n",
      "Validation: 0it [00:00, ?it/s]\u001B[A\n",
      "Validation:   0%|          | 0/13 [00:00<?, ?it/s]\u001B[A\n",
      "Validation DataLoader 0:   0%|          | 0/13 [00:00<?, ?it/s]\u001B[A\n",
      "Validation DataLoader 0:   8%|▊         | 1/13 [00:00<00:00, 45.46it/s]\u001B[A\n",
      "Validation DataLoader 0:  15%|█▌        | 2/13 [00:00<00:00, 32.26it/s]\u001B[A\n",
      "Validation DataLoader 0:  23%|██▎       | 3/13 [00:00<00:00, 28.30it/s]\u001B[A\n",
      "Validation DataLoader 0:  31%|███       | 4/13 [00:00<00:00, 27.21it/s]\u001B[A\n",
      "Validation DataLoader 0:  38%|███▊      | 5/13 [00:00<00:00, 27.32it/s]\u001B[A\n",
      "Validation DataLoader 0:  46%|████▌     | 6/13 [00:00<00:00, 27.03it/s]\u001B[A\n",
      "Validation DataLoader 0:  54%|█████▍    | 7/13 [00:00<00:00, 19.94it/s]\u001B[A\n",
      "Validation DataLoader 0:  62%|██████▏   | 8/13 [00:00<00:00, 20.46it/s]\u001B[A\n",
      "Validation DataLoader 0:  69%|██████▉   | 9/13 [00:00<00:00, 21.23it/s]\u001B[A\n",
      "Validation DataLoader 0:  77%|███████▋  | 10/13 [00:00<00:00, 21.93it/s]\u001B[A\n",
      "Validation DataLoader 0:  85%|████████▍ | 11/13 [00:00<00:00, 22.40it/s]\u001B[A\n",
      "Validation DataLoader 0:  92%|█████████▏| 12/13 [00:00<00:00, 22.73it/s]\u001B[A\n",
      "Epoch 9: 100%|██████████| 90/90 [00:35<00:00,  2.52it/s, v_num=2, train_loss_step=2.040, train_loss_epoch=1.990]\n",
      "Epoch 9: 100%|██████████| 90/90 [00:35<00:00,  2.51it/s, v_num=2, train_loss_step=2.040, train_loss_epoch=1.990]"
     ]
    },
    {
     "name": "stderr",
     "output_type": "stream",
     "text": [
      "Metric val_loss improved by 0.000 >= min_delta = 0.0. New best score: 1.978\n"
     ]
    },
    {
     "name": "stdout",
     "output_type": "stream",
     "text": [
      "Epoch 10: 100%|██████████| 90/90 [00:20<00:00,  4.48it/s, v_num=2, train_loss_step=2.090, train_loss_epoch=1.990]\n",
      "Validation: 0it [00:00, ?it/s]\u001B[A\n",
      "Validation:   0%|          | 0/13 [00:00<?, ?it/s]\u001B[A\n",
      "Validation DataLoader 0:   0%|          | 0/13 [00:00<?, ?it/s]\u001B[A\n",
      "Validation DataLoader 0:   8%|▊         | 1/13 [00:00<00:01,  6.98it/s]\u001B[A\n",
      "Validation DataLoader 0:  15%|█▌        | 2/13 [00:00<00:01,  9.69it/s]\u001B[A\n",
      "Validation DataLoader 0:  23%|██▎       | 3/13 [00:00<00:00, 12.97it/s]\u001B[A\n",
      "Validation DataLoader 0:  31%|███       | 4/13 [00:00<00:00, 15.48it/s]\u001B[A\n",
      "Validation DataLoader 0:  38%|███▊      | 5/13 [00:00<00:00, 17.40it/s]\u001B[A\n",
      "Validation DataLoader 0:  46%|████▌     | 6/13 [00:00<00:00, 19.03it/s]\u001B[A\n",
      "Validation DataLoader 0:  54%|█████▍    | 7/13 [00:00<00:00, 20.63it/s]\u001B[A\n",
      "Validation DataLoader 0:  62%|██████▏   | 8/13 [00:00<00:00, 21.96it/s]\u001B[A\n",
      "Validation DataLoader 0:  69%|██████▉   | 9/13 [00:00<00:00, 22.88it/s]\u001B[A\n",
      "Validation DataLoader 0:  77%|███████▋  | 10/13 [00:00<00:00, 23.90it/s]\u001B[A\n",
      "Validation DataLoader 0:  85%|████████▍ | 11/13 [00:00<00:00, 24.87it/s]\u001B[A\n",
      "Validation DataLoader 0:  92%|█████████▏| 12/13 [00:00<00:00, 23.70it/s]\u001B[A\n",
      "Epoch 10: 100%|██████████| 90/90 [00:35<00:00,  2.55it/s, v_num=2, train_loss_step=2.090, train_loss_epoch=1.990]\n",
      "Epoch 10: 100%|██████████| 90/90 [00:35<00:00,  2.55it/s, v_num=2, train_loss_step=2.090, train_loss_epoch=1.990]"
     ]
    },
    {
     "name": "stderr",
     "output_type": "stream",
     "text": [
      "Metric val_loss improved by 0.000 >= min_delta = 0.0. New best score: 1.978\n"
     ]
    },
    {
     "name": "stdout",
     "output_type": "stream",
     "text": [
      "Epoch 11: 100%|██████████| 90/90 [00:21<00:00,  4.18it/s, v_num=2, train_loss_step=2.040, train_loss_epoch=1.990]\n",
      "Validation: 0it [00:00, ?it/s]\u001B[A\n",
      "Validation:   0%|          | 0/13 [00:00<?, ?it/s]\u001B[A\n",
      "Validation DataLoader 0:   0%|          | 0/13 [00:00<?, ?it/s]\u001B[A\n",
      "Validation DataLoader 0:   8%|▊         | 1/13 [00:00<00:02,  5.03it/s]\u001B[A\n",
      "Validation DataLoader 0:  15%|█▌        | 2/13 [00:00<00:01,  8.81it/s]\u001B[A\n",
      "Validation DataLoader 0:  23%|██▎       | 3/13 [00:00<00:00, 11.76it/s]\u001B[A\n",
      "Validation DataLoader 0:  31%|███       | 4/13 [00:00<00:00, 13.98it/s]\u001B[A\n",
      "Validation DataLoader 0:  38%|███▊      | 5/13 [00:00<00:00, 15.94it/s]\u001B[A\n",
      "Validation DataLoader 0:  46%|████▌     | 6/13 [00:00<00:00, 17.56it/s]\u001B[A\n",
      "Validation DataLoader 0:  54%|█████▍    | 7/13 [00:00<00:00, 18.89it/s]\u001B[A\n",
      "Validation DataLoader 0:  62%|██████▏   | 8/13 [00:00<00:00, 20.18it/s]\u001B[A\n",
      "Validation DataLoader 0:  69%|██████▉   | 9/13 [00:00<00:00, 21.10it/s]\u001B[A\n",
      "Validation DataLoader 0:  77%|███████▋  | 10/13 [00:00<00:00, 22.10it/s]\u001B[A\n",
      "Validation DataLoader 0:  85%|████████▍ | 11/13 [00:00<00:00, 22.98it/s]\u001B[A\n",
      "Validation DataLoader 0:  92%|█████████▏| 12/13 [00:00<00:00, 23.73it/s]\u001B[A\n",
      "Epoch 11: 100%|██████████| 90/90 [00:37<00:00,  2.40it/s, v_num=2, train_loss_step=2.040, train_loss_epoch=1.990]\n",
      "Epoch 11: 100%|██████████| 90/90 [00:37<00:00,  2.40it/s, v_num=2, train_loss_step=2.040, train_loss_epoch=1.990]"
     ]
    },
    {
     "name": "stderr",
     "output_type": "stream",
     "text": [
      "Metric val_loss improved by 0.000 >= min_delta = 0.0. New best score: 1.978\n"
     ]
    },
    {
     "name": "stdout",
     "output_type": "stream",
     "text": [
      "Epoch 12: 100%|██████████| 90/90 [00:20<00:00,  4.37it/s, v_num=2, train_loss_step=1.990, train_loss_epoch=1.990]\n",
      "Validation: 0it [00:00, ?it/s]\u001B[A\n",
      "Validation:   0%|          | 0/13 [00:00<?, ?it/s]\u001B[A\n",
      "Validation DataLoader 0:   0%|          | 0/13 [00:00<?, ?it/s]\u001B[A\n",
      "Validation DataLoader 0:   8%|▊         | 1/13 [00:00<00:02,  5.36it/s]\u001B[A\n",
      "Validation DataLoader 0:  15%|█▌        | 2/13 [00:00<00:01,  8.20it/s]\u001B[A\n",
      "Validation DataLoader 0:  23%|██▎       | 3/13 [00:00<00:00, 11.07it/s]\u001B[A\n",
      "Validation DataLoader 0:  31%|███       | 4/13 [00:00<00:00, 13.37it/s]\u001B[A\n",
      "Validation DataLoader 0:  38%|███▊      | 5/13 [00:00<00:00, 15.20it/s]\u001B[A\n",
      "Validation DataLoader 0:  46%|████▌     | 6/13 [00:00<00:00, 16.90it/s]\u001B[A\n",
      "Validation DataLoader 0:  54%|█████▍    | 7/13 [00:00<00:00, 18.32it/s]\u001B[A\n",
      "Validation DataLoader 0:  62%|██████▏   | 8/13 [00:00<00:00, 19.61it/s]\u001B[A\n",
      "Validation DataLoader 0:  69%|██████▉   | 9/13 [00:00<00:00, 20.78it/s]\u001B[A\n",
      "Validation DataLoader 0:  77%|███████▋  | 10/13 [00:00<00:00, 21.79it/s]\u001B[A\n",
      "Validation DataLoader 0:  85%|████████▍ | 11/13 [00:00<00:00, 22.68it/s]\u001B[A\n",
      "Validation DataLoader 0:  92%|█████████▏| 12/13 [00:00<00:00, 23.48it/s]\u001B[A\n",
      "Epoch 12: 100%|██████████| 90/90 [00:36<00:00,  2.46it/s, v_num=2, train_loss_step=1.990, train_loss_epoch=1.990]\n",
      "Epoch 12: 100%|██████████| 90/90 [00:36<00:00,  2.46it/s, v_num=2, train_loss_step=1.990, train_loss_epoch=1.990]"
     ]
    },
    {
     "name": "stderr",
     "output_type": "stream",
     "text": [
      "Metric val_loss improved by 0.000 >= min_delta = 0.0. New best score: 1.978\n"
     ]
    },
    {
     "name": "stdout",
     "output_type": "stream",
     "text": [
      "Epoch 13: 100%|██████████| 90/90 [00:20<00:00,  4.29it/s, v_num=2, train_loss_step=1.880, train_loss_epoch=1.990]\n",
      "Validation: 0it [00:00, ?it/s]\u001B[A\n",
      "Validation:   0%|          | 0/13 [00:00<?, ?it/s]\u001B[A\n",
      "Validation DataLoader 0:   0%|          | 0/13 [00:00<?, ?it/s]\u001B[A\n",
      "Validation DataLoader 0:   8%|▊         | 1/13 [00:00<00:01,  6.21it/s]\u001B[A\n",
      "Validation DataLoader 0:  15%|█▌        | 2/13 [00:00<00:01, 10.32it/s]\u001B[A\n",
      "Validation DataLoader 0:  23%|██▎       | 3/13 [00:00<00:00, 13.55it/s]\u001B[A\n",
      "Validation DataLoader 0:  31%|███       | 4/13 [00:00<00:00, 15.97it/s]\u001B[A\n",
      "Validation DataLoader 0:  38%|███▊      | 5/13 [00:00<00:00, 17.76it/s]\u001B[A\n",
      "Validation DataLoader 0:  46%|████▌     | 6/13 [00:00<00:00, 18.84it/s]\u001B[A\n",
      "Validation DataLoader 0:  54%|█████▍    | 7/13 [00:00<00:00, 19.31it/s]\u001B[A\n",
      "Validation DataLoader 0:  62%|██████▏   | 8/13 [00:00<00:00, 20.18it/s]\u001B[A\n",
      "Validation DataLoader 0:  69%|██████▉   | 9/13 [00:00<00:00, 20.96it/s]\u001B[A\n",
      "Validation DataLoader 0:  77%|███████▋  | 10/13 [00:00<00:00, 21.81it/s]\u001B[A\n",
      "Validation DataLoader 0:  85%|████████▍ | 11/13 [00:00<00:00, 22.38it/s]\u001B[A\n",
      "Validation DataLoader 0:  92%|█████████▏| 12/13 [00:00<00:00, 20.85it/s]\u001B[A\n",
      "Epoch 13: 100%|██████████| 90/90 [00:36<00:00,  2.47it/s, v_num=2, train_loss_step=1.880, train_loss_epoch=1.990]\n",
      "Epoch 13: 100%|██████████| 90/90 [00:36<00:00,  2.47it/s, v_num=2, train_loss_step=1.880, train_loss_epoch=1.990]"
     ]
    },
    {
     "name": "stderr",
     "output_type": "stream",
     "text": [
      "Metric val_loss improved by 0.000 >= min_delta = 0.0. New best score: 1.978\n"
     ]
    },
    {
     "name": "stdout",
     "output_type": "stream",
     "text": [
      "Epoch 14: 100%|██████████| 90/90 [00:20<00:00,  4.43it/s, v_num=2, train_loss_step=1.930, train_loss_epoch=1.990]\n",
      "Validation: 0it [00:00, ?it/s]\u001B[A\n",
      "Validation:   0%|          | 0/13 [00:00<?, ?it/s]\u001B[A\n",
      "Validation DataLoader 0:   0%|          | 0/13 [00:00<?, ?it/s]\u001B[A\n",
      "Validation DataLoader 0:   8%|▊         | 1/13 [00:00<00:01, 11.34it/s]\u001B[A\n",
      "Validation DataLoader 0:  15%|█▌        | 2/13 [00:00<00:00, 11.60it/s]\u001B[A\n",
      "Validation DataLoader 0:  23%|██▎       | 3/13 [00:00<00:00, 12.80it/s]\u001B[A\n",
      "Validation DataLoader 0:  31%|███       | 4/13 [00:00<00:00, 15.31it/s]\u001B[A\n",
      "Validation DataLoader 0:  38%|███▊      | 5/13 [00:00<00:00, 17.46it/s]\u001B[A\n",
      "Validation DataLoader 0:  46%|████▌     | 6/13 [00:00<00:00, 19.21it/s]\u001B[A\n",
      "Validation DataLoader 0:  54%|█████▍    | 7/13 [00:00<00:00, 20.21it/s]\u001B[A\n",
      "Validation DataLoader 0:  62%|██████▏   | 8/13 [00:00<00:00, 21.37it/s]\u001B[A\n",
      "Validation DataLoader 0:  69%|██████▉   | 9/13 [00:00<00:00, 22.42it/s]\u001B[A\n",
      "Validation DataLoader 0:  77%|███████▋  | 10/13 [00:00<00:00, 23.45it/s]\u001B[A\n",
      "Validation DataLoader 0:  85%|████████▍ | 11/13 [00:00<00:00, 24.37it/s]\u001B[A\n",
      "Validation DataLoader 0:  92%|█████████▏| 12/13 [00:00<00:00, 25.14it/s]\u001B[A\n",
      "Epoch 14: 100%|██████████| 90/90 [00:35<00:00,  2.51it/s, v_num=2, train_loss_step=1.930, train_loss_epoch=1.990]\n",
      "Epoch 15: 100%|██████████| 90/90 [00:19<00:00,  4.51it/s, v_num=2, train_loss_step=1.830, train_loss_epoch=1.990]\n",
      "Validation: 0it [00:00, ?it/s]\u001B[A\n",
      "Validation:   0%|          | 0/13 [00:00<?, ?it/s]\u001B[A\n",
      "Validation DataLoader 0:   0%|          | 0/13 [00:00<?, ?it/s]\u001B[A\n",
      "Validation DataLoader 0:   8%|▊         | 1/13 [00:00<00:00, 13.33it/s]\u001B[A\n",
      "Validation DataLoader 0:  15%|█▌        | 2/13 [00:00<00:00, 12.90it/s]\u001B[A\n",
      "Validation DataLoader 0:  23%|██▎       | 3/13 [00:00<00:00, 12.66it/s]\u001B[A\n",
      "Validation DataLoader 0:  31%|███       | 4/13 [00:00<00:00, 12.98it/s]\u001B[A\n",
      "Validation DataLoader 0:  38%|███▊      | 5/13 [00:00<00:00, 14.96it/s]\u001B[A\n",
      "Validation DataLoader 0:  46%|████▌     | 6/13 [00:00<00:00, 16.66it/s]\u001B[A\n",
      "Validation DataLoader 0:  54%|█████▍    | 7/13 [00:00<00:00, 18.13it/s]\u001B[A\n",
      "Validation DataLoader 0:  62%|██████▏   | 8/13 [00:00<00:00, 19.50it/s]\u001B[A\n",
      "Validation DataLoader 0:  69%|██████▉   | 9/13 [00:00<00:00, 20.59it/s]\u001B[A\n",
      "Validation DataLoader 0:  77%|███████▋  | 10/13 [00:00<00:00, 21.64it/s]\u001B[A\n",
      "Validation DataLoader 0:  85%|████████▍ | 11/13 [00:00<00:00, 22.58it/s]\u001B[A\n",
      "Validation DataLoader 0:  92%|█████████▏| 12/13 [00:00<00:00, 23.47it/s]\u001B[A\n",
      "Epoch 15: 100%|██████████| 90/90 [00:34<00:00,  2.59it/s, v_num=2, train_loss_step=1.830, train_loss_epoch=1.990]\n",
      "Epoch 15: 100%|██████████| 90/90 [00:34<00:00,  2.59it/s, v_num=2, train_loss_step=1.830, train_loss_epoch=1.990]"
     ]
    },
    {
     "name": "stderr",
     "output_type": "stream",
     "text": [
      "Metric val_loss improved by 0.000 >= min_delta = 0.0. New best score: 1.978\n"
     ]
    },
    {
     "name": "stdout",
     "output_type": "stream",
     "text": [
      "Epoch 16: 100%|██████████| 90/90 [00:19<00:00,  4.62it/s, v_num=2, train_loss_step=1.990, train_loss_epoch=1.990]\n",
      "Validation: 0it [00:00, ?it/s]\u001B[A\n",
      "Validation:   0%|          | 0/13 [00:00<?, ?it/s]\u001B[A\n",
      "Validation DataLoader 0:   0%|          | 0/13 [00:00<?, ?it/s]\u001B[A\n",
      "Validation DataLoader 0:   8%|▊         | 1/13 [00:00<00:01, 10.75it/s]\u001B[A\n",
      "Validation DataLoader 0:  15%|█▌        | 2/13 [00:00<00:00, 13.61it/s]\u001B[A\n",
      "Validation DataLoader 0:  23%|██▎       | 3/13 [00:00<00:00, 13.33it/s]\u001B[A\n",
      "Validation DataLoader 0:  31%|███       | 4/13 [00:00<00:00, 15.86it/s]\u001B[A\n",
      "Validation DataLoader 0:  38%|███▊      | 5/13 [00:00<00:00, 18.04it/s]\u001B[A\n",
      "Validation DataLoader 0:  46%|████▌     | 6/13 [00:00<00:00, 19.85it/s]\u001B[A\n",
      "Validation DataLoader 0:  54%|█████▍    | 7/13 [00:00<00:00, 18.61it/s]\u001B[A\n",
      "Validation DataLoader 0:  62%|██████▏   | 8/13 [00:00<00:00, 19.89it/s]\u001B[A\n",
      "Validation DataLoader 0:  69%|██████▉   | 9/13 [00:00<00:00, 20.92it/s]\u001B[A\n",
      "Validation DataLoader 0:  77%|███████▋  | 10/13 [00:00<00:00, 21.87it/s]\u001B[A\n",
      "Validation DataLoader 0:  85%|████████▍ | 11/13 [00:00<00:00, 22.77it/s]\u001B[A\n",
      "Validation DataLoader 0:  92%|█████████▏| 12/13 [00:00<00:00, 23.25it/s]\u001B[A\n",
      "Epoch 16: 100%|██████████| 90/90 [00:34<00:00,  2.64it/s, v_num=2, train_loss_step=1.990, train_loss_epoch=1.990]\n",
      "Epoch 16: 100%|██████████| 90/90 [00:34<00:00,  2.64it/s, v_num=2, train_loss_step=1.990, train_loss_epoch=1.990]"
     ]
    },
    {
     "name": "stderr",
     "output_type": "stream",
     "text": [
      "Metric val_loss improved by 0.000 >= min_delta = 0.0. New best score: 1.978\n"
     ]
    },
    {
     "name": "stdout",
     "output_type": "stream",
     "text": [
      "Epoch 17: 100%|██████████| 90/90 [00:19<00:00,  4.71it/s, v_num=2, train_loss_step=1.720, train_loss_epoch=1.990]\n",
      "Validation: 0it [00:00, ?it/s]\u001B[A\n",
      "Validation:   0%|          | 0/13 [00:00<?, ?it/s]\u001B[A\n",
      "Validation DataLoader 0:   0%|          | 0/13 [00:00<?, ?it/s]\u001B[A\n",
      "Validation DataLoader 0:   8%|▊         | 1/13 [00:00<00:01,  9.45it/s]\u001B[A\n",
      "Validation DataLoader 0:  15%|█▌        | 2/13 [00:00<00:00, 12.85it/s]\u001B[A\n",
      "Validation DataLoader 0:  23%|██▎       | 3/13 [00:00<00:00, 13.02it/s]\u001B[A\n",
      "Validation DataLoader 0:  31%|███       | 4/13 [00:00<00:00, 12.58it/s]\u001B[A\n",
      "Validation DataLoader 0:  38%|███▊      | 5/13 [00:00<00:00, 14.58it/s]\u001B[A\n",
      "Validation DataLoader 0:  46%|████▌     | 6/13 [00:00<00:00, 16.22it/s]\u001B[A\n",
      "Validation DataLoader 0:  54%|█████▍    | 7/13 [00:00<00:00, 17.73it/s]\u001B[A\n",
      "Validation DataLoader 0:  62%|██████▏   | 8/13 [00:00<00:00, 19.01it/s]\u001B[A\n",
      "Validation DataLoader 0:  69%|██████▉   | 9/13 [00:00<00:00, 20.14it/s]\u001B[A\n",
      "Validation DataLoader 0:  77%|███████▋  | 10/13 [00:00<00:00, 21.19it/s]\u001B[A\n",
      "Validation DataLoader 0:  85%|████████▍ | 11/13 [00:00<00:00, 22.05it/s]\u001B[A\n",
      "Validation DataLoader 0:  92%|█████████▏| 12/13 [00:00<00:00, 22.90it/s]\u001B[A\n",
      "Epoch 17: 100%|██████████| 90/90 [00:34<00:00,  2.61it/s, v_num=2, train_loss_step=1.720, train_loss_epoch=1.990]\n",
      "Epoch 18: 100%|██████████| 90/90 [00:19<00:00,  4.63it/s, v_num=2, train_loss_step=2.150, train_loss_epoch=1.990]\n",
      "Validation: 0it [00:00, ?it/s]\u001B[A\n",
      "Validation:   0%|          | 0/13 [00:00<?, ?it/s]\u001B[A\n",
      "Validation DataLoader 0:   0%|          | 0/13 [00:00<?, ?it/s]\u001B[A\n",
      "Validation DataLoader 0:   8%|▊         | 1/13 [00:00<00:00, 15.87it/s]\u001B[A\n",
      "Validation DataLoader 0:  15%|█▌        | 2/13 [00:00<00:00, 16.39it/s]\u001B[A\n",
      "Validation DataLoader 0:  23%|██▎       | 3/13 [00:00<00:00, 16.76it/s]\u001B[A\n",
      "Validation DataLoader 0:  31%|███       | 4/13 [00:00<00:00, 16.88it/s]\u001B[A\n",
      "Validation DataLoader 0:  38%|███▊      | 5/13 [00:00<00:00, 17.06it/s]\u001B[A\n",
      "Validation DataLoader 0:  46%|████▌     | 6/13 [00:00<00:00, 18.18it/s]\u001B[A\n",
      "Validation DataLoader 0:  54%|█████▍    | 7/13 [00:00<00:00, 18.23it/s]\u001B[A\n",
      "Validation DataLoader 0:  62%|██████▏   | 8/13 [00:00<00:00, 19.00it/s]\u001B[A\n",
      "Validation DataLoader 0:  69%|██████▉   | 9/13 [00:00<00:00, 19.78it/s]\u001B[A\n",
      "Validation DataLoader 0:  77%|███████▋  | 10/13 [00:00<00:00, 20.41it/s]\u001B[A\n",
      "Validation DataLoader 0:  85%|████████▍ | 11/13 [00:00<00:00, 20.91it/s]\u001B[A\n",
      "Validation DataLoader 0:  92%|█████████▏| 12/13 [00:00<00:00, 21.43it/s]\u001B[A\n",
      "Epoch 18: 100%|██████████| 90/90 [00:33<00:00,  2.65it/s, v_num=2, train_loss_step=2.150, train_loss_epoch=1.990]\n",
      "Epoch 18: 100%|██████████| 90/90 [00:33<00:00,  2.65it/s, v_num=2, train_loss_step=2.150, train_loss_epoch=1.990]"
     ]
    },
    {
     "name": "stderr",
     "output_type": "stream",
     "text": [
      "Metric val_loss improved by 0.000 >= min_delta = 0.0. New best score: 1.978\n"
     ]
    },
    {
     "name": "stdout",
     "output_type": "stream",
     "text": [
      "Epoch 19: 100%|██████████| 90/90 [00:19<00:00,  4.60it/s, v_num=2, train_loss_step=1.880, train_loss_epoch=1.990]\n",
      "Validation: 0it [00:00, ?it/s]\u001B[A\n",
      "Validation:   0%|          | 0/13 [00:00<?, ?it/s]\u001B[A\n",
      "Validation DataLoader 0:   0%|          | 0/13 [00:00<?, ?it/s]\u001B[A\n",
      "Validation DataLoader 0:   8%|▊         | 1/13 [00:00<00:00, 30.30it/s]\u001B[A\n",
      "Validation DataLoader 0:  15%|█▌        | 2/13 [00:00<00:00, 21.74it/s]\u001B[A\n",
      "Validation DataLoader 0:  23%|██▎       | 3/13 [00:00<00:00, 19.74it/s]\u001B[A\n",
      "Validation DataLoader 0:  31%|███       | 4/13 [00:00<00:00, 19.14it/s]\u001B[A\n",
      "Validation DataLoader 0:  38%|███▊      | 5/13 [00:00<00:00, 18.52it/s]\u001B[A\n",
      "Validation DataLoader 0:  46%|████▌     | 6/13 [00:00<00:00, 18.52it/s]\u001B[A\n",
      "Validation DataLoader 0:  54%|█████▍    | 7/13 [00:00<00:00, 18.13it/s]\u001B[A\n",
      "Validation DataLoader 0:  62%|██████▏   | 8/13 [00:00<00:00, 18.52it/s]\u001B[A\n",
      "Validation DataLoader 0:  69%|██████▉   | 9/13 [00:00<00:00, 18.83it/s]\u001B[A\n",
      "Validation DataLoader 0:  77%|███████▋  | 10/13 [00:00<00:00, 19.46it/s]\u001B[A\n",
      "Validation DataLoader 0:  85%|████████▍ | 11/13 [00:00<00:00, 19.89it/s]\u001B[A\n",
      "Validation DataLoader 0:  92%|█████████▏| 12/13 [00:00<00:00, 20.30it/s]\u001B[A\n",
      "Epoch 19: 100%|██████████| 90/90 [00:34<00:00,  2.63it/s, v_num=2, train_loss_step=1.880, train_loss_epoch=1.990]\n",
      "Epoch 20: 100%|██████████| 90/90 [00:19<00:00,  4.72it/s, v_num=2, train_loss_step=1.930, train_loss_epoch=1.990]\n",
      "Validation: 0it [00:00, ?it/s]\u001B[A\n",
      "Validation:   0%|          | 0/13 [00:00<?, ?it/s]\u001B[A\n",
      "Validation DataLoader 0:   0%|          | 0/13 [00:00<?, ?it/s]\u001B[A\n",
      "Validation DataLoader 0:   8%|▊         | 1/13 [00:00<00:00, 40.00it/s]\u001B[A\n",
      "Validation DataLoader 0:  15%|█▌        | 2/13 [00:00<00:00, 25.32it/s]\u001B[A\n",
      "Validation DataLoader 0:  23%|██▎       | 3/13 [00:00<00:00, 22.90it/s]\u001B[A\n",
      "Validation DataLoader 0:  31%|███       | 4/13 [00:00<00:00, 21.86it/s]\u001B[A\n",
      "Validation DataLoader 0:  38%|███▊      | 5/13 [00:00<00:00, 21.10it/s]\u001B[A\n",
      "Validation DataLoader 0:  46%|████▌     | 6/13 [00:00<00:00, 20.76it/s]\u001B[A\n",
      "Validation DataLoader 0:  54%|█████▍    | 7/13 [00:00<00:00, 18.62it/s]\u001B[A\n",
      "Validation DataLoader 0:  62%|██████▏   | 8/13 [00:00<00:00, 18.82it/s]\u001B[A\n",
      "Validation DataLoader 0:  69%|██████▉   | 9/13 [00:00<00:00, 19.11it/s]\u001B[A\n",
      "Validation DataLoader 0:  77%|███████▋  | 10/13 [00:00<00:00, 19.38it/s]\u001B[A\n",
      "Validation DataLoader 0:  85%|████████▍ | 11/13 [00:00<00:00, 19.57it/s]\u001B[A\n",
      "Validation DataLoader 0:  92%|█████████▏| 12/13 [00:00<00:00, 19.77it/s]\u001B[A\n",
      "Epoch 20: 100%|██████████| 90/90 [00:33<00:00,  2.67it/s, v_num=2, train_loss_step=1.930, train_loss_epoch=1.990]\n",
      "Epoch 21: 100%|██████████| 90/90 [00:19<00:00,  4.68it/s, v_num=2, train_loss_step=1.930, train_loss_epoch=1.990]\n",
      "Validation: 0it [00:00, ?it/s]\u001B[A\n",
      "Validation:   0%|          | 0/13 [00:00<?, ?it/s]\u001B[A\n",
      "Validation DataLoader 0:   0%|          | 0/13 [00:00<?, ?it/s]\u001B[A\n",
      "Validation DataLoader 0:   8%|▊         | 1/13 [00:00<00:00, 34.48it/s]\u001B[A\n",
      "Validation DataLoader 0:  15%|█▌        | 2/13 [00:00<00:00, 22.99it/s]\u001B[A\n",
      "Validation DataLoader 0:  23%|██▎       | 3/13 [00:00<00:00, 22.06it/s]\u001B[A\n",
      "Validation DataLoader 0:  31%|███       | 4/13 [00:00<00:00, 22.10it/s]\u001B[A\n",
      "Validation DataLoader 0:  38%|███▊      | 5/13 [00:00<00:00, 21.93it/s]\u001B[A\n",
      "Validation DataLoader 0:  46%|████▌     | 6/13 [00:00<00:00, 21.28it/s]\u001B[A\n",
      "Validation DataLoader 0:  54%|█████▍    | 7/13 [00:00<00:00, 19.28it/s]\u001B[A\n",
      "Validation DataLoader 0:  62%|██████▏   | 8/13 [00:00<00:00, 19.56it/s]\u001B[A\n",
      "Validation DataLoader 0:  69%|██████▉   | 9/13 [00:00<00:00, 19.78it/s]\u001B[A\n",
      "Validation DataLoader 0:  77%|███████▋  | 10/13 [00:00<00:00, 19.96it/s]\u001B[A\n",
      "Validation DataLoader 0:  85%|████████▍ | 11/13 [00:00<00:00, 20.11it/s]\u001B[A\n",
      "Validation DataLoader 0:  92%|█████████▏| 12/13 [00:00<00:00, 20.58it/s]\u001B[A\n",
      "Epoch 21: 100%|██████████| 90/90 [00:33<00:00,  2.66it/s, v_num=2, train_loss_step=1.930, train_loss_epoch=1.990]\n",
      "Epoch 21: 100%|██████████| 90/90 [00:33<00:00,  2.66it/s, v_num=2, train_loss_step=1.930, train_loss_epoch=1.990]"
     ]
    },
    {
     "name": "stderr",
     "output_type": "stream",
     "text": [
      "Metric val_loss improved by 0.000 >= min_delta = 0.0. New best score: 1.978\n"
     ]
    },
    {
     "name": "stdout",
     "output_type": "stream",
     "text": [
      "Epoch 22: 100%|██████████| 90/90 [00:19<00:00,  4.72it/s, v_num=2, train_loss_step=2.200, train_loss_epoch=1.990]\n",
      "Validation: 0it [00:00, ?it/s]\u001B[A\n",
      "Validation:   0%|          | 0/13 [00:00<?, ?it/s]\u001B[A\n",
      "Validation DataLoader 0:   0%|          | 0/13 [00:00<?, ?it/s]\u001B[A\n",
      "Validation DataLoader 0:   8%|▊         | 1/13 [00:00<00:00, 28.57it/s]\u001B[A\n",
      "Validation DataLoader 0:  15%|█▌        | 2/13 [00:00<00:00, 22.73it/s]\u001B[A\n",
      "Validation DataLoader 0:  23%|██▎       | 3/13 [00:00<00:00, 20.83it/s]\u001B[A\n",
      "Validation DataLoader 0:  31%|███       | 4/13 [00:00<00:00, 20.00it/s]\u001B[A\n",
      "Validation DataLoader 0:  38%|███▊      | 5/13 [00:00<00:00, 19.92it/s]\u001B[A\n",
      "Validation DataLoader 0:  46%|████▌     | 6/13 [00:00<00:00, 20.34it/s]\u001B[A\n",
      "Validation DataLoader 0:  54%|█████▍    | 7/13 [00:00<00:00, 18.82it/s]\u001B[A\n",
      "Validation DataLoader 0:  62%|██████▏   | 8/13 [00:00<00:00, 19.05it/s]\u001B[A\n",
      "Validation DataLoader 0:  69%|██████▉   | 9/13 [00:00<00:00, 19.27it/s]\u001B[A\n",
      "Validation DataLoader 0:  77%|███████▋  | 10/13 [00:00<00:00, 19.92it/s]\u001B[A\n",
      "Validation DataLoader 0:  85%|████████▍ | 11/13 [00:00<00:00, 20.45it/s]\u001B[A\n",
      "Validation DataLoader 0:  92%|█████████▏| 12/13 [00:00<00:00, 20.91it/s]\u001B[A\n",
      "Epoch 22: 100%|██████████| 90/90 [00:33<00:00,  2.68it/s, v_num=2, train_loss_step=2.200, train_loss_epoch=1.990]\n",
      "Epoch 23: 100%|██████████| 90/90 [00:19<00:00,  4.73it/s, v_num=2, train_loss_step=1.990, train_loss_epoch=1.990]\n",
      "Validation: 0it [00:00, ?it/s]\u001B[A\n",
      "Validation:   0%|          | 0/13 [00:00<?, ?it/s]\u001B[A\n",
      "Validation DataLoader 0:   0%|          | 0/13 [00:00<?, ?it/s]\u001B[A\n",
      "Validation DataLoader 0:   8%|▊         | 1/13 [00:00<00:00, 34.48it/s]\u001B[A\n",
      "Validation DataLoader 0:  15%|█▌        | 2/13 [00:00<00:00, 25.00it/s]\u001B[A\n",
      "Validation DataLoader 0:  23%|██▎       | 3/13 [00:00<00:00, 22.90it/s]\u001B[A\n",
      "Validation DataLoader 0:  31%|███       | 4/13 [00:00<00:00, 22.10it/s]\u001B[A\n",
      "Validation DataLoader 0:  38%|███▊      | 5/13 [00:00<00:00, 21.93it/s]\u001B[A\n",
      "Validation DataLoader 0:  46%|████▌     | 6/13 [00:00<00:00, 21.58it/s]\u001B[A\n",
      "Validation DataLoader 0:  54%|█████▍    | 7/13 [00:00<00:00, 17.72it/s]\u001B[A\n",
      "Validation DataLoader 0:  62%|██████▏   | 8/13 [00:00<00:00, 18.10it/s]\u001B[A\n",
      "Validation DataLoader 0:  69%|██████▉   | 9/13 [00:00<00:00, 18.44it/s]\u001B[A\n",
      "Validation DataLoader 0:  77%|███████▋  | 10/13 [00:00<00:00, 18.66it/s]\u001B[A\n",
      "Validation DataLoader 0:  85%|████████▍ | 11/13 [00:00<00:00, 18.87it/s]\u001B[A\n",
      "Validation DataLoader 0:  92%|█████████▏| 12/13 [00:00<00:00, 19.11it/s]\u001B[A\n",
      "Epoch 23: 100%|██████████| 90/90 [00:33<00:00,  2.67it/s, v_num=2, train_loss_step=1.990, train_loss_epoch=1.990]\n",
      "Epoch 24: 100%|██████████| 90/90 [00:19<00:00,  4.67it/s, v_num=2, train_loss_step=1.880, train_loss_epoch=1.990]\n",
      "Validation: 0it [00:00, ?it/s]\u001B[A\n",
      "Validation:   0%|          | 0/13 [00:00<?, ?it/s]\u001B[A\n",
      "Validation DataLoader 0:   0%|          | 0/13 [00:00<?, ?it/s]\u001B[A\n",
      "Validation DataLoader 0:   8%|▊         | 1/13 [00:00<00:00, 24.39it/s]\u001B[A\n",
      "Validation DataLoader 0:  15%|█▌        | 2/13 [00:00<00:00, 19.61it/s]\u001B[A\n",
      "Validation DataLoader 0:  23%|██▎       | 3/13 [00:00<00:00, 18.87it/s]\u001B[A\n",
      "Validation DataLoader 0:  31%|███       | 4/13 [00:00<00:00, 18.60it/s]\u001B[A\n",
      "Validation DataLoader 0:  38%|███▊      | 5/13 [00:00<00:00, 18.18it/s]\u001B[A\n",
      "Validation DataLoader 0:  46%|████▌     | 6/13 [00:00<00:00, 18.35it/s]\u001B[A\n",
      "Validation DataLoader 0:  54%|█████▍    | 7/13 [00:00<00:00, 18.77it/s]\u001B[A\n",
      "Validation DataLoader 0:  62%|██████▏   | 8/13 [00:00<00:00, 18.78it/s]\u001B[A\n",
      "Validation DataLoader 0:  69%|██████▉   | 9/13 [00:00<00:00, 19.57it/s]\u001B[A\n",
      "Validation DataLoader 0:  77%|███████▋  | 10/13 [00:00<00:00, 20.24it/s]\u001B[A\n",
      "Validation DataLoader 0:  85%|████████▍ | 11/13 [00:00<00:00, 20.87it/s]\u001B[A\n",
      "Validation DataLoader 0:  92%|█████████▏| 12/13 [00:00<00:00, 21.35it/s]\u001B[A\n",
      "Epoch 24: 100%|██████████| 90/90 [00:33<00:00,  2.65it/s, v_num=2, train_loss_step=1.880, train_loss_epoch=1.990]\n",
      "Epoch 24: 100%|██████████| 90/90 [00:33<00:00,  2.65it/s, v_num=2, train_loss_step=1.880, train_loss_epoch=1.990]"
     ]
    },
    {
     "name": "stderr",
     "output_type": "stream",
     "text": [
      "Monitored metric val_loss did not improve in the last 3 records. Best score: 1.978. Signaling Trainer to stop.\n"
     ]
    },
    {
     "name": "stdout",
     "output_type": "stream",
     "text": [
      "Epoch 24: 100%|██████████| 90/90 [00:33<00:00,  2.65it/s, v_num=2, train_loss_step=1.880, train_loss_epoch=1.990]\n"
     ]
    },
    {
     "name": "stderr",
     "output_type": "stream",
     "text": [
      "Restoring states from the checkpoint path at cnn_lstm\\lightning_logs\\version_2\\checkpoints\\epoch=24-step=2250.ckpt\n",
      "LOCAL_RANK: 0 - CUDA_VISIBLE_DEVICES: [0]\n",
      "Loaded model weights from the checkpoint at cnn_lstm\\lightning_logs\\version_2\\checkpoints\\epoch=24-step=2250.ckpt\n"
     ]
    },
    {
     "name": "stdout",
     "output_type": "stream",
     "text": [
      "Testing DataLoader 0: 100%|██████████| 26/26 [00:01<00:00, 17.75it/s]\n"
     ]
    },
    {
     "data": {
      "text/plain": "┏━━━━━━━━━━━━━━━━━━━━━━━━━━━┳━━━━━━━━━━━━━━━━━━━━━━━━━━━┓\n┃\u001B[1m \u001B[0m\u001B[1m       Test metric       \u001B[0m\u001B[1m \u001B[0m┃\u001B[1m \u001B[0m\u001B[1m      DataLoader 0       \u001B[0m\u001B[1m \u001B[0m┃\n┡━━━━━━━━━━━━━━━━━━━━━━━━━━━╇━━━━━━━━━━━━━━━━━━━━━━━━━━━┩\n│\u001B[36m \u001B[0m\u001B[36m        test_acc         \u001B[0m\u001B[36m \u001B[0m│\u001B[35m \u001B[0m\u001B[35m   0.6284551620483398    \u001B[0m\u001B[35m \u001B[0m│\n│\u001B[36m \u001B[0m\u001B[36m        test_loss        \u001B[0m\u001B[36m \u001B[0m│\u001B[35m \u001B[0m\u001B[35m   1.9903007745742798    \u001B[0m\u001B[35m \u001B[0m│\n└───────────────────────────┴───────────────────────────┘\n",
      "text/html": "<pre style=\"white-space:pre;overflow-x:auto;line-height:normal;font-family:Menlo,'DejaVu Sans Mono',consolas,'Courier New',monospace\">┏━━━━━━━━━━━━━━━━━━━━━━━━━━━┳━━━━━━━━━━━━━━━━━━━━━━━━━━━┓\n┃<span style=\"font-weight: bold\">        Test metric        </span>┃<span style=\"font-weight: bold\">       DataLoader 0        </span>┃\n┡━━━━━━━━━━━━━━━━━━━━━━━━━━━╇━━━━━━━━━━━━━━━━━━━━━━━━━━━┩\n│<span style=\"color: #008080; text-decoration-color: #008080\">         test_acc          </span>│<span style=\"color: #800080; text-decoration-color: #800080\">    0.6284551620483398     </span>│\n│<span style=\"color: #008080; text-decoration-color: #008080\">         test_loss         </span>│<span style=\"color: #800080; text-decoration-color: #800080\">    1.9903007745742798     </span>│\n└───────────────────────────┴───────────────────────────┘\n</pre>\n"
     },
     "metadata": {},
     "output_type": "display_data"
    },
    {
     "name": "stderr",
     "output_type": "stream",
     "text": [
      "Restoring states from the checkpoint path at cnn_lstm\\lightning_logs\\version_2\\checkpoints\\epoch=24-step=2250.ckpt\n",
      "LOCAL_RANK: 0 - CUDA_VISIBLE_DEVICES: [0]\n",
      "Loaded model weights from the checkpoint at cnn_lstm\\lightning_logs\\version_2\\checkpoints\\epoch=24-step=2250.ckpt\n"
     ]
    },
    {
     "name": "stdout",
     "output_type": "stream",
     "text": [
      "Predicting DataLoader 0: 100%|██████████| 26/26 [00:01<00:00, 17.98it/s]\n"
     ]
    },
    {
     "name": "stderr",
     "output_type": "stream",
     "text": [
      "Global seed set to 3\n",
      "GPU available: True (cuda), used: True\n",
      "TPU available: False, using: 0 TPU cores\n",
      "IPU available: False, using: 0 IPUs\n",
      "HPU available: False, using: 0 HPUs\n",
      "LOCAL_RANK: 0 - CUDA_VISIBLE_DEVICES: [0]\n",
      "\n",
      "  | Name          | Type                      | Params\n",
      "------------------------------------------------------------\n",
      "0 | conv          | Conv1d                    | 288   \n",
      "1 | lstm          | LSTM                      | 325 K \n",
      "2 | hidden2label  | Linear                    | 1.5 K \n",
      "3 | softmax       | Softmax                   | 0     \n",
      "4 | train_acc     | MulticlassAccuracy        | 0     \n",
      "5 | valid_acc     | MulticlassAccuracy        | 0     \n",
      "6 | test_acc      | MulticlassAccuracy        | 0     \n",
      "7 | test_conf_mat | MulticlassConfusionMatrix | 0     \n",
      "------------------------------------------------------------\n",
      "327 K     Trainable params\n",
      "0         Non-trainable params\n",
      "327 K     Total params\n",
      "1.310     Total estimated model params size (MB)\n"
     ]
    },
    {
     "name": "stdout",
     "output_type": "stream",
     "text": [
      "Epoch 0: 100%|██████████| 90/90 [00:19<00:00,  4.71it/s, v_num=3, train_loss_step=1.990]\n",
      "Validation: 0it [00:00, ?it/s]\u001B[A\n",
      "Validation:   0%|          | 0/13 [00:00<?, ?it/s]\u001B[A\n",
      "Validation DataLoader 0:   0%|          | 0/13 [00:00<?, ?it/s]\u001B[A\n",
      "Validation DataLoader 0:   8%|▊         | 1/13 [00:00<00:00, 12.99it/s]\u001B[A\n",
      "Validation DataLoader 0:  15%|█▌        | 2/13 [00:00<00:00, 12.73it/s]\u001B[A\n",
      "Validation DataLoader 0:  23%|██▎       | 3/13 [00:00<00:00, 11.59it/s]\u001B[A\n",
      "Validation DataLoader 0:  31%|███       | 4/13 [00:00<00:00, 14.12it/s]\u001B[A\n",
      "Validation DataLoader 0:  38%|███▊      | 5/13 [00:00<00:00, 16.12it/s]\u001B[A\n",
      "Validation DataLoader 0:  46%|████▌     | 6/13 [00:00<00:00, 17.84it/s]\u001B[A\n",
      "Validation DataLoader 0:  54%|█████▍    | 7/13 [00:00<00:00, 19.32it/s]\u001B[A\n",
      "Validation DataLoader 0:  62%|██████▏   | 8/13 [00:00<00:00, 20.55it/s]\u001B[A\n",
      "Validation DataLoader 0:  69%|██████▉   | 9/13 [00:00<00:00, 21.78it/s]\u001B[A\n",
      "Validation DataLoader 0:  77%|███████▋  | 10/13 [00:00<00:00, 22.77it/s]\u001B[A\n",
      "Validation DataLoader 0:  85%|████████▍ | 11/13 [00:00<00:00, 23.59it/s]\u001B[A\n",
      "Validation DataLoader 0:  92%|█████████▏| 12/13 [00:00<00:00, 24.48it/s]\u001B[A\n",
      "Epoch 0: 100%|██████████| 90/90 [00:33<00:00,  2.69it/s, v_num=3, train_loss_step=1.990]\n",
      "Epoch 0: 100%|██████████| 90/90 [00:33<00:00,  2.69it/s, v_num=3, train_loss_step=1.990, train_loss_epoch=2.040]"
     ]
    },
    {
     "name": "stderr",
     "output_type": "stream",
     "text": [
      "Metric val_loss improved. New best score: 1.978\n"
     ]
    },
    {
     "name": "stdout",
     "output_type": "stream",
     "text": [
      "Epoch 1: 100%|██████████| 90/90 [00:19<00:00,  4.71it/s, v_num=3, train_loss_step=1.930, train_loss_epoch=2.040]\n",
      "Validation: 0it [00:00, ?it/s]\u001B[A\n",
      "Validation:   0%|          | 0/13 [00:00<?, ?it/s]\u001B[A\n",
      "Validation DataLoader 0:   0%|          | 0/13 [00:00<?, ?it/s]\u001B[A\n",
      "Validation DataLoader 0:   8%|▊         | 1/13 [00:00<00:00, 20.83it/s]\u001B[A\n",
      "Validation DataLoader 0:  15%|█▌        | 2/13 [00:00<00:00, 19.61it/s]\u001B[A\n",
      "Validation DataLoader 0:  23%|██▎       | 3/13 [00:00<00:00, 16.44it/s]\u001B[A\n",
      "Validation DataLoader 0:  31%|███       | 4/13 [00:00<00:00, 17.23it/s]\u001B[A\n",
      "Validation DataLoader 0:  38%|███▊      | 5/13 [00:00<00:00, 16.60it/s]\u001B[A\n",
      "Validation DataLoader 0:  46%|████▌     | 6/13 [00:00<00:00, 17.34it/s]\u001B[A\n",
      "Validation DataLoader 0:  54%|█████▍    | 7/13 [00:00<00:00, 18.33it/s]\u001B[A\n",
      "Validation DataLoader 0:  62%|██████▏   | 8/13 [00:00<00:00, 19.19it/s]\u001B[A\n",
      "Validation DataLoader 0:  69%|██████▉   | 9/13 [00:00<00:00, 19.91it/s]\u001B[A\n",
      "Validation DataLoader 0:  77%|███████▋  | 10/13 [00:00<00:00, 20.58it/s]\u001B[A\n",
      "Validation DataLoader 0:  85%|████████▍ | 11/13 [00:00<00:00, 20.88it/s]\u001B[A\n",
      "Validation DataLoader 0:  92%|█████████▏| 12/13 [00:00<00:00, 21.43it/s]\u001B[A\n",
      "Epoch 1: 100%|██████████| 90/90 [00:33<00:00,  2.68it/s, v_num=3, train_loss_step=1.930, train_loss_epoch=2.040]\n",
      "Epoch 1: 100%|██████████| 90/90 [00:33<00:00,  2.68it/s, v_num=3, train_loss_step=1.930, train_loss_epoch=1.990]"
     ]
    },
    {
     "name": "stderr",
     "output_type": "stream",
     "text": [
      "Metric val_loss improved by 0.000 >= min_delta = 0.0. New best score: 1.978\n"
     ]
    },
    {
     "name": "stdout",
     "output_type": "stream",
     "text": [
      "Epoch 2: 100%|██████████| 90/90 [00:18<00:00,  4.76it/s, v_num=3, train_loss_step=2.200, train_loss_epoch=1.990]\n",
      "Validation: 0it [00:00, ?it/s]\u001B[A\n",
      "Validation:   0%|          | 0/13 [00:00<?, ?it/s]\u001B[A\n",
      "Validation DataLoader 0:   0%|          | 0/13 [00:00<?, ?it/s]\u001B[A\n",
      "Validation DataLoader 0:   8%|▊         | 1/13 [00:00<00:00, 16.39it/s]\u001B[A\n",
      "Validation DataLoader 0:  15%|█▌        | 2/13 [00:00<00:00, 16.95it/s]\u001B[A\n",
      "Validation DataLoader 0:  23%|██▎       | 3/13 [00:00<00:00, 18.18it/s]\u001B[A\n",
      "Validation DataLoader 0:  31%|███       | 4/13 [00:00<00:00, 18.69it/s]\u001B[A\n",
      "Validation DataLoader 0:  38%|███▊      | 5/13 [00:00<00:00, 18.80it/s]\u001B[A\n",
      "Validation DataLoader 0:  46%|████▌     | 6/13 [00:00<00:00, 18.99it/s]\u001B[A\n",
      "Validation DataLoader 0:  54%|█████▍    | 7/13 [00:00<00:00, 18.04it/s]\u001B[A\n",
      "Validation DataLoader 0:  62%|██████▏   | 8/13 [00:00<00:00, 18.91it/s]\u001B[A\n",
      "Validation DataLoader 0:  69%|██████▉   | 9/13 [00:00<00:00, 19.35it/s]\u001B[A\n",
      "Validation DataLoader 0:  77%|███████▋  | 10/13 [00:00<00:00, 20.00it/s]\u001B[A\n",
      "Validation DataLoader 0:  85%|████████▍ | 11/13 [00:00<00:00, 20.52it/s]\u001B[A\n",
      "Validation DataLoader 0:  92%|█████████▏| 12/13 [00:00<00:00, 21.05it/s]\u001B[A\n",
      "Epoch 2: 100%|██████████| 90/90 [00:33<00:00,  2.70it/s, v_num=3, train_loss_step=2.200, train_loss_epoch=1.990]\n",
      "Epoch 2: 100%|██████████| 90/90 [00:33<00:00,  2.70it/s, v_num=3, train_loss_step=2.200, train_loss_epoch=1.990]"
     ]
    },
    {
     "name": "stderr",
     "output_type": "stream",
     "text": [
      "Metric val_loss improved by 0.000 >= min_delta = 0.0. New best score: 1.978\n"
     ]
    },
    {
     "name": "stdout",
     "output_type": "stream",
     "text": [
      "Epoch 3: 100%|██████████| 90/90 [00:19<00:00,  4.66it/s, v_num=3, train_loss_step=1.930, train_loss_epoch=1.990]\n",
      "Validation: 0it [00:00, ?it/s]\u001B[A\n",
      "Validation:   0%|          | 0/13 [00:00<?, ?it/s]\u001B[A\n",
      "Validation DataLoader 0:   0%|          | 0/13 [00:00<?, ?it/s]\u001B[A\n",
      "Validation DataLoader 0:   8%|▊         | 1/13 [00:00<00:00, 15.87it/s]\u001B[A\n",
      "Validation DataLoader 0:  15%|█▌        | 2/13 [00:00<00:00, 13.61it/s]\u001B[A\n",
      "Validation DataLoader 0:  23%|██▎       | 3/13 [00:00<00:00, 12.93it/s]\u001B[A\n",
      "Validation DataLoader 0:  31%|███       | 4/13 [00:00<00:00, 13.89it/s]\u001B[A\n",
      "Validation DataLoader 0:  38%|███▊      | 5/13 [00:00<00:00, 15.43it/s]\u001B[A\n",
      "Validation DataLoader 0:  46%|████▌     | 6/13 [00:00<00:00, 17.14it/s]\u001B[A\n",
      "Validation DataLoader 0:  54%|█████▍    | 7/13 [00:00<00:00, 18.62it/s]\u001B[A\n",
      "Validation DataLoader 0:  62%|██████▏   | 8/13 [00:00<00:00, 19.95it/s]\u001B[A\n",
      "Validation DataLoader 0:  69%|██████▉   | 9/13 [00:00<00:00, 20.98it/s]\u001B[A\n",
      "Validation DataLoader 0:  77%|███████▋  | 10/13 [00:00<00:00, 21.93it/s]\u001B[A\n",
      "Validation DataLoader 0:  85%|████████▍ | 11/13 [00:00<00:00, 22.82it/s]\u001B[A\n",
      "Validation DataLoader 0:  92%|█████████▏| 12/13 [00:00<00:00, 21.86it/s]\u001B[A\n",
      "Epoch 3: 100%|██████████| 90/90 [00:33<00:00,  2.65it/s, v_num=3, train_loss_step=1.930, train_loss_epoch=1.990]\n",
      "Epoch 3: 100%|██████████| 90/90 [00:33<00:00,  2.65it/s, v_num=3, train_loss_step=1.930, train_loss_epoch=1.990]"
     ]
    },
    {
     "name": "stderr",
     "output_type": "stream",
     "text": [
      "Metric val_loss improved by 0.000 >= min_delta = 0.0. New best score: 1.978\n"
     ]
    },
    {
     "name": "stdout",
     "output_type": "stream",
     "text": [
      "Epoch 4: 100%|██████████| 90/90 [00:19<00:00,  4.72it/s, v_num=3, train_loss_step=2.040, train_loss_epoch=1.990]\n",
      "Validation: 0it [00:00, ?it/s]\u001B[A\n",
      "Validation:   0%|          | 0/13 [00:00<?, ?it/s]\u001B[A\n",
      "Validation DataLoader 0:   0%|          | 0/13 [00:00<?, ?it/s]\u001B[A\n",
      "Validation DataLoader 0:   8%|▊         | 1/13 [00:00<00:00, 13.50it/s]\u001B[A\n",
      "Validation DataLoader 0:  15%|█▌        | 2/13 [00:00<00:00, 15.85it/s]\u001B[A\n",
      "Validation DataLoader 0:  23%|██▎       | 3/13 [00:00<00:00, 16.38it/s]\u001B[A\n",
      "Validation DataLoader 0:  31%|███       | 4/13 [00:00<00:00, 17.38it/s]\u001B[A\n",
      "Validation DataLoader 0:  38%|███▊      | 5/13 [00:00<00:00, 19.37it/s]\u001B[A\n",
      "Validation DataLoader 0:  46%|████▌     | 6/13 [00:00<00:00, 21.19it/s]\u001B[A\n",
      "Validation DataLoader 0:  54%|█████▍    | 7/13 [00:00<00:00, 19.12it/s]\u001B[A\n",
      "Validation DataLoader 0:  62%|██████▏   | 8/13 [00:00<00:00, 19.99it/s]\u001B[A\n",
      "Validation DataLoader 0:  69%|██████▉   | 9/13 [00:00<00:00, 21.17it/s]\u001B[A\n",
      "Validation DataLoader 0:  77%|███████▋  | 10/13 [00:00<00:00, 22.21it/s]\u001B[A\n",
      "Validation DataLoader 0:  85%|████████▍ | 11/13 [00:00<00:00, 23.10it/s]\u001B[A\n",
      "Validation DataLoader 0:  92%|█████████▏| 12/13 [00:00<00:00, 23.29it/s]\u001B[A\n",
      "Epoch 4: 100%|██████████| 90/90 [00:33<00:00,  2.67it/s, v_num=3, train_loss_step=2.040, train_loss_epoch=1.990]\n",
      "Epoch 4: 100%|██████████| 90/90 [00:33<00:00,  2.67it/s, v_num=3, train_loss_step=2.040, train_loss_epoch=1.990]"
     ]
    },
    {
     "name": "stderr",
     "output_type": "stream",
     "text": [
      "Metric val_loss improved by 0.000 >= min_delta = 0.0. New best score: 1.978\n"
     ]
    },
    {
     "name": "stdout",
     "output_type": "stream",
     "text": [
      "Epoch 5: 100%|██████████| 90/90 [00:19<00:00,  4.63it/s, v_num=3, train_loss_step=1.990, train_loss_epoch=1.990]\n",
      "Validation: 0it [00:00, ?it/s]\u001B[A\n",
      "Validation:   0%|          | 0/13 [00:00<?, ?it/s]\u001B[A\n",
      "Validation DataLoader 0:   0%|          | 0/13 [00:00<?, ?it/s]\u001B[A\n",
      "Validation DataLoader 0:   8%|▊         | 1/13 [00:00<00:01, 10.20it/s]\u001B[A\n",
      "Validation DataLoader 0:  15%|█▌        | 2/13 [00:00<00:01, 10.63it/s]\u001B[A\n",
      "Validation DataLoader 0:  23%|██▎       | 3/13 [00:00<00:00, 13.32it/s]\u001B[A\n",
      "Validation DataLoader 0:  31%|███       | 4/13 [00:00<00:00, 15.26it/s]\u001B[A\n",
      "Validation DataLoader 0:  38%|███▊      | 5/13 [00:00<00:00, 16.66it/s]\u001B[A\n",
      "Validation DataLoader 0:  46%|████▌     | 6/13 [00:00<00:00, 17.23it/s]\u001B[A\n",
      "Validation DataLoader 0:  54%|█████▍    | 7/13 [00:00<00:00, 18.31it/s]\u001B[A\n",
      "Validation DataLoader 0:  62%|██████▏   | 8/13 [00:00<00:00, 19.22it/s]\u001B[A\n",
      "Validation DataLoader 0:  69%|██████▉   | 9/13 [00:00<00:00, 19.77it/s]\u001B[A\n",
      "Validation DataLoader 0:  77%|███████▋  | 10/13 [00:00<00:00, 20.36it/s]\u001B[A\n",
      "Validation DataLoader 0:  85%|████████▍ | 11/13 [00:00<00:00, 20.99it/s]\u001B[A\n",
      "Validation DataLoader 0:  92%|█████████▏| 12/13 [00:00<00:00, 21.31it/s]\u001B[A\n",
      "Epoch 5: 100%|██████████| 90/90 [00:34<00:00,  2.64it/s, v_num=3, train_loss_step=1.990, train_loss_epoch=1.990]\n",
      "Epoch 5: 100%|██████████| 90/90 [00:34<00:00,  2.64it/s, v_num=3, train_loss_step=1.990, train_loss_epoch=1.990]"
     ]
    },
    {
     "name": "stderr",
     "output_type": "stream",
     "text": [
      "Metric val_loss improved by 0.000 >= min_delta = 0.0. New best score: 1.978\n"
     ]
    },
    {
     "name": "stdout",
     "output_type": "stream",
     "text": [
      "Epoch 6: 100%|██████████| 90/90 [00:19<00:00,  4.69it/s, v_num=3, train_loss_step=2.150, train_loss_epoch=1.990]\n",
      "Validation: 0it [00:00, ?it/s]\u001B[A\n",
      "Validation:   0%|          | 0/13 [00:00<?, ?it/s]\u001B[A\n",
      "Validation DataLoader 0:   0%|          | 0/13 [00:00<?, ?it/s]\u001B[A\n",
      "Validation DataLoader 0:   8%|▊         | 1/13 [00:00<00:00, 12.01it/s]\u001B[A\n",
      "Validation DataLoader 0:  15%|█▌        | 2/13 [00:00<00:00, 14.46it/s]\u001B[A\n",
      "Validation DataLoader 0:  23%|██▎       | 3/13 [00:00<00:00, 13.60it/s]\u001B[A\n",
      "Validation DataLoader 0:  31%|███       | 4/13 [00:00<00:00, 16.27it/s]\u001B[A\n",
      "Validation DataLoader 0:  38%|███▊      | 5/13 [00:00<00:00, 18.32it/s]\u001B[A\n",
      "Validation DataLoader 0:  46%|████▌     | 6/13 [00:00<00:00, 20.07it/s]\u001B[A\n",
      "Validation DataLoader 0:  54%|█████▍    | 7/13 [00:00<00:00, 21.55it/s]\u001B[A\n",
      "Validation DataLoader 0:  62%|██████▏   | 8/13 [00:00<00:00, 22.80it/s]\u001B[A\n",
      "Validation DataLoader 0:  69%|██████▉   | 9/13 [00:00<00:00, 24.01it/s]\u001B[A\n",
      "Validation DataLoader 0:  77%|███████▋  | 10/13 [00:00<00:00, 25.01it/s]\u001B[A\n",
      "Validation DataLoader 0:  85%|████████▍ | 11/13 [00:00<00:00, 25.71it/s]\u001B[A\n",
      "Validation DataLoader 0:  92%|█████████▏| 12/13 [00:00<00:00, 25.16it/s]\u001B[A\n",
      "Epoch 6: 100%|██████████| 90/90 [00:33<00:00,  2.66it/s, v_num=3, train_loss_step=2.150, train_loss_epoch=1.990]\n",
      "Epoch 6: 100%|██████████| 90/90 [00:33<00:00,  2.66it/s, v_num=3, train_loss_step=2.150, train_loss_epoch=1.990]"
     ]
    },
    {
     "name": "stderr",
     "output_type": "stream",
     "text": [
      "Metric val_loss improved by 0.000 >= min_delta = 0.0. New best score: 1.978\n"
     ]
    },
    {
     "name": "stdout",
     "output_type": "stream",
     "text": [
      "Epoch 7: 100%|██████████| 90/90 [00:18<00:00,  4.75it/s, v_num=3, train_loss_step=2.200, train_loss_epoch=1.990]\n",
      "Validation: 0it [00:00, ?it/s]\u001B[A\n",
      "Validation:   0%|          | 0/13 [00:00<?, ?it/s]\u001B[A\n",
      "Validation DataLoader 0:   0%|          | 0/13 [00:00<?, ?it/s]\u001B[A\n",
      "Validation DataLoader 0:   8%|▊         | 1/13 [00:00<00:01, 11.87it/s]\u001B[A\n",
      "Validation DataLoader 0:  15%|█▌        | 2/13 [00:00<00:00, 14.96it/s]\u001B[A\n",
      "Validation DataLoader 0:  23%|██▎       | 3/13 [00:00<00:00, 16.42it/s]\u001B[A\n",
      "Validation DataLoader 0:  31%|███       | 4/13 [00:00<00:00, 16.97it/s]\u001B[A\n",
      "Validation DataLoader 0:  38%|███▊      | 5/13 [00:00<00:00, 19.03it/s]\u001B[A\n",
      "Validation DataLoader 0:  46%|████▌     | 6/13 [00:00<00:00, 20.86it/s]\u001B[A\n",
      "Validation DataLoader 0:  54%|█████▍    | 7/13 [00:00<00:00, 19.62it/s]\u001B[A\n",
      "Validation DataLoader 0:  62%|██████▏   | 8/13 [00:00<00:00, 20.96it/s]\u001B[A\n",
      "Validation DataLoader 0:  69%|██████▉   | 9/13 [00:00<00:00, 21.97it/s]\u001B[A\n",
      "Validation DataLoader 0:  77%|███████▋  | 10/13 [00:00<00:00, 22.90it/s]\u001B[A\n",
      "Validation DataLoader 0:  85%|████████▍ | 11/13 [00:00<00:00, 23.62it/s]\u001B[A\n",
      "Validation DataLoader 0:  92%|█████████▏| 12/13 [00:00<00:00, 24.46it/s]\u001B[A\n",
      "Epoch 7: 100%|██████████| 90/90 [00:33<00:00,  2.66it/s, v_num=3, train_loss_step=2.200, train_loss_epoch=1.990]\n",
      "Epoch 7: 100%|██████████| 90/90 [00:33<00:00,  2.66it/s, v_num=3, train_loss_step=2.200, train_loss_epoch=1.990]"
     ]
    },
    {
     "name": "stderr",
     "output_type": "stream",
     "text": [
      "Metric val_loss improved by 0.000 >= min_delta = 0.0. New best score: 1.978\n"
     ]
    },
    {
     "name": "stdout",
     "output_type": "stream",
     "text": [
      "Epoch 8: 100%|██████████| 90/90 [00:19<00:00,  4.72it/s, v_num=3, train_loss_step=1.830, train_loss_epoch=1.990]\n",
      "Validation: 0it [00:00, ?it/s]\u001B[A\n",
      "Validation:   0%|          | 0/13 [00:00<?, ?it/s]\u001B[A\n",
      "Validation DataLoader 0:   0%|          | 0/13 [00:00<?, ?it/s]\u001B[A\n",
      "Validation DataLoader 0:   8%|▊         | 1/13 [00:00<00:00, 18.52it/s]\u001B[A\n",
      "Validation DataLoader 0:  15%|█▌        | 2/13 [00:00<00:00, 15.48it/s]\u001B[A\n",
      "Validation DataLoader 0:  23%|██▎       | 3/13 [00:00<00:00, 16.63it/s]\u001B[A\n",
      "Validation DataLoader 0:  31%|███       | 4/13 [00:00<00:00, 19.02it/s]\u001B[A\n",
      "Validation DataLoader 0:  38%|███▊      | 5/13 [00:00<00:00, 21.24it/s]\u001B[A\n",
      "Validation DataLoader 0:  46%|████▌     | 6/13 [00:00<00:00, 22.96it/s]\u001B[A\n",
      "Validation DataLoader 0:  54%|█████▍    | 7/13 [00:00<00:00, 17.53it/s]\u001B[A\n",
      "Validation DataLoader 0:  62%|██████▏   | 8/13 [00:00<00:00, 18.90it/s]\u001B[A\n",
      "Validation DataLoader 0:  69%|██████▉   | 9/13 [00:00<00:00, 20.07it/s]\u001B[A\n",
      "Validation DataLoader 0:  77%|███████▋  | 10/13 [00:00<00:00, 21.08it/s]\u001B[A\n",
      "Validation DataLoader 0:  85%|████████▍ | 11/13 [00:00<00:00, 21.98it/s]\u001B[A\n",
      "Validation DataLoader 0:  92%|█████████▏| 12/13 [00:00<00:00, 21.11it/s]\u001B[A\n",
      "Epoch 8: 100%|██████████| 90/90 [00:33<00:00,  2.67it/s, v_num=3, train_loss_step=1.830, train_loss_epoch=1.990]\n",
      "Epoch 8: 100%|██████████| 90/90 [00:33<00:00,  2.67it/s, v_num=3, train_loss_step=1.830, train_loss_epoch=1.990]"
     ]
    },
    {
     "name": "stderr",
     "output_type": "stream",
     "text": [
      "Metric val_loss improved by 0.000 >= min_delta = 0.0. New best score: 1.978\n"
     ]
    },
    {
     "name": "stdout",
     "output_type": "stream",
     "text": [
      "Epoch 9: 100%|██████████| 90/90 [00:19<00:00,  4.66it/s, v_num=3, train_loss_step=1.990, train_loss_epoch=1.990]\n",
      "Validation: 0it [00:00, ?it/s]\u001B[A\n",
      "Validation:   0%|          | 0/13 [00:00<?, ?it/s]\u001B[A\n",
      "Validation DataLoader 0:   0%|          | 0/13 [00:00<?, ?it/s]\u001B[A\n",
      "Validation DataLoader 0:   8%|▊         | 1/13 [00:00<00:00, 14.08it/s]\u001B[A\n",
      "Validation DataLoader 0:  15%|█▌        | 2/13 [00:00<00:00, 11.69it/s]\u001B[A\n",
      "Validation DataLoader 0:  23%|██▎       | 3/13 [00:00<00:00, 13.72it/s]\u001B[A\n",
      "Validation DataLoader 0:  31%|███       | 4/13 [00:00<00:00, 16.42it/s]\u001B[A\n",
      "Validation DataLoader 0:  38%|███▊      | 5/13 [00:00<00:00, 18.41it/s]\u001B[A\n",
      "Validation DataLoader 0:  46%|████▌     | 6/13 [00:00<00:00, 20.29it/s]\u001B[A\n",
      "Validation DataLoader 0:  54%|█████▍    | 7/13 [00:00<00:00, 19.63it/s]\u001B[A\n",
      "Validation DataLoader 0:  62%|██████▏   | 8/13 [00:00<00:00, 20.43it/s]\u001B[A\n",
      "Validation DataLoader 0:  69%|██████▉   | 9/13 [00:00<00:00, 21.60it/s]\u001B[A\n",
      "Validation DataLoader 0:  77%|███████▋  | 10/13 [00:00<00:00, 22.59it/s]\u001B[A\n",
      "Validation DataLoader 0:  85%|████████▍ | 11/13 [00:00<00:00, 23.52it/s]\u001B[A\n",
      "Validation DataLoader 0:  92%|█████████▏| 12/13 [00:00<00:00, 24.36it/s]\u001B[A\n",
      "Epoch 9: 100%|██████████| 90/90 [00:33<00:00,  2.67it/s, v_num=3, train_loss_step=1.990, train_loss_epoch=1.990]\n",
      "Epoch 9: 100%|██████████| 90/90 [00:33<00:00,  2.67it/s, v_num=3, train_loss_step=1.990, train_loss_epoch=1.990]"
     ]
    },
    {
     "name": "stderr",
     "output_type": "stream",
     "text": [
      "Metric val_loss improved by 0.000 >= min_delta = 0.0. New best score: 1.978\n"
     ]
    },
    {
     "name": "stdout",
     "output_type": "stream",
     "text": [
      "Epoch 10: 100%|██████████| 90/90 [00:18<00:00,  4.75it/s, v_num=3, train_loss_step=2.090, train_loss_epoch=1.990]\n",
      "Validation: 0it [00:00, ?it/s]\u001B[A\n",
      "Validation:   0%|          | 0/13 [00:00<?, ?it/s]\u001B[A\n",
      "Validation DataLoader 0:   0%|          | 0/13 [00:00<?, ?it/s]\u001B[A\n",
      "Validation DataLoader 0:   8%|▊         | 1/13 [00:00<00:01,  9.83it/s]\u001B[A\n",
      "Validation DataLoader 0:  15%|█▌        | 2/13 [00:00<00:00, 11.25it/s]\u001B[A\n",
      "Validation DataLoader 0:  23%|██▎       | 3/13 [00:00<00:00, 13.18it/s]\u001B[A\n",
      "Validation DataLoader 0:  31%|███       | 4/13 [00:00<00:00, 15.53it/s]\u001B[A\n",
      "Validation DataLoader 0:  38%|███▊      | 5/13 [00:00<00:00, 17.63it/s]\u001B[A\n",
      "Validation DataLoader 0:  46%|████▌     | 6/13 [00:00<00:00, 19.32it/s]\u001B[A\n",
      "Validation DataLoader 0:  54%|█████▍    | 7/13 [00:00<00:00, 19.47it/s]\u001B[A\n",
      "Validation DataLoader 0:  62%|██████▏   | 8/13 [00:00<00:00, 20.80it/s]\u001B[A\n",
      "Validation DataLoader 0:  69%|██████▉   | 9/13 [00:00<00:00, 21.97it/s]\u001B[A\n",
      "Validation DataLoader 0:  77%|███████▋  | 10/13 [00:00<00:00, 23.01it/s]\u001B[A\n",
      "Validation DataLoader 0:  85%|████████▍ | 11/13 [00:00<00:00, 23.88it/s]\u001B[A\n",
      "Validation DataLoader 0:  92%|█████████▏| 12/13 [00:00<00:00, 24.56it/s]\u001B[A\n",
      "Epoch 10: 100%|██████████| 90/90 [00:33<00:00,  2.68it/s, v_num=3, train_loss_step=2.090, train_loss_epoch=1.990]\n",
      "Epoch 10: 100%|██████████| 90/90 [00:33<00:00,  2.68it/s, v_num=3, train_loss_step=2.090, train_loss_epoch=1.990]"
     ]
    },
    {
     "name": "stderr",
     "output_type": "stream",
     "text": [
      "Metric val_loss improved by 0.000 >= min_delta = 0.0. New best score: 1.978\n"
     ]
    },
    {
     "name": "stdout",
     "output_type": "stream",
     "text": [
      "Epoch 11: 100%|██████████| 90/90 [00:19<00:00,  4.64it/s, v_num=3, train_loss_step=1.990, train_loss_epoch=1.990]\n",
      "Validation: 0it [00:00, ?it/s]\u001B[A\n",
      "Validation:   0%|          | 0/13 [00:00<?, ?it/s]\u001B[A\n",
      "Validation DataLoader 0:   0%|          | 0/13 [00:00<?, ?it/s]\u001B[A\n",
      "Validation DataLoader 0:   8%|▊         | 1/13 [00:00<00:00, 14.91it/s]\u001B[A\n",
      "Validation DataLoader 0:  15%|█▌        | 2/13 [00:00<00:01, 10.81it/s]\u001B[A\n",
      "Validation DataLoader 0:  23%|██▎       | 3/13 [00:00<00:00, 12.55it/s]\u001B[A\n",
      "Validation DataLoader 0:  31%|███       | 4/13 [00:00<00:00, 14.03it/s]\u001B[A\n",
      "Validation DataLoader 0:  38%|███▊      | 5/13 [00:00<00:00, 15.77it/s]\u001B[A\n",
      "Validation DataLoader 0:  46%|████▌     | 6/13 [00:00<00:00, 17.49it/s]\u001B[A\n",
      "Validation DataLoader 0:  54%|█████▍    | 7/13 [00:00<00:00, 18.97it/s]\u001B[A\n",
      "Validation DataLoader 0:  62%|██████▏   | 8/13 [00:00<00:00, 20.30it/s]\u001B[A\n",
      "Validation DataLoader 0:  69%|██████▉   | 9/13 [00:00<00:00, 21.32it/s]\u001B[A\n",
      "Validation DataLoader 0:  77%|███████▋  | 10/13 [00:00<00:00, 22.32it/s]\u001B[A\n",
      "Validation DataLoader 0:  85%|████████▍ | 11/13 [00:00<00:00, 23.25it/s]\u001B[A\n",
      "Validation DataLoader 0:  92%|█████████▏| 12/13 [00:00<00:00, 23.48it/s]\u001B[A\n",
      "Epoch 11: 100%|██████████| 90/90 [00:34<00:00,  2.61it/s, v_num=3, train_loss_step=1.990, train_loss_epoch=1.990]\n",
      "Epoch 11: 100%|██████████| 90/90 [00:34<00:00,  2.61it/s, v_num=3, train_loss_step=1.990, train_loss_epoch=1.990]"
     ]
    },
    {
     "name": "stderr",
     "output_type": "stream",
     "text": [
      "Metric val_loss improved by 0.000 >= min_delta = 0.0. New best score: 1.978\n"
     ]
    },
    {
     "name": "stdout",
     "output_type": "stream",
     "text": [
      "Epoch 12: 100%|██████████| 90/90 [00:20<00:00,  4.50it/s, v_num=3, train_loss_step=1.990, train_loss_epoch=1.990]\n",
      "Validation: 0it [00:00, ?it/s]\u001B[A\n",
      "Validation:   0%|          | 0/13 [00:00<?, ?it/s]\u001B[A\n",
      "Validation DataLoader 0:   0%|          | 0/13 [00:00<?, ?it/s]\u001B[A\n",
      "Validation DataLoader 0:   8%|▊         | 1/13 [00:00<00:00, 12.29it/s]\u001B[A\n",
      "Validation DataLoader 0:  15%|█▌        | 2/13 [00:00<00:00, 12.16it/s]\u001B[A\n",
      "Validation DataLoader 0:  23%|██▎       | 3/13 [00:00<00:00, 12.58it/s]\u001B[A\n",
      "Validation DataLoader 0:  31%|███       | 4/13 [00:00<00:00, 15.17it/s]\u001B[A\n",
      "Validation DataLoader 0:  38%|███▊      | 5/13 [00:00<00:00, 17.14it/s]\u001B[A\n",
      "Validation DataLoader 0:  46%|████▌     | 6/13 [00:00<00:00, 18.77it/s]\u001B[A\n",
      "Validation DataLoader 0:  54%|█████▍    | 7/13 [00:00<00:00, 20.31it/s]\u001B[A\n",
      "Validation DataLoader 0:  62%|██████▏   | 8/13 [00:00<00:00, 21.52it/s]\u001B[A\n",
      "Validation DataLoader 0:  69%|██████▉   | 9/13 [00:00<00:00, 22.69it/s]\u001B[A\n",
      "Validation DataLoader 0:  77%|███████▋  | 10/13 [00:00<00:00, 23.66it/s]\u001B[A\n",
      "Validation DataLoader 0:  85%|████████▍ | 11/13 [00:00<00:00, 24.62it/s]\u001B[A\n",
      "Validation DataLoader 0:  92%|█████████▏| 12/13 [00:00<00:00, 25.44it/s]\u001B[A\n",
      "Epoch 12: 100%|██████████| 90/90 [00:34<00:00,  2.60it/s, v_num=3, train_loss_step=1.990, train_loss_epoch=1.990]\n",
      "Epoch 12: 100%|██████████| 90/90 [00:34<00:00,  2.60it/s, v_num=3, train_loss_step=1.990, train_loss_epoch=1.990]"
     ]
    },
    {
     "name": "stderr",
     "output_type": "stream",
     "text": [
      "Metric val_loss improved by 0.000 >= min_delta = 0.0. New best score: 1.978\n"
     ]
    },
    {
     "name": "stdout",
     "output_type": "stream",
     "text": [
      "Epoch 13: 100%|██████████| 90/90 [00:19<00:00,  4.56it/s, v_num=3, train_loss_step=1.930, train_loss_epoch=1.990]\n",
      "Validation: 0it [00:00, ?it/s]\u001B[A\n",
      "Validation:   0%|          | 0/13 [00:00<?, ?it/s]\u001B[A\n",
      "Validation DataLoader 0:   0%|          | 0/13 [00:00<?, ?it/s]\u001B[A\n",
      "Validation DataLoader 0:   8%|▊         | 1/13 [00:00<00:00, 14.12it/s]\u001B[A\n",
      "Validation DataLoader 0:  15%|█▌        | 2/13 [00:00<00:00, 11.83it/s]\u001B[A\n",
      "Validation DataLoader 0:  23%|██▎       | 3/13 [00:00<00:00, 12.00it/s]\u001B[A\n",
      "Validation DataLoader 0:  31%|███       | 4/13 [00:00<00:00, 14.55it/s]\u001B[A\n",
      "Validation DataLoader 0:  38%|███▊      | 5/13 [00:00<00:00, 16.67it/s]\u001B[A\n",
      "Validation DataLoader 0:  46%|████▌     | 6/13 [00:00<00:00, 18.40it/s]\u001B[A\n",
      "Validation DataLoader 0:  54%|█████▍    | 7/13 [00:00<00:00, 19.83it/s]\u001B[A\n",
      "Validation DataLoader 0:  62%|██████▏   | 8/13 [00:00<00:00, 20.46it/s]\u001B[A\n",
      "Validation DataLoader 0:  69%|██████▉   | 9/13 [00:00<00:00, 21.52it/s]\u001B[A\n",
      "Validation DataLoader 0:  77%|███████▋  | 10/13 [00:00<00:00, 22.47it/s]\u001B[A\n",
      "Validation DataLoader 0:  85%|████████▍ | 11/13 [00:00<00:00, 23.35it/s]\u001B[A\n",
      "Validation DataLoader 0:  92%|█████████▏| 12/13 [00:00<00:00, 24.05it/s]\u001B[A\n",
      "Epoch 13: 100%|██████████| 90/90 [00:34<00:00,  2.63it/s, v_num=3, train_loss_step=1.930, train_loss_epoch=1.990]\n",
      "Epoch 13: 100%|██████████| 90/90 [00:34<00:00,  2.63it/s, v_num=3, train_loss_step=1.930, train_loss_epoch=1.990]"
     ]
    },
    {
     "name": "stderr",
     "output_type": "stream",
     "text": [
      "Metric val_loss improved by 0.000 >= min_delta = 0.0. New best score: 1.978\n"
     ]
    },
    {
     "name": "stdout",
     "output_type": "stream",
     "text": [
      "Epoch 14: 100%|██████████| 90/90 [00:19<00:00,  4.72it/s, v_num=3, train_loss_step=2.150, train_loss_epoch=1.990]\n",
      "Validation: 0it [00:00, ?it/s]\u001B[A\n",
      "Validation:   0%|          | 0/13 [00:00<?, ?it/s]\u001B[A\n",
      "Validation DataLoader 0:   0%|          | 0/13 [00:00<?, ?it/s]\u001B[A\n",
      "Validation DataLoader 0:   8%|▊         | 1/13 [00:00<00:00, 19.13it/s]\u001B[A\n",
      "Validation DataLoader 0:  15%|█▌        | 2/13 [00:00<00:00, 13.66it/s]\u001B[A\n",
      "Validation DataLoader 0:  23%|██▎       | 3/13 [00:00<00:00, 13.43it/s]\u001B[A\n",
      "Validation DataLoader 0:  31%|███       | 4/13 [00:00<00:00, 13.24it/s]\u001B[A\n",
      "Validation DataLoader 0:  38%|███▊      | 5/13 [00:00<00:00, 15.25it/s]\u001B[A\n",
      "Validation DataLoader 0:  46%|████▌     | 6/13 [00:00<00:00, 16.94it/s]\u001B[A\n",
      "Validation DataLoader 0:  54%|█████▍    | 7/13 [00:00<00:00, 18.36it/s]\u001B[A\n",
      "Validation DataLoader 0:  62%|██████▏   | 8/13 [00:00<00:00, 19.69it/s]\u001B[A\n",
      "Validation DataLoader 0:  69%|██████▉   | 9/13 [00:00<00:00, 20.87it/s]\u001B[A\n",
      "Validation DataLoader 0:  77%|███████▋  | 10/13 [00:00<00:00, 21.78it/s]\u001B[A\n",
      "Validation DataLoader 0:  85%|████████▍ | 11/13 [00:00<00:00, 22.62it/s]\u001B[A\n",
      "Validation DataLoader 0:  92%|█████████▏| 12/13 [00:00<00:00, 23.47it/s]\u001B[A\n",
      "Epoch 14: 100%|██████████| 90/90 [00:33<00:00,  2.67it/s, v_num=3, train_loss_step=2.150, train_loss_epoch=1.990]\n",
      "Epoch 14: 100%|██████████| 90/90 [00:33<00:00,  2.67it/s, v_num=3, train_loss_step=2.150, train_loss_epoch=1.990]"
     ]
    },
    {
     "name": "stderr",
     "output_type": "stream",
     "text": [
      "Metric val_loss improved by 0.000 >= min_delta = 0.0. New best score: 1.978\n"
     ]
    },
    {
     "name": "stdout",
     "output_type": "stream",
     "text": [
      "Epoch 15: 100%|██████████| 90/90 [00:19<00:00,  4.65it/s, v_num=3, train_loss_step=1.930, train_loss_epoch=1.990]\n",
      "Validation: 0it [00:00, ?it/s]\u001B[A\n",
      "Validation:   0%|          | 0/13 [00:00<?, ?it/s]\u001B[A\n",
      "Validation DataLoader 0:   0%|          | 0/13 [00:00<?, ?it/s]\u001B[A\n",
      "Validation DataLoader 0:   8%|▊         | 1/13 [00:00<00:00, 14.61it/s]\u001B[A\n",
      "Validation DataLoader 0:  15%|█▌        | 2/13 [00:00<00:00, 12.27it/s]\u001B[A\n",
      "Validation DataLoader 0:  23%|██▎       | 3/13 [00:00<00:00, 14.02it/s]\u001B[A\n",
      "Validation DataLoader 0:  31%|███       | 4/13 [00:00<00:00, 15.27it/s]\u001B[A\n",
      "Validation DataLoader 0:  38%|███▊      | 5/13 [00:00<00:00, 16.18it/s]\u001B[A\n",
      "Validation DataLoader 0:  46%|████▌     | 6/13 [00:00<00:00, 17.19it/s]\u001B[A\n",
      "Validation DataLoader 0:  54%|█████▍    | 7/13 [00:00<00:00, 18.23it/s]\u001B[A\n",
      "Validation DataLoader 0:  62%|██████▏   | 8/13 [00:00<00:00, 18.39it/s]\u001B[A\n",
      "Validation DataLoader 0:  69%|██████▉   | 9/13 [00:00<00:00, 19.19it/s]\u001B[A\n",
      "Validation DataLoader 0:  77%|███████▋  | 10/13 [00:00<00:00, 19.57it/s]\u001B[A\n",
      "Validation DataLoader 0:  85%|████████▍ | 11/13 [00:00<00:00, 19.93it/s]\u001B[A\n",
      "Validation DataLoader 0:  92%|█████████▏| 12/13 [00:00<00:00, 20.44it/s]\u001B[A\n",
      "Epoch 15: 100%|██████████| 90/90 [00:33<00:00,  2.65it/s, v_num=3, train_loss_step=1.930, train_loss_epoch=1.990]\n",
      "Epoch 16: 100%|██████████| 90/90 [00:19<00:00,  4.73it/s, v_num=3, train_loss_step=1.990, train_loss_epoch=1.990]\n",
      "Validation: 0it [00:00, ?it/s]\u001B[A\n",
      "Validation:   0%|          | 0/13 [00:00<?, ?it/s]\u001B[A\n",
      "Validation DataLoader 0:   0%|          | 0/13 [00:00<?, ?it/s]\u001B[A\n",
      "Validation DataLoader 0:   8%|▊         | 1/13 [00:00<00:01, 11.45it/s]\u001B[A\n",
      "Validation DataLoader 0:  15%|█▌        | 2/13 [00:00<00:00, 14.15it/s]\u001B[A\n",
      "Validation DataLoader 0:  23%|██▎       | 3/13 [00:00<00:00, 14.98it/s]\u001B[A\n",
      "Validation DataLoader 0:  31%|███       | 4/13 [00:00<00:00, 15.85it/s]\u001B[A\n",
      "Validation DataLoader 0:  38%|███▊      | 5/13 [00:00<00:00, 16.11it/s]\u001B[A\n",
      "Validation DataLoader 0:  46%|████▌     | 6/13 [00:00<00:00, 17.23it/s]\u001B[A\n",
      "Validation DataLoader 0:  54%|█████▍    | 7/13 [00:00<00:00, 18.26it/s]\u001B[A\n",
      "Validation DataLoader 0:  62%|██████▏   | 8/13 [00:00<00:00, 19.12it/s]\u001B[A\n",
      "Validation DataLoader 0:  69%|██████▉   | 9/13 [00:00<00:00, 19.90it/s]\u001B[A\n",
      "Validation DataLoader 0:  77%|███████▋  | 10/13 [00:00<00:00, 20.48it/s]\u001B[A\n",
      "Validation DataLoader 0:  85%|████████▍ | 11/13 [00:00<00:00, 21.02it/s]\u001B[A\n",
      "Validation DataLoader 0:  92%|█████████▏| 12/13 [00:00<00:00, 21.34it/s]\u001B[A\n",
      "Epoch 16: 100%|██████████| 90/90 [00:33<00:00,  2.70it/s, v_num=3, train_loss_step=1.990, train_loss_epoch=1.990]\n",
      "Epoch 16: 100%|██████████| 90/90 [00:33<00:00,  2.70it/s, v_num=3, train_loss_step=1.990, train_loss_epoch=1.990]"
     ]
    },
    {
     "name": "stderr",
     "output_type": "stream",
     "text": [
      "Metric val_loss improved by 0.000 >= min_delta = 0.0. New best score: 1.978\n"
     ]
    },
    {
     "name": "stdout",
     "output_type": "stream",
     "text": [
      "Epoch 17: 100%|██████████| 90/90 [00:19<00:00,  4.66it/s, v_num=3, train_loss_step=2.040, train_loss_epoch=1.990]\n",
      "Validation: 0it [00:00, ?it/s]\u001B[A\n",
      "Validation:   0%|          | 0/13 [00:00<?, ?it/s]\u001B[A\n",
      "Validation DataLoader 0:   0%|          | 0/13 [00:00<?, ?it/s]\u001B[A\n",
      "Validation DataLoader 0:   8%|▊         | 1/13 [00:00<00:00, 13.10it/s]\u001B[A\n",
      "Validation DataLoader 0:  15%|█▌        | 2/13 [00:00<00:00, 12.07it/s]\u001B[A\n",
      "Validation DataLoader 0:  23%|██▎       | 3/13 [00:00<00:00, 12.26it/s]\u001B[A\n",
      "Validation DataLoader 0:  31%|███       | 4/13 [00:00<00:00, 13.35it/s]\u001B[A\n",
      "Validation DataLoader 0:  38%|███▊      | 5/13 [00:00<00:00, 15.07it/s]\u001B[A\n",
      "Validation DataLoader 0:  46%|████▌     | 6/13 [00:00<00:00, 16.64it/s]\u001B[A\n",
      "Validation DataLoader 0:  54%|█████▍    | 7/13 [00:00<00:00, 18.10it/s]\u001B[A\n",
      "Validation DataLoader 0:  62%|██████▏   | 8/13 [00:00<00:00, 19.39it/s]\u001B[A\n",
      "Validation DataLoader 0:  69%|██████▉   | 9/13 [00:00<00:00, 20.52it/s]\u001B[A\n",
      "Validation DataLoader 0:  77%|███████▋  | 10/13 [00:00<00:00, 21.52it/s]\u001B[A\n",
      "Validation DataLoader 0:  85%|████████▍ | 11/13 [00:00<00:00, 22.46it/s]\u001B[A\n",
      "Validation DataLoader 0:  92%|█████████▏| 12/13 [00:00<00:00, 23.32it/s]\u001B[A\n",
      "Epoch 17: 100%|██████████| 90/90 [00:33<00:00,  2.66it/s, v_num=3, train_loss_step=2.040, train_loss_epoch=1.990]\n",
      "Epoch 17: 100%|██████████| 90/90 [00:33<00:00,  2.66it/s, v_num=3, train_loss_step=2.040, train_loss_epoch=1.990]"
     ]
    },
    {
     "name": "stderr",
     "output_type": "stream",
     "text": [
      "Metric val_loss improved by 0.000 >= min_delta = 0.0. New best score: 1.978\n"
     ]
    },
    {
     "name": "stdout",
     "output_type": "stream",
     "text": [
      "Epoch 18: 100%|██████████| 90/90 [00:19<00:00,  4.66it/s, v_num=3, train_loss_step=2.200, train_loss_epoch=1.990]\n",
      "Validation: 0it [00:00, ?it/s]\u001B[A\n",
      "Validation:   0%|          | 0/13 [00:00<?, ?it/s]\u001B[A\n",
      "Validation DataLoader 0:   0%|          | 0/13 [00:00<?, ?it/s]\u001B[A\n",
      "Validation DataLoader 0:   8%|▊         | 1/13 [00:00<00:00, 12.43it/s]\u001B[A\n",
      "Validation DataLoader 0:  15%|█▌        | 2/13 [00:00<00:00, 15.51it/s]\u001B[A\n",
      "Validation DataLoader 0:  23%|██▎       | 3/13 [00:00<00:00, 16.96it/s]\u001B[A\n",
      "Validation DataLoader 0:  31%|███       | 4/13 [00:00<00:00, 17.32it/s]\u001B[A\n",
      "Validation DataLoader 0:  38%|███▊      | 5/13 [00:00<00:00, 19.46it/s]\u001B[A\n",
      "Validation DataLoader 0:  46%|████▌     | 6/13 [00:00<00:00, 21.28it/s]\u001B[A\n",
      "Validation DataLoader 0:  54%|█████▍    | 7/13 [00:00<00:00, 21.48it/s]\u001B[A\n",
      "Validation DataLoader 0:  62%|██████▏   | 8/13 [00:00<00:00, 22.17it/s]\u001B[A\n",
      "Validation DataLoader 0:  69%|██████▉   | 9/13 [00:00<00:00, 23.38it/s]\u001B[A\n",
      "Validation DataLoader 0:  77%|███████▋  | 10/13 [00:00<00:00, 24.39it/s]\u001B[A\n",
      "Validation DataLoader 0:  85%|████████▍ | 11/13 [00:00<00:00, 25.29it/s]\u001B[A\n",
      "Validation DataLoader 0:  92%|█████████▏| 12/13 [00:00<00:00, 25.76it/s]\u001B[A\n",
      "Epoch 18: 100%|██████████| 90/90 [00:33<00:00,  2.66it/s, v_num=3, train_loss_step=2.200, train_loss_epoch=1.990]\n",
      "Epoch 19: 100%|██████████| 90/90 [00:18<00:00,  4.74it/s, v_num=3, train_loss_step=2.090, train_loss_epoch=1.990]\n",
      "Validation: 0it [00:00, ?it/s]\u001B[A\n",
      "Validation:   0%|          | 0/13 [00:00<?, ?it/s]\u001B[A\n",
      "Validation DataLoader 0:   0%|          | 0/13 [00:00<?, ?it/s]\u001B[A\n",
      "Validation DataLoader 0:   8%|▊         | 1/13 [00:00<00:00, 16.39it/s]\u001B[A\n",
      "Validation DataLoader 0:  15%|█▌        | 2/13 [00:00<00:00, 16.67it/s]\u001B[A\n",
      "Validation DataLoader 0:  23%|██▎       | 3/13 [00:00<00:00, 17.54it/s]\u001B[A\n",
      "Validation DataLoader 0:  31%|███       | 4/13 [00:00<00:00, 17.09it/s]\u001B[A\n",
      "Validation DataLoader 0:  38%|███▊      | 5/13 [00:00<00:00, 17.48it/s]\u001B[A\n",
      "Validation DataLoader 0:  46%|████▌     | 6/13 [00:00<00:00, 17.54it/s]\u001B[A\n",
      "Validation DataLoader 0:  54%|█████▍    | 7/13 [00:00<00:00, 17.86it/s]\u001B[A\n",
      "Validation DataLoader 0:  62%|██████▏   | 8/13 [00:00<00:00, 17.90it/s]\u001B[A\n",
      "Validation DataLoader 0:  69%|██████▉   | 9/13 [00:00<00:00, 18.63it/s]\u001B[A\n",
      "Validation DataLoader 0:  77%|███████▋  | 10/13 [00:00<00:00, 19.38it/s]\u001B[A\n",
      "Validation DataLoader 0:  85%|████████▍ | 11/13 [00:00<00:00, 20.04it/s]\u001B[A\n",
      "Validation DataLoader 0:  92%|█████████▏| 12/13 [00:00<00:00, 20.58it/s]\u001B[A\n",
      "Epoch 19: 100%|██████████| 90/90 [00:33<00:00,  2.70it/s, v_num=3, train_loss_step=2.090, train_loss_epoch=1.990]\n",
      "Epoch 19: 100%|██████████| 90/90 [00:33<00:00,  2.70it/s, v_num=3, train_loss_step=2.090, train_loss_epoch=1.990]"
     ]
    },
    {
     "name": "stderr",
     "output_type": "stream",
     "text": [
      "Metric val_loss improved by 0.000 >= min_delta = 0.0. New best score: 1.978\n"
     ]
    },
    {
     "name": "stdout",
     "output_type": "stream",
     "text": [
      "Epoch 20: 100%|██████████| 90/90 [00:18<00:00,  4.76it/s, v_num=3, train_loss_step=2.040, train_loss_epoch=1.990]\n",
      "Validation: 0it [00:00, ?it/s]\u001B[A\n",
      "Validation:   0%|          | 0/13 [00:00<?, ?it/s]\u001B[A\n",
      "Validation DataLoader 0:   0%|          | 0/13 [00:00<?, ?it/s]\u001B[A\n",
      "Validation DataLoader 0:   8%|▊         | 1/13 [00:00<00:00, 16.39it/s]\u001B[A\n",
      "Validation DataLoader 0:  15%|█▌        | 2/13 [00:00<00:00, 14.77it/s]\u001B[A\n",
      "Validation DataLoader 0:  23%|██▎       | 3/13 [00:00<00:00, 15.31it/s]\u001B[A\n",
      "Validation DataLoader 0:  31%|███       | 4/13 [00:00<00:00, 18.03it/s]\u001B[A\n",
      "Validation DataLoader 0:  38%|███▊      | 5/13 [00:00<00:00, 20.17it/s]\u001B[A\n",
      "Validation DataLoader 0:  46%|████▌     | 6/13 [00:00<00:00, 21.90it/s]\u001B[A\n",
      "Validation DataLoader 0:  54%|█████▍    | 7/13 [00:00<00:00, 20.90it/s]\u001B[A\n",
      "Validation DataLoader 0:  62%|██████▏   | 8/13 [00:00<00:00, 22.17it/s]\u001B[A\n",
      "Validation DataLoader 0:  69%|██████▉   | 9/13 [00:00<00:00, 23.26it/s]\u001B[A\n",
      "Validation DataLoader 0:  77%|███████▋  | 10/13 [00:00<00:00, 24.22it/s]\u001B[A\n",
      "Validation DataLoader 0:  85%|████████▍ | 11/13 [00:00<00:00, 25.12it/s]\u001B[A\n",
      "Validation DataLoader 0:  92%|█████████▏| 12/13 [00:00<00:00, 25.92it/s]\u001B[A\n",
      "Epoch 20: 100%|██████████| 90/90 [00:33<00:00,  2.70it/s, v_num=3, train_loss_step=2.040, train_loss_epoch=1.990]\n",
      "Epoch 21: 100%|██████████| 90/90 [00:19<00:00,  4.68it/s, v_num=3, train_loss_step=1.990, train_loss_epoch=1.990]\n",
      "Validation: 0it [00:00, ?it/s]\u001B[A\n",
      "Validation:   0%|          | 0/13 [00:00<?, ?it/s]\u001B[A\n",
      "Validation DataLoader 0:   0%|          | 0/13 [00:00<?, ?it/s]\u001B[A\n",
      "Validation DataLoader 0:   8%|▊         | 1/13 [00:00<00:00, 23.81it/s]\u001B[A\n",
      "Validation DataLoader 0:  15%|█▌        | 2/13 [00:00<00:00, 19.05it/s]\u001B[A\n",
      "Validation DataLoader 0:  23%|██▎       | 3/13 [00:00<00:00, 18.29it/s]\u001B[A\n",
      "Validation DataLoader 0:  31%|███       | 4/13 [00:00<00:00, 19.90it/s]\u001B[A\n",
      "Validation DataLoader 0:  38%|███▊      | 5/13 [00:00<00:00, 21.28it/s]\u001B[A\n",
      "Validation DataLoader 0:  46%|████▌     | 6/13 [00:00<00:00, 22.30it/s]\u001B[A\n",
      "Validation DataLoader 0:  54%|█████▍    | 7/13 [00:00<00:00, 20.83it/s]\u001B[A\n",
      "Validation DataLoader 0:  62%|██████▏   | 8/13 [00:00<00:00, 20.89it/s]\u001B[A\n",
      "Validation DataLoader 0:  69%|██████▉   | 9/13 [00:00<00:00, 21.58it/s]\u001B[A\n",
      "Validation DataLoader 0:  77%|███████▋  | 10/13 [00:00<00:00, 22.17it/s]\u001B[A\n",
      "Validation DataLoader 0:  85%|████████▍ | 11/13 [00:00<00:00, 22.63it/s]\u001B[A\n",
      "Validation DataLoader 0:  92%|█████████▏| 12/13 [00:00<00:00, 23.03it/s]\u001B[A\n",
      "Epoch 21: 100%|██████████| 90/90 [00:33<00:00,  2.68it/s, v_num=3, train_loss_step=1.990, train_loss_epoch=1.990]\n",
      "Epoch 22: 100%|██████████| 90/90 [00:19<00:00,  4.69it/s, v_num=3, train_loss_step=1.880, train_loss_epoch=1.990]\n",
      "Validation: 0it [00:00, ?it/s]\u001B[A\n",
      "Validation:   0%|          | 0/13 [00:00<?, ?it/s]\u001B[A\n",
      "Validation DataLoader 0:   0%|          | 0/13 [00:00<?, ?it/s]\u001B[A\n",
      "Validation DataLoader 0:   8%|▊         | 1/13 [00:00<00:00, 19.23it/s]\u001B[A\n",
      "Validation DataLoader 0:  15%|█▌        | 2/13 [00:00<00:00, 18.52it/s]\u001B[A\n",
      "Validation DataLoader 0:  23%|██▎       | 3/13 [00:00<00:00, 18.18it/s]\u001B[A\n",
      "Validation DataLoader 0:  31%|███       | 4/13 [00:00<00:00, 19.80it/s]\u001B[A\n",
      "Validation DataLoader 0:  38%|███▊      | 5/13 [00:00<00:00, 21.10it/s]\u001B[A\n",
      "Validation DataLoader 0:  46%|████▌     | 6/13 [00:00<00:00, 21.98it/s]\u001B[A\n",
      "Validation DataLoader 0:  54%|█████▍    | 7/13 [00:00<00:00, 22.44it/s]\u001B[A\n",
      "Validation DataLoader 0:  62%|██████▏   | 8/13 [00:00<00:00, 20.89it/s]\u001B[A\n",
      "Validation DataLoader 0:  69%|██████▉   | 9/13 [00:00<00:00, 21.48it/s]\u001B[A\n",
      "Validation DataLoader 0:  77%|███████▋  | 10/13 [00:00<00:00, 21.98it/s]\u001B[A\n",
      "Validation DataLoader 0:  85%|████████▍ | 11/13 [00:00<00:00, 22.27it/s]\u001B[A\n",
      "Validation DataLoader 0:  92%|█████████▏| 12/13 [00:00<00:00, 22.60it/s]\u001B[A\n",
      "Epoch 22: 100%|██████████| 90/90 [00:33<00:00,  2.68it/s, v_num=3, train_loss_step=1.880, train_loss_epoch=1.990]\n",
      "Epoch 22: 100%|██████████| 90/90 [00:33<00:00,  2.68it/s, v_num=3, train_loss_step=1.880, train_loss_epoch=1.990]"
     ]
    },
    {
     "name": "stderr",
     "output_type": "stream",
     "text": [
      "Monitored metric val_loss did not improve in the last 3 records. Best score: 1.978. Signaling Trainer to stop.\n"
     ]
    },
    {
     "name": "stdout",
     "output_type": "stream",
     "text": [
      "Epoch 22: 100%|██████████| 90/90 [00:33<00:00,  2.68it/s, v_num=3, train_loss_step=1.880, train_loss_epoch=1.990]\n"
     ]
    },
    {
     "name": "stderr",
     "output_type": "stream",
     "text": [
      "Restoring states from the checkpoint path at cnn_lstm\\lightning_logs\\version_3\\checkpoints\\epoch=22-step=2070.ckpt\n",
      "LOCAL_RANK: 0 - CUDA_VISIBLE_DEVICES: [0]\n",
      "Loaded model weights from the checkpoint at cnn_lstm\\lightning_logs\\version_3\\checkpoints\\epoch=22-step=2070.ckpt\n"
     ]
    },
    {
     "name": "stdout",
     "output_type": "stream",
     "text": [
      "Testing DataLoader 0: 100%|██████████| 26/26 [00:01<00:00, 17.77it/s]\n"
     ]
    },
    {
     "data": {
      "text/plain": "┏━━━━━━━━━━━━━━━━━━━━━━━━━━━┳━━━━━━━━━━━━━━━━━━━━━━━━━━━┓\n┃\u001B[1m \u001B[0m\u001B[1m       Test metric       \u001B[0m\u001B[1m \u001B[0m┃\u001B[1m \u001B[0m\u001B[1m      DataLoader 0       \u001B[0m\u001B[1m \u001B[0m┃\n┡━━━━━━━━━━━━━━━━━━━━━━━━━━━╇━━━━━━━━━━━━━━━━━━━━━━━━━━━┩\n│\u001B[36m \u001B[0m\u001B[36m        test_acc         \u001B[0m\u001B[36m \u001B[0m│\u001B[35m \u001B[0m\u001B[35m   0.6284551620483398    \u001B[0m\u001B[35m \u001B[0m│\n│\u001B[36m \u001B[0m\u001B[36m        test_loss        \u001B[0m\u001B[36m \u001B[0m│\u001B[35m \u001B[0m\u001B[35m   1.9903146028518677    \u001B[0m\u001B[35m \u001B[0m│\n└───────────────────────────┴───────────────────────────┘\n",
      "text/html": "<pre style=\"white-space:pre;overflow-x:auto;line-height:normal;font-family:Menlo,'DejaVu Sans Mono',consolas,'Courier New',monospace\">┏━━━━━━━━━━━━━━━━━━━━━━━━━━━┳━━━━━━━━━━━━━━━━━━━━━━━━━━━┓\n┃<span style=\"font-weight: bold\">        Test metric        </span>┃<span style=\"font-weight: bold\">       DataLoader 0        </span>┃\n┡━━━━━━━━━━━━━━━━━━━━━━━━━━━╇━━━━━━━━━━━━━━━━━━━━━━━━━━━┩\n│<span style=\"color: #008080; text-decoration-color: #008080\">         test_acc          </span>│<span style=\"color: #800080; text-decoration-color: #800080\">    0.6284551620483398     </span>│\n│<span style=\"color: #008080; text-decoration-color: #008080\">         test_loss         </span>│<span style=\"color: #800080; text-decoration-color: #800080\">    1.9903146028518677     </span>│\n└───────────────────────────┴───────────────────────────┘\n</pre>\n"
     },
     "metadata": {},
     "output_type": "display_data"
    },
    {
     "name": "stderr",
     "output_type": "stream",
     "text": [
      "Restoring states from the checkpoint path at cnn_lstm\\lightning_logs\\version_3\\checkpoints\\epoch=22-step=2070.ckpt\n",
      "LOCAL_RANK: 0 - CUDA_VISIBLE_DEVICES: [0]\n",
      "Loaded model weights from the checkpoint at cnn_lstm\\lightning_logs\\version_3\\checkpoints\\epoch=22-step=2070.ckpt\n"
     ]
    },
    {
     "name": "stdout",
     "output_type": "stream",
     "text": [
      "Predicting DataLoader 0: 100%|██████████| 26/26 [00:01<00:00, 18.53it/s]\n"
     ]
    },
    {
     "name": "stderr",
     "output_type": "stream",
     "text": [
      "Global seed set to 4\n",
      "GPU available: True (cuda), used: True\n",
      "TPU available: False, using: 0 TPU cores\n",
      "IPU available: False, using: 0 IPUs\n",
      "HPU available: False, using: 0 HPUs\n",
      "LOCAL_RANK: 0 - CUDA_VISIBLE_DEVICES: [0]\n",
      "\n",
      "  | Name          | Type                      | Params\n",
      "------------------------------------------------------------\n",
      "0 | conv          | Conv1d                    | 288   \n",
      "1 | lstm          | LSTM                      | 325 K \n",
      "2 | hidden2label  | Linear                    | 1.5 K \n",
      "3 | softmax       | Softmax                   | 0     \n",
      "4 | train_acc     | MulticlassAccuracy        | 0     \n",
      "5 | valid_acc     | MulticlassAccuracy        | 0     \n",
      "6 | test_acc      | MulticlassAccuracy        | 0     \n",
      "7 | test_conf_mat | MulticlassConfusionMatrix | 0     \n",
      "------------------------------------------------------------\n",
      "327 K     Trainable params\n",
      "0         Non-trainable params\n",
      "327 K     Total params\n",
      "1.310     Total estimated model params size (MB)\n"
     ]
    },
    {
     "name": "stdout",
     "output_type": "stream",
     "text": [
      "Epoch 0: 100%|██████████| 90/90 [00:18<00:00,  4.77it/s, v_num=4, train_loss_step=2.090]\n",
      "Validation: 0it [00:00, ?it/s]\u001B[A\n",
      "Validation:   0%|          | 0/13 [00:00<?, ?it/s]\u001B[A\n",
      "Validation DataLoader 0:   0%|          | 0/13 [00:00<?, ?it/s]\u001B[A\n",
      "Validation DataLoader 0:   8%|▊         | 1/13 [00:00<00:00, 13.22it/s]\u001B[A\n",
      "Validation DataLoader 0:  15%|█▌        | 2/13 [00:00<00:00, 11.66it/s]\u001B[A\n",
      "Validation DataLoader 0:  23%|██▎       | 3/13 [00:00<00:00, 11.38it/s]\u001B[A\n",
      "Validation DataLoader 0:  31%|███       | 4/13 [00:00<00:00, 13.67it/s]\u001B[A\n",
      "Validation DataLoader 0:  38%|███▊      | 5/13 [00:00<00:00, 15.59it/s]\u001B[A\n",
      "Validation DataLoader 0:  46%|████▌     | 6/13 [00:00<00:00, 17.21it/s]\u001B[A\n",
      "Validation DataLoader 0:  54%|█████▍    | 7/13 [00:00<00:00, 18.63it/s]\u001B[A\n",
      "Validation DataLoader 0:  62%|██████▏   | 8/13 [00:00<00:00, 19.97it/s]\u001B[A\n",
      "Validation DataLoader 0:  69%|██████▉   | 9/13 [00:00<00:00, 21.14it/s]\u001B[A\n",
      "Validation DataLoader 0:  77%|███████▋  | 10/13 [00:00<00:00, 22.19it/s]\u001B[A\n",
      "Validation DataLoader 0:  85%|████████▍ | 11/13 [00:00<00:00, 23.13it/s]\u001B[A\n",
      "Validation DataLoader 0:  92%|█████████▏| 12/13 [00:00<00:00, 23.97it/s]\u001B[A\n",
      "Epoch 0: 100%|██████████| 90/90 [00:33<00:00,  2.70it/s, v_num=4, train_loss_step=2.090]\n",
      "Epoch 0: 100%|██████████| 90/90 [00:33<00:00,  2.70it/s, v_num=4, train_loss_step=2.090, train_loss_epoch=2.030]"
     ]
    },
    {
     "name": "stderr",
     "output_type": "stream",
     "text": [
      "Metric val_loss improved. New best score: 1.978\n"
     ]
    },
    {
     "name": "stdout",
     "output_type": "stream",
     "text": [
      "Epoch 1: 100%|██████████| 90/90 [00:18<00:00,  4.76it/s, v_num=4, train_loss_step=1.990, train_loss_epoch=2.030]\n",
      "Validation: 0it [00:00, ?it/s]\u001B[A\n",
      "Validation:   0%|          | 0/13 [00:00<?, ?it/s]\u001B[A\n",
      "Validation DataLoader 0:   0%|          | 0/13 [00:00<?, ?it/s]\u001B[A\n",
      "Validation DataLoader 0:   8%|▊         | 1/13 [00:00<00:01, 11.28it/s]\u001B[A\n",
      "Validation DataLoader 0:  15%|█▌        | 2/13 [00:00<00:00, 12.45it/s]\u001B[A\n",
      "Validation DataLoader 0:  23%|██▎       | 3/13 [00:00<00:00, 15.65it/s]\u001B[A\n",
      "Validation DataLoader 0:  31%|███       | 4/13 [00:00<00:00, 18.46it/s]\u001B[A\n",
      "Validation DataLoader 0:  38%|███▊      | 5/13 [00:00<00:00, 20.77it/s]\u001B[A\n",
      "Validation DataLoader 0:  46%|████▌     | 6/13 [00:00<00:00, 22.50it/s]\u001B[A\n",
      "Validation DataLoader 0:  54%|█████▍    | 7/13 [00:00<00:00, 18.39it/s]\u001B[A\n",
      "Validation DataLoader 0:  62%|██████▏   | 8/13 [00:00<00:00, 19.66it/s]\u001B[A\n",
      "Validation DataLoader 0:  69%|██████▉   | 9/13 [00:00<00:00, 20.80it/s]\u001B[A\n",
      "Validation DataLoader 0:  77%|███████▋  | 10/13 [00:00<00:00, 21.66it/s]\u001B[A\n",
      "Validation DataLoader 0:  85%|████████▍ | 11/13 [00:00<00:00, 22.55it/s]\u001B[A\n",
      "Validation DataLoader 0:  92%|█████████▏| 12/13 [00:00<00:00, 23.36it/s]\u001B[A\n",
      "Epoch 1: 100%|██████████| 90/90 [00:33<00:00,  2.70it/s, v_num=4, train_loss_step=1.990, train_loss_epoch=2.030]\n",
      "Epoch 1: 100%|██████████| 90/90 [00:33<00:00,  2.70it/s, v_num=4, train_loss_step=1.990, train_loss_epoch=1.990]"
     ]
    },
    {
     "name": "stderr",
     "output_type": "stream",
     "text": [
      "Metric val_loss improved by 0.000 >= min_delta = 0.0. New best score: 1.978\n"
     ]
    },
    {
     "name": "stdout",
     "output_type": "stream",
     "text": [
      "Epoch 2: 100%|██████████| 90/90 [00:19<00:00,  4.68it/s, v_num=4, train_loss_step=1.930, train_loss_epoch=1.990]\n",
      "Validation: 0it [00:00, ?it/s]\u001B[A\n",
      "Validation:   0%|          | 0/13 [00:00<?, ?it/s]\u001B[A\n",
      "Validation DataLoader 0:   0%|          | 0/13 [00:00<?, ?it/s]\u001B[A\n",
      "Validation DataLoader 0:   8%|▊         | 1/13 [00:00<00:00, 13.70it/s]\u001B[A\n",
      "Validation DataLoader 0:  15%|█▌        | 2/13 [00:00<00:00, 15.15it/s]\u001B[A\n",
      "Validation DataLoader 0:  23%|██▎       | 3/13 [00:00<00:00, 16.39it/s]\u001B[A\n",
      "Validation DataLoader 0:  31%|███       | 4/13 [00:00<00:00, 18.60it/s]\u001B[A\n",
      "Validation DataLoader 0:  38%|███▊      | 5/13 [00:00<00:00, 20.66it/s]\u001B[A\n",
      "Validation DataLoader 0:  46%|████▌     | 6/13 [00:00<00:00, 22.30it/s]\u001B[A\n",
      "Validation DataLoader 0:  54%|█████▍    | 7/13 [00:00<00:00, 21.47it/s]\u001B[A\n",
      "Validation DataLoader 0:  62%|██████▏   | 8/13 [00:00<00:00, 21.45it/s]\u001B[A\n",
      "Validation DataLoader 0:  69%|██████▉   | 9/13 [00:00<00:00, 22.56it/s]\u001B[A\n",
      "Validation DataLoader 0:  77%|███████▋  | 10/13 [00:00<00:00, 23.47it/s]\u001B[A\n",
      "Validation DataLoader 0:  85%|████████▍ | 11/13 [00:00<00:00, 24.34it/s]\u001B[A\n",
      "Validation DataLoader 0:  92%|█████████▏| 12/13 [00:00<00:00, 22.35it/s]\u001B[A\n",
      "Epoch 2: 100%|██████████| 90/90 [00:33<00:00,  2.66it/s, v_num=4, train_loss_step=1.930, train_loss_epoch=1.990]\n",
      "Epoch 2: 100%|██████████| 90/90 [00:33<00:00,  2.66it/s, v_num=4, train_loss_step=1.930, train_loss_epoch=1.990]"
     ]
    },
    {
     "name": "stderr",
     "output_type": "stream",
     "text": [
      "Metric val_loss improved by 0.000 >= min_delta = 0.0. New best score: 1.978\n"
     ]
    },
    {
     "name": "stdout",
     "output_type": "stream",
     "text": [
      "Epoch 3: 100%|██████████| 90/90 [00:19<00:00,  4.68it/s, v_num=4, train_loss_step=1.880, train_loss_epoch=1.990]\n",
      "Validation: 0it [00:00, ?it/s]\u001B[A\n",
      "Validation:   0%|          | 0/13 [00:00<?, ?it/s]\u001B[A\n",
      "Validation DataLoader 0:   0%|          | 0/13 [00:00<?, ?it/s]\u001B[A\n",
      "Validation DataLoader 0:   8%|▊         | 1/13 [00:00<00:01, 11.09it/s]\u001B[A\n",
      "Validation DataLoader 0:  15%|█▌        | 2/13 [00:00<00:00, 11.10it/s]\u001B[A\n",
      "Validation DataLoader 0:  23%|██▎       | 3/13 [00:00<00:00, 14.34it/s]\u001B[A\n",
      "Validation DataLoader 0:  31%|███       | 4/13 [00:00<00:00, 17.08it/s]\u001B[A\n",
      "Validation DataLoader 0:  38%|███▊      | 5/13 [00:00<00:00, 19.29it/s]\u001B[A\n",
      "Validation DataLoader 0:  46%|████▌     | 6/13 [00:00<00:00, 20.61it/s]\u001B[A\n",
      "Validation DataLoader 0:  54%|█████▍    | 7/13 [00:00<00:00, 18.96it/s]\u001B[A\n",
      "Validation DataLoader 0:  62%|██████▏   | 8/13 [00:00<00:00, 20.30it/s]\u001B[A\n",
      "Validation DataLoader 0:  69%|██████▉   | 9/13 [00:00<00:00, 21.32it/s]\u001B[A\n",
      "Validation DataLoader 0:  77%|███████▋  | 10/13 [00:00<00:00, 22.36it/s]\u001B[A\n",
      "Validation DataLoader 0:  85%|████████▍ | 11/13 [00:00<00:00, 23.15it/s]\u001B[A\n",
      "Validation DataLoader 0:  92%|█████████▏| 12/13 [00:00<00:00, 23.90it/s]\u001B[A\n",
      "Epoch 3: 100%|██████████| 90/90 [00:33<00:00,  2.66it/s, v_num=4, train_loss_step=1.880, train_loss_epoch=1.990]\n",
      "Epoch 3: 100%|██████████| 90/90 [00:33<00:00,  2.66it/s, v_num=4, train_loss_step=1.880, train_loss_epoch=1.990]"
     ]
    },
    {
     "name": "stderr",
     "output_type": "stream",
     "text": [
      "Metric val_loss improved by 0.000 >= min_delta = 0.0. New best score: 1.978\n"
     ]
    },
    {
     "name": "stdout",
     "output_type": "stream",
     "text": [
      "Epoch 4: 100%|██████████| 90/90 [00:19<00:00,  4.68it/s, v_num=4, train_loss_step=2.040, train_loss_epoch=1.990]\n",
      "Validation: 0it [00:00, ?it/s]\u001B[A\n",
      "Validation:   0%|          | 0/13 [00:00<?, ?it/s]\u001B[A\n",
      "Validation DataLoader 0:   0%|          | 0/13 [00:00<?, ?it/s]\u001B[A\n",
      "Validation DataLoader 0:   8%|▊         | 1/13 [00:00<00:00, 21.28it/s]\u001B[A\n",
      "Validation DataLoader 0:  15%|█▌        | 2/13 [00:00<00:00, 20.00it/s]\u001B[A\n",
      "Validation DataLoader 0:  23%|██▎       | 3/13 [00:00<00:00, 18.75it/s]\u001B[A\n",
      "Validation DataLoader 0:  31%|███       | 4/13 [00:00<00:00, 18.02it/s]\u001B[A\n",
      "Validation DataLoader 0:  38%|███▊      | 5/13 [00:00<00:00, 19.48it/s]\u001B[A\n",
      "Validation DataLoader 0:  46%|████▌     | 6/13 [00:00<00:00, 20.50it/s]\u001B[A\n",
      "Validation DataLoader 0:  54%|█████▍    | 7/13 [00:00<00:00, 18.15it/s]\u001B[A\n",
      "Validation DataLoader 0:  62%|██████▏   | 8/13 [00:00<00:00, 19.06it/s]\u001B[A\n",
      "Validation DataLoader 0:  69%|██████▉   | 9/13 [00:00<00:00, 19.62it/s]\u001B[A\n",
      "Validation DataLoader 0:  77%|███████▋  | 10/13 [00:00<00:00, 20.26it/s]\u001B[A\n",
      "Validation DataLoader 0:  85%|████████▍ | 11/13 [00:00<00:00, 20.50it/s]\u001B[A\n",
      "Validation DataLoader 0:  92%|█████████▏| 12/13 [00:00<00:00, 20.99it/s]\u001B[A\n",
      "Epoch 4: 100%|██████████| 90/90 [00:33<00:00,  2.65it/s, v_num=4, train_loss_step=2.040, train_loss_epoch=1.990]\n",
      "Epoch 4: 100%|██████████| 90/90 [00:33<00:00,  2.65it/s, v_num=4, train_loss_step=2.040, train_loss_epoch=1.990]"
     ]
    },
    {
     "name": "stderr",
     "output_type": "stream",
     "text": [
      "Metric val_loss improved by 0.000 >= min_delta = 0.0. New best score: 1.978\n"
     ]
    },
    {
     "name": "stdout",
     "output_type": "stream",
     "text": [
      "Epoch 5: 100%|██████████| 90/90 [00:19<00:00,  4.72it/s, v_num=4, train_loss_step=1.990, train_loss_epoch=1.990]\n",
      "Validation: 0it [00:00, ?it/s]\u001B[A\n",
      "Validation:   0%|          | 0/13 [00:00<?, ?it/s]\u001B[A\n",
      "Validation DataLoader 0:   0%|          | 0/13 [00:00<?, ?it/s]\u001B[A\n",
      "Validation DataLoader 0:   8%|▊         | 1/13 [00:00<00:01,  9.48it/s]\u001B[A\n",
      "Validation DataLoader 0:  15%|█▌        | 2/13 [00:00<00:00, 12.96it/s]\u001B[A\n",
      "Validation DataLoader 0:  23%|██▎       | 3/13 [00:00<00:00, 15.84it/s]\u001B[A\n",
      "Validation DataLoader 0:  31%|███       | 4/13 [00:00<00:00, 17.60it/s]\u001B[A\n",
      "Validation DataLoader 0:  38%|███▊      | 5/13 [00:00<00:00, 17.97it/s]\u001B[A\n",
      "Validation DataLoader 0:  46%|████▌     | 6/13 [00:00<00:00, 19.15it/s]\u001B[A\n",
      "Validation DataLoader 0:  54%|█████▍    | 7/13 [00:00<00:00, 18.26it/s]\u001B[A\n",
      "Validation DataLoader 0:  62%|██████▏   | 8/13 [00:00<00:00, 19.17it/s]\u001B[A\n",
      "Validation DataLoader 0:  69%|██████▉   | 9/13 [00:00<00:00, 19.94it/s]\u001B[A\n",
      "Validation DataLoader 0:  77%|███████▋  | 10/13 [00:00<00:00, 20.07it/s]\u001B[A\n",
      "Validation DataLoader 0:  85%|████████▍ | 11/13 [00:00<00:00, 20.59it/s]\u001B[A\n",
      "Validation DataLoader 0:  92%|█████████▏| 12/13 [00:00<00:00, 20.93it/s]\u001B[A\n",
      "Epoch 5: 100%|██████████| 90/90 [00:33<00:00,  2.66it/s, v_num=4, train_loss_step=1.990, train_loss_epoch=1.990]\n",
      "Epoch 5: 100%|██████████| 90/90 [00:33<00:00,  2.66it/s, v_num=4, train_loss_step=1.990, train_loss_epoch=1.990]"
     ]
    },
    {
     "name": "stderr",
     "output_type": "stream",
     "text": [
      "Metric val_loss improved by 0.000 >= min_delta = 0.0. New best score: 1.978\n"
     ]
    },
    {
     "name": "stdout",
     "output_type": "stream",
     "text": [
      "Epoch 6: 100%|██████████| 90/90 [00:19<00:00,  4.70it/s, v_num=4, train_loss_step=1.930, train_loss_epoch=1.990]\n",
      "Validation: 0it [00:00, ?it/s]\u001B[A\n",
      "Validation:   0%|          | 0/13 [00:00<?, ?it/s]\u001B[A\n",
      "Validation DataLoader 0:   0%|          | 0/13 [00:00<?, ?it/s]\u001B[A\n",
      "Validation DataLoader 0:   8%|▊         | 1/13 [00:00<00:00, 14.22it/s]\u001B[A\n",
      "Validation DataLoader 0:  15%|█▌        | 2/13 [00:00<00:00, 16.09it/s]\u001B[A\n",
      "Validation DataLoader 0:  23%|██▎       | 3/13 [00:00<00:00, 17.41it/s]\u001B[A\n",
      "Validation DataLoader 0:  31%|███       | 4/13 [00:00<00:00, 18.07it/s]\u001B[A\n",
      "Validation DataLoader 0:  38%|███▊      | 5/13 [00:00<00:00, 18.36it/s]\u001B[A\n",
      "Validation DataLoader 0:  46%|████▌     | 6/13 [00:00<00:00, 18.85it/s]\u001B[A\n",
      "Validation DataLoader 0:  54%|█████▍    | 7/13 [00:00<00:00, 17.44it/s]\u001B[A\n",
      "Validation DataLoader 0:  62%|██████▏   | 8/13 [00:00<00:00, 17.92it/s]\u001B[A\n",
      "Validation DataLoader 0:  69%|██████▉   | 9/13 [00:00<00:00, 17.85it/s]\u001B[A\n",
      "Validation DataLoader 0:  77%|███████▋  | 10/13 [00:00<00:00, 18.61it/s]\u001B[A\n",
      "Validation DataLoader 0:  85%|████████▍ | 11/13 [00:00<00:00, 19.15it/s]\u001B[A\n",
      "Validation DataLoader 0:  92%|█████████▏| 12/13 [00:00<00:00, 19.22it/s]\u001B[A\n",
      "Epoch 6: 100%|██████████| 90/90 [00:33<00:00,  2.67it/s, v_num=4, train_loss_step=1.930, train_loss_epoch=1.990]\n",
      "Epoch 6: 100%|██████████| 90/90 [00:33<00:00,  2.67it/s, v_num=4, train_loss_step=1.930, train_loss_epoch=1.990]"
     ]
    },
    {
     "name": "stderr",
     "output_type": "stream",
     "text": [
      "Metric val_loss improved by 0.000 >= min_delta = 0.0. New best score: 1.978\n"
     ]
    },
    {
     "name": "stdout",
     "output_type": "stream",
     "text": [
      "Epoch 7: 100%|██████████| 90/90 [00:19<00:00,  4.68it/s, v_num=4, train_loss_step=2.250, train_loss_epoch=1.990]\n",
      "Validation: 0it [00:00, ?it/s]\u001B[A\n",
      "Validation:   0%|          | 0/13 [00:00<?, ?it/s]\u001B[A\n",
      "Validation DataLoader 0:   0%|          | 0/13 [00:00<?, ?it/s]\u001B[A\n",
      "Validation DataLoader 0:   8%|▊         | 1/13 [00:00<00:00, 14.93it/s]\u001B[A\n",
      "Validation DataLoader 0:  15%|█▌        | 2/13 [00:00<00:00, 16.81it/s]\u001B[A\n",
      "Validation DataLoader 0:  23%|██▎       | 3/13 [00:00<00:00, 16.85it/s]\u001B[A\n",
      "Validation DataLoader 0:  31%|███       | 4/13 [00:00<00:00, 17.47it/s]\u001B[A\n",
      "Validation DataLoader 0:  38%|███▊      | 5/13 [00:00<00:00, 16.67it/s]\u001B[A\n",
      "Validation DataLoader 0:  46%|████▌     | 6/13 [00:00<00:00, 18.35it/s]\u001B[A\n",
      "Validation DataLoader 0:  54%|█████▍    | 7/13 [00:00<00:00, 19.77it/s]\u001B[A\n",
      "Validation DataLoader 0:  62%|██████▏   | 8/13 [00:00<00:00, 21.11it/s]\u001B[A\n",
      "Validation DataLoader 0:  69%|██████▉   | 9/13 [00:00<00:00, 22.22it/s]\u001B[A\n",
      "Validation DataLoader 0:  77%|███████▋  | 10/13 [00:00<00:00, 23.26it/s]\u001B[A\n",
      "Validation DataLoader 0:  85%|████████▍ | 11/13 [00:00<00:00, 24.18it/s]\u001B[A\n",
      "Validation DataLoader 0:  92%|█████████▏| 12/13 [00:00<00:00, 24.00it/s]\u001B[A\n",
      "Epoch 7: 100%|██████████| 90/90 [00:33<00:00,  2.67it/s, v_num=4, train_loss_step=2.250, train_loss_epoch=1.990]\n",
      "Epoch 7: 100%|██████████| 90/90 [00:33<00:00,  2.67it/s, v_num=4, train_loss_step=2.250, train_loss_epoch=1.990]"
     ]
    },
    {
     "name": "stderr",
     "output_type": "stream",
     "text": [
      "Metric val_loss improved by 0.000 >= min_delta = 0.0. New best score: 1.978\n"
     ]
    },
    {
     "name": "stdout",
     "output_type": "stream",
     "text": [
      "Epoch 8: 100%|██████████| 90/90 [00:19<00:00,  4.71it/s, v_num=4, train_loss_step=2.040, train_loss_epoch=1.990]\n",
      "Validation: 0it [00:00, ?it/s]\u001B[A\n",
      "Validation:   0%|          | 0/13 [00:00<?, ?it/s]\u001B[A\n",
      "Validation DataLoader 0:   0%|          | 0/13 [00:00<?, ?it/s]\u001B[A\n",
      "Validation DataLoader 0:   8%|▊         | 1/13 [00:00<00:00, 18.16it/s]\u001B[A\n",
      "Validation DataLoader 0:  15%|█▌        | 2/13 [00:00<00:00, 19.02it/s]\u001B[A\n",
      "Validation DataLoader 0:  23%|██▎       | 3/13 [00:00<00:00, 19.34it/s]\u001B[A\n",
      "Validation DataLoader 0:  31%|███       | 4/13 [00:00<00:00, 20.71it/s]\u001B[A\n",
      "Validation DataLoader 0:  38%|███▊      | 5/13 [00:00<00:00, 21.82it/s]\u001B[A\n",
      "Validation DataLoader 0:  46%|████▌     | 6/13 [00:00<00:00, 21.81it/s]\u001B[A\n",
      "Validation DataLoader 0:  54%|█████▍    | 7/13 [00:00<00:00, 19.93it/s]\u001B[A\n",
      "Validation DataLoader 0:  62%|██████▏   | 8/13 [00:00<00:00, 20.66it/s]\u001B[A\n",
      "Validation DataLoader 0:  69%|██████▉   | 9/13 [00:00<00:00, 21.07it/s]\u001B[A\n",
      "Validation DataLoader 0:  77%|███████▋  | 10/13 [00:00<00:00, 21.54it/s]\u001B[A\n",
      "Validation DataLoader 0:  85%|████████▍ | 11/13 [00:00<00:00, 21.60it/s]\u001B[A\n",
      "Validation DataLoader 0:  92%|█████████▏| 12/13 [00:00<00:00, 21.97it/s]\u001B[A\n",
      "Epoch 8: 100%|██████████| 90/90 [00:33<00:00,  2.67it/s, v_num=4, train_loss_step=2.040, train_loss_epoch=1.990]\n",
      "Epoch 8: 100%|██████████| 90/90 [00:33<00:00,  2.67it/s, v_num=4, train_loss_step=2.040, train_loss_epoch=1.990]"
     ]
    },
    {
     "name": "stderr",
     "output_type": "stream",
     "text": [
      "Metric val_loss improved by 0.000 >= min_delta = 0.0. New best score: 1.978\n"
     ]
    },
    {
     "name": "stdout",
     "output_type": "stream",
     "text": [
      "Epoch 9: 100%|██████████| 90/90 [00:19<00:00,  4.70it/s, v_num=4, train_loss_step=1.830, train_loss_epoch=1.990]\n",
      "Validation: 0it [00:00, ?it/s]\u001B[A\n",
      "Validation:   0%|          | 0/13 [00:00<?, ?it/s]\u001B[A\n",
      "Validation DataLoader 0:   0%|          | 0/13 [00:00<?, ?it/s]\u001B[A\n",
      "Validation DataLoader 0:   8%|▊         | 1/13 [00:00<00:00, 14.93it/s]\u001B[A\n",
      "Validation DataLoader 0:  15%|█▌        | 2/13 [00:00<00:00, 15.75it/s]\u001B[A\n",
      "Validation DataLoader 0:  23%|██▎       | 3/13 [00:00<00:00, 16.39it/s]\u001B[A\n",
      "Validation DataLoader 0:  31%|███       | 4/13 [00:00<00:00, 15.56it/s]\u001B[A\n",
      "Validation DataLoader 0:  38%|███▊      | 5/13 [00:00<00:00, 16.44it/s]\u001B[A\n",
      "Validation DataLoader 0:  46%|████▌     | 6/13 [00:00<00:00, 17.64it/s]\u001B[A\n",
      "Validation DataLoader 0:  54%|█████▍    | 7/13 [00:00<00:00, 18.56it/s]\u001B[A\n",
      "Validation DataLoader 0:  62%|██████▏   | 8/13 [00:00<00:00, 18.56it/s]\u001B[A\n",
      "Validation DataLoader 0:  69%|██████▉   | 9/13 [00:00<00:00, 19.31it/s]\u001B[A\n",
      "Validation DataLoader 0:  77%|███████▋  | 10/13 [00:00<00:00, 19.80it/s]\u001B[A\n",
      "Validation DataLoader 0:  85%|████████▍ | 11/13 [00:00<00:00, 20.11it/s]\u001B[A\n",
      "Validation DataLoader 0:  92%|█████████▏| 12/13 [00:00<00:00, 20.62it/s]\u001B[A\n",
      "Epoch 9: 100%|██████████| 90/90 [00:33<00:00,  2.67it/s, v_num=4, train_loss_step=1.830, train_loss_epoch=1.990]\n",
      "Epoch 9: 100%|██████████| 90/90 [00:33<00:00,  2.67it/s, v_num=4, train_loss_step=1.830, train_loss_epoch=1.990]"
     ]
    },
    {
     "name": "stderr",
     "output_type": "stream",
     "text": [
      "Metric val_loss improved by 0.000 >= min_delta = 0.0. New best score: 1.978\n"
     ]
    },
    {
     "name": "stdout",
     "output_type": "stream",
     "text": [
      "Epoch 10: 100%|██████████| 90/90 [00:19<00:00,  4.73it/s, v_num=4, train_loss_step=1.990, train_loss_epoch=1.990]\n",
      "Validation: 0it [00:00, ?it/s]\u001B[A\n",
      "Validation:   0%|          | 0/13 [00:00<?, ?it/s]\u001B[A\n",
      "Validation DataLoader 0:   0%|          | 0/13 [00:00<?, ?it/s]\u001B[A\n",
      "Validation DataLoader 0:   8%|▊         | 1/13 [00:00<00:00, 14.71it/s]\u001B[A\n",
      "Validation DataLoader 0:  15%|█▌        | 2/13 [00:00<00:01, 10.67it/s]\u001B[A\n",
      "Validation DataLoader 0:  23%|██▎       | 3/13 [00:00<00:00, 13.61it/s]\u001B[A\n",
      "Validation DataLoader 0:  31%|███       | 4/13 [00:00<00:00, 16.36it/s]\u001B[A\n",
      "Validation DataLoader 0:  38%|███▊      | 5/13 [00:00<00:00, 18.62it/s]\u001B[A\n",
      "Validation DataLoader 0:  46%|████▌     | 6/13 [00:00<00:00, 20.38it/s]\u001B[A\n",
      "Validation DataLoader 0:  54%|█████▍    | 7/13 [00:00<00:00, 21.12it/s]\u001B[A\n",
      "Validation DataLoader 0:  62%|██████▏   | 8/13 [00:00<00:00, 21.31it/s]\u001B[A\n",
      "Validation DataLoader 0:  69%|██████▉   | 9/13 [00:00<00:00, 22.47it/s]\u001B[A\n",
      "Validation DataLoader 0:  77%|███████▋  | 10/13 [00:00<00:00, 23.50it/s]\u001B[A\n",
      "Validation DataLoader 0:  85%|████████▍ | 11/13 [00:00<00:00, 24.42it/s]\u001B[A\n",
      "Validation DataLoader 0:  92%|█████████▏| 12/13 [00:00<00:00, 25.24it/s]\u001B[A\n",
      "Epoch 10: 100%|██████████| 90/90 [00:33<00:00,  2.68it/s, v_num=4, train_loss_step=1.990, train_loss_epoch=1.990]\n",
      "Epoch 10: 100%|██████████| 90/90 [00:33<00:00,  2.68it/s, v_num=4, train_loss_step=1.990, train_loss_epoch=1.990]"
     ]
    },
    {
     "name": "stderr",
     "output_type": "stream",
     "text": [
      "Metric val_loss improved by 0.000 >= min_delta = 0.0. New best score: 1.978\n"
     ]
    },
    {
     "name": "stdout",
     "output_type": "stream",
     "text": [
      "Epoch 11: 100%|██████████| 90/90 [00:19<00:00,  4.70it/s, v_num=4, train_loss_step=1.780, train_loss_epoch=1.990]\n",
      "Validation: 0it [00:00, ?it/s]\u001B[A\n",
      "Validation:   0%|          | 0/13 [00:00<?, ?it/s]\u001B[A\n",
      "Validation DataLoader 0:   0%|          | 0/13 [00:00<?, ?it/s]\u001B[A\n",
      "Validation DataLoader 0:   8%|▊         | 1/13 [00:00<00:00, 18.18it/s]\u001B[A\n",
      "Validation DataLoader 0:  15%|█▌        | 2/13 [00:00<00:00, 19.23it/s]\u001B[A\n",
      "Validation DataLoader 0:  23%|██▎       | 3/13 [00:00<00:00, 19.48it/s]\u001B[A\n",
      "Validation DataLoader 0:  31%|███       | 4/13 [00:00<00:00, 18.60it/s]\u001B[A\n",
      "Validation DataLoader 0:  38%|███▊      | 5/13 [00:00<00:00, 18.94it/s]\u001B[A\n",
      "Validation DataLoader 0:  46%|████▌     | 6/13 [00:00<00:00, 19.93it/s]\u001B[A\n",
      "Validation DataLoader 0:  54%|█████▍    | 7/13 [00:00<00:00, 19.18it/s]\u001B[A\n",
      "Validation DataLoader 0:  62%|██████▏   | 8/13 [00:00<00:00, 20.00it/s]\u001B[A\n",
      "Validation DataLoader 0:  69%|██████▉   | 9/13 [00:00<00:00, 20.69it/s]\u001B[A\n",
      "Validation DataLoader 0:  77%|███████▋  | 10/13 [00:00<00:00, 20.70it/s]\u001B[A\n",
      "Validation DataLoader 0:  85%|████████▍ | 11/13 [00:00<00:00, 21.07it/s]\u001B[A\n",
      "Validation DataLoader 0:  92%|█████████▏| 12/13 [00:00<00:00, 21.54it/s]\u001B[A\n",
      "Epoch 11: 100%|██████████| 90/90 [00:33<00:00,  2.68it/s, v_num=4, train_loss_step=1.780, train_loss_epoch=1.990]\n",
      "Epoch 11: 100%|██████████| 90/90 [00:33<00:00,  2.68it/s, v_num=4, train_loss_step=1.780, train_loss_epoch=1.990]"
     ]
    },
    {
     "name": "stderr",
     "output_type": "stream",
     "text": [
      "Metric val_loss improved by 0.000 >= min_delta = 0.0. New best score: 1.978\n"
     ]
    },
    {
     "name": "stdout",
     "output_type": "stream",
     "text": [
      "Epoch 12: 100%|██████████| 90/90 [00:18<00:00,  4.76it/s, v_num=4, train_loss_step=1.930, train_loss_epoch=1.990]\n",
      "Validation: 0it [00:00, ?it/s]\u001B[A\n",
      "Validation:   0%|          | 0/13 [00:00<?, ?it/s]\u001B[A\n",
      "Validation DataLoader 0:   0%|          | 0/13 [00:00<?, ?it/s]\u001B[A\n",
      "Validation DataLoader 0:   8%|▊         | 1/13 [00:00<00:00, 14.15it/s]\u001B[A\n",
      "Validation DataLoader 0:  15%|█▌        | 2/13 [00:00<00:00, 13.49it/s]\u001B[A\n",
      "Validation DataLoader 0:  23%|██▎       | 3/13 [00:00<00:00, 13.15it/s]\u001B[A\n",
      "Validation DataLoader 0:  31%|███       | 4/13 [00:00<00:00, 13.42it/s]\u001B[A\n",
      "Validation DataLoader 0:  38%|███▊      | 5/13 [00:00<00:00, 14.45it/s]\u001B[A\n",
      "Validation DataLoader 0:  46%|████▌     | 6/13 [00:00<00:00, 16.13it/s]\u001B[A\n",
      "Validation DataLoader 0:  54%|█████▍    | 7/13 [00:00<00:00, 17.59it/s]\u001B[A\n",
      "Validation DataLoader 0:  62%|██████▏   | 8/13 [00:00<00:00, 18.87it/s]\u001B[A\n",
      "Validation DataLoader 0:  69%|██████▉   | 9/13 [00:00<00:00, 20.00it/s]\u001B[A\n",
      "Validation DataLoader 0:  77%|███████▋  | 10/13 [00:00<00:00, 21.05it/s]\u001B[A\n",
      "Validation DataLoader 0:  85%|████████▍ | 11/13 [00:00<00:00, 22.04it/s]\u001B[A\n",
      "Validation DataLoader 0:  92%|█████████▏| 12/13 [00:00<00:00, 22.86it/s]\u001B[A\n",
      "Epoch 12: 100%|██████████| 90/90 [00:33<00:00,  2.69it/s, v_num=4, train_loss_step=1.930, train_loss_epoch=1.990]\n",
      "Epoch 12: 100%|██████████| 90/90 [00:33<00:00,  2.69it/s, v_num=4, train_loss_step=1.930, train_loss_epoch=1.990]"
     ]
    },
    {
     "name": "stderr",
     "output_type": "stream",
     "text": [
      "Metric val_loss improved by 0.000 >= min_delta = 0.0. New best score: 1.978\n"
     ]
    },
    {
     "name": "stdout",
     "output_type": "stream",
     "text": [
      "Epoch 13: 100%|██████████| 90/90 [00:19<00:00,  4.71it/s, v_num=4, train_loss_step=2.090, train_loss_epoch=1.990]\n",
      "Validation: 0it [00:00, ?it/s]\u001B[A\n",
      "Validation:   0%|          | 0/13 [00:00<?, ?it/s]\u001B[A\n",
      "Validation DataLoader 0:   0%|          | 0/13 [00:00<?, ?it/s]\u001B[A\n",
      "Validation DataLoader 0:   8%|▊         | 1/13 [00:00<00:00, 14.18it/s]\u001B[A\n",
      "Validation DataLoader 0:  15%|█▌        | 2/13 [00:00<00:00, 12.45it/s]\u001B[A\n",
      "Validation DataLoader 0:  23%|██▎       | 3/13 [00:00<00:00, 15.10it/s]\u001B[A\n",
      "Validation DataLoader 0:  31%|███       | 4/13 [00:00<00:00, 16.76it/s]\u001B[A\n",
      "Validation DataLoader 0:  38%|███▊      | 5/13 [00:00<00:00, 17.94it/s]\u001B[A\n",
      "Validation DataLoader 0:  46%|████▌     | 6/13 [00:00<00:00, 18.31it/s]\u001B[A\n",
      "Validation DataLoader 0:  54%|█████▍    | 7/13 [00:00<00:00, 19.09it/s]\u001B[A\n",
      "Validation DataLoader 0:  62%|██████▏   | 8/13 [00:00<00:00, 19.96it/s]\u001B[A\n",
      "Validation DataLoader 0:  69%|██████▉   | 9/13 [00:00<00:00, 20.52it/s]\u001B[A\n",
      "Validation DataLoader 0:  77%|███████▋  | 10/13 [00:00<00:00, 20.93it/s]\u001B[A\n",
      "Validation DataLoader 0:  85%|████████▍ | 11/13 [00:00<00:00, 21.54it/s]\u001B[A\n",
      "Validation DataLoader 0:  92%|█████████▏| 12/13 [00:00<00:00, 21.99it/s]\u001B[A\n",
      "Epoch 13: 100%|██████████| 90/90 [00:34<00:00,  2.61it/s, v_num=4, train_loss_step=2.090, train_loss_epoch=1.990]\n",
      "Epoch 13: 100%|██████████| 90/90 [00:34<00:00,  2.61it/s, v_num=4, train_loss_step=2.090, train_loss_epoch=1.990]"
     ]
    },
    {
     "name": "stderr",
     "output_type": "stream",
     "text": [
      "Metric val_loss improved by 0.000 >= min_delta = 0.0. New best score: 1.978\n"
     ]
    },
    {
     "name": "stdout",
     "output_type": "stream",
     "text": [
      "Epoch 14: 100%|██████████| 90/90 [00:19<00:00,  4.62it/s, v_num=4, train_loss_step=1.990, train_loss_epoch=1.990]\n",
      "Validation: 0it [00:00, ?it/s]\u001B[A\n",
      "Validation:   0%|          | 0/13 [00:00<?, ?it/s]\u001B[A\n",
      "Validation DataLoader 0:   0%|          | 0/13 [00:00<?, ?it/s]\u001B[A\n",
      "Validation DataLoader 0:   8%|▊         | 1/13 [00:00<00:00, 22.73it/s]\u001B[A\n",
      "Validation DataLoader 0:  15%|█▌        | 2/13 [00:00<00:00, 13.79it/s]\u001B[A\n",
      "Validation DataLoader 0:  23%|██▎       | 3/13 [00:00<00:00, 14.42it/s]\u001B[A\n",
      "Validation DataLoader 0:  31%|███       | 4/13 [00:00<00:00, 16.46it/s]\u001B[A\n",
      "Validation DataLoader 0:  38%|███▊      | 5/13 [00:00<00:00, 17.99it/s]\u001B[A\n",
      "Validation DataLoader 0:  46%|████▌     | 6/13 [00:00<00:00, 18.99it/s]\u001B[A\n",
      "Validation DataLoader 0:  54%|█████▍    | 7/13 [00:00<00:00, 19.89it/s]\u001B[A\n",
      "Validation DataLoader 0:  62%|██████▏   | 8/13 [00:00<00:00, 20.00it/s]\u001B[A\n",
      "Validation DataLoader 0:  69%|██████▉   | 9/13 [00:00<00:00, 20.79it/s]\u001B[A\n",
      "Validation DataLoader 0:  77%|███████▋  | 10/13 [00:00<00:00, 21.19it/s]\u001B[A\n",
      "Validation DataLoader 0:  85%|████████▍ | 11/13 [00:00<00:00, 21.57it/s]\u001B[A\n",
      "Validation DataLoader 0:  92%|█████████▏| 12/13 [00:00<00:00, 21.58it/s]\u001B[A\n",
      "Epoch 14: 100%|██████████| 90/90 [00:34<00:00,  2.62it/s, v_num=4, train_loss_step=1.990, train_loss_epoch=1.990]\n",
      "Epoch 14: 100%|██████████| 90/90 [00:34<00:00,  2.62it/s, v_num=4, train_loss_step=1.990, train_loss_epoch=1.990]"
     ]
    },
    {
     "name": "stderr",
     "output_type": "stream",
     "text": [
      "Metric val_loss improved by 0.000 >= min_delta = 0.0. New best score: 1.978\n"
     ]
    },
    {
     "name": "stdout",
     "output_type": "stream",
     "text": [
      "Epoch 15: 100%|██████████| 90/90 [00:19<00:00,  4.68it/s, v_num=4, train_loss_step=2.040, train_loss_epoch=1.990]\n",
      "Validation: 0it [00:00, ?it/s]\u001B[A\n",
      "Validation:   0%|          | 0/13 [00:00<?, ?it/s]\u001B[A\n",
      "Validation DataLoader 0:   0%|          | 0/13 [00:00<?, ?it/s]\u001B[A\n",
      "Validation DataLoader 0:   8%|▊         | 1/13 [00:00<00:00, 12.20it/s]\u001B[A\n",
      "Validation DataLoader 0:  15%|█▌        | 2/13 [00:00<00:00, 15.38it/s]\u001B[A\n",
      "Validation DataLoader 0:  23%|██▎       | 3/13 [00:00<00:00, 16.13it/s]\u001B[A\n",
      "Validation DataLoader 0:  31%|███       | 4/13 [00:00<00:00, 18.43it/s]\u001B[A\n",
      "Validation DataLoader 0:  38%|███▊      | 5/13 [00:00<00:00, 20.41it/s]\u001B[A\n",
      "Validation DataLoader 0:  46%|████▌     | 6/13 [00:00<00:00, 22.14it/s]\u001B[A\n",
      "Validation DataLoader 0:  54%|█████▍    | 7/13 [00:00<00:00, 22.73it/s]\u001B[A\n",
      "Validation DataLoader 0:  62%|██████▏   | 8/13 [00:00<00:00, 23.95it/s]\u001B[A\n",
      "Validation DataLoader 0:  69%|██████▉   | 9/13 [00:00<00:00, 24.46it/s]\u001B[A\n",
      "Validation DataLoader 0:  77%|███████▋  | 10/13 [00:00<00:00, 25.45it/s]\u001B[A\n",
      "Validation DataLoader 0:  85%|████████▍ | 11/13 [00:00<00:00, 26.32it/s]\u001B[A\n",
      "Validation DataLoader 0:  92%|█████████▏| 12/13 [00:00<00:00, 26.14it/s]\u001B[A\n",
      "Epoch 15: 100%|██████████| 90/90 [00:33<00:00,  2.66it/s, v_num=4, train_loss_step=2.040, train_loss_epoch=1.990]\n",
      "Epoch 15: 100%|██████████| 90/90 [00:33<00:00,  2.65it/s, v_num=4, train_loss_step=2.040, train_loss_epoch=1.990]"
     ]
    },
    {
     "name": "stderr",
     "output_type": "stream",
     "text": [
      "Metric val_loss improved by 0.000 >= min_delta = 0.0. New best score: 1.978\n"
     ]
    },
    {
     "name": "stdout",
     "output_type": "stream",
     "text": [
      "Epoch 16: 100%|██████████| 90/90 [00:19<00:00,  4.72it/s, v_num=4, train_loss_step=2.040, train_loss_epoch=1.990]\n",
      "Validation: 0it [00:00, ?it/s]\u001B[A\n",
      "Validation:   0%|          | 0/13 [00:00<?, ?it/s]\u001B[A\n",
      "Validation DataLoader 0:   0%|          | 0/13 [00:00<?, ?it/s]\u001B[A\n",
      "Validation DataLoader 0:   8%|▊         | 1/13 [00:00<00:00, 18.68it/s]\u001B[A\n",
      "Validation DataLoader 0:  15%|█▌        | 2/13 [00:00<00:00, 13.38it/s]\u001B[A\n",
      "Validation DataLoader 0:  23%|██▎       | 3/13 [00:00<00:00, 13.03it/s]\u001B[A\n",
      "Validation DataLoader 0:  31%|███       | 4/13 [00:00<00:00, 15.69it/s]\u001B[A\n",
      "Validation DataLoader 0:  38%|███▊      | 5/13 [00:00<00:00, 17.86it/s]\u001B[A\n",
      "Validation DataLoader 0:  46%|████▌     | 6/13 [00:00<00:00, 19.61it/s]\u001B[A\n",
      "Validation DataLoader 0:  54%|█████▍    | 7/13 [00:00<00:00, 21.15it/s]\u001B[A\n",
      "Validation DataLoader 0:  62%|██████▏   | 8/13 [00:00<00:00, 22.48it/s]\u001B[A\n",
      "Validation DataLoader 0:  69%|██████▉   | 9/13 [00:00<00:00, 23.50it/s]\u001B[A\n",
      "Validation DataLoader 0:  77%|███████▋  | 10/13 [00:00<00:00, 24.51it/s]\u001B[A\n",
      "Validation DataLoader 0:  85%|████████▍ | 11/13 [00:00<00:00, 25.41it/s]\u001B[A\n",
      "Validation DataLoader 0:  92%|█████████▏| 12/13 [00:00<00:00, 22.86it/s]\u001B[A\n",
      "Epoch 16: 100%|██████████| 90/90 [00:33<00:00,  2.68it/s, v_num=4, train_loss_step=2.040, train_loss_epoch=1.990]\n",
      "Epoch 16: 100%|██████████| 90/90 [00:33<00:00,  2.68it/s, v_num=4, train_loss_step=2.040, train_loss_epoch=1.990]"
     ]
    },
    {
     "name": "stderr",
     "output_type": "stream",
     "text": [
      "Metric val_loss improved by 0.000 >= min_delta = 0.0. New best score: 1.978\n"
     ]
    },
    {
     "name": "stdout",
     "output_type": "stream",
     "text": [
      "Epoch 17: 100%|██████████| 90/90 [00:19<00:00,  4.67it/s, v_num=4, train_loss_step=1.880, train_loss_epoch=1.990]\n",
      "Validation: 0it [00:00, ?it/s]\u001B[A\n",
      "Validation:   0%|          | 0/13 [00:00<?, ?it/s]\u001B[A\n",
      "Validation DataLoader 0:   0%|          | 0/13 [00:00<?, ?it/s]\u001B[A\n",
      "Validation DataLoader 0:   8%|▊         | 1/13 [00:00<00:00, 17.39it/s]\u001B[A\n",
      "Validation DataLoader 0:  15%|█▌        | 2/13 [00:00<00:00, 18.35it/s]\u001B[A\n",
      "Validation DataLoader 0:  23%|██▎       | 3/13 [00:00<00:00, 18.07it/s]\u001B[A\n",
      "Validation DataLoader 0:  31%|███       | 4/13 [00:00<00:00, 15.59it/s]\u001B[A\n",
      "Validation DataLoader 0:  38%|███▊      | 5/13 [00:00<00:00, 15.91it/s]\u001B[A\n",
      "Validation DataLoader 0:  46%|████▌     | 6/13 [00:00<00:00, 17.58it/s]\u001B[A\n",
      "Validation DataLoader 0:  54%|█████▍    | 7/13 [00:00<00:00, 19.06it/s]\u001B[A\n",
      "Validation DataLoader 0:  62%|██████▏   | 8/13 [00:00<00:00, 20.45it/s]\u001B[A\n",
      "Validation DataLoader 0:  69%|██████▉   | 9/13 [00:00<00:00, 21.57it/s]\u001B[A\n",
      "Validation DataLoader 0:  77%|███████▋  | 10/13 [00:00<00:00, 22.51it/s]\u001B[A\n",
      "Validation DataLoader 0:  85%|████████▍ | 11/13 [00:00<00:00, 23.34it/s]\u001B[A\n",
      "Validation DataLoader 0:  92%|█████████▏| 12/13 [00:00<00:00, 24.18it/s]\u001B[A\n",
      "Epoch 17: 100%|██████████| 90/90 [00:33<00:00,  2.65it/s, v_num=4, train_loss_step=1.880, train_loss_epoch=1.990]\n",
      "Epoch 18: 100%|██████████| 90/90 [00:19<00:00,  4.67it/s, v_num=4, train_loss_step=1.830, train_loss_epoch=1.990]\n",
      "Validation: 0it [00:00, ?it/s]\u001B[A\n",
      "Validation:   0%|          | 0/13 [00:00<?, ?it/s]\u001B[A\n",
      "Validation DataLoader 0:   0%|          | 0/13 [00:00<?, ?it/s]\u001B[A\n",
      "Validation DataLoader 0:   8%|▊         | 1/13 [00:00<00:00, 27.03it/s]\u001B[A\n",
      "Validation DataLoader 0:  15%|█▌        | 2/13 [00:00<00:00, 20.62it/s]\u001B[A\n",
      "Validation DataLoader 0:  23%|██▎       | 3/13 [00:00<00:00, 19.35it/s]\u001B[A\n",
      "Validation DataLoader 0:  31%|███       | 4/13 [00:00<00:00, 19.90it/s]\u001B[A\n",
      "Validation DataLoader 0:  38%|███▊      | 5/13 [00:00<00:00, 20.00it/s]\u001B[A\n",
      "Validation DataLoader 0:  46%|████▌     | 6/13 [00:00<00:00, 19.87it/s]\u001B[A\n",
      "Validation DataLoader 0:  54%|█████▍    | 7/13 [00:00<00:00, 19.50it/s]\u001B[A\n",
      "Validation DataLoader 0:  62%|██████▏   | 8/13 [00:00<00:00, 20.25it/s]\u001B[A\n",
      "Validation DataLoader 0:  69%|██████▉   | 9/13 [00:00<00:00, 20.93it/s]\u001B[A\n",
      "Validation DataLoader 0:  77%|███████▋  | 10/13 [00:00<00:00, 21.41it/s]\u001B[A\n",
      "Validation DataLoader 0:  85%|████████▍ | 11/13 [00:00<00:00, 22.00it/s]\u001B[A\n",
      "Validation DataLoader 0:  92%|█████████▏| 12/13 [00:00<00:00, 22.43it/s]\u001B[A\n",
      "Epoch 18: 100%|██████████| 90/90 [00:33<00:00,  2.65it/s, v_num=4, train_loss_step=1.830, train_loss_epoch=1.990]\n",
      "Epoch 19: 100%|██████████| 90/90 [00:19<00:00,  4.68it/s, v_num=4, train_loss_step=1.930, train_loss_epoch=1.990]\n",
      "Validation: 0it [00:00, ?it/s]\u001B[A\n",
      "Validation:   0%|          | 0/13 [00:00<?, ?it/s]\u001B[A\n",
      "Validation DataLoader 0:   0%|          | 0/13 [00:00<?, ?it/s]\u001B[A\n",
      "Validation DataLoader 0:   8%|▊         | 1/13 [00:00<00:00, 22.73it/s]\u001B[A\n",
      "Validation DataLoader 0:  15%|█▌        | 2/13 [00:00<00:00, 20.20it/s]\u001B[A\n",
      "Validation DataLoader 0:  23%|██▎       | 3/13 [00:00<00:00, 19.11it/s]\u001B[A\n",
      "Validation DataLoader 0:  31%|███       | 4/13 [00:00<00:00, 18.87it/s]\u001B[A\n",
      "Validation DataLoader 0:  38%|███▊      | 5/13 [00:00<00:00, 20.33it/s]\u001B[A\n",
      "Validation DataLoader 0:  46%|████▌     | 6/13 [00:00<00:00, 21.28it/s]\u001B[A\n",
      "Validation DataLoader 0:  54%|█████▍    | 7/13 [00:00<00:00, 21.94it/s]\u001B[A\n",
      "Validation DataLoader 0:  62%|██████▏   | 8/13 [00:00<00:00, 21.68it/s]\u001B[A\n",
      "Validation DataLoader 0:  69%|██████▉   | 9/13 [00:00<00:00, 22.33it/s]\u001B[A\n",
      "Validation DataLoader 0:  77%|███████▋  | 10/13 [00:00<00:00, 22.83it/s]\u001B[A\n",
      "Validation DataLoader 0:  85%|████████▍ | 11/13 [00:00<00:00, 23.31it/s]\u001B[A\n",
      "Validation DataLoader 0:  92%|█████████▏| 12/13 [00:00<00:00, 23.72it/s]\u001B[A\n",
      "Epoch 19: 100%|██████████| 90/90 [00:33<00:00,  2.66it/s, v_num=4, train_loss_step=1.930, train_loss_epoch=1.990]\n",
      "Epoch 19: 100%|██████████| 90/90 [00:33<00:00,  2.66it/s, v_num=4, train_loss_step=1.930, train_loss_epoch=1.990]"
     ]
    },
    {
     "name": "stderr",
     "output_type": "stream",
     "text": [
      "Metric val_loss improved by 0.000 >= min_delta = 0.0. New best score: 1.978\n"
     ]
    },
    {
     "name": "stdout",
     "output_type": "stream",
     "text": [
      "Epoch 20: 100%|██████████| 90/90 [00:18<00:00,  4.74it/s, v_num=4, train_loss_step=1.990, train_loss_epoch=1.990]\n",
      "Validation: 0it [00:00, ?it/s]\u001B[A\n",
      "Validation:   0%|          | 0/13 [00:00<?, ?it/s]\u001B[A\n",
      "Validation DataLoader 0:   0%|          | 0/13 [00:00<?, ?it/s]\u001B[A\n",
      "Validation DataLoader 0:   8%|▊         | 1/13 [00:00<00:00, 13.12it/s]\u001B[A\n",
      "Validation DataLoader 0:  15%|█▌        | 2/13 [00:00<00:00, 15.60it/s]\u001B[A\n",
      "Validation DataLoader 0:  23%|██▎       | 3/13 [00:00<00:00, 14.84it/s]\u001B[A\n",
      "Validation DataLoader 0:  31%|███       | 4/13 [00:00<00:00, 16.94it/s]\u001B[A\n",
      "Validation DataLoader 0:  38%|███▊      | 5/13 [00:00<00:00, 18.24it/s]\u001B[A\n",
      "Validation DataLoader 0:  46%|████▌     | 6/13 [00:00<00:00, 18.63it/s]\u001B[A\n",
      "Validation DataLoader 0:  54%|█████▍    | 7/13 [00:00<00:00, 19.07it/s]\u001B[A\n",
      "Validation DataLoader 0:  62%|██████▏   | 8/13 [00:00<00:00, 19.80it/s]\u001B[A\n",
      "Validation DataLoader 0:  69%|██████▉   | 9/13 [00:00<00:00, 20.45it/s]\u001B[A\n",
      "Validation DataLoader 0:  77%|███████▋  | 10/13 [00:00<00:00, 20.92it/s]\u001B[A\n",
      "Validation DataLoader 0:  85%|████████▍ | 11/13 [00:00<00:00, 20.87it/s]\u001B[A\n",
      "Validation DataLoader 0:  92%|█████████▏| 12/13 [00:00<00:00, 21.31it/s]\u001B[A\n",
      "Epoch 20: 100%|██████████| 90/90 [00:33<00:00,  2.69it/s, v_num=4, train_loss_step=1.990, train_loss_epoch=1.990]\n",
      "Epoch 20: 100%|██████████| 90/90 [00:33<00:00,  2.69it/s, v_num=4, train_loss_step=1.990, train_loss_epoch=1.990]"
     ]
    },
    {
     "name": "stderr",
     "output_type": "stream",
     "text": [
      "Metric val_loss improved by 0.000 >= min_delta = 0.0. New best score: 1.978\n"
     ]
    },
    {
     "name": "stdout",
     "output_type": "stream",
     "text": [
      "Epoch 21: 100%|██████████| 90/90 [00:18<00:00,  4.74it/s, v_num=4, train_loss_step=1.930, train_loss_epoch=1.990]\n",
      "Validation: 0it [00:00, ?it/s]\u001B[A\n",
      "Validation:   0%|          | 0/13 [00:00<?, ?it/s]\u001B[A\n",
      "Validation DataLoader 0:   0%|          | 0/13 [00:00<?, ?it/s]\u001B[A\n",
      "Validation DataLoader 0:   8%|▊         | 1/13 [00:00<00:00, 15.63it/s]\u001B[A\n",
      "Validation DataLoader 0:  15%|█▌        | 2/13 [00:00<00:00, 12.55it/s]\u001B[A\n",
      "Validation DataLoader 0:  23%|██▎       | 3/13 [00:00<00:00, 11.95it/s]\u001B[A\n",
      "Validation DataLoader 0:  31%|███       | 4/13 [00:00<00:00, 12.47it/s]\u001B[A\n",
      "Validation DataLoader 0:  38%|███▊      | 5/13 [00:00<00:00, 14.43it/s]\u001B[A\n",
      "Validation DataLoader 0:  46%|████▌     | 6/13 [00:00<00:00, 16.08it/s]\u001B[A\n",
      "Validation DataLoader 0:  54%|█████▍    | 7/13 [00:00<00:00, 17.59it/s]\u001B[A\n",
      "Validation DataLoader 0:  62%|██████▏   | 8/13 [00:00<00:00, 18.87it/s]\u001B[A\n",
      "Validation DataLoader 0:  69%|██████▉   | 9/13 [00:00<00:00, 20.04it/s]\u001B[A\n",
      "Validation DataLoader 0:  77%|███████▋  | 10/13 [00:00<00:00, 20.96it/s]\u001B[A\n",
      "Validation DataLoader 0:  85%|████████▍ | 11/13 [00:00<00:00, 21.95it/s]\u001B[A\n",
      "Validation DataLoader 0:  92%|█████████▏| 12/13 [00:00<00:00, 22.81it/s]\u001B[A\n",
      "Epoch 21: 100%|██████████| 90/90 [00:33<00:00,  2.68it/s, v_num=4, train_loss_step=1.930, train_loss_epoch=1.990]\n",
      "Epoch 22: 100%|██████████| 90/90 [00:19<00:00,  4.69it/s, v_num=4, train_loss_step=1.930, train_loss_epoch=1.990]\n",
      "Validation: 0it [00:00, ?it/s]\u001B[A\n",
      "Validation:   0%|          | 0/13 [00:00<?, ?it/s]\u001B[A\n",
      "Validation DataLoader 0:   0%|          | 0/13 [00:00<?, ?it/s]\u001B[A\n",
      "Validation DataLoader 0:   8%|▊         | 1/13 [00:00<00:00, 13.10it/s]\u001B[A\n",
      "Validation DataLoader 0:  15%|█▌        | 2/13 [00:00<00:00, 14.74it/s]\u001B[A\n",
      "Validation DataLoader 0:  23%|██▎       | 3/13 [00:00<00:00, 15.57it/s]\u001B[A\n",
      "Validation DataLoader 0:  31%|███       | 4/13 [00:00<00:00, 16.76it/s]\u001B[A\n",
      "Validation DataLoader 0:  38%|███▊      | 5/13 [00:00<00:00, 17.56it/s]\u001B[A\n",
      "Validation DataLoader 0:  46%|████▌     | 6/13 [00:00<00:00, 17.61it/s]\u001B[A\n",
      "Validation DataLoader 0:  54%|█████▍    | 7/13 [00:00<00:00, 17.69it/s]\u001B[A\n",
      "Validation DataLoader 0:  62%|██████▏   | 8/13 [00:00<00:00, 18.62it/s]\u001B[A\n",
      "Validation DataLoader 0:  69%|██████▉   | 9/13 [00:00<00:00, 19.33it/s]\u001B[A\n",
      "Validation DataLoader 0:  77%|███████▋  | 10/13 [00:00<00:00, 20.05it/s]\u001B[A\n",
      "Validation DataLoader 0:  85%|████████▍ | 11/13 [00:00<00:00, 20.69it/s]\u001B[A\n",
      "Validation DataLoader 0:  92%|█████████▏| 12/13 [00:00<00:00, 21.25it/s]\u001B[A\n",
      "Epoch 22: 100%|██████████| 90/90 [00:33<00:00,  2.67it/s, v_num=4, train_loss_step=1.930, train_loss_epoch=1.990]\n",
      "Epoch 23: 100%|██████████| 90/90 [00:19<00:00,  4.70it/s, v_num=4, train_loss_step=1.990, train_loss_epoch=1.990]\n",
      "Validation: 0it [00:00, ?it/s]\u001B[A\n",
      "Validation:   0%|          | 0/13 [00:00<?, ?it/s]\u001B[A\n",
      "Validation DataLoader 0:   0%|          | 0/13 [00:00<?, ?it/s]\u001B[A\n",
      "Validation DataLoader 0:   8%|▊         | 1/13 [00:00<00:00, 23.26it/s]\u001B[A\n",
      "Validation DataLoader 0:  15%|█▌        | 2/13 [00:00<00:00, 20.83it/s]\u001B[A\n",
      "Validation DataLoader 0:  23%|██▎       | 3/13 [00:00<00:00, 19.35it/s]\u001B[A\n",
      "Validation DataLoader 0:  31%|███       | 4/13 [00:00<00:00, 18.60it/s]\u001B[A\n",
      "Validation DataLoader 0:  38%|███▊      | 5/13 [00:00<00:00, 19.08it/s]\u001B[A\n",
      "Validation DataLoader 0:  46%|████▌     | 6/13 [00:00<00:00, 19.54it/s]\u001B[A\n",
      "Validation DataLoader 0:  54%|█████▍    | 7/13 [00:00<00:00, 18.23it/s]\u001B[A\n",
      "Validation DataLoader 0:  62%|██████▏   | 8/13 [00:00<00:00, 18.26it/s]\u001B[A\n",
      "Validation DataLoader 0:  69%|██████▉   | 9/13 [00:00<00:00, 18.99it/s]\u001B[A\n",
      "Validation DataLoader 0:  77%|███████▋  | 10/13 [00:00<00:00, 19.65it/s]\u001B[A\n",
      "Validation DataLoader 0:  85%|████████▍ | 11/13 [00:00<00:00, 20.26it/s]\u001B[A\n",
      "Validation DataLoader 0:  92%|█████████▏| 12/13 [00:00<00:00, 20.76it/s]\u001B[A\n",
      "Epoch 23: 100%|██████████| 90/90 [00:33<00:00,  2.67it/s, v_num=4, train_loss_step=1.990, train_loss_epoch=1.990]\n",
      "Epoch 23: 100%|██████████| 90/90 [00:33<00:00,  2.67it/s, v_num=4, train_loss_step=1.990, train_loss_epoch=1.990]"
     ]
    },
    {
     "name": "stderr",
     "output_type": "stream",
     "text": [
      "Monitored metric val_loss did not improve in the last 3 records. Best score: 1.978. Signaling Trainer to stop.\n"
     ]
    },
    {
     "name": "stdout",
     "output_type": "stream",
     "text": [
      "Epoch 23: 100%|██████████| 90/90 [00:33<00:00,  2.67it/s, v_num=4, train_loss_step=1.990, train_loss_epoch=1.990]\n"
     ]
    },
    {
     "name": "stderr",
     "output_type": "stream",
     "text": [
      "Restoring states from the checkpoint path at cnn_lstm\\lightning_logs\\version_4\\checkpoints\\epoch=23-step=2160.ckpt\n",
      "LOCAL_RANK: 0 - CUDA_VISIBLE_DEVICES: [0]\n",
      "Loaded model weights from the checkpoint at cnn_lstm\\lightning_logs\\version_4\\checkpoints\\epoch=23-step=2160.ckpt\n"
     ]
    },
    {
     "name": "stdout",
     "output_type": "stream",
     "text": [
      "Testing DataLoader 0: 100%|██████████| 26/26 [00:01<00:00, 15.82it/s]\n"
     ]
    },
    {
     "data": {
      "text/plain": "┏━━━━━━━━━━━━━━━━━━━━━━━━━━━┳━━━━━━━━━━━━━━━━━━━━━━━━━━━┓\n┃\u001B[1m \u001B[0m\u001B[1m       Test metric       \u001B[0m\u001B[1m \u001B[0m┃\u001B[1m \u001B[0m\u001B[1m      DataLoader 0       \u001B[0m\u001B[1m \u001B[0m┃\n┡━━━━━━━━━━━━━━━━━━━━━━━━━━━╇━━━━━━━━━━━━━━━━━━━━━━━━━━━┩\n│\u001B[36m \u001B[0m\u001B[36m        test_acc         \u001B[0m\u001B[36m \u001B[0m│\u001B[35m \u001B[0m\u001B[35m   0.6284551620483398    \u001B[0m\u001B[35m \u001B[0m│\n│\u001B[36m \u001B[0m\u001B[36m        test_loss        \u001B[0m\u001B[36m \u001B[0m│\u001B[35m \u001B[0m\u001B[35m   1.9902883768081665    \u001B[0m\u001B[35m \u001B[0m│\n└───────────────────────────┴───────────────────────────┘\n",
      "text/html": "<pre style=\"white-space:pre;overflow-x:auto;line-height:normal;font-family:Menlo,'DejaVu Sans Mono',consolas,'Courier New',monospace\">┏━━━━━━━━━━━━━━━━━━━━━━━━━━━┳━━━━━━━━━━━━━━━━━━━━━━━━━━━┓\n┃<span style=\"font-weight: bold\">        Test metric        </span>┃<span style=\"font-weight: bold\">       DataLoader 0        </span>┃\n┡━━━━━━━━━━━━━━━━━━━━━━━━━━━╇━━━━━━━━━━━━━━━━━━━━━━━━━━━┩\n│<span style=\"color: #008080; text-decoration-color: #008080\">         test_acc          </span>│<span style=\"color: #800080; text-decoration-color: #800080\">    0.6284551620483398     </span>│\n│<span style=\"color: #008080; text-decoration-color: #008080\">         test_loss         </span>│<span style=\"color: #800080; text-decoration-color: #800080\">    1.9902883768081665     </span>│\n└───────────────────────────┴───────────────────────────┘\n</pre>\n"
     },
     "metadata": {},
     "output_type": "display_data"
    },
    {
     "name": "stderr",
     "output_type": "stream",
     "text": [
      "Restoring states from the checkpoint path at cnn_lstm\\lightning_logs\\version_4\\checkpoints\\epoch=23-step=2160.ckpt\n",
      "LOCAL_RANK: 0 - CUDA_VISIBLE_DEVICES: [0]\n",
      "Loaded model weights from the checkpoint at cnn_lstm\\lightning_logs\\version_4\\checkpoints\\epoch=23-step=2160.ckpt\n"
     ]
    },
    {
     "name": "stdout",
     "output_type": "stream",
     "text": [
      "Predicting DataLoader 0: 100%|██████████| 26/26 [00:01<00:00, 18.27it/s]\n"
     ]
    }
   ],
   "source": [
    "results = []\n",
    "predictions = []\n",
    "for i in range(5):\n",
    "    lightning.pytorch.seed_everything(i)\n",
    "    model = MyLSTM(513, 32,  128, 32, 8, 12)\n",
    "    early_stopping = lightning.pytorch.callbacks.EarlyStopping('val_loss', verbose=True)\n",
    "    logger = lightning.pytorch.loggers.tensorboard.TensorBoardLogger(save_dir=\"cnn_lstm\", version=i)\n",
    "    trainer = lightning.Trainer(max_epochs=200, callbacks=[early_stopping], logger=logger)\n",
    "    trainer.fit(model, train_dataloaders=train_dataset_loader, val_dataloaders=valid_dataset_loader)\n",
    "    res = trainer.test(dataloaders=test_dataset_loader, ckpt_path='best')\n",
    "    test_pred_tensor = torch.cat(trainer.predict(dataloaders=test_dataset_loader, ckpt_path='best'))\n",
    "    results.append(res[0])\n",
    "    predictions.append(test_pred_tensor)\n",
    "torch.save(torch.stack(predictions), \"spectogram_cnn_lstm_predictions.ts\")\n",
    "pd.DataFrame(results).to_csv(\"spectogram_cnn_lstm_metrics.csv\")"
   ],
   "metadata": {
    "collapsed": false,
    "ExecuteTime": {
     "start_time": "2023-04-21T23:25:42.557530Z",
     "end_time": "2023-04-22T00:44:35.695274Z"
    }
   }
  }
 ],
 "metadata": {
  "kernelspec": {
   "display_name": "Python 3",
   "language": "python",
   "name": "python3"
  },
  "language_info": {
   "codemirror_mode": {
    "name": "ipython",
    "version": 2
   },
   "file_extension": ".py",
   "mimetype": "text/x-python",
   "name": "python",
   "nbconvert_exporter": "python",
   "pygments_lexer": "ipython2",
   "version": "2.7.6"
  }
 },
 "nbformat": 4,
 "nbformat_minor": 0
}
