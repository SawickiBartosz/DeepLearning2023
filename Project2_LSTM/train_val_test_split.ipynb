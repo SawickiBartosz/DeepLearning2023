{
 "cells": [
  {
   "cell_type": "code",
   "execution_count": 11,
   "metadata": {
    "collapsed": true
   },
   "outputs": [],
   "source": [
    "import shutil\n",
    "import os\n",
    "import pandas as pd\n",
    "from sklearn.model_selection import train_test_split\n",
    "from tqdm import tqdm"
   ]
  },
  {
   "cell_type": "code",
   "execution_count": 2,
   "outputs": [],
   "source": [
    "DATA_PATH = \"tensorflow-speech-recognition-challenge/train/audio\"\n",
    "labels_names = [file for file in os.listdir(DATA_PATH)]"
   ],
   "metadata": {
    "collapsed": false
   }
  },
  {
   "cell_type": "code",
   "execution_count": 3,
   "outputs": [
    {
     "data": {
      "text/plain": "{'bed': 'unknown',\n 'bird': 'unknown',\n 'cat': 'unknown',\n 'dog': 'unknown',\n 'down': 'down',\n 'eight': 'unknown',\n 'five': 'unknown',\n 'four': 'unknown',\n 'go': 'go',\n 'happy': 'unknown',\n 'house': 'unknown',\n 'left': 'left',\n 'marvin': 'unknown',\n 'nine': 'unknown',\n 'no': 'no',\n 'off': 'off',\n 'on': 'on',\n 'one': 'unknown',\n 'right': 'right',\n 'seven': 'unknown',\n 'sheila': 'unknown',\n 'silence': 'silence',\n 'six': 'unknown',\n 'stop': 'stop',\n 'three': 'unknown',\n 'tree': 'unknown',\n 'two': 'unknown',\n 'up': 'up',\n 'wow': 'unknown',\n 'yes': 'yes',\n 'zero': 'unknown'}"
     },
     "execution_count": 3,
     "metadata": {},
     "output_type": "execute_result"
    }
   ],
   "source": [
    "map_dict = {}\n",
    "commands = [\"yes\", \"no\", \"up\", \"down\", \"left\", \"right\", \"on\", \"off\", \"stop\", \"go\", \"silence\"]\n",
    "\n",
    "for i, key in enumerate(labels_names):\n",
    "    if key in commands:\n",
    "        map_dict[key] = key\n",
    "    else:\n",
    "        map_dict[key] = 'unknown'\n",
    "map_dict"
   ],
   "metadata": {
    "collapsed": false
   }
  },
  {
   "cell_type": "code",
   "execution_count": 4,
   "outputs": [],
   "source": [
    "frame = []\n",
    "for root, dirs, files in os.walk(DATA_PATH):\n",
    "    if root != \"tensorflow-speech-recognition-challenge/train/audio\":\n",
    "        current_dir = root.split(\"\\\\\")[-1]\n",
    "        frame += [{\n",
    "            'class': [map_dict[current_dir]] * len(files),\n",
    "            'original_label': [current_dir] * len(files),\n",
    "            'files': files\n",
    "        }]\n",
    "frame = pd.concat([pd.DataFrame(f) for f in frame], axis=0)"
   ],
   "metadata": {
    "collapsed": false
   }
  },
  {
   "cell_type": "code",
   "execution_count": 5,
   "outputs": [
    {
     "data": {
      "text/plain": "        class original_label                  files\n0     unknown            bed  00176480_nohash_0.wav\n1     unknown            bed  004ae714_nohash_0.wav\n2     unknown            bed  004ae714_nohash_1.wav\n3     unknown            bed  00f0204f_nohash_0.wav\n4     unknown            bed  00f0204f_nohash_1.wav\n...       ...            ...                    ...\n2371  unknown           zero  ffd2ba2f_nohash_1.wav\n2372  unknown           zero  ffd2ba2f_nohash_2.wav\n2373  unknown           zero  ffd2ba2f_nohash_3.wav\n2374  unknown           zero  ffd2ba2f_nohash_4.wav\n2375  unknown           zero  fffcabd1_nohash_0.wav\n\n[65123 rows x 3 columns]",
      "text/html": "<div>\n<style scoped>\n    .dataframe tbody tr th:only-of-type {\n        vertical-align: middle;\n    }\n\n    .dataframe tbody tr th {\n        vertical-align: top;\n    }\n\n    .dataframe thead th {\n        text-align: right;\n    }\n</style>\n<table border=\"1\" class=\"dataframe\">\n  <thead>\n    <tr style=\"text-align: right;\">\n      <th></th>\n      <th>class</th>\n      <th>original_label</th>\n      <th>files</th>\n    </tr>\n  </thead>\n  <tbody>\n    <tr>\n      <th>0</th>\n      <td>unknown</td>\n      <td>bed</td>\n      <td>00176480_nohash_0.wav</td>\n    </tr>\n    <tr>\n      <th>1</th>\n      <td>unknown</td>\n      <td>bed</td>\n      <td>004ae714_nohash_0.wav</td>\n    </tr>\n    <tr>\n      <th>2</th>\n      <td>unknown</td>\n      <td>bed</td>\n      <td>004ae714_nohash_1.wav</td>\n    </tr>\n    <tr>\n      <th>3</th>\n      <td>unknown</td>\n      <td>bed</td>\n      <td>00f0204f_nohash_0.wav</td>\n    </tr>\n    <tr>\n      <th>4</th>\n      <td>unknown</td>\n      <td>bed</td>\n      <td>00f0204f_nohash_1.wav</td>\n    </tr>\n    <tr>\n      <th>...</th>\n      <td>...</td>\n      <td>...</td>\n      <td>...</td>\n    </tr>\n    <tr>\n      <th>2371</th>\n      <td>unknown</td>\n      <td>zero</td>\n      <td>ffd2ba2f_nohash_1.wav</td>\n    </tr>\n    <tr>\n      <th>2372</th>\n      <td>unknown</td>\n      <td>zero</td>\n      <td>ffd2ba2f_nohash_2.wav</td>\n    </tr>\n    <tr>\n      <th>2373</th>\n      <td>unknown</td>\n      <td>zero</td>\n      <td>ffd2ba2f_nohash_3.wav</td>\n    </tr>\n    <tr>\n      <th>2374</th>\n      <td>unknown</td>\n      <td>zero</td>\n      <td>ffd2ba2f_nohash_4.wav</td>\n    </tr>\n    <tr>\n      <th>2375</th>\n      <td>unknown</td>\n      <td>zero</td>\n      <td>fffcabd1_nohash_0.wav</td>\n    </tr>\n  </tbody>\n</table>\n<p>65123 rows × 3 columns</p>\n</div>"
     },
     "execution_count": 5,
     "metadata": {},
     "output_type": "execute_result"
    }
   ],
   "source": [
    "frame"
   ],
   "metadata": {
    "collapsed": false
   }
  },
  {
   "cell_type": "code",
   "execution_count": 8,
   "outputs": [
    {
     "data": {
      "text/plain": "((45586, 3), (6513, 3), (13024, 3))"
     },
     "execution_count": 8,
     "metadata": {},
     "output_type": "execute_result"
    }
   ],
   "source": [
    "X_train, X_test = train_test_split(frame, stratify=frame['original_label'], test_size=0.3, random_state=123)\n",
    "X_valid, X_test = train_test_split(X_test, stratify=X_test['original_label'], test_size=0.6666, random_state=42)\n",
    "X_train.shape, X_valid.shape, X_test.shape"
   ],
   "metadata": {
    "collapsed": false
   }
  },
  {
   "cell_type": "code",
   "execution_count": 12,
   "outputs": [],
   "source": [
    "def copy_files(frame, path_to_save):\n",
    "    for label, orig, fname in tqdm(zip(frame['class'], frame['original_label'], frame['files'])):\n",
    "        os.makedirs(os.path.join(path_to_save, label), exist_ok=True)\n",
    "        src = os.path.join(DATA_PATH, orig, fname)\n",
    "        dst = os.path.join(path_to_save, label, orig+fname)\n",
    "        shutil.copy(src, dst)\n",
    "\n",
    "copy_files(X_test, os.path.join(\"data\", 'test'))"
   ],
   "metadata": {
    "collapsed": false
   }
  },
  {
   "cell_type": "code",
   "execution_count": null,
   "outputs": [],
   "source": [
    "copy_files(X_train, os.path.join(\"data\", 'train'))\n",
    "copy_files(X_valid, os.path.join(\"data\", 'val'))"
   ],
   "metadata": {
    "collapsed": false
   }
  }
 ],
 "metadata": {
  "kernelspec": {
   "display_name": "Python 3",
   "language": "python",
   "name": "python3"
  },
  "language_info": {
   "codemirror_mode": {
    "name": "ipython",
    "version": 2
   },
   "file_extension": ".py",
   "mimetype": "text/x-python",
   "name": "python",
   "nbconvert_exporter": "python",
   "pygments_lexer": "ipython2",
   "version": "2.7.6"
  }
 },
 "nbformat": 4,
 "nbformat_minor": 0
}
