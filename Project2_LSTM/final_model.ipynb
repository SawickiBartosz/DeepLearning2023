{
 "cells": [
  {
   "cell_type": "code",
   "execution_count": 19,
   "metadata": {
    "collapsed": true
   },
   "outputs": [],
   "source": [
    "import gc\n",
    "import os\n",
    "import pickle\n",
    "import random\n",
    "import shutil\n",
    "\n",
    "import numpy as np\n",
    "import pandas as pd\n",
    "import tensorflow as tf\n",
    "from keras import losses, optimizers, metrics, callbacks, Model, layers, backend as K\n",
    "import SpeechModels\n",
    "from Project2_LSTM.augment_layers import FreqMaskLayer, TimeMaskLayer\n"
   ]
  },
  {
   "cell_type": "code",
   "execution_count": 37,
   "outputs": [],
   "source": [
    "tf.config.list_logical_devices()\n",
    "SEED = 123\n",
    "N_CLASS = 12\n",
    "MAX_EPOCHS = 200\n",
    "TEST_PATH = \"tensorflow-speech-recognition-challenge/test\"\n",
    "random.seed(SEED)\n",
    "np.random.seed(SEED)\n",
    "tf.random.set_seed(SEED)\n"
   ],
   "metadata": {
    "collapsed": false
   }
  },
  {
   "cell_type": "code",
   "execution_count": 29,
   "outputs": [
    {
     "name": "stdout",
     "output_type": "stream",
     "text": [
      "Found 45586 files belonging to 12 classes.\n",
      "Found 6513 files belonging to 12 classes.\n",
      "Found 13024 files belonging to 12 classes.\n",
      "label names: ['down' 'go' 'left' 'no' 'off' 'on' 'right' 'silence' 'stop' 'unknown'\n",
      " 'up' 'yes']\n"
     ]
    }
   ],
   "source": [
    "train_ds = tf.keras.utils.audio_dataset_from_directory(\n",
    "    directory=\"data/train\",\n",
    "    batch_size=512,\n",
    "    output_sequence_length=16000,\n",
    "    shuffle=True,\n",
    "    seed=SEED\n",
    ")\n",
    "\n",
    "val_ds = tf.keras.utils.audio_dataset_from_directory(\n",
    "    directory=\"data/val\",\n",
    "    batch_size=512,\n",
    "    output_sequence_length=16000,\n",
    "    shuffle=True\n",
    ")\n",
    "\n",
    "test_ds = tf.keras.utils.audio_dataset_from_directory(\n",
    "    directory=\"data/test\",\n",
    "    batch_size=512,\n",
    "    output_sequence_length=16000,\n",
    "    shuffle=True\n",
    ")\n",
    "\n",
    "\n",
    "label_names = np.array(train_ds.class_names)\n",
    "print(\"label names:\", label_names)"
   ],
   "metadata": {
    "collapsed": false
   }
  },
  {
   "cell_type": "code",
   "execution_count": 38,
   "outputs": [
    {
     "name": "stdout",
     "output_type": "stream",
     "text": [
      "Found 158538 files belonging to 1 classes.\n"
     ]
    }
   ],
   "source": [
    "test_dataset = tf.keras.utils.audio_dataset_from_directory(\n",
    "    directory=TEST_PATH,\n",
    "    batch_size=512,\n",
    "    output_sequence_length=16000,\n",
    "    shuffle=False\n",
    ")"
   ],
   "metadata": {
    "collapsed": false
   }
  },
  {
   "cell_type": "code",
   "execution_count": 25,
   "outputs": [
    {
     "data": {
      "text/plain": "['audio']"
     },
     "execution_count": 25,
     "metadata": {},
     "output_type": "execute_result"
    }
   ],
   "source": [
    "test_dataset.class_names"
   ],
   "metadata": {
    "collapsed": false
   }
  },
  {
   "cell_type": "code",
   "execution_count": 27,
   "outputs": [
    {
     "name": "stdout",
     "output_type": "stream",
     "text": [
      "Model: \"model_1\"\n",
      "__________________________________________________________________________________________________\n",
      " Layer (type)                   Output Shape         Param #     Connected to                     \n",
      "==================================================================================================\n",
      " input (InputLayer)             [(None, 16000)]      0           []                               \n",
      "                                                                                                  \n",
      " normalized_spectrogram_model (  (None, 125, 80)     0           ['input[0][0]']                  \n",
      " Functional)                                                                                      \n",
      "                                                                                                  \n",
      " freq_mask_layer (FreqMaskLayer  (None, 125, 80)     0           ['normalized_spectrogram_model[0]\n",
      " )                                                               [0]']                            \n",
      "                                                                                                  \n",
      " tf.expand_dims_1 (TFOpLambda)  (None, 125, 80, 1)   0           ['freq_mask_layer[0][0]']        \n",
      "                                                                                                  \n",
      " conv2d_2 (Conv2D)              (None, 125, 80, 10)  60          ['tf.expand_dims_1[0][0]']       \n",
      "                                                                                                  \n",
      " batch_normalization_2 (BatchNo  (None, 125, 80, 10)  40         ['conv2d_2[0][0]']               \n",
      " rmalization)                                                                                     \n",
      "                                                                                                  \n",
      " conv2d_3 (Conv2D)              (None, 125, 80, 1)   51          ['batch_normalization_2[0][0]']  \n",
      "                                                                                                  \n",
      " batch_normalization_3 (BatchNo  (None, 125, 80, 1)  4           ['conv2d_3[0][0]']               \n",
      " rmalization)                                                                                     \n",
      "                                                                                                  \n",
      " squeeze_last_dim (Lambda)      (None, 125, 80)      0           ['batch_normalization_3[0][0]']  \n",
      "                                                                                                  \n",
      " bidirectional_2 (Bidirectional  (None, 125, 128)    74240       ['squeeze_last_dim[0][0]']       \n",
      " )                                                                                                \n",
      "                                                                                                  \n",
      " bidirectional_3 (Bidirectional  (None, 125, 128)    98816       ['bidirectional_2[0][0]']        \n",
      " )                                                                                                \n",
      "                                                                                                  \n",
      " lambda_1 (Lambda)              (None, 128)          0           ['bidirectional_3[0][0]']        \n",
      "                                                                                                  \n",
      " dense_3 (Dense)                (None, 128)          16512       ['lambda_1[0][0]']               \n",
      "                                                                                                  \n",
      " dot_2 (Dot)                    (None, 125)          0           ['dense_3[0][0]',                \n",
      "                                                                  'bidirectional_3[0][0]']        \n",
      "                                                                                                  \n",
      " attSoftmax (Softmax)           (None, 125)          0           ['dot_2[0][0]']                  \n",
      "                                                                                                  \n",
      " dot_3 (Dot)                    (None, 128)          0           ['attSoftmax[0][0]',             \n",
      "                                                                  'bidirectional_3[0][0]']        \n",
      "                                                                                                  \n",
      " dropout_3 (Dropout)            (None, 128)          0           ['dot_3[0][0]']                  \n",
      "                                                                                                  \n",
      " dense_4 (Dense)                (None, 64)           8256        ['dropout_3[0][0]']              \n",
      "                                                                                                  \n",
      " dropout_4 (Dropout)            (None, 64)           0           ['dense_4[0][0]']                \n",
      "                                                                                                  \n",
      " dense_5 (Dense)                (None, 32)           2080        ['dropout_4[0][0]']              \n",
      "                                                                                                  \n",
      " dropout_5 (Dropout)            (None, 32)           0           ['dense_5[0][0]']                \n",
      "                                                                                                  \n",
      " output (Dense)                 (None, 12)           396         ['dropout_5[0][0]']              \n",
      "                                                                                                  \n",
      "==================================================================================================\n",
      "Total params: 200,455\n",
      "Trainable params: 200,433\n",
      "Non-trainable params: 22\n",
      "__________________________________________________________________________________________________\n"
     ]
    }
   ],
   "source": [
    "dataset = train_ds.concatenate(val_ds).concatenate(test_ds).rebatch(512)\n",
    "def squeeze(audio, labels):\n",
    "    audio = tf.squeeze(audio, axis=-1)\n",
    "    return audio, labels\n",
    "\n",
    "dataset = dataset.map(squeeze, tf.data.AUTOTUNE)\n",
    "test_dataset = test_dataset.map(squeeze, tf.data.AUTOTUNE)\n",
    "\n",
    "def create_model(freq=False, time=False):\n",
    "    m = SpeechModels.get_melspec_model(iLen=16000)\n",
    "    m.trainable = False\n",
    "    inputs, outputs = m.inputs, m.outputs\n",
    "\n",
    "    x = m(inputs)\n",
    "    if freq:\n",
    "        x = FreqMaskLayer(10)(x)\n",
    "    if time:\n",
    "        x = TimeMaskLayer(10)(x)\n",
    "    x = tf.expand_dims(x, axis=-1, name='mel_stft')\n",
    "\n",
    "    x = layers.Conv2D(10, (5, 1), activation='relu', padding='same')(x)\n",
    "    x = layers.BatchNormalization()(x)\n",
    "    x = layers.Conv2D(1, (5, 1), activation='relu', padding='same')(x)\n",
    "    x = layers.BatchNormalization()(x)\n",
    "\n",
    "    # x = Reshape((125, 80)) (x)\n",
    "    # keras.backend.squeeze(x, axis)\n",
    "    x = layers.Lambda(lambda q: K.squeeze(q, -1), name='squeeze_last_dim')(x)\n",
    "\n",
    "    x = layers.Bidirectional(layers.LSTM(64, return_sequences=True)\n",
    "                             )(x)  # [b_s, seq_len, vec_dim]\n",
    "    x = layers.Bidirectional(layers.LSTM(64, return_sequences=True)\n",
    "                             )(x)  # [b_s, seq_len, vec_dim]\n",
    "\n",
    "    x_first = layers.Lambda(lambda q: q[:, -1])(x)  # [b_s, vec_dim]\n",
    "    query = layers.Dense(128)(x_first)\n",
    "\n",
    "    # dot product attention\n",
    "    att_scores = layers.Dot(axes=[1, 2])([query, x])\n",
    "    att_scores = layers.Softmax(name='attSoftmax')(att_scores)  # [b_s, seq_len]\n",
    "\n",
    "    # rescale sequence\n",
    "    att_vector = layers.Dot(axes=[1, 1])([att_scores, x])  # [b_s, vec_dim]\n",
    "    x = layers.Dropout(rate=0.3)(att_vector)\n",
    "    x = layers.Dense(64, activation='relu')(x)\n",
    "    x = layers.Dropout(rate=0.3)(x)\n",
    "    x = layers.Dense(32)(x)\n",
    "    x = layers.Dropout(rate=0.3)(x)\n",
    "    output = layers.Dense(N_CLASS, activation='softmax', name='output')(x)\n",
    "\n",
    "    model = Model(inputs=[inputs], outputs=[output])\n",
    "\n",
    "    return model\n",
    "\n",
    "model = create_model(freq=True)\n",
    "model.summary()"
   ],
   "metadata": {
    "collapsed": false
   }
  },
  {
   "cell_type": "code",
   "execution_count": 23,
   "outputs": [],
   "source": [
    "model.compile(\n",
    "    optimizer=optimizers.Adam(learning_rate=0.001),\n",
    "    loss=losses.SparseCategoricalCrossentropy(),\n",
    "    metrics=[metrics.SparseCategoricalAccuracy(), metrics.SparseCategoricalCrossentropy()]\n",
    ")\n",
    "\n",
    "early_stopping = callbacks.EarlyStopping(\n",
    "    monitor='val_sparse_categorical_accuracy',\n",
    "    min_delta=0,\n",
    "    patience=5,\n",
    "    verbose=0,\n",
    "    mode='max',\n",
    "    baseline=None,\n",
    "    restore_best_weights=True\n",
    ")\n",
    "model_checkpoint = callbacks.ModelCheckpoint(\n",
    "    filepath=\"best_model_checkpoint\",\n",
    "    monitor='val_sparse_categorical_accuracy',\n",
    "    mode='max',\n",
    "    save_best_only=True)\n",
    "\n",
    "reduce_lr = callbacks.ReduceLROnPlateau(monitor='val_sparse_categorical_accuracy', factor=0.5, patience=3, min_lr=0.00001, verbose=1)"
   ],
   "metadata": {
    "collapsed": false
   }
  },
  {
   "cell_type": "code",
   "execution_count": null,
   "outputs": [],
   "source": [
    "history = model.fit(\n",
    "    dataset,\n",
    "    epochs=MAX_EPOCHS,\n",
    "    callbacks=[early_stopping, reduce_lr, model_checkpoint]\n",
    ")"
   ],
   "metadata": {
    "collapsed": false
   }
  },
  {
   "cell_type": "code",
   "execution_count": 30,
   "outputs": [
    {
     "name": "stdout",
     "output_type": "stream",
     "text": [
      "1/1 [==============================] - 12s 12s/step\n"
     ]
    }
   ],
   "source": [
    "predictions = model.predict(test_dataset)"
   ],
   "metadata": {
    "collapsed": false
   }
  },
  {
   "cell_type": "code",
   "execution_count": 36,
   "outputs": [
    {
     "data": {
      "text/plain": "array(['up', 'up', 'up', 'up', 'up', 'up', 'up', 'up', 'up', 'up', 'up',\n       'up', 'up', 'up', 'up', 'up', 'up', 'up', 'up', 'up', 'up', 'up',\n       'up', 'up', 'up', 'up', 'up', 'unknown', 'up', 'unknown', 'up',\n       'up', 'up', 'up', 'up', 'up', 'up', 'up', 'up', 'unknown', 'up',\n       'up', 'up', 'up', 'up', 'up', 'up', 'up', 'up', 'up', 'up', 'up',\n       'up', 'up', 'up', 'up', 'up', 'up', 'up', 'up', 'up', 'unknown',\n       'up', 'up', 'up', 'up', 'up', 'up', 'up', 'up', 'up', 'up', 'up',\n       'up', 'up', 'up', 'up', 'up', 'up', 'up', 'up', 'up', 'up', 'up',\n       'up', 'up', 'up', 'up', 'up', 'unknown', 'up', 'up', 'up', 'up',\n       'up', 'up', 'up', 'up', 'up', 'up', 'up', 'up', 'unknown', 'up',\n       'up', 'up', 'up', 'up', 'off', 'up', 'up', 'up', 'up', 'up', 'up',\n       'up', 'up', 'up', 'up', 'up', 'up', 'up', 'up', 'up', 'up', 'up',\n       'up', 'up', 'up', 'up', 'up', 'up', 'up', 'up', 'up', 'up', 'up',\n       'up', 'up', 'up', 'up', 'up', 'up', 'up', 'up', 'up', 'up', 'up',\n       'up', 'up', 'unknown', 'up', 'up', 'up', 'up', 'up', 'up', 'up',\n       'up', 'up', 'up', 'up', 'up', 'up', 'up', 'up', 'up', 'up', 'up',\n       'up', 'up', 'up', 'up', 'up', 'up', 'up', 'up', 'up', 'up', 'up',\n       'up', 'up', 'up', 'unknown', 'up', 'up', 'up', 'up', 'up', 'up',\n       'up', 'up', 'up', 'up', 'up', 'up', 'up', 'yes', 'up', 'up', 'up',\n       'up', 'up', 'up', 'yes', 'up', 'up', 'up', 'up', 'up', 'up', 'up',\n       'up', 'up', 'up', 'up', 'up', 'up', 'up', 'up', 'up', 'unknown',\n       'up', 'up', 'up', 'up', 'up', 'up', 'up', 'up', 'up', 'up', 'up',\n       'up', 'up', 'unknown', 'up', 'up', 'up', 'up', 'up', 'up', 'up',\n       'up', 'up', 'up', 'up', 'up', 'up', 'up', 'up', 'up', 'up', 'up',\n       'up', 'up', 'up', 'up', 'up', 'up', 'up', 'up', 'up', 'up', 'up',\n       'up', 'up', 'up', 'up', 'up', 'up', 'up', 'up', 'up', 'unknown',\n       'up', 'up', 'up', 'up', 'up', 'up', 'up', 'up', 'off', 'up', 'up',\n       'up', 'unknown', 'up', 'up', 'up', 'up', 'up', 'up', 'up', 'up',\n       'off', 'up', 'up', 'up', 'up', 'no', 'unknown', 'up', 'up', 'up',\n       'unknown', 'up', 'up', 'up', 'up', 'up', 'yes', 'unknown', 'up',\n       'up', 'up', 'up', 'up', 'up', 'up', 'up', 'up', 'up', 'up', 'up',\n       'up', 'up', 'up', 'up', 'up', 'up', 'up', 'up', 'up', 'up', 'up',\n       'up', 'up', 'up', 'up', 'up', 'up', 'up', 'up', 'up', 'up', 'up',\n       'up', 'up', 'up', 'up', 'up', 'up', 'unknown', 'up', 'up', 'up',\n       'up', 'up', 'up', 'up', 'up', 'up', 'up', 'up', 'up', 'unknown',\n       'up', 'up', 'up', 'up', 'up', 'up', 'up', 'up', 'up', 'up', 'up',\n       'up', 'up', 'up', 'up', 'up', 'up', 'up', 'up', 'up', 'up', 'up',\n       'up', 'up', 'up', 'up', 'up', 'up', 'up', 'up', 'up', 'up', 'yes',\n       'up', 'up', 'unknown', 'up', 'up', 'up', 'up', 'up', 'up',\n       'unknown', 'up', 'up', 'up', 'up', 'up', 'up', 'up', 'up', 'up',\n       'up', 'up', 'up', 'up', 'up', 'up', 'up', 'up', 'up', 'up', 'up',\n       'up', 'up', 'up', 'up', 'up', 'yes', 'up', 'up', 'up', 'up', 'up',\n       'up', 'up', 'up', 'up', 'yes', 'up', 'up', 'up', 'up', 'go', 'up',\n       'up', 'up', 'up', 'up', 'up', 'up', 'up', 'up', 'up', 'up', 'up',\n       'up', 'up', 'up', 'up', 'yes', 'up', 'up', 'up', 'up', 'up', 'up',\n       'unknown', 'unknown', 'up', 'up', 'up', 'up', 'up', 'up', 'up',\n       'up', 'up', 'up', 'up', 'up', 'up', 'up', 'up', 'up', 'up',\n       'unknown', 'on', 'up', 'up', 'up', 'up', 'up', 'up', 'unknown',\n       'up', 'up', 'up', 'up', 'up', 'up', 'yes', 'up', 'up'], dtype='<U7')"
     },
     "execution_count": 36,
     "metadata": {},
     "output_type": "execute_result"
    }
   ],
   "source": [
    "predict_class = np.array(list(label_names[i] for i in np.argmax(predictions, axis=1)))"
   ],
   "metadata": {
    "collapsed": false
   }
  },
  {
   "cell_type": "code",
   "execution_count": 48,
   "outputs": [],
   "source": [
    "for i, (root, dir, fname) in enumerate(os.walk(os.path.join(TEST_PATH, 'audio'))):\n",
    "    files = np.array(fname)"
   ],
   "metadata": {
    "collapsed": false
   }
  },
  {
   "cell_type": "code",
   "execution_count": 54,
   "outputs": [],
   "source": [
    "submission = pd.DataFrame(np.vstack([files, predict_class]).T)\n",
    "submission.to_csv(\"submission.csv\")"
   ],
   "metadata": {
    "collapsed": false
   }
  }
 ],
 "metadata": {
  "kernelspec": {
   "display_name": "Python 3",
   "language": "python",
   "name": "python3"
  },
  "language_info": {
   "codemirror_mode": {
    "name": "ipython",
    "version": 2
   },
   "file_extension": ".py",
   "mimetype": "text/x-python",
   "name": "python",
   "nbconvert_exporter": "python",
   "pygments_lexer": "ipython2",
   "version": "2.7.6"
  }
 },
 "nbformat": 4,
 "nbformat_minor": 0
}
