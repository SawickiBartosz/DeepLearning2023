{
 "cells": [
  {
   "cell_type": "code",
   "execution_count": 1,
   "metadata": {
    "collapsed": true,
    "ExecuteTime": {
     "start_time": "2023-04-24T17:29:48.509622Z",
     "end_time": "2023-04-24T17:29:50.810166Z"
    }
   },
   "outputs": [],
   "source": [
    "import gc\n",
    "import os\n",
    "import pickle\n",
    "import random\n",
    "import shutil\n",
    "\n",
    "import numpy as np\n",
    "import pandas as pd\n",
    "import tensorflow as tf\n",
    "from keras import losses, optimizers, metrics, callbacks, Model, layers, backend as K\n",
    "import SpeechModels\n",
    "from augment_layers import FreqMaskLayer, TimeMaskLayer\n"
   ]
  },
  {
   "cell_type": "code",
   "execution_count": 2,
   "outputs": [
    {
     "data": {
      "text/plain": "[LogicalDevice(name='/device:CPU:0', device_type='CPU'),\n LogicalDevice(name='/device:GPU:0', device_type='GPU')]"
     },
     "execution_count": 2,
     "metadata": {},
     "output_type": "execute_result"
    }
   ],
   "source": [
    "tf.config.list_logical_devices()"
   ],
   "metadata": {
    "collapsed": false,
    "ExecuteTime": {
     "start_time": "2023-04-24T17:29:51.380183Z",
     "end_time": "2023-04-24T17:29:51.384170Z"
    }
   }
  },
  {
   "cell_type": "code",
   "execution_count": 3,
   "outputs": [],
   "source": [
    "SEED = 123\n",
    "N_CLASS = 12\n",
    "MAX_EPOCHS = 200\n",
    "TEST_PATH = \"tensorflow-speech-recognition-challenge/test\"\n",
    "random.seed(SEED)\n",
    "np.random.seed(SEED)\n",
    "tf.random.set_seed(SEED)"
   ],
   "metadata": {
    "collapsed": false,
    "ExecuteTime": {
     "start_time": "2023-04-24T17:29:51.387160Z",
     "end_time": "2023-04-24T17:29:51.400152Z"
    }
   }
  },
  {
   "cell_type": "code",
   "execution_count": 4,
   "outputs": [
    {
     "name": "stdout",
     "output_type": "stream",
     "text": [
      "Found 45586 files belonging to 12 classes.\n",
      "Found 6513 files belonging to 12 classes.\n",
      "Found 13024 files belonging to 12 classes.\n",
      "label names: ['down' 'go' 'left' 'no' 'off' 'on' 'right' 'silence' 'stop' 'unknown'\n",
      " 'up' 'yes']\n"
     ]
    }
   ],
   "source": [
    "train_ds = tf.keras.utils.audio_dataset_from_directory(\n",
    "    directory=\"data/train\",\n",
    "    batch_size=512,\n",
    "    output_sequence_length=16000,\n",
    "    shuffle=True,\n",
    "    seed=SEED\n",
    ")\n",
    "\n",
    "val_ds = tf.keras.utils.audio_dataset_from_directory(\n",
    "    directory=\"data/val\",\n",
    "    batch_size=512,\n",
    "    output_sequence_length=16000,\n",
    "    shuffle=True\n",
    ")\n",
    "\n",
    "test_ds = tf.keras.utils.audio_dataset_from_directory(\n",
    "    directory=\"data/test\",\n",
    "    batch_size=512,\n",
    "    output_sequence_length=16000,\n",
    "    shuffle=True\n",
    ")\n",
    "\n",
    "label_names = np.array(train_ds.class_names)\n",
    "print(\"label names:\", label_names)"
   ],
   "metadata": {
    "collapsed": false,
    "ExecuteTime": {
     "start_time": "2023-04-24T17:29:51.403142Z",
     "end_time": "2023-04-24T17:29:57.181015Z"
    }
   }
  },
  {
   "cell_type": "code",
   "execution_count": 5,
   "outputs": [
    {
     "name": "stdout",
     "output_type": "stream",
     "text": [
      "Found 158538 files belonging to 1 classes.\n"
     ]
    }
   ],
   "source": [
    "test_dataset = tf.keras.utils.audio_dataset_from_directory(\n",
    "    directory=TEST_PATH,\n",
    "    batch_size=512,\n",
    "    output_sequence_length=16000,\n",
    "    shuffle=False\n",
    ")"
   ],
   "metadata": {
    "collapsed": false,
    "ExecuteTime": {
     "start_time": "2023-04-24T17:29:57.183008Z",
     "end_time": "2023-04-24T17:30:16.275402Z"
    }
   }
  },
  {
   "cell_type": "code",
   "execution_count": 6,
   "outputs": [
    {
     "data": {
      "text/plain": "['audio']"
     },
     "execution_count": 6,
     "metadata": {},
     "output_type": "execute_result"
    }
   ],
   "source": [
    "test_dataset.class_names"
   ],
   "metadata": {
    "collapsed": false,
    "ExecuteTime": {
     "start_time": "2023-04-24T17:30:16.277396Z",
     "end_time": "2023-04-24T17:30:16.291348Z"
    }
   }
  },
  {
   "cell_type": "code",
   "execution_count": 7,
   "outputs": [
    {
     "data": {
      "text/plain": "(TensorSpec(shape=(None, 16000, None), dtype=tf.float32, name=None),\n TensorSpec(shape=(None,), dtype=tf.int32, name=None))"
     },
     "execution_count": 7,
     "metadata": {},
     "output_type": "execute_result"
    }
   ],
   "source": [
    "train_dataset = train_ds.concatenate(val_ds)\n",
    "train_dataset.element_spec"
   ],
   "metadata": {
    "collapsed": false,
    "ExecuteTime": {
     "start_time": "2023-04-24T17:30:16.293341Z",
     "end_time": "2023-04-24T17:30:16.336830Z"
    }
   }
  },
  {
   "cell_type": "code",
   "execution_count": 8,
   "outputs": [
    {
     "data": {
      "text/plain": "(TensorSpec(shape=(None, 16000, None), dtype=tf.float32, name=None),\n TensorSpec(shape=(None,), dtype=tf.int32, name=None))"
     },
     "execution_count": 8,
     "metadata": {},
     "output_type": "execute_result"
    }
   ],
   "source": [
    "validation_dataset = test_ds\n",
    "validation_dataset.element_spec"
   ],
   "metadata": {
    "collapsed": false,
    "ExecuteTime": {
     "start_time": "2023-04-24T17:30:16.308291Z",
     "end_time": "2023-04-24T17:30:16.336830Z"
    }
   }
  },
  {
   "cell_type": "code",
   "execution_count": 9,
   "outputs": [
    {
     "name": "stdout",
     "output_type": "stream",
     "text": [
      "Model: \"model\"\n",
      "__________________________________________________________________________________________________\n",
      " Layer (type)                   Output Shape         Param #     Connected to                     \n",
      "==================================================================================================\n",
      " input (InputLayer)             [(None, 16000)]      0           []                               \n",
      "                                                                                                  \n",
      " normalized_spectrogram_model (  (None, 125, 80)     0           ['input[0][0]']                  \n",
      " Functional)                                                                                      \n",
      "                                                                                                  \n",
      " freq_mask_layer (FreqMaskLayer  (None, 125, 80)     0           ['normalized_spectrogram_model[0]\n",
      " )                                                               [0]']                            \n",
      "                                                                                                  \n",
      " tf.expand_dims (TFOpLambda)    (None, 125, 80, 1)   0           ['freq_mask_layer[0][0]']        \n",
      "                                                                                                  \n",
      " conv2d (Conv2D)                (None, 125, 80, 10)  60          ['tf.expand_dims[0][0]']         \n",
      "                                                                                                  \n",
      " batch_normalization (BatchNorm  (None, 125, 80, 10)  40         ['conv2d[0][0]']                 \n",
      " alization)                                                                                       \n",
      "                                                                                                  \n",
      " conv2d_1 (Conv2D)              (None, 125, 80, 1)   51          ['batch_normalization[0][0]']    \n",
      "                                                                                                  \n",
      " batch_normalization_1 (BatchNo  (None, 125, 80, 1)  4           ['conv2d_1[0][0]']               \n",
      " rmalization)                                                                                     \n",
      "                                                                                                  \n",
      " squeeze_last_dim (Lambda)      (None, 125, 80)      0           ['batch_normalization_1[0][0]']  \n",
      "                                                                                                  \n",
      " bidirectional (Bidirectional)  (None, 125, 128)     74240       ['squeeze_last_dim[0][0]']       \n",
      "                                                                                                  \n",
      " bidirectional_1 (Bidirectional  (None, 125, 128)    98816       ['bidirectional[0][0]']          \n",
      " )                                                                                                \n",
      "                                                                                                  \n",
      " lambda (Lambda)                (None, 128)          0           ['bidirectional_1[0][0]']        \n",
      "                                                                                                  \n",
      " dense (Dense)                  (None, 128)          16512       ['lambda[0][0]']                 \n",
      "                                                                                                  \n",
      " dot (Dot)                      (None, 125)          0           ['dense[0][0]',                  \n",
      "                                                                  'bidirectional_1[0][0]']        \n",
      "                                                                                                  \n",
      " attSoftmax (Softmax)           (None, 125)          0           ['dot[0][0]']                    \n",
      "                                                                                                  \n",
      " dot_1 (Dot)                    (None, 128)          0           ['attSoftmax[0][0]',             \n",
      "                                                                  'bidirectional_1[0][0]']        \n",
      "                                                                                                  \n",
      " dropout (Dropout)              (None, 128)          0           ['dot_1[0][0]']                  \n",
      "                                                                                                  \n",
      " dense_1 (Dense)                (None, 64)           8256        ['dropout[0][0]']                \n",
      "                                                                                                  \n",
      " dropout_1 (Dropout)            (None, 64)           0           ['dense_1[0][0]']                \n",
      "                                                                                                  \n",
      " dense_2 (Dense)                (None, 32)           2080        ['dropout_1[0][0]']              \n",
      "                                                                                                  \n",
      " dropout_2 (Dropout)            (None, 32)           0           ['dense_2[0][0]']                \n",
      "                                                                                                  \n",
      " output (Dense)                 (None, 12)           396         ['dropout_2[0][0]']              \n",
      "                                                                                                  \n",
      "==================================================================================================\n",
      "Total params: 200,455\n",
      "Trainable params: 200,433\n",
      "Non-trainable params: 22\n",
      "__________________________________________________________________________________________________\n"
     ]
    }
   ],
   "source": [
    "def squeeze(audio, labels):\n",
    "    audio = tf.squeeze(audio, axis=-1)\n",
    "    return audio, labels\n",
    "\n",
    "\n",
    "train_dataset = train_dataset.map(squeeze, tf.data.AUTOTUNE)\n",
    "validation_dataset = validation_dataset.map(squeeze, tf.data.AUTOTUNE)\n",
    "test_dataset = test_dataset.map(squeeze, tf.data.AUTOTUNE)\n",
    "\n",
    "\n",
    "def create_model(freq=False, time=False):\n",
    "    m = SpeechModels.get_melspec_model(iLen=16000)\n",
    "    m.trainable = False\n",
    "    inputs, outputs = m.inputs, m.outputs\n",
    "\n",
    "    x = m(inputs)\n",
    "    if freq:\n",
    "        x = FreqMaskLayer(10)(x)\n",
    "    if time:\n",
    "        x = TimeMaskLayer(10)(x)\n",
    "    x = tf.expand_dims(x, axis=-1, name='mel_stft')\n",
    "\n",
    "    x = layers.Conv2D(10, (5, 1), activation='relu', padding='same')(x)\n",
    "    x = layers.BatchNormalization()(x)\n",
    "    x = layers.Conv2D(1, (5, 1), activation='relu', padding='same')(x)\n",
    "    x = layers.BatchNormalization()(x)\n",
    "\n",
    "    # x = Reshape((125, 80)) (x)\n",
    "    # keras.backend.squeeze(x, axis)\n",
    "    x = layers.Lambda(lambda q: K.squeeze(q, -1), name='squeeze_last_dim')(x)\n",
    "\n",
    "    x = layers.Bidirectional(layers.LSTM(64, return_sequences=True)\n",
    "                             )(x)  # [b_s, seq_len, vec_dim]\n",
    "    x = layers.Bidirectional(layers.LSTM(64, return_sequences=True)\n",
    "                             )(x)  # [b_s, seq_len, vec_dim]\n",
    "\n",
    "    x_first = layers.Lambda(lambda q: q[:, -1])(x)  # [b_s, vec_dim]\n",
    "    query = layers.Dense(128)(x_first)\n",
    "\n",
    "    # dot product attention\n",
    "    att_scores = layers.Dot(axes=[1, 2])([query, x])\n",
    "    att_scores = layers.Softmax(name='attSoftmax')(att_scores)  # [b_s, seq_len]\n",
    "\n",
    "    # rescale sequence\n",
    "    att_vector = layers.Dot(axes=[1, 1])([att_scores, x])  # [b_s, vec_dim]\n",
    "    x = layers.Dropout(rate=0.3)(att_vector)\n",
    "    x = layers.Dense(64, activation='relu')(x)\n",
    "    x = layers.Dropout(rate=0.3)(x)\n",
    "    x = layers.Dense(32)(x)\n",
    "    x = layers.Dropout(rate=0.3)(x)\n",
    "    output = layers.Dense(N_CLASS, activation='softmax', name='output')(x)\n",
    "\n",
    "    model = Model(inputs=[inputs], outputs=[output])\n",
    "\n",
    "    return model\n",
    "\n",
    "\n",
    "model = create_model(freq=True)\n",
    "model.summary()"
   ],
   "metadata": {
    "collapsed": false,
    "ExecuteTime": {
     "start_time": "2023-04-24T17:30:16.332210Z",
     "end_time": "2023-04-24T17:30:17.763568Z"
    }
   }
  },
  {
   "cell_type": "code",
   "execution_count": 10,
   "outputs": [],
   "source": [
    "model.compile(\n",
    "    optimizer=optimizers.Adam(learning_rate=0.001),\n",
    "    loss=losses.SparseCategoricalCrossentropy(),\n",
    "    metrics=[metrics.SparseCategoricalAccuracy(), metrics.SparseCategoricalCrossentropy()]\n",
    ")\n",
    "\n",
    "early_stopping = callbacks.EarlyStopping(\n",
    "    monitor='val_sparse_categorical_accuracy',\n",
    "    min_delta=0,\n",
    "    patience=5,\n",
    "    verbose=0,\n",
    "    mode='max',\n",
    "    baseline=None,\n",
    "    restore_best_weights=True\n",
    ")\n",
    "model_checkpoint = callbacks.ModelCheckpoint(\n",
    "    filepath=\"best_model_checkpoint\",\n",
    "    monitor='val_sparse_categorical_accuracy',\n",
    "    mode='max',\n",
    "    save_best_only=True)\n",
    "\n",
    "reduce_lr = callbacks.ReduceLROnPlateau(monitor='val_sparse_categorical_accuracy', factor=0.5, patience=3,\n",
    "                                        min_lr=0.00001, verbose=1)"
   ],
   "metadata": {
    "collapsed": false,
    "ExecuteTime": {
     "start_time": "2023-04-24T17:30:17.731677Z",
     "end_time": "2023-04-24T17:30:17.763568Z"
    }
   }
  },
  {
   "cell_type": "code",
   "execution_count": 11,
   "outputs": [
    {
     "name": "stdout",
     "output_type": "stream",
     "text": [
      "Epoch 1/200\n",
      "103/103 [==============================] - ETA: 0s - loss: 1.6506 - sparse_categorical_accuracy: 0.6201 - sparse_categorical_crossentropy: 1.6506"
     ]
    },
    {
     "name": "stderr",
     "output_type": "stream",
     "text": [
      "WARNING:absl:Found untraced functions such as _jit_compiled_convolution_op, _jit_compiled_convolution_op, lstm_cell_1_layer_call_fn, lstm_cell_1_layer_call_and_return_conditional_losses, lstm_cell_2_layer_call_fn while saving (showing 5 of 10). These functions will not be directly callable after loading.\n"
     ]
    },
    {
     "name": "stdout",
     "output_type": "stream",
     "text": [
      "INFO:tensorflow:Assets written to: best_model_checkpoint\\assets\n"
     ]
    },
    {
     "name": "stderr",
     "output_type": "stream",
     "text": [
      "INFO:tensorflow:Assets written to: best_model_checkpoint\\assets\n"
     ]
    },
    {
     "name": "stdout",
     "output_type": "stream",
     "text": [
      "103/103 [==============================] - 91s 729ms/step - loss: 1.6506 - sparse_categorical_accuracy: 0.6201 - sparse_categorical_crossentropy: 1.6506 - val_loss: 1.6143 - val_sparse_categorical_accuracy: 0.6303 - val_sparse_categorical_crossentropy: 1.6143 - lr: 0.0010\n",
      "Epoch 2/200\n",
      "103/103 [==============================] - 50s 475ms/step - loss: 1.3160 - sparse_categorical_accuracy: 0.6439 - sparse_categorical_crossentropy: 1.3160 - val_loss: 1.8769 - val_sparse_categorical_accuracy: 0.4264 - val_sparse_categorical_crossentropy: 1.8769 - lr: 0.0010\n",
      "Epoch 3/200\n",
      "103/103 [==============================] - 48s 454ms/step - loss: 0.7574 - sparse_categorical_accuracy: 0.7548 - sparse_categorical_crossentropy: 0.7574 - val_loss: 2.0539 - val_sparse_categorical_accuracy: 0.3041 - val_sparse_categorical_crossentropy: 2.0539 - lr: 0.0010\n",
      "Epoch 4/200\n",
      "103/103 [==============================] - ETA: 0s - loss: 0.4539 - sparse_categorical_accuracy: 0.8572 - sparse_categorical_crossentropy: 0.4539\n",
      "Epoch 4: ReduceLROnPlateau reducing learning rate to 0.0005000000237487257.\n",
      "103/103 [==============================] - 50s 474ms/step - loss: 0.4539 - sparse_categorical_accuracy: 0.8572 - sparse_categorical_crossentropy: 0.4539 - val_loss: 1.4908 - val_sparse_categorical_accuracy: 0.5477 - val_sparse_categorical_crossentropy: 1.4908 - lr: 0.0010\n",
      "Epoch 5/200\n",
      "103/103 [==============================] - ETA: 0s - loss: 0.3179 - sparse_categorical_accuracy: 0.9072 - sparse_categorical_crossentropy: 0.3179"
     ]
    },
    {
     "name": "stderr",
     "output_type": "stream",
     "text": [
      "WARNING:absl:Found untraced functions such as _jit_compiled_convolution_op, _jit_compiled_convolution_op, lstm_cell_1_layer_call_fn, lstm_cell_1_layer_call_and_return_conditional_losses, lstm_cell_2_layer_call_fn while saving (showing 5 of 10). These functions will not be directly callable after loading.\n"
     ]
    },
    {
     "name": "stdout",
     "output_type": "stream",
     "text": [
      "INFO:tensorflow:Assets written to: best_model_checkpoint\\assets\n"
     ]
    },
    {
     "name": "stderr",
     "output_type": "stream",
     "text": [
      "INFO:tensorflow:Assets written to: best_model_checkpoint\\assets\n"
     ]
    },
    {
     "name": "stdout",
     "output_type": "stream",
     "text": [
      "103/103 [==============================] - 70s 663ms/step - loss: 0.3179 - sparse_categorical_accuracy: 0.9072 - sparse_categorical_crossentropy: 0.3179 - val_loss: 0.7986 - val_sparse_categorical_accuracy: 0.7606 - val_sparse_categorical_crossentropy: 0.7986 - lr: 5.0000e-04\n",
      "Epoch 6/200\n",
      "103/103 [==============================] - ETA: 0s - loss: 0.2608 - sparse_categorical_accuracy: 0.9265 - sparse_categorical_crossentropy: 0.2608"
     ]
    },
    {
     "name": "stderr",
     "output_type": "stream",
     "text": [
      "WARNING:absl:Found untraced functions such as _jit_compiled_convolution_op, _jit_compiled_convolution_op, lstm_cell_1_layer_call_fn, lstm_cell_1_layer_call_and_return_conditional_losses, lstm_cell_2_layer_call_fn while saving (showing 5 of 10). These functions will not be directly callable after loading.\n"
     ]
    },
    {
     "name": "stdout",
     "output_type": "stream",
     "text": [
      "INFO:tensorflow:Assets written to: best_model_checkpoint\\assets\n"
     ]
    },
    {
     "name": "stderr",
     "output_type": "stream",
     "text": [
      "INFO:tensorflow:Assets written to: best_model_checkpoint\\assets\n"
     ]
    },
    {
     "name": "stdout",
     "output_type": "stream",
     "text": [
      "103/103 [==============================] - 68s 653ms/step - loss: 0.2608 - sparse_categorical_accuracy: 0.9265 - sparse_categorical_crossentropy: 0.2608 - val_loss: 0.3767 - val_sparse_categorical_accuracy: 0.8909 - val_sparse_categorical_crossentropy: 0.3767 - lr: 5.0000e-04\n",
      "Epoch 7/200\n",
      "103/103 [==============================] - ETA: 0s - loss: 0.2296 - sparse_categorical_accuracy: 0.9364 - sparse_categorical_crossentropy: 0.2296"
     ]
    },
    {
     "name": "stderr",
     "output_type": "stream",
     "text": [
      "WARNING:absl:Found untraced functions such as _jit_compiled_convolution_op, _jit_compiled_convolution_op, lstm_cell_1_layer_call_fn, lstm_cell_1_layer_call_and_return_conditional_losses, lstm_cell_2_layer_call_fn while saving (showing 5 of 10). These functions will not be directly callable after loading.\n"
     ]
    },
    {
     "name": "stdout",
     "output_type": "stream",
     "text": [
      "INFO:tensorflow:Assets written to: best_model_checkpoint\\assets\n"
     ]
    },
    {
     "name": "stderr",
     "output_type": "stream",
     "text": [
      "INFO:tensorflow:Assets written to: best_model_checkpoint\\assets\n"
     ]
    },
    {
     "name": "stdout",
     "output_type": "stream",
     "text": [
      "103/103 [==============================] - 72s 687ms/step - loss: 0.2296 - sparse_categorical_accuracy: 0.9364 - sparse_categorical_crossentropy: 0.2296 - val_loss: 0.2856 - val_sparse_categorical_accuracy: 0.9150 - val_sparse_categorical_crossentropy: 0.2856 - lr: 5.0000e-04\n",
      "Epoch 8/200\n",
      "103/103 [==============================] - 51s 479ms/step - loss: 0.2028 - sparse_categorical_accuracy: 0.9447 - sparse_categorical_crossentropy: 0.2028 - val_loss: 0.3190 - val_sparse_categorical_accuracy: 0.9079 - val_sparse_categorical_crossentropy: 0.3190 - lr: 5.0000e-04\n",
      "Epoch 9/200\n",
      "103/103 [==============================] - 49s 463ms/step - loss: 0.1908 - sparse_categorical_accuracy: 0.9480 - sparse_categorical_crossentropy: 0.1908 - val_loss: 0.3512 - val_sparse_categorical_accuracy: 0.8993 - val_sparse_categorical_crossentropy: 0.3512 - lr: 5.0000e-04\n",
      "Epoch 10/200\n",
      "103/103 [==============================] - ETA: 0s - loss: 0.1814 - sparse_categorical_accuracy: 0.9492 - sparse_categorical_crossentropy: 0.1814"
     ]
    },
    {
     "name": "stderr",
     "output_type": "stream",
     "text": [
      "WARNING:absl:Found untraced functions such as _jit_compiled_convolution_op, _jit_compiled_convolution_op, lstm_cell_1_layer_call_fn, lstm_cell_1_layer_call_and_return_conditional_losses, lstm_cell_2_layer_call_fn while saving (showing 5 of 10). These functions will not be directly callable after loading.\n"
     ]
    },
    {
     "name": "stdout",
     "output_type": "stream",
     "text": [
      "INFO:tensorflow:Assets written to: best_model_checkpoint\\assets\n"
     ]
    },
    {
     "name": "stderr",
     "output_type": "stream",
     "text": [
      "INFO:tensorflow:Assets written to: best_model_checkpoint\\assets\n"
     ]
    },
    {
     "name": "stdout",
     "output_type": "stream",
     "text": [
      "103/103 [==============================] - 71s 675ms/step - loss: 0.1814 - sparse_categorical_accuracy: 0.9492 - sparse_categorical_crossentropy: 0.1814 - val_loss: 0.2318 - val_sparse_categorical_accuracy: 0.9342 - val_sparse_categorical_crossentropy: 0.2318 - lr: 5.0000e-04\n",
      "Epoch 11/200\n",
      "103/103 [==============================] - ETA: 0s - loss: 0.1614 - sparse_categorical_accuracy: 0.9553 - sparse_categorical_crossentropy: 0.1614"
     ]
    },
    {
     "name": "stderr",
     "output_type": "stream",
     "text": [
      "WARNING:absl:Found untraced functions such as _jit_compiled_convolution_op, _jit_compiled_convolution_op, lstm_cell_1_layer_call_fn, lstm_cell_1_layer_call_and_return_conditional_losses, lstm_cell_2_layer_call_fn while saving (showing 5 of 10). These functions will not be directly callable after loading.\n"
     ]
    },
    {
     "name": "stdout",
     "output_type": "stream",
     "text": [
      "INFO:tensorflow:Assets written to: best_model_checkpoint\\assets\n"
     ]
    },
    {
     "name": "stderr",
     "output_type": "stream",
     "text": [
      "INFO:tensorflow:Assets written to: best_model_checkpoint\\assets\n"
     ]
    },
    {
     "name": "stdout",
     "output_type": "stream",
     "text": [
      "103/103 [==============================] - 71s 676ms/step - loss: 0.1614 - sparse_categorical_accuracy: 0.9553 - sparse_categorical_crossentropy: 0.1614 - val_loss: 0.2120 - val_sparse_categorical_accuracy: 0.9430 - val_sparse_categorical_crossentropy: 0.2120 - lr: 5.0000e-04\n",
      "Epoch 12/200\n",
      "103/103 [==============================] - ETA: 0s - loss: 0.1588 - sparse_categorical_accuracy: 0.9575 - sparse_categorical_crossentropy: 0.1588"
     ]
    },
    {
     "name": "stderr",
     "output_type": "stream",
     "text": [
      "WARNING:absl:Found untraced functions such as _jit_compiled_convolution_op, _jit_compiled_convolution_op, lstm_cell_1_layer_call_fn, lstm_cell_1_layer_call_and_return_conditional_losses, lstm_cell_2_layer_call_fn while saving (showing 5 of 10). These functions will not be directly callable after loading.\n"
     ]
    },
    {
     "name": "stdout",
     "output_type": "stream",
     "text": [
      "INFO:tensorflow:Assets written to: best_model_checkpoint\\assets\n"
     ]
    },
    {
     "name": "stderr",
     "output_type": "stream",
     "text": [
      "INFO:tensorflow:Assets written to: best_model_checkpoint\\assets\n"
     ]
    },
    {
     "name": "stdout",
     "output_type": "stream",
     "text": [
      "103/103 [==============================] - 70s 667ms/step - loss: 0.1588 - sparse_categorical_accuracy: 0.9575 - sparse_categorical_crossentropy: 0.1588 - val_loss: 0.1889 - val_sparse_categorical_accuracy: 0.9471 - val_sparse_categorical_crossentropy: 0.1889 - lr: 5.0000e-04\n",
      "Epoch 13/200\n",
      "103/103 [==============================] - ETA: 0s - loss: 0.1454 - sparse_categorical_accuracy: 0.9597 - sparse_categorical_crossentropy: 0.1454"
     ]
    },
    {
     "name": "stderr",
     "output_type": "stream",
     "text": [
      "WARNING:absl:Found untraced functions such as _jit_compiled_convolution_op, _jit_compiled_convolution_op, lstm_cell_1_layer_call_fn, lstm_cell_1_layer_call_and_return_conditional_losses, lstm_cell_2_layer_call_fn while saving (showing 5 of 10). These functions will not be directly callable after loading.\n"
     ]
    },
    {
     "name": "stdout",
     "output_type": "stream",
     "text": [
      "INFO:tensorflow:Assets written to: best_model_checkpoint\\assets\n"
     ]
    },
    {
     "name": "stderr",
     "output_type": "stream",
     "text": [
      "INFO:tensorflow:Assets written to: best_model_checkpoint\\assets\n"
     ]
    },
    {
     "name": "stdout",
     "output_type": "stream",
     "text": [
      "103/103 [==============================] - 70s 665ms/step - loss: 0.1454 - sparse_categorical_accuracy: 0.9597 - sparse_categorical_crossentropy: 0.1454 - val_loss: 0.1733 - val_sparse_categorical_accuracy: 0.9523 - val_sparse_categorical_crossentropy: 0.1733 - lr: 5.0000e-04\n",
      "Epoch 14/200\n",
      "103/103 [==============================] - 50s 470ms/step - loss: 0.1378 - sparse_categorical_accuracy: 0.9621 - sparse_categorical_crossentropy: 0.1378 - val_loss: 0.1736 - val_sparse_categorical_accuracy: 0.9506 - val_sparse_categorical_crossentropy: 0.1736 - lr: 5.0000e-04\n",
      "Epoch 15/200\n",
      "103/103 [==============================] - ETA: 0s - loss: 0.1305 - sparse_categorical_accuracy: 0.9645 - sparse_categorical_crossentropy: 0.1305"
     ]
    },
    {
     "name": "stderr",
     "output_type": "stream",
     "text": [
      "WARNING:absl:Found untraced functions such as _jit_compiled_convolution_op, _jit_compiled_convolution_op, lstm_cell_1_layer_call_fn, lstm_cell_1_layer_call_and_return_conditional_losses, lstm_cell_2_layer_call_fn while saving (showing 5 of 10). These functions will not be directly callable after loading.\n"
     ]
    },
    {
     "name": "stdout",
     "output_type": "stream",
     "text": [
      "INFO:tensorflow:Assets written to: best_model_checkpoint\\assets\n"
     ]
    },
    {
     "name": "stderr",
     "output_type": "stream",
     "text": [
      "INFO:tensorflow:Assets written to: best_model_checkpoint\\assets\n"
     ]
    },
    {
     "name": "stdout",
     "output_type": "stream",
     "text": [
      "103/103 [==============================] - 68s 651ms/step - loss: 0.1305 - sparse_categorical_accuracy: 0.9645 - sparse_categorical_crossentropy: 0.1305 - val_loss: 0.1498 - val_sparse_categorical_accuracy: 0.9588 - val_sparse_categorical_crossentropy: 0.1498 - lr: 5.0000e-04\n",
      "Epoch 16/200\n",
      "103/103 [==============================] - 50s 471ms/step - loss: 0.1235 - sparse_categorical_accuracy: 0.9664 - sparse_categorical_crossentropy: 0.1235 - val_loss: 0.1963 - val_sparse_categorical_accuracy: 0.9466 - val_sparse_categorical_crossentropy: 0.1963 - lr: 5.0000e-04\n",
      "Epoch 17/200\n",
      "103/103 [==============================] - 50s 467ms/step - loss: 0.1173 - sparse_categorical_accuracy: 0.9680 - sparse_categorical_crossentropy: 0.1173 - val_loss: 0.1678 - val_sparse_categorical_accuracy: 0.9551 - val_sparse_categorical_crossentropy: 0.1678 - lr: 5.0000e-04\n",
      "Epoch 18/200\n",
      "103/103 [==============================] - ETA: 0s - loss: 0.1085 - sparse_categorical_accuracy: 0.9706 - sparse_categorical_crossentropy: 0.1085\n",
      "Epoch 18: ReduceLROnPlateau reducing learning rate to 0.0002500000118743628.\n",
      "103/103 [==============================] - 50s 469ms/step - loss: 0.1085 - sparse_categorical_accuracy: 0.9706 - sparse_categorical_crossentropy: 0.1085 - val_loss: 0.1685 - val_sparse_categorical_accuracy: 0.9555 - val_sparse_categorical_crossentropy: 0.1685 - lr: 5.0000e-04\n",
      "Epoch 19/200\n",
      "103/103 [==============================] - ETA: 0s - loss: 0.1030 - sparse_categorical_accuracy: 0.9720 - sparse_categorical_crossentropy: 0.1030"
     ]
    },
    {
     "name": "stderr",
     "output_type": "stream",
     "text": [
      "WARNING:absl:Found untraced functions such as _jit_compiled_convolution_op, _jit_compiled_convolution_op, lstm_cell_1_layer_call_fn, lstm_cell_1_layer_call_and_return_conditional_losses, lstm_cell_2_layer_call_fn while saving (showing 5 of 10). These functions will not be directly callable after loading.\n"
     ]
    },
    {
     "name": "stdout",
     "output_type": "stream",
     "text": [
      "INFO:tensorflow:Assets written to: best_model_checkpoint\\assets\n"
     ]
    },
    {
     "name": "stderr",
     "output_type": "stream",
     "text": [
      "INFO:tensorflow:Assets written to: best_model_checkpoint\\assets\n"
     ]
    },
    {
     "name": "stdout",
     "output_type": "stream",
     "text": [
      "103/103 [==============================] - 69s 654ms/step - loss: 0.1030 - sparse_categorical_accuracy: 0.9720 - sparse_categorical_crossentropy: 0.1030 - val_loss: 0.1415 - val_sparse_categorical_accuracy: 0.9612 - val_sparse_categorical_crossentropy: 0.1415 - lr: 2.5000e-04\n",
      "Epoch 20/200\n",
      "103/103 [==============================] - ETA: 0s - loss: 0.0976 - sparse_categorical_accuracy: 0.9739 - sparse_categorical_crossentropy: 0.0976"
     ]
    },
    {
     "name": "stderr",
     "output_type": "stream",
     "text": [
      "WARNING:absl:Found untraced functions such as _jit_compiled_convolution_op, _jit_compiled_convolution_op, lstm_cell_1_layer_call_fn, lstm_cell_1_layer_call_and_return_conditional_losses, lstm_cell_2_layer_call_fn while saving (showing 5 of 10). These functions will not be directly callable after loading.\n"
     ]
    },
    {
     "name": "stdout",
     "output_type": "stream",
     "text": [
      "INFO:tensorflow:Assets written to: best_model_checkpoint\\assets\n"
     ]
    },
    {
     "name": "stderr",
     "output_type": "stream",
     "text": [
      "INFO:tensorflow:Assets written to: best_model_checkpoint\\assets\n"
     ]
    },
    {
     "name": "stdout",
     "output_type": "stream",
     "text": [
      "103/103 [==============================] - 71s 672ms/step - loss: 0.0976 - sparse_categorical_accuracy: 0.9739 - sparse_categorical_crossentropy: 0.0976 - val_loss: 0.1495 - val_sparse_categorical_accuracy: 0.9627 - val_sparse_categorical_crossentropy: 0.1495 - lr: 2.5000e-04\n",
      "Epoch 21/200\n",
      "103/103 [==============================] - ETA: 0s - loss: 0.0961 - sparse_categorical_accuracy: 0.9738 - sparse_categorical_crossentropy: 0.0961"
     ]
    },
    {
     "name": "stderr",
     "output_type": "stream",
     "text": [
      "WARNING:absl:Found untraced functions such as _jit_compiled_convolution_op, _jit_compiled_convolution_op, lstm_cell_1_layer_call_fn, lstm_cell_1_layer_call_and_return_conditional_losses, lstm_cell_2_layer_call_fn while saving (showing 5 of 10). These functions will not be directly callable after loading.\n"
     ]
    },
    {
     "name": "stdout",
     "output_type": "stream",
     "text": [
      "INFO:tensorflow:Assets written to: best_model_checkpoint\\assets\n"
     ]
    },
    {
     "name": "stderr",
     "output_type": "stream",
     "text": [
      "INFO:tensorflow:Assets written to: best_model_checkpoint\\assets\n"
     ]
    },
    {
     "name": "stdout",
     "output_type": "stream",
     "text": [
      "103/103 [==============================] - 69s 656ms/step - loss: 0.0961 - sparse_categorical_accuracy: 0.9738 - sparse_categorical_crossentropy: 0.0961 - val_loss: 0.1298 - val_sparse_categorical_accuracy: 0.9658 - val_sparse_categorical_crossentropy: 0.1298 - lr: 2.5000e-04\n",
      "Epoch 22/200\n",
      "103/103 [==============================] - 49s 462ms/step - loss: 0.0905 - sparse_categorical_accuracy: 0.9750 - sparse_categorical_crossentropy: 0.0905 - val_loss: 0.1480 - val_sparse_categorical_accuracy: 0.9617 - val_sparse_categorical_crossentropy: 0.1480 - lr: 2.5000e-04\n",
      "Epoch 23/200\n",
      "103/103 [==============================] - 50s 472ms/step - loss: 0.0891 - sparse_categorical_accuracy: 0.9764 - sparse_categorical_crossentropy: 0.0891 - val_loss: 0.1422 - val_sparse_categorical_accuracy: 0.9658 - val_sparse_categorical_crossentropy: 0.1422 - lr: 2.5000e-04\n",
      "Epoch 24/200\n",
      "103/103 [==============================] - ETA: 0s - loss: 0.0910 - sparse_categorical_accuracy: 0.9762 - sparse_categorical_crossentropy: 0.0910\n",
      "Epoch 24: ReduceLROnPlateau reducing learning rate to 0.0001250000059371814.\n",
      "103/103 [==============================] - 49s 455ms/step - loss: 0.0910 - sparse_categorical_accuracy: 0.9762 - sparse_categorical_crossentropy: 0.0910 - val_loss: 0.1385 - val_sparse_categorical_accuracy: 0.9658 - val_sparse_categorical_crossentropy: 0.1385 - lr: 2.5000e-04\n",
      "Epoch 25/200\n",
      "103/103 [==============================] - ETA: 0s - loss: 0.0830 - sparse_categorical_accuracy: 0.9773 - sparse_categorical_crossentropy: 0.0830"
     ]
    },
    {
     "name": "stderr",
     "output_type": "stream",
     "text": [
      "WARNING:absl:Found untraced functions such as _jit_compiled_convolution_op, _jit_compiled_convolution_op, lstm_cell_1_layer_call_fn, lstm_cell_1_layer_call_and_return_conditional_losses, lstm_cell_2_layer_call_fn while saving (showing 5 of 10). These functions will not be directly callable after loading.\n"
     ]
    },
    {
     "name": "stdout",
     "output_type": "stream",
     "text": [
      "INFO:tensorflow:Assets written to: best_model_checkpoint\\assets\n"
     ]
    },
    {
     "name": "stderr",
     "output_type": "stream",
     "text": [
      "INFO:tensorflow:Assets written to: best_model_checkpoint\\assets\n"
     ]
    },
    {
     "name": "stdout",
     "output_type": "stream",
     "text": [
      "103/103 [==============================] - 71s 677ms/step - loss: 0.0830 - sparse_categorical_accuracy: 0.9773 - sparse_categorical_crossentropy: 0.0830 - val_loss: 0.1318 - val_sparse_categorical_accuracy: 0.9677 - val_sparse_categorical_crossentropy: 0.1318 - lr: 1.2500e-04\n",
      "Epoch 26/200\n",
      "103/103 [==============================] - 52s 487ms/step - loss: 0.0817 - sparse_categorical_accuracy: 0.9778 - sparse_categorical_crossentropy: 0.0817 - val_loss: 0.1307 - val_sparse_categorical_accuracy: 0.9675 - val_sparse_categorical_crossentropy: 0.1307 - lr: 1.2500e-04\n",
      "Epoch 27/200\n",
      "103/103 [==============================] - 50s 471ms/step - loss: 0.0791 - sparse_categorical_accuracy: 0.9781 - sparse_categorical_crossentropy: 0.0791 - val_loss: 0.1333 - val_sparse_categorical_accuracy: 0.9673 - val_sparse_categorical_crossentropy: 0.1333 - lr: 1.2500e-04\n",
      "Epoch 28/200\n",
      "103/103 [==============================] - ETA: 0s - loss: 0.0787 - sparse_categorical_accuracy: 0.9795 - sparse_categorical_crossentropy: 0.0787"
     ]
    },
    {
     "name": "stderr",
     "output_type": "stream",
     "text": [
      "WARNING:absl:Found untraced functions such as _jit_compiled_convolution_op, _jit_compiled_convolution_op, lstm_cell_1_layer_call_fn, lstm_cell_1_layer_call_and_return_conditional_losses, lstm_cell_2_layer_call_fn while saving (showing 5 of 10). These functions will not be directly callable after loading.\n"
     ]
    },
    {
     "name": "stdout",
     "output_type": "stream",
     "text": [
      "INFO:tensorflow:Assets written to: best_model_checkpoint\\assets\n"
     ]
    },
    {
     "name": "stderr",
     "output_type": "stream",
     "text": [
      "INFO:tensorflow:Assets written to: best_model_checkpoint\\assets\n"
     ]
    },
    {
     "name": "stdout",
     "output_type": "stream",
     "text": [
      "103/103 [==============================] - 70s 661ms/step - loss: 0.0787 - sparse_categorical_accuracy: 0.9795 - sparse_categorical_crossentropy: 0.0787 - val_loss: 0.1342 - val_sparse_categorical_accuracy: 0.9682 - val_sparse_categorical_crossentropy: 0.1342 - lr: 1.2500e-04\n",
      "Epoch 29/200\n",
      "103/103 [==============================] - ETA: 0s - loss: 0.0782 - sparse_categorical_accuracy: 0.9788 - sparse_categorical_crossentropy: 0.0782"
     ]
    },
    {
     "name": "stderr",
     "output_type": "stream",
     "text": [
      "WARNING:absl:Found untraced functions such as _jit_compiled_convolution_op, _jit_compiled_convolution_op, lstm_cell_1_layer_call_fn, lstm_cell_1_layer_call_and_return_conditional_losses, lstm_cell_2_layer_call_fn while saving (showing 5 of 10). These functions will not be directly callable after loading.\n"
     ]
    },
    {
     "name": "stdout",
     "output_type": "stream",
     "text": [
      "INFO:tensorflow:Assets written to: best_model_checkpoint\\assets\n"
     ]
    },
    {
     "name": "stderr",
     "output_type": "stream",
     "text": [
      "INFO:tensorflow:Assets written to: best_model_checkpoint\\assets\n"
     ]
    },
    {
     "name": "stdout",
     "output_type": "stream",
     "text": [
      "103/103 [==============================] - 70s 668ms/step - loss: 0.0782 - sparse_categorical_accuracy: 0.9788 - sparse_categorical_crossentropy: 0.0782 - val_loss: 0.1318 - val_sparse_categorical_accuracy: 0.9686 - val_sparse_categorical_crossentropy: 0.1318 - lr: 1.2500e-04\n",
      "Epoch 30/200\n",
      "103/103 [==============================] - 49s 464ms/step - loss: 0.0741 - sparse_categorical_accuracy: 0.9805 - sparse_categorical_crossentropy: 0.0741 - val_loss: 0.1410 - val_sparse_categorical_accuracy: 0.9674 - val_sparse_categorical_crossentropy: 0.1410 - lr: 1.2500e-04\n",
      "Epoch 31/200\n",
      "103/103 [==============================] - 49s 465ms/step - loss: 0.0749 - sparse_categorical_accuracy: 0.9796 - sparse_categorical_crossentropy: 0.0749 - val_loss: 0.1372 - val_sparse_categorical_accuracy: 0.9667 - val_sparse_categorical_crossentropy: 0.1372 - lr: 1.2500e-04\n",
      "Epoch 32/200\n",
      "103/103 [==============================] - ETA: 0s - loss: 0.0764 - sparse_categorical_accuracy: 0.9795 - sparse_categorical_crossentropy: 0.0764\n",
      "Epoch 32: ReduceLROnPlateau reducing learning rate to 6.25000029685907e-05.\n",
      "103/103 [==============================] - 49s 461ms/step - loss: 0.0764 - sparse_categorical_accuracy: 0.9795 - sparse_categorical_crossentropy: 0.0764 - val_loss: 0.1340 - val_sparse_categorical_accuracy: 0.9677 - val_sparse_categorical_crossentropy: 0.1340 - lr: 1.2500e-04\n",
      "Epoch 33/200\n",
      "103/103 [==============================] - 50s 467ms/step - loss: 0.0747 - sparse_categorical_accuracy: 0.9803 - sparse_categorical_crossentropy: 0.0747 - val_loss: 0.1297 - val_sparse_categorical_accuracy: 0.9680 - val_sparse_categorical_crossentropy: 0.1297 - lr: 6.2500e-05\n",
      "Epoch 34/200\n",
      "103/103 [==============================] - 49s 458ms/step - loss: 0.0712 - sparse_categorical_accuracy: 0.9816 - sparse_categorical_crossentropy: 0.0712 - val_loss: 0.1294 - val_sparse_categorical_accuracy: 0.9676 - val_sparse_categorical_crossentropy: 0.1294 - lr: 6.2500e-05\n"
     ]
    }
   ],
   "source": [
    "history = model.fit(\n",
    "    train_dataset,\n",
    "    epochs=MAX_EPOCHS,\n",
    "    validation_data=validation_dataset,\n",
    "    callbacks=[early_stopping, reduce_lr, model_checkpoint]\n",
    ")"
   ],
   "metadata": {
    "collapsed": false,
    "ExecuteTime": {
     "start_time": "2023-04-24T17:30:17.761575Z",
     "end_time": "2023-04-24T18:03:54.976791Z"
    }
   }
  },
  {
   "cell_type": "code",
   "execution_count": 12,
   "outputs": [
    {
     "name": "stdout",
     "output_type": "stream",
     "text": [
      "310/310 [==============================] - 55s 174ms/step\n"
     ]
    }
   ],
   "source": [
    "predictions = model.predict(test_dataset)"
   ],
   "metadata": {
    "collapsed": false,
    "ExecuteTime": {
     "start_time": "2023-04-24T18:03:54.979781Z",
     "end_time": "2023-04-24T18:04:50.260579Z"
    }
   }
  },
  {
   "cell_type": "code",
   "execution_count": 13,
   "outputs": [],
   "source": [
    "predict_class = np.array(list(label_names[i] for i in np.argmax(predictions, axis=1)))"
   ],
   "metadata": {
    "collapsed": false,
    "ExecuteTime": {
     "start_time": "2023-04-24T18:04:50.263568Z",
     "end_time": "2023-04-24T18:04:50.404120Z"
    }
   }
  },
  {
   "cell_type": "code",
   "execution_count": 14,
   "outputs": [],
   "source": [
    "for i, (root, dir, fname) in enumerate(os.walk(os.path.join(TEST_PATH, 'audio'))):\n",
    "    files = np.array(fname)"
   ],
   "metadata": {
    "collapsed": false,
    "ExecuteTime": {
     "start_time": "2023-04-24T18:04:50.403122Z",
     "end_time": "2023-04-24T18:04:50.854042Z"
    }
   }
  },
  {
   "cell_type": "code",
   "execution_count": 18,
   "outputs": [],
   "source": [
    "submission = pd.DataFrame(np.vstack([files, predict_class]).T, columns=[\"fname\", \"label\"])\n",
    "submission.to_csv(\"submission.csv\", index=False)"
   ],
   "metadata": {
    "collapsed": false,
    "ExecuteTime": {
     "start_time": "2023-04-24T18:09:01.801174Z",
     "end_time": "2023-04-24T18:09:02.031449Z"
    }
   }
  }
 ],
 "metadata": {
  "kernelspec": {
   "display_name": "Python 3",
   "language": "python",
   "name": "python3"
  },
  "language_info": {
   "codemirror_mode": {
    "name": "ipython",
    "version": 2
   },
   "file_extension": ".py",
   "mimetype": "text/x-python",
   "name": "python",
   "nbconvert_exporter": "python",
   "pygments_lexer": "ipython2",
   "version": "2.7.6"
  }
 },
 "nbformat": 4,
 "nbformat_minor": 0
}
