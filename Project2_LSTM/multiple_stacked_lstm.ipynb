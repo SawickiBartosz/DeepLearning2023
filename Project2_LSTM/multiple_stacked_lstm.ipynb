{
 "cells": [
  {
   "cell_type": "code",
   "execution_count": 1,
   "metadata": {
    "collapsed": false,
    "jupyter": {
     "outputs_hidden": false
    },
    "ExecuteTime": {
     "start_time": "2023-04-23T20:00:29.521019Z",
     "end_time": "2023-04-23T20:00:34.816082Z"
    }
   },
   "outputs": [],
   "source": [
    "import gc\n",
    "import os\n",
    "import pickle\n",
    "import random\n",
    "import shutil\n",
    "\n",
    "import numpy as np\n",
    "import pandas as pd\n",
    "import tensorflow as tf\n",
    "from keras import losses, optimizers, metrics, callbacks, layers, Model\n",
    "from SpeechModels import get_melspec_model"
   ]
  },
  {
   "cell_type": "code",
   "execution_count": 2,
   "metadata": {
    "collapsed": false,
    "jupyter": {
     "outputs_hidden": false
    },
    "ExecuteTime": {
     "start_time": "2023-04-23T20:00:34.818075Z",
     "end_time": "2023-04-23T20:00:35.813409Z"
    }
   },
   "outputs": [
    {
     "data": {
      "text/plain": "[LogicalDevice(name='/device:CPU:0', device_type='CPU'),\n LogicalDevice(name='/device:GPU:0', device_type='GPU')]"
     },
     "execution_count": 2,
     "metadata": {},
     "output_type": "execute_result"
    }
   ],
   "source": [
    "tf.config.list_logical_devices()"
   ]
  },
  {
   "cell_type": "code",
   "execution_count": 3,
   "metadata": {
    "collapsed": false,
    "jupyter": {
     "outputs_hidden": false
    },
    "ExecuteTime": {
     "start_time": "2023-04-23T20:00:35.815402Z",
     "end_time": "2023-04-23T20:00:35.858091Z"
    }
   },
   "outputs": [],
   "source": [
    "SEED = 123\n",
    "N_CLASS = 12\n",
    "MAX_EPOCHS = 200"
   ]
  },
  {
   "cell_type": "code",
   "execution_count": 4,
   "metadata": {
    "collapsed": false,
    "jupyter": {
     "outputs_hidden": false
    },
    "ExecuteTime": {
     "start_time": "2023-04-23T20:00:35.830352Z",
     "end_time": "2023-04-23T20:00:35.868058Z"
    }
   },
   "outputs": [],
   "source": [
    "random.seed(SEED)\n",
    "np.random.seed(SEED)\n",
    "tf.random.set_seed(SEED)"
   ]
  },
  {
   "cell_type": "markdown",
   "source": [
    "## Load data"
   ],
   "metadata": {
    "collapsed": false
   }
  },
  {
   "cell_type": "code",
   "execution_count": 5,
   "outputs": [
    {
     "name": "stdout",
     "output_type": "stream",
     "text": [
      "Found 45586 files belonging to 12 classes.\n",
      "Found 6513 files belonging to 12 classes.\n",
      "Found 13024 files belonging to 12 classes.\n",
      "label names: ['down' 'go' 'left' 'no' 'off' 'on' 'right' 'silence' 'stop' 'unknown'\n",
      " 'up' 'yes']\n"
     ]
    }
   ],
   "source": [
    "train_ds = tf.keras.utils.audio_dataset_from_directory(\n",
    "    directory=\"data/train\",\n",
    "    batch_size=512,\n",
    "    output_sequence_length=16000,\n",
    "    shuffle=True,\n",
    "    seed=SEED\n",
    ")\n",
    "\n",
    "val_ds = tf.keras.utils.audio_dataset_from_directory(\n",
    "    directory=\"data/val\",\n",
    "    batch_size=512,\n",
    "    output_sequence_length=16000,\n",
    "    shuffle=False\n",
    ")\n",
    "\n",
    "test_ds = tf.keras.utils.audio_dataset_from_directory(\n",
    "    directory=\"data/test\",\n",
    "    batch_size=512,\n",
    "    output_sequence_length=16000,\n",
    "    shuffle=False\n",
    ")\n",
    "\n",
    "label_names = np.array(train_ds.class_names)\n",
    "print(\"label names:\", label_names)"
   ],
   "metadata": {
    "collapsed": false,
    "ExecuteTime": {
     "start_time": "2023-04-23T20:00:35.847128Z",
     "end_time": "2023-04-23T20:00:42.200998Z"
    }
   }
  },
  {
   "cell_type": "code",
   "execution_count": 6,
   "outputs": [],
   "source": [
    "def squeeze(audio, labels):\n",
    "    audio = tf.squeeze(audio, axis=-1)\n",
    "    return audio, labels\n",
    "\n",
    "\n",
    "train_ds = train_ds.map(squeeze, tf.data.AUTOTUNE)\n",
    "val_ds = val_ds.map(squeeze, tf.data.AUTOTUNE)\n",
    "test_ds = test_ds.map(squeeze, tf.data.AUTOTUNE)"
   ],
   "metadata": {
    "collapsed": false,
    "ExecuteTime": {
     "start_time": "2023-04-23T20:00:42.200998Z",
     "end_time": "2023-04-23T20:00:42.263789Z"
    }
   }
  },
  {
   "cell_type": "markdown",
   "metadata": {},
   "source": [
    "## Model stacked bidirectional lstm"
   ]
  },
  {
   "cell_type": "code",
   "execution_count": 7,
   "outputs": [
    {
     "name": "stdout",
     "output_type": "stream",
     "text": [
      "Model: \"model\"\n",
      "__________________________________________________________________________________________________\n",
      " Layer (type)                   Output Shape         Param #     Connected to                     \n",
      "==================================================================================================\n",
      " input (InputLayer)             [(None, 16000)]      0           []                               \n",
      "                                                                                                  \n",
      " tf.signal.stft (TFOpLambda)    (None, 125, 513)     0           ['input[0][0]']                  \n",
      "                                                                                                  \n",
      " tf.math.abs (TFOpLambda)       (None, 125, 513)     0           ['tf.signal.stft[0][0]']         \n",
      "                                                                                                  \n",
      " tf.tensordot (TFOpLambda)      (None, 125, 80)      0           ['tf.math.abs[0][0]']            \n",
      "                                                                                                  \n",
      " tf.__operators__.add (TFOpLamb  (None, 125, 80)     0           ['tf.tensordot[0][0]']           \n",
      " da)                                                                                              \n",
      "                                                                                                  \n",
      " tf.math.log (TFOpLambda)       (None, 125, 80)      0           ['tf.__operators__.add[0][0]']   \n",
      "                                                                                                  \n",
      " tf.math.reduce_mean (TFOpLambd  ()                  0           ['tf.math.log[0][0]']            \n",
      " a)                                                                                               \n",
      "                                                                                                  \n",
      " tf.math.subtract (TFOpLambda)  (None, 125, 80)      0           ['tf.math.log[0][0]',            \n",
      "                                                                  'tf.math.reduce_mean[0][0]']    \n",
      "                                                                                                  \n",
      " tf.math.reduce_std (TFOpLambda  ()                  0           ['tf.math.log[0][0]']            \n",
      " )                                                                                                \n",
      "                                                                                                  \n",
      " tf.math.truediv (TFOpLambda)   (None, 125, 80)      0           ['tf.math.subtract[0][0]',       \n",
      "                                                                  'tf.math.reduce_std[0][0]']     \n",
      "                                                                                                  \n",
      " bidirectional (Bidirectional)  (None, 512)          690176      ['tf.math.truediv[0][0]']        \n",
      "                                                                                                  \n",
      " dense (Dense)                  (None, 12)           6156        ['bidirectional[0][0]']          \n",
      "                                                                                                  \n",
      "==================================================================================================\n",
      "Total params: 696,332\n",
      "Trainable params: 696,332\n",
      "Non-trainable params: 0\n",
      "__________________________________________________________________________________________________\n"
     ]
    }
   ],
   "source": [
    "def create_bidirectional_model(number_of_layers):\n",
    "    mel_spec_model = get_melspec_model(16000)\n",
    "    inputs, outputs = mel_spec_model.inputs, mel_spec_model.outputs\n",
    "    x = outputs[0]\n",
    "    for i in range(0, number_of_layers):\n",
    "        if i != number_of_layers - 1:\n",
    "            x = layers.Bidirectional(layers.LSTM(2 ** (8 - i), return_sequences=True))(x)\n",
    "        else:\n",
    "            x = layers.Bidirectional(layers.LSTM(2 ** (8 - i)))(x)\n",
    "    out = layers.Dense(N_CLASS, activation=\"softmax\")(x)\n",
    "    return Model(inputs=inputs, outputs=out)\n",
    "\n",
    "\n",
    "model = create_bidirectional_model(1)\n",
    "model.summary()"
   ],
   "metadata": {
    "collapsed": false,
    "ExecuteTime": {
     "start_time": "2023-04-23T20:00:42.266778Z",
     "end_time": "2023-04-23T20:00:43.032246Z"
    }
   }
  },
  {
   "cell_type": "code",
   "execution_count": 8,
   "outputs": [],
   "source": [
    "model.compile(\n",
    "    optimizer=optimizers.Adam(learning_rate=0.001),\n",
    "    loss=losses.SparseCategoricalCrossentropy(),\n",
    "    metrics=[metrics.SparseCategoricalAccuracy(), metrics.SparseCategoricalCrossentropy()]\n",
    ")\n",
    "\n",
    "early_stopping = callbacks.EarlyStopping(\n",
    "    monitor='val_sparse_categorical_accuracy',\n",
    "    min_delta=0,\n",
    "    patience=5,\n",
    "    verbose=0,\n",
    "    mode='max',\n",
    "    baseline=None,\n",
    "    restore_best_weights=True\n",
    ")\n",
    "\n",
    "reduce_lr = callbacks.ReduceLROnPlateau(monitor='val_sparse_categorical_accuracy', factor=0.5, patience=3,\n",
    "                                        min_lr=0.00001, verbose=1)"
   ],
   "metadata": {
    "collapsed": false,
    "ExecuteTime": {
     "start_time": "2023-04-23T20:00:43.034240Z",
     "end_time": "2023-04-23T20:00:43.091049Z"
    }
   }
  },
  {
   "cell_type": "code",
   "execution_count": 9,
   "outputs": [
    {
     "name": "stdout",
     "output_type": "stream",
     "text": [
      "Epoch 1/2\n",
      "90/90 [==============================] - 22s 119ms/step - loss: 1.3683 - sparse_categorical_accuracy: 0.6332 - sparse_categorical_crossentropy: 1.3683 - val_loss: 1.0421 - val_sparse_categorical_accuracy: 0.6846 - val_sparse_categorical_crossentropy: 1.0421 - lr: 0.0010\n",
      "Epoch 2/2\n",
      "90/90 [==============================] - 13s 132ms/step - loss: 0.8793 - sparse_categorical_accuracy: 0.7297 - sparse_categorical_crossentropy: 0.8793 - val_loss: 0.7920 - val_sparse_categorical_accuracy: 0.7464 - val_sparse_categorical_crossentropy: 0.7920 - lr: 0.0010\n"
     ]
    }
   ],
   "source": [
    "history = model.fit(\n",
    "    train_ds,\n",
    "    epochs=2,\n",
    "    validation_data=val_ds,\n",
    "    shuffle=True,\n",
    "    callbacks=[early_stopping, reduce_lr]\n",
    ")"
   ],
   "metadata": {
    "collapsed": false,
    "ExecuteTime": {
     "start_time": "2023-04-23T20:00:43.063143Z",
     "end_time": "2023-04-23T20:01:17.982559Z"
    }
   }
  },
  {
   "cell_type": "code",
   "execution_count": 10,
   "outputs": [
    {
     "name": "stdout",
     "output_type": "stream",
     "text": [
      "Model: \"model_1\"\n",
      "__________________________________________________________________________________________________\n",
      " Layer (type)                   Output Shape         Param #     Connected to                     \n",
      "==================================================================================================\n",
      " input (InputLayer)             [(None, 16000)]      0           []                               \n",
      "                                                                                                  \n",
      " tf.signal.stft_1 (TFOpLambda)  (None, 125, 513)     0           ['input[0][0]']                  \n",
      "                                                                                                  \n",
      " tf.math.abs_1 (TFOpLambda)     (None, 125, 513)     0           ['tf.signal.stft_1[0][0]']       \n",
      "                                                                                                  \n",
      " tf.tensordot_1 (TFOpLambda)    (None, 125, 80)      0           ['tf.math.abs_1[0][0]']          \n",
      "                                                                                                  \n",
      " tf.__operators__.add_1 (TFOpLa  (None, 125, 80)     0           ['tf.tensordot_1[0][0]']         \n",
      " mbda)                                                                                            \n",
      "                                                                                                  \n",
      " tf.math.log_1 (TFOpLambda)     (None, 125, 80)      0           ['tf.__operators__.add_1[0][0]'] \n",
      "                                                                                                  \n",
      " tf.math.reduce_mean_1 (TFOpLam  ()                  0           ['tf.math.log_1[0][0]']          \n",
      " bda)                                                                                             \n",
      "                                                                                                  \n",
      " tf.math.subtract_1 (TFOpLambda  (None, 125, 80)     0           ['tf.math.log_1[0][0]',          \n",
      " )                                                                'tf.math.reduce_mean_1[0][0]']  \n",
      "                                                                                                  \n",
      " tf.math.reduce_std_1 (TFOpLamb  ()                  0           ['tf.math.log_1[0][0]']          \n",
      " da)                                                                                              \n",
      "                                                                                                  \n",
      " tf.math.truediv_1 (TFOpLambda)  (None, 125, 80)     0           ['tf.math.subtract_1[0][0]',     \n",
      "                                                                  'tf.math.reduce_std_1[0][0]']   \n",
      "                                                                                                  \n",
      " bidirectional_1 (Bidirectional  (None, 125, 512)    690176      ['tf.math.truediv_1[0][0]']      \n",
      " )                                                                                                \n",
      "                                                                                                  \n",
      " bidirectional_2 (Bidirectional  (None, 256)         656384      ['bidirectional_1[0][0]']        \n",
      " )                                                                                                \n",
      "                                                                                                  \n",
      " dense_1 (Dense)                (None, 12)           3084        ['bidirectional_2[0][0]']        \n",
      "                                                                                                  \n",
      "==================================================================================================\n",
      "Total params: 1,349,644\n",
      "Trainable params: 1,349,644\n",
      "Non-trainable params: 0\n",
      "__________________________________________________________________________________________________\n"
     ]
    }
   ],
   "source": [
    "model = create_bidirectional_model(2)\n",
    "model.summary()"
   ],
   "metadata": {
    "collapsed": false,
    "ExecuteTime": {
     "start_time": "2023-04-23T20:01:17.987543Z",
     "end_time": "2023-04-23T20:01:18.994176Z"
    }
   }
  },
  {
   "cell_type": "code",
   "execution_count": 11,
   "outputs": [],
   "source": [
    "model.compile(\n",
    "    optimizer=optimizers.Adam(learning_rate=0.001),\n",
    "    loss=losses.SparseCategoricalCrossentropy(),\n",
    "    metrics=[metrics.SparseCategoricalAccuracy(), metrics.SparseCategoricalCrossentropy()]\n",
    ")\n",
    "\n",
    "early_stopping = callbacks.EarlyStopping(\n",
    "    monitor='val_sparse_categorical_accuracy',\n",
    "    min_delta=0,\n",
    "    patience=5,\n",
    "    verbose=0,\n",
    "    mode='max',\n",
    "    baseline=None,\n",
    "    restore_best_weights=True\n",
    ")\n",
    "\n",
    "reduce_lr = callbacks.ReduceLROnPlateau(monitor='val_sparse_categorical_accuracy', factor=0.5, patience=3,\n",
    "                                        min_lr=0.00001, verbose=1)"
   ],
   "metadata": {
    "collapsed": false,
    "ExecuteTime": {
     "start_time": "2023-04-23T20:01:18.958294Z",
     "end_time": "2023-04-23T20:01:18.995172Z"
    }
   }
  },
  {
   "cell_type": "code",
   "execution_count": 12,
   "outputs": [
    {
     "data": {
      "text/plain": "14815"
     },
     "execution_count": 12,
     "metadata": {},
     "output_type": "execute_result"
    }
   ],
   "source": [
    "del model\n",
    "gc.collect()"
   ],
   "metadata": {
    "collapsed": false,
    "ExecuteTime": {
     "start_time": "2023-04-23T20:01:18.973244Z",
     "end_time": "2023-04-23T20:01:19.097828Z"
    }
   }
  },
  {
   "cell_type": "markdown",
   "metadata": {},
   "source": [
    "## Experiments\n",
    "\n",
    "Training will be repeated 5 times with different weights initialization. For each number of layers, we created another directory with results."
   ]
  },
  {
   "cell_type": "code",
   "execution_count": 13,
   "outputs": [
    {
     "name": "stdout",
     "output_type": "stream",
     "text": [
      "Epoch 1/200\n",
      "90/90 [==============================] - 16s 139ms/step - loss: 1.3532 - sparse_categorical_accuracy: 0.6428 - sparse_categorical_crossentropy: 1.3532 - val_loss: 1.0181 - val_sparse_categorical_accuracy: 0.6886 - val_sparse_categorical_crossentropy: 1.0181 - lr: 0.0100\n",
      "Epoch 2/200\n",
      "90/90 [==============================] - 13s 137ms/step - loss: 0.8273 - sparse_categorical_accuracy: 0.7439 - sparse_categorical_crossentropy: 0.8273 - val_loss: 0.7619 - val_sparse_categorical_accuracy: 0.7589 - val_sparse_categorical_crossentropy: 0.7619 - lr: 0.0100\n",
      "Epoch 3/200\n",
      "90/90 [==============================] - 14s 138ms/step - loss: 0.6551 - sparse_categorical_accuracy: 0.7939 - sparse_categorical_crossentropy: 0.6551 - val_loss: 0.5667 - val_sparse_categorical_accuracy: 0.8207 - val_sparse_categorical_crossentropy: 0.5667 - lr: 0.0100\n",
      "Epoch 4/200\n",
      "90/90 [==============================] - 14s 143ms/step - loss: 0.5387 - sparse_categorical_accuracy: 0.8291 - sparse_categorical_crossentropy: 0.5387 - val_loss: 0.5150 - val_sparse_categorical_accuracy: 0.8357 - val_sparse_categorical_crossentropy: 0.5150 - lr: 0.0100\n",
      "Epoch 5/200\n",
      "90/90 [==============================] - 14s 140ms/step - loss: 0.5053 - sparse_categorical_accuracy: 0.8392 - sparse_categorical_crossentropy: 0.5053 - val_loss: 0.4624 - val_sparse_categorical_accuracy: 0.8462 - val_sparse_categorical_crossentropy: 0.4624 - lr: 0.0100\n",
      "Epoch 6/200\n",
      "90/90 [==============================] - 14s 138ms/step - loss: 0.5413 - sparse_categorical_accuracy: 0.8313 - sparse_categorical_crossentropy: 0.5413 - val_loss: 0.5210 - val_sparse_categorical_accuracy: 0.8311 - val_sparse_categorical_crossentropy: 0.5210 - lr: 0.0100\n",
      "Epoch 7/200\n",
      "90/90 [==============================] - 14s 139ms/step - loss: 0.4473 - sparse_categorical_accuracy: 0.8601 - sparse_categorical_crossentropy: 0.4473 - val_loss: 0.4540 - val_sparse_categorical_accuracy: 0.8501 - val_sparse_categorical_crossentropy: 0.4540 - lr: 0.0100\n",
      "Epoch 8/200\n",
      "90/90 [==============================] - 14s 139ms/step - loss: 0.3826 - sparse_categorical_accuracy: 0.8815 - sparse_categorical_crossentropy: 0.3826 - val_loss: 0.4252 - val_sparse_categorical_accuracy: 0.8580 - val_sparse_categorical_crossentropy: 0.4252 - lr: 0.0100\n",
      "Epoch 9/200\n",
      "90/90 [==============================] - 14s 139ms/step - loss: 0.3744 - sparse_categorical_accuracy: 0.8835 - sparse_categorical_crossentropy: 0.3744 - val_loss: 0.4025 - val_sparse_categorical_accuracy: 0.8700 - val_sparse_categorical_crossentropy: 0.4025 - lr: 0.0100\n",
      "Epoch 10/200\n",
      "90/90 [==============================] - 14s 139ms/step - loss: 0.3724 - sparse_categorical_accuracy: 0.8826 - sparse_categorical_crossentropy: 0.3724 - val_loss: 0.3807 - val_sparse_categorical_accuracy: 0.8779 - val_sparse_categorical_crossentropy: 0.3807 - lr: 0.0100\n",
      "Epoch 11/200\n",
      "90/90 [==============================] - 14s 139ms/step - loss: 0.3636 - sparse_categorical_accuracy: 0.8853 - sparse_categorical_crossentropy: 0.3636 - val_loss: 0.3645 - val_sparse_categorical_accuracy: 0.8870 - val_sparse_categorical_crossentropy: 0.3645 - lr: 0.0100\n",
      "Epoch 12/200\n",
      "90/90 [==============================] - 14s 139ms/step - loss: 0.3356 - sparse_categorical_accuracy: 0.8954 - sparse_categorical_crossentropy: 0.3356 - val_loss: 0.3213 - val_sparse_categorical_accuracy: 0.9019 - val_sparse_categorical_crossentropy: 0.3213 - lr: 0.0100\n",
      "Epoch 13/200\n",
      "90/90 [==============================] - 14s 140ms/step - loss: 0.2906 - sparse_categorical_accuracy: 0.9094 - sparse_categorical_crossentropy: 0.2906 - val_loss: 0.3342 - val_sparse_categorical_accuracy: 0.8941 - val_sparse_categorical_crossentropy: 0.3342 - lr: 0.0100\n",
      "Epoch 14/200\n",
      "90/90 [==============================] - 14s 140ms/step - loss: 0.2962 - sparse_categorical_accuracy: 0.9071 - sparse_categorical_crossentropy: 0.2962 - val_loss: 0.3120 - val_sparse_categorical_accuracy: 0.9019 - val_sparse_categorical_crossentropy: 0.3120 - lr: 0.0100\n",
      "Epoch 15/200\n",
      "90/90 [==============================] - 14s 140ms/step - loss: 0.2741 - sparse_categorical_accuracy: 0.9157 - sparse_categorical_crossentropy: 0.2741 - val_loss: 0.2932 - val_sparse_categorical_accuracy: 0.9090 - val_sparse_categorical_crossentropy: 0.2932 - lr: 0.0100\n",
      "Epoch 16/200\n",
      "90/90 [==============================] - 14s 143ms/step - loss: 0.2701 - sparse_categorical_accuracy: 0.9153 - sparse_categorical_crossentropy: 0.2701 - val_loss: 0.3199 - val_sparse_categorical_accuracy: 0.8954 - val_sparse_categorical_crossentropy: 0.3199 - lr: 0.0100\n",
      "Epoch 17/200\n",
      "90/90 [==============================] - 14s 140ms/step - loss: 0.2717 - sparse_categorical_accuracy: 0.9153 - sparse_categorical_crossentropy: 0.2717 - val_loss: 0.2848 - val_sparse_categorical_accuracy: 0.9086 - val_sparse_categorical_crossentropy: 0.2848 - lr: 0.0100\n",
      "Epoch 18/200\n",
      "90/90 [==============================] - 14s 141ms/step - loss: 0.2407 - sparse_categorical_accuracy: 0.9245 - sparse_categorical_crossentropy: 0.2407 - val_loss: 0.2603 - val_sparse_categorical_accuracy: 0.9182 - val_sparse_categorical_crossentropy: 0.2603 - lr: 0.0100\n",
      "Epoch 19/200\n",
      "90/90 [==============================] - 14s 139ms/step - loss: 0.2502 - sparse_categorical_accuracy: 0.9204 - sparse_categorical_crossentropy: 0.2502 - val_loss: 0.2992 - val_sparse_categorical_accuracy: 0.9074 - val_sparse_categorical_crossentropy: 0.2992 - lr: 0.0100\n",
      "Epoch 20/200\n",
      "90/90 [==============================] - 14s 141ms/step - loss: 0.2758 - sparse_categorical_accuracy: 0.9121 - sparse_categorical_crossentropy: 0.2758 - val_loss: 0.3390 - val_sparse_categorical_accuracy: 0.8908 - val_sparse_categorical_crossentropy: 0.3390 - lr: 0.0100\n",
      "Epoch 21/200\n",
      "89/90 [============================>.] - ETA: 0s - loss: 0.3010 - sparse_categorical_accuracy: 0.9048 - sparse_categorical_crossentropy: 0.3010\n",
      "Epoch 21: ReduceLROnPlateau reducing learning rate to 0.004999999888241291.\n",
      "90/90 [==============================] - 14s 141ms/step - loss: 0.3010 - sparse_categorical_accuracy: 0.9048 - sparse_categorical_crossentropy: 0.3010 - val_loss: 0.3294 - val_sparse_categorical_accuracy: 0.8961 - val_sparse_categorical_crossentropy: 0.3294 - lr: 0.0100\n",
      "Epoch 22/200\n",
      "90/90 [==============================] - 14s 142ms/step - loss: 0.2465 - sparse_categorical_accuracy: 0.9231 - sparse_categorical_crossentropy: 0.2465 - val_loss: 0.2483 - val_sparse_categorical_accuracy: 0.9214 - val_sparse_categorical_crossentropy: 0.2483 - lr: 0.0050\n",
      "Epoch 23/200\n",
      "90/90 [==============================] - 14s 143ms/step - loss: 0.2115 - sparse_categorical_accuracy: 0.9330 - sparse_categorical_crossentropy: 0.2115 - val_loss: 0.2513 - val_sparse_categorical_accuracy: 0.9186 - val_sparse_categorical_crossentropy: 0.2513 - lr: 0.0050\n",
      "Epoch 24/200\n",
      "90/90 [==============================] - 14s 142ms/step - loss: 0.1957 - sparse_categorical_accuracy: 0.9381 - sparse_categorical_crossentropy: 0.1957 - val_loss: 0.2381 - val_sparse_categorical_accuracy: 0.9248 - val_sparse_categorical_crossentropy: 0.2381 - lr: 0.0050\n",
      "Epoch 25/200\n",
      "90/90 [==============================] - 14s 142ms/step - loss: 0.1947 - sparse_categorical_accuracy: 0.9393 - sparse_categorical_crossentropy: 0.1947 - val_loss: 0.2433 - val_sparse_categorical_accuracy: 0.9237 - val_sparse_categorical_crossentropy: 0.2433 - lr: 0.0050\n",
      "Epoch 26/200\n",
      "90/90 [==============================] - 14s 142ms/step - loss: 0.1659 - sparse_categorical_accuracy: 0.9479 - sparse_categorical_crossentropy: 0.1659 - val_loss: 0.2154 - val_sparse_categorical_accuracy: 0.9370 - val_sparse_categorical_crossentropy: 0.2154 - lr: 0.0050\n",
      "Epoch 27/200\n",
      "90/90 [==============================] - 14s 143ms/step - loss: 0.1518 - sparse_categorical_accuracy: 0.9531 - sparse_categorical_crossentropy: 0.1518 - val_loss: 0.2263 - val_sparse_categorical_accuracy: 0.9323 - val_sparse_categorical_crossentropy: 0.2263 - lr: 0.0050\n",
      "Epoch 28/200\n",
      "90/90 [==============================] - 14s 143ms/step - loss: 0.1452 - sparse_categorical_accuracy: 0.9549 - sparse_categorical_crossentropy: 0.1452 - val_loss: 0.2288 - val_sparse_categorical_accuracy: 0.9298 - val_sparse_categorical_crossentropy: 0.2288 - lr: 0.0050\n",
      "Epoch 29/200\n",
      "90/90 [==============================] - ETA: 0s - loss: 0.1659 - sparse_categorical_accuracy: 0.9469 - sparse_categorical_crossentropy: 0.1659\n",
      "Epoch 29: ReduceLROnPlateau reducing learning rate to 0.0024999999441206455.\n",
      "90/90 [==============================] - 14s 144ms/step - loss: 0.1659 - sparse_categorical_accuracy: 0.9469 - sparse_categorical_crossentropy: 0.1659 - val_loss: 0.2622 - val_sparse_categorical_accuracy: 0.9212 - val_sparse_categorical_crossentropy: 0.2622 - lr: 0.0050\n",
      "Epoch 30/200\n",
      "90/90 [==============================] - 14s 144ms/step - loss: 0.1399 - sparse_categorical_accuracy: 0.9570 - sparse_categorical_crossentropy: 0.1399 - val_loss: 0.2162 - val_sparse_categorical_accuracy: 0.9329 - val_sparse_categorical_crossentropy: 0.2162 - lr: 0.0025\n",
      "Epoch 31/200\n",
      "90/90 [==============================] - 14s 144ms/step - loss: 0.1124 - sparse_categorical_accuracy: 0.9657 - sparse_categorical_crossentropy: 0.1124 - val_loss: 0.2102 - val_sparse_categorical_accuracy: 0.9357 - val_sparse_categorical_crossentropy: 0.2102 - lr: 0.0025\n",
      "26/26 [==============================] - 3s 130ms/step - loss: 0.2276 - sparse_categorical_accuracy: 0.9299 - sparse_categorical_crossentropy: 0.2276\n",
      "26/26 [==============================] - 4s 123ms/step\n",
      "Epoch 1/200\n",
      "90/90 [==============================] - 17s 150ms/step - loss: 1.3407 - sparse_categorical_accuracy: 0.6443 - sparse_categorical_crossentropy: 1.3407 - val_loss: 0.9740 - val_sparse_categorical_accuracy: 0.7097 - val_sparse_categorical_crossentropy: 0.9740 - lr: 0.0100\n",
      "Epoch 2/200\n",
      "90/90 [==============================] - 15s 151ms/step - loss: 0.8048 - sparse_categorical_accuracy: 0.7506 - sparse_categorical_crossentropy: 0.8048 - val_loss: 0.8169 - val_sparse_categorical_accuracy: 0.7396 - val_sparse_categorical_crossentropy: 0.8169 - lr: 0.0100\n",
      "Epoch 3/200\n",
      "90/90 [==============================] - 15s 153ms/step - loss: 0.6437 - sparse_categorical_accuracy: 0.8028 - sparse_categorical_crossentropy: 0.6437 - val_loss: 0.5671 - val_sparse_categorical_accuracy: 0.8194 - val_sparse_categorical_crossentropy: 0.5671 - lr: 0.0100\n",
      "Epoch 4/200\n",
      "90/90 [==============================] - 15s 151ms/step - loss: 0.5040 - sparse_categorical_accuracy: 0.8437 - sparse_categorical_crossentropy: 0.5040 - val_loss: 0.4264 - val_sparse_categorical_accuracy: 0.8664 - val_sparse_categorical_crossentropy: 0.4264 - lr: 0.0100\n",
      "Epoch 5/200\n",
      "90/90 [==============================] - 15s 152ms/step - loss: 0.4365 - sparse_categorical_accuracy: 0.8647 - sparse_categorical_crossentropy: 0.4365 - val_loss: 0.5655 - val_sparse_categorical_accuracy: 0.8305 - val_sparse_categorical_crossentropy: 0.5655 - lr: 0.0100\n",
      "Epoch 6/200\n",
      "90/90 [==============================] - 15s 152ms/step - loss: 0.5067 - sparse_categorical_accuracy: 0.8401 - sparse_categorical_crossentropy: 0.5067 - val_loss: 0.4898 - val_sparse_categorical_accuracy: 0.8448 - val_sparse_categorical_crossentropy: 0.4898 - lr: 0.0100\n",
      "Epoch 7/200\n",
      "89/90 [============================>.] - ETA: 0s - loss: 0.4350 - sparse_categorical_accuracy: 0.8610 - sparse_categorical_crossentropy: 0.4350\n",
      "Epoch 7: ReduceLROnPlateau reducing learning rate to 0.004999999888241291.\n",
      "90/90 [==============================] - 15s 151ms/step - loss: 0.4350 - sparse_categorical_accuracy: 0.8610 - sparse_categorical_crossentropy: 0.4350 - val_loss: 0.4617 - val_sparse_categorical_accuracy: 0.8495 - val_sparse_categorical_crossentropy: 0.4617 - lr: 0.0100\n",
      "Epoch 8/200\n",
      "90/90 [==============================] - 15s 153ms/step - loss: 0.3731 - sparse_categorical_accuracy: 0.8828 - sparse_categorical_crossentropy: 0.3731 - val_loss: 0.3279 - val_sparse_categorical_accuracy: 0.9005 - val_sparse_categorical_crossentropy: 0.3279 - lr: 0.0050\n",
      "Epoch 9/200\n",
      "90/90 [==============================] - 15s 151ms/step - loss: 0.3011 - sparse_categorical_accuracy: 0.9054 - sparse_categorical_crossentropy: 0.3011 - val_loss: 0.3149 - val_sparse_categorical_accuracy: 0.8991 - val_sparse_categorical_crossentropy: 0.3149 - lr: 0.0050\n",
      "Epoch 10/200\n",
      "90/90 [==============================] - 15s 152ms/step - loss: 0.2852 - sparse_categorical_accuracy: 0.9104 - sparse_categorical_crossentropy: 0.2852 - val_loss: 0.2864 - val_sparse_categorical_accuracy: 0.9108 - val_sparse_categorical_crossentropy: 0.2864 - lr: 0.0050\n",
      "Epoch 11/200\n",
      "90/90 [==============================] - 15s 152ms/step - loss: 0.2755 - sparse_categorical_accuracy: 0.9133 - sparse_categorical_crossentropy: 0.2755 - val_loss: 0.2884 - val_sparse_categorical_accuracy: 0.9090 - val_sparse_categorical_crossentropy: 0.2884 - lr: 0.0050\n",
      "Epoch 12/200\n",
      "30/90 [=========>....................] - ETA: 8s - loss: 0.2880 - sparse_categorical_accuracy: 0.9111 - sparse_categorical_crossentropy: 0.2880"
     ]
    }
   ],
   "source": [
    "TRAINING_SEEDS = list(range(5))\n",
    "for i in range(1, 3):\n",
    "    results = []\n",
    "    EXPERIMENT_NAME = f\"stacked_{i}_lstm\"\n",
    "    if os.path.exists(EXPERIMENT_NAME):\n",
    "        shutil.rmtree(EXPERIMENT_NAME)\n",
    "        os.mkdir(EXPERIMENT_NAME)\n",
    "    else:\n",
    "        os.mkdir(EXPERIMENT_NAME)\n",
    "\n",
    "    for seed in TRAINING_SEEDS:\n",
    "        random.seed(seed)\n",
    "        np.random.seed(seed)\n",
    "        tf.random.set_seed(seed)\n",
    "\n",
    "        model = create_bidirectional_model(i)\n",
    "\n",
    "        model.compile(\n",
    "            optimizer=optimizers.Adam(learning_rate=0.01),\n",
    "            loss=losses.SparseCategoricalCrossentropy(),\n",
    "            metrics=[metrics.SparseCategoricalAccuracy(), metrics.SparseCategoricalCrossentropy()]\n",
    "        )\n",
    "\n",
    "        history = model.fit(\n",
    "            train_ds,\n",
    "            epochs=MAX_EPOCHS,\n",
    "            validation_data=val_ds,\n",
    "            shuffle=True,\n",
    "            callbacks=[early_stopping, reduce_lr]\n",
    "        )\n",
    "\n",
    "        with open(os.path.join(EXPERIMENT_NAME, f\"history_{seed}.pkl\"), \"wb\") as file:\n",
    "            pickle.dump(history.history, file)\n",
    "\n",
    "        eval_results = model.evaluate(test_ds)\n",
    "\n",
    "        predictions = model.predict(test_ds)\n",
    "        with open(os.path.join(EXPERIMENT_NAME, f\"predictions_{seed}.pkl\"), \"wb\") as file:\n",
    "            pickle.dump(predictions, file)\n",
    "\n",
    "        results += [{\n",
    "            'seed': seed,\n",
    "            'results': dict(zip(model.metrics_names, eval_results))\n",
    "        }]\n",
    "        gc.collect()\n",
    "\n",
    "    results_temp = pd.DataFrame(results)\n",
    "    results_df = pd.concat([results_temp.drop([\"results\"], axis=1), results_temp[\"results\"].apply(pd.Series)], axis=1)\n",
    "    results_df.to_csv(os.path.join(EXPERIMENT_NAME, 'results.csv'))"
   ],
   "metadata": {
    "collapsed": false,
    "ExecuteTime": {
     "start_time": "2023-04-23T20:01:19.103808Z",
     "end_time": "2023-04-23T21:34:30.943953Z"
    }
   }
  },
  {
   "cell_type": "code",
   "execution_count": 14,
   "metadata": {
    "ExecuteTime": {
     "start_time": "2023-04-23T20:00:21.367968Z",
     "end_time": "2023-04-23T21:34:30.975846Z"
    }
   },
   "outputs": [],
   "source": [
    "results_df"
   ]
  }
 ],
 "metadata": {
  "kernelspec": {
   "name": "python3",
   "language": "python",
   "display_name": "Python 3 (ipykernel)"
  },
  "language_info": {
   "codemirror_mode": {
    "name": "ipython",
    "version": 3
   },
   "file_extension": ".py",
   "mimetype": "text/x-python",
   "name": "python",
   "nbconvert_exporter": "python",
   "pygments_lexer": "ipython3",
   "version": "3.9.16"
  }
 },
 "nbformat": 4,
 "nbformat_minor": 4
}
